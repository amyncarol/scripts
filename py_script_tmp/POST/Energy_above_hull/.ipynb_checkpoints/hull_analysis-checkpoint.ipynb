{
 "cells": [
  {
   "cell_type": "code",
   "execution_count": 9,
   "metadata": {
    "collapsed": false
   },
   "outputs": [],
   "source": [
    "from pymatgen.io.vasp.outputs import Vasprun\n",
    "from pymatgen import MPRester\n",
    "from pymatgen.entries.compatibility import MaterialsProjectCompatibility\n",
    "from pymatgen.phasediagram.maker import PhaseDiagram\n",
    "from pymatgen.phasediagram.analyzer import PDAnalyzer\n",
    "\n",
    "def get_e_above_hull(v):\n",
    "    \"\"\" \n",
    "    Get e_above_hull for the input vasprun\n",
    "    \"\"\"\n",
    "    entry = v.get_computed_entry()\n",
    "\n",
    "    compat = MaterialsProjectCompatibility()\n",
    "    entry = compat.process_entry(entry)\n",
    "\n",
    "\n",
    "    el = [specie.symbol for specie in entry.composition.keys()]\n",
    "    with MPRester(api_key=\"64JmsIV32c8lUaxu\") as mpr:\n",
    "        entries = mpr.get_entries_in_chemsys(el)\n",
    "    entries.append(entry)\n",
    "    pd = PhaseDiagram(entries)\n",
    "    a = PDAnalyzer(pd)\n",
    "    if 2 not in [len(i.composition) for i in entries]:\n",
    "        print([i.name for i in entries])\n",
    "    return a.get_decomp_and_e_above_hull(entry)"
   ]
  },
  {
   "cell_type": "code",
   "execution_count": 10,
   "metadata": {
    "collapsed": false
   },
   "outputs": [],
   "source": [
    "import re\n",
    "def _addlatex(matched):\n",
    "        string = matched.group(\"number\"); \n",
    "        string = \"$_\" + string + \"$\" \n",
    "        return string;\n",
    "def convert_formula_latex(pretty_formula):\n",
    "    return re.sub(\"(?P<number>\\d+)\", _addlatex, pretty_formula)\n",
    "\n",
    "\n",
    "def convert_symbol_latex(symbol):\n",
    "    if symbol == 'Fm-3m':\n",
    "        return r'Fm$\\bar{3}$m'\n",
    "    elif symbol == 'P2_1/c':\n",
    "        return r'P2$_{1}$/c'\n",
    "    else:\n",
    "        return symbol"
   ]
  },
  {
   "cell_type": "code",
   "execution_count": 11,
   "metadata": {
    "collapsed": false
   },
   "outputs": [
    {
     "name": "stdout",
     "output_type": "stream",
     "text": [
      "('K$_2$SiCl$_6$', 69, 'SiCl$_4$ + KCl')\n",
      "('K$_2$SiBr$_6$', 100, 'KBr + SiBr$_4$')\n",
      "('K$_2$SiI$_6$', 150, 'KI + SiI$_4$')\n",
      "('K$_2$GeCl$_6$', 33, 'KCl + GeCl$_4$')\n"
     ]
    },
    {
     "name": "stderr",
     "output_type": "stream",
     "text": [
      "//anaconda/lib/python3.5/site-packages/pymatgen/io/vasp/outputs.py:149: UserWarning: Float overflow (*******) encountered in vasprun\n",
      "  warnings.warn('Float overflow (*******) encountered in vasprun')\n"
     ]
    },
    {
     "name": "stdout",
     "output_type": "stream",
     "text": [
      "('K$_2$GeBr$_6$', 72, 'GeBr$_4$ + KBr')\n",
      "('K$_2$GeI$_6$', 117, 'KI + GeI$_4$')\n",
      "P2_1/c\n",
      "('K$_2$SnCl$_6$', 7, 'K$_2$SnCl$_6$ (P2$_{1}$/c)')\n",
      "P2_1/c\n",
      "('K$_2$SnBr$_6$', 13, 'K$_2$SnBr$_6$ (P2$_{1}$/c)')\n",
      "('K$_2$SnI$_6$', 48, 'SnI$_4$ + KI')\n",
      "('K$_2$PbCl$_6$', 0, '')\n",
      "('K$_2$PbBr$_6$', 53, 'Br + KPb$_2$Br$_5$ + KBr')\n",
      "('K$_2$PbI$_6$', 152, 'PbI$_2$ + KI + I')\n",
      "('K$_2$NiCl$_6$', 0, '')\n",
      "('K$_2$NiBr$_6$', 0, '')\n",
      "('K$_2$NiI$_6$', 40, 'NiI$_2$ + I + KI')\n",
      "('K$_2$PdCl$_6$', 0, '')\n",
      "('K$_2$PdBr$_6$', 0, '')\n",
      "('K$_2$PdI$_6$', 27, 'PdI$_2$ + KI + I')\n",
      "('K$_2$PtCl$_6$', 0, '')\n",
      "('K$_2$PtBr$_6$', 0, '')\n",
      "P4/mnc\n",
      "('K$_2$PtI$_6$', 12, 'K$_2$PtI$_6$ (P4/mnc)')\n",
      "('K$_2$SeCl$_6$', 0, '')\n",
      "Fm-3m\n",
      "('K$_2$SeBr$_6$', 0, 'K$_2$SeBr$_6$ (Fm$\\\\bar{3}$m)')\n",
      "('K$_2$SeI$_6$', 26, 'KI + I + Se')\n",
      "('K$_2$TeCl$_6$', 0, '')\n",
      "P2_1/c\n",
      "('K$_2$TeBr$_6$', 23, 'K$_2$TeBr$_6$ (P2$_{1}$/c)')\n",
      "P2_1/c\n",
      "('K$_2$TeI$_6$', 31, 'K$_2$TeI$_6$ (P2$_{1}$/c)')\n",
      "('Rb$_2$SiCl$_6$', 42, 'SiCl$_4$ + RbCl')\n",
      "('Rb$_2$SiBr$_6$', 72, 'RbBr + SiBr$_4$')\n",
      "('Rb$_2$SiI$_6$', 109, 'RbI + SiI$_4$')\n",
      "('Rb$_2$GeCl$_6$', 3, 'RbCl + GeCl$_4$')\n",
      "('Rb$_2$GeBr$_6$', 40, 'GeBr$_4$ + RbBr')\n",
      "('Rb$_2$GeI$_6$', 86, 'RbI + GeI$_4$')\n",
      "('Rb$_2$SnCl$_6$', 0, '')\n",
      "('Rb$_2$SnBr$_6$', 0, '')\n",
      "('Rb$_2$SnI$_6$', 12, 'RbI + SnI$_4$')\n",
      "('Rb$_2$PbCl$_6$', 0, '')\n",
      "('Rb$_2$PbBr$_6$', 30, 'RbPbBr$_3$ + Br + Rb$_4$PbBr$_6$')\n",
      "('Rb$_2$PbI$_6$', 134, 'RbPbI$_3$ + RbI$_3$')\n",
      "('Rb$_2$NiCl$_6$', 0, '')\n",
      "('Rb$_2$NiBr$_6$', 0, '')\n",
      "('Rb$_2$NiI$_6$', 74, 'NiI$_2$ + RbI$_3$ + RbI')\n",
      "('Rb$_2$PdCl$_6$', 0, '')\n",
      "Fm-3m\n",
      "('Rb$_2$PdBr$_6$', 1, 'Rb$_2$PdBr$_6$ (Fm$\\\\bar{3}$m)')\n",
      "('Rb$_2$PdI$_6$', 16, 'RbI + PdI$_2$ + RbI$_3$')\n",
      "('Rb$_2$PtCl$_6$', 0, '')\n",
      "('Rb$_2$PtBr$_6$', 0, '')\n",
      "('Rb$_2$PtI$_6$', 0, '')\n",
      "('Rb$_2$SeCl$_6$', 0, '')\n",
      "('Rb$_2$SeBr$_6$', 0, '')\n",
      "('Rb$_2$SeI$_6$', 27, 'RbI$_3$ + Se')\n",
      "('Rb$_2$TeCl$_6$', 0, '')\n",
      "I4/m\n",
      "('Rb$_2$TeBr$_6$', 1, 'Rb$_2$TeBr$_6$ (I4/m)')\n",
      "P4/mnc\n",
      "('Rb$_2$TeI$_6$', 6, 'Rb$_2$TeI$_6$ (P4/mnc)')\n",
      "('Cs$_2$SiCl$_6$', 22, 'SiCl$_4$ + CsCl')\n",
      "('Cs$_2$SiBr$_6$', 50, 'SiBr$_4$ + CsBr')\n",
      "('Cs$_2$SiI$_6$', 83, 'SiI$_4$ + CsI')\n",
      "('Cs$_2$GeCl$_6$', 0, '')\n",
      "('Cs$_2$GeBr$_6$', 16, 'GeBr$_4$ + CsBr')\n",
      "('Cs$_2$GeI$_6$', 59, 'CsI + GeI$_4$')\n",
      "('Cs$_2$SnCl$_6$', 0, '')\n",
      "('Cs$_2$SnBr$_6$', 0, '')\n",
      "('Cs$_2$SnI$_6$', 0, '')\n",
      "Fm-3m\n",
      "('Cs$_2$PbCl$_6$', 21, 'Cs$_2$PbCl$_6$ (Fm$\\\\bar{3}$m)')\n",
      "('Cs$_2$PbBr$_6$', 44, 'CsBr$_3$ + CsPbBr$_3$')\n",
      "('Cs$_2$PbI$_6$', 137, 'CsI$_3$ + CsPbI$_3$')\n",
      "('Cs$_2$NiCl$_6$', 0, '')\n",
      "('Cs$_2$NiBr$_6$', 18, 'CsBr + CsBr$_3$ + NiBr$_2$')\n",
      "('Cs$_2$NiI$_6$', 29, 'CsI$_3$ + NiI$_2$ + CsI')\n",
      "('Cs$_2$PdCl$_6$', 0, '')\n",
      "('Cs$_2$PdBr$_6$', 0, '')\n",
      "('Cs$_2$PdI$_6$', 5, 'CsI$_3$ + PdI$_2$ + CsI')\n",
      "('Cs$_2$PtCl$_6$', 0, '')\n",
      "('Cs$_2$PtBr$_6$', 0, '')\n",
      "('Cs$_2$PtI$_6$', 0, '')\n",
      "('Cs$_2$SeCl$_6$', 0, '')\n",
      "('Cs$_2$SeBr$_6$', 0, '')\n",
      "('Cs$_2$SeI$_6$', 20, 'CsI$_3$ + Se')\n",
      "Fm-3m\n",
      "('Cs$_2$TeCl$_6$', 0, 'Cs$_2$TeCl$_6$ (Fm$\\\\bar{3}$m)')\n",
      "('Cs$_2$TeBr$_6$', 0, '')\n",
      "Fm-3m\n",
      "('Cs$_2$TeI$_6$', 3, 'Cs$_2$TeI$_6$ (Fm$\\\\bar{3}$m)')\n"
     ]
    }
   ],
   "source": [
    "import numpy as np\n",
    "folder_base = '/Users/yao/Google Drive/data/216/vasprun-files/'\n",
    "data_list = []\n",
    "\n",
    "for A in ['K','Rb','Cs']:\n",
    "    for B in ['Si', 'Ge','Sn', 'Pb','Ni','Pd','Pt','Se','Te']:\n",
    "        for X in ['Cl', 'Br', 'I']:\n",
    "            \n",
    "            comp = A+'2'+B+'1'+X+'6'\n",
    "            comp_reduced = A+'2'+B+X+'6'\n",
    "            v = Vasprun(folder_base + comp + '/vasprun.xml')\n",
    "            tu = get_e_above_hull(v)\n",
    "            decomp_string = \"\"\n",
    "            \n",
    "            if tu[1] > 0:\n",
    "                n = 0\n",
    "                for i in tu[0]:\n",
    "                    if  n > 0:\n",
    "                        decomp_string += \" + \"\n",
    "                    mpid = i.entry_id\n",
    "                    formula = i.composition.reduced_formula\n",
    "                    decomp_string += convert_formula_latex(formula)\n",
    "                    if formula == A+'2'+B+X+'6':\n",
    "                        with MPRester(\"64JmsIV32c8lUaxu\") as m:\n",
    "                            spacegroup = m.query(criteria = {\"material_id\": mpid}, properties=[\"spacegroup.symbol\"])[0]['spacegroup.symbol']\n",
    "                            print(spacegroup)\n",
    "                            decomp_string += \" (\"+convert_symbol_latex(spacegroup)+\")\"\n",
    "                    n += 1\n",
    "            item = (convert_formula_latex(comp_reduced), int(tu[1]*1000), decomp_string)\n",
    "            data_list.append(item)\n",
    "            print(item)\n",
    "\n",
    "\n"
   ]
  },
  {
   "cell_type": "code",
   "execution_count": 12,
   "metadata": {
    "collapsed": false
   },
   "outputs": [],
   "source": [
    "import pandas as pd\n",
    "data_list\n",
    "labels = ['Compound', 'Energy above hull(meV)', 'Decomposition path']\n",
    "df = pd.DataFrame.from_records(data_list, columns=labels)"
   ]
  },
  {
   "cell_type": "code",
   "execution_count": 13,
   "metadata": {
    "collapsed": false
   },
   "outputs": [
    {
     "name": "stdout",
     "output_type": "stream",
     "text": [
      "\\begin{tabular}{lrl}\n",
      "\\toprule\n",
      "       Compound &  Energy above hull(meV) &                Decomposition path \\\\\n",
      "\\midrule\n",
      "  K$_2$SiCl$_6$ &                      69 &                    SiCl$_4$ + KCl \\\\\n",
      "  K$_2$SiBr$_6$ &                     100 &                    KBr + SiBr$_4$ \\\\\n",
      "   K$_2$SiI$_6$ &                     150 &                      KI + SiI$_4$ \\\\\n",
      "  K$_2$GeCl$_6$ &                      33 &                    KCl + GeCl$_4$ \\\\\n",
      "  K$_2$GeBr$_6$ &                      72 &                    GeBr$_4$ + KBr \\\\\n",
      "   K$_2$GeI$_6$ &                     117 &                      KI + GeI$_4$ \\\\\n",
      "  K$_2$SnCl$_6$ &                       7 &        K$_2$SnCl$_6$ (P2$_{1}$/c) \\\\\n",
      "  K$_2$SnBr$_6$ &                      13 &        K$_2$SnBr$_6$ (P2$_{1}$/c) \\\\\n",
      "   K$_2$SnI$_6$ &                      48 &                      SnI$_4$ + KI \\\\\n",
      "  K$_2$PbCl$_6$ &                       0 &                                   \\\\\n",
      "  K$_2$PbBr$_6$ &                      53 &          Br + KPb$_2$Br$_5$ + KBr \\\\\n",
      "   K$_2$PbI$_6$ &                     152 &                  PbI$_2$ + KI + I \\\\\n",
      "  K$_2$NiCl$_6$ &                       0 &                                   \\\\\n",
      "  K$_2$NiBr$_6$ &                       0 &                                   \\\\\n",
      "   K$_2$NiI$_6$ &                      40 &                  NiI$_2$ + I + KI \\\\\n",
      "  K$_2$PdCl$_6$ &                       0 &                                   \\\\\n",
      "  K$_2$PdBr$_6$ &                       0 &                                   \\\\\n",
      "   K$_2$PdI$_6$ &                      27 &                  PdI$_2$ + KI + I \\\\\n",
      "  K$_2$PtCl$_6$ &                       0 &                                   \\\\\n",
      "  K$_2$PtBr$_6$ &                       0 &                                   \\\\\n",
      "   K$_2$PtI$_6$ &                      12 &             K$_2$PtI$_6$ (P4/mnc) \\\\\n",
      "  K$_2$SeCl$_6$ &                       0 &                                   \\\\\n",
      "  K$_2$SeBr$_6$ &                       0 &      K$_2$SeBr$_6$ (Fm$\\bar{3}$m) \\\\\n",
      "   K$_2$SeI$_6$ &                      26 &                       KI + I + Se \\\\\n",
      "  K$_2$TeCl$_6$ &                       0 &                                   \\\\\n",
      "  K$_2$TeBr$_6$ &                      23 &        K$_2$TeBr$_6$ (P2$_{1}$/c) \\\\\n",
      "   K$_2$TeI$_6$ &                      31 &         K$_2$TeI$_6$ (P2$_{1}$/c) \\\\\n",
      " Rb$_2$SiCl$_6$ &                      42 &                   SiCl$_4$ + RbCl \\\\\n",
      " Rb$_2$SiBr$_6$ &                      72 &                   RbBr + SiBr$_4$ \\\\\n",
      "  Rb$_2$SiI$_6$ &                     109 &                     RbI + SiI$_4$ \\\\\n",
      " Rb$_2$GeCl$_6$ &                       3 &                   RbCl + GeCl$_4$ \\\\\n",
      " Rb$_2$GeBr$_6$ &                      40 &                   GeBr$_4$ + RbBr \\\\\n",
      "  Rb$_2$GeI$_6$ &                      86 &                     RbI + GeI$_4$ \\\\\n",
      " Rb$_2$SnCl$_6$ &                       0 &                                   \\\\\n",
      " Rb$_2$SnBr$_6$ &                       0 &                                   \\\\\n",
      "  Rb$_2$SnI$_6$ &                      12 &                     RbI + SnI$_4$ \\\\\n",
      " Rb$_2$PbCl$_6$ &                       0 &                                   \\\\\n",
      " Rb$_2$PbBr$_6$ &                      30 &  RbPbBr$_3$ + Br + Rb$_4$PbBr$_6$ \\\\\n",
      "  Rb$_2$PbI$_6$ &                     134 &               RbPbI$_3$ + RbI$_3$ \\\\\n",
      " Rb$_2$NiCl$_6$ &                       0 &                                   \\\\\n",
      " Rb$_2$NiBr$_6$ &                       0 &                                   \\\\\n",
      "  Rb$_2$NiI$_6$ &                      74 &           NiI$_2$ + RbI$_3$ + RbI \\\\\n",
      " Rb$_2$PdCl$_6$ &                       0 &                                   \\\\\n",
      " Rb$_2$PdBr$_6$ &                       1 &     Rb$_2$PdBr$_6$ (Fm$\\bar{3}$m) \\\\\n",
      "  Rb$_2$PdI$_6$ &                      16 &           RbI + PdI$_2$ + RbI$_3$ \\\\\n",
      " Rb$_2$PtCl$_6$ &                       0 &                                   \\\\\n",
      " Rb$_2$PtBr$_6$ &                       0 &                                   \\\\\n",
      "  Rb$_2$PtI$_6$ &                       0 &                                   \\\\\n",
      " Rb$_2$SeCl$_6$ &                       0 &                                   \\\\\n",
      " Rb$_2$SeBr$_6$ &                       0 &                                   \\\\\n",
      "  Rb$_2$SeI$_6$ &                      27 &                      RbI$_3$ + Se \\\\\n",
      " Rb$_2$TeCl$_6$ &                       0 &                                   \\\\\n",
      " Rb$_2$TeBr$_6$ &                       1 &             Rb$_2$TeBr$_6$ (I4/m) \\\\\n",
      "  Rb$_2$TeI$_6$ &                       6 &            Rb$_2$TeI$_6$ (P4/mnc) \\\\\n",
      " Cs$_2$SiCl$_6$ &                      22 &                   SiCl$_4$ + CsCl \\\\\n",
      " Cs$_2$SiBr$_6$ &                      50 &                   SiBr$_4$ + CsBr \\\\\n",
      "  Cs$_2$SiI$_6$ &                      83 &                     SiI$_4$ + CsI \\\\\n",
      " Cs$_2$GeCl$_6$ &                       0 &                                   \\\\\n",
      " Cs$_2$GeBr$_6$ &                      16 &                   GeBr$_4$ + CsBr \\\\\n",
      "  Cs$_2$GeI$_6$ &                      59 &                     CsI + GeI$_4$ \\\\\n",
      " Cs$_2$SnCl$_6$ &                       0 &                                   \\\\\n",
      " Cs$_2$SnBr$_6$ &                       0 &                                   \\\\\n",
      "  Cs$_2$SnI$_6$ &                       0 &                                   \\\\\n",
      " Cs$_2$PbCl$_6$ &                      21 &     Cs$_2$PbCl$_6$ (Fm$\\bar{3}$m) \\\\\n",
      " Cs$_2$PbBr$_6$ &                      44 &             CsBr$_3$ + CsPbBr$_3$ \\\\\n",
      "  Cs$_2$PbI$_6$ &                     137 &               CsI$_3$ + CsPbI$_3$ \\\\\n",
      " Cs$_2$NiCl$_6$ &                       0 &                                   \\\\\n",
      " Cs$_2$NiBr$_6$ &                      18 &        CsBr + CsBr$_3$ + NiBr$_2$ \\\\\n",
      "  Cs$_2$NiI$_6$ &                      29 &           CsI$_3$ + NiI$_2$ + CsI \\\\\n",
      " Cs$_2$PdCl$_6$ &                       0 &                                   \\\\\n",
      " Cs$_2$PdBr$_6$ &                       0 &                                   \\\\\n",
      "  Cs$_2$PdI$_6$ &                       5 &           CsI$_3$ + PdI$_2$ + CsI \\\\\n",
      " Cs$_2$PtCl$_6$ &                       0 &                                   \\\\\n",
      " Cs$_2$PtBr$_6$ &                       0 &                                   \\\\\n",
      "  Cs$_2$PtI$_6$ &                       0 &                                   \\\\\n",
      " Cs$_2$SeCl$_6$ &                       0 &                                   \\\\\n",
      " Cs$_2$SeBr$_6$ &                       0 &                                   \\\\\n",
      "  Cs$_2$SeI$_6$ &                      20 &                      CsI$_3$ + Se \\\\\n",
      " Cs$_2$TeCl$_6$ &                       0 &     Cs$_2$TeCl$_6$ (Fm$\\bar{3}$m) \\\\\n",
      " Cs$_2$TeBr$_6$ &                       0 &                                   \\\\\n",
      "  Cs$_2$TeI$_6$ &                       3 &      Cs$_2$TeI$_6$ (Fm$\\bar{3}$m) \\\\\n",
      "\\bottomrule\n",
      "\\end{tabular}\n",
      "\n"
     ]
    }
   ],
   "source": [
    "print(df.to_latex(escape = False, index=False))"
   ]
  },
  {
   "cell_type": "code",
   "execution_count": 18,
   "metadata": {
    "collapsed": false
   },
   "outputs": [
    {
     "data": {
      "text/plain": [
       "69"
      ]
     },
     "execution_count": 18,
     "metadata": {},
     "output_type": "execute_result"
    }
   ],
   "source": [
    "with open('/Users/yao/Google Drive/data/216/vasprun-files/hull','w') as f:\n",
    "    i = 0\n",
    "    for A in ['K','Rb','Cs']:\n",
    "        for B in ['Si', 'Ge','Sn', 'Pb','Ni','Pd','Pt','Se','Te']:\n",
    "            for X in ['Cl', 'Br', 'I']:\n",
    "                f.write(A +' ' +B+' '+C+' '+df['Energy above hull(meV)'][i]+'\\n')\n",
    "                i += 1\n",
    "                \n",
    "            \n"
   ]
  },
  {
   "cell_type": "code",
   "execution_count": null,
   "metadata": {
    "collapsed": true
   },
   "outputs": [],
   "source": []
  }
 ],
 "metadata": {
  "anaconda-cloud": {},
  "kernelspec": {
   "display_name": "Python [conda root]",
   "language": "python",
   "name": "conda-root-py"
  },
  "language_info": {
   "codemirror_mode": {
    "name": "ipython",
    "version": 3
   },
   "file_extension": ".py",
   "mimetype": "text/x-python",
   "name": "python",
   "nbconvert_exporter": "python",
   "pygments_lexer": "ipython3",
   "version": "3.5.2"
  }
 },
 "nbformat": 4,
 "nbformat_minor": 1
}
