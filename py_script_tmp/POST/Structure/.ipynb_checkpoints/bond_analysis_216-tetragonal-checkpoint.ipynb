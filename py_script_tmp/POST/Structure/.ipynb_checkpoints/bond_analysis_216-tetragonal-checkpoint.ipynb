{
 "cells": [
  {
   "cell_type": "code",
   "execution_count": 84,
   "metadata": {
    "collapsed": false
   },
   "outputs": [],
   "source": [
    "from pymatgen.symmetry.analyzer import SpacegroupAnalyzer\n",
    "from pymatgen.io.vasp.inputs import Poscar\n",
    "from pymatgen.io.vasp.outputs import Vasprun\n",
    "from pymatgen.core.structure import IStructure\n",
    "from pymatgen.core.periodic_table import Specie\n",
    "from pymatgen.core.periodic_table import Element\n",
    "from math import sqrt\n",
    "\n"
   ]
  },
  {
   "cell_type": "code",
   "execution_count": 85,
   "metadata": {
    "collapsed": false
   },
   "outputs": [
    {
     "name": "stderr",
     "output_type": "stream",
     "text": [
      "//anaconda/lib/python3.5/site-packages/pymatgen/io/vasp/outputs.py:814: UserWarning: No POTCAR file with matching TITEL fields was found in /Users/yao/Google Drive/data/216/cubic-hse/Cs2Te1I6\n",
      "  \" was found in {}\".format(os.path.abspath(p)))\n"
     ]
    }
   ],
   "source": [
    "vr = Vasprun(\"/Users/yao/Google Drive/data/216/cubic-hse/Cs2Te1I6/vasprun.xml\")"
   ]
  },
  {
   "cell_type": "code",
   "execution_count": 86,
   "metadata": {
    "collapsed": false
   },
   "outputs": [],
   "source": [
    "struct = vr.final_structure\n"
   ]
  },
  {
   "cell_type": "code",
   "execution_count": 87,
   "metadata": {
    "collapsed": false
   },
   "outputs": [],
   "source": [
    "sa = SpacegroupAnalyzer(structure=struct)"
   ]
  },
  {
   "cell_type": "code",
   "execution_count": 88,
   "metadata": {
    "collapsed": false
   },
   "outputs": [],
   "source": [
    "#sa.get_spacegroup_symbol()"
   ]
  },
  {
   "cell_type": "code",
   "execution_count": 89,
   "metadata": {
    "collapsed": false
   },
   "outputs": [
    {
     "data": {
      "text/plain": [
       "4.9112660915183497"
      ]
     },
     "execution_count": 89,
     "metadata": {},
     "output_type": "execute_result"
    }
   ],
   "source": [
    "a = struct.lattice.a\n",
    "radius = a/sqrt(3)\n",
    "radius"
   ]
  },
  {
   "cell_type": "code",
   "execution_count": 90,
   "metadata": {
    "collapsed": false
   },
   "outputs": [
    {
     "name": "stdout",
     "output_type": "stream",
     "text": [
      "[ 8.50656387  9.82253314  1.7363948 ] Cs 4.25406320295\n",
      "\n",
      "\n",
      "[  1.27598446e+01   7.36689979e+00  -2.00000000e-08] Te 2.92596140325\n",
      "\n",
      "\n",
      "[ 14.82881171   6.17238103   1.6893046 ] I 4.13793425543\n",
      "\n",
      "\n",
      "[ 6.32224931  6.17238104  1.68930461] I 4.36862814457\n",
      "\n",
      "\n",
      "2.92596140325\n"
     ]
    }
   ],
   "source": [
    "(site1, dist1) = struct.get_neighbors(struct.sites[3], r=radius)[0] #Cs-I\n",
    "print (site1, dist1)\n",
    "print (\"\\n\")\n",
    "(site2, dist2) = struct.get_neighbors(struct.sites[3], r=radius)[4]  #Sn-I\n",
    "print (site2, dist2)\n",
    "print (\"\\n\")\n",
    "(site3, dist3) = struct.get_neighbors(struct.sites[3], r=radius)[12] # oct I-I\n",
    "print (site3, dist3)\n",
    "print (\"\\n\")\n",
    "(site4, dist4) = struct.get_neighbors(struct.sites[3], r=radius)[11] # inter I-I\n",
    "print (site4, dist4)\n",
    "print (\"\\n\")\n",
    "\n",
    "A_X = dist1\n",
    "B_X = dist2\n",
    "X_X_oct = dist3\n",
    "X_X_inter = dist4\n",
    "print(B_X)"
   ]
  },
  {
   "cell_type": "code",
   "execution_count": 91,
   "metadata": {
    "collapsed": false
   },
   "outputs": [
    {
     "data": {
      "text/plain": [
       "'Cs'"
      ]
     },
     "execution_count": 91,
     "metadata": {},
     "output_type": "execute_result"
    }
   ],
   "source": [
    "site1.specie.name"
   ]
  },
  {
   "cell_type": "code",
   "execution_count": 92,
   "metadata": {
    "collapsed": false
   },
   "outputs": [
    {
     "ename": "SyntaxError",
     "evalue": "Missing parentheses in call to 'print' (<ipython-input-92-d63ceb009f4c>, line 9)",
     "output_type": "error",
     "traceback": [
      "\u001b[0;36m  File \u001b[0;32m\"<ipython-input-92-d63ceb009f4c>\"\u001b[0;36m, line \u001b[0;32m9\u001b[0m\n\u001b[0;31m    print A_radius, B_radius, X_radius\u001b[0m\n\u001b[0m                 ^\u001b[0m\n\u001b[0;31mSyntaxError\u001b[0m\u001b[0;31m:\u001b[0m Missing parentheses in call to 'print'\n"
     ]
    }
   ],
   "source": [
    "A_size_list = {'Li':1.13, 'Na':1.39, 'K':1.64, 'Rb':1.72, 'Cs':1.88}   #12 coodination\n",
    "B_size_list = {'Si':0.4, 'Ge':0.53, 'Sn':0.69, 'Pb':0.775, 'Ni':0.48, 'Pd':0.615, 'Pt':0.625, 'Se':0.5, 'Te':0.97} #6 coodination\n",
    "X_size_list = {'F':1.33,'Cl':1.81,'Br':1.96,'I':2.2}   #2+4=6 coodination\n",
    "\n",
    "A_radius = A_size_list[site1.specie.name]\n",
    "B_radius = B_size_list[site2.specie.name]\n",
    "X_radius = X_size_list[site3.specie.name]\n",
    "\n",
    "print A_radius, B_radius, X_radius"
   ]
  },
  {
   "cell_type": "code",
   "execution_count": null,
   "metadata": {
    "collapsed": false
   },
   "outputs": [],
   "source": [
    "cavity_radius = X_X_oct/2+X_X_inter/2-X_radius\n",
    "radius_ratio = A_radius/(cavity_radius)\n",
    "octahedron_factor = B_radius/X_radius\n",
    "print radius_ratio\n",
    "print cavity_radius\n",
    "print octahedron_factor"
   ]
  },
  {
   "cell_type": "code",
   "execution_count": null,
   "metadata": {
    "collapsed": false
   },
   "outputs": [],
   "source": []
  },
  {
   "cell_type": "code",
   "execution_count": null,
   "metadata": {
    "collapsed": false
   },
   "outputs": [],
   "source": []
  },
  {
   "cell_type": "code",
   "execution_count": null,
   "metadata": {
    "collapsed": true
   },
   "outputs": [],
   "source": []
  }
 ],
 "metadata": {
  "anaconda-cloud": {},
  "kernelspec": {
   "display_name": "Python [conda root]",
   "language": "python",
   "name": "conda-root-py"
  },
  "language_info": {
   "codemirror_mode": {
    "name": "ipython",
    "version": 3
   },
   "file_extension": ".py",
   "mimetype": "text/x-python",
   "name": "python",
   "nbconvert_exporter": "python",
   "pygments_lexer": "ipython3",
   "version": "3.5.2"
  }
 },
 "nbformat": 4,
 "nbformat_minor": 1
}
