{
 "cells": [
  {
   "cell_type": "code",
   "execution_count": 135,
   "metadata": {
    "collapsed": true
   },
   "outputs": [],
   "source": [
    "import pandas as pd\n",
    "from pymatgen.core.periodic_table import Element"
   ]
  },
  {
   "cell_type": "code",
   "execution_count": 136,
   "metadata": {
    "collapsed": false
   },
   "outputs": [],
   "source": [
    "df = pd.read_csv('/Users/yao/Google Drive/data/2116/2116 figure/screening-list/all.csv', \\\n",
    "            names = ['A', 'B1', 'B2', 'X', 'TOF', 'TOF at B1', 'TOF at B2', 'OF at B1', 'OF at B2'])\n"
   ]
  },
  {
   "cell_type": "code",
   "execution_count": 137,
   "metadata": {
    "collapsed": false
   },
   "outputs": [
    {
     "name": "stderr",
     "output_type": "stream",
     "text": [
      "//anaconda/envs/216paper/lib/python3.5/site-packages/ipykernel/__main__.py:3: SettingWithCopyWarning: \n",
      "A value is trying to be set on a copy of a slice from a DataFrame.\n",
      "Try using .loc[row_indexer,col_indexer] = value instead\n",
      "\n",
      "See the caveats in the documentation: http://pandas.pydata.org/pandas-docs/stable/indexing.html#indexing-view-versus-copy\n",
      "  app.launch_new_instance()\n"
     ]
    }
   ],
   "source": [
    "lanthanoid = [Element.from_Z(z).symbol for z in range(1, 100) if Element.from_Z(z).is_lanthanoid]\n",
    "new_df = df[~df['B2'].isin(lanthanoid)]\n",
    "new_df['AB1B2X']=new_df['A']+new_df['B1']+new_df['B2']+new_df['X']"
   ]
  },
  {
   "cell_type": "code",
   "execution_count": 138,
   "metadata": {
    "collapsed": false
   },
   "outputs": [],
   "source": [
    "def get_finished():\n",
    "    A=['K','Rb','Cs']\n",
    "    B=['Ag','Cu','K','Na','Li']\n",
    "    C=['Bi','Sb','Ce','Pr','Nd','Ta','Mo','Y']\n",
    "    D=['F','Cl','Br','I']\n",
    "    list1 = []\n",
    "    for a in A:\n",
    "        for b in B:\n",
    "            for c in C:\n",
    "                for d in D:\n",
    "                    list1.append(a+b+c+d)\n",
    "                    \n",
    "                    \n",
    "    with open('/Users/yao/Google Drive/data/2116/screen_list_Cl','r') as f:\n",
    "        for line in f:\n",
    "            list1.append(line.split(' ')[0]+line.split(' ')[1]+line.split(' ')[2]+line.split(' ')[3].replace('\\n', ''))\n",
    "    return set(list1)"
   ]
  },
  {
   "cell_type": "code",
   "execution_count": 139,
   "metadata": {
    "collapsed": false
   },
   "outputs": [],
   "source": [
    "compute_df = new_df[~new_df['AB1B2X'].isin(get_finished())]"
   ]
  },
  {
   "cell_type": "code",
   "execution_count": 159,
   "metadata": {
    "collapsed": false
   },
   "outputs": [],
   "source": [
    "compute_df.to_csv('/Users/yao/Google Drive/data/2116/screen_list_FBrI', \\\n",
    "                  sep=' ',columns=['A','B1','B2','X'],  header=False, index=False)"
   ]
  },
  {
   "cell_type": "code",
   "execution_count": null,
   "metadata": {
    "collapsed": true
   },
   "outputs": [],
   "source": []
  }
 ],
 "metadata": {
  "anaconda-cloud": {},
  "kernelspec": {
   "display_name": "Python [conda env:216paper]",
   "language": "python",
   "name": "conda-env-216paper-py"
  },
  "language_info": {
   "codemirror_mode": {
    "name": "ipython",
    "version": 3
   },
   "file_extension": ".py",
   "mimetype": "text/x-python",
   "name": "python",
   "nbconvert_exporter": "python",
   "pygments_lexer": "ipython3",
   "version": "3.5.2"
  }
 },
 "nbformat": 4,
 "nbformat_minor": 1
}
