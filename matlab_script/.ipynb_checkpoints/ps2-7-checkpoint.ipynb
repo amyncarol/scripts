{
 "cells": [
  {
   "cell_type": "markdown",
   "metadata": {},
   "source": [
    "# Problem7-(a)\n",
    "### Suppose m>n, let's create a banded matrix A and do qr factorization and see what happens:"
   ]
  },
  {
   "cell_type": "code",
   "execution_count": 17,
   "metadata": {
    "collapsed": false
   },
   "outputs": [
    {
     "name": "stdout",
     "output_type": "stream",
     "text": [
      "A =\n",
      "\n",
      "   -0.5320   -0.2741   -1.5062   -1.2507         0\n",
      "    1.6821    1.5301   -0.4446   -0.9480    1.2424\n",
      "   -0.8757   -0.2490   -0.1559   -0.7411   -1.0667\n",
      "         0   -1.0642    0.2761   -0.5078    0.9337\n",
      "         0         0   -0.2612   -0.3206    0.3503\n",
      "         0         0         0    0.0125   -0.0290\n",
      "         0         0         0         0    0.1825\n",
      "\n",
      "\n",
      "Q =\n",
      "\n",
      "   -0.2701   -0.1094    0.9340    0.1362    0.1251   -0.0161    0.0904\n",
      "    0.8540   -0.2177    0.2659   -0.3843    0.0566   -0.0018    0.0407\n",
      "   -0.4446   -0.3517   -0.0566   -0.8208    0.0328    0.0063    0.0233\n",
      "         0    0.9038    0.1551   -0.3955    0.0415    0.0001    0.0298\n",
      "         0         0    0.1720   -0.0592   -0.7935    0.0920   -0.5734\n",
      "         0         0         0    0.0122    0.0930    0.9951    0.0297\n",
      "         0         0         0         0   -0.5831    0.0302    0.8118\n",
      "\n",
      "\n",
      "R =\n",
      "\n",
      "    1.9696    1.4915    0.0964   -0.1423    1.5354\n",
      "         0   -1.1774    0.5659    0.1448    0.9486\n",
      "         0         0   -1.5184   -1.5122    0.5959\n",
      "         0         0         0    1.0222    0.0078\n",
      "         0         0         0         0   -0.3129\n",
      "         0         0         0         0         0\n",
      "         0         0         0         0         0\n"
     ]
    }
   ],
   "source": [
    "m = 7;\n",
    "n = 5;\n",
    "p = 2;\n",
    "q = 3;\n",
    "A = triu(tril(randn(m,n),q),-p)\n",
    "[Q, R] = qr(A)"
   ]
  },
  {
   "cell_type": "markdown",
   "metadata": {},
   "source": [
    "## Reasoning\n",
    "If we analyse the sparsity of matrix $A$ we can find that, each $a_j$ only lives in the $j+p$ dimensional subspace, so the range $(a_1, a_2, ..., a_j)$ will be the $j+p$ dimensional subspace. So $q_j (j<=n)$ also lives in the $j+p$ dimensional subspace, and so $Q$ also has lower bandwidth $p$. For $n<j$ and $j<=n+p$, $q_j$ lives in the $n+p$ subspace, so its last $m-n-p$ entries will be $0$. For $j>n+p$, $q_j = e_j$.\n",
    "\n",
    "### Summarized as: \n",
    "* $Q_{ij} = 0$ when $j<=n$ and $i>j+p$\n",
    "* $Q_{ij} = 0$ when $n<j<=n+p$ and $i>n+p$\n",
    "* $q_j = e_j$ when $j>n+p$\n",
    "\n",
    "Since $A$ has a upper bandwidth $q$, then $a_j (j>p+q+1)$ will not have a component in the space spanned by $(a_1, ..., a_{j-p-q-1})$ or $(q_1, ..., q_{j-p-q-1})$, so $R_{ij} = 0$ for $j>p+q+1$ and $i<j-p-q$, so $R$ has a upper bandwidth $p+q$ and a lower bandwidth $0$.\n",
    "\n",
    "### Summarized as:\n",
    "* $R_{ij} = 0$ when $i>j$\n",
    "* $R_{ij} = 0$ when $i<j-p-q$"
   ]
  },
  {
   "cell_type": "markdown",
   "metadata": {
    "collapsed": true
   },
   "source": [
    "# 7-(b) \n",
    "\n",
    "## Householder adaption using sparsity pattern of A"
   ]
  },
  {
   "cell_type": "code",
   "execution_count": null,
   "metadata": {
    "collapsed": true
   },
   "outputs": [],
   "source": [
    "function [W,R] = house_sparsity(A,p,q)\n",
    "%HOUSE Householder triangularization. modified taking advantage of sparsity pattern of A, \n",
    "%which has lower bandwidth p and upper bandwidth q.\n",
    "%   [W,R]=house_sparsity(A,p,q) computes the QR factorization of A using\n",
    "%   the modified Householder algorithm. Use FORMQ to construct Q.\n",
    "\n",
    "% UC Berkeley Math 221, Per-Olof Persson <persson@berkeley.edu>\n",
    "\n",
    "[m,n] = size(A);\n",
    "W = zeros(m,n);\n",
    "for k = 1:n\n",
    "    m0 = min(m, k+p);\n",
    "    n0 = min(n, k+p+q);\n",
    "    v = A(k:m0,k);  %we don't need the zero's in A's column vector\n",
    "    v(1) = v(1) + (2 * (v(1) >= 0) - 1) * norm(v);\n",
    "    v = v / norm(v);\n",
    "    W(k:m0,k) = v;\n",
    "    A(k:m0,k:n0) = A(k:m0,k:n0) - 2 * v * (v' * A(k:m0,k:n0)); %the dimension of v* and A should match, \n",
    "    %we don't need the columns of A on the right if they are zeros...\n",
    "end\n",
    "R = triu(A(1:n,1:n));"
   ]
  },
  {
   "cell_type": "markdown",
   "metadata": {},
   "source": [
    "## Operation count\n",
    "The heaviness of calculation is in the last line of the loop, the operation count for it is: $4(m0-k+1)(n0-k+1)$, and should be $4(p+1)(p+q+1)$ at most. Then the whole loop should have the operation count of $4n(p+1)(p+q+1)$.(Suppose $p$ and $q$ are large and so we can ignore the operation counts of previous steps) We can see from this that if $p$ and $q$ are small, then even $m$ and $n$ are large, we can get a huge speedup using the adapted algorithm. \n",
    "\n",
    "# 7-(c) \n",
    "## adaption of formQ using sparsity pattern"
   ]
  },
  {
   "cell_type": "code",
   "execution_count": null,
   "metadata": {
    "collapsed": true
   },
   "outputs": [],
   "source": [
    "function Q = formQ_sparsity(W,p,q)\n",
    "%FORMQ Form the Q matrix in Householder triangularization.\n",
    "%   Q=FORMQ(W) constructs the Q matrix from the output W in\n",
    "%   the HOUSE function.\n",
    "\n",
    "% UC Berkeley Math 221, Per-Olof Persson <persson@berkeley.edu>\n",
    "\n",
    "[m,n] = size(W);\n",
    "Q = eye(m);\n",
    "for k = n:-1:1\n",
    "    m0 = min(m, k+p);\n",
    "    Q(k:m0,:) = Q(k:m0,:) - 2 * W(k:m0,k) * (W(k:m0,k)' * Q(k:m0,:));\n",
    "end"
   ]
  },
  {
   "cell_type": "markdown",
   "metadata": {},
   "source": [
    "### now let's test our adapted house and formQ against the original ones:"
   ]
  },
  {
   "cell_type": "code",
   "execution_count": 18,
   "metadata": {
    "collapsed": false
   },
   "outputs": [
    {
     "name": "stdout",
     "output_type": "stream",
     "text": [
      "ans =\n",
      "\n",
      "     0\n",
      "\n",
      "\n",
      "ans =\n",
      "\n",
      "   2.5143e-16\n",
      "\n",
      "\n",
      "ans =\n",
      "\n",
      "     0\n"
     ]
    }
   ],
   "source": [
    "[W1, R1] = house(A);\n",
    "[W2, R2] = house_sparsity(A,p,q);\n",
    "norm(W2-W1)\n",
    "norm(R2-R1)\n",
    "Q1 = formQ(W1);\n",
    "Q2 = formQ_sparsity(W1,p,q);\n",
    "norm(Q1-Q2)"
   ]
  },
  {
   "cell_type": "code",
   "execution_count": null,
   "metadata": {
    "collapsed": true
   },
   "outputs": [],
   "source": []
  }
 ],
 "metadata": {
  "kernelspec": {
   "display_name": "Matlab",
   "language": "matlab",
   "name": "matlab"
  },
  "language_info": {
   "codemirror_mode": "octave",
   "file_extension": ".m",
   "help_links": [
    {
     "text": "MetaKernel Magics",
     "url": "https://github.com/calysto/metakernel/blob/master/metakernel/magics/README.md"
    }
   ],
   "mimetype": "text/x-octave",
   "name": "matlab",
   "version": "0.11.0"
  }
 },
 "nbformat": 4,
 "nbformat_minor": 1
}
