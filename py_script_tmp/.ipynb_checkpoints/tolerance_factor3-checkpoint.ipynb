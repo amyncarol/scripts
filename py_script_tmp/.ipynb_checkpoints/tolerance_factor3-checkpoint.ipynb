{
 "metadata": {
  "name": "",
  "signature": "sha256:d97c3dbb22c880d2f1ecfca640acdedab52efdb83af504fd5c62774e19b3baaa"
 },
 "nbformat": 3,
 "nbformat_minor": 0,
 "worksheets": [
  {
   "cells": [
    {
     "cell_type": "code",
     "collapsed": false,
     "input": [
      "from pymatgen.core.periodic_table import Specie\n",
      "from pymatgen.matproj.rest import MPRester\n",
      "from pymatgen.phasediagram.pdmaker import PhaseDiagram\n",
      "from pymatgen.phasediagram.plotter import PDPlotter\n",
      "from pymatgen.core.periodic_table import Element\n",
      "import pymatgen.core.periodic_table as pt\n",
      "import math\n",
      "import numpy as np\n",
      "import matplotlib.pyplot as plt\n",
      "import matplotlib.cbook as cbook\n",
      "import re\n",
      "from matplotlib.pyplot import figure, show, axes, sci\n",
      "from matplotlib import cm, colors\n",
      "from matplotlib.font_manager import FontProperties\n",
      "from numpy import amin, amax, ravel"
     ],
     "language": "python",
     "metadata": {},
     "outputs": [],
     "prompt_number": 1
    },
    {
     "cell_type": "code",
     "collapsed": false,
     "input": [
      "listA = ['K','Rb','Cs']\n",
      "listB = ['Sn','Ni','Mn']\n",
      "listC = ['Cl','Br','I']\n",
      "listA_radius = {}\n",
      "for item in listA:\n",
      "    listA_radius[item]=Specie(item,1).ionic_radius\n",
      "print listA_radius   \n",
      "\n",
      "listB_radius = {}\n",
      "for item in listB:\n",
      "    listB_radius[item]=Specie(item,4).ionic_radius\n",
      "   \n",
      "\n",
      "listB_radius['Ni'] = 0.62\n",
      "listB_radius['Mn'] = 0.67\n",
      "print listB_radius  \n",
      "listC_radius = {}\n",
      "for item in listC:\n",
      "    listC_radius[item]=Specie(item,-1).ionic_radius\n",
      "print listC_radius\n",
      "\n"
     ],
     "language": "python",
     "metadata": {},
     "outputs": [
      {
       "output_type": "stream",
       "stream": "stdout",
       "text": [
        "{'Cs': 1.81, 'K': 1.52, 'Rb': 1.66}\n",
        "{'Ni': 0.62, 'Mn': 0.67, 'Sn': 0.83}\n",
        "{'I': 2.06, 'Br': 1.82, 'Cl': 1.67}\n"
       ]
      }
     ],
     "prompt_number": 7
    },
    {
     "cell_type": "code",
     "collapsed": false,
     "input": [
      "compounds = []\n",
      "tolerance_list = []\n",
      "for A in listA:\n",
      "    for B in listB:\n",
      "        for C in listC:\n",
      "            t = (listA_radius[A]+listC_radius[C])/(listB_radius[B]+listC_radius[C])/math.sqrt(2)\n",
      "            compounds.append(A+'2'+B+'1'+C+'6')\n",
      "            tolerance_list.append(t)\n",
      "print compounds\n",
      "print tolerance_list"
     ],
     "language": "python",
     "metadata": {},
     "outputs": [
      {
       "output_type": "stream",
       "stream": "stdout",
       "text": [
        "['K2Sn1Cl6', 'K2Sn1Br6', 'K2Sn1I6', 'K2Ni1Cl6', 'K2Ni1Br6', 'K2Ni1I6', 'K2Mn1Cl6', 'K2Mn1Br6', 'K2Mn1I6', 'Rb2Sn1Cl6', 'Rb2Sn1Br6', 'Rb2Sn1I6', 'Rb2Ni1Cl6', 'Rb2Ni1Br6', 'Rb2Ni1I6', 'Rb2Mn1Cl6', 'Rb2Mn1Br6', 'Rb2Mn1I6', 'Cs2Sn1Cl6', 'Cs2Sn1Br6', 'Cs2Sn1I6', 'Cs2Ni1Cl6', 'Cs2Ni1Br6', 'Cs2Ni1I6', 'Cs2Mn1Cl6', 'Cs2Mn1Br6', 'Cs2Mn1I6']\n",
        "[0.9022682527940346, 0.8912213770426674, 0.8759315836151694, 0.9850090096004744, 0.9679248562143724, 0.9445680136745671, 0.9639618085406353, 0.9484886141217141, 0.9272682332043369, 0.9418662325404813, 0.9285779617091264, 0.9101858913543103, 1.0282382451315297, 1.0084965567742563, 0.9815064276171478, 1.006267342457779, 0.988245621899271, 0.9635301194190315, 0.984292639411674, 0.9686028738517612, 0.9468869353605325, 1.0745552832005176, 1.0519662359455604, 1.0210832996984844, 1.0515947002261476, 1.0308424159466536, 1.0023821403633475]\n"
       ]
      }
     ],
     "prompt_number": 9
    },
    {
     "cell_type": "code",
     "collapsed": false,
     "input": [
      "fig, ax = plt.subplots()\n",
      "ax.plot(tolerance_list, '-o', linewidth = 2, markersize = 10)\n",
      "for x, y, z in zip(np.arange(26), tolerance_list, compounds):\n",
      "    ax.text(x, y,'%s' % z, rotation=90)\n",
      "show()"
     ],
     "language": "python",
     "metadata": {},
     "outputs": [
      {
       "ename": "NameError",
       "evalue": "name 'plt' is not defined",
       "output_type": "pyerr",
       "traceback": [
        "\u001b[0;31m---------------------------------------------------------------------------\u001b[0m\n\u001b[0;31mNameError\u001b[0m                                 Traceback (most recent call last)",
        "\u001b[0;32m<ipython-input-10-be3fa05e6511>\u001b[0m in \u001b[0;36m<module>\u001b[0;34m()\u001b[0m\n\u001b[0;32m----> 1\u001b[0;31m \u001b[0mfig\u001b[0m\u001b[0;34m,\u001b[0m \u001b[0max\u001b[0m \u001b[0;34m=\u001b[0m \u001b[0mplt\u001b[0m\u001b[0;34m.\u001b[0m\u001b[0msubplots\u001b[0m\u001b[0;34m(\u001b[0m\u001b[0;34m)\u001b[0m\u001b[0;34m\u001b[0m\u001b[0m\n\u001b[0m\u001b[1;32m      2\u001b[0m \u001b[0max\u001b[0m\u001b[0;34m.\u001b[0m\u001b[0mplot\u001b[0m\u001b[0;34m(\u001b[0m\u001b[0mtolerance_list\u001b[0m\u001b[0;34m,\u001b[0m \u001b[0;34m'-o'\u001b[0m\u001b[0;34m,\u001b[0m \u001b[0mlinewidth\u001b[0m \u001b[0;34m=\u001b[0m \u001b[0;36m2\u001b[0m\u001b[0;34m,\u001b[0m \u001b[0mmarkersize\u001b[0m \u001b[0;34m=\u001b[0m \u001b[0;36m10\u001b[0m\u001b[0;34m)\u001b[0m\u001b[0;34m\u001b[0m\u001b[0m\n\u001b[1;32m      3\u001b[0m \u001b[0;32mfor\u001b[0m \u001b[0mx\u001b[0m\u001b[0;34m,\u001b[0m \u001b[0my\u001b[0m\u001b[0;34m,\u001b[0m \u001b[0mz\u001b[0m \u001b[0;32min\u001b[0m \u001b[0mzip\u001b[0m\u001b[0;34m(\u001b[0m\u001b[0mnp\u001b[0m\u001b[0;34m.\u001b[0m\u001b[0marange\u001b[0m\u001b[0;34m(\u001b[0m\u001b[0;36m26\u001b[0m\u001b[0;34m)\u001b[0m\u001b[0;34m,\u001b[0m \u001b[0mtolerance_list\u001b[0m\u001b[0;34m,\u001b[0m \u001b[0mcompounds\u001b[0m\u001b[0;34m)\u001b[0m\u001b[0;34m:\u001b[0m\u001b[0;34m\u001b[0m\u001b[0m\n\u001b[1;32m      4\u001b[0m     \u001b[0max\u001b[0m\u001b[0;34m.\u001b[0m\u001b[0mtext\u001b[0m\u001b[0;34m(\u001b[0m\u001b[0mx\u001b[0m\u001b[0;34m,\u001b[0m \u001b[0my\u001b[0m\u001b[0;34m,\u001b[0m\u001b[0;34m'%s'\u001b[0m \u001b[0;34m%\u001b[0m \u001b[0mz\u001b[0m\u001b[0;34m,\u001b[0m \u001b[0mrotation\u001b[0m\u001b[0;34m=\u001b[0m\u001b[0;36m90\u001b[0m\u001b[0;34m)\u001b[0m\u001b[0;34m\u001b[0m\u001b[0m\n\u001b[1;32m      5\u001b[0m \u001b[0mshow\u001b[0m\u001b[0;34m(\u001b[0m\u001b[0;34m)\u001b[0m\u001b[0;34m\u001b[0m\u001b[0m\n",
        "\u001b[0;31mNameError\u001b[0m: name 'plt' is not defined"
       ]
      }
     ],
     "prompt_number": 10
    },
    {
     "cell_type": "code",
     "collapsed": false,
     "input": [],
     "language": "python",
     "metadata": {},
     "outputs": []
    }
   ],
   "metadata": {}
  }
 ]
}