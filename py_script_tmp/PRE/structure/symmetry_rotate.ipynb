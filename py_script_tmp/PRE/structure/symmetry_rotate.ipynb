{
 "cells": [
  {
   "cell_type": "code",
   "execution_count": 1,
   "metadata": {
    "collapsed": false
   },
   "outputs": [],
   "source": [
    "from pymatgen.symmetry.analyzer import SpacegroupAnalyzer\n",
    "from pymatgen.io.vasp.inputs import Poscar\n",
    "from pymatgen.core.structure import IStructure\n",
    "from pymatgen.core.periodic_table import Specie\n",
    "from pymatgen.core.periodic_table import Element\n",
    "from math import sqrt, cos, pi, sin"
   ]
  },
  {
   "cell_type": "code",
   "execution_count": 2,
   "metadata": {
    "collapsed": false
   },
   "outputs": [
    {
     "name": "stderr",
     "output_type": "stream",
     "text": [
      "/usr/local/lib/python2.7/site-packages/pymatgen/io/vasp/inputs.py:225: UnicodeWarning: Unicode equal comparison failed to convert both arguments to Unicode - interpreting them as being unequal\n",
      "  if f == \"POTCAR\":\n"
     ]
    }
   ],
   "source": [
    "poscar = Poscar.from_file(\"/Users/yao/Rb2Sn1I6_tetra.vasp\")"
   ]
  },
  {
   "cell_type": "code",
   "execution_count": 3,
   "metadata": {
    "collapsed": true
   },
   "outputs": [],
   "source": [
    "struct = poscar.structure"
   ]
  },
  {
   "cell_type": "code",
   "execution_count": 4,
   "metadata": {
    "collapsed": false
   },
   "outputs": [],
   "source": [
    "sa = SpacegroupAnalyzer(structure=struct)"
   ]
  },
  {
   "cell_type": "code",
   "execution_count": 5,
   "metadata": {
    "collapsed": false
   },
   "outputs": [
    {
     "data": {
      "text/plain": [
       "u'P4/mnc'"
      ]
     },
     "execution_count": 5,
     "metadata": {},
     "output_type": "execute_result"
    }
   ],
   "source": [
    "sa.get_spacegroup_symbol()"
   ]
  },
  {
   "cell_type": "code",
   "execution_count": 6,
   "metadata": {
    "collapsed": false
   },
   "outputs": [
    {
     "name": "stdout",
     "output_type": "stream",
     "text": [
      "Full Formula (Rb4 Sn2 I12)\n",
      "Reduced Formula: Rb2SnI6\n",
      "abc   :   8.097790   8.097790  12.621210\n",
      "angles:  90.000000  90.000000  90.000000\n",
      "Sites (18)\n",
      "  #  SP          a        b        c\n",
      "---  ----  -------  -------  -------\n",
      "  0  Rb    0.5      0        0.25\n",
      "  1  Rb    0.5      0        0.75\n",
      "  2  Rb    0        0.5      0.25\n",
      "  3  Rb    0        0.5      0.75\n",
      "  4  Sn    0        0        0\n",
      "  5  Sn    0.5      0.5      0.5\n",
      "  6  I     0        0        0.23295\n",
      "  7  I     0        0        0.76705\n",
      "  8  I     0.5      0.5      0.26705\n",
      "  9  I     0.5      0.5      0.73295\n",
      " 10  I     0.29785  0.20017  0\n",
      " 11  I     0.70215  0.79983  0\n",
      " 12  I     0.79983  0.29785  0\n",
      " 13  I     0.20215  0.70017  0.5\n",
      " 14  I     0.20017  0.70215  0\n",
      " 15  I     0.79785  0.29983  0.5\n",
      " 16  I     0.70017  0.79785  0.5\n",
      " 17  I     0.29983  0.20215  0.5\n",
      "I-I bond:\n",
      "(PeriodicSite: I (2.4119, 1.6209, 0.0000) [0.2979, 0.2002, 0.0000], 4.1338930363288267)\n",
      "(PeriodicSite: I (-2.4119, -1.6209, 0.0000) [-0.2978, -0.2002, 0.0000], 4.1338930363288267)\n",
      "(PeriodicSite: I (-1.6209, 2.4119, 0.0000) [-0.2002, 0.2979, 0.0000], 4.1338930363288267)\n",
      "(PeriodicSite: I (1.6370, -2.4280, 6.3106) [0.2021, -0.2998, 0.5000], 4.4648502008803597)\n",
      "(PeriodicSite: I (1.6209, -2.4119, 0.0000) [0.2002, -0.2978, 0.0000], 4.1338930363288267)\n",
      "(PeriodicSite: I (-1.6370, 2.4280, 6.3106) [-0.2022, 0.2998, 0.5000], 4.4648502008803597)\n",
      "(PeriodicSite: I (-2.4280, -1.6370, 6.3106) [-0.2998, -0.2022, 0.5000], 4.4648502008803606)\n",
      "(PeriodicSite: I (2.4280, 1.6370, 6.3106) [0.2998, 0.2021, 0.5000], 4.4648502008803597)\n",
      "Sn-I bond:\n",
      "(PeriodicSite: I (0.0000, 0.0000, 2.9401) [0.0000, 0.0000, 0.2329], 2.9401108694999998)\n",
      "(PeriodicSite: I (0.0000, 0.0000, -2.9401) [0.0000, 0.0000, -0.2329], 2.9401108694999998)\n",
      "(PeriodicSite: I (2.4119, 1.6209, 0.0000) [0.2979, 0.2002, 0.0000], 2.9059971973241687)\n",
      "(PeriodicSite: I (-2.4119, -1.6209, 0.0000) [-0.2978, -0.2002, 0.0000], 2.9059971973241683)\n",
      "(PeriodicSite: I (-1.6209, 2.4119, 0.0000) [-0.2002, 0.2979, 0.0000], 2.9059971973241687)\n",
      "(PeriodicSite: I (1.6209, -2.4119, 0.0000) [0.2002, -0.2978, 0.0000], 2.9059971973241683)\n"
     ]
    }
   ],
   "source": [
    "a = 8.09779\n",
    "c = 12.62121\n",
    "x1= 0.23295\n",
    "x2= 0.29785\n",
    "x3= 0.20017 \n",
    " \n",
    "struct_std_conv = IStructure.from_spacegroup(sg='P4/mnc',lattice=[[ a,   0.        ,   0.        ],\n",
    "                                               [  0.        ,  a,   0.        ], \n",
    "                                               [  0.        ,   0.        ,  c]],\n",
    "                          species=['Rb','Sn','I','I'], coords = [[ 0.50000,   0.00000,    0.25000   ], \n",
    "                                                       [ 0.      ,  0.      ,  0.      ],\n",
    "                                                       [ 0.    ,  0.      ,  x1],\n",
    "                                                       [x2, x3, 0 ]])                         \n",
    "struct_std_prim = struct_std_conv.get_primitive_structure() \n",
    "print struct_std_prim\n",
    "print \"I-I bond:\"\n",
    "for (site, dist) in struct_std_prim.get_neighbors(struct_std_prim.sites[6], r=4.5):\n",
    "    if site.specie == Element(\"I\"):\n",
    "        print (site, dist)\n",
    "print \"Sn-I bond:\"      \n",
    "for (site, dist) in struct_std_prim.get_neighbors(struct_std_prim.sites[4], r=3):\n",
    "    if site.specie == Element(\"I\"):\n",
    "        print (site, dist)\n",
    "                       "
   ]
  },
  {
   "cell_type": "code",
   "execution_count": null,
   "metadata": {
    "collapsed": false
   },
   "outputs": [],
   "source": []
  },
  {
   "cell_type": "code",
   "execution_count": 9,
   "metadata": {
    "collapsed": false
   },
   "outputs": [
    {
     "name": "stdout",
     "output_type": "stream",
     "text": [
      "I-I bond:\n",
      "(PeriodicSite: I (2.6848, 1.1121, 0.0000) [0.3315, 0.1373, 0.0000], 4.1338930363480086)\n",
      "(PeriodicSite: I (-2.6848, -1.1121, 0.0000) [-0.3315, -0.1373, 0.0000], 4.1338930363480086)\n",
      "(PeriodicSite: I (-1.1121, 2.6848, 0.0000) [-0.1373, 0.3315, 0.0000], 4.1338930363480086)\n",
      "(PeriodicSite: I (1.1121, -2.6848, 0.0000) [0.1373, -0.3315, 0.0000], 4.1338930363480086)\n",
      "Sn-I bond:\n",
      "(PeriodicSite: I (0.0000, 0.0000, 2.9401) [0.0000, 0.0000, 0.2329], 2.9401108694999998)\n",
      "(PeriodicSite: I (0.0000, 0.0000, -2.9401) [0.0000, 0.0000, -0.2329], 2.9401108694999998)\n",
      "(PeriodicSite: I (2.6848, 1.1121, 0.0000) [0.3315, 0.1373, 0.0000], 2.9059971973514549)\n",
      "(PeriodicSite: I (-2.6848, -1.1121, 0.0000) [-0.3315, -0.1373, 0.0000], 2.9059971973514553)\n",
      "(PeriodicSite: I (-1.1121, 2.6848, 0.0000) [-0.1373, 0.3315, 0.0000], 2.9059971973514549)\n",
      "(PeriodicSite: I (1.1121, -2.6848, 0.0000) [0.1373, -0.3315, 0.0000], 2.9059971973514553)\n"
     ]
    }
   ],
   "source": [
    "a = 8.09779\n",
    "c = 12.62121\n",
    "x1= 0.23295\n",
    "x2= 0.29785 \n",
    "x3= 0.20017\n",
    "\n",
    "r = sqrt(x2*x2+x3*x3)\n",
    "relaxed_angle = 11.0983\n",
    "angle = 45.0 - 22.5\n",
    "x2 = r*cos(angle/180.0*pi)\n",
    "x3 = r*sin(angle/180.0*pi)\n",
    "\n",
    "\n",
    "struct_new_conv = IStructure.from_spacegroup(sg='P4/mnc',lattice=[[ a,   0.        ,   0.        ],\n",
    "                                               [  0.        ,  a,   0.        ], \n",
    "                                               [  0.        ,   0.        ,  c]],\n",
    "                          species=['Rb','Sn','I','I'], coords = [[ 0.50000,   0.00000,    0.25000   ], \n",
    "                                                       [ 0.      ,  0.      ,  0.      ],\n",
    "                                                       [ 0.    ,  0.      ,  x1],\n",
    "                                                       [x2, x3, 0 ]])                         \n",
    "struct_new_prim = struct_new_conv.get_primitive_structure() \n",
    "print \"I-I bond:\"\n",
    "for (site, dist) in struct_new_prim.get_neighbors(struct_std_prim.sites[6], r=4.5):\n",
    "    if site.specie == Element(\"I\"):\n",
    "        print (site, dist)\n",
    "print \"Sn-I bond:\"      \n",
    "for (site, dist) in struct_new_prim.get_neighbors(struct_std_prim.sites[4], r=3):\n",
    "    if site.specie == Element(\"I\"):\n",
    "        print (site, dist)\n",
    "                       "
   ]
  },
  {
   "cell_type": "code",
   "execution_count": 10,
   "metadata": {
    "collapsed": false
   },
   "outputs": [],
   "source": [
    "poscar = Poscar(struct_new_conv)\n",
    "poscar.write_file(\"/Users/yao/angle_22_5.vasp\")"
   ]
  },
  {
   "cell_type": "code",
   "execution_count": null,
   "metadata": {
    "collapsed": true
   },
   "outputs": [],
   "source": []
  }
 ],
 "metadata": {
  "kernelspec": {
   "display_name": "Python 2",
   "language": "python",
   "name": "python2"
  },
  "language_info": {
   "codemirror_mode": {
    "name": "ipython",
    "version": 2
   },
   "file_extension": ".py",
   "mimetype": "text/x-python",
   "name": "python",
   "nbconvert_exporter": "python",
   "pygments_lexer": "ipython2",
   "version": "2.7.13"
  }
 },
 "nbformat": 4,
 "nbformat_minor": 1
}
