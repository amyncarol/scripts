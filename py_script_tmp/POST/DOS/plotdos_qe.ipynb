{
 "cells": [
  {
   "cell_type": "code",
   "execution_count": 87,
   "metadata": {
    "collapsed": false
   },
   "outputs": [],
   "source": [
    "import json\n",
    "import re\n",
    "import numpy as np\n",
    "import matplotlib.pyplot as plt\n",
    "import matplotlib.cbook as cbook\n",
    "import re\n",
    "from matplotlib.pyplot import figure, show, axes, sci\n",
    "from matplotlib import cm, colors\n",
    "from matplotlib.font_manager import FontProperties\n",
    "from numpy import amin, amax, ravel, array\n",
    "import numpy.ma as ma\n",
    "import numpy as np\n",
    "from os import listdir\n",
    "from os.path import isfile, join\n"
   ]
  },
  {
   "cell_type": "code",
   "execution_count": 88,
   "metadata": {
    "collapsed": false
   },
   "outputs": [
    {
     "name": "stdout",
     "output_type": "stream",
     "text": [
      "['CsSnI3.pdos_Cs_d', 'CsSnI3.pdos_Cs_p', 'CsSnI3.pdos_Cs_s', 'CsSnI3.pdos_I_d', 'CsSnI3.pdos_I_p', 'CsSnI3.pdos_I_s', 'CsSnI3.pdos_Sn_d', 'CsSnI3.pdos_Sn_p', 'CsSnI3.pdos_Sn_s', 'CsSnI3.pdos_tot']\n"
     ]
    }
   ],
   "source": [
    "fermi = 2.0077\n",
    "files = [f for f in listdir(\"/Users/yao/tmp/\") if isfile(join(\"/Users/yao/tmp/\", f))]\n",
    "print files\n",
    "names = []\n",
    "dos = np.empty([len(entries)-2, 11])\n",
    "j = 1\n",
    "for fil in files:\n",
    "    with open(join(\"/Users/yao/tmp/\", fil),'r') as f:\n",
    "        string = f.read()\n",
    "        entries = re.split(\"\\n *\", string)\n",
    "        names.append(fil.replace(\"CsSnI3.pdos_\",\"\"))\n",
    "        for i in range(1, len(entries)-1):\n",
    "            entry = re.split(' +', entries[i])\n",
    "            dos[i-1][0] = float(entry[0])\n",
    "            dos[i-1][j] = float(entry[1])\n",
    "        j = j+1\n",
    "            \n"
   ]
  },
  {
   "cell_type": "code",
   "execution_count": 98,
   "metadata": {
    "collapsed": false
   },
   "outputs": [],
   "source": [
    "for i in range(1, dos.shape[1]):\n",
    "    plt.plot(dos[:,0] - fermi,dos[:,i], label = names[i-1])\n",
    "    plt.legend()\n",
    "plt.ylim([0,13])    \n",
    "plt.show()"
   ]
  },
  {
   "cell_type": "code",
   "execution_count": 95,
   "metadata": {
    "collapsed": false
   },
   "outputs": [
    {
     "data": {
      "text/plain": [
       "'Cs_p'"
      ]
     },
     "execution_count": 95,
     "metadata": {},
     "output_type": "execute_result"
    }
   ],
   "source": [
    "names[1]"
   ]
  },
  {
   "cell_type": "code",
   "execution_count": null,
   "metadata": {
    "collapsed": false
   },
   "outputs": [],
   "source": []
  },
  {
   "cell_type": "code",
   "execution_count": null,
   "metadata": {
    "collapsed": true
   },
   "outputs": [],
   "source": []
  }
 ],
 "metadata": {
  "kernelspec": {
   "display_name": "Python 2",
   "language": "python",
   "name": "python2"
  },
  "language_info": {
   "codemirror_mode": {
    "name": "ipython",
    "version": 2
   },
   "file_extension": ".py",
   "mimetype": "text/x-python",
   "name": "python",
   "nbconvert_exporter": "python",
   "pygments_lexer": "ipython2",
   "version": "2.7.9"
  }
 },
 "nbformat": 4,
 "nbformat_minor": 1
}
