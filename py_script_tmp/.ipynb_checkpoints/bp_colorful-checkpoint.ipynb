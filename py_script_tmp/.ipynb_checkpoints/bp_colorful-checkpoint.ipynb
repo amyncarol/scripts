{
 "metadata": {
  "name": "",
  "signature": "sha256:6000a31a396e1e1c87dbf5c3bc601c37c4d508ba9f7196b7d56be4a451bd0fdb"
 },
 "nbformat": 3,
 "nbformat_minor": 0,
 "worksheets": [
  {
   "cells": [
    {
     "cell_type": "code",
     "collapsed": false,
     "input": [
      "import numpy as np\n",
      "import matplotlib.pyplot as plt\n",
      "import matplotlib.cbook as cbook\n",
      "import re\n",
      "from matplotlib.pyplot import figure, show, axes, sci\n",
      "from matplotlib import cm, colors\n",
      "from matplotlib.font_manager import FontProperties\n",
      "from numpy import amin, amax, ravel\n",
      "import numpy.ma as ma\n",
      "from numpy import logical_or"
     ],
     "language": "python",
     "metadata": {},
     "outputs": [],
     "prompt_number": 50
    },
    {
     "cell_type": "code",
     "collapsed": false,
     "input": [
      "bpbp = np.zeros( (3,3,10) )\n",
      "data = open('/Users/yao/Google Drive/data/216/bp_3','r')\n"
     ],
     "language": "python",
     "metadata": {},
     "outputs": [],
     "prompt_number": 51
    },
    {
     "cell_type": "code",
     "collapsed": false,
     "input": [],
     "language": "python",
     "metadata": {},
     "outputs": [],
     "prompt_number": 51
    },
    {
     "cell_type": "code",
     "collapsed": false,
     "input": [
      "value = []\n",
      "lines = data.readlines()\n",
      "for line in lines:\n",
      "    match = re.match(r\"([a-z]+)([ ]+)([a-z]+)([ ]+)([a-z]+)([ ]+)([\\-0-9.]+)\", line, re.I)\n",
      "    if match:\n",
      "        items = match.groups()\n",
      "        value.append(float(items[6]))"
     ],
     "language": "python",
     "metadata": {},
     "outputs": [],
     "prompt_number": 52
    },
    {
     "cell_type": "code",
     "collapsed": false,
     "input": [
      "print len(value)"
     ],
     "language": "python",
     "metadata": {},
     "outputs": [
      {
       "output_type": "stream",
       "stream": "stdout",
       "text": [
        "90\n"
       ]
      }
     ],
     "prompt_number": 53
    },
    {
     "cell_type": "code",
     "collapsed": false,
     "input": [],
     "language": "python",
     "metadata": {},
     "outputs": [],
     "prompt_number": 53
    },
    {
     "cell_type": "code",
     "collapsed": false,
     "input": [
      "#for i in range(len(value_e)):\n",
      " #   if value_e[i] >= 1:\n",
      "  #      value_e[i] = 10.0\n",
      "\n"
     ],
     "language": "python",
     "metadata": {},
     "outputs": [],
     "prompt_number": 54
    },
    {
     "cell_type": "code",
     "collapsed": false,
     "input": [
      "index = 0\n",
      "for a in range(3):\n",
      "    for b in range(10):\n",
      "        for c in range(3):\n",
      "            bpbp[c][a][b] = value[index]\n",
      "            index = index + 1\n"
     ],
     "language": "python",
     "metadata": {},
     "outputs": [],
     "prompt_number": 55
    },
    {
     "cell_type": "code",
     "collapsed": false,
     "input": [
      "\n",
      "    "
     ],
     "language": "python",
     "metadata": {},
     "outputs": [],
     "prompt_number": 55
    },
    {
     "cell_type": "code",
     "collapsed": false,
     "input": [
      "masked_bp = ma.masked_where(logical_or(bpbp > 10,bpbp < -10), bpbp)"
     ],
     "language": "python",
     "metadata": {},
     "outputs": [],
     "prompt_number": 56
    },
    {
     "cell_type": "code",
     "collapsed": false,
     "input": [
      "fig = figure()\n",
      "#cmap = cm.cool\n",
      "w = 1.0\n",
      "h = 0.15\n",
      "ax = []\n",
      "images = []\n",
      "vmin = 1e40\n",
      "vmax = -1e40\n",
      "cax = fig.add_axes([0.8, 0.2, 0.02, 0.5])"
     ],
     "language": "python",
     "metadata": {},
     "outputs": [],
     "prompt_number": 57
    },
    {
     "cell_type": "code",
     "collapsed": false,
     "input": [
      "for i in range(3):\n",
      "    pos = [0, 0.56 - i*1.2*h, w, h]\n",
      "    a = fig.add_axes(pos)\n",
      "    plt.yticks(np.arange(3),['K','Rb','Cs'], size='x-small')\n",
      "    plt.xticks(np.arange(10),[])\n",
      "    if i == 2:\n",
      "        plt.xticks(np.arange(10),['Mn','Tc','Re','Ni','Pd','Pt','Si','Ge','Sn','Pb'],size='x-small')\n",
      "    dd = ravel(masked_bp[i])\n",
      "    # Manually find the min and max of all colors for\n",
      "    # use in setting the color scale.\n",
      "    vmin = min(vmin, amin(dd))\n",
      "    vmax = max(vmax, amax(dd))\n",
      "    images.append(a.imshow(masked_bp[i],interpolation = 'nearest',aspect=2))\n",
      "\n",
      "    ax.append(a)"
     ],
     "language": "python",
     "metadata": {},
     "outputs": [],
     "prompt_number": 58
    },
    {
     "cell_type": "code",
     "collapsed": false,
     "input": [
      "# Set the first image as the master, with all the others\n",
      "# observing it for changes in cmap or norm.\n",
      "\n",
      "class ImageFollower:\n",
      "    'update image in response to changes in clim or cmap on another image'\n",
      "    def __init__(self, follower):\n",
      "        self.follower = follower\n",
      "    def __call__(self, leader):\n",
      "        self.follower.set_cmap(leader.get_cmap())\n",
      "        self.follower.set_clim(leader.get_clim())\n",
      "norm = colors.Normalize(vmin=0, vmax=1)\n",
      "for i, im in enumerate(images):\n",
      "    im.set_norm(norm)\n",
      "    if i > 0:\n",
      "        images[0].callbacksSM.connect('changed', ImageFollower(im))\n",
      "fig.colorbar(images[0], cax)\n",
      "axes(ax[0])     # Return the current axes to the first one,\n",
      "sci(images[0])  # because the current image must be in current axes.\n",
      "show()"
     ],
     "language": "python",
     "metadata": {},
     "outputs": [],
     "prompt_number": 59
    },
    {
     "cell_type": "code",
     "collapsed": false,
     "input": [],
     "language": "python",
     "metadata": {},
     "outputs": [],
     "prompt_number": 59
    },
    {
     "cell_type": "code",
     "collapsed": false,
     "input": [],
     "language": "python",
     "metadata": {},
     "outputs": [],
     "prompt_number": 59
    },
    {
     "cell_type": "code",
     "collapsed": false,
     "input": [],
     "language": "python",
     "metadata": {},
     "outputs": [],
     "prompt_number": 59
    },
    {
     "cell_type": "code",
     "collapsed": false,
     "input": [],
     "language": "python",
     "metadata": {},
     "outputs": [],
     "prompt_number": 59
    }
   ],
   "metadata": {}
  }
 ]
}