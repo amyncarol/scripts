{
 "metadata": {
  "name": "",
  "signature": "sha256:e48c121321628b18ad6a27f8e40422a81df0e45784dda857ae8d966cda3929e2"
 },
 "nbformat": 3,
 "nbformat_minor": 0,
 "worksheets": [
  {
   "cells": [
    {
     "cell_type": "code",
     "collapsed": false,
     "input": [
      "from pymatgen.matproj.rest import MPRester\n",
      "from pymatgen.phasediagram.pdmaker import PhaseDiagram\n",
      "from pymatgen.phasediagram.plotter import PDPlotter\n",
      "from pymatgen.core.periodic_table import Element\n",
      "import pymatgen.core.periodic_table as pt"
     ],
     "language": "python",
     "metadata": {},
     "outputs": []
    },
    {
     "cell_type": "code",
     "collapsed": false,
     "input": [
      "\n",
      "#This initializes the REST adaptor. Put your own API key in.\n",
      "with MPRester(\"64JmsIV32c8lUaxu\") as m:\n",
      "    data = m.get_data(\"*I4\", prop=\"pretty_formula\")\n",
      "    print data\n",
      " "
     ],
     "language": "python",
     "metadata": {},
     "outputs": []
    },
    {
     "cell_type": "code",
     "collapsed": false,
     "input": [
      "data[0][u'pretty_formula']"
     ],
     "language": "python",
     "metadata": {},
     "outputs": []
    },
    {
     "cell_type": "code",
     "collapsed": false,
     "input": [
      "formula_set = set([])\n",
      "for item in data:\n",
      "    formula_set.add(item[u'pretty_formula'])"
     ],
     "language": "python",
     "metadata": {},
     "outputs": []
    },
    {
     "cell_type": "code",
     "collapsed": false,
     "input": [
      "len(formula_set)"
     ],
     "language": "python",
     "metadata": {},
     "outputs": []
    },
    {
     "cell_type": "code",
     "collapsed": false,
     "input": [
      "formula_set"
     ],
     "language": "python",
     "metadata": {},
     "outputs": []
    },
    {
     "cell_type": "code",
     "collapsed": false,
     "input": [],
     "language": "python",
     "metadata": {},
     "outputs": []
    },
    {
     "cell_type": "code",
     "collapsed": false,
     "input": [
      "all_elements = pt.all_symbols()\n",
      "e_set_common = set([])\n",
      "list_radiation = ['Tc', 'Pm', 'Po', 'At', 'Rn', 'Fr', 'Ra', 'Ac', 'Th', 'Pa', 'U', 'Np', 'Pu', 'Am', 'Cm', 'Bk', 'Cf', 'Es', 'Fm', 'Md', 'No', 'Lr', 'Rf', 'Db', 'Sg', 'Bh', 'Hs', 'Mt', 'Ds', 'Rg', 'Cn', 'Uut', 'Fl', 'Uup', 'Lv', 'Uuo']\n",
      "for item in all_elements:\n",
      "    e = Element(item) \n",
      "    if (4 in e.oxidation_states) & (e.symbol not in list_radiation):\n",
      "        e_set_common.add(e)\n",
      "        print \"%s: %s\" %(e.symbol, e.oxidation_states)"
     ],
     "language": "python",
     "metadata": {},
     "outputs": []
    },
    {
     "cell_type": "code",
     "collapsed": false,
     "input": [
      "list = []\n",
      "for item in e_set_common:\n",
      "    list.append(item.symbol)"
     ],
     "language": "python",
     "metadata": {},
     "outputs": []
    },
    {
     "cell_type": "code",
     "collapsed": false,
     "input": [
      "len(list)"
     ],
     "language": "python",
     "metadata": {},
     "outputs": []
    },
    {
     "cell_type": "code",
     "collapsed": false,
     "input": [
      "print list"
     ],
     "language": "python",
     "metadata": {},
     "outputs": []
    },
    {
     "cell_type": "code",
     "collapsed": false,
     "input": [
      "computed_list = Bele_Screen=['Si','Ti','V','Cr','Mn','Fe','Co','Ni','Cu','Se','Zr','Nb','Mo','Tc','Ru','Rh','Pb','Ag','Sn','Te','Hf','Ta','W','Re','Os','Ir','Pt','Hg']\n",
      "\n",
      "for item in list:\n",
      "    if item not in computed_list:\n",
      "        print item\n"
     ],
     "language": "python",
     "metadata": {},
     "outputs": []
    },
    {
     "cell_type": "code",
     "collapsed": false,
     "input": [
      "for item in computed_list:\n",
      "    if item not in list:\n",
      "        print item"
     ],
     "language": "python",
     "metadata": {},
     "outputs": []
    },
    {
     "cell_type": "code",
     "collapsed": false,
     "input": [
      "Element('Tc').oxidation_states"
     ],
     "language": "python",
     "metadata": {},
     "outputs": []
    },
    {
     "cell_type": "code",
     "collapsed": false,
     "input": [],
     "language": "python",
     "metadata": {},
     "outputs": []
    }
   ],
   "metadata": {}
  }
 ]
}