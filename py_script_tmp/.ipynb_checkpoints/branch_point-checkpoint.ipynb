{
 "metadata": {
  "name": "",
  "signature": "sha256:bf6a5975d959a0179edf9153e40580a92cd72de5ae4ead92e4e1c51950c691eb"
 },
 "nbformat": 3,
 "nbformat_minor": 0,
 "worksheets": [
  {
   "cells": [
    {
     "cell_type": "code",
     "collapsed": false,
     "input": [
      "import os\n",
      "import fileinput\n",
      "import sys\n",
      "import re\n",
      "import string\n",
      "import shutil\n",
      "import numpy as np\n",
      "from pymatgen.io.vaspio.vasp_output import Vasprun\n",
      "from pymatgen.io.vaspio.vasp_input import Poscar\n",
      "from pymatgen.core.periodic_table import Element\n",
      "from  pymatgen.io.vaspio_set import MPVaspInputSet\n",
      "from pymatgen.core.surface import Slab\n",
      "from pymatgen.core.surface import SlabGenerator\n",
      "from pymatgen.io.cifio import CifParser\n",
      "from pymatgen.core.surface import generate_all_slabs"
     ],
     "language": "python",
     "metadata": {},
     "outputs": [],
     "prompt_number": 37
    },
    {
     "cell_type": "code",
     "collapsed": false,
     "input": [
      "v = Vasprun(\"/Users/yao/Desktop/mp-31487/vasprun.xml\")"
     ],
     "language": "python",
     "metadata": {},
     "outputs": [],
     "prompt_number": 86
    },
    {
     "cell_type": "code",
     "collapsed": false,
     "input": [
      "fermi = v.efermi\n",
      "fermi"
     ],
     "language": "python",
     "metadata": {},
     "outputs": [
      {
       "metadata": {},
       "output_type": "pyout",
       "prompt_number": 107,
       "text": [
        "1.72661196"
       ]
      }
     ],
     "prompt_number": 107
    },
    {
     "cell_type": "code",
     "collapsed": false,
     "input": [
      "bandgap = v.eigenvalue_band_properties[0]\n",
      "bandgap"
     ],
     "language": "python",
     "metadata": {},
     "outputs": [
      {
       "metadata": {},
       "output_type": "pyout",
       "prompt_number": 108,
       "text": [
        "0.5982999999999998"
       ]
      }
     ],
     "prompt_number": 108
    },
    {
     "cell_type": "code",
     "collapsed": false,
     "input": [
      "n_kpoints = len(v.actual_kpoints_weights)\n",
      "eigen = np.zeros([3,n_kpoints])"
     ],
     "language": "python",
     "metadata": {},
     "outputs": [],
     "prompt_number": 100
    },
    {
     "cell_type": "code",
     "collapsed": false,
     "input": [
      "for i in np.arange(0,n_kpoints):\n",
      "    eigen[0,i] = v.eigenvalues[(1,i)][90][0]\n",
      "    eigen[1,i] = v.eigenvalues[(1,i)][91][0]\n",
      "    eigen[2,i] = v.eigenvalues[(1,i)][92][0]\n",
      "weights = [0.5/2.0, 0.5/2.0, 1.0/2.0]"
     ],
     "language": "python",
     "metadata": {},
     "outputs": [],
     "prompt_number": 103
    },
    {
     "cell_type": "code",
     "collapsed": false,
     "input": [
      "bp = 0\n",
      "for i in np.arange(0,3):\n",
      "    bp = bp + (v.actual_kpoints_weights*eigen[i,:]).sum()*weights[i]\n",
      "bp"
     ],
     "language": "python",
     "metadata": {},
     "outputs": [
      {
       "metadata": {},
       "output_type": "pyout",
       "prompt_number": 104,
       "text": [
        "1.9618509128152501"
       ]
      }
     ],
     "prompt_number": 104
    },
    {
     "cell_type": "code",
     "collapsed": false,
     "input": [
      "(v.actual_kpoints_weights*eigen[i,:]).sum()"
     ],
     "language": "python",
     "metadata": {},
     "outputs": [
      {
       "metadata": {},
       "output_type": "pyout",
       "prompt_number": 77,
       "text": [
        "0.43153672626400003"
       ]
      }
     ],
     "prompt_number": 77
    },
    {
     "cell_type": "code",
     "collapsed": false,
     "input": [],
     "language": "python",
     "metadata": {},
     "outputs": [
      {
       "metadata": {},
       "output_type": "pyout",
       "prompt_number": 42,
       "text": [
        "array([ 1,  2,  3,  4,  5,  6,  7,  8,  9, 10, 11, 12, 13, 14, 15, 16, 17,\n",
        "       18, 19, 20, 21, 22, 23, 24, 25, 26, 27, 28, 29, 30, 31, 32, 33, 34,\n",
        "       35, 36, 37, 38, 39, 40, 41, 42, 43, 44, 45, 46, 47, 48, 49, 50, 51,\n",
        "       52, 53, 54, 55, 56, 57, 58, 59, 60, 61, 62, 63, 64, 65, 66, 67, 68,\n",
        "       69, 70, 71, 72, 73, 74, 75, 76, 77, 78, 79, 80, 81, 82, 83, 84, 85,\n",
        "       86, 87, 88, 89, 90])"
       ]
      }
     ],
     "prompt_number": 42
    },
    {
     "cell_type": "code",
     "collapsed": false,
     "input": [],
     "language": "python",
     "metadata": {},
     "outputs": []
    },
    {
     "cell_type": "code",
     "collapsed": false,
     "input": [],
     "language": "python",
     "metadata": {},
     "outputs": []
    }
   ],
   "metadata": {}
  }
 ]
}