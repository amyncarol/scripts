{
 "cells": [
  {
   "cell_type": "code",
   "execution_count": 1,
   "metadata": {
    "collapsed": false
   },
   "outputs": [],
   "source": [
    "import numpy as np\n",
    "import matplotlib.pyplot as plt\n",
    "import re\n",
    "from matplotlib import rc\n",
    "import matplotlib\n",
    "\n",
    "#rc('font', **{'family':'serif','serif':['Helvetica']})\n",
    "rc('text', usetex=True)\n",
    "matplotlib.rcParams.update({'font.size': 15})"
   ]
  },
  {
   "cell_type": "code",
   "execution_count": 2,
   "metadata": {
    "collapsed": false
   },
   "outputs": [],
   "source": [
    "strain = np.array([-0.02,-0.01,0,0.01,0.02])\n",
    "Eg_cubic_0 = np.array([1.7269, 1.6453, 1.5597, 1.5113, 1.5062])\n",
    "Eg_cubic_5 = np.array([1.7579, 1.7018, 1.5597, 1.4843, 1.4666])\n",
    "Eg_cubic_10 = np.array([1.8147, 1.7174, 1.5597, 1.4515, 1.4470])\n",
    "Eg_tetra_5 = np.array([1.961, 1.8003, 1.7497, 1.7140, 1.6803])\n",
    "Eg_tetra_10 = np.array([2.0057, 1.8361, 1.7497, 1.6805, 1.6353])"
   ]
  },
  {
   "cell_type": "code",
   "execution_count": 3,
   "metadata": {
    "collapsed": false
   },
   "outputs": [],
   "source": [
    "fig, ax = plt.subplots()\n",
    "ax.plot(strain, Eg_cubic_0,'-o', label = r'cubic, $\\epsilon_c/\\epsilon_{ab} = 0$')\n",
    "ax.plot(strain, Eg_cubic_5,'-o', label = r'cubic, $\\epsilon_c/\\epsilon_{ab} = -0.5$')\n",
    "ax.plot(strain, Eg_cubic_10,'-o', label = r'cubic, $\\epsilon_c/\\epsilon_{ab} = -1.0$')\n",
    "ax.plot(strain, Eg_tetra_5,'-o', label = r'tetragonal, $\\epsilon_c/\\epsilon_{ab} = -0.5$')\n",
    "ax.plot(strain, Eg_tetra_10,'-o', label = r'tetragonal, $\\epsilon_c/\\epsilon_{ab} = -1.0$')\n",
    "ax.set_ylabel(r'bandgap (eV)', fontsize = 20)\n",
    "ax.set_xlabel(r'$\\epsilon_{ab}$', fontsize = 20)\n",
    "plt.xticks(np.arange(min(strain), max(strain)+0.01, 0.01))\n",
    "ax.legend(loc='upper right')\n",
    "plt.show()"
   ]
  },
  {
   "cell_type": "code",
   "execution_count": 3,
   "metadata": {
    "collapsed": false
   },
   "outputs": [],
   "source": []
  }
 ],
 "metadata": {
  "anaconda-cloud": {},
  "kernelspec": {
   "display_name": "Python 3",
   "language": "python",
   "name": "python3"
  },
  "language_info": {
   "codemirror_mode": {
    "name": "ipython",
    "version": 3
   },
   "file_extension": ".py",
   "mimetype": "text/x-python",
   "name": "python",
   "nbconvert_exporter": "python",
   "pygments_lexer": "ipython3",
   "version": "3.5.2"
  }
 },
 "nbformat": 4,
 "nbformat_minor": 0
}
