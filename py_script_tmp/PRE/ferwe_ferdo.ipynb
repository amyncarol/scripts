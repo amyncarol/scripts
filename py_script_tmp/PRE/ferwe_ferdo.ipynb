{
 "cells": [
  {
   "cell_type": "code",
   "execution_count": 3,
   "metadata": {
    "collapsed": true
   },
   "outputs": [],
   "source": [
    "nbands = 272\n",
    "nkpts = 10\n",
    "\n",
    "import numpy as np\n",
    "ferwe = np.zeros((nbands, nkpts))\n",
    "ferdo = np.zeros((nbands, nkpts))\n",
    "\n",
    "ferwe[0:148,:] = 1\n",
    "ferwe[149, :] = 1\n",
    "\n",
    "ferdo[0:148,:] = 1"
   ]
  },
  {
   "cell_type": "code",
   "execution_count": 4,
   "metadata": {
    "collapsed": false
   },
   "outputs": [],
   "source": [
    "with open('/Users/yao/Desktop/ferwe.txt', 'w') as f:\n",
    "    f.write('ISMEAR = -2')\n",
    "    f.write('\\n')\n",
    "    f.write('FERWE = ')\n",
    "    for i in range(nkpts):\n",
    "        for j in range(nbands):\n",
    "            f.write(str(ferwe[j][i]))\n",
    "            f.write(' ')\n",
    "    f.write('\\n')\n",
    "    \n",
    "    f.write('FERDO = ')\n",
    "    for i in range(nkpts):\n",
    "        for j in range(nbands):\n",
    "            f.write(str(ferdo[j][i]))\n",
    "            f.write(' ')\n",
    "    f.write('\\n')\n",
    "            "
   ]
  },
  {
   "cell_type": "code",
   "execution_count": null,
   "metadata": {
    "collapsed": true
   },
   "outputs": [],
   "source": []
  }
 ],
 "metadata": {
  "anaconda-cloud": {},
  "kernelspec": {
   "display_name": "Python [conda root]",
   "language": "python",
   "name": "conda-root-py"
  },
  "language_info": {
   "codemirror_mode": {
    "name": "ipython",
    "version": 3
   },
   "file_extension": ".py",
   "mimetype": "text/x-python",
   "name": "python",
   "nbconvert_exporter": "python",
   "pygments_lexer": "ipython3",
   "version": "3.5.2"
  }
 },
 "nbformat": 4,
 "nbformat_minor": 1
}
