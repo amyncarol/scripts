{
 "cells": [
  {
   "cell_type": "code",
   "execution_count": 67,
   "metadata": {
    "collapsed": false
   },
   "outputs": [
    {
     "name": "stdout",
     "output_type": "stream",
     "text": [
      "{'Rb', 'Cs', 'Li', 'K', 'Na'}\n",
      "{'Rb', 'Hg', 'K', 'Na', 'Au', 'Ag', 'Cs', 'Cu', 'Tl', 'Li'}\n",
      "{'Au', 'Tl', 'Fe', 'Al', 'Ir', 'Mn', 'Mo', 'Pd', 'Cr', 'Ru', 'Nb', 'Bi', 'Ti', 'V', 'Ga', 'Co', 'Sb', 'Sc', 'As', 'Y', 'Rh', 'Ni', 'Ta', 'In'}\n",
      "{'I', 'F', 'Br', 'Cl'}\n",
      "True\n"
     ]
    }
   ],
   "source": [
    "A_set = set()\n",
    "B1_set = set()\n",
    "B2_set = set()\n",
    "X_set = set()\n",
    "value_eg = {}\n",
    "\n",
    "import re\n",
    "filename = '/Users/yao/Google Drive/data/2116/data/Eg_result'\n",
    "with open(filename,'r') as f:\n",
    "    for line in f:\n",
    "        compound = line.split()[0]\n",
    "        eg = line.split()[1]\n",
    "        value_eg[compound] = eg\n",
    "        A_set.add(re.split('1|2|6', compound)[0])\n",
    "        B1_set.add(re.split('1|2|6', compound)[1])\n",
    "        B2_set.add(re.split('1|2|6', compound)[2])\n",
    "        X_set.add(re.split('1|2|6', compound)[3])  \n",
    "print(A_set)\n",
    "print(B1_set)\n",
    "print(B2_set)\n",
    "print(X_set)\n",
    "\n",
    "A_list = ['Li','Na','K','Rb','Cs']\n",
    "B1_list = ['Li','Na','K','Rb','Cs', 'Cu','Ag','Au','Hg','Tl']\n",
    "B2_list = ['Sc', 'Y', 'Ti','V','Nb','Ta','Cr','Mo','Mn','Fe','Ru','Co','Rh','Ir',\\\n",
    "           'Ni','Pd','Au','Al','Ga','In','Tl','As','Sb','Bi']\n",
    "X_list = ['F','Cl','Br','I']\n",
    "\n",
    "if set(A_list)==A_set and set(B1_list)==B1_set and set(B2_list)==B2_set and set(X_list)==X_set:\n",
    "    print('True')\n"
   ]
  },
  {
   "cell_type": "code",
   "execution_count": 68,
   "metadata": {
    "collapsed": false,
    "scrolled": true
   },
   "outputs": [],
   "source": [
    "import numpy as np\n",
    "size_left = len(A_list)\n",
    "size_right = len(B1_list)\n",
    "size_bottom = len(B2_list)\n",
    "eg = np.zeros( (size_right,size_left,size_bottom) )\n",
    "number = 0\n",
    "for a in range(size_left):\n",
    "    for b in range(size_bottom):\n",
    "        for c in range(size_right):\n",
    "            compound = A_list[a]+'2'+B1_list[c]+'1'+B2_list[b]+'1'+X_list[0]+'6'\n",
    "            if compound in value_eg:\n",
    "                eg[c][a][b] = value_eg[compound]\n",
    "                number +=1\n",
    "            else:\n",
    "                eg[c][a][b] = 1000\n",
    "import numpy.ma as ma\n",
    "masked_eg = ma.masked_where(eg>999, eg)"
   ]
  },
  {
   "cell_type": "code",
   "execution_count": 69,
   "metadata": {
    "collapsed": false
   },
   "outputs": [],
   "source": [
    "fig = figure(figsize=(6,4))\n",
    "#cmap = cm.cool\n",
    "w = 1.2\n",
    "h = 0.15\n",
    "ax = []\n",
    "images = []\n",
    "vmin = 1e40\n",
    "vmax = -1e40\n",
    "cax = fig.add_axes([0.8, 0.2, 0.02, 0.5])"
   ]
  },
  {
   "cell_type": "code",
   "execution_count": 70,
   "metadata": {
    "collapsed": true
   },
   "outputs": [],
   "source": [
    "for i in range(size_right):\n",
    "    pos = [0, 0.56 - i*1.2*h, w, h]\n",
    "    a = fig.add_axes(pos)\n",
    "    plt.yticks(np.arange(size_left), A_list, size='small')\n",
    "    plt.xticks(np.arange(size_bottom),[])\n",
    "    if i == len(size_right): \n",
    "        plt.xticks(np.arange(size_bottom), B2_list, size='small')\n",
    "    dd = ravel(masked_eg[i])\n",
    "    # Manually find the min and max of all colors for\n",
    "    # use in setting the color scale.\n",
    "    vmin = min(vmin, amin(dd))\n",
    "    vmax = max(vmax, amax(dd))\n",
    "    images.append(a.imshow(masked_eg[i],interpolation = 'nearest',aspect=1))\n",
    "\n",
    "    ax.append(a)"
   ]
  },
  {
   "cell_type": "code",
   "execution_count": 71,
   "metadata": {
    "collapsed": false
   },
   "outputs": [
    {
     "data": {
      "image/png": "[encoded data removed]",
      "text/plain": [
       "<matplotlib.figure.Figure at 0x10e8b6780>"
      ]
     },
     "metadata": {},
     "output_type": "display_data"
    }
   ],
   "source": [
    "# Set the first image as the master, with all the others\n",
    "# observing it for changes in cmap or norm.\n",
    "\n",
    "class ImageFollower:\n",
    "    'update image in response to changes in clim or cmap on another image'\n",
    "    def __init__(self, follower):\n",
    "        self.follower = follower\n",
    "    def __call__(self, leader):\n",
    "        self.follower.set_cmap(leader.get_cmap())\n",
    "        self.follower.set_clim(leader.get_clim())\n",
    "norm = colors.Normalize(vmin=vmin, vmax=vmax)\n",
    "for i, im in enumerate(images):\n",
    "    im.set_norm(norm)\n",
    "    if i > 0:\n",
    "        images[0].callbacksSM.connect('changed', ImageFollower(im))\n",
    "fig.colorbar(images[0], cax)\n",
    "axes(ax[0])     # Return the current axes to the first one,\n",
    "sci(images[0])  # because the current image must be in current axes.\n",
    "\n",
    "#rect = fig.patch\n",
    "#rect.set_facecolor('white')\n",
    "\n",
    "ax[0].text(1.02, 0.45, \"Cl\",size='small',transform=ax[0].transAxes)\n",
    "ax[1].text(1.02, 0.45, \"Br\",size='small',transform=ax[1].transAxes)\n",
    "ax[2].text(1.02, 0.45, \"I\",size='small',transform=ax[2].transAxes)\n",
    "\n",
    "ax[0].text(1.2, 1.1, \"eV\",size=10,transform=ax[0].transAxes)\n",
    "#ax[0].text(-0.16, 1.1, \"a\", size=13,transform=ax[0].transAxes)\n",
    "plt.show()\n"
   ]
  },
  {
   "cell_type": "code",
   "execution_count": null,
   "metadata": {
    "collapsed": true
   },
   "outputs": [],
   "source": []
  }
 ],
 "metadata": {
  "anaconda-cloud": {},
  "kernelspec": {
   "display_name": "Python [conda root]",
   "language": "python",
   "name": "conda-root-py"
  },
  "language_info": {
   "codemirror_mode": {
    "name": "ipython",
    "version": 3
   },
   "file_extension": ".py",
   "mimetype": "text/x-python",
   "name": "python",
   "nbconvert_exporter": "python",
   "pygments_lexer": "ipython3",
   "version": "3.5.2"
  }
 },
 "nbformat": 4,
 "nbformat_minor": 1
}
