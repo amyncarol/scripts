{
 "cells": [
  {
   "cell_type": "code",
   "execution_count": 1,
   "metadata": {
    "collapsed": false
   },
   "outputs": [],
   "source": [
    "import csv\n",
    "import numpy as np\n",
    "with open('/Users/yao/Desktop/band offset/band offset.csv', 'r') as f:\n",
    "    reader = csv.reader(f)\n",
    "    mylist = list(reader)"
   ]
  },
  {
   "cell_type": "code",
   "execution_count": 2,
   "metadata": {
    "collapsed": false
   },
   "outputs": [],
   "source": [
    "offset_list = []\n",
    "gap_dict = {}\n",
    "for i in range(1, len(mylist)):\n",
    "    compoundA = mylist[i][0].split('/')[0]\n",
    "    compoundB = mylist[i][0].split('/')[1]\n",
    "    offset = np.mean([float(j) for j in mylist[i][1].split(',')])\n",
    "    offset_list.append([compoundA, compoundB, offset])\n",
    "    \n",
    "    if mylist[i][2] != '':\n",
    "        gapA = np.mean([float(j) for j in mylist[i][2].split(',')])\n",
    "        if compoundA not in gap_dict:\n",
    "            gap_dict[compoundA] = gapA\n",
    "        else:\n",
    "            gap_dict[compoundA] = (gap_dict[compoundA] + gapA)/2\n",
    "        \n",
    "    if mylist[i][3] != '':\n",
    "        gapB = np.mean([float(j) for j in mylist[i][3].split(',')])\n",
    "        if compoundB not in gap_dict:\n",
    "            gap_dict[compoundB] = gapB\n",
    "        else:\n",
    "            gap_dict[compoundB] = (gap_dict[compoundB] + gapB)/2\n"
   ]
  },
  {
   "cell_type": "code",
   "execution_count": 3,
   "metadata": {
    "collapsed": false
   },
   "outputs": [],
   "source": [
    "y = np.zeros((len(offset_list)))\n",
    "for i in range(len(offset_list)):\n",
    "    y[i] = offset_list[i][2]"
   ]
  },
  {
   "cell_type": "code",
   "execution_count": 4,
   "metadata": {
    "collapsed": false
   },
   "outputs": [],
   "source": [
    "from pymatgen.core.periodic_table import Element\n",
    "import json\n",
    "with open('/Users/yao/Desktop/band offset/ip.json', 'r') as f:\n",
    "    ip_dict = json.load(f)"
   ]
  },
  {
   "cell_type": "code",
   "execution_count": 5,
   "metadata": {
    "collapsed": false
   },
   "outputs": [],
   "source": [
    "def get_electroneg(el):\n",
    "    return Element(el).X"
   ]
  },
  {
   "cell_type": "code",
   "execution_count": 6,
   "metadata": {
    "collapsed": false
   },
   "outputs": [],
   "source": [
    "def get_ip(el):\n",
    "    return ip_dict[el][0]"
   ]
  },
  {
   "cell_type": "code",
   "execution_count": 7,
   "metadata": {
    "collapsed": true
   },
   "outputs": [],
   "source": [
    "def get_feature_new(function, elements):\n",
    "    '''get 6-D feature of a compounds given its elements as a list, the first 3 features belongs to cations, \n",
    "    the last 3 features belongs to anions. If there isn't 3 cations, the remaining features are the average feature\n",
    "    of all cations. Then sort it.\n",
    "    '''\n",
    "    feature_array = np.zeros(6)\n",
    "    i = 0\n",
    "    j = 5\n",
    "    if len(elements) == 1:\n",
    "        el = elements[0]\n",
    "        feature_array = np.ones(6)*function(el)\n",
    "    elif len(elements) == 2:\n",
    "        el0 = elements[0]\n",
    "        el1 = elements[1]\n",
    "        if Element(el0).X < Element(el1).X:\n",
    "            el_cation = el0\n",
    "            el_anion = el1\n",
    "        else: \n",
    "            el_cation = el1\n",
    "            el_anion = el0\n",
    "        feature_array[0:3] = np.ones(3)*function(el_cation)\n",
    "        feature_array[3:6] = np.ones(3)*function(el_anion)          \n",
    "    else: \n",
    "        for el in elements:\n",
    "            if Element(el).common_oxidation_states[0] > 0:\n",
    "                feature_array[i] = function(el)\n",
    "                i = i+1\n",
    "            else:\n",
    "                feature_array[j] = function(el)\n",
    "                j = j-1\n",
    "        if i<3:\n",
    "            for k in range(i, 3):\n",
    "                feature_array[k] = np.mean(feature_array[0:i])\n",
    "        if j>=3:\n",
    "            for k in range(3, j+1):\n",
    "                feature_array[k] = np.mean(feature_array[j+1:6])\n",
    "    return feature_array\n"
   ]
  },
  {
   "cell_type": "code",
   "execution_count": 8,
   "metadata": {
    "collapsed": false
   },
   "outputs": [],
   "source": [
    "import re\n",
    "feature_array = np.zeros((len(offset_list), 24))\n",
    "for i in range(len(offset_list)):\n",
    "    elements = re.findall(\"[A-Z][a-z]*\",offset_list[i][0])\n",
    "    feature_array_ip = get_feature_new(get_ip, elements)\n",
    "    feature_array_en = get_feature_new(get_electroneg, elements)\n",
    "    feature_array[i, 0:6] = feature_array_ip\n",
    "    feature_array[i, 6:12] = feature_array_en\n",
    "    \n",
    "    elements = re.findall(\"[A-Z][a-z]*\",offset_list[i][1])\n",
    "    feature_array_ip = get_feature_new(get_ip, elements)\n",
    "    feature_array_en = get_feature_new(get_electroneg, elements)\n",
    "    feature_array[i, 12:18] = feature_array_ip\n",
    "    feature_array[i, 18:24] = feature_array_en\n",
    "\n"
   ]
  },
  {
   "cell_type": "code",
   "execution_count": 9,
   "metadata": {
    "collapsed": false
   },
   "outputs": [],
   "source": [
    "#from scipy.io import savemat\n",
    "#savemat('/Users/yao/Desktop/band offset/gap.mat', gap_dict)"
   ]
  },
  {
   "cell_type": "code",
   "execution_count": 10,
   "metadata": {
    "collapsed": false
   },
   "outputs": [],
   "source": [
    "data = {'data': feature_array.tolist(), 'target': y.tolist()}"
   ]
  },
  {
   "cell_type": "code",
   "execution_count": 11,
   "metadata": {
    "collapsed": false
   },
   "outputs": [],
   "source": [
    "import json\n",
    "with open('/Users/yao/Desktop/band offset/data.json', 'w') as f:\n",
    "    json.dump(data, f)"
   ]
  },
  {
   "cell_type": "code",
   "execution_count": 12,
   "metadata": {
    "collapsed": true
   },
   "outputs": [],
   "source": [
    "with open('/Users/yao/Desktop/band offset/gap.json', 'w') as f:\n",
    "    json.dump(gap_dict, f)"
   ]
  },
  {
   "cell_type": "code",
   "execution_count": 23,
   "metadata": {
    "collapsed": false
   },
   "outputs": [],
   "source": [
    "with open('/Users/yao/Desktop/band offset/gap.cvs', 'w') as f:\n",
    "    for line in gap_dict:\n",
    "        f.write(line)\n",
    "        f.write(',')\n",
    "        f.write(str(gap_dict[line]))\n",
    "        f.write('\\n')\n"
   ]
  },
  {
   "cell_type": "code",
   "execution_count": 3,
   "metadata": {
    "collapsed": true
   },
   "outputs": [],
   "source": [
    "with open('/Users/yao/Desktop/band offset/offset_list.csv', 'w') as f:\n",
    "    for item in offset_list:\n",
    "        f.write(item[0])\n",
    "        f.write(',')\n",
    "        f.write(item[1])\n",
    "        f.write(',')\n",
    "        f.write(str(item[2]))\n",
    "        f.write('\\n')"
   ]
  },
  {
   "cell_type": "code",
   "execution_count": null,
   "metadata": {
    "collapsed": true
   },
   "outputs": [],
   "source": []
  }
 ],
 "metadata": {
  "anaconda-cloud": {},
  "kernelspec": {
   "display_name": "Python [conda root]",
   "language": "python",
   "name": "conda-root-py"
  },
  "language_info": {
   "codemirror_mode": {
    "name": "ipython",
    "version": 3
   },
   "file_extension": ".py",
   "mimetype": "text/x-python",
   "name": "python",
   "nbconvert_exporter": "python",
   "pygments_lexer": "ipython3",
   "version": "3.5.2"
  }
 },
 "nbformat": 4,
 "nbformat_minor": 1
}
