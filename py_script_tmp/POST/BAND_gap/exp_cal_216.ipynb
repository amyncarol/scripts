{
 "metadata": {
  "name": "",
  "signature": "sha256:238e7836ee9e7be483ae72210dde4efdebf73504741b49f3a330bec213a54a74"
 },
 "nbformat": 3,
 "nbformat_minor": 0,
 "worksheets": [
  {
   "cells": [
    {
     "cell_type": "code",
     "collapsed": false,
     "input": [],
     "language": "python",
     "metadata": {},
     "outputs": [],
     "prompt_number": 6
    },
    {
     "cell_type": "code",
     "collapsed": false,
     "input": [],
     "language": "python",
     "metadata": {},
     "outputs": [],
     "prompt_number": 6
    },
    {
     "cell_type": "code",
     "collapsed": false,
     "input": [
      "import numpy as np\n",
      "import matplotlib.pyplot as plt\n",
      "import re\n",
      "from matplotlib import rc\n",
      "import matplotlib\n",
      "import numpy.ma as ma\n",
      "\n",
      "#rc('font', **{'family':'serif','serif':['Helvetica']})\n",
      "rc('text', usetex=True)\n",
      "matplotlib.rcParams.update({'font.size': 15})"
     ],
     "language": "python",
     "metadata": {},
     "outputs": [],
     "prompt_number": 7
    },
    {
     "cell_type": "code",
     "collapsed": false,
     "input": [
      "compounds = np.array([0,1,2,3])\n",
      "Eg_exp = np.array([1.24,1.30,1.33,1.50])\n",
      "#Eg_exp = np.array([1.24,1.33,1.50])\n",
      "Eg_PBE = np.array([0.29, 0.56, 0.66, 0.63])\n",
      "Eg_HSE = np.array([1.17, 1.52, 1.39, 1.58])\n",
      "#masked_HSE = ma.masked_where(Eg_HSE == 0, Eg_HSE)\n",
      "\n"
     ],
     "language": "python",
     "metadata": {},
     "outputs": [],
     "prompt_number": 8
    },
    {
     "cell_type": "code",
     "collapsed": false,
     "input": [
      "fig, ax = plt.subplots()\n",
      "ax.plot(compounds, Eg_exp,'-o', label = r'experiment')\n",
      "#ax.plot(compounds, Eg_PBE,'-o', label = r'$Eg_{PBE}$')\n",
      "ax.plot(compounds, Eg_HSE,'-o', label = r'calculated')\n",
      "ax.set_ylabel(r'bandgap (eV)', fontsize = 20)\n",
      "#plt.yticks(np.arange(1.0, 1.8, 0.2))\n",
      "plt.xticks(np.arange(-0.5, 3.0, 0.5))\n",
      "ax.legend(loc='upper left')\n",
      "plt.show()"
     ],
     "language": "python",
     "metadata": {},
     "outputs": [],
     "prompt_number": 9
    },
    {
     "cell_type": "code",
     "collapsed": false,
     "input": [],
     "language": "python",
     "metadata": {},
     "outputs": [],
     "prompt_number": 9
    }
   ],
   "metadata": {}
  }
 ]
}