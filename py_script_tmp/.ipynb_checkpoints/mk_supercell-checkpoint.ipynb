{
 "cells": [
  {
   "cell_type": "code",
   "execution_count": 1,
   "metadata": {
    "collapsed": false
   },
   "outputs": [],
   "source": [
    "from pymatgen import core\n",
    "from pymatgen.core import sites\n",
    "from pymatgen.symmetry import analyzer\n",
    "from pymatgen.symmetry.analyzer import SpacegroupAnalyzer\n",
    "from pymatgen.io.smartio import read_structure, write_structure\n",
    "from pymatgen.io import vaspio_set\n",
    "import os\n",
    "import shutil\n",
    "import copy\n",
    "import numpy as np"
   ]
  },
  {
   "cell_type": "code",
   "execution_count": 2,
   "metadata": {
    "collapsed": false
   },
   "outputs": [
    {
     "name": "stderr",
     "output_type": "stream",
     "text": [
      "-c:1: DeprecationWarning: read_structure is deprecated; use from_file in pymatgen.core.structure instead.\n"
     ]
    }
   ],
   "source": [
    "s1 = read_structure(\"/Users/yao/Downloads/POSCAR.vasp\")"
   ]
  },
  {
   "cell_type": "code",
   "execution_count": 3,
   "metadata": {
    "collapsed": false
   },
   "outputs": [],
   "source": [
    "s1.make_supercell([2,2,2])"
   ]
  },
  {
   "cell_type": "code",
   "execution_count": 4,
   "metadata": {
    "collapsed": false
   },
   "outputs": [
    {
     "data": {
      "text/plain": [
       "Structure Summary\n",
       "Lattice\n",
       "    abc : 12.5645010133408 12.5645010133408 12.5645010133408\n",
       " angles : 90.0 90.0 90.0\n",
       " volume : 1983.5161326293473\n",
       "      A : 12.5645010133408 0.0 0.0\n",
       "      B : 0.0 12.5645010133408 0.0\n",
       "      C : 0.0 0.0 12.5645010133408\n",
       "PeriodicSite: Cs (3.1411, 3.1411, 3.1411) [0.2500, 0.2500, 0.2500]\n",
       "PeriodicSite: Cs (3.1411, 3.1411, 9.4234) [0.2500, 0.2500, 0.7500]\n",
       "PeriodicSite: Cs (3.1411, 9.4234, 3.1411) [0.2500, 0.7500, 0.2500]\n",
       "PeriodicSite: Cs (3.1411, 9.4234, 9.4234) [0.2500, 0.7500, 0.7500]\n",
       "PeriodicSite: Cs (9.4234, 3.1411, 3.1411) [0.7500, 0.2500, 0.2500]\n",
       "PeriodicSite: Cs (9.4234, 3.1411, 9.4234) [0.7500, 0.2500, 0.7500]\n",
       "PeriodicSite: Cs (9.4234, 9.4234, 3.1411) [0.7500, 0.7500, 0.2500]\n",
       "PeriodicSite: Cs (9.4234, 9.4234, 9.4234) [0.7500, 0.7500, 0.7500]\n",
       "PeriodicSite: Sn (0.0000, 0.0000, 0.0000) [0.0000, 0.0000, 0.0000]\n",
       "PeriodicSite: Sn (0.0000, 0.0000, 6.2823) [0.0000, 0.0000, 0.5000]\n",
       "PeriodicSite: Sn (0.0000, 6.2823, 0.0000) [0.0000, 0.5000, 0.0000]\n",
       "PeriodicSite: Sn (0.0000, 6.2823, 6.2823) [0.0000, 0.5000, 0.5000]\n",
       "PeriodicSite: Sn (6.2823, 0.0000, 0.0000) [0.5000, 0.0000, 0.0000]\n",
       "PeriodicSite: Sn (6.2823, 0.0000, 6.2823) [0.5000, 0.0000, 0.5000]\n",
       "PeriodicSite: Sn (6.2823, 6.2823, 0.0000) [0.5000, 0.5000, 0.0000]\n",
       "PeriodicSite: Sn (6.2823, 6.2823, 6.2823) [0.5000, 0.5000, 0.5000]\n",
       "PeriodicSite: I (3.1411, 0.0000, 0.0000) [0.2500, 0.0000, 0.0000]\n",
       "PeriodicSite: I (3.1411, 0.0000, 6.2823) [0.2500, 0.0000, 0.5000]\n",
       "PeriodicSite: I (3.1411, 6.2823, 0.0000) [0.2500, 0.5000, 0.0000]\n",
       "PeriodicSite: I (3.1411, 6.2823, 6.2823) [0.2500, 0.5000, 0.5000]\n",
       "PeriodicSite: I (9.4234, 0.0000, 0.0000) [0.7500, 0.0000, 0.0000]\n",
       "PeriodicSite: I (9.4234, 0.0000, 6.2823) [0.7500, 0.0000, 0.5000]\n",
       "PeriodicSite: I (9.4234, 6.2823, 0.0000) [0.7500, 0.5000, 0.0000]\n",
       "PeriodicSite: I (9.4234, 6.2823, 6.2823) [0.7500, 0.5000, 0.5000]\n",
       "PeriodicSite: I (0.0000, 0.0000, 3.1411) [0.0000, 0.0000, 0.2500]\n",
       "PeriodicSite: I (0.0000, 0.0000, 9.4234) [0.0000, 0.0000, 0.7500]\n",
       "PeriodicSite: I (0.0000, 6.2823, 3.1411) [0.0000, 0.5000, 0.2500]\n",
       "PeriodicSite: I (0.0000, 6.2823, 9.4234) [0.0000, 0.5000, 0.7500]\n",
       "PeriodicSite: I (6.2823, 0.0000, 3.1411) [0.5000, 0.0000, 0.2500]\n",
       "PeriodicSite: I (6.2823, 0.0000, 9.4234) [0.5000, 0.0000, 0.7500]\n",
       "PeriodicSite: I (6.2823, 6.2823, 3.1411) [0.5000, 0.5000, 0.2500]\n",
       "PeriodicSite: I (6.2823, 6.2823, 9.4234) [0.5000, 0.5000, 0.7500]\n",
       "PeriodicSite: I (0.0000, 3.1411, 0.0000) [0.0000, 0.2500, 0.0000]\n",
       "PeriodicSite: I (0.0000, 3.1411, 6.2823) [0.0000, 0.2500, 0.5000]\n",
       "PeriodicSite: I (0.0000, 9.4234, 0.0000) [0.0000, 0.7500, 0.0000]\n",
       "PeriodicSite: I (0.0000, 9.4234, 6.2823) [0.0000, 0.7500, 0.5000]\n",
       "PeriodicSite: I (6.2823, 3.1411, 0.0000) [0.5000, 0.2500, 0.0000]\n",
       "PeriodicSite: I (6.2823, 3.1411, 6.2823) [0.5000, 0.2500, 0.5000]\n",
       "PeriodicSite: I (6.2823, 9.4234, 0.0000) [0.5000, 0.7500, 0.0000]\n",
       "PeriodicSite: I (6.2823, 9.4234, 6.2823) [0.5000, 0.7500, 0.5000]"
      ]
     },
     "execution_count": 4,
     "metadata": {},
     "output_type": "execute_result"
    }
   ],
   "source": [
    "s1"
   ]
  },
  {
   "cell_type": "code",
   "execution_count": 4,
   "metadata": {
    "collapsed": false
   },
   "outputs": [
    {
     "name": "stderr",
     "output_type": "stream",
     "text": [
      "-c:1: DeprecationWarning: write_structure is deprecated; use to in pymatgen.core.structure instead.\n"
     ]
    }
   ],
   "source": [
    "write_structure(s1,\"/Users/yao/Downloads/POSCAR_222.vasp\")"
   ]
  },
  {
   "cell_type": "code",
   "execution_count": null,
   "metadata": {
    "collapsed": false
   },
   "outputs": [],
   "source": []
  }
 ],
 "metadata": {
  "kernelspec": {
   "display_name": "Python 2",
   "language": "python",
   "name": "python2"
  },
  "language_info": {
   "codemirror_mode": {
    "name": "ipython",
    "version": 2
   },
   "file_extension": ".py",
   "mimetype": "text/x-python",
   "name": "python",
   "nbconvert_exporter": "python",
   "pygments_lexer": "ipython2",
   "version": "2.7.9"
  }
 },
 "nbformat": 4,
 "nbformat_minor": 0
}
