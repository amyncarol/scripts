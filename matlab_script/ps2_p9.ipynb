{
 "cells": [
  {
   "cell_type": "markdown",
   "metadata": {},
   "source": [
    "# Problem 9"
   ]
  },
  {
   "cell_type": "code",
   "execution_count": 20,
   "metadata": {
    "collapsed": false
   },
   "outputs": [],
   "source": [
    "m = 50;\n",
    "n = 12;\n",
    "t = linspace(0, 1, m);\n",
    "A = fliplr(vander(t));\n",
    "A = A(:,1:n);\n",
    "b  = cos(4*t)';\n",
    "format long;"
   ]
  },
  {
   "cell_type": "code",
   "execution_count": 21,
   "metadata": {
    "collapsed": false
   },
   "outputs": [],
   "source": [
    "x1 = (A'*A) \\ (A'*b); %via normal equations"
   ]
  },
  {
   "cell_type": "code",
   "execution_count": 22,
   "metadata": {
    "collapsed": false
   },
   "outputs": [],
   "source": [
    "[Q, R] = mgs(A); %QR by GS\n",
    "x2 = R \\ (Q'*b);"
   ]
  },
  {
   "cell_type": "code",
   "execution_count": 23,
   "metadata": {
    "collapsed": false
   },
   "outputs": [],
   "source": [
    "[W, R] = house(A); %QR by house and formQ\n",
    "Q = formQ(W);\n",
    "R = R(1:n,:);\n",
    "Q = Q(:,1:n);\n",
    "x3 = R \\ (Q'*b);"
   ]
  },
  {
   "cell_type": "code",
   "execution_count": 24,
   "metadata": {
    "collapsed": false
   },
   "outputs": [],
   "source": [
    "[Q, R] = qr(A); %QR by matlab qr\n",
    "R = R(1:n,:);\n",
    "Q = Q(:,1:n);\n",
    "x4 = R \\ (Q'*b);"
   ]
  },
  {
   "cell_type": "code",
   "execution_count": 25,
   "metadata": {
    "collapsed": false
   },
   "outputs": [],
   "source": [
    "x5 = A \\ b;  %matlab \\"
   ]
  },
  {
   "cell_type": "code",
   "execution_count": 26,
   "metadata": {
    "collapsed": false
   },
   "outputs": [],
   "source": [
    "[U, S, V] = svd(A);\n",
    "U = U(:,1:n);\n",
    "S = S(1:n,:);\n",
    "w = S \\ (U'*b);\n",
    "x6 = V*w;"
   ]
  },
  {
   "cell_type": "markdown",
   "metadata": {},
   "source": [
    "##### Let's compare how close these x's are......"
   ]
  },
  {
   "cell_type": "code",
   "execution_count": 27,
   "metadata": {
    "collapsed": false
   },
   "outputs": [
    {
     "name": "stdout",
     "output_type": "stream",
     "text": [
      "X =\n",
      "\n",
      "  Columns 1 through 3\n",
      "\n",
      "   0.999999990614842   0.999999998015051   1.000000000996588\n",
      "   0.000002452799650   0.000000469488510  -0.000000422742266\n",
      "  -8.000086290222040  -8.000014958545339  -7.999981235698454\n",
      "   0.001196064273402   0.000180490884696  -0.000318763118336\n",
      "  10.658041828075412  10.665594073595351  10.669430795282686\n",
      "   0.036784661286231   0.003549254721040  -0.013820285825107\n",
      "  -5.788630034313583  -5.696455740821943  -5.647075632435818\n",
      "   0.180862660210075   0.015326533370465  -0.075316016284615\n",
      "   1.394084334682739   1.586291350737795   1.693606955061810\n",
      "   0.224454595637383   0.085168775293474   0.006032114362371\n",
      "  -0.464571783079653  -0.407298167572026  -0.374241705589680\n",
      "   0.104217905167871   0.094014303430907   0.088040576429058\n",
      "\n",
      "  Columns 4 through 6\n",
      "\n",
      "   1.000000000996610   1.000000000996607   1.000000000996609\n",
      "  -0.000000422743121  -0.000000422743317  -0.000000422743096\n",
      "  -7.999981235683856  -7.999981235677461  -7.999981235684206\n",
      "  -0.000318763251387  -0.000318763331109  -0.000318763248673\n",
      "  10.669430796013009  10.669430796544781  10.669430796001851\n",
      "  -0.013820288399245  -0.013820290543073  -0.013820288374727\n",
      "  -5.647075626416855  -5.647075620881788  -5.647075626439904\n",
      "  -0.075316025716648  -0.075316035084123  -0.075316025730186\n",
      "   1.693606964851733   1.693606975197815   1.693606964911086\n",
      "   0.006032107906986   0.006032100723193   0.006032107842733\n",
      "  -0.374241703141415  -0.374241700294705  -0.374241703109375\n",
      "   0.088040576022426   0.088040575531418   0.088040576016124\n",
      "\n",
      "norm(x1-x2)=0.311110000007273\n",
      "norm(x1-x3)=0.483943640607072\n",
      "norm(x1-x4)=0.483943657090636\n",
      "norm(x1-x5)=0.483943674098817\n",
      "norm(x1-x6)=0.483943657160152\n",
      "norm(x2-x3)=0.172854863410640\n",
      "norm(x2-x4)=0.172854879867049\n",
      "norm(x2-x5)=0.172854896861448\n",
      "norm(x2-x6)=0.172854879937455\n",
      "norm(x3-x4)=0.000000016614529\n",
      "norm(x3-x5)=0.000000033632474\n",
      "norm(x3-x6)=0.000000016674565\n",
      "norm(x4-x5)=0.000000017037162\n",
      "norm(x4-x6)=0.000000000100822\n",
      "norm(x5-x6)=0.000000016972156\n"
     ]
    }
   ],
   "source": [
    "X = [x1 x2 x3 x4 x5 x6]\n",
    "for i = 1:6\n",
    "    for j = (i+1):6\n",
    "        distance = norm(X(:,i)-X(:,j));\n",
    "        fprintf('norm(x%i-x%i)=%16.15f\\n', i, j, distance)\n",
    "    end\n",
    "end"
   ]
  },
  {
   "cell_type": "markdown",
   "metadata": {},
   "source": [
    "#####  It seems #4 (matlab qr) and #6 (matlab svd) are the best. Then #3 (house.m) and #5 (matlab \\\\) follows. #1 (normal equations) and #2 (mgs.m) are not good.... \n",
    "#### Then let's look at entry-wise error:\n",
    "\n",
    "\n"
   ]
  },
  {
   "cell_type": "code",
   "execution_count": 28,
   "metadata": {
    "collapsed": false
   },
   "outputs": [
    {
     "name": "stdout",
     "output_type": "stream",
     "text": [
      "err =\n",
      "\n",
      "  Columns 1 through 3\n",
      "\n",
      "   0.000000010381767   0.000000002981558   0.000000000000021\n",
      "   0.000002875542746   0.000000892231606   0.000000000000830\n",
      "   0.000105054537833   0.000033722861133   0.000000000014247\n",
      "   0.001514827522076   0.000499254133370   0.000000000130338\n",
      "   0.011388967926440   0.003836722406501   0.000000000719165\n",
      "   0.050604949660958   0.017369543095767   0.000000002549620\n",
      "   0.141554407873679   0.049380114382039   0.000000005995915\n",
      "   0.256178685940261   0.090642559100651   0.000000009445571\n",
      "   0.299522630228347   0.107315614173291   0.000000009849276\n",
      "   0.218422487794650   0.079136667450741   0.000000006519638\n",
      "   0.090330079970278   0.033056464462651   0.000000002480305\n",
      "   0.016177329151747   0.005973727414784   0.000000000412934\n",
      "\n",
      "  Columns 4 through 6\n",
      "\n",
      "   0.000000000000001   0.000000000000002                   0\n",
      "   0.000000000000026   0.000000000000222                   0\n",
      "   0.000000000000350   0.000000000006746                   0\n",
      "   0.000000000002714   0.000000000082435                   0\n",
      "   0.000000000011157   0.000000000542929                   0\n",
      "   0.000000000024518   0.000000002168346                   0\n",
      "   0.000000000023048   0.000000005558116                   0\n",
      "   0.000000000013538   0.000000009353936                   0\n",
      "   0.000000000059353   0.000000010286729                   0\n",
      "   0.000000000064253   0.000000007119539                   0\n",
      "   0.000000000032039   0.000000002814671                   0\n",
      "   0.000000000006303   0.000000000484706                   0\n"
     ]
    }
   ],
   "source": [
    "err = zeros(12, 6); %entry-wise error from x6(svd)\n",
    "for l = 1:n\n",
    "    for i = 1:6\n",
    "        distance = norm(X(l,i)-X(l,6));\n",
    "        err(l, i) = distance;\n",
    "    end\n",
    "end\n",
    "err\n"
   ]
  },
  {
   "cell_type": "markdown",
   "metadata": {},
   "source": [
    "#####  the first elements of x's have smallest error, and then errors increase first and then decrease. The normal equations method is the worst among these six methods, it is unstable."
   ]
  }
 ],
 "metadata": {
  "kernelspec": {
   "display_name": "Matlab",
   "language": "matlab",
   "name": "matlab"
  },
  "language_info": {
   "codemirror_mode": "octave",
   "file_extension": ".m",
   "help_links": [
    {
     "text": "MetaKernel Magics",
     "url": "https://github.com/calysto/metakernel/blob/master/metakernel/magics/README.md"
    }
   ],
   "mimetype": "text/x-octave",
   "name": "matlab",
   "version": "0.11.0"
  }
 },
 "nbformat": 4,
 "nbformat_minor": 1
}
