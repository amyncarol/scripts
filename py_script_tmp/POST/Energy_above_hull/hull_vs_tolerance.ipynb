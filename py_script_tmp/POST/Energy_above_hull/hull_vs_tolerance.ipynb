{
 "metadata": {
  "name": "",
  "signature": "sha256:d7a678dbddc2f71350145cd60eadddca540efcba6895b317d448f20cbb329986"
 },
 "nbformat": 3,
 "nbformat_minor": 0,
 "worksheets": [
  {
   "cells": [
    {
     "cell_type": "code",
     "collapsed": false,
     "input": [
      "from pymatgen.core.periodic_table import Specie\n",
      "from pymatgen.matproj.rest import MPRester\n",
      "from pymatgen.phasediagram.pdmaker import PhaseDiagram\n",
      "from pymatgen.phasediagram.plotter import PDPlotter\n",
      "from pymatgen.core.periodic_table import Element\n",
      "import pymatgen.core.periodic_table as pt\n",
      "import math\n",
      "import numpy as np\n",
      "import re"
     ],
     "language": "python",
     "metadata": {},
     "outputs": [],
     "prompt_number": 49
    },
    {
     "cell_type": "code",
     "collapsed": false,
     "input": [
      "Hull = open('/Users/yao/Hull','r')\n",
      "Hull_mat = Hull.readlines()\n",
      "for line in Hull_mat:\n",
      "    match = re.match(r\"([A-Za-z]+)([.]+)\", line, re.I)\n",
      "    if match:\n",
      "        items = match.groups()\n",
      "        print item[0]"
     ],
     "language": "python",
     "metadata": {},
     "outputs": [],
     "prompt_number": 57
    },
    {
     "cell_type": "code",
     "collapsed": false,
     "input": [],
     "language": "python",
     "metadata": {},
     "outputs": [],
     "prompt_number": 30
    },
    {
     "cell_type": "code",
     "collapsed": false,
     "input": [],
     "language": "python",
     "metadata": {},
     "outputs": []
    }
   ],
   "metadata": {}
  }
 ]
}