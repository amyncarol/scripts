{
 "cells": [
  {
   "cell_type": "code",
   "execution_count": 1,
   "metadata": {
    "collapsed": true
   },
   "outputs": [],
   "source": [
    "from pymatgen.io.vasp.outputs import Vasprun\n",
    "import glob\n",
    "import os"
   ]
  },
  {
   "cell_type": "code",
   "execution_count": 2,
   "metadata": {
    "collapsed": false
   },
   "outputs": [],
   "source": [
    "cubic_vr = Vasprun(\"/Users/yao/Google Drive/data/216/vasprun-files/Rb2Sn1I6/vasprun.xml\")\n",
    "cubic_a = cubic_vr.final_structure.lattice.abc[0]"
   ]
  },
  {
   "cell_type": "code",
   "execution_count": 3,
   "metadata": {
    "collapsed": false
   },
   "outputs": [],
   "source": [
    "tetragonal_a = 8.068500\n",
    "tetragonal_c = 11.785500\n",
    "ratio_a = tetragonal_a/cubic_a\n",
    "ratio_c = tetragonal_c/cubic_a"
   ]
  },
  {
   "cell_type": "code",
   "execution_count": 4,
   "metadata": {
    "collapsed": false
   },
   "outputs": [
    {
     "name": "stdout",
     "output_type": "stream",
     "text": [
      "7.87233\n",
      "7.54303\n",
      "7.564829\n",
      "7.16719\n",
      "7.684252\n",
      "7.309137\n"
     ]
    }
   ],
   "source": [
    "for dir in glob.glob('/Users/yao/Google Drive/data/216/216_tetra_tmp/tetra/*2*1*6'):\n",
    "    compound = dir[53:]\n",
    "    vr = Vasprun(\"/Users/yao/Google Drive/data/216/vasprun-files/\"+compound+\"/vasprun.xml\")\n",
    "    a = vr.final_structure.lattice.abc[0]\n",
    "    print(a)\n",
    "    a_t = a*ratio_a\n",
    "    c_t = a*ratio_c\n",
    "    with open(dir+'/POSCAR', 'r') as f:\n",
    "        lines = f.readlines()\n",
    "        lines[2] = str(a_t) + ' ' + '0.000' + ' ' + '0.000' + '\\n'\n",
    "        lines[3] = '0.000' + ' ' + str(a_t) + ' ' + '0.000' + '\\n'\n",
    "        lines[4] = '0.000' + ' ' + '0.000' + ' ' + str(c_t) + '\\n'\n",
    "    with open(dir+'/POSCAR_1', 'w') as f:\n",
    "        for line in lines:\n",
    "            f.write(line)\n",
    "    os.rename(dir+'/POSCAR_1', dir+'/POSCAR')"
   ]
  },
  {
   "cell_type": "code",
   "execution_count": null,
   "metadata": {
    "collapsed": true
   },
   "outputs": [],
   "source": []
  }
 ],
 "metadata": {
  "anaconda-cloud": {},
  "kernelspec": {
   "display_name": "Python [conda root]",
   "language": "python",
   "name": "conda-root-py"
  },
  "language_info": {
   "codemirror_mode": {
    "name": "ipython",
    "version": 3
   },
   "file_extension": ".py",
   "mimetype": "text/x-python",
   "name": "python",
   "nbconvert_exporter": "python",
   "pygments_lexer": "ipython3",
   "version": "3.5.2"
  }
 },
 "nbformat": 4,
 "nbformat_minor": 1
}
