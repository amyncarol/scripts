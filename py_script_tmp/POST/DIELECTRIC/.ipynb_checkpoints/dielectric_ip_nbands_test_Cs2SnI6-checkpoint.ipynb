{
 "cells": [
  {
   "cell_type": "code",
   "execution_count": 1,
   "metadata": {
    "collapsed": true
   },
   "outputs": [],
   "source": [
    "from pymatgen.io.vasp.outputs import Vasprun\n",
    "import matplotlib.pyplot as plt\n",
    "import re"
   ]
  },
  {
   "cell_type": "code",
   "execution_count": 2,
   "metadata": {
    "collapsed": false
   },
   "outputs": [
    {
     "name": "stderr",
     "output_type": "stream",
     "text": [
      "/usr/local/lib/python2.7/site-packages/pymatgen/io/vasp/outputs.py:809: UserWarning: No POTCAR file with matching TITEL fields was found in /Users/yao/Google Drive/data/216/216-freq-dielectric/Cs2SnI6/ip/NBANDS-96\n",
      "  \" was found in {}\".format(os.path.abspath(p)))\n"
     ]
    }
   ],
   "source": [
    "# for LOPTICS parsing\n",
    "vr = Vasprun('/Users/yao/Google Drive/data/216/216-freq-dielectric/Cs2SnI6/ip/NBANDS-96/vasprun.xml')\n",
    "energy = vr.dielectric[0]\n",
    "real_tensor = vr.dielectric[1]\n",
    "imag_tensor = vr.dielectric[2]\n",
    "nedos = len(energy)\n",
    "real_iso = []\n",
    "imag_iso = []\n",
    "for i in range(nedos):\n",
    "    real_iso.append(real_tensor[i][0])\n",
    "    imag_iso.append(imag_tensor[i][0])"
   ]
  },
  {
   "cell_type": "code",
   "execution_count": 3,
   "metadata": {
    "collapsed": false
   },
   "outputs": [
    {
     "name": "stderr",
     "output_type": "stream",
     "text": [
      "/usr/local/lib/python2.7/site-packages/pymatgen/io/vasp/outputs.py:809: UserWarning: No POTCAR file with matching TITEL fields was found in /Users/yao/Google Drive/data/216/216-freq-dielectric/Cs2SnI6/ip/NBANDS-144\n",
      "  \" was found in {}\".format(os.path.abspath(p)))\n"
     ]
    }
   ],
   "source": [
    "# for LOPTICS parsing\n",
    "vr2 = Vasprun('/Users/yao/Google Drive/data/216/216-freq-dielectric/Cs2SnI6/ip/NBANDS-144/vasprun.xml')\n",
    "energy2 = vr2.dielectric[0]\n",
    "real_tensor2 = vr2.dielectric[1]\n",
    "imag_tensor2 = vr2.dielectric[2]\n",
    "nedos2 = len(energy2)\n",
    "real_iso2 = []\n",
    "imag_iso2 = []\n",
    "for i in range(nedos2):\n",
    "    real_iso2.append(real_tensor2[i][0])\n",
    "    imag_iso2.append(imag_tensor2[i][0])"
   ]
  },
  {
   "cell_type": "code",
   "execution_count": 4,
   "metadata": {
    "collapsed": false
   },
   "outputs": [
    {
     "name": "stderr",
     "output_type": "stream",
     "text": [
      "/usr/local/lib/python2.7/site-packages/pymatgen/io/vasp/outputs.py:809: UserWarning: No POTCAR file with matching TITEL fields was found in /Users/yao/Google Drive/data/216/216-freq-dielectric/Cs2SnI6/ip/NBANDS-192\n",
      "  \" was found in {}\".format(os.path.abspath(p)))\n"
     ]
    }
   ],
   "source": [
    "# for LOPTICS parsing\n",
    "vr3 = Vasprun('/Users/yao/Google Drive/data/216/216-freq-dielectric/Cs2SnI6/ip/NBANDS-192/vasprun.xml')\n",
    "energy3 = vr3.dielectric[0]\n",
    "real_tensor3 = vr3.dielectric[1]\n",
    "imag_tensor3 = vr3.dielectric[2]\n",
    "nedos3 = len(energy3)\n",
    "real_iso3 = []\n",
    "imag_iso3 = []\n",
    "for i in range(nedos3):\n",
    "    real_iso3.append(real_tensor3[i][0])\n",
    "    imag_iso3.append(imag_tensor3[i][0])"
   ]
  },
  {
   "cell_type": "code",
   "execution_count": null,
   "metadata": {
    "collapsed": true
   },
   "outputs": [],
   "source": []
  },
  {
   "cell_type": "code",
   "execution_count": 5,
   "metadata": {
    "collapsed": false
   },
   "outputs": [],
   "source": [
    "plt.plot(energy, imag_iso, label='imaginery-ip-nbands96(loptics)')\n",
    "plt.plot(energy2, imag_iso2, label='imaginery-ip-nbands144(loptics)')\n",
    "plt.plot(energy3, imag_iso3, label='imaginery-ip-nbands192(loptics)')\n",
    "#plt.plot(energy, real_iso, label='real')\n",
    "plt.legend()\n",
    "plt.show()\n",
    "    "
   ]
  },
  {
   "cell_type": "code",
   "execution_count": null,
   "metadata": {
    "collapsed": false
   },
   "outputs": [],
   "source": []
  },
  {
   "cell_type": "code",
   "execution_count": null,
   "metadata": {
    "collapsed": true
   },
   "outputs": [],
   "source": []
  }
 ],
 "metadata": {
  "anaconda-cloud": {},
  "kernelspec": {
   "display_name": "Python 2",
   "language": "python",
   "name": "python2"
  },
  "language_info": {
   "codemirror_mode": {
    "name": "ipython",
    "version": 2
   },
   "file_extension": ".py",
   "mimetype": "text/x-python",
   "name": "python",
   "nbconvert_exporter": "python",
   "pygments_lexer": "ipython2",
   "version": "2.7.13"
  }
 },
 "nbformat": 4,
 "nbformat_minor": 1
}
