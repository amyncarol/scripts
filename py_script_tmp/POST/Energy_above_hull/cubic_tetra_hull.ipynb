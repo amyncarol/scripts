{
 "metadata": {
  "name": "",
  "signature": "sha256:9ec449d7e1c4b4c1ac63712a43bccf0959a7312c53795fa1c391f4af42d24721"
 },
 "nbformat": 3,
 "nbformat_minor": 0,
 "worksheets": [
  {
   "cells": [
    {
     "cell_type": "code",
     "collapsed": false,
     "input": [
      "import numpy as np\n",
      "import matplotlib.pyplot as plt\n",
      "import matplotlib.cbook as cbook\n",
      "import re\n",
      "from matplotlib.pyplot import figure, show, axes, sci\n",
      "from matplotlib import cm, colors\n",
      "from matplotlib.font_manager import FontProperties\n",
      "from numpy import amin, amax, ravel"
     ],
     "language": "python",
     "metadata": {},
     "outputs": [],
     "prompt_number": 1
    },
    {
     "cell_type": "code",
     "collapsed": false,
     "input": [
      "data_cubic = open('/Users/yao/Hull_SnNiMn_cubic','r')\n",
      "data_tet = open('/Users/yao/Hull_SnNiMn_tet','r')"
     ],
     "language": "python",
     "metadata": {},
     "outputs": [],
     "prompt_number": 6
    },
    {
     "cell_type": "code",
     "collapsed": false,
     "input": [
      "value_cubic = []\n",
      "compounds = []\n",
      "lines = data_cubic.readlines()\n",
      "for line in lines:\n",
      "    match = re.match(r\"([a-z0-9]+)([ ]+)([0-9.]+)\", line, re.I)\n",
      "    if match:\n",
      "        items = match.groups()\n",
      "        compounds.append(items[0])\n",
      "        value_cubic.append(float(items[2]))\n",
      "print value_cubic\n",
      "print compounds"
     ],
     "language": "python",
     "metadata": {},
     "outputs": [
      {
       "output_type": "stream",
       "stream": "stdout",
       "text": [
        "[0.00731119388889, 0.0139154361111, 0.0487999831944, 0.0, 0.0, 0.0406513694444, 0.0, 0.0, 0.0203621683333, 0.0, 0.0, 0.0129753920833, 0.0, 0.0, 0.0746938472222, 0.0, 0.0, 0.00848633833333, 0.0, 0.0, 0.0, 0.0, 0.0180823897222, 0.0, 0.0, 0.00605618657407]\n",
        "['K2Sn1Cl6', 'K2Sn1Br6', 'K2Sn1I6', 'K2Ni1Cl6', 'K2Ni1Br6', 'K2Ni1I6', 'K2Mn1Cl6', 'K2Mn1Br6', 'K2Mn1I6', 'Rb2Sn1Cl6', 'Rb2Sn1Br6', 'Rb2Sn1I6', 'Rb2Ni1Cl6', 'Rb2Ni1Br6', 'Rb2Ni1I6', 'Rb2Mn1Cl6', 'Rb2Mn1Br6', 'Rb2Mn1I6', 'Cs2Sn1Cl6', 'Cs2Sn1Br6', 'Cs2Sn1I6', 'Cs2Ni1Cl6', 'Cs2Ni1Br6', 'Cs2Mn1Cl6', 'Cs2Mn1Br6', 'Cs2Mn1I6']\n"
       ]
      }
     ],
     "prompt_number": 7
    },
    {
     "cell_type": "code",
     "collapsed": false,
     "input": [
      "value_tet = []\n",
      "lines = data_tet.readlines()\n",
      "for line in lines:\n",
      "    match = re.match(r\"([a-z0-9]+)([ ]+)([0-9.]+)\", line, re.I)\n",
      "    if match:\n",
      "        items = match.groups()\n",
      "        value_tet.append(float(items[2]))\n",
      "print value_tet"
     ],
     "language": "python",
     "metadata": {},
     "outputs": [
      {
       "output_type": "stream",
       "stream": "stdout",
       "text": [
        "[0.00108472944444, 0.00429027166667, 0.0283419993056, 0.0, 0.0, 0.0319728722222, 0.0, 0.0, 0.0100148216667, 0.0, 0.0, 0.00457192875, 0.0, 0.0, 0.0355293127778, 0.000133943333333, 0.0, 0.007715535, 0.0, 0.0, 0.0, 0.0, 0.0, 0.0, 0.0, 0.00602590601852]\n"
       ]
      }
     ],
     "prompt_number": 8
    },
    {
     "cell_type": "code",
     "collapsed": false,
     "input": [
      "fig, ax = plt.subplots()\n",
      "ax.plot(value_cubic, '-o', label = 'cubic', linewidth = 2, markersize = 10)\n",
      "ax.plot(value_tet, '-o', label = 'tetra', linewidth = 2, markersize = 10)\n",
      "for x, y, z in zip(np.arange(26), value_tet, compounds):\n",
      "    ax.text(x, y,'%s' % z, rotation=90)\n",
      "show()"
     ],
     "language": "python",
     "metadata": {},
     "outputs": [],
     "prompt_number": 9
    },
    {
     "cell_type": "code",
     "collapsed": false,
     "input": [],
     "language": "python",
     "metadata": {},
     "outputs": []
    }
   ],
   "metadata": {}
  }
 ]
}