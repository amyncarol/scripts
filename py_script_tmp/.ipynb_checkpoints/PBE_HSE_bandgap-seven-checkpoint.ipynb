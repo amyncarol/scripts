{
 "cells": [
  {
   "cell_type": "code",
   "execution_count": 1,
   "metadata": {
    "collapsed": false
   },
   "outputs": [
    {
     "data": {
      "text/plain": [
       "u'/Users/yao/Google Drive/py_script/matplotlibrc'"
      ]
     },
     "execution_count": 1,
     "metadata": {},
     "output_type": "execute_result"
    }
   ],
   "source": [
    "import numpy as np\n",
    "import matplotlib.pyplot as plt\n",
    "import re\n",
    "from matplotlib import rc\n",
    "import matplotlib\n",
    "matplotlib.matplotlib_fname()\n"
   ]
  },
  {
   "cell_type": "code",
   "execution_count": 2,
   "metadata": {
    "collapsed": false
   },
   "outputs": [],
   "source": [
    "compounds = np.array([r'$Cs_2SnI_6$',r'$Rb_2SnI_6$', r'$Cs_2PdI_6$',r'$Cs_2PtI_6$',r'$Rb_2PtI_6$',r'$K_2PtI_6$',r'$Cs_2TeI_6$'])\n",
    "Eg_PBE_cubic = np.array([0.2883, 0.1534, 0.1536, 0.6561, 0.5144, 0.4242, 1.5068])\n",
    "Eg_PBE_tetra = np.array([0.3674, 0.6714, 0.1279, 0.6174, 0.7456, 0.9131, 1.4475])\n",
    "Eg_HSE_cubic = np.array([1.172, 1.0215, 0.8587, 1.472, 1.3036, 1.1957, 2.1872])\n",
    "Eg_HSE_tetra = np.array([1.2167, 1.51, 0.85, 1.4634, 1.5741, 1.6492, 2.0804])\n",
    "Eg_exp = np.array([1.24, 1.33, 1000, 1000, 1000, 1000, 1000])\n",
    "\n",
    "comp = np.arange(len(compounds))"
   ]
  },
  {
   "cell_type": "code",
   "execution_count": null,
   "metadata": {
    "collapsed": false
   },
   "outputs": [],
   "source": [
    "Eg_exp_masked = np.ma.masked_array(Eg_exp, Eg_exp == 1000)"
   ]
  },
  {
   "cell_type": "code",
   "execution_count": null,
   "metadata": {
    "collapsed": false
   },
   "outputs": [],
   "source": []
  },
  {
   "cell_type": "code",
   "execution_count": null,
   "metadata": {
    "collapsed": false
   },
   "outputs": [],
   "source": [
    "fig, ax = plt.subplots()\n",
    "#ax.plot(comp, Eg_PBE_cubic,'-o', color='r', ms = 10, mew = 0, lw=2, label ='GGA-PBE cubic')\n",
    "ax.plot(comp, Eg_PBE_tetra,'--o', color='b', ms = 10, mew = 0, lw=2, label ='GGA-PBE')\n",
    "#ax.plot(comp, Eg_HSE_cubic,'-o', color='b', ms = 10, mew = 0, lw=2, label ='HSE06 cubic')\n",
    "ax.plot(comp, Eg_HSE_tetra,'--s',color='r', ms = 10, mew = 0, lw=2, label ='HSE06')\n",
    "ax.plot(comp, Eg_exp_masked,'--^', color='k', ms = 10, mew = 0, lw=2, label ='experiment')\n",
    "\n",
    "plt.xticks(np.arange(7), compounds, fontsize = 18, rotation=45)\n",
    "plt.yticks(np.arange(0, 3.0, 0.5), fontsize = 18)\n",
    "ax.set_ylabel('band gap (eV)', fontsize = 20)\n",
    "ax.legend(loc='upper left', fontsize = 15)\n",
    "plt.show()"
   ]
  },
  {
   "cell_type": "code",
   "execution_count": null,
   "metadata": {
    "collapsed": false
   },
   "outputs": [],
   "source": []
  },
  {
   "cell_type": "code",
   "execution_count": null,
   "metadata": {
    "collapsed": true
   },
   "outputs": [],
   "source": []
  }
 ],
 "metadata": {
  "kernelspec": {
   "display_name": "Python 2",
   "language": "python",
   "name": "python2"
  },
  "language_info": {
   "codemirror_mode": {
    "name": "ipython",
    "version": 2
   },
   "file_extension": ".py",
   "mimetype": "text/x-python",
   "name": "python",
   "nbconvert_exporter": "python",
   "pygments_lexer": "ipython2",
   "version": "2.7.9"
  }
 },
 "nbformat": 4,
 "nbformat_minor": 0
}
