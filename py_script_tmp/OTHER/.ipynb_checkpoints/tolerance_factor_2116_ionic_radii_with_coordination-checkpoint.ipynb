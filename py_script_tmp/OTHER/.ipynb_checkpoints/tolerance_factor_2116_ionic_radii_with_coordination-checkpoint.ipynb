{
 "cells": [
  {
   "cell_type": "code",
   "execution_count": 12,
   "metadata": {
    "collapsed": false
   },
   "outputs": [],
   "source": [
    "from pymatgen.core.periodic_table import Specie\n",
    "from pymatgen.matproj.rest import MPRester\n",
    "from pymatgen.core.periodic_table import Element\n",
    "import pymatgen.core.periodic_table as pt\n",
    "import math\n",
    "import numpy as np"
   ]
  },
  {
   "cell_type": "code",
   "execution_count": 13,
   "metadata": {
    "collapsed": false
   },
   "outputs": [],
   "source": [
    "A = ['Li', 'Na', 'K', 'Rb', 'Cs']\n",
    "B1 = ['Li', 'Na', 'K', 'Rb', 'Cs', 'Cu','Ag','Au','Tl']\n",
    "B2 = ['Bi','Sb','In','Au','Ta','Mo','Sc','Y','La','Ce','Pr','Nd','Sm','Eu','Gd','Tb','Dy','Er','Tm','Lu','Tl']\n",
    "#### not _3: Ce, Eu, Gd\n",
    "#B2 = ['Bi','Sb','In','Au','Ta','Mo','Sc','Y','La','Pr','Nd','Sm','Tb','Dy','Er','Tm','Lu']\n",
    "X = ['F','Br','Cl','I']"
   ]
  },
  {
   "cell_type": "code",
   "execution_count": 14,
   "metadata": {
    "collapsed": false
   },
   "outputs": [],
   "source": [
    "#Shannon ionic radii with oxidation state and coordination  (and some with Zachariasen's relationship)\n",
    "A_radius = {'Li':1.13, 'Na':1.39, 'K':1.64, 'Rb':1.72, 'Cs':1.88, 'Tl':1.7}   #12 coodination\n",
    "\n",
    "B1_radius = {'Li':0.76, 'Na':1.02, 'K':1.38, 'Rb':1.52, 'Cs':1.67, 'Cu':0.77,'Ag':1.15,'Au':1.37, 'Tl':1.5}  #6 coodination\n",
    "\n",
    "B2_radius = {'Bi':1.03,'Sb':0.76,'In':0.8,'Au':0.85,'Ta':0.72,'Mo':0.69,'Sc':0.745,'Y':0.9,'La':1.032,\\\n",
    "             'Ce':1.01,'Pr':0.99,'Nd':0.983,'Sm':0.958,'Eu':0.947,'Gd':0.938,'Tb':0.923,'Dy':0.912,\\\n",
    "             'Er':0.89,'Tm':0.88,'Lu':0.861, 'Cr':0.615, 'Fe':0.645, 'Ga':0.62, 'Ho':0.901, 'Yb':0.868,\\\n",
    "             'Al':0.535, 'Tl':0.885, 'Rh':0.665 }   #6 coodination #Fe:high spin\n",
    "\n",
    "X_radius = {'F':1.33,'Cl':1.81,'Br':1.96,'I':2.2}   #2+4=6 coodination\n"
   ]
  },
  {
   "cell_type": "code",
   "execution_count": 15,
   "metadata": {
    "collapsed": false
   },
   "outputs": [
    {
     "name": "stdout",
     "output_type": "stream",
     "text": [
      "[1337 2352   91]\n",
      "0.8055646874277123\n"
     ]
    }
   ],
   "source": [
    "tolerance_dict = {}\n",
    "tolerance_list = []\n",
    "oct_dict = {}\n",
    "for a in A:\n",
    "    for b1 in B1:\n",
    "        for b2 in B2:\n",
    "            for x in X:\n",
    "                t = (A_radius[a]+X_radius[x])/((B1_radius[b1]+B2_radius[b2])/2+X_radius[x])/math.sqrt(2)\n",
    "                tolerance_dict[a+'2'+b1+b2+x+'6']=t\n",
    "                tolerance_list.append(t)\n",
    "                o1 = B1_radius[b1]/X_radius[x]\n",
    "                oct_dict[a+'2'+b1+b2+x+'6']=o1\n",
    "tolerance_data = np.array(tolerance_list)\n",
    "hist,bins=np.histogram(tolerance_data,bins=[0.6,0.8,1.0,1.2])\n",
    "print(hist)\n",
    "print(tolerance_dict['K2TlYBr6'])"
   ]
  },
  {
   "cell_type": "code",
   "execution_count": 16,
   "metadata": {
    "collapsed": false
   },
   "outputs": [
    {
     "data": {
      "text/plain": [
       "0.4972375690607735"
      ]
     },
     "execution_count": 16,
     "metadata": {},
     "output_type": "execute_result"
    }
   ],
   "source": [
    "0.9/1.81"
   ]
  },
  {
   "cell_type": "code",
   "execution_count": 17,
   "metadata": {
    "collapsed": false
   },
   "outputs": [
    {
     "data": {
      "text/plain": [
       "0.9028459273797842"
      ]
     },
     "execution_count": 17,
     "metadata": {},
     "output_type": "execute_result"
    }
   ],
   "source": [
    "0.92/1.019"
   ]
  },
  {
   "cell_type": "code",
   "execution_count": 18,
   "metadata": {
    "collapsed": false
   },
   "outputs": [
    {
     "data": {
      "text/plain": [
       "0.8444444450254321"
      ]
     },
     "execution_count": 18,
     "metadata": {},
     "output_type": "execute_result"
    }
   ],
   "source": [
    "0.419889503/0.497237569"
   ]
  },
  {
   "cell_type": "code",
   "execution_count": 19,
   "metadata": {
    "collapsed": false
   },
   "outputs": [
    {
     "data": {
      "text/plain": [
       "0.9362617565710768"
      ]
     },
     "execution_count": 19,
     "metadata": {},
     "output_type": "execute_result"
    }
   ],
   "source": [
    "(1.58+1.28)/(0.88+1.28)/math.sqrt(2)"
   ]
  },
  {
   "cell_type": "code",
   "execution_count": 20,
   "metadata": {
    "collapsed": false
   },
   "outputs": [
    {
     "data": {
      "text/plain": [
       "0.9663204890030624"
      ]
     },
     "execution_count": 20,
     "metadata": {},
     "output_type": "execute_result"
    }
   ],
   "source": [
    "(1.34+1.4)/(0.605+1.4)/math.sqrt(2)"
   ]
  },
  {
   "cell_type": "code",
   "execution_count": null,
   "metadata": {
    "collapsed": true
   },
   "outputs": [],
   "source": []
  }
 ],
 "metadata": {
  "anaconda-cloud": {},
  "kernelspec": {
   "display_name": "Python [conda env:216paper]",
   "language": "python",
   "name": "conda-env-216paper-py"
  },
  "language_info": {
   "codemirror_mode": {
    "name": "ipython",
    "version": 3
   },
   "file_extension": ".py",
   "mimetype": "text/x-python",
   "name": "python",
   "nbconvert_exporter": "python",
   "pygments_lexer": "ipython3",
   "version": "3.5.2"
  }
 },
 "nbformat": 4,
 "nbformat_minor": 0
}
