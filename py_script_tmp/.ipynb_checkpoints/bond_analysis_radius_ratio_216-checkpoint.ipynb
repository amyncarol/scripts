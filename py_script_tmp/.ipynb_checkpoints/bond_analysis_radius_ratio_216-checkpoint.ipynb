{
 "cells": [
  {
   "cell_type": "code",
   "execution_count": 1,
   "metadata": {
    "collapsed": false
   },
   "outputs": [],
   "source": [
    "from pymatgen.symmetry.analyzer import SpacegroupAnalyzer\n",
    "from pymatgen.io.vasp.inputs import Poscar\n",
    "from pymatgen.io.vasp.outputs import Vasprun\n",
    "from pymatgen.core.structure import IStructure\n",
    "from pymatgen.core.periodic_table import Specie\n",
    "from pymatgen.core.periodic_table import Element\n",
    "from math import sqrt\n",
    "\n"
   ]
  },
  {
   "cell_type": "code",
   "execution_count": 2,
   "metadata": {
    "collapsed": false
   },
   "outputs": [
    {
     "name": "stderr",
     "output_type": "stream",
     "text": [
      "/usr/local/lib/python2.7/site-packages/pymatgen/io/vasp/outputs.py:809: UserWarning: No POTCAR file with matching TITEL fields was found in /Users/yao/Google Drive/data/216/Cs2Sn1I6\n",
      "  \" was found in {}\".format(os.path.abspath(p)))\n"
     ]
    }
   ],
   "source": [
    "vr = Vasprun(\"/Users/yao/Google Drive/data/216/Cs2Sn1I6/vasprun.xml\")"
   ]
  },
  {
   "cell_type": "code",
   "execution_count": 3,
   "metadata": {
    "collapsed": false
   },
   "outputs": [],
   "source": [
    "struct = vr.final_structure\n"
   ]
  },
  {
   "cell_type": "code",
   "execution_count": 4,
   "metadata": {
    "collapsed": false
   },
   "outputs": [],
   "source": [
    "sa = SpacegroupAnalyzer(structure=struct)"
   ]
  },
  {
   "cell_type": "code",
   "execution_count": 5,
   "metadata": {
    "collapsed": false
   },
   "outputs": [
    {
     "data": {
      "text/plain": [
       "u'Fm-3m'"
      ]
     },
     "execution_count": 5,
     "metadata": {},
     "output_type": "execute_result"
    }
   ],
   "source": [
    "sa.get_spacegroup_symbol()"
   ]
  },
  {
   "cell_type": "code",
   "execution_count": 6,
   "metadata": {
    "collapsed": false
   },
   "outputs": [
    {
     "data": {
      "text/plain": [
       "4.9257198245674036"
      ]
     },
     "execution_count": 6,
     "metadata": {},
     "output_type": "execute_result"
    }
   ],
   "source": [
    "a = struct.lattice.a\n",
    "radius = a/sqrt(3)\n",
    "radius"
   ]
  },
  {
   "cell_type": "code",
   "execution_count": 7,
   "metadata": {
    "collapsed": false
   },
   "outputs": [
    {
     "name": "stdout",
     "output_type": "stream",
     "text": [
      "(PeriodicSite: Cs (8.5316, 9.8514, 1.7415) [0.2500, 1.2500, 0.2500], 4.2671067732020056)\n",
      "\n",
      "\n",
      "(PeriodicSite: Sn (12.7974, 7.3886, 0.0000) [1.0000, 1.0000, 0.0000], 2.9107175092663233)\n",
      "\n",
      "\n",
      "(PeriodicSite: I (14.8556, 6.2003, 1.6805) [1.2412, 0.7588, 0.2412], 4.1163761101420011)\n",
      "\n",
      "\n",
      "(PeriodicSite: I (6.3240, 6.2003, 1.6805) [0.2412, 0.7588, 0.2412], 4.4152208898580003)\n",
      "\n",
      "\n",
      "4.41522088986\n"
     ]
    }
   ],
   "source": [
    "(site1, dist1) = struct.get_neighbors(struct.sites[3], r=radius)[0] #Cs-I\n",
    "print (site1, dist1)\n",
    "print (\"\\n\")\n",
    "(site2, dist2) = struct.get_neighbors(struct.sites[3], r=radius)[4]  #Sn-I\n",
    "print (site2, dist2)\n",
    "print (\"\\n\")\n",
    "(site3, dist3) = struct.get_neighbors(struct.sites[3], r=radius)[12] # oct I-I\n",
    "print (site3, dist3)\n",
    "print (\"\\n\")\n",
    "(site4, dist4) = struct.get_neighbors(struct.sites[3], r=radius)[11] # inter I-I\n",
    "print (site4, dist4)\n",
    "print (\"\\n\")\n",
    "\n",
    "A_X = dist1\n",
    "B_X = dist2\n",
    "X_X_oct = dist3\n",
    "X_X_inter = dist4\n",
    "print X_X_inter"
   ]
  },
  {
   "cell_type": "code",
   "execution_count": 10,
   "metadata": {
    "collapsed": false
   },
   "outputs": [
    {
     "data": {
      "text/plain": [
       "'Cs'"
      ]
     },
     "execution_count": 10,
     "metadata": {},
     "output_type": "execute_result"
    }
   ],
   "source": [
    "site1.specie.name"
   ]
  },
  {
   "cell_type": "code",
   "execution_count": 8,
   "metadata": {
    "collapsed": false
   },
   "outputs": [
    {
     "ename": "KeyError",
     "evalue": "Element Cs",
     "output_type": "error",
     "traceback": [
      "\u001b[0;31m---------------------------------------------------------------------------\u001b[0m",
      "\u001b[0;31mKeyError\u001b[0m                                  Traceback (most recent call last)",
      "\u001b[0;32m<ipython-input-8-1a965802a52c>\u001b[0m in \u001b[0;36m<module>\u001b[0;34m()\u001b[0m\n\u001b[1;32m      3\u001b[0m \u001b[0mX_size_list\u001b[0m \u001b[0;34m=\u001b[0m \u001b[0;34m{\u001b[0m\u001b[0;34m'F'\u001b[0m\u001b[0;34m:\u001b[0m\u001b[0;36m1.33\u001b[0m\u001b[0;34m,\u001b[0m\u001b[0;34m'Cl'\u001b[0m\u001b[0;34m:\u001b[0m\u001b[0;36m1.81\u001b[0m\u001b[0;34m,\u001b[0m\u001b[0;34m'Br'\u001b[0m\u001b[0;34m:\u001b[0m\u001b[0;36m1.96\u001b[0m\u001b[0;34m,\u001b[0m\u001b[0;34m'I'\u001b[0m\u001b[0;34m:\u001b[0m\u001b[0;36m2.2\u001b[0m\u001b[0;34m}\u001b[0m   \u001b[0;31m#2+4=6 coodination\u001b[0m\u001b[0;34m\u001b[0m\u001b[0m\n\u001b[1;32m      4\u001b[0m \u001b[0;34m\u001b[0m\u001b[0m\n\u001b[0;32m----> 5\u001b[0;31m \u001b[0mA_radius\u001b[0m \u001b[0;34m=\u001b[0m \u001b[0mA_size_list\u001b[0m\u001b[0;34m[\u001b[0m\u001b[0msite1\u001b[0m\u001b[0;34m.\u001b[0m\u001b[0mspecie\u001b[0m\u001b[0;34m]\u001b[0m\u001b[0;34m\u001b[0m\u001b[0m\n\u001b[0m\u001b[1;32m      6\u001b[0m \u001b[0mB_radius\u001b[0m \u001b[0;34m=\u001b[0m \u001b[0mB_size_list\u001b[0m\u001b[0;34m[\u001b[0m\u001b[0msite2\u001b[0m\u001b[0;34m.\u001b[0m\u001b[0mspecie\u001b[0m\u001b[0;34m]\u001b[0m\u001b[0;34m\u001b[0m\u001b[0m\n\u001b[1;32m      7\u001b[0m \u001b[0mX_radius\u001b[0m \u001b[0;34m=\u001b[0m \u001b[0mX_size_list\u001b[0m\u001b[0;34m[\u001b[0m\u001b[0msite3\u001b[0m\u001b[0;34m.\u001b[0m\u001b[0mspecie\u001b[0m\u001b[0;34m]\u001b[0m\u001b[0;34m\u001b[0m\u001b[0m\n",
      "\u001b[0;31mKeyError\u001b[0m: Element Cs"
     ]
    }
   ],
   "source": [
    "A_size_list = {'Li':1.13, 'Na':1.39, 'K':1.64, 'Rb':1.72, 'Cs':1.88}   #12 coodination\n",
    "B_size_list = {'Si':0.4, 'Ge':0.53, 'Sn':0.69, 'Pb':0.775, 'Ni':0.48, 'Pd':0.615, 'Pt':0.625, 'Se':0.5, 'Te':0.97} #6 coodination\n",
    "X_size_list = {'F':1.33,'Cl':1.81,'Br':1.96,'I':2.2}   #2+4=6 coodination\n",
    "\n",
    "A_radius = A_size_list[site1.specie.name]\n",
    "B_radius = B_size_list[site2.specie.name]\n",
    "X_radius = X_size_list[site3.specie.name]\n"
   ]
  },
  {
   "cell_type": "code",
   "execution_count": null,
   "metadata": {
    "collapsed": false
   },
   "outputs": [],
   "source": [
    "cavity_radius = X_X_oct/2+X_X_inter/2-X_radius.real\n",
    "radius_ratio = A_radius.real/(cavity_radius)\n",
    "print radius_ratio\n",
    "print cavity_radius"
   ]
  },
  {
   "cell_type": "code",
   "execution_count": null,
   "metadata": {
    "collapsed": false
   },
   "outputs": [],
   "source": [
    "0.820564525726"
   ]
  },
  {
   "cell_type": "code",
   "execution_count": null,
   "metadata": {
    "collapsed": false
   },
   "outputs": [],
   "source": []
  },
  {
   "cell_type": "code",
   "execution_count": null,
   "metadata": {
    "collapsed": true
   },
   "outputs": [],
   "source": []
  }
 ],
 "metadata": {
  "kernelspec": {
   "display_name": "Python 2",
   "language": "python",
   "name": "python2"
  },
  "language_info": {
   "codemirror_mode": {
    "name": "ipython",
    "version": 2
   },
   "file_extension": ".py",
   "mimetype": "text/x-python",
   "name": "python",
   "nbconvert_exporter": "python",
   "pygments_lexer": "ipython2",
   "version": "2.7.9"
  }
 },
 "nbformat": 4,
 "nbformat_minor": 1
}
