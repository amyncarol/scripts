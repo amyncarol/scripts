{
 "cells": [
  {
   "cell_type": "code",
   "execution_count": 5,
   "metadata": {
    "collapsed": true
   },
   "outputs": [],
   "source": [
    "from pymatgen.io.vasp.outputs import Vasprun\n",
    "from pymatgen.io.vasp.inputs import Kpoints"
   ]
  },
  {
   "cell_type": "code",
   "execution_count": 6,
   "metadata": {
    "collapsed": false
   },
   "outputs": [],
   "source": [
    "strc = Vasprun(\"/Users/yao/Google Drive/data/SNO/new_SNO_cubic/U4-from-nupdown/vasprun.xml\")"
   ]
  },
  {
   "cell_type": "code",
   "execution_count": 7,
   "metadata": {
    "collapsed": false
   },
   "outputs": [
    {
     "ename": "NameError",
     "evalue": "name 'kpoints' is not defined",
     "output_type": "error",
     "traceback": [
      "\u001b[0;31m---------------------------------------------------------------------------\u001b[0m",
      "\u001b[0;31mNameError\u001b[0m                                 Traceback (most recent call last)",
      "\u001b[0;32m<ipython-input-7-bef0b397d709>\u001b[0m in \u001b[0;36m<module>\u001b[0;34m()\u001b[0m\n\u001b[1;32m      2\u001b[0m                        \u001b[0mstyle\u001b[0m\u001b[0;34m=\u001b[0m\u001b[0mKpoints\u001b[0m\u001b[0;34m.\u001b[0m\u001b[0msupported_modes\u001b[0m\u001b[0;34m.\u001b[0m\u001b[0mLine_mode\u001b[0m\u001b[0;34m,\u001b[0m\u001b[0;34m\u001b[0m\u001b[0m\n\u001b[1;32m      3\u001b[0m                        \u001b[0mcoord_type\u001b[0m\u001b[0;34m=\u001b[0m\u001b[0;34m\"Reciprocal\"\u001b[0m\u001b[0;34m,\u001b[0m\u001b[0;34m\u001b[0m\u001b[0m\n\u001b[0;32m----> 4\u001b[0;31m                        \u001b[0mkpts\u001b[0m\u001b[0;34m=\u001b[0m\u001b[0mkpoints\u001b[0m\u001b[0;34m,\u001b[0m\u001b[0;34m\u001b[0m\u001b[0m\n\u001b[0m\u001b[1;32m      5\u001b[0m                        \u001b[0mlabels\u001b[0m\u001b[0;34m=\u001b[0m\u001b[0mlabels\u001b[0m\u001b[0;34m,\u001b[0m\u001b[0;34m\u001b[0m\u001b[0m\n\u001b[1;32m      6\u001b[0m                        num_kpts=int(divisions))\n",
      "\u001b[0;31mNameError\u001b[0m: name 'kpoints' is not defined"
     ]
    }
   ],
   "source": [
    "kp = Kpoints(\"Line_mode KPOINTS file\",\n",
    "                       style=Kpoints.supported_modes.Line_mode,\n",
    "                       coord_type=\"Reciprocal\",\n",
    "                       kpts=kpoints,\n",
    "                       labels=labels,\n",
    "                       num_kpts=int(divisions))\n",
    "kp.write_file('/Users/yao/Desktop/KPOINTS')"
   ]
  },
  {
   "cell_type": "code",
   "execution_count": null,
   "metadata": {
    "collapsed": true
   },
   "outputs": [],
   "source": []
  }
 ],
 "metadata": {
  "kernelspec": {
   "display_name": "Python 2",
   "language": "python",
   "name": "python2"
  },
  "language_info": {
   "codemirror_mode": {
    "name": "ipython",
    "version": 2
   },
   "file_extension": ".py",
   "mimetype": "text/x-python",
   "name": "python",
   "nbconvert_exporter": "python",
   "pygments_lexer": "ipython2",
   "version": "2.7.9"
  }
 },
 "nbformat": 4,
 "nbformat_minor": 1
}
