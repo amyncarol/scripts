{
 "cells": [
  {
   "cell_type": "code",
   "execution_count": 1,
   "metadata": {
    "collapsed": true
   },
   "outputs": [],
   "source": [
    "import matplotlib.pyplot as plt"
   ]
  },
  {
   "cell_type": "code",
   "execution_count": 2,
   "metadata": {
    "collapsed": false
   },
   "outputs": [
    {
     "data": {
      "text/plain": [
       "[0.017666666666668916,\n",
       " 0.003777777777713709,\n",
       " -0.000444444444506568,\n",
       " -0.000444444444506568,\n",
       " -0.0012222222222943754,\n",
       " 0.0,\n",
       " 0.0]"
      ]
     },
     "execution_count": 2,
     "metadata": {},
     "output_type": "execute_result"
    }
   ],
   "source": [
    "#k-point convergence of Cs2SnI6\n",
    "kmesh = [5, 6, 9, 13, 15, 17, 19]\n",
    "knumber = [10, 16, 35, 84, 120, 165, 220]\n",
    "energy = [-.23163120E+02, -.23163245E+02, -.23163283E+02, -.23163283E+02, -.23163290E+02, -.23163279E+02, -.23163279E+02]\n",
    "band_gap = [0.2880, 0.2882, 0.2883, 0.2884, 0.2882, 0.2882, 0.2882]\n",
    "\n",
    "energy_error = [(i-energy[-1])*1000/9 for i in energy] #in meV/atom\n",
    "energy_error"
   ]
  },
  {
   "cell_type": "code",
   "execution_count": 4,
   "metadata": {
    "collapsed": false
   },
   "outputs": [],
   "source": [
    "plt.plot(kmesh, energy)\n",
    "plt.show()"
   ]
  },
  {
   "cell_type": "code",
   "execution_count": 2,
   "metadata": {
    "collapsed": false
   },
   "outputs": [
    {
     "data": {
      "text/plain": [
       "[0.607555555555608, 0.26777777777790374, -0.047555555555492096, 0.0]"
      ]
     },
     "execution_count": 2,
     "metadata": {},
     "output_type": "execute_result"
    }
   ],
   "source": [
    "#encut convergence of Cs2SnI6\n",
    "encut = [400, 520, 600, 700]\n",
    "energy = [-.23160225E+02, -.23163283E+02, -.23166121E+02, -.23165693E+02]\n",
    "band_gap = [0.2881, 0.2883, 0.2880, 0.2879] #@Gamma\n",
    "\n",
    "energy_error = [(i-energy[-1])*1000/9 for i in energy] #in meV/atom\n",
    "energy_error"
   ]
  },
  {
   "cell_type": "code",
   "execution_count": null,
   "metadata": {
    "collapsed": true
   },
   "outputs": [],
   "source": [
    "plt.plot(encut, energy)\n",
    "plt.show()"
   ]
  },
  {
   "cell_type": "code",
   "execution_count": null,
   "metadata": {
    "collapsed": true
   },
   "outputs": [],
   "source": []
  },
  {
   "cell_type": "code",
   "execution_count": 3,
   "metadata": {
    "collapsed": false
   },
   "outputs": [
    {
     "data": {
      "text/plain": [
       "[0.017333333333387674, 0.0014444444447450325, 0.0]"
      ]
     },
     "execution_count": 3,
     "metadata": {},
     "output_type": "execute_result"
    }
   ],
   "source": [
    "#k-point convergence of K2PtI6\n",
    "kmesh = [5, 7, 9]\n",
    "knumber = [10, 20, 35]\n",
    "energy = [-.24115338E+02, -.24115481E+02, -.24115494E+02]\n",
    "band_gap = [0.5063, 0.4506, 0.4242]  #should use even kmesh centered at Gamma instead\n",
    "\n",
    "energy_error = [(i-energy[-1])*1000/9 for i in energy] #in meV/atom\n",
    "energy_error"
   ]
  },
  {
   "cell_type": "code",
   "execution_count": 4,
   "metadata": {
    "collapsed": false
   },
   "outputs": [
    {
     "data": {
      "text/plain": [
       "[0.6242222222224333, 0.6471111111111661, 0.0]"
      ]
     },
     "execution_count": 4,
     "metadata": {},
     "output_type": "execute_result"
    }
   ],
   "source": [
    "#encut convergence of K2PtI6\n",
    "encut = [400, 520, 600]\n",
    "energy = [-.24115544E+02, -.24115338E+02,  -.24121162E+02]\n",
    "band_gap = [0.5058, 0.5063, 0.5057]\n",
    "\n",
    "energy_error = [(i-energy[-1])*1000/9 for i in energy] #in meV/atom\n",
    "energy_error"
   ]
  },
  {
   "cell_type": "code",
   "execution_count": null,
   "metadata": {
    "collapsed": true
   },
   "outputs": [],
   "source": []
  },
  {
   "cell_type": "code",
   "execution_count": 5,
   "metadata": {
    "collapsed": false
   },
   "outputs": [
    {
     "data": {
      "text/plain": [
       "[0.01644444444437454, -0.00011111111122532848, 0.0]"
      ]
     },
     "execution_count": 5,
     "metadata": {},
     "output_type": "execute_result"
    }
   ],
   "source": [
    "#k-point convergence of Rb2TeI6\n",
    "kmesh = [5, 7, 9]\n",
    "knumber = [10, 20, 35]\n",
    "energy = [-.21170389E+02, -.21170538E+02, -.21170537E+02]\n",
    "band_gap = [1.3884, 1.3549, 1.3406]  #should use even kmesh centered at Gamma instead\n",
    "\n",
    "energy_error = [(i-energy[-1])*1000/9 for i in energy] #in meV/atom\n",
    "energy_error"
   ]
  },
  {
   "cell_type": "code",
   "execution_count": 6,
   "metadata": {
    "collapsed": false
   },
   "outputs": [
    {
     "data": {
      "text/plain": [
       "[0.28177777777768953, -0.030111111111273833, 0.0]"
      ]
     },
     "execution_count": 6,
     "metadata": {},
     "output_type": "execute_result"
    }
   ],
   "source": [
    "#encut convergence of Rb2TeI6\n",
    "encut = [400, 520, 600]\n",
    "energy = [-.21167582E+02, -.21170389E+02, -.21170118E+02]\n",
    "band_gap = [1.3884, 1.3884, 1.3883]\n",
    "\n",
    "energy_error = [(i-energy[-1])*1000/9 for i in energy] #in meV/atom\n",
    "energy_error"
   ]
  },
  {
   "cell_type": "code",
   "execution_count": null,
   "metadata": {
    "collapsed": true
   },
   "outputs": [],
   "source": []
  }
 ],
 "metadata": {
  "kernelspec": {
   "display_name": "Python 2",
   "language": "python",
   "name": "python2"
  },
  "language_info": {
   "codemirror_mode": {
    "name": "ipython",
    "version": 2
   },
   "file_extension": ".py",
   "mimetype": "text/x-python",
   "name": "python",
   "nbconvert_exporter": "python",
   "pygments_lexer": "ipython2",
   "version": "2.7.9"
  }
 },
 "nbformat": 4,
 "nbformat_minor": 1
}
