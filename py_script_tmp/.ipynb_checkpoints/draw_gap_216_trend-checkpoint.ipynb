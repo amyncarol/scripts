{
 "cells": [
  {
   "cell_type": "code",
   "execution_count": 1,
   "metadata": {
    "collapsed": false
   },
   "outputs": [],
   "source": [
    "import numpy as np\n",
    "import matplotlib.pyplot as plt\n",
    "import matplotlib.cbook as cbook\n",
    "import re\n",
    "from matplotlib.pyplot import figure, show, axes, sci\n",
    "from matplotlib import cm, colors\n",
    "from matplotlib.font_manager import FontProperties\n",
    "from numpy import amin, amax, ravel\n",
    "import numpy.ma as ma"
   ]
  },
  {
   "cell_type": "code",
   "execution_count": 2,
   "metadata": {
    "collapsed": false
   },
   "outputs": [],
   "source": [
    "data_eg = open('/Users/yao/Google Drive/data/216/Eg2','r')"
   ]
  },
  {
   "cell_type": "code",
   "execution_count": 3,
   "metadata": {
    "collapsed": false
   },
   "outputs": [],
   "source": [
    "value_eg = []\n",
    "lines = data_eg.readlines()\n",
    "label = []\n",
    "for line in lines:\n",
    "    match = re.match(r\"([a-z]+)([ ]+)([a-z]+)([ ]+)([a-z]+)([ ]+)([0-9.]+)\", line, re.I)\n",
    "    if match:\n",
    "        items = match.groups()\n",
    "        value_eg.append(float(items[6]))\n",
    "        label.append([str(items[0]), str(items[2]), str(items[4])])    "
   ]
  },
  {
   "cell_type": "code",
   "execution_count": 4,
   "metadata": {
    "collapsed": false
   },
   "outputs": [],
   "source": [
    "X_trend = np.zeros((90, 3))\n",
    "X_label = []\n",
    "A_trend = np.zeros((90, 3))\n",
    "A_label = []"
   ]
  },
  {
   "cell_type": "code",
   "execution_count": 5,
   "metadata": {
    "collapsed": false
   },
   "outputs": [],
   "source": [
    "index = 0\n",
    "for a in range(90):\n",
    "    X_label.append(label[index][0]+'2'+label[index][1]+'X6')\n",
    "    for b in range(3):\n",
    "        X_trend[a][b] = value_eg[index]\n",
    "        index = index + 1"
   ]
  },
  {
   "cell_type": "code",
   "execution_count": null,
   "metadata": {
    "collapsed": false
   },
   "outputs": [
    {
     "data": {
      "text/plain": [
       "['A2GeCl',\n",
       " 'A2GeBr',\n",
       " 'A2GeI',\n",
       " 'A2PdCl',\n",
       " 'A2PdBr',\n",
       " 'A2PdI',\n",
       " 'A2SiCl',\n",
       " 'A2SiBr',\n",
       " 'A2SiI',\n",
       " 'A2TiCl',\n",
       " 'A2TiBr',\n",
       " 'A2TiI',\n",
       " 'A2VCl',\n",
       " 'A2VBr',\n",
       " 'A2VI',\n",
       " 'A2CrCl',\n",
       " 'A2CrBr',\n",
       " 'A2CrI',\n",
       " 'A2MnCl',\n",
       " 'A2MnBr',\n",
       " 'A2MnI',\n",
       " 'A2FeCl',\n",
       " 'A2FeBr',\n",
       " 'A2FeI',\n",
       " 'A2CoCl',\n",
       " 'A2CoBr',\n",
       " 'A2CoI',\n",
       " 'A2NiCl',\n",
       " 'A2NiBr',\n",
       " 'A2NiI',\n",
       " 'A2CuCl',\n",
       " 'A2CuBr',\n",
       " 'A2CuI',\n",
       " 'A2SeCl',\n",
       " 'A2SeBr',\n",
       " 'A2SeI',\n",
       " 'A2ZrCl',\n",
       " 'A2ZrBr',\n",
       " 'A2ZrI',\n",
       " 'A2NbCl',\n",
       " 'A2NbBr',\n",
       " 'A2NbI',\n",
       " 'A2MoCl',\n",
       " 'A2MoBr',\n",
       " 'A2MoI',\n",
       " 'A2TcCl',\n",
       " 'A2TcBr',\n",
       " 'A2TcI',\n",
       " 'A2RuCl',\n",
       " 'A2RuBr',\n",
       " 'A2RuI',\n",
       " 'A2RhCl',\n",
       " 'A2RhBr',\n",
       " 'A2RhI',\n",
       " 'A2PbCl',\n",
       " 'A2PbBr',\n",
       " 'A2PbI',\n",
       " 'A2AgCl',\n",
       " 'A2AgBr',\n",
       " 'A2AgI',\n",
       " 'A2SnCl',\n",
       " 'A2SnBr',\n",
       " 'A2SnI',\n",
       " 'A2TeCl',\n",
       " 'A2TeBr',\n",
       " 'A2TeI',\n",
       " 'A2HfCl',\n",
       " 'A2HfBr',\n",
       " 'A2HfI',\n",
       " 'A2TaCl',\n",
       " 'A2TaBr',\n",
       " 'A2TaI',\n",
       " 'A2WCl',\n",
       " 'A2WBr',\n",
       " 'A2WI',\n",
       " 'A2ReCl',\n",
       " 'A2ReBr',\n",
       " 'A2ReI',\n",
       " 'A2OsCl',\n",
       " 'A2OsBr',\n",
       " 'A2OsI',\n",
       " 'A2IrCl',\n",
       " 'A2IrBr',\n",
       " 'A2IrI',\n",
       " 'A2PtCl',\n",
       " 'A2PtBr',\n",
       " 'A2PtI',\n",
       " 'A2HgCl',\n",
       " 'A2HgBr',\n",
       " 'A2HgI']"
      ]
     },
     "execution_count": 6,
     "metadata": {},
     "output_type": "execute_result"
    }
   ],
   "source": [
    "index = 0\n",
    "for a in range(90):\n",
    "    A_label.append('A2'+label[index][1]+label[index][2]+'6')\n",
    "    for b in range(3):\n",
    "        A_trend[a][b] = value_eg[index+90*b]\n",
    "    index = index + 1\n",
    "A_label"
   ]
  },
  {
   "cell_type": "code",
   "execution_count": null,
   "metadata": {
    "collapsed": false
   },
   "outputs": [],
   "source": [
    "for i in range(60,90):\n",
    "    if X_label[i] in ['Cs2SnX6', 'Cs2TeX6', 'Cs2PtX6']:\n",
    "        plt.plot(X_trend[i], '-o',label=X_label[i])\n",
    "plt.legend()\n",
    "plt.show()"
   ]
  },
  {
   "cell_type": "code",
   "execution_count": null,
   "metadata": {
    "collapsed": false
   },
   "outputs": [],
   "source": []
  },
  {
   "cell_type": "code",
   "execution_count": null,
   "metadata": {
    "collapsed": false
   },
   "outputs": [],
   "source": []
  },
  {
   "cell_type": "code",
   "execution_count": null,
   "metadata": {
    "collapsed": false
   },
   "outputs": [],
   "source": []
  }
 ],
 "metadata": {
  "kernelspec": {
   "display_name": "Python 2",
   "language": "python",
   "name": "python2"
  },
  "language_info": {
   "codemirror_mode": {
    "name": "ipython",
    "version": 2
   },
   "file_extension": ".py",
   "mimetype": "text/x-python",
   "name": "python",
   "nbconvert_exporter": "python",
   "pygments_lexer": "ipython2",
   "version": "2.7.9"
  }
 },
 "nbformat": 4,
 "nbformat_minor": 0
}
