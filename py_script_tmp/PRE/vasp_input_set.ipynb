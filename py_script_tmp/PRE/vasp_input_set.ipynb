{
 "cells": [
  {
   "cell_type": "code",
   "execution_count": 3,
   "metadata": {
    "collapsed": false
   },
   "outputs": [],
   "source": [
    "import os\n",
    "import fileinput\n",
    "import sys\n",
    "import re\n",
    "import string\n",
    "import shutil\n",
    "from pymatgen.matproj.rest import MPRester\n",
    "from pymatgen.phasediagram.pdmaker import PhaseDiagram\n",
    "from pymatgen.phasediagram.pdanalyzer import PDAnalyzer\n",
    "from pymatgen.phasediagram.plotter import PDPlotter\n",
    "from pymatgen.core.periodic_table import Element\n",
    "from pymatgen.core.composition import Composition\n",
    "import pymatgen.core.periodic_table as pt\n",
    "import numpy as np\n",
    "from pymatgen.io.vaspio.vasp_input import Poscar\n",
    "from pymatgen.io.vaspio.vasp_input import Incar\n",
    "from pymatgen.io.vaspio.vasp_input import Potcar\n",
    "from pymatgen.io.vaspio.vasp_input import Kpoints\n",
    "from pymatgen.io.vaspio.vasp_input import VaspInput \n",
    "from pymatgen.io.vaspio.vasp_output import Vasprun\n",
    "from pymatgen.io.vaspio_set import MPBSHSEVaspInputSet\n",
    "\n",
    "from pymatgen.apps.borg.hive import VaspToComputedEntryDrone\n",
    "from pymatgen.apps.borg.queen import BorgQueen\n",
    "\n"
   ]
  },
  {
   "cell_type": "code",
   "execution_count": 13,
   "metadata": {
    "collapsed": false
   },
   "outputs": [],
   "source": [
    "inputset = MPBSHSEVaspInputSet(kpoints_density=200, kpoints_line_density=8)\n",
    "vasprun = Vasprun(\"/Users/yao/vasprun.xml\")\n",
    "structure = vasprun.final_structure"
   ]
  },
  {
   "cell_type": "code",
   "execution_count": 14,
   "metadata": {
    "collapsed": false
   },
   "outputs": [],
   "source": [
    "\n",
    "inputset.write_input(structure, \"/Users/yao/input\")"
   ]
  },
  {
   "cell_type": "code",
   "execution_count": null,
   "metadata": {
    "collapsed": true
   },
   "outputs": [],
   "source": []
  },
  {
   "cell_type": "code",
   "execution_count": null,
   "metadata": {
    "collapsed": false
   },
   "outputs": [],
   "source": []
  }
 ],
 "metadata": {
  "kernelspec": {
   "display_name": "Python 2",
   "language": "python",
   "name": "python2"
  },
  "language_info": {
   "codemirror_mode": {
    "name": "ipython",
    "version": 2
   },
   "file_extension": ".py",
   "mimetype": "text/x-python",
   "name": "python",
   "nbconvert_exporter": "python",
   "pygments_lexer": "ipython2",
   "version": "2.7.9"
  }
 },
 "nbformat": 4,
 "nbformat_minor": 0
}
