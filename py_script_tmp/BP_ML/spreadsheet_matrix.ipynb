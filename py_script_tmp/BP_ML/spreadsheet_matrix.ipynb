{
 "cells": [
  {
   "cell_type": "code",
   "execution_count": 13,
   "metadata": {
    "collapsed": false
   },
   "outputs": [
    {
     "data": {
      "text/plain": [
       "170.0"
      ]
     },
     "execution_count": 13,
     "metadata": {},
     "output_type": "execute_result"
    }
   ],
   "source": [
    "import csv\n",
    "import numpy as np\n",
    "import re\n",
    "import os\n",
    "with open('/Users/yao/Desktop/band offset/band_offset_collect.csv', 'r') as f:\n",
    "    reader = csv.reader(f)\n",
    "    csvlist = list(reader)\n",
    "    offset_dict = get_all_offset_pairs(csvlist)\n",
    "    gap_dict = get_all_compounds_gap(csvlist)\n",
    "    comp_set = get_all_compounds(csvlist)\n",
    "    del_set = set(['CH3NH3PbBr3', 'CH3NH3PbCl3', 'CH3NH3PbI3', 'CH3NH3PbIBr2', 'HC(NH2)2PbI3',\n",
    "               'Er2O3', 'Fe2O3', 'Gd2O3', 'HfO2', 'InGaZnO4', 'CuInGaSe2', 'InSnO', 'Lu2O3',\n",
    "               'NiO', 'NiOx', 'Pr2O3', 'Tm2O3'])\n",
    "    desired_set = comp_set-del_set\n",
    "    desired_list = [i for i in desired_set]\n",
    "#os.remove('/Users/yao/Desktop/band offset/band_offset_collect.csv')\n",
    "with open('/Users/yao/Desktop/band offset/band_offset_matrix.csv', 'w') as f:\n",
    "    counter = generate_offset_matrix(desired_list, offset_dict, f)\n",
    "counter"
   ]
  },
  {
   "cell_type": "code",
   "execution_count": 14,
   "metadata": {
    "collapsed": true
   },
   "outputs": [],
   "source": [
    "with open('/Users/yao/Desktop/band offset/gap.csv', 'w') as f:\n",
    "    for line in gap_dict:\n",
    "        f.write(line)\n",
    "        f.write(',')\n",
    "        f.write(str(gap_dict[line]))\n",
    "        f.write('\\n')\n",
    "        \n",
    "with open('/Users/yao/Desktop/band offset/offset_list.csv', 'w') as f:\n",
    "    for item in offset_dict:\n",
    "        f.write(item.split('/')[0])\n",
    "        f.write(',')\n",
    "        f.write(item.split('/')[1])\n",
    "        f.write(',')\n",
    "        f.write(str(offset_dict[item]))\n",
    "        f.write('\\n')"
   ]
  },
  {
   "cell_type": "code",
   "execution_count": 24,
   "metadata": {
    "collapsed": false
   },
   "outputs": [],
   "source": [
    "calculated = set(['C', 'Si', 'Ge', 'SiC', \n",
    "             'Si3N4', 'AlN', 'GaN', 'InN', \n",
    "             'AlP', 'GaP', 'InP',\n",
    "             'AlAs', 'GaAs', 'InAs', \n",
    "             'AlSb', 'GaSb', 'InSb', \n",
    "             'MgO', 'ZnO', \n",
    "             'ZnS', 'CdS', 'SnS', 'CuInS2', 'Cu2ZnSnS4', \n",
    "             'ZnSe', 'CdSe', 'CuGaSe2', 'ZnTe', 'CdTe', 'HgTe', \n",
    "             'SiO2','GeO2','SnO2', \n",
    "             'Ga2O3', 'In2O3', 'In2S3', \n",
    "             'Cu2O', 'TiO2', \n",
    "             'SrTiO3', 'BaTiO3',\n",
    "             'CaF2', 'CdF2', 'Te'])\n",
    "compounds = [i for i in (desired_set-calculated)]\n",
    "\n",
    "with open('/Users/yao/Desktop/band offset/gap3_tmp.csv', 'w') as f:\n",
    "    for comp in compounds:\n",
    "        f.write(comp)\n",
    "        f.write(',')\n",
    "        if comp in gap_dict:\n",
    "            f.write(str(gap_dict[comp]))\n",
    "        else:\n",
    "            f.write('NA')\n",
    "        f.write('\\n')"
   ]
  },
  {
   "cell_type": "code",
   "execution_count": 38,
   "metadata": {
    "collapsed": false
   },
   "outputs": [
    {
     "name": "stdout",
     "output_type": "stream",
     "text": [
      "Te\n",
      "HgTe\n",
      "ZnTe\n",
      "ZnS\n",
      "InSb\n",
      "GaAs\n",
      "TiO2\n",
      "PbTe\n",
      "In2O3\n",
      "CdS\n",
      "ZnO\n"
     ]
    }
   ],
   "source": [
    "completed_set = set(['AlN', 'AlP', 'AlAs', 'AlSb',\n",
    "                 'GaN', 'GaP', 'GaAs', 'GaSb',\n",
    "                 'InN', 'InP', 'InAs', 'InSb', \n",
    "                 'ZnO', 'ZnS', 'ZnSe', 'ZnTe', \n",
    "                 'CdS', 'CdSe', 'CdTe'])\n",
    "remain_set = desired_set - completed_set\n",
    "remain_list = [i for i in remain_set]\n",
    "#print(remain_list)\n",
    "\n",
    "compA = 'CdTe'\n",
    "for compB in desired_list:\n",
    "    if compA+'/'+compB in offset_dict:\n",
    "        print(compB)"
   ]
  },
  {
   "cell_type": "code",
   "execution_count": 7,
   "metadata": {
    "collapsed": true
   },
   "outputs": [],
   "source": [
    "def generate_offset_matrix(desired_list, offset_dict, filename):\n",
    "    \"\"\"generate a csv file that has a matrix for offset pairs \n",
    "    with desired compounds of x/y axis\n",
    "    return the number of pairs\"\"\"\n",
    "    counter = 0\n",
    "    writer = csv.writer(filename)\n",
    "    writer.writerow(['']+desired_list)\n",
    "    for compoundA in desired_list:\n",
    "        row_list = [compoundA]\n",
    "        for compoundB in desired_list:\n",
    "            if compoundA+'/'+compoundB in offset_dict:\n",
    "                row_list.append(str(offset_dict[compoundA+'/'+compoundB]))\n",
    "                counter = counter+1\n",
    "            else:\n",
    "                row_list.append('')\n",
    "        writer.writerow(row_list)\n",
    "    return counter/2"
   ]
  },
  {
   "cell_type": "code",
   "execution_count": 8,
   "metadata": {
    "collapsed": true
   },
   "outputs": [],
   "source": [
    "def get_all_compounds(csvlist):\n",
    "    \"\"\"return a set of all compounds\"\"\"\n",
    "    comp_list = []\n",
    "    for i in range(1, len(csvlist)):\n",
    "        csvlist[i][0] = csvlist[i][0].replace(\" \", \"\")\n",
    "        compoundA = csvlist[i][0].split('/')[0]\n",
    "        compoundB = csvlist[i][0].split('/')[1]\n",
    "        comp_list.append(compoundA)\n",
    "        comp_list.append(compoundB)\n",
    "    return set(comp_list)"
   ]
  },
  {
   "cell_type": "code",
   "execution_count": 9,
   "metadata": {
    "collapsed": false
   },
   "outputs": [],
   "source": [
    "def get_all_compounds_gap(csvlist):\n",
    "    \"\"\"return a dict of all compounds with gap\"\"\"\n",
    "    gap_dict = {}\n",
    "    gap_dict_tmp = {}\n",
    "    for i in range(1, len(csvlist)):\n",
    "        csvlist[i][0] = csvlist[i][0].replace(\" \", \"\")\n",
    "        compoundA = csvlist[i][0].split('/')[0]\n",
    "        compoundB = csvlist[i][0].split('/')[1]\n",
    "    \n",
    "        if csvlist[i][3] != '':\n",
    "            gapA = [float(j) for j in csvlist[i][3].split(',')]\n",
    "            if compoundA not in gap_dict_tmp:\n",
    "                gap_dict_tmp[compoundA] = gapA\n",
    "            else:\n",
    "                gap_dict_tmp[compoundA] = gap_dict_tmp[compoundA] + gapA\n",
    "        \n",
    "        if csvlist[i][4] != '':\n",
    "            gapB = [float(j) for j in csvlist[i][4].split(',')]\n",
    "            if compoundB not in gap_dict_tmp:\n",
    "                gap_dict_tmp[compoundB] = gapB\n",
    "            else:\n",
    "                gap_dict_tmp[compoundB] = gap_dict_tmp[compoundB] + gapB\n",
    "                \n",
    "    for compound in gap_dict_tmp:\n",
    "        gap_dict[compound] = np.mean(gap_dict_tmp[compound])\n",
    "        \n",
    "    return gap_dict\n",
    "        \n",
    "    "
   ]
  },
  {
   "cell_type": "code",
   "execution_count": 10,
   "metadata": {
    "collapsed": false
   },
   "outputs": [],
   "source": [
    "def get_all_offset_pairs(csvlist):\n",
    "    \"\"\"return a dict of all valence band offset pairs, twice.\n",
    "    {compoundA/compoundB: valence band offset}\n",
    "    Positive values mean that the valence band maximum of \n",
    "    semiconductor A is higher than that of semiconductor B\n",
    "    \"\"\"\n",
    "    offset_dict = {}\n",
    "    for i in range(1, len(csvlist)):\n",
    "        csvlist[i][0] = csvlist[i][0].replace(\" \", \"\")\n",
    "        compoundA = csvlist[i][0].split('/')[0]\n",
    "        compoundB = csvlist[i][0].split('/')[1]\n",
    "        offset = np.mean([float(j) for j in csvlist[i][1].split(',')])\n",
    "        \n",
    "        if compoundA+'/'+compoundB in offset_dict:\n",
    "            offset_dict[compoundA+'/'+compoundB] = \\\n",
    "            (offset_dict[compoundA+'/'+compoundB] + offset)/2\n",
    "            print(compoundA, compoundB)\n",
    "        else:\n",
    "            offset_dict[compoundA+'/'+compoundB] = offset\n",
    "            \n",
    "        offset_dict[compoundB+'/'+compoundA] = 0-offset_dict[compoundA+'/'+compoundB]\n",
    "        \n",
    "    return offset_dict\n",
    "        "
   ]
  },
  {
   "cell_type": "code",
   "execution_count": null,
   "metadata": {
    "collapsed": true
   },
   "outputs": [],
   "source": []
  }
 ],
 "metadata": {
  "anaconda-cloud": {},
  "kernelspec": {
   "display_name": "Python [default]",
   "language": "python",
   "name": "python3"
  },
  "language_info": {
   "codemirror_mode": {
    "name": "ipython",
    "version": 3
   },
   "file_extension": ".py",
   "mimetype": "text/x-python",
   "name": "python",
   "nbconvert_exporter": "python",
   "pygments_lexer": "ipython3",
   "version": "3.5.2"
  }
 },
 "nbformat": 4,
 "nbformat_minor": 1
}
