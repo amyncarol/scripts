{
 "metadata": {
  "name": "",
  "signature": "sha256:4d21bfb66f409757d835398eb5f234260a68640ae9b91a4a90d449fe5acdba2f"
 },
 "nbformat": 3,
 "nbformat_minor": 0,
 "worksheets": [
  {
   "cells": [
    {
     "cell_type": "code",
     "collapsed": false,
     "input": [
      "import numpy as np\n",
      "import matplotlib.pyplot as plt\n",
      "import matplotlib.cbook as cbook\n",
      "import re\n",
      "from matplotlib.pyplot import figure, show, axes, sci\n",
      "from matplotlib import cm, colors\n",
      "from matplotlib.font_manager import FontProperties\n",
      "from numpy import amin, amax, ravel"
     ],
     "language": "python",
     "metadata": {},
     "outputs": [],
     "prompt_number": 25
    },
    {
     "cell_type": "code",
     "collapsed": false,
     "input": [
      "hull = np.zeros( (3,3,12) )\n",
      "data = open('/Users/yao/Google Drive/data/216/Hull_paper','r')"
     ],
     "language": "python",
     "metadata": {},
     "outputs": [],
     "prompt_number": 26
    },
    {
     "cell_type": "code",
     "collapsed": false,
     "input": [],
     "language": "python",
     "metadata": {},
     "outputs": [],
     "prompt_number": 26
    },
    {
     "cell_type": "code",
     "collapsed": false,
     "input": [
      "value = []\n",
      "lines = data.readlines()\n",
      "for line in lines:\n",
      "    match = re.match(r\"([a-z]+)([ ]+)([a-z]+)([ ]+)([a-z]+)([ ]+)([0-9.]+)\", line, re.I)\n",
      "    if match:\n",
      "        items = match.groups()\n",
      "        value.append(float(items[6]))"
     ],
     "language": "python",
     "metadata": {},
     "outputs": [],
     "prompt_number": 27
    },
    {
     "cell_type": "code",
     "collapsed": false,
     "input": [
      "for i in range(len(value)):\n",
      "    if value[i] >= 0.05:\n",
      "        value[i] = 0.05"
     ],
     "language": "python",
     "metadata": {},
     "outputs": [],
     "prompt_number": 28
    },
    {
     "cell_type": "code",
     "collapsed": false,
     "input": [
      "index = 0\n",
      "for a in range(3):\n",
      "    for b in range(12):\n",
      "        for c in range(3):\n",
      "            hull[c][a][b] = value[index]\n",
      "            index = index + 1\n",
      "            "
     ],
     "language": "python",
     "metadata": {},
     "outputs": [],
     "prompt_number": 29
    },
    {
     "cell_type": "code",
     "collapsed": false,
     "input": [],
     "language": "python",
     "metadata": {},
     "outputs": [],
     "prompt_number": 29
    },
    {
     "cell_type": "code",
     "collapsed": false,
     "input": [
      "fig = figure()\n",
      "#cmap = cm.cool\n",
      "w = 1.2\n",
      "h = 0.15\n",
      "ax = []\n",
      "images = []\n",
      "vmin = 1e40\n",
      "vmax = -1e40\n",
      "cax = fig.add_axes([0.8, 0.2, 0.02, 0.5])"
     ],
     "language": "python",
     "metadata": {},
     "outputs": [],
     "prompt_number": 30
    },
    {
     "cell_type": "code",
     "collapsed": false,
     "input": [
      "for i in range(3):\n",
      "    pos = [0, 0.56 - i*1.2*h, w, h]\n",
      "    a = fig.add_axes(pos)\n",
      "    plt.yticks(np.arange(3),['K','Rb','Cs'], size='x-small')\n",
      "    plt.xticks(np.arange(12),[])\n",
      "    if i == 2:\n",
      "        plt.xticks(np.arange(12),['Si','Ge','Sn','Pb','Se','Te','Ni','Pd','Pt','Mn','Tc','Re'],size='x-small')  \n",
      "        #plt.xticks(np.arange(33),['Ge', 'Pd', 'Ce', 'Pr', 'Tb','Si','Ti','V','Cr','Mn','Fe','Co','Ni','Cu','Se','Zr','Nb','Mo','Tc','Ru','Rh','Pb','Ag','Sn','Te','Hf','Ta','W','Re','Os','Ir','Pt','Hg'],size='x-small')\n",
      "    dd = ravel(hull[i])\n",
      "    # Manually find the min and max of all colors for\n",
      "    # use in setting the color scale.\n",
      "    vmin = min(vmin, amin(dd))\n",
      "    vmax = max(vmax, amax(dd))\n",
      "    images.append(a.imshow(hull[i],interpolation = 'nearest',aspect=2))\n",
      "\n",
      "    ax.append(a)"
     ],
     "language": "python",
     "metadata": {},
     "outputs": [],
     "prompt_number": 31
    },
    {
     "cell_type": "code",
     "collapsed": false,
     "input": [
      "# Set the first image as the master, with all the others\n",
      "# observing it for changes in cmap or norm.\n",
      "\n",
      "class ImageFollower:\n",
      "    'update image in response to changes in clim or cmap on another image'\n",
      "    def __init__(self, follower):\n",
      "        self.follower = follower\n",
      "    def __call__(self, leader):\n",
      "        self.follower.set_cmap(leader.get_cmap())\n",
      "        self.follower.set_clim(leader.get_clim())\n",
      "norm = colors.Normalize(vmin=vmin, vmax=vmax)\n",
      "for i, im in enumerate(images):\n",
      "    im.set_norm(norm)\n",
      "    if i > 0:\n",
      "        images[0].callbacksSM.connect('changed', ImageFollower(im))\n",
      "fig.colorbar(images[0], cax)\n",
      "axes(ax[0])     # Return the current axes to the first one,\n",
      "sci(images[0])  # because the current image must be in current axes.\n",
      "show()"
     ],
     "language": "python",
     "metadata": {},
     "outputs": [],
     "prompt_number": 32
    },
    {
     "cell_type": "code",
     "collapsed": false,
     "input": [],
     "language": "python",
     "metadata": {},
     "outputs": [],
     "prompt_number": 32
    },
    {
     "cell_type": "code",
     "collapsed": false,
     "input": [],
     "language": "python",
     "metadata": {},
     "outputs": [],
     "prompt_number": 32
    },
    {
     "cell_type": "code",
     "collapsed": false,
     "input": [],
     "language": "python",
     "metadata": {},
     "outputs": [],
     "prompt_number": 32
    },
    {
     "cell_type": "code",
     "collapsed": false,
     "input": [],
     "language": "python",
     "metadata": {},
     "outputs": [],
     "prompt_number": 32
    }
   ],
   "metadata": {}
  }
 ]
}