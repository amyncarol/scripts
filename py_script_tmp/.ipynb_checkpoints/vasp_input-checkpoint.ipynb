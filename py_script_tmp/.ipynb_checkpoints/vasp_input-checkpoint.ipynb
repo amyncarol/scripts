{
 "metadata": {
  "name": "",
  "signature": "sha256:0825326c43f26b755a3ee4dbf42377da276022cbf4b3a0dcd5cfef290914bb3e"
 },
 "nbformat": 3,
 "nbformat_minor": 0,
 "worksheets": [
  {
   "cells": [
    {
     "cell_type": "code",
     "collapsed": false,
     "input": [
      "import os\n",
      "import fileinput\n",
      "import sys\n",
      "import re\n",
      "import string\n",
      "import shutil\n",
      "from pymatgen.matproj.rest import MPRester\n",
      "from pymatgen.phasediagram.pdmaker import PhaseDiagram\n",
      "from pymatgen.phasediagram.pdanalyzer import PDAnalyzer\n",
      "from pymatgen.phasediagram.plotter import PDPlotter\n",
      "from pymatgen.core.periodic_table import Element\n",
      "from pymatgen.core.composition import Composition\n",
      "import pymatgen.core.periodic_table as pt\n",
      "import numpy as np\n",
      "from pymatgen.io.vaspio.vasp_input import Poscar\n",
      "from pymatgen.io.vaspio.vasp_input import Incar\n",
      "from pymatgen.io.vaspio.vasp_input import Potcar\n",
      "from pymatgen.io.vaspio.vasp_input import Kpoints\n",
      "from pymatgen.io.vaspio.vasp_input import VaspInput \n",
      "from pymatgen.io.vaspio.vasp_output import Vasprun\n",
      "from pymatgen.io.vaspio_set import MPBSHSEVaspInputSet\n",
      "\n",
      "from pymatgen.apps.borg.hive import VaspToComputedEntryDrone\n",
      "from pymatgen.apps.borg.queen import BorgQueen\n"
     ],
     "language": "python",
     "metadata": {},
     "outputs": [],
     "prompt_number": 1
    },
    {
     "cell_type": "code",
     "collapsed": false,
     "input": [
      "inputset = MPBSHSEVaspInputSet()"
     ],
     "language": "python",
     "metadata": {},
     "outputs": [],
     "prompt_number": 2
    },
    {
     "cell_type": "code",
     "collapsed": false,
     "input": [
      "\n",
      "inputset.get_all_vasp_input()"
     ],
     "language": "python",
     "metadata": {},
     "outputs": []
    }
   ],
   "metadata": {}
  }
 ]
}