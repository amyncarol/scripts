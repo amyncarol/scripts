{
 "cells": [
  {
   "cell_type": "code",
   "execution_count": 77,
   "metadata": {
    "collapsed": false
   },
   "outputs": [],
   "source": [
    "import re\n",
    "import numpy as np\n",
    "import matplotlib.pyplot as plt\n",
    "import matplotlib\n",
    "matplotlib.rcParams.update({'font.size': 20})\n",
    "from matplotlib import gridspec\n",
    "\n",
    "def get_pairs(filename):\n",
    "    pairs = []\n",
    "    distance = []\n",
    "    with open(filename, 'r') as f:\n",
    "        lines = f.readlines()\n",
    "    for l in lines:\n",
    "        if l.startswith('No'):\n",
    "            m = re.match(r\"No.(\\d+):([a-zA-Z]+)([\\d]+)\\[*([a-z0-9]*)_*([a-z0-9\\^\\-]*)\\]*->([a-zA-Z]+)([\\d]+)\\[*([a-z0-9]*)_*([a-z0-9\\^\\-]*)\\]*\\(([\\d.]+)\\)\\n\", l)\n",
    "            if m:\n",
    "                pairs.append([m.group(2), m.group(3), m.group(4), m.group(5), m.group(6), m.group(7), m.group(8), m.group(9)])\n",
    "                distance.append(float(m.group(10)))\n",
    "    orbitals = []\n",
    "    for pair in pairs:\n",
    "        if pair[2] != '':\n",
    "            orbitals.append((pair[0], pair[1], pair[2], '', pair[4], pair[5], pair[6], ''))\n",
    "            \n",
    "    unique_orbitals = []\n",
    "    for i in orbitals:\n",
    "        if i not in unique_orbitals:\n",
    "            unique_orbitals.append(i)\n",
    "    return pairs, distance, unique_orbitals\n",
    "\n",
    "def get_nedos(filename):\n",
    "    with open(filename,'r') as f:\n",
    "        lines = f.readlines()\n",
    "    return int(lines[1].split()[2])\n",
    "\n",
    "def get_energy_grid(filename):\n",
    "    with open(filename,'r') as f:\n",
    "        lines = f.readlines()\n",
    "    pairs, dummy, dummy = get_pairs(filename)\n",
    "    nedos = int(lines[1].split()[2])\n",
    "    energy = np.zeros(nedos)\n",
    "    for i, l in enumerate(lines[3+len(pairs):]):\n",
    "        energy[i] = float(l.split()[0])\n",
    "    return energy\n",
    "        \n",
    "def get_ave_pcohp(filename, spin=True):\n",
    "    \"\"\"\n",
    "    return nedos*4 matrix if spin-polarized, nedos*2 if not\n",
    "    1: up spin -> pCOHP averaged over all atom pairs specified\n",
    "    2: up spin -> integrated pCOHP (IpCOHP) averaged over all atom pairs\n",
    "    3: down spin -> pCOHP averaged over all atom pairs specified\n",
    "    4: down spin -> integrated pCOHP (IpCOHP) averaged over all atom pairs  \n",
    "    \"\"\"\n",
    "    with open(filename,'r') as f:\n",
    "        lines = f.readlines()\n",
    "    pairs, dummy, dummy = get_pairs(filename)\n",
    "    nedos = int(lines[1].split()[2])\n",
    "    if spin:\n",
    "        ave_pcohp = np.zeros((nedos,4))\n",
    "    else:\n",
    "        ave_pcohp = np.zeros((nedos,2))\n",
    "    for i, l in enumerate(lines[3+len(pairs):]):\n",
    "        ave_pcohp[i][0] = float(l.split()[1])\n",
    "        ave_pcohp[i][1] = float(l.split()[2])\n",
    "        if spin:\n",
    "            ave_pcohp[i][2] = float(l.split()[2*len(pairs)+3])\n",
    "            ave_pcohp[i][3] = float(l.split()[2*len(pairs)+4])   \n",
    "    return ave_pcohp\n",
    "\n",
    "def get_pcohp(filename, spin=True):\n",
    "    with open(filename,'r') as f:\n",
    "        lines = f.readlines()\n",
    "    pairs, dummy, dummy = get_pairs(filename)\n",
    "    nedos = int(lines[1].split()[2])\n",
    "    if spin:\n",
    "        pcohp = np.zeros((nedos,len(pairs)*4))\n",
    "    else:\n",
    "        pcohp = np.zeros((nedos,len(pairs)*2))\n",
    "    for i, l in enumerate(lines[3+len(pairs):]):\n",
    "        for j in range(len(pairs)):\n",
    "            pcohp[i][2*j] = l.split()[3+2*j]\n",
    "            pcohp[i][2*j+1] = l.split()[3+2*j+1]\n",
    "        if spin:\n",
    "            for j in range(len(pairs)):\n",
    "                pcohp[i][2*j+2*len(pairs)] = l.split()[5+2*j+2*len(pairs)]\n",
    "                pcohp[i][2*j+1+2*len(pairs)] = l.split()[5+2*j+1+2*len(pairs)]      \n",
    "    return pcohp\n",
    "\n",
    "def plotcohp(filename, cohp=True, threshold=0):\n",
    "    pairs, dummy, orbitals = get_pairs(filename)\n",
    "    e = get_energy_grid(filename)\n",
    "    pcohp = get_pcohp(filename)\n",
    "    \n",
    "    #plt.figure(figsize=(6,8))\n",
    "    STYLES = ['solid', 'dotted']\n",
    "    COLORS = ['C'+str(i) for i in range(10)]\n",
    "    \n",
    "    for j in range(len(orbitals)):\n",
    "        pcohpsum = np.zeros(len(e))\n",
    "        for i in range(len(pairs)):\n",
    "            if pairs[i][0]==orbitals[j][0] and pairs[i][1]==orbitals[j][1] and pairs[i][2]==orbitals[j][2] and\\\n",
    "               pairs[i][4]==orbitals[j][4] and pairs[i][5]==orbitals[j][5] and pairs[i][6]==orbitals[j][6]:\n",
    "                pcohpsum += pcohp[:, i*2]\n",
    "        if sum(abs(pcohpsum)>=threshold)>=1:\n",
    "            if cohp:\n",
    "                lines = plt.plot(-pcohpsum, e, label=orbitals[j][0]+orbitals[j][2]+'/'+orbitals[j][4]+orbitals[j][6], lw=3)\n",
    "            else:\n",
    "                lines = plt.plot(pcohpsum, e, label=orbitals[j][0]+orbitals[j][2]+'/'+orbitals[j][4]+orbitals[j][6], lw=3)\n",
    "            lines[0].set_color(COLORS[j%len(COLORS)])\n",
    "            lines[0].set_linestyle(STYLES[j//len(COLORS)])  \n",
    "            \n",
    "    if cohp:\n",
    "        plt.xlabel(\"-COHP\")\n",
    "    else:\n",
    "        plt.xlabel(\"COOP\")\n",
    "    plt.ylabel(\"Energy(eV)\")\n",
    "    ax = plt.gca()\n",
    "    ax.set_axisbelow(True)\n",
    "    ax.yaxis.grid(color='gray', linestyle='dashed')\n",
    "    #plt.show()"
   ]
  },
  {
   "cell_type": "code",
   "execution_count": 84,
   "metadata": {
    "collapsed": false
   },
   "outputs": [
    {
     "ename": "FileNotFoundError",
     "evalue": "[Errno 2] No such file or directory: '/Users/yao/Google Drive/data/2116/lobster/Cs2Cu1Al1Cl6/COHPCAR.lobster'",
     "output_type": "error",
     "traceback": [
      "\u001b[0;31m---------------------------------------------------------------------------\u001b[0m",
      "\u001b[0;31mFileNotFoundError\u001b[0m                         Traceback (most recent call last)",
      "\u001b[0;32m<ipython-input-84-c3f7b7d515fb>\u001b[0m in \u001b[0;36m<module>\u001b[0;34m()\u001b[0m\n\u001b[1;32m     17\u001b[0m         \u001b[0mfilename\u001b[0m \u001b[0;34m=\u001b[0m \u001b[0;34m\"/Users/yao/Google Drive/data/2116/lobster/Cs2\"\u001b[0m\u001b[0;34m+\u001b[0m\u001b[0mb1\u001b[0m\u001b[0;34m+\u001b[0m\u001b[0;34m\"1\"\u001b[0m\u001b[0;34m+\u001b[0m\u001b[0mb2\u001b[0m\u001b[0;34m+\u001b[0m\u001b[0;34m\"1Cl6/COHPCAR.lobster\"\u001b[0m\u001b[0;34m\u001b[0m\u001b[0m\n\u001b[1;32m     18\u001b[0m         \u001b[0mplt\u001b[0m\u001b[0;34m.\u001b[0m\u001b[0msubplot\u001b[0m\u001b[0;34m(\u001b[0m\u001b[0mgs\u001b[0m\u001b[0;34m[\u001b[0m\u001b[0mi\u001b[0m\u001b[0;34m]\u001b[0m\u001b[0;34m)\u001b[0m\u001b[0;34m\u001b[0m\u001b[0m\n\u001b[0;32m---> 19\u001b[0;31m         \u001b[0mplotcohp\u001b[0m\u001b[0;34m(\u001b[0m\u001b[0mfilename\u001b[0m\u001b[0;34m,\u001b[0m \u001b[0;32mTrue\u001b[0m\u001b[0;34m,\u001b[0m \u001b[0mthreshold\u001b[0m\u001b[0;34m)\u001b[0m\u001b[0;34m\u001b[0m\u001b[0m\n\u001b[0m\u001b[1;32m     20\u001b[0m         \u001b[0mplt\u001b[0m\u001b[0;34m.\u001b[0m\u001b[0mylim\u001b[0m\u001b[0;34m(\u001b[0m\u001b[0mylim\u001b[0m\u001b[0;34m)\u001b[0m\u001b[0;34m\u001b[0m\u001b[0m\n\u001b[1;32m     21\u001b[0m         \u001b[0mplt\u001b[0m\u001b[0;34m.\u001b[0m\u001b[0mlegend\u001b[0m\u001b[0;34m(\u001b[0m\u001b[0mprop\u001b[0m\u001b[0;34m=\u001b[0m\u001b[0;34m{\u001b[0m\u001b[0;34m'size'\u001b[0m\u001b[0;34m:\u001b[0m \u001b[0mlegendsize\u001b[0m\u001b[0;34m}\u001b[0m\u001b[0;34m)\u001b[0m\u001b[0;34m\u001b[0m\u001b[0m\n",
      "\u001b[0;32m<ipython-input-77-8259eb7f982b>\u001b[0m in \u001b[0;36mplotcohp\u001b[0;34m(filename, cohp, threshold)\u001b[0m\n\u001b[1;32m     87\u001b[0m \u001b[0;34m\u001b[0m\u001b[0m\n\u001b[1;32m     88\u001b[0m \u001b[0;32mdef\u001b[0m \u001b[0mplotcohp\u001b[0m\u001b[0;34m(\u001b[0m\u001b[0mfilename\u001b[0m\u001b[0;34m,\u001b[0m \u001b[0mcohp\u001b[0m\u001b[0;34m=\u001b[0m\u001b[0;32mTrue\u001b[0m\u001b[0;34m,\u001b[0m \u001b[0mthreshold\u001b[0m\u001b[0;34m=\u001b[0m\u001b[0;36m0\u001b[0m\u001b[0;34m)\u001b[0m\u001b[0;34m:\u001b[0m\u001b[0;34m\u001b[0m\u001b[0m\n\u001b[0;32m---> 89\u001b[0;31m     \u001b[0mpairs\u001b[0m\u001b[0;34m,\u001b[0m \u001b[0mdummy\u001b[0m\u001b[0;34m,\u001b[0m \u001b[0morbitals\u001b[0m \u001b[0;34m=\u001b[0m \u001b[0mget_pairs\u001b[0m\u001b[0;34m(\u001b[0m\u001b[0mfilename\u001b[0m\u001b[0;34m)\u001b[0m\u001b[0;34m\u001b[0m\u001b[0m\n\u001b[0m\u001b[1;32m     90\u001b[0m     \u001b[0me\u001b[0m \u001b[0;34m=\u001b[0m \u001b[0mget_energy_grid\u001b[0m\u001b[0;34m(\u001b[0m\u001b[0mfilename\u001b[0m\u001b[0;34m)\u001b[0m\u001b[0;34m\u001b[0m\u001b[0m\n\u001b[1;32m     91\u001b[0m     \u001b[0mpcohp\u001b[0m \u001b[0;34m=\u001b[0m \u001b[0mget_pcohp\u001b[0m\u001b[0;34m(\u001b[0m\u001b[0mfilename\u001b[0m\u001b[0;34m)\u001b[0m\u001b[0;34m\u001b[0m\u001b[0m\n",
      "\u001b[0;32m<ipython-input-77-8259eb7f982b>\u001b[0m in \u001b[0;36mget_pairs\u001b[0;34m(filename)\u001b[0m\n\u001b[1;32m      9\u001b[0m     \u001b[0mpairs\u001b[0m \u001b[0;34m=\u001b[0m \u001b[0;34m[\u001b[0m\u001b[0;34m]\u001b[0m\u001b[0;34m\u001b[0m\u001b[0m\n\u001b[1;32m     10\u001b[0m     \u001b[0mdistance\u001b[0m \u001b[0;34m=\u001b[0m \u001b[0;34m[\u001b[0m\u001b[0;34m]\u001b[0m\u001b[0;34m\u001b[0m\u001b[0m\n\u001b[0;32m---> 11\u001b[0;31m     \u001b[0;32mwith\u001b[0m \u001b[0mopen\u001b[0m\u001b[0;34m(\u001b[0m\u001b[0mfilename\u001b[0m\u001b[0;34m,\u001b[0m \u001b[0;34m'r'\u001b[0m\u001b[0;34m)\u001b[0m \u001b[0;32mas\u001b[0m \u001b[0mf\u001b[0m\u001b[0;34m:\u001b[0m\u001b[0;34m\u001b[0m\u001b[0m\n\u001b[0m\u001b[1;32m     12\u001b[0m         \u001b[0mlines\u001b[0m \u001b[0;34m=\u001b[0m \u001b[0mf\u001b[0m\u001b[0;34m.\u001b[0m\u001b[0mreadlines\u001b[0m\u001b[0;34m(\u001b[0m\u001b[0;34m)\u001b[0m\u001b[0;34m\u001b[0m\u001b[0m\n\u001b[1;32m     13\u001b[0m     \u001b[0;32mfor\u001b[0m \u001b[0ml\u001b[0m \u001b[0;32min\u001b[0m \u001b[0mlines\u001b[0m\u001b[0;34m:\u001b[0m\u001b[0;34m\u001b[0m\u001b[0m\n",
      "\u001b[0;31mFileNotFoundError\u001b[0m: [Errno 2] No such file or directory: '/Users/yao/Google Drive/data/2116/lobster/Cs2Cu1Al1Cl6/COHPCAR.lobster'"
     ]
    }
   ],
   "source": [
    "#filename = \"/Users/yao/Google Drive/data/2116/lobster/Cs2Au1Sb1Cl6/COOPCAR.lobster\"\n",
    "#plotcohp(filename, False, 0.01)\n",
    "\n",
    "B1_list = ['Cu','Ag','Au', 'In','Tl']\n",
    "B2_list = ['Sc', 'Y', 'Al','Ga','In','Tl', 'As','Sb','Bi']\n",
    "B1 = B1_list[0:3]\n",
    "B2 = B2_list[2:6]\n",
    "ylim = [-6, 8]\n",
    "threshold = 0.2\n",
    "legendsize = 8\n",
    "\n",
    "fig = plt.figure(figsize=(4*len(B2),6*len(B1)))\n",
    "gs = gridspec.GridSpec(len(B1), len(B2))\n",
    "i = 0\n",
    "for b1 in B1:\n",
    "    for b2 in B2:\n",
    "        try:\n",
    "            filename = \"/Users/yao/Google Drive/data/2116/lobster/Cs2\"+b1+\"1\"+b2+\"1Cl6/COHPCAR.lobster\"\n",
    "            plt.subplot(gs[i])\n",
    "            plotcohp(filename, True, threshold)\n",
    "            plt.ylim(ylim)\n",
    "            plt.legend(prop={'size': legendsize})\n",
    "            if i%len(B2) != 0:\n",
    "                plt.ylabel(\"\")\n",
    "        except:\n",
    "            print('not completed calculation')\n",
    "        i += 1\n",
    "#plt.savefig(\"/Users/yao/Google Drive/data/2116/2116 figure/full_data/cohp1.pdf\", dpi=300, bbox_inches='tight')\n",
    "plt.show()"
   ]
  },
  {
   "cell_type": "code",
   "execution_count": 81,
   "metadata": {
    "collapsed": false
   },
   "outputs": [
    {
     "data": {
      "text/plain": [
       "<matplotlib.figure.Figure at 0x10e1bd908>"
      ]
     },
     "metadata": {},
     "output_type": "display_data"
    }
   ],
   "source": []
  },
  {
   "cell_type": "code",
   "execution_count": null,
   "metadata": {
    "collapsed": true
   },
   "outputs": [],
   "source": []
  }
 ],
 "metadata": {
  "anaconda-cloud": {},
  "kernelspec": {
   "display_name": "Python [default]",
   "language": "python",
   "name": "python3"
  },
  "language_info": {
   "codemirror_mode": {
    "name": "ipython",
    "version": 3
   },
   "file_extension": ".py",
   "mimetype": "text/x-python",
   "name": "python",
   "nbconvert_exporter": "python",
   "pygments_lexer": "ipython3",
   "version": "3.5.2"
  }
 },
 "nbformat": 4,
 "nbformat_minor": 2
}
