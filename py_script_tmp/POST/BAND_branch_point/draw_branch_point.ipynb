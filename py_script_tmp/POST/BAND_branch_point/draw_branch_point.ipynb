{
 "metadata": {
  "name": "",
  "signature": "sha256:80ccf1608d15efbf71c65fd0d9cc4376f70ec3ec5e2e4f1f655010bb4ad63423"
 },
 "nbformat": 3,
 "nbformat_minor": 0,
 "worksheets": [
  {
   "cells": [
    {
     "cell_type": "code",
     "collapsed": false,
     "input": [
      "import numpy as np\n",
      "import matplotlib.pyplot as plt\n",
      "import matplotlib.cbook as cbook\n",
      "import re\n",
      "from matplotlib.pyplot import figure, show, axes, sci\n",
      "from matplotlib import cm, colors\n",
      "from matplotlib.font_manager import FontProperties\n",
      "from numpy import amin, amax, ravel"
     ],
     "language": "python",
     "metadata": {},
     "outputs": [],
     "prompt_number": 2
    },
    {
     "cell_type": "code",
     "collapsed": false,
     "input": [
      "results = open('/Users/yao/Desktop/results','r')"
     ],
     "language": "python",
     "metadata": {},
     "outputs": [
      {
       "ename": "IOError",
       "evalue": "[Errno 2] No such file or directory: '/Users/yao/Desktop/results'",
       "output_type": "pyerr",
       "traceback": [
        "\u001b[0;31m---------------------------------------------------------------------------\u001b[0m\n\u001b[0;31mIOError\u001b[0m                                   Traceback (most recent call last)",
        "\u001b[0;32m<ipython-input-3-a0de97c5ad88>\u001b[0m in \u001b[0;36m<module>\u001b[0;34m()\u001b[0m\n\u001b[0;32m----> 1\u001b[0;31m \u001b[0mresults\u001b[0m \u001b[0;34m=\u001b[0m \u001b[0mopen\u001b[0m\u001b[0;34m(\u001b[0m\u001b[0;34m'/Users/yao/Desktop/results'\u001b[0m\u001b[0;34m,\u001b[0m\u001b[0;34m'r'\u001b[0m\u001b[0;34m)\u001b[0m\u001b[0;34m\u001b[0m\u001b[0m\n\u001b[0m",
        "\u001b[0;31mIOError\u001b[0m: [Errno 2] No such file or directory: '/Users/yao/Desktop/results'"
       ]
      }
     ],
     "prompt_number": 3
    },
    {
     "cell_type": "code",
     "collapsed": false,
     "input": [
      "data = []\n",
      "vbm = []\n",
      "cbm = []\n",
      "bandgap = []\n",
      "ebp = []\n",
      "ebp_position = []\n",
      "lines = results.readlines()\n",
      "for line in lines:\n",
      "    match = re.match(r\"(mp-[0-9]+)([ ]+)([0-9.\\-]+)([ ]+)([0-9.\\-]+)([ ]+)([0-9.\\-]+)([ ]+)([0-9.\\-]+)([ ]+)([0-9.\\-]+)\", line, re.I)\n",
      "    if match:\n",
      "        items = match.groups()\n",
      "        data.append({items[0]:[items[2],items[4],items[6],items[8],items[10]]})\n",
      "        vbm.append(items[2])\n",
      "        cbm.append(items[4])\n",
      "        bandgap.append(items[6])\n",
      "        ebp.append(items[8])\n",
      "        ebp_position.append(items[10])"
     ],
     "language": "python",
     "metadata": {},
     "outputs": []
    },
    {
     "cell_type": "code",
     "collapsed": false,
     "input": [],
     "language": "python",
     "metadata": {},
     "outputs": []
    },
    {
     "cell_type": "code",
     "collapsed": false,
     "input": [
      "plt.plot(np.arange(len(data)), bandgap, 'o')\n",
      "plt.show()\n",
      "    "
     ],
     "language": "python",
     "metadata": {},
     "outputs": []
    },
    {
     "cell_type": "code",
     "collapsed": false,
     "input": [],
     "language": "python",
     "metadata": {},
     "outputs": []
    }
   ],
   "metadata": {}
  }
 ]
}