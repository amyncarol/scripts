{
 "cells": [
  {
   "cell_type": "code",
   "execution_count": 7,
   "metadata": {
    "collapsed": false
   },
   "outputs": [],
   "source": [
    "from pymatgen import core\n",
    "from pymatgen.core import sites\n",
    "from pymatgen.symmetry import analyzer\n",
    "from pymatgen.symmetry.analyzer import SpacegroupAnalyzer\n",
    "from pymatgen.io.smartio import read_structure, write_structure\n",
    "from pymatgen.io import vaspio_set\n",
    "import os\n",
    "import shutil\n",
    "import copy\n",
    "import numpy as np\n",
    "from pymatgen.transformations import standard_transformations"
   ]
  },
  {
   "cell_type": "code",
   "execution_count": 8,
   "metadata": {
    "collapsed": false
   },
   "outputs": [],
   "source": [
    "s1 = read_structure(\"POSCAR-1.vasp\")"
   ]
  },
  {
   "cell_type": "code",
   "execution_count": 9,
   "metadata": {
    "collapsed": false
   },
   "outputs": [],
   "source": [
    "for i in my_range(-0.04,0.05,0.01):\n",
    "    s1_new = copy.deepcopy(s1)\n",
    "    strain = [0,0,i]\n",
    "    s1_new.apply_strain(strain)\n",
    "    currentFolder = \"Cstrain_\" + \"{:4.2f}\".format(i)\n",
    "    if os.path.exists(currentFolder):\n",
    "        shutil.rmtree(currentFolder)\n",
    "    os.mkdir(currentFolder)\n",
    "    write_structure(s1_new,\"POSCAR\")\n",
    "    shutil.copy(\"POSCAR\", currentFolder + \"/POSCAR\")\n",
    "    shutil.copy(\"INCAR\", currentFolder + \"/INCAR\")\n",
    "    shutil.copy(\"KPOINTS\", currentFolder + \"/KPOINTS\")\n",
    "    shutil.copy(\"POTCAR\", currentFolder + \"/POTCAR\")"
   ]
  },
  {
   "cell_type": "code",
   "execution_count": 10,
   "metadata": {
    "collapsed": false
   },
   "outputs": [],
   "source": [
    "def my_range(start, end, step):\n",
    "\twhile start <= end:\n",
    "\t\tyield start\n",
    "\t\tstart += step"
   ]
  },
  {
   "cell_type": "code",
   "execution_count": 10,
   "metadata": {
    "collapsed": false
   },
   "outputs": [],
   "source": []
  }
 ],
 "metadata": {
  "anaconda-cloud": {},
  "kernelspec": {
   "display_name": "Python [default]",
   "language": "python",
   "name": "python3"
  },
  "language_info": {
   "codemirror_mode": {
    "name": "ipython",
    "version": 3
   },
   "file_extension": ".py",
   "mimetype": "text/x-python",
   "name": "python",
   "nbconvert_exporter": "python",
   "pygments_lexer": "ipython3",
   "version": "3.5.2"
  }
 },
 "nbformat": 4,
 "nbformat_minor": 0
}
