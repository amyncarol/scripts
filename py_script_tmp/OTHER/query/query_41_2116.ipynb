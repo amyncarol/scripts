{
 "cells": [
  {
   "cell_type": "code",
   "execution_count": 24,
   "metadata": {
    "collapsed": false
   },
   "outputs": [],
   "source": [
    "from pymatgen.matproj.rest import MPRester\n",
    "import os\n",
    "from pymatgen.core.periodic_table import Element\n",
    "\n",
    "def convert_formula_latex(pretty_formula):\n",
    "    import re\n",
    "    m = re.match(\"([A-Za-z]+)([0-9])([A-Za-z]+)([A-Za-z]+)([0-9])\", pretty_formula)\n",
    "    if m:\n",
    "        return m.group(1) + \"$_\" + m.group(2) + \"$\" + \\\n",
    "            m.group(3) + m.group(4) + \"$_\" + m.group(5) + \"$\"\n",
    "\n",
    "def convert_to_formula(c):\n",
    "    import re\n",
    "    m = re.match(\"([A-Za-z]+)([0-9])([A-Za-z]+)([0-9])([A-Za-z]+)([0-9])([A-Za-z]+)([0-9])\", c)\n",
    "    if m:\n",
    "        return m.group(1) + m.group(2) + m.group(3) + m.group(5) +  m.group(7) + m.group(8)\n",
    "\n",
    "c_list = ['K2Ag1In1Cl6',\n",
    " 'Rb2Ag1In1Cl6',\n",
    " 'Rb2Ag1In1Br6',\n",
    " 'Cs2Ag1In1Cl6',\n",
    " 'Cs2Ag1In1Br6',\n",
    " 'Rb2In1As1Cl6',\n",
    " 'Cs2In1As1Br6',\n",
    " 'Rb2In1Bi1Cl6',\n",
    " 'Cs2In1Bi1Cl6',\n",
    " 'Cs2In1Bi1Br6',\n",
    " 'Rb2In1Sb1Cl6',\n",
    " 'Rb2In1Sb1Br6',\n",
    " 'Cs2In1Sb1Br6',\n",
    " 'Rb2Tl1As1Br6',\n",
    " 'Rb2Tl1As1I6',\n",
    " 'Cs2Tl1As1Br6',\n",
    " 'Cs2Tl1As1I6',\n",
    " 'Cs2Tl1Bi1I6',\n",
    " 'K2Tl1Sb1Br6',\n",
    " 'Rb2Tl1Sb1Br6',\n",
    " 'Rb2Tl1Sb1I6',\n",
    " 'Cs2Tl1Sb1Br6',\n",
    " 'Cs2Tl1Sb1I6',\n",
    " 'Rb2Ag1Sb1I6',\n",
    " 'Cs2Ag1Sb1I6',\n",
    " 'Cs2Au1As1Cl6',\n",
    " 'Rb2Au1Sb1Cl6',\n",
    " 'K2Au1Sc1I6',\n",
    " 'Rb2Au1Sc1I6',\n",
    " 'Cs2Au1Sc1I6',\n",
    " 'Rb2Cu1Bi1Br6',\n",
    " 'Cs2Cu1Bi1Br6',\n",
    " 'Rb2In1Ga1I6',\n",
    " 'Cs2In1Ga1I6',\n",
    " 'Rb2In1In1Br6',\n",
    " 'Cs2In1In1Br6',\n",
    " 'Cs2In1Tl1I6',\n",
    " 'Cs2Tl1In1I6',\n",
    " 'Rb2Tl1Tl1Cl6',\n",
    " 'Rb2Tl1Tl1Br6',\n",
    " 'Cs2Tl1Tl1Br6']\n",
    "\n",
    "c_list = ['Cs2Li1Y1Cl6']"
   ]
  },
  {
   "cell_type": "code",
   "execution_count": 25,
   "metadata": {
    "collapsed": false
   },
   "outputs": [],
   "source": [
    "with MPRester(os.environ['MAPI_KEY']) as m:\n",
    "    results = []\n",
    "    for c in c_list:\n",
    "        result = m.query(criteria={\"pretty_formula\": convert_to_formula(c)}, properties=[\"pretty_formula\", \n",
    "                                                                                         \"spacegroup.symbol\",\n",
    "                                                                                         \"nsites\",\n",
    "                                                                                         \"icsd_id\",\n",
    "                                                                                         \"e_above_hull\",\n",
    "                                                                                         \"band_gap\",\n",
    "                                                                                         \"task_id\"\n",
    "                                                                                        ])\n",
    "        if len(result)!=0:\n",
    "            for i in result:\n",
    "                results.append(i)"
   ]
  },
  {
   "cell_type": "code",
   "execution_count": 23,
   "metadata": {
    "collapsed": false,
    "scrolled": true
   },
   "outputs": [
    {
     "data": {
      "text/html": [
       "<div>\n",
       "<table border=\"1\" class=\"dataframe\">\n",
       "  <thead>\n",
       "    <tr style=\"text-align: right;\">\n",
       "      <th></th>\n",
       "      <th>Formula</th>\n",
       "      <th>ICSD ID</th>\n",
       "      <th>Space group</th>\n",
       "      <th>Crystal system</th>\n",
       "      <th>Nsites</th>\n",
       "      <th>Ehull</th>\n",
       "    </tr>\n",
       "  </thead>\n",
       "  <tbody>\n",
       "    <tr>\n",
       "      <th>0</th>\n",
       "      <td>Cs$_2$LiYCl$_6$</td>\n",
       "      <td>65731</td>\n",
       "      <td>Fm$\\bar{3}$m</td>\n",
       "      <td>Cubic</td>\n",
       "      <td>10</td>\n",
       "      <td>0</td>\n",
       "    </tr>\n",
       "  </tbody>\n",
       "</table>\n",
       "</div>"
      ],
      "text/plain": [
       "           Formula ICSD ID   Space group Crystal system  Nsites  Ehull\n",
       "0  Cs$_2$LiYCl$_6$   65731  Fm$\\bar{3}$m          Cubic      10      0"
      ]
     },
     "execution_count": 23,
     "metadata": {},
     "output_type": "execute_result"
    }
   ],
   "source": [
    "import collections\n",
    "\n",
    "data = collections.defaultdict(list)\n",
    "for e in results:\n",
    "    if e[\"icsd_id\"] != None:\n",
    "        data[\"Formula\"].append(convert_formula_latex(e[\"pretty_formula\"]))\n",
    "        #data[\"Materials ID\"].append(e[\"task_id\"])\n",
    "        data[\"ICSD ID\"].append(str(e[\"icsd_id\"]))\n",
    "        if e[\"spacegroup.symbol\"] == 'Fm-3m':\n",
    "            data[\"Space group\"].append(r'Fm$\\bar{3}$m')\n",
    "            data[\"Crystal system\"].append(\"Cubic\")\n",
    "        elif e[\"spacegroup.symbol\"] in ['P4/mnc', 'I4/m', 'I4/mmm']:\n",
    "            data[\"Space group\"].append(e[\"spacegroup.symbol\"]) \n",
    "            data[\"Crystal system\"].append(\"Tetragonal\")\n",
    "        elif e[\"spacegroup.symbol\"] == 'P2_1/c':\n",
    "            data[\"Space group\"].append(r'P2$_{1}$/c')\n",
    "            data[\"Crystal system\"].append(\"Monoclinic\")\n",
    "        elif e[\"spacegroup.symbol\"] == 'Pnma':\n",
    "            data[\"Space group\"].append(e[\"spacegroup.symbol\"]) \n",
    "            data[\"Crystal system\"].append(\"Orthorhombic\")\n",
    "            \n",
    "        data[\"Nsites\"].append(e[\"nsites\"]) \n",
    "        data[\"Ehull\"].append(e[\"e_above_hull\"]) \n",
    "        #data[\"Bandgap\"].append(e[\"band_gap\"]) \n",
    "\n",
    "from pandas import DataFrame\n",
    "import pandas as pd\n",
    "def print_full(x):\n",
    "    pd.set_option('display.max_rows', len(x))\n",
    "    print(x)\n",
    "    \n",
    "df = DataFrame(data, columns=[\"Formula\", \"ICSD ID\", \"Space group\", \"Crystal system\", \"Nsites\", \"Ehull\"])\n",
    "df"
   ]
  },
  {
   "cell_type": "code",
   "execution_count": 5,
   "metadata": {
    "collapsed": false
   },
   "outputs": [
    {
     "name": "stdout",
     "output_type": "stream",
     "text": [
      "\\begin{tabular}{llllrr}\n",
      "\\toprule\n",
      "        Formula & ICSD ID &   Space group & Crystal system &  Nsites &     Ehull \\\\\n",
      "\\midrule\n",
      "  K$_2$SnCl$_6$ &    6058 &  Fm$\\bar{3}$m &          Cubic &       9 &  0.007380 \\\\\n",
      "  K$_2$SnBr$_6$ &   30212 &        P4/mnc &     Tetragonal &      18 &  0.004630 \\\\\n",
      "  K$_2$SnBr$_6$ &   35557 &    P2$_{1}$/c &     Monoclinic &      18 &  0.000000 \\\\\n",
      "  K$_2$SnBr$_6$ &  158955 &  Fm$\\bar{3}$m &          Cubic &       9 &  0.014178 \\\\\n",
      "  K$_2$PdCl$_6$ &   33709 &  Fm$\\bar{3}$m &          Cubic &       9 &  0.000000 \\\\\n",
      "  K$_2$PtCl$_6$ &   31114 &  Fm$\\bar{3}$m &          Cubic &       9 &  0.000000 \\\\\n",
      "  K$_2$PtBr$_6$ &   23771 &  Fm$\\bar{3}$m &          Cubic &       9 &  0.000000 \\\\\n",
      "   K$_2$PtI$_6$ &   37190 &        P4/mnc &     Tetragonal &      18 &  0.000000 \\\\\n",
      "  K$_2$SeBr$_6$ &   36228 &  Fm$\\bar{3}$m &          Cubic &       9 &  0.000000 \\\\\n",
      "  K$_2$TeBr$_6$ &   37270 &        P4/mnc &     Tetragonal &      18 &  0.012528 \\\\\n",
      "  K$_2$TeBr$_6$ &   65115 &    P2$_{1}$/c &     Monoclinic &      18 &  0.000000 \\\\\n",
      "  K$_2$TeBr$_6$ &   38346 &  Fm$\\bar{3}$m &          Cubic &       9 &  0.023133 \\\\\n",
      "   K$_2$TeI$_6$ &   23649 &    P2$_{1}$/c &     Monoclinic &      18 &  0.000000 \\\\\n",
      " Rb$_2$SnCl$_6$ &   29026 &  Fm$\\bar{3}$m &          Cubic &       9 &  0.000000 \\\\\n",
      " Rb$_2$SnBr$_6$ &  158956 &  Fm$\\bar{3}$m &          Cubic &       9 &  0.000000 \\\\\n",
      "  Rb$_2$SnI$_6$ &   22104 &  Fm$\\bar{3}$m &          Cubic &       9 &  0.011618 \\\\\n",
      " Rb$_2$PbCl$_6$ &   29029 &  Fm$\\bar{3}$m &          Cubic &       9 &  0.000000 \\\\\n",
      " Rb$_2$PdCl$_6$ &   33710 &  Fm$\\bar{3}$m &          Cubic &       9 &  0.000000 \\\\\n",
      " Rb$_2$PdBr$_6$ &   36305 &  Fm$\\bar{3}$m &          Cubic &       9 &  0.000000 \\\\\n",
      "  Rb$_2$PdI$_6$ &   92478 &  Fm$\\bar{3}$m &          Cubic &       9 &  0.016994 \\\\\n",
      "  Rb$_2$PdI$_6$ &   92477 &          Pnma &   Orthorhombic &      36 &  0.004336 \\\\\n",
      " Rb$_2$PtCl$_6$ &   29028 &  Fm$\\bar{3}$m &          Cubic &       9 &  0.000000 \\\\\n",
      "  Rb$_2$PtI$_6$ &   37191 &  Fm$\\bar{3}$m &          Cubic &       9 &  0.000000 \\\\\n",
      " Rb$_2$SeCl$_6$ &   26692 &  Fm$\\bar{3}$m &          Cubic &       9 &  0.000000 \\\\\n",
      " Rb$_2$TeCl$_6$ &   29027 &  Fm$\\bar{3}$m &          Cubic &       9 &  0.000000 \\\\\n",
      " Rb$_2$TeBr$_6$ &   49521 &  Fm$\\bar{3}$m &          Cubic &       9 &  0.001058 \\\\\n",
      " Rb$_2$TeBr$_6$ &   49520 &          I4/m &     Tetragonal &       9 &  0.000000 \\\\\n",
      "  Rb$_2$TeI$_6$ &   36009 &        P4/mnc &     Tetragonal &      18 &  0.000000 \\\\\n",
      " Cs$_2$GeCl$_6$ &   28892 &  Fm$\\bar{3}$m &          Cubic &       9 &  0.000000 \\\\\n",
      " Cs$_2$SnCl$_6$ &    9023 &  Fm$\\bar{3}$m &          Cubic &       9 &  0.000000 \\\\\n",
      " Cs$_2$SnBr$_6$ &  158957 &  Fm$\\bar{3}$m &          Cubic &       9 &  0.000000 \\\\\n",
      " Cs$_2$PbCl$_6$ &   26713 &  Fm$\\bar{3}$m &          Cubic &       9 &  0.000000 \\\\\n",
      "  Cs$_2$PdI$_6$ &  280189 &        I4/mmm &     Tetragonal &       9 &  0.008327 \\\\\n",
      "  Cs$_2$PdI$_6$ &  280190 &  Fm$\\bar{3}$m &          Cubic &       9 &  0.005466 \\\\\n",
      " Cs$_2$PtCl$_6$ &   29032 &  Fm$\\bar{3}$m &          Cubic &       9 &  0.000000 \\\\\n",
      " Cs$_2$PtBr$_6$ &   77381 &  Fm$\\bar{3}$m &          Cubic &       9 &  0.000000 \\\\\n",
      "  Cs$_2$PtI$_6$ &   37193 &  Fm$\\bar{3}$m &          Cubic &       9 &  0.000000 \\\\\n",
      " Cs$_2$SeCl$_6$ &   26693 &  Fm$\\bar{3}$m &          Cubic &       9 &  0.000000 \\\\\n",
      " Cs$_2$TeCl$_6$ &   26704 &  Fm$\\bar{3}$m &          Cubic &       9 &  0.000000 \\\\\n",
      " Cs$_2$TeBr$_6$ &   27695 &  Fm$\\bar{3}$m &          Cubic &       9 &  0.000000 \\\\\n",
      "  Cs$_2$TeI$_6$ &   38105 &  Fm$\\bar{3}$m &          Cubic &       9 &  0.000000 \\\\\n",
      "\\bottomrule\n",
      "\\end{tabular}\n",
      "\n"
     ]
    }
   ],
   "source": [
    "print(df.to_latex(escape = False, index=False))"
   ]
  },
  {
   "cell_type": "code",
   "execution_count": 6,
   "metadata": {
    "collapsed": false
   },
   "outputs": [
    {
     "data": {
      "image/png": "[encoded data removed]",
      "text/plain": [
       "<matplotlib.figure.Figure at 0x10a53fa20>"
      ]
     },
     "metadata": {},
     "output_type": "display_data"
    }
   ],
   "source": [
    "import numpy as np\n",
    "import matplotlib.pyplot as plt\n",
    "plt.hist(df[\"Ehull\"])\n",
    "plt.show()"
   ]
  },
  {
   "cell_type": "code",
   "execution_count": 13,
   "metadata": {
    "collapsed": false
   },
   "outputs": [],
   "source": [
    "#with open('/Users/yao/Google Drive/data/2116/data/exp_structure.csv','w') as f:\n",
    "#    f.write('Compound, Spacegroup\\n')\n",
    "#    for e in results:\n",
    "#        f.write(e['pretty_formula'])\n",
    "#        f.write(',')\n",
    "#        f.write(e['spacegroup.symbol'])\n",
    "#        f.write('\\n')"
   ]
  },
  {
   "cell_type": "code",
   "execution_count": null,
   "metadata": {
    "collapsed": true
   },
   "outputs": [],
   "source": []
  }
 ],
 "metadata": {
  "anaconda-cloud": {},
  "kernelspec": {
   "display_name": "Python [default]",
   "language": "python",
   "name": "python3"
  },
  "language_info": {
   "codemirror_mode": {
    "name": "ipython",
    "version": 3
   },
   "file_extension": ".py",
   "mimetype": "text/x-python",
   "name": "python",
   "nbconvert_exporter": "python",
   "pygments_lexer": "ipython3",
   "version": "3.5.2"
  }
 },
 "nbformat": 4,
 "nbformat_minor": 1
}
