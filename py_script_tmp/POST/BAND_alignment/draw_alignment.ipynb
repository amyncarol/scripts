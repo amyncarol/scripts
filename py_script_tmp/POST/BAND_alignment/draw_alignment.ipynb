{
 "cells": [
  {
   "cell_type": "code",
   "execution_count": 2,
   "metadata": {
    "collapsed": false
   },
   "outputs": [],
   "source": [
    "import numpy as np\n",
    "import matplotlib.pyplot as plt\n",
    "import re"
   ]
  },
  {
   "cell_type": "code",
   "execution_count": 4,
   "metadata": {
    "collapsed": false
   },
   "outputs": [],
   "source": [
    "fig, ax = plt.subplots()\n",
    "data = []\n",
    "downlimit = -6\n",
    "uplimit = -3\n",
    "n_of_compounds = 4\n",
    "universal_bp = -4.5\n",
    "\n",
    "data.append([\"CsPbI3\", -5.2, -4.37, -3.72])\n",
    "data.append([\"CsSnI3\", -4.3, -4.33, -3.84])\n",
    "data.append([\"CsGeI3\", -4.77, -4.42, -4.15])\n",
    "data.append([\"MAGeI3\", -4.89, -4.31, -3.87])\n",
    "\n",
    "for i in np.arange(len(data)):\n",
    "    ax.broken_barh([(i, 1)] , (downlimit, data[i][1]-downlimit), facecolors='#95c4de')\n",
    "    ax.broken_barh([(i, 1)] , (data[i][3], uplimit-data[i][3]), facecolors='#95c4de')\n",
    "    ax.plot((i, i+1), (data[i][2], data[i][2]), 'r-', linewidth = 2)\n",
    "    ax.text(i+0.3, data[i][1]-0.5, data[i][0], fontdict=None, withdash=False)\n",
    "    \n",
    "line = plt.axhline(y=universal_bp, xmin=0, xmax=1, linewidth=2, color = 'k')\n",
    "line.set_dashes([6, 2])\n",
    "\n",
    "ax.set_ylim(downlimit,uplimit)\n",
    "ax.set_xlim(0, n_of_compounds)\n",
    "ax.set_ylabel('Energy(eV)')\n",
    "ax.set_xticks([])\n",
    "ax.set_yticks(np.arange(uplimit-downlimit+1)+downlimit)\n",
    "\n",
    "plt.show()"
   ]
  },
  {
   "cell_type": "code",
   "execution_count": null,
   "metadata": {
    "collapsed": false
   },
   "outputs": [],
   "source": []
  }
 ],
 "metadata": {
  "kernelspec": {
   "display_name": "Python 2",
   "language": "python",
   "name": "python2"
  },
  "language_info": {
   "codemirror_mode": {
    "name": "ipython",
    "version": 2
   },
   "file_extension": ".py",
   "mimetype": "text/x-python",
   "name": "python",
   "nbconvert_exporter": "python",
   "pygments_lexer": "ipython2",
   "version": "2.7.9"
  }
 },
 "nbformat": 4,
 "nbformat_minor": 0
}
