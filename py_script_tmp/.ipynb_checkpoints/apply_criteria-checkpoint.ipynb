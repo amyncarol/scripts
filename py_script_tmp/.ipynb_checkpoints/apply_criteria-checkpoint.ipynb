{
 "metadata": {
  "name": "",
  "signature": "sha256:ec409a0225597678ca787ab1fd06ba8cfda0ff3ae2be6c3d1d62347bfc177f15"
 },
 "nbformat": 3,
 "nbformat_minor": 0,
 "worksheets": [
  {
   "cells": [
    {
     "cell_type": "code",
     "collapsed": false,
     "input": [
      "import numpy as np\n",
      "import matplotlib.pyplot as plt\n",
      "import matplotlib.cbook as cbook\n",
      "import re\n",
      "from matplotlib.pyplot import figure, show, axes, sci\n",
      "from matplotlib import cm, colors\n",
      "from matplotlib.font_manager import FontProperties\n",
      "from numpy import amin, amax, ravel\n",
      "import numpy.ma as ma"
     ],
     "language": "python",
     "metadata": {},
     "outputs": [],
     "prompt_number": 1
    },
    {
     "cell_type": "code",
     "collapsed": false,
     "input": [
      "with open('/Users/yao/Google Drive/data/216/Hull_paper', 'r') as f:\n",
      "    hull = []\n",
      "    for line in f:\n",
      "        hull.append(float(line.split()[3]))"
     ],
     "language": "python",
     "metadata": {},
     "outputs": [],
     "prompt_number": 2
    },
    {
     "cell_type": "code",
     "collapsed": false,
     "input": [
      "with open('/Users/yao/Google Drive/data/216/Eg_paper', 'r') as f:\n",
      "    Eg = []\n",
      "    compounds = []\n",
      "    for line in f:\n",
      "        compounds.append([line.split()[0], line.split()[1], line.split()[2]])\n",
      "        Eg.append(float(line.split()[3]))"
     ],
     "language": "python",
     "metadata": {},
     "outputs": [],
     "prompt_number": 3
    },
    {
     "cell_type": "code",
     "collapsed": false,
     "input": [
      "with open('/Users/yao/Google Drive/data/216/mass_paper', 'r') as f:\n",
      "    mass_e = []\n",
      "    mass_h = []\n",
      "    for line in f:\n",
      "        mass_e.append(float(line.split()[3]))\n",
      "        mass_h.append(float(line.split()[4]))"
     ],
     "language": "python",
     "metadata": {},
     "outputs": [],
     "prompt_number": 4
    },
    {
     "cell_type": "code",
     "collapsed": false,
     "input": [
      "for i in np.arange(len(Eg)):\n",
      "    if Eg[i]<1.0 and Eg[i]>0.15 and hull[i]<0.03 and mass_e[i]<2 and mass_h[i]<2:\n",
      "        print '{0}2{1}{2}6 {4} {5} {6} {7}'.format(compounds[i][0],compounds[i][1], compounds[i][2], Eg[i],hull[i],mass_e[i],mass_h[i])\n",
      "        "
     ],
     "language": "python",
     "metadata": {},
     "outputs": [
      {
       "ename": "SyntaxError",
       "evalue": "invalid syntax (<ipython-input-5-5e8aeaecf88a>, line 2)",
       "output_type": "pyerr",
       "traceback": [
        "\u001b[0;36m  File \u001b[0;32m\"<ipython-input-5-5e8aeaecf88a>\"\u001b[0;36m, line \u001b[0;32m2\u001b[0m\n\u001b[0;31m    if Eg[i]<1.0 and Eg[i]>0.15 and hull[i]<0.03 and mass_e[i]<2 and mass_h[i]<2\u001b[0m\n\u001b[0m                                                                                ^\u001b[0m\n\u001b[0;31mSyntaxError\u001b[0m\u001b[0;31m:\u001b[0m invalid syntax\n"
       ]
      }
     ],
     "prompt_number": 5
    }
   ],
   "metadata": {}
  }
 ]
}