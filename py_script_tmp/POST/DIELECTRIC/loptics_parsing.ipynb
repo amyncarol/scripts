{
 "cells": [
  {
   "cell_type": "code",
   "execution_count": 1,
   "metadata": {
    "collapsed": false
   },
   "outputs": [],
   "source": [
    "import matplotlib.pyplot as plt"
   ]
  },
  {
   "cell_type": "code",
   "execution_count": 2,
   "metadata": {
    "collapsed": false
   },
   "outputs": [],
   "source": [
    "def get_dielect(filename):\n",
    "    \"\"\"\n",
    "    LOPTICS parsing:\n",
    "    filename: vasprun.xml file\n",
    "    returns energy and imaginery part of epsilon\n",
    "    \"\"\"  \n",
    "    from pymatgen.io.vasp.outputs import Vasprun\n",
    "    vr = Vasprun(filename)\n",
    "    energy = vr.dielectric[0]\n",
    "    real_tensor = vr.dielectric[1]\n",
    "    imag_tensor = vr.dielectric[2]\n",
    "    nedos = len(energy)\n",
    "    real_iso = []\n",
    "    imag_iso = []\n",
    "    for i in range(nedos):\n",
    "        real_iso.append(real_tensor[i][0])\n",
    "        imag_iso.append(imag_tensor[i][0])\n",
    "    return energy, imag_iso, real_iso\n",
    "\n",
    "def get_absorb(filename):\n",
    "    \"\"\"\n",
    "    LOPTICS parsing:\n",
    "    filename: vasprun.xml file\n",
    "    returns energy and absorption coefficient\n",
    "    \"\"\" \n",
    "    from pymatgen.core.physical_constants import c,h,e\n",
    "    from math import sqrt,pi\n",
    "    import numpy as np\n",
    "    energy, imag_iso, real_iso = get_dielect(filename)\n",
    "    constant = 4*pi*e/(h*c)*0.01 \n",
    "    nedos = len(energy)\n",
    "    norm_iso = np.zeros(nedos)\n",
    "    k_iso = np.zeros(nedos)\n",
    "    absorb_iso = np.zeros(nedos)\n",
    "    for i in range(nedos):\n",
    "        norm_iso[i] = sqrt(imag_iso[i]**2+real_iso[i]**2)\n",
    "        k_iso[i] = sqrt(2)/2*sqrt(norm_iso[i]-real_iso[i])\n",
    "        absorb_iso[i] = energy[i]*k_iso[i]*constant\n",
    "    return energy, absorb_iso\n"
   ]
  },
  {
   "cell_type": "code",
   "execution_count": 1,
   "metadata": {
    "collapsed": false
   },
   "outputs": [
    {
     "ename": "NameError",
     "evalue": "name 'get_absorb' is not defined",
     "output_type": "error",
     "traceback": [
      "\u001b[0;31m---------------------------------------------------------------------------\u001b[0m",
      "\u001b[0;31mNameError\u001b[0m                                 Traceback (most recent call last)",
      "\u001b[0;32m<ipython-input-1-9467b98143b2>\u001b[0m in \u001b[0;36m<module>\u001b[0;34m()\u001b[0m\n\u001b[0;32m----> 1\u001b[0;31m \u001b[0menergy\u001b[0m\u001b[0;34m,\u001b[0m \u001b[0mabsorb_iso\u001b[0m \u001b[0;34m=\u001b[0m \u001b[0mget_absorb\u001b[0m\u001b[0;34m(\u001b[0m\u001b[0;34m'/Users/yao/Google Drive/data/Si-dielectric/pbe-ip/k10/vasprun.xml'\u001b[0m\u001b[0;34m)\u001b[0m\u001b[0;34m\u001b[0m\u001b[0m\n\u001b[0m\u001b[1;32m      2\u001b[0m \u001b[0mplt\u001b[0m\u001b[0;34m.\u001b[0m\u001b[0msemilogy\u001b[0m\u001b[0;34m(\u001b[0m\u001b[0menergy\u001b[0m\u001b[0;34m,\u001b[0m \u001b[0mabsorb_iso\u001b[0m\u001b[0;34m,\u001b[0m \u001b[0mlabel\u001b[0m\u001b[0;34m=\u001b[0m\u001b[0;34m'k10'\u001b[0m\u001b[0;34m)\u001b[0m\u001b[0;34m\u001b[0m\u001b[0m\n\u001b[1;32m      3\u001b[0m \u001b[0;34m\u001b[0m\u001b[0m\n\u001b[1;32m      4\u001b[0m \u001b[0menergy\u001b[0m\u001b[0;34m,\u001b[0m \u001b[0mabsorb_iso\u001b[0m \u001b[0;34m=\u001b[0m \u001b[0mget_absorb\u001b[0m\u001b[0;34m(\u001b[0m\u001b[0;34m'/Users/yao/Google Drive/data/2116/absorption/Rb2Ag1In1Br6/k8-ip/vasprun.xml'\u001b[0m\u001b[0;34m)\u001b[0m\u001b[0;34m\u001b[0m\u001b[0m\n\u001b[1;32m      5\u001b[0m \u001b[0mplt\u001b[0m\u001b[0;34m.\u001b[0m\u001b[0msemilogy\u001b[0m\u001b[0;34m(\u001b[0m\u001b[0menergy\u001b[0m\u001b[0;34m,\u001b[0m \u001b[0mabsorb_iso\u001b[0m\u001b[0;34m,\u001b[0m \u001b[0mlabel\u001b[0m\u001b[0;34m=\u001b[0m\u001b[0;34m'k4'\u001b[0m\u001b[0;34m)\u001b[0m\u001b[0;34m\u001b[0m\u001b[0m\n",
      "\u001b[0;31mNameError\u001b[0m: name 'get_absorb' is not defined"
     ]
    }
   ],
   "source": [
    "energy, absorb_iso = get_absorb('/Users/yao/Google Drive/data/Si-dielectric/pbe-ip/k10/vasprun.xml')\n",
    "plt.semilogy(energy, absorb_iso, label='k10')\n",
    "\n",
    "energy, absorb_iso = get_absorb('/Users/yao/Google Drive/data/2116/absorption/Rb2Ag1In1Br6/k8-ip/vasprun.xml')\n",
    "plt.semilogy(energy, absorb_iso, label='k4')\n",
    "\n",
    "plt.xlim([0,4])\n",
    "plt.legend()\n",
    "plt.show()  "
   ]
  },
  {
   "cell_type": "code",
   "execution_count": 7,
   "metadata": {
    "collapsed": false
   },
   "outputs": [
    {
     "ename": "ValueError",
     "evalue": "could not convert string to float: '**********'",
     "output_type": "error",
     "traceback": [
      "\u001b[0;31m---------------------------------------------------------------------------\u001b[0m",
      "\u001b[0;31mValueError\u001b[0m                                Traceback (most recent call last)",
      "\u001b[0;32m<ipython-input-7-cfd727d7a8e6>\u001b[0m in \u001b[0;36m<module>\u001b[0;34m()\u001b[0m\n\u001b[0;32m----> 1\u001b[0;31m \u001b[0menergy\u001b[0m\u001b[0;34m,\u001b[0m \u001b[0mimag_iso\u001b[0m\u001b[0;34m,\u001b[0m \u001b[0mreal_iso\u001b[0m \u001b[0;34m=\u001b[0m \u001b[0mget_dielect\u001b[0m\u001b[0;34m(\u001b[0m\u001b[0;34m'/Users/yao/Google Drive/data/2116/absorption/Rb2Ag1In1Br6/k8-ip/vasprun.xml'\u001b[0m\u001b[0;34m)\u001b[0m\u001b[0;34m\u001b[0m\u001b[0m\n\u001b[0m\u001b[1;32m      2\u001b[0m \u001b[0mplt\u001b[0m\u001b[0;34m.\u001b[0m\u001b[0mplot\u001b[0m\u001b[0;34m(\u001b[0m\u001b[0menergy\u001b[0m\u001b[0;34m,\u001b[0m \u001b[0mimag_iso\u001b[0m\u001b[0;34m,\u001b[0m \u001b[0mlabel\u001b[0m\u001b[0;34m=\u001b[0m\u001b[0;34m'imag'\u001b[0m\u001b[0;34m)\u001b[0m\u001b[0;34m\u001b[0m\u001b[0m\n\u001b[1;32m      3\u001b[0m \u001b[0mplt\u001b[0m\u001b[0;34m.\u001b[0m\u001b[0mplot\u001b[0m\u001b[0;34m(\u001b[0m\u001b[0menergy\u001b[0m\u001b[0;34m,\u001b[0m \u001b[0mreal_iso\u001b[0m\u001b[0;34m,\u001b[0m \u001b[0mlabel\u001b[0m\u001b[0;34m=\u001b[0m\u001b[0;34m'real'\u001b[0m\u001b[0;34m)\u001b[0m\u001b[0;34m\u001b[0m\u001b[0m\n\u001b[1;32m      4\u001b[0m \u001b[0;34m\u001b[0m\u001b[0m\n\u001b[1;32m      5\u001b[0m \u001b[0;31m#energy, imag_iso, real_iso = get_dielect('/Users/yao/Google Drive/data/Si-dielectric/pbe-ip/k10/vasprun.xml')\u001b[0m\u001b[0;34m\u001b[0m\u001b[0;34m\u001b[0m\u001b[0m\n",
      "\u001b[0;32m<ipython-input-2-829f938eca0b>\u001b[0m in \u001b[0;36mget_dielect\u001b[0;34m(filename)\u001b[0m\n\u001b[1;32m      6\u001b[0m     \"\"\"  \n\u001b[1;32m      7\u001b[0m     \u001b[0;32mfrom\u001b[0m \u001b[0mpymatgen\u001b[0m\u001b[0;34m.\u001b[0m\u001b[0mio\u001b[0m\u001b[0;34m.\u001b[0m\u001b[0mvasp\u001b[0m\u001b[0;34m.\u001b[0m\u001b[0moutputs\u001b[0m \u001b[0;32mimport\u001b[0m \u001b[0mVasprun\u001b[0m\u001b[0;34m\u001b[0m\u001b[0m\n\u001b[0;32m----> 8\u001b[0;31m     \u001b[0mvr\u001b[0m \u001b[0;34m=\u001b[0m \u001b[0mVasprun\u001b[0m\u001b[0;34m(\u001b[0m\u001b[0mfilename\u001b[0m\u001b[0;34m)\u001b[0m\u001b[0;34m\u001b[0m\u001b[0m\n\u001b[0m\u001b[1;32m      9\u001b[0m     \u001b[0menergy\u001b[0m \u001b[0;34m=\u001b[0m \u001b[0mvr\u001b[0m\u001b[0;34m.\u001b[0m\u001b[0mdielectric\u001b[0m\u001b[0;34m[\u001b[0m\u001b[0;36m0\u001b[0m\u001b[0;34m]\u001b[0m\u001b[0;34m\u001b[0m\u001b[0m\n\u001b[1;32m     10\u001b[0m     \u001b[0mreal_tensor\u001b[0m \u001b[0;34m=\u001b[0m \u001b[0mvr\u001b[0m\u001b[0;34m.\u001b[0m\u001b[0mdielectric\u001b[0m\u001b[0;34m[\u001b[0m\u001b[0;36m1\u001b[0m\u001b[0;34m]\u001b[0m\u001b[0;34m\u001b[0m\u001b[0m\n",
      "\u001b[0;32m//anaconda/envs/216paper/lib/python3.5/site-packages/pymatgen/io/vasp/outputs.py\u001b[0m in \u001b[0;36m__init__\u001b[0;34m(self, filename, ionic_step_skip, ionic_step_offset, parse_dos, parse_eigen, parse_projected_eigen, parse_potcar_file, occu_tol, exception_on_bad_xml)\u001b[0m\n\u001b[1;32m    377\u001b[0m             \u001b[0;32melse\u001b[0m\u001b[0;34m:\u001b[0m\u001b[0;34m\u001b[0m\u001b[0m\n\u001b[1;32m    378\u001b[0m                 self._parse(f, parse_dos=parse_dos, parse_eigen=parse_eigen,\n\u001b[0;32m--> 379\u001b[0;31m                             parse_projected_eigen=parse_projected_eigen)\n\u001b[0m\u001b[1;32m    380\u001b[0m                 \u001b[0mself\u001b[0m\u001b[0;34m.\u001b[0m\u001b[0mnionic_steps\u001b[0m \u001b[0;34m=\u001b[0m \u001b[0mlen\u001b[0m\u001b[0;34m(\u001b[0m\u001b[0mself\u001b[0m\u001b[0;34m.\u001b[0m\u001b[0mionic_steps\u001b[0m\u001b[0;34m)\u001b[0m\u001b[0;34m\u001b[0m\u001b[0m\n\u001b[1;32m    381\u001b[0m \u001b[0;34m\u001b[0m\u001b[0m\n",
      "\u001b[0;32m//anaconda/envs/216paper/lib/python3.5/site-packages/pymatgen/io/vasp/outputs.py\u001b[0m in \u001b[0;36m_parse\u001b[0;34m(self, stream, parse_dos, parse_eigen, parse_projected_eigen)\u001b[0m\n\u001b[1;32m    441\u001b[0m                     \u001b[0;32mif\u001b[0m \u001b[0;34m(\u001b[0m\u001b[0;34m\"comment\"\u001b[0m \u001b[0;32mnot\u001b[0m \u001b[0;32min\u001b[0m \u001b[0melem\u001b[0m\u001b[0;34m.\u001b[0m\u001b[0mattrib\u001b[0m\u001b[0;34m)\u001b[0m \u001b[0;32mor\u001b[0m\u001b[0;31m \u001b[0m\u001b[0;31m\\\u001b[0m\u001b[0;34m\u001b[0m\u001b[0m\n\u001b[1;32m    442\u001b[0m                        \u001b[0melem\u001b[0m\u001b[0;34m.\u001b[0m\u001b[0mattrib\u001b[0m\u001b[0;34m[\u001b[0m\u001b[0;34m\"comment\"\u001b[0m\u001b[0;34m]\u001b[0m \u001b[0;34m==\u001b[0m \u001b[0;34m\"INVERSE MACROSCOPIC DIELECTRIC TENSOR (including local field effects in RPA (Hartree))\"\u001b[0m\u001b[0;34m:\u001b[0m\u001b[0;34m\u001b[0m\u001b[0m\n\u001b[0;32m--> 443\u001b[0;31m                         \u001b[0mself\u001b[0m\u001b[0;34m.\u001b[0m\u001b[0mdielectric\u001b[0m \u001b[0;34m=\u001b[0m \u001b[0mself\u001b[0m\u001b[0;34m.\u001b[0m\u001b[0m_parse_diel\u001b[0m\u001b[0;34m(\u001b[0m\u001b[0melem\u001b[0m\u001b[0;34m)\u001b[0m\u001b[0;34m\u001b[0m\u001b[0m\n\u001b[0m\u001b[1;32m    444\u001b[0m                     \u001b[0;32melse\u001b[0m\u001b[0;34m:\u001b[0m\u001b[0;34m\u001b[0m\u001b[0m\n\u001b[1;32m    445\u001b[0m                         self.other_dielectric[elem.attrib[\n",
      "\u001b[0;32m//anaconda/envs/216paper/lib/python3.5/site-packages/pymatgen/io/vasp/outputs.py\u001b[0m in \u001b[0;36m_parse_diel\u001b[0;34m(self, elem)\u001b[0m\n\u001b[1;32m    997\u001b[0m         imag = [[float(l) for l in r.text.split()]\n\u001b[1;32m    998\u001b[0m                 \u001b[0;32mfor\u001b[0m \u001b[0mr\u001b[0m \u001b[0;32min\u001b[0m \u001b[0melem\u001b[0m\u001b[0;34m.\u001b[0m\u001b[0mfind\u001b[0m\u001b[0;34m(\u001b[0m\u001b[0;34m\"imag\"\u001b[0m\u001b[0;34m)\u001b[0m\u001b[0;34m.\u001b[0m\u001b[0mfind\u001b[0m\u001b[0;34m(\u001b[0m\u001b[0;34m\"array\"\u001b[0m\u001b[0;34m)\u001b[0m\u001b[0;34m\u001b[0m\u001b[0m\n\u001b[0;32m--> 999\u001b[0;31m                 .find(\"set\").findall(\"r\")]\n\u001b[0m\u001b[1;32m   1000\u001b[0m         real = [[float(l) for l in r.text.split()]\n\u001b[1;32m   1001\u001b[0m                 \u001b[0;32mfor\u001b[0m \u001b[0mr\u001b[0m \u001b[0;32min\u001b[0m \u001b[0melem\u001b[0m\u001b[0;34m.\u001b[0m\u001b[0mfind\u001b[0m\u001b[0;34m(\u001b[0m\u001b[0;34m\"real\"\u001b[0m\u001b[0;34m)\u001b[0m\u001b[0;34m\u001b[0m\u001b[0m\n",
      "\u001b[0;32m//anaconda/envs/216paper/lib/python3.5/site-packages/pymatgen/io/vasp/outputs.py\u001b[0m in \u001b[0;36m<listcomp>\u001b[0;34m(.0)\u001b[0m\n\u001b[1;32m    996\u001b[0m     \u001b[0;32mdef\u001b[0m \u001b[0m_parse_diel\u001b[0m\u001b[0;34m(\u001b[0m\u001b[0mself\u001b[0m\u001b[0;34m,\u001b[0m \u001b[0melem\u001b[0m\u001b[0;34m)\u001b[0m\u001b[0;34m:\u001b[0m\u001b[0;34m\u001b[0m\u001b[0m\n\u001b[1;32m    997\u001b[0m         imag = [[float(l) for l in r.text.split()]\n\u001b[0;32m--> 998\u001b[0;31m                 \u001b[0;32mfor\u001b[0m \u001b[0mr\u001b[0m \u001b[0;32min\u001b[0m \u001b[0melem\u001b[0m\u001b[0;34m.\u001b[0m\u001b[0mfind\u001b[0m\u001b[0;34m(\u001b[0m\u001b[0;34m\"imag\"\u001b[0m\u001b[0;34m)\u001b[0m\u001b[0;34m.\u001b[0m\u001b[0mfind\u001b[0m\u001b[0;34m(\u001b[0m\u001b[0;34m\"array\"\u001b[0m\u001b[0;34m)\u001b[0m\u001b[0;34m\u001b[0m\u001b[0m\n\u001b[0m\u001b[1;32m    999\u001b[0m                 .find(\"set\").findall(\"r\")]\n\u001b[1;32m   1000\u001b[0m         real = [[float(l) for l in r.text.split()]\n",
      "\u001b[0;32m//anaconda/envs/216paper/lib/python3.5/site-packages/pymatgen/io/vasp/outputs.py\u001b[0m in \u001b[0;36m<listcomp>\u001b[0;34m(.0)\u001b[0m\n\u001b[1;32m    995\u001b[0m \u001b[0;34m\u001b[0m\u001b[0m\n\u001b[1;32m    996\u001b[0m     \u001b[0;32mdef\u001b[0m \u001b[0m_parse_diel\u001b[0m\u001b[0;34m(\u001b[0m\u001b[0mself\u001b[0m\u001b[0;34m,\u001b[0m \u001b[0melem\u001b[0m\u001b[0;34m)\u001b[0m\u001b[0;34m:\u001b[0m\u001b[0;34m\u001b[0m\u001b[0m\n\u001b[0;32m--> 997\u001b[0;31m         imag = [[float(l) for l in r.text.split()]\n\u001b[0m\u001b[1;32m    998\u001b[0m                 \u001b[0;32mfor\u001b[0m \u001b[0mr\u001b[0m \u001b[0;32min\u001b[0m \u001b[0melem\u001b[0m\u001b[0;34m.\u001b[0m\u001b[0mfind\u001b[0m\u001b[0;34m(\u001b[0m\u001b[0;34m\"imag\"\u001b[0m\u001b[0;34m)\u001b[0m\u001b[0;34m.\u001b[0m\u001b[0mfind\u001b[0m\u001b[0;34m(\u001b[0m\u001b[0;34m\"array\"\u001b[0m\u001b[0;34m)\u001b[0m\u001b[0;34m\u001b[0m\u001b[0m\n\u001b[1;32m    999\u001b[0m                 .find(\"set\").findall(\"r\")]\n",
      "\u001b[0;31mValueError\u001b[0m: could not convert string to float: '**********'"
     ]
    }
   ],
   "source": [
    "energy, imag_iso, real_iso = get_dielect('/Users/yao/Google Drive/data/2116/absorption/Rb2Ag1In1Br6/k8-ip/vasprun.xml')\n",
    "plt.plot(energy, imag_iso, label='imag')\n",
    "plt.plot(energy, real_iso, label='real')\n",
    "\n",
    "#energy, imag_iso, real_iso = get_dielect('/Users/yao/Google Drive/data/Si-dielectric/pbe-ip/k10/vasprun.xml')\n",
    "#plt.plot(energy, imag_iso, label='imag-Si')\n",
    "#plt.plot(energy, real_iso, label='real-Si')\n",
    "\n",
    "plt.xlim([0,10])\n",
    "plt.legend()\n",
    "plt.show()  "
   ]
  },
  {
   "cell_type": "code",
   "execution_count": null,
   "metadata": {
    "collapsed": false
   },
   "outputs": [],
   "source": [
    "imag_iso"
   ]
  },
  {
   "cell_type": "code",
   "execution_count": null,
   "metadata": {
    "collapsed": true
   },
   "outputs": [],
   "source": []
  }
 ],
 "metadata": {
  "anaconda-cloud": {},
  "kernelspec": {
   "display_name": "Python [conda env:216paper]",
   "language": "python",
   "name": "conda-env-216paper-py"
  },
  "language_info": {
   "codemirror_mode": {
    "name": "ipython",
    "version": 3
   },
   "file_extension": ".py",
   "mimetype": "text/x-python",
   "name": "python",
   "nbconvert_exporter": "python",
   "pygments_lexer": "ipython3",
   "version": "3.5.2"
  }
 },
 "nbformat": 4,
 "nbformat_minor": 1
}
