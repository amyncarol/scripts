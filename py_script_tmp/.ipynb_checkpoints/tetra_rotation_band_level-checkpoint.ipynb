{
 "cells": [
  {
   "cell_type": "code",
   "execution_count": 28,
   "metadata": {
    "collapsed": true
   },
   "outputs": [],
   "source": [
    "import matplotlib.pyplot as plt\n",
    "import numpy as np"
   ]
  },
  {
   "cell_type": "code",
   "execution_count": null,
   "metadata": {
    "collapsed": true
   },
   "outputs": [],
   "source": []
  },
  {
   "cell_type": "code",
   "execution_count": 29,
   "metadata": {
    "collapsed": true
   },
   "outputs": [],
   "source": [
    "angle_0 = np.array([-10.38, -2.49, 0, 0, 1.16])\n",
    "angle_4 = np.array([-10.3, -2.43, 0, 0.15, 1.20])\n",
    "angle_8 = np.array([-10.06, -2.23, 0, 0.44, 1.30])\n",
    "angle_11 = np.array([-9.83, -2.06, 0, 0.68, 1.39])"
   ]
  },
  {
   "cell_type": "code",
   "execution_count": 42,
   "metadata": {
    "collapsed": false
   },
   "outputs": [
    {
     "name": "stdout",
     "output_type": "stream",
     "text": [
      "[[ 0.  0.  0.  0.  0.]\n",
      " [ 0.  0.  0.  0.  0.]\n",
      " [ 0.  0.  0.  0.  0.]\n",
      " [ 0.  0.  0.  0.  0.]]\n"
     ]
    }
   ],
   "source": [
    "band_level = [angle_0, angle_4, angle_8, angle_11]\n",
    "Rb_reference = -10.38\n",
    "band_level_shifted = np.zeros((4, 5))\n",
    "print band_level_shifted"
   ]
  },
  {
   "cell_type": "code",
   "execution_count": 43,
   "metadata": {
    "collapsed": false
   },
   "outputs": [
    {
     "name": "stdout",
     "output_type": "stream",
     "text": [
      "[[-10.38  -2.49   0.     0.     1.16]\n",
      " [-10.38  -2.51  -0.08   0.07   1.12]\n",
      " [-10.38  -2.55  -0.32   0.12   0.98]\n",
      " [-10.38  -2.61  -0.55   0.13   0.84]]\n"
     ]
    }
   ],
   "source": [
    "for i in range(0,4):\n",
    "    band_level_shifted[i] = np.add(band_level[i], band_level[i][2]-band_level[i][0]+Rb_reference)\n",
    "print band_level_shifted"
   ]
  },
  {
   "cell_type": "code",
   "execution_count": 50,
   "metadata": {
    "collapsed": false
   },
   "outputs": [],
   "source": [
    "data = band_level_shifted"
   ]
  },
  {
   "cell_type": "code",
   "execution_count": null,
   "metadata": {
    "collapsed": false
   },
   "outputs": [],
   "source": [
    "fig, ax = plt.subplots()\n",
    "for i in np.arange(len(data)):\n",
    "    ax.broken_barh([(i, 1)] , (data[i][1], data[i][2]-data[i][1]), facecolors='#95c4de')\n",
    "    ax.plot((i, i+1), (data[i][1]/2+data[i][2]/2, data[i][1]/2+data[i][2]/2), 'r-', linewidth = 2)\n",
    "    ax.broken_barh([(i, 1)] , (data[i][3], data[i][4]-data[i][3]), facecolors='#95c4de')\n",
    "    ax.plot((i, i+1), (data[i][3]/2+data[i][4]/2, data[i][3]/2+data[i][4]/2), 'r-', linewidth = 2)\n",
    "        \n",
    "#ax.set_ylim(downlimit,uplimit)\n",
    "ax.set_xlim(0, 4)\n",
    "ax.set_ylabel('Energy(eV)')\n",
    "ax.set_xticks([])\n",
    "#ax.set_yticks(np.arange(uplimit-downlimit+1)+downlimit)\n",
    "\n",
    "plt.show()"
   ]
  },
  {
   "cell_type": "code",
   "execution_count": null,
   "metadata": {
    "collapsed": true
   },
   "outputs": [],
   "source": []
  }
 ],
 "metadata": {
  "kernelspec": {
   "display_name": "Python 2",
   "language": "python",
   "name": "python2"
  },
  "language_info": {
   "codemirror_mode": {
    "name": "ipython",
    "version": 2
   },
   "file_extension": ".py",
   "mimetype": "text/x-python",
   "name": "python",
   "nbconvert_exporter": "python",
   "pygments_lexer": "ipython2",
   "version": "2.7.9"
  }
 },
 "nbformat": 4,
 "nbformat_minor": 1
}
