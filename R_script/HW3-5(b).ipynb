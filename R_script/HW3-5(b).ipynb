{
 "cells": [
  {
   "cell_type": "code",
   "execution_count": 60,
   "metadata": {
    "collapsed": false
   },
   "outputs": [
    {
     "data": {
      "text/html": [
       "0.05453"
      ],
      "text/latex": [
       "0.05453"
      ],
      "text/markdown": [
       "0.05453"
      ],
      "text/plain": [
       "[1] 0.05453"
      ]
     },
     "metadata": {},
     "output_type": "display_data"
    }
   ],
   "source": [
    "nsample = 100000\n",
    "x <- matrix(rpois(n=20*nsample, lambda=1), nsample)\n",
    "reject = apply(x, 1, function(x) abs((mean(x)-1)/sqrt(mean(x)/20))>-qnorm(0.025))\n",
    "sum(reject)/nsample"
   ]
  },
  {
   "cell_type": "code",
   "execution_count": null,
   "metadata": {
    "collapsed": true
   },
   "outputs": [],
   "source": []
  }
 ],
 "metadata": {
  "anaconda-cloud": {},
  "kernelspec": {
   "display_name": "R",
   "language": "R",
   "name": "ir"
  },
  "language_info": {
   "codemirror_mode": "r",
   "file_extension": ".r",
   "mimetype": "text/x-r-source",
   "name": "R",
   "pygments_lexer": "r",
   "version": "3.4.2"
  }
 },
 "nbformat": 4,
 "nbformat_minor": 2
}
