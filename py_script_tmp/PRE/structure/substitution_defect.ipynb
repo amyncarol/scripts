{
 "cells": [
  {
   "cell_type": "code",
   "execution_count": 5,
   "metadata": {
    "collapsed": false
   },
   "outputs": [],
   "source": [
    "from pymatgen import core\n",
    "from pymatgen.core import sites\n",
    "from pymatgen.symmetry import analyzer\n",
    "from pymatgen.symmetry.analyzer import SpacegroupAnalyzer\n",
    "from pymatgen.io.vasp.inputs import Poscar\n",
    "import os\n",
    "import shutil\n",
    "import copy\n",
    "import numpy as np"
   ]
  },
  {
   "cell_type": "code",
   "execution_count": 6,
   "metadata": {
    "collapsed": false
   },
   "outputs": [],
   "source": [
    "s1 = Poscar.from_file(\"/Users/yao/Google Drive/data/2116/scintillator/Cs2Li1Y1Cl6/POSCAR\").structure"
   ]
  },
  {
   "cell_type": "code",
   "execution_count": 7,
   "metadata": {
    "collapsed": false
   },
   "outputs": [],
   "source": [
    "#s1.make_supercell([2,2,2])\n",
    "sga = SpacegroupAnalyzer(s1)"
   ]
  },
  {
   "cell_type": "code",
   "execution_count": 15,
   "metadata": {
    "collapsed": false
   },
   "outputs": [
    {
     "data": {
      "text/plain": [
       "Structure Summary\n",
       "Lattice\n",
       "    abc : 10.627660604006977 10.627660604006977 10.627660604006977\n",
       " angles : 90.0 90.0 90.0\n",
       " volume : 1200.3641880286953\n",
       "      A : 10.627660604006977 0.0 6.5075652705607847e-16\n",
       "      B : -6.5075652705607847e-16 10.627660604006977 6.5075652705607847e-16\n",
       "      C : 0.0 0.0 10.627660604006977\n",
       "PeriodicSite: Cs (2.6569, 2.6569, 2.6569) [0.2500, 0.2500, 0.2500]\n",
       "PeriodicSite: Cs (2.6569, 2.6569, 7.9707) [0.2500, 0.2500, 0.7500]\n",
       "PeriodicSite: Cs (2.6569, 7.9707, 7.9707) [0.2500, 0.7500, 0.7500]\n",
       "PeriodicSite: Cs (2.6569, 7.9707, 2.6569) [0.2500, 0.7500, 0.2500]\n",
       "PeriodicSite: Cs (7.9707, 2.6569, 7.9707) [0.7500, 0.2500, 0.7500]\n",
       "PeriodicSite: Cs (7.9707, 2.6569, 2.6569) [0.7500, 0.2500, 0.2500]\n",
       "PeriodicSite: Cs (7.9707, 7.9707, 2.6569) [0.7500, 0.7500, 0.2500]\n",
       "PeriodicSite: Cs (7.9707, 7.9707, 7.9707) [0.7500, 0.7500, 0.7500]\n",
       "PeriodicSite: Li (-0.0000, 5.3138, 0.0000) [0.0000, 0.5000, 0.0000]\n",
       "PeriodicSite: Li (0.0000, 0.0000, 5.3138) [0.0000, 0.0000, 0.5000]\n",
       "PeriodicSite: Li (5.3138, 5.3138, 5.3138) [0.5000, 0.5000, 0.5000]\n",
       "PeriodicSite: Li (5.3138, 0.0000, 0.0000) [0.5000, 0.0000, 0.0000]\n",
       "PeriodicSite: Ce (0.0000, 0.0000, 0.0000) [0.0000, 0.0000, 0.0000]\n",
       "PeriodicSite: Y (-0.0000, 5.3138, 5.3138) [0.0000, 0.5000, 0.5000]\n",
       "PeriodicSite: Y (5.3138, 0.0000, 5.3138) [0.5000, 0.0000, 0.5000]\n",
       "PeriodicSite: Y (5.3138, 5.3138, 0.0000) [0.5000, 0.5000, 0.0000]\n",
       "PeriodicSite: Cl (-0.0000, 2.6535, 0.0000) [0.0000, 0.2497, 0.0000]\n",
       "PeriodicSite: Cl (-0.0000, 5.3138, 2.6603) [0.0000, 0.5000, 0.2503]\n",
       "PeriodicSite: Cl (5.3138, 2.6603, 0.0000) [0.5000, 0.2503, 0.0000]\n",
       "PeriodicSite: Cl (7.9674, 5.3138, 0.0000) [0.7497, 0.5000, 0.0000]\n",
       "PeriodicSite: Cl (2.6603, 5.3138, 0.0000) [0.2503, 0.5000, 0.0000]\n",
       "PeriodicSite: Cl (-0.0000, 5.3138, 7.9674) [0.0000, 0.5000, 0.7497]\n",
       "PeriodicSite: Cl (-0.0000, 7.9674, 5.3138) [0.0000, 0.7497, 0.5000]\n",
       "PeriodicSite: Cl (0.0000, 0.0000, 7.9741) [0.0000, 0.0000, 0.7503]\n",
       "PeriodicSite: Cl (5.3138, 7.9741, 5.3138) [0.5000, 0.7503, 0.5000]\n",
       "PeriodicSite: Cl (7.9674, 0.0000, 5.3138) [0.7497, 0.0000, 0.5000]\n",
       "PeriodicSite: Cl (2.6603, 0.0000, 5.3138) [0.2503, 0.0000, 0.5000]\n",
       "PeriodicSite: Cl (0.0000, 0.0000, 2.6535) [0.0000, 0.0000, 0.2497]\n",
       "PeriodicSite: Cl (5.3138, 2.6535, 5.3138) [0.5000, 0.2497, 0.5000]\n",
       "PeriodicSite: Cl (5.3138, 5.3138, 7.9741) [0.5000, 0.5000, 0.7503]\n",
       "PeriodicSite: Cl (-0.0000, 2.6603, 5.3138) [0.0000, 0.2503, 0.5000]\n",
       "PeriodicSite: Cl (2.6535, 5.3138, 5.3138) [0.2497, 0.5000, 0.5000]\n",
       "PeriodicSite: Cl (7.9741, 5.3138, 5.3138) [0.7503, 0.5000, 0.5000]\n",
       "PeriodicSite: Cl (5.3138, 5.3138, 2.6535) [0.5000, 0.5000, 0.2497]\n",
       "PeriodicSite: Cl (5.3138, 7.9674, 0.0000) [0.5000, 0.7497, 0.0000]\n",
       "PeriodicSite: Cl (5.3138, 0.0000, 2.6603) [0.5000, 0.0000, 0.2503]\n",
       "PeriodicSite: Cl (-0.0000, 7.9741, 0.0000) [0.0000, 0.7503, 0.0000]\n",
       "PeriodicSite: Cl (2.6535, 0.0000, 0.0000) [0.2497, 0.0000, 0.0000]\n",
       "PeriodicSite: Cl (7.9741, 0.0000, 0.0000) [0.7503, 0.0000, 0.0000]\n",
       "PeriodicSite: Cl (5.3138, 0.0000, 7.9674) [0.5000, 0.0000, 0.7497]"
      ]
     },
     "execution_count": 15,
     "metadata": {},
     "output_type": "execute_result"
    }
   ],
   "source": [
    "s = sga.get_conventional_standard_structure()\n",
    "s.replace(12, 'Ce')\n",
    "s"
   ]
  },
  {
   "cell_type": "code",
   "execution_count": 17,
   "metadata": {
    "collapsed": false
   },
   "outputs": [],
   "source": [
    "Poscar(s).write_file(\"/Users/yao/Desktop/POSCAR_40_Ce.vasp\")"
   ]
  },
  {
   "cell_type": "code",
   "execution_count": null,
   "metadata": {
    "collapsed": false
   },
   "outputs": [],
   "source": []
  }
 ],
 "metadata": {
  "anaconda-cloud": {},
  "kernelspec": {
   "display_name": "Python 2",
   "language": "python",
   "name": "python2"
  },
  "language_info": {
   "codemirror_mode": {
    "name": "ipython",
    "version": 2
   },
   "file_extension": ".py",
   "mimetype": "text/x-python",
   "name": "python",
   "nbconvert_exporter": "python",
   "pygments_lexer": "ipython2",
   "version": "2.7.13"
  }
 },
 "nbformat": 4,
 "nbformat_minor": 0
}
