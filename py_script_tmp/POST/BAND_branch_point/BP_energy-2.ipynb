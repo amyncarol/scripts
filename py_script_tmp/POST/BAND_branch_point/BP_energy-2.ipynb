{
 "cells": [
  {
   "cell_type": "code",
   "execution_count": 1,
   "metadata": {
    "collapsed": false
   },
   "outputs": [],
   "source": [
    "from pymatgen.io.vasp.outputs import Vasprun\n",
    "import numpy as np\n",
    "import os\n",
    "import glob\n",
    "from pymatgen.electronic_structure.core import Spin"
   ]
  },
  {
   "cell_type": "code",
   "execution_count": 2,
   "metadata": {
    "collapsed": true
   },
   "outputs": [],
   "source": [
    "def BZ_avg(eigenvalues, band_index,kpoints,kpoints_weights):\n",
    "    \"\"\"\n",
    "    :param eigenvalues: eigenvalues of all bands with the format of Vasprun.eigenvalues\n",
    "    :param band_index: the band index for averaging\n",
    "    :param kpoints: sampled k-points\n",
    "    :param kpoints_weights: the weights of sampled k-points\n",
    "    :return: the average of a particular band over k-points in the BZ\n",
    "    \"\"\"\n",
    "    energy_array = [ eigenvalues[Spin.up][k_point_index][band_index][0] for k_point_index in range(len(kpoints))]\n",
    "    return np.average(energy_array, weights=kpoints_weights)"
   ]
  },
  {
   "cell_type": "code",
   "execution_count": 8,
   "metadata": {
    "collapsed": true
   },
   "outputs": [],
   "source": [
    "def Branch_point_energy(vr, cb_sampling_num, vb_sampling_num):\n",
    "    \"\"\"\n",
    "    Calculate the Branch_point_energy with the formula proposed in:\n",
    "    APPLIED PHYSICS LETTERS 94, 012104 2009 ; doi: 10.1063/1.3059569\n",
    "\n",
    "    :param vr: Vasprun Object\n",
    "    :param cb_sampling_num: the number of cb for sampling. Default vb_sampling_num = 2* cb_sampling_num\n",
    "    :return:\n",
    "    \"\"\"\n",
    "    #vb_sampling_num = 2*cb_sampling_num\n",
    "    vbm_band_index = len(list(filter(lambda u:u[1]!=0, vr.eigenvalues[Spin.up][0])))-1\n",
    "\n",
    "    vb_sampling_indexes = [vbm_band_index-i for i in range(vb_sampling_num)]\n",
    "    cb_sampling_indexes = [vbm_band_index+i+1 for i in range(cb_sampling_num)]\n",
    "    \n",
    "\n",
    "    vb_avg = sum([BZ_avg(vr.eigenvalues,vb_index,vr.actual_kpoints,vr.actual_kpoints_weights)\n",
    "               for vb_index in vb_sampling_indexes])/len(vb_sampling_indexes)\n",
    "    cb_avg = sum([BZ_avg(vr.eigenvalues,cb_index,vr.actual_kpoints,vr.actual_kpoints_weights)\n",
    "               for cb_index in cb_sampling_indexes])/len(cb_sampling_indexes)\n",
    "    \n",
    "    return np.mean([vb_avg,cb_avg])"
   ]
  },
  {
   "cell_type": "code",
   "execution_count": 10,
   "metadata": {
    "collapsed": false
   },
   "outputs": [
    {
     "name": "stderr",
     "output_type": "stream",
     "text": [
      "//anaconda/lib/python3.5/site-packages/pymatgen/io/vasp/outputs.py:814: UserWarning: No POTCAR file with matching TITEL fields was found in /Users/yao/Google Drive/data/113/113-pbe-soc-hiroko/100MAPbI3\n",
      "  \" was found in {}\".format(os.path.abspath(p)))\n"
     ]
    },
    {
     "name": "stdout",
     "output_type": "stream",
     "text": [
      "['100MAPbI3',1.0697,1.89945249109,1.8558],\n"
     ]
    },
    {
     "name": "stderr",
     "output_type": "stream",
     "text": [
      "//anaconda/lib/python3.5/site-packages/pymatgen/io/vasp/outputs.py:814: UserWarning: No POTCAR file with matching TITEL fields was found in /Users/yao/Google Drive/data/113/113-pbe-soc-hiroko/111MAPbI3_0.01\n",
      "  \" was found in {}\".format(os.path.abspath(p)))\n"
     ]
    },
    {
     "name": "stdout",
     "output_type": "stream",
     "text": [
      "['111MAPbI3_0.01',0.9606,1.73457081142,1.613],\n"
     ]
    },
    {
     "name": "stderr",
     "output_type": "stream",
     "text": [
      "//anaconda/lib/python3.5/site-packages/pymatgen/io/vasp/outputs.py:814: UserWarning: No POTCAR file with matching TITEL fields was found in /Users/yao/Google Drive/data/113/113-pbe-soc-hiroko/111MAPbI3_0.05\n",
      "  \" was found in {}\".format(os.path.abspath(p)))\n"
     ]
    },
    {
     "name": "stdout",
     "output_type": "stream",
     "text": [
      "['111MAPbI3_0.05',0.9696,1.74146051841,1.62],\n"
     ]
    },
    {
     "name": "stderr",
     "output_type": "stream",
     "text": [
      "//anaconda/lib/python3.5/site-packages/pymatgen/io/vasp/outputs.py:814: UserWarning: No POTCAR file with matching TITEL fields was found in /Users/yao/Google Drive/data/113/113-pbe-soc-hiroko/111MAPbBr3_0.01\n",
      "  \" was found in {}\".format(os.path.abspath(p)))\n",
      "//anaconda/lib/python3.5/site-packages/pymatgen/io/vasp/outputs.py:390: UnconvergedVASPWarning: /Users/yao/Google Drive/data/113/113-pbe-soc-hiroko/111MAPbBr3_0.01/vasprun.xml is an unconverged VASP run.\n",
      "Electronic convergence reached: True.\n",
      "Ionic convergence reached: False.\n",
      "  warnings.warn(msg, UnconvergedVASPWarning)\n"
     ]
    },
    {
     "name": "stdout",
     "output_type": "stream",
     "text": [
      "['111MAPbBr3_0.01',-0.1848,0.619549906086,0.8714],\n"
     ]
    },
    {
     "name": "stderr",
     "output_type": "stream",
     "text": [
      "//anaconda/lib/python3.5/site-packages/pymatgen/io/vasp/outputs.py:814: UserWarning: No POTCAR file with matching TITEL fields was found in /Users/yao/Google Drive/data/113/113-pbe-soc-hiroko/111MAPbCl3_0.01\n",
      "  \" was found in {}\".format(os.path.abspath(p)))\n",
      "//anaconda/lib/python3.5/site-packages/pymatgen/io/vasp/outputs.py:390: UnconvergedVASPWarning: /Users/yao/Google Drive/data/113/113-pbe-soc-hiroko/111MAPbCl3_0.01/vasprun.xml is an unconverged VASP run.\n",
      "Electronic convergence reached: True.\n",
      "Ionic convergence reached: False.\n",
      "  warnings.warn(msg, UnconvergedVASPWarning)\n"
     ]
    },
    {
     "name": "stdout",
     "output_type": "stream",
     "text": [
      "['111MAPbCl3_0.01',-0.0169,0.81879947408,1.4824],\n"
     ]
    }
   ],
   "source": [
    "folder = '/Users/yao/Google Drive/data/113/113-pbe-soc-hiroko'\n",
    "if __name__ == \"__main__\":\n",
    "\n",
    "\n",
    "    for compound in ['100MAPbI3', '111MAPbI3_0.01', '111MAPbI3_0.05', '111MAPbBr3_0.01', '111MAPbCl3_0.01']:              \n",
    "        try:\n",
    "            currentfolder = folder + '/' + compound \n",
    "            vr = Vasprun(os.path.join(currentfolder,'vasprun.xml'))\n",
    "            vbm = vr.eigenvalue_band_properties[2]\n",
    "            cbm = vr.eigenvalue_band_properties[1]\n",
    "            ebp = Branch_point_energy(vr, cb_sampling_num=2, vb_sampling_num=4)\n",
    "            bandgap = vr.eigenvalue_band_properties[0]\n",
    "            if bandgap == 0:\n",
    "                ebp_position = 1000\n",
    "            else:\n",
    "                ebp_position = (ebp-vbm)/bandgap\n",
    "            print('[\\''+ compound + '\\',' + str(vbm) + ',' + str(ebp) + ',' + str(cbm) +'],')\n",
    "                               \n",
    "        except:\n",
    "            print(compound)\n",
    "                    "
   ]
  },
  {
   "cell_type": "code",
   "execution_count": null,
   "metadata": {
    "collapsed": true
   },
   "outputs": [],
   "source": []
  }
 ],
 "metadata": {
  "anaconda-cloud": {},
  "kernelspec": {
   "display_name": "Python [conda root]",
   "language": "python",
   "name": "conda-root-py"
  },
  "language_info": {
   "codemirror_mode": {
    "name": "ipython",
    "version": 3
   },
   "file_extension": ".py",
   "mimetype": "text/x-python",
   "name": "python",
   "nbconvert_exporter": "python",
   "pygments_lexer": "ipython3",
   "version": "3.5.2"
  }
 },
 "nbformat": 4,
 "nbformat_minor": 1
}
