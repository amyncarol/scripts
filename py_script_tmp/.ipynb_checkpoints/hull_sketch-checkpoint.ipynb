{
 "metadata": {
  "name": "",
  "signature": "sha256:0677992f2372f982c7035e9d5aca622bd19ff4653d404316f1672fdee92f2645"
 },
 "nbformat": 3,
 "nbformat_minor": 0,
 "worksheets": [
  {
   "cells": [
    {
     "cell_type": "code",
     "collapsed": false,
     "input": [
      "import numpy as np\n",
      "import matplotlib.pyplot as plt\n",
      "import re\n",
      "from matplotlib import rc"
     ],
     "language": "python",
     "metadata": {},
     "outputs": [],
     "prompt_number": 22
    },
    {
     "cell_type": "code",
     "collapsed": false,
     "input": [
      "compounds = np.array(['CsI3','Cs2SnI6','CsSnI3','Sn'])\n",
      "composition = np.array([0, 1.0/3.0, 1.0/2.0, 1])    #(CsI3)(1-x)Snx\n",
      "Ef = np.array([-0.843, -0.925, -0.964, 0])\n"
     ],
     "language": "python",
     "metadata": {},
     "outputs": [],
     "prompt_number": 23
    },
    {
     "cell_type": "code",
     "collapsed": false,
     "input": [
      "fig, ax = plt.subplots()\n",
      "ax.plot(composition, Ef ,'-o', markersize = 10, linewidth = 2)\n",
      "\n",
      "\n",
      "plt.xticks(fontsize = 20)\n",
      "plt.yticks(fontsize = 20)\n",
      "ax.set_ylabel('Ef (eV/atom)', fontsize = 20)\n",
      "ax.set_xlabel('x in Snx(CsI3)(1-x)', fontsize = 20)\n",
      "\n",
      "plt.show()"
     ],
     "language": "python",
     "metadata": {},
     "outputs": [],
     "prompt_number": 25
    },
    {
     "cell_type": "code",
     "collapsed": false,
     "input": [],
     "language": "python",
     "metadata": {},
     "outputs": [],
     "prompt_number": 24
    }
   ],
   "metadata": {}
  }
 ]
}