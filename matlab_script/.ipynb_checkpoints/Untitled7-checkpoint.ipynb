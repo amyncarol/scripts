{
 "cells": [
  {
   "cell_type": "code",
   "execution_count": 24,
   "metadata": {
    "collapsed": false
   },
   "outputs": [
    {
     "name": "stdout",
     "output_type": "stream",
     "text": [
      "ans =\n",
      "\n",
      "   3.3766e-16\n",
      "\n",
      "\n",
      "ans =\n",
      "\n",
      "   1.6959e-15\n",
      "\n",
      "\n",
      "ans =\n",
      "\n",
      "   3.3588e-13\n",
      "\n",
      "\n",
      "ans =\n",
      "\n",
      "   1.6889e-11\n",
      "\n",
      "\n",
      "ans =\n",
      "\n",
      "   5.5883e-10\n",
      "\n",
      "\n",
      "ans =\n",
      "\n",
      "   1.6806e-08\n",
      "\n",
      "\n",
      "ans =\n",
      "\n",
      "   6.9408e-07\n",
      "\n",
      "\n",
      "ans =\n",
      "\n",
      "   7.8947e-06\n",
      "\n",
      "\n",
      "ans =\n",
      "\n",
      "   1.0472e-04\n",
      "\n",
      "\n",
      "ans =\n",
      "\n",
      "    0.0732\n",
      "\n",
      "\n",
      "ans =\n",
      "\n",
      "    0.5977\n",
      "\n",
      "\n",
      "ans =\n",
      "\n",
      "   11.9314\n",
      "\n",
      "\n",
      "ans =\n",
      "\n",
      "   1.0241e+03\n",
      "\n",
      "\n",
      "ans =\n",
      "\n",
      "   10.9550\n",
      "\n",
      "\n",
      "ans =\n",
      "\n",
      "   12.9912\n",
      "\n",
      "\n",
      "ans =\n",
      "\n",
      "   1.6375e+04\n",
      "\n",
      "\n",
      "ans =\n",
      "\n",
      "    8.7959\n",
      "\n",
      "\n",
      "ans =\n",
      "\n",
      "   62.5883\n",
      "\n",
      "\n",
      "ans =\n",
      "\n",
      "    7.4315\n",
      "\n",
      "\n",
      "ans =\n",
      "\n",
      "   17.1097\n"
     ]
    }
   ],
   "source": [
    "errors = zeros(20,1);\n",
    "for m = 5:5:100;\n",
    "    b = randn(m, 1);\n",
    "    A = zeros(m);\n",
    "    for i=1:m\n",
    "        A(i,i) = 1;\n",
    "        A(i, m) = 1;\n",
    "        for j = 1:(i-1)\n",
    "            A(i, j) = -1;\n",
    "        end\n",
    "    end\n",
    "    x = A\\b;\n",
    "    error(m/5,1) = norm(A*x - b)\n",
    "end"
   ]
  },
  {
   "cell_type": "code",
   "execution_count": 23,
   "metadata": {
    "collapsed": false
   },
   "outputs": [
    {
     "name": "stdout",
     "output_type": "stream",
     "text": [
      "ans =\n",
      "\n",
      "   1.1529e+18\n"
     ]
    }
   ],
   "source": []
  },
  {
   "cell_type": "code",
   "execution_count": null,
   "metadata": {
    "collapsed": true
   },
   "outputs": [],
   "source": []
  }
 ],
 "metadata": {
  "kernelspec": {
   "display_name": "Matlab",
   "language": "matlab",
   "name": "matlab"
  },
  "language_info": {
   "codemirror_mode": "octave",
   "file_extension": ".m",
   "help_links": [
    {
     "text": "MetaKernel Magics",
     "url": "https://github.com/calysto/metakernel/blob/master/metakernel/magics/README.md"
    }
   ],
   "mimetype": "text/x-octave",
   "name": "matlab",
   "version": "0.11.0"
  }
 },
 "nbformat": 4,
 "nbformat_minor": 1
}
