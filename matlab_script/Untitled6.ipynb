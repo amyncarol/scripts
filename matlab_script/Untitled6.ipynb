{
 "cells": [
  {
   "cell_type": "markdown",
   "metadata": {},
   "source": [
    "## 9-(a)"
   ]
  },
  {
   "cell_type": "code",
   "execution_count": 69,
   "metadata": {
    "collapsed": false
   },
   "outputs": [
    {
     "name": "stdout",
     "output_type": "stream",
     "text": [
      "errors =\n",
      "\n",
      "  Columns 1 through 3\n",
      "\n",
      "     2.000000000000001e+00     2.000000000000001e+00     2.386979502944087e-15\n",
      "     2.000000000000001e+00     2.000000000000001e+00     1.665334536937735e-15\n",
      "     2.000000000000002e+00     2.000000000000001e+00     2.331468351712829e-15\n",
      "     2.000000000000001e+00     2.000000000000001e+00     2.331468351712829e-15\n",
      "     2.000000000000002e+00     2.000000000000001e+00     2.442490654175344e-15\n",
      "\n",
      "  Column 4\n",
      "\n",
      "     5.854609426001311e-15\n",
      "     3.160622673580193e-15\n",
      "     3.417678295721082e-15\n",
      "     6.178572820922948e-15\n",
      "     2.897338895119574e-15\n",
      "\n",
      "\n",
      "ans =\n",
      "\n",
      "     6.214274414676049e-15\n",
      "\n",
      "\n",
      "ans =\n",
      "\n",
      "     3.259724342402205e-15\n"
     ]
    }
   ],
   "source": [
    "errors = zeros(5, 4);\n",
    "for n = 1:5\n",
    "    m = 50;\n",
    "    U = orth(randn(m, m));\n",
    "    V = orth(randn(m, m));\n",
    "    s = sort(rand(m,1), 'descend');\n",
    "    S = zeros(m);\n",
    "    for i = 1:m\n",
    "        S(i,i) = s(i);\n",
    "    end\n",
    "    A = U*S*V';\n",
    "    [U2, S2, V2] = svd(A);\n",
    "    errors(n, 1) = norm(U-U2);\n",
    "    errors(n, 2) = norm(V-V2);\n",
    "    errors(n, 3) = norm(S-S2);\n",
    "    errors(n, 4) = norm(A-U2*S2*V2');\n",
    "end\n",
    "format longE\n",
    "errors\n",
    "diag(U2'*U);\n",
    "diag(V2'*V);\n",
    "norm(diag(U2'*U)-diag(V2'*V))"
   ]
  },
  {
   "cell_type": "markdown",
   "metadata": {},
   "source": [
    "### It seems that the signs of U2 and V2 are chosen arbitrarily, so that $norm(U-U2)$ and $norm(V-V2)$ are very large, but after checking $diag(U2'*U)$ and $diag(V2'*V)$ we found that the signs of U2 and V2 are correlated. For S2, we don't have the sign ambigularity, since singular values are nonzero, so $norm(S-S2)$ is small. Since the signs of U2 and V2 are correlated, they cancelled each other such that we have small $norm(A-U2*S2*V2')$\n",
    "\n",
    "### Let's fix the signs of U2 and V2"
   ]
  },
  {
   "cell_type": "code",
   "execution_count": 66,
   "metadata": {
    "collapsed": false
   },
   "outputs": [
    {
     "name": "stdout",
     "output_type": "stream",
     "text": [
      "errors =\n",
      "\n",
      "  Columns 1 through 3\n",
      "\n",
      "     1.944436362598291e-13     1.951837101134172e-13     1.443289932012704e-15\n",
      "     8.732968057672219e-13     8.733279010211453e-13     4.107825191113079e-15\n",
      "     5.736225014205898e-13     5.730586928957308e-13     1.443289932012704e-15\n",
      "     3.928399104749196e-13     3.929378903999470e-13     2.109423746787797e-15\n",
      "     1.491584060291766e-13     1.492609417542243e-13     1.554312234475219e-15\n",
      "\n",
      "  Column 4\n",
      "\n",
      "     6.724907480149591e-15\n",
      "     4.241333250093707e-15\n",
      "     5.122460224971648e-15\n",
      "     3.214612256986335e-15\n",
      "     2.413432752422984e-15\n",
      "\n",
      "\n",
      "cond_numbers =\n",
      "\n",
      "     3.151657541104088e+01\n",
      "     3.652398997427328e+01\n",
      "     4.834088061349156e+01\n",
      "     2.095793567504788e+01\n",
      "     3.139503120604532e+02\n"
     ]
    }
   ],
   "source": [
    "errors = zeros(5, 4);\n",
    "cond_numbers = zeros(5, 1);\n",
    "for n = 1:5\n",
    "    m = 50;\n",
    "    U = orth(randn(m, m));\n",
    "    V = orth(randn(m, m));\n",
    "    s = sort(rand(m,1), 'descend');\n",
    "    S = zeros(m);\n",
    "    for i = 1:m\n",
    "        S(i,i) = s(i);\n",
    "    end\n",
    "    A = U*S*V';\n",
    "    cond_numbers(n) = cond(A);\n",
    "    [U2, S2, V2] = svd(A);\n",
    "    signs = diag(U2'*U);\n",
    "    for i = 1:m\n",
    "        if signs(i) < 0\n",
    "            U2(:,i) = 0 - U2(:,i);\n",
    "            V2(:,i) = 0 - V2(:,i);\n",
    "        end\n",
    "    end\n",
    "    errors(n, 1) = norm(U-U2);\n",
    "    errors(n, 2) = norm(V-V2);\n",
    "    errors(n, 3) = norm(S-S2);\n",
    "    errors(n, 4) = norm(A-U2*S2*V2');\n",
    "end\n",
    "format longE\n",
    "errors\n",
    "cond_numbers"
   ]
  },
  {
   "cell_type": "markdown",
   "metadata": {},
   "source": [
    "### It seems that $norm(U-U2)$ and $norm(V-V2)$ depend on the condition number of A, the larger $cond(A)$ is, the larger $norm(U-U2)$ and $norm(V-V2)$ are. But $norm(V-V2)$ and $norm(A-U2*S2*V2')$ don't depend on $cond(A)$"
   ]
  },
  {
   "cell_type": "code",
   "execution_count": 67,
   "metadata": {
    "collapsed": false
   },
   "outputs": [
    {
     "name": "stdout",
     "output_type": "stream",
     "text": [
      "errors =\n",
      "\n",
      "  Columns 1 through 3\n",
      "\n",
      "     2.465768671316751e-07     1.342453959964310e-08     1.110223024625157e-15\n",
      "     1.663008648852432e-08     1.042998142618445e-08     2.664535259100376e-15\n",
      "     1.231515308291518e-06     5.401549341258582e-07     8.881784197001252e-16\n",
      "     3.146793189290964e-09     1.912925903001869e-09     1.110223024625157e-15\n",
      "     1.390756911074411e-09     2.948231173322967e-10     1.887379141862766e-15\n",
      "\n",
      "  Column 4\n",
      "\n",
      "     4.034623307447689e-15\n",
      "     2.231789052077988e-15\n",
      "     2.862964276799755e-15\n",
      "     2.084386054617266e-15\n",
      "     2.561606437213501e-15\n",
      "\n",
      "\n",
      "cond_numbers =\n",
      "\n",
      "     4.497748327266938e+10\n",
      "     5.633960997588808e+10\n",
      "     5.346435581791537e+12\n",
      "     5.408709437411937e+07\n",
      "     1.081787297186402e+09\n"
     ]
    }
   ],
   "source": [
    "errors = zeros(5, 4);\n",
    "cond_numbers = zeros(5, 1);\n",
    "for n = 1:5\n",
    "    m = 50;\n",
    "    U = orth(randn(m, m));\n",
    "    V = orth(randn(m, m));\n",
    "    s = sort(rand(m,1), 'descend');\n",
    "    S = zeros(m);\n",
    "    for i = 1:m\n",
    "        S(i,i) = s(i)^6;\n",
    "    end\n",
    "    A = U*S*V';\n",
    "    cond_numbers(n) = cond(A);\n",
    "    [U2, S2, V2] = svd(A);\n",
    "    signs = diag(U2'*U);\n",
    "    for i = 1:m\n",
    "        if signs(i) < 0\n",
    "            U2(:,i) = 0 - U2(:,i);\n",
    "            V2(:,i) = 0 - V2(:,i);\n",
    "        end\n",
    "    end\n",
    "    errors(n, 1) = norm(U-U2);\n",
    "    errors(n, 2) = norm(V-V2);\n",
    "    errors(n, 3) = norm(S-S2);\n",
    "    errors(n, 4) = norm(A-U2*S2*V2');\n",
    "end\n",
    "format longE\n",
    "errors\n",
    "cond_numbers"
   ]
  },
  {
   "cell_type": "markdown",
   "metadata": {},
   "source": [
    "### If we increase the condition number of A, the accuracy of U2 and V2 decreases, but S2 still have very good accuracy.\n",
    "### For householder QR factoriztion, both the accuracies of Q and R depend on the condition number of A, but in SVD, only the accuracies of U and V depend on $cond(A)$, but not S."
   ]
  },
  {
   "cell_type": "code",
   "execution_count": null,
   "metadata": {
    "collapsed": false
   },
   "outputs": [],
   "source": []
  },
  {
   "cell_type": "code",
   "execution_count": null,
   "metadata": {
    "collapsed": true
   },
   "outputs": [],
   "source": []
  }
 ],
 "metadata": {
  "kernelspec": {
   "display_name": "Matlab",
   "language": "matlab",
   "name": "matlab"
  },
  "language_info": {
   "codemirror_mode": "octave",
   "file_extension": ".m",
   "help_links": [
    {
     "text": "MetaKernel Magics",
     "url": "https://github.com/calysto/metakernel/blob/master/metakernel/magics/README.md"
    }
   ],
   "mimetype": "text/x-octave",
   "name": "matlab",
   "version": "0.11.0"
  }
 },
 "nbformat": 4,
 "nbformat_minor": 1
}
