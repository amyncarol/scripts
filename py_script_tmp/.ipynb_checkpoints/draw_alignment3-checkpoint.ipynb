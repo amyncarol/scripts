{
 "metadata": {
  "name": "",
  "signature": "sha256:4e42a511ae5b4a4009ed84e87fc9e9a50b767193a07c68ea705f58f9704ac815"
 },
 "nbformat": 3,
 "nbformat_minor": 0,
 "worksheets": [
  {
   "cells": [
    {
     "cell_type": "code",
     "collapsed": false,
     "input": [
      "import numpy as np\n",
      "import matplotlib.pyplot as plt\n",
      "import re"
     ],
     "language": "python",
     "metadata": {},
     "outputs": []
    },
    {
     "cell_type": "code",
     "collapsed": false,
     "input": [
      "fig, ax = plt.subplots()\n",
      "data = []\n",
      "downlimit = -6\n",
      "uplimit = -3\n",
      "n_of_compounds = 3\n",
      "universal_bp = -4.5\n",
      "\n",
      "data.append([\"CsPbI3\", -5.37, -4.46, -3.4499999999999997])\n",
      "data.append([\"CsSnI3\", -4.2299999999999995, -4.359999999999999, -3.5699999999999994])\n",
      "data.append([\"CsGeI3\", -4.880000000000001, -4.53, -3.97])\n",
      "\n",
      "\n",
      "for i in np.arange(len(data)):\n",
      "    ax.broken_barh([(i, 1)] , (downlimit, data[i][1]-downlimit), facecolors='#95c4de')\n",
      "    ax.broken_barh([(i, 1)] , (data[i][3], uplimit-data[i][3]), facecolors='#95c4de')\n",
      "    ax.plot((i, i+1), (data[i][2], data[i][2]), 'r-', linewidth = 2)\n",
      "    ax.text(i+0.3, data[i][1]-0.5, data[i][0], fontdict=None, withdash=False)\n",
      "    \n",
      "line = plt.axhline(y=universal_bp, xmin=0, xmax=1, linewidth=2, color = 'k')\n",
      "line.set_dashes([6, 2])\n",
      "\n",
      "ax.set_ylim(downlimit,uplimit)\n",
      "ax.set_xlim(0, n_of_compounds)\n",
      "ax.set_ylabel('Energy(eV)')\n",
      "ax.set_xticks([])\n",
      "ax.set_yticks(np.arange(uplimit-downlimit+1)+downlimit)\n",
      "\n",
      "plt.show()"
     ],
     "language": "python",
     "metadata": {},
     "outputs": []
    }
   ],
   "metadata": {}
  }
 ]
}