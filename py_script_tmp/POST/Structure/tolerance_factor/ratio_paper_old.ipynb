{
 "cells": [
  {
   "cell_type": "code",
   "execution_count": 1,
   "metadata": {
    "collapsed": false
   },
   "outputs": [],
   "source": [
    "import re\n",
    "import matplotlib.pyplot as plt"
   ]
  },
  {
   "cell_type": "code",
   "execution_count": 2,
   "metadata": {
    "collapsed": false
   },
   "outputs": [],
   "source": [
    "data = []\n",
    "with open(\"/Users/yao/ratio_paper\",'r') as f:\n",
    "    string = f.readlines()\n",
    "    for line in string:\n",
    "        entry = re.split(\" \", line)\n",
    "        entry[3] = float(entry[3])\n",
    "        data.append(entry)"
   ]
  },
  {
   "cell_type": "code",
   "execution_count": 3,
   "metadata": {
    "collapsed": false
   },
   "outputs": [],
   "source": [
    "data2 = {}\n",
    "for entry in data:\n",
    "    if entry[1] == 'Sn' and entry[2] == 'I' or entry[1] == 'Ni' and entry[2] == 'Br' \\\n",
    "    or entry[1] == 'Pd' and entry[2] == 'I' or entry[1] == 'Pt' and entry[2] == 'I' \\\n",
    "    or entry[1] == 'Se' and entry[2] == 'I' or entry[1] == 'Te' and entry[2] == 'I':\n",
    "        if entry[1]+entry[2]+\"6\" in data2:\n",
    "            data2[entry[1]+entry[2]+\"6\"].append(entry[3])\n",
    "        else:\n",
    "            data2[entry[1]+entry[2]+\"6\"] = [entry[3]]"
   ]
  },
  {
   "cell_type": "code",
   "execution_count": 4,
   "metadata": {
    "collapsed": false
   },
   "outputs": [
    {
     "data": {
      "text/plain": [
       "{'NiBr6': [0.825781327672, 0.869877808369, 0.891045558273],\n",
       " 'PdI6': [0.778055158992, 0.828192263337, 0.869853984676],\n",
       " 'PtI6': [0.769807540518, 0.821019483633, 0.861232180583],\n",
       " 'SeI6': [0.75371776245, 0.805782606648, 0.847243812897],\n",
       " 'SnI6': [0.72351684402, 0.775979054175, 0.820564525726],\n",
       " 'TeI6': [0.718492677992, 0.76995862632, 0.808288632851]}"
      ]
     },
     "execution_count": 4,
     "metadata": {},
     "output_type": "execute_result"
    }
   ],
   "source": [
    "data2 "
   ]
  },
  {
   "cell_type": "code",
   "execution_count": 5,
   "metadata": {
    "collapsed": false
   },
   "outputs": [],
   "source": [
    "for key in data2:\n",
    "    plt.plot(data2[key],'-o')\n",
    "    plt.text(2.02, data2[key][2], \"A2\"+key)\n",
    "plt.xticks([0,1,2],['K','Rb','Cs']) \n",
    "plt.ylabel('radius ratio')\n",
    "plt.show()"
   ]
  },
  {
   "cell_type": "code",
   "execution_count": null,
   "metadata": {
    "collapsed": false
   },
   "outputs": [],
   "source": []
  },
  {
   "cell_type": "code",
   "execution_count": null,
   "metadata": {
    "collapsed": true
   },
   "outputs": [],
   "source": []
  }
 ],
 "metadata": {
  "kernelspec": {
   "display_name": "Python 2",
   "language": "python",
   "name": "python2"
  },
  "language_info": {
   "codemirror_mode": {
    "name": "ipython",
    "version": 2
   },
   "file_extension": ".py",
   "mimetype": "text/x-python",
   "name": "python",
   "nbconvert_exporter": "python",
   "pygments_lexer": "ipython2",
   "version": "2.7.9"
  }
 },
 "nbformat": 4,
 "nbformat_minor": 1
}
