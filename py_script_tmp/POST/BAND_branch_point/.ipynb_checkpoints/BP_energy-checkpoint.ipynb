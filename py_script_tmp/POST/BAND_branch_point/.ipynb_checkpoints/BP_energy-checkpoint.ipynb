{
 "cells": [
  {
   "cell_type": "code",
   "execution_count": 82,
   "metadata": {
    "collapsed": false
   },
   "outputs": [],
   "source": [
    "from pymatgen.io.vasp.outputs import Vasprun\n",
    "import numpy as np\n",
    "import os\n",
    "import glob\n",
    "from pymatgen.electronic_structure.core import Spin"
   ]
  },
  {
   "cell_type": "code",
   "execution_count": 83,
   "metadata": {
    "collapsed": true
   },
   "outputs": [],
   "source": [
    "def BZ_avg(eigenvalues, band_index,kpoints,kpoints_weights):\n",
    "    \"\"\"\n",
    "    :param eigenvalues: eigenvalues of all bands with the format of Vasprun.eigenvalues\n",
    "    :param band_index: the band index for averaging\n",
    "    :param kpoints: sampled k-points\n",
    "    :param kpoints_weights: the weights of sampled k-points\n",
    "    :return: the average of a particular band over k-points in the BZ\n",
    "    \"\"\"\n",
    "    energy_array = [ eigenvalues[Spin.up][k_point_index][band_index][0] for k_point_index in range(len(kpoints))]\n",
    "    return np.average(energy_array, weights=kpoints_weights)"
   ]
  },
  {
   "cell_type": "code",
   "execution_count": 84,
   "metadata": {
    "collapsed": true
   },
   "outputs": [],
   "source": [
    "def Branch_point_energy(vr, cb_sampling_num, vb_sampling_num):\n",
    "    \"\"\"\n",
    "    Calculate the Branch_point_energy with the formula proposed in:\n",
    "    APPLIED PHYSICS LETTERS 94, 012104 2009 ; doi: 10.1063/1.3059569\n",
    "\n",
    "    :param vr: Vasprun Object\n",
    "    :param cb_sampling_num: the number of cb for sampling. Default vb_sampling_num = 2* cb_sampling_num\n",
    "    :return:\n",
    "    \"\"\"\n",
    "    #vb_sampling_num = 2*cb_sampling_num\n",
    "    vbm_band_index = len(list(filter(lambda u:u[1]!=0, vr.eigenvalues[Spin.up][0])))-1\n",
    "\n",
    "    vb_sampling_indexes = [vbm_band_index-i for i in range(vb_sampling_num)]\n",
    "    cb_sampling_indexes = [vbm_band_index+i+1 for i in range(cb_sampling_num)]\n",
    "    \n",
    "\n",
    "    vb_avg = sum([BZ_avg(vr.eigenvalues,vb_index,vr.actual_kpoints,vr.actual_kpoints_weights)\n",
    "               for vb_index in vb_sampling_indexes])/len(vb_sampling_indexes)\n",
    "    cb_avg = sum([BZ_avg(vr.eigenvalues,cb_index,vr.actual_kpoints,vr.actual_kpoints_weights)\n",
    "               for cb_index in cb_sampling_indexes])/len(cb_sampling_indexes)\n",
    "    \n",
    "    return np.mean([vb_avg,cb_avg])"
   ]
  },
  {
   "cell_type": "code",
   "execution_count": 85,
   "metadata": {
    "collapsed": false
   },
   "outputs": [
    {
     "name": "stdout",
     "output_type": "stream",
     "text": [
      "['Cs1Sn1Cl3',2.3837,2.42943240741,3.0292],\n",
      "['Cs1Sn1Br3',1.9067,1.87545694444,2.1942],\n",
      "['Cs1Sn1I3',2.6444,2.66429305556,2.6996],\n",
      "['Cs1Pb1Cl3',1.0492,1.73095439815,2.1689],\n",
      "['Cs1Pb1Br3',0.6651,1.29334467593,1.3721],\n",
      "['Cs1Pb1I3',1.5051,2.13692268519,1.8468],\n"
     ]
    }
   ],
   "source": [
    "folder = '/Users/yao/Google Drive/data/113/113-pbe-soc/'\n",
    "if __name__ == \"__main__\":\n",
    "\n",
    "    Aele_Screen=['Cs']\n",
    "    Bele_Screen=['Sn','Pb'];\n",
    "    Cele_Screen=['Cl','Br','I']\n",
    "    results = open(folder+'results_bp','w')    \n",
    "    fail = open(folder+'fail.log','w')\n",
    "    for i in range(len(Aele_Screen)):\n",
    "        for j in range(len(Bele_Screen)):\n",
    "            for k in range(len(Cele_Screen)):\n",
    "                currentfolder=folder+Aele_Screen[i]+'1'+Bele_Screen[j]+'1'+Cele_Screen[k]+'3'\n",
    "                compound = Aele_Screen[i]+'1'+Bele_Screen[j]+'1'+Cele_Screen[k]+'3'\n",
    "                try:\n",
    "                    vr = Vasprun(os.path.join(currentfolder,'vasprun.xml'))\n",
    "                    vbm = vr.eigenvalue_band_properties[2]\n",
    "                    cbm = vr.eigenvalue_band_properties[1]\n",
    "                    ebp = Branch_point_energy(vr, cb_sampling_num=2, vb_sampling_num=4)\n",
    "                    bandgap = vr.eigenvalue_band_properties[0]\n",
    "                    if bandgap == 0:\n",
    "                        ebp_position = 1000\n",
    "                    else:\n",
    "                        ebp_position = (ebp-vbm)/bandgap\n",
    "                    print('[\\''+ compound + '\\',' + str(vbm) + ',' + str(ebp) + ',' + str(cbm) +'],')\n",
    "                    \n",
    "\n",
    "                \n",
    "                    results.write(Aele_Screen[i]+' '+Bele_Screen[j]+' '+Cele_Screen[k]+' '+ebp_position+'\\n')\n",
    "                except:\n",
    "                    fail.write(currentfolder+'\\n')"
   ]
  },
  {
   "cell_type": "code",
   "execution_count": null,
   "metadata": {
    "collapsed": true
   },
   "outputs": [],
   "source": []
  }
 ],
 "metadata": {
  "anaconda-cloud": {},
  "kernelspec": {
   "display_name": "Python [conda root]",
   "language": "python",
   "name": "conda-root-py"
  },
  "language_info": {
   "codemirror_mode": {
    "name": "ipython",
    "version": 3
   },
   "file_extension": ".py",
   "mimetype": "text/x-python",
   "name": "python",
   "nbconvert_exporter": "python",
   "pygments_lexer": "ipython3",
   "version": "3.5.2"
  }
 },
 "nbformat": 4,
 "nbformat_minor": 1
}
