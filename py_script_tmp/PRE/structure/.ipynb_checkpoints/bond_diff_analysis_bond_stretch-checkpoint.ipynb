{
 "cells": [
  {
   "cell_type": "code",
   "execution_count": 887,
   "metadata": {
    "collapsed": false
   },
   "outputs": [],
   "source": [
    "from pymatgen import core\n",
    "from pymatgen.core import sites\n",
    "from pymatgen.symmetry import analyzer\n",
    "from pymatgen.symmetry.analyzer import SpacegroupAnalyzer\n",
    "from pymatgen.io.smartio import read_structure, write_structure\n",
    "from pymatgen.io import vaspio_set\n",
    "import os\n",
    "import shutil\n",
    "import copy\n",
    "import numpy as np\n"
   ]
  },
  {
   "cell_type": "code",
   "execution_count": 834,
   "metadata": {
    "collapsed": false
   },
   "outputs": [],
   "source": [
    "s1 = read_structure(\"POSCAR-1.vasp\")"
   ]
  },
  {
   "cell_type": "code",
   "execution_count": 835,
   "metadata": {
    "collapsed": false
   },
   "outputs": [
    {
     "data": {
      "text/plain": [
       "Structure Summary\n",
       "Lattice\n",
       "    abc : 5.7235764553842321 5.8904898364380323 8.216099391271543\n",
       " angles : 90.0 90.0 90.0\n",
       " volume : 277.00307094266981\n",
       "      A : 5.7235764553842321 0.0 0.0\n",
       "      B : 0.0 5.8904898364380323 0.0\n",
       "      C : 0.0 0.0 8.216099391271543\n",
       "PeriodicSite: Sr (5.7015, 0.1786, 2.0540) [0.9961, 0.0303, 0.2500]\n",
       "PeriodicSite: Sr (2.8839, 3.1238, 2.0540) [0.5039, 0.5303, 0.2500]\n",
       "PeriodicSite: Sr (2.8397, 2.7666, 6.1621) [0.4961, 0.4697, 0.7500]\n",
       "PeriodicSite: Sr (0.0221, 5.7119, 6.1621) [0.0039, 0.9697, 0.7500]\n",
       "PeriodicSite: Nb (2.8618, 0.0001, 4.1077) [0.5000, 0.0000, 0.5000]\n",
       "PeriodicSite: Nb (-0.0000, 2.9452, -0.0003) [-0.0000, 0.5000, -0.0000]\n",
       "PeriodicSite: Nb (-0.0000, 2.9452, 4.1084) [-0.0000, 0.5000, 0.5000]\n",
       "PeriodicSite: Nb (2.8618, 0.0001, 0.0003) [0.5000, 0.0000, 0.0000]\n",
       "PeriodicSite: O (1.6352, 4.2253, 4.3203) [0.2857, 0.7173, 0.5258]\n",
       "PeriodicSite: O (1.2266, 1.2800, 8.0038) [0.2143, 0.2173, 0.9742]\n",
       "PeriodicSite: O (4.4970, 4.6105, 3.8958) [0.7857, 0.7827, 0.4742]\n",
       "PeriodicSite: O (4.0884, 1.6652, 0.2123) [0.7143, 0.2827, 0.0258]\n",
       "PeriodicSite: O (4.0884, 1.6652, 3.8957) [0.7143, 0.2827, 0.4742]\n",
       "PeriodicSite: O (4.4970, 4.6105, 0.2123) [0.7857, 0.7827, 0.0258]\n",
       "PeriodicSite: O (1.2266, 1.2800, 4.3203) [0.2143, 0.2173, 0.5258]\n",
       "PeriodicSite: O (1.6352, 4.2253, 8.0038) [0.2857, 0.7173, 0.9742]\n",
       "PeriodicSite: O (5.4383, 3.0099, 6.1621) [0.9502, 0.5110, 0.7500]\n",
       "PeriodicSite: O (3.1471, 0.0646, 6.1621) [0.5498, 0.0110, 0.7500]\n",
       "PeriodicSite: O (2.5765, 5.8259, 2.0540) [0.4502, 0.9890, 0.2500]\n",
       "PeriodicSite: O (0.2853, 2.8806, 2.0540) [0.0498, 0.4890, 0.2500]"
      ]
     },
     "execution_count": 835,
     "metadata": {},
     "output_type": "execute_result"
    }
   ],
   "source": [
    "s1"
   ]
  },
  {
   "cell_type": "code",
   "execution_count": 836,
   "metadata": {
    "collapsed": false
   },
   "outputs": [],
   "source": [
    "s2 = read_structure(\"POSCAR-2.vasp\")"
   ]
  },
  {
   "cell_type": "code",
   "execution_count": 837,
   "metadata": {
    "collapsed": false
   },
   "outputs": [
    {
     "data": {
      "text/plain": [
       "Structure Summary\n",
       "Lattice\n",
       "    abc : 5.7235764553842321 5.8904898364380323 8.216099391271543\n",
       " angles : 90.0 90.0 90.0\n",
       " volume : 277.00307094266981\n",
       "      A : 5.7235764553842321 0.0 0.0\n",
       "      B : 0.0 5.8904898364380323 0.0\n",
       "      C : 0.0 0.0 8.216099391271543\n",
       "PeriodicSite: Sr (5.6724, 0.2167, 2.0506) [0.9911, 0.0368, 0.2496]\n",
       "PeriodicSite: Sr (2.9130, 3.1620, 2.0575) [0.5089, 0.5368, 0.2504]\n",
       "PeriodicSite: Sr (2.8106, 2.7285, 6.1586) [0.4911, 0.4632, 0.7496]\n",
       "PeriodicSite: Sr (0.0512, 5.6738, 6.1655) [0.0089, 0.9632, 0.7504]\n",
       "PeriodicSite: Nb (2.8618, 5.8905, 4.1080) [0.5000, 1.0000, 0.5000]\n",
       "PeriodicSite: Nb (5.7236, 2.9452, 8.2161) [1.0000, 0.5000, 1.0000]\n",
       "PeriodicSite: Nb (5.7236, 2.9453, 4.1081) [1.0000, 0.5000, 0.5000]\n",
       "PeriodicSite: Nb (2.8618, 5.8905, 0.0000) [0.5000, 1.0000, 0.0000]\n",
       "PeriodicSite: O (1.6564, 4.2049, 4.4154) [0.2894, 0.7138, 0.5374]\n",
       "PeriodicSite: O (1.2054, 1.2596, 7.9088) [0.2106, 0.2138, 0.9626]\n",
       "PeriodicSite: O (4.5531, 4.5790, 3.7980) [0.7955, 0.7774, 0.4623]\n",
       "PeriodicSite: O (4.0323, 1.6338, 0.3101) [0.7045, 0.2774, 0.0377]\n",
       "PeriodicSite: O (4.0672, 1.6856, 3.8007) [0.7106, 0.2862, 0.4626]\n",
       "PeriodicSite: O (4.5182, 4.6309, 0.3073) [0.7894, 0.7862, 0.0374]\n",
       "PeriodicSite: O (1.1705, 1.3115, 4.4181) [0.2045, 0.2226, 0.5377]\n",
       "PeriodicSite: O (1.6913, 4.2567, 7.9060) [0.2955, 0.7226, 0.9623]\n",
       "PeriodicSite: O (5.3224, 3.0560, 6.1579) [0.9299, 0.5188, 0.7495]\n",
       "PeriodicSite: O (3.2629, 0.1108, 6.1662) [0.5701, 0.0188, 0.7505]\n",
       "PeriodicSite: O (2.4607, 5.7797, 2.0499) [0.4299, 0.9812, 0.2495]\n",
       "PeriodicSite: O (0.4011, 2.8345, 2.0582) [0.0701, 0.4812, 0.2505]"
      ]
     },
     "execution_count": 837,
     "metadata": {},
     "output_type": "execute_result"
    }
   ],
   "source": [
    "s2"
   ]
  },
  {
   "cell_type": "markdown",
   "metadata": {},
   "source": [
    "# analyse the diff between 2 structures."
   ]
  },
  {
   "cell_type": "code",
   "execution_count": 838,
   "metadata": {
    "collapsed": false
   },
   "outputs": [],
   "source": [
    "s2_sites = s2.sites"
   ]
  },
  {
   "cell_type": "code",
   "execution_count": 839,
   "metadata": {
    "collapsed": false
   },
   "outputs": [],
   "source": [
    "s2distance = [];\n",
    "for i in range(4,8):\n",
    "    s2distance += s2.get_neighbors(s2_sites[i], 2.5)\n",
    "    "
   ]
  },
  {
   "cell_type": "code",
   "execution_count": 840,
   "metadata": {
    "collapsed": false
   },
   "outputs": [
    {
     "data": {
      "text/plain": [
       "24"
      ]
     },
     "execution_count": 840,
     "metadata": {},
     "output_type": "execute_result"
    }
   ],
   "source": [
    "len(s2distance)"
   ]
  },
  {
   "cell_type": "code",
   "execution_count": 841,
   "metadata": {
    "collapsed": false
   },
   "outputs": [],
   "source": [
    "s1_sites = s1.sites"
   ]
  },
  {
   "cell_type": "code",
   "execution_count": 842,
   "metadata": {
    "collapsed": false
   },
   "outputs": [],
   "source": [
    "s1distance = []\n",
    "for i in range(4,8):\n",
    "    s1distance += s1.get_neighbors(s1_sites[i], 2.5)"
   ]
  },
  {
   "cell_type": "code",
   "execution_count": 843,
   "metadata": {
    "collapsed": false
   },
   "outputs": [
    {
     "data": {
      "text/plain": [
       "24"
      ]
     },
     "execution_count": 843,
     "metadata": {},
     "output_type": "execute_result"
    }
   ],
   "source": [
    "len(s1distance)"
   ]
  },
  {
   "cell_type": "code",
   "execution_count": 844,
   "metadata": {
    "collapsed": false
   },
   "outputs": [
    {
     "data": {
      "text/plain": [
       "2.0874636294167996"
      ]
     },
     "execution_count": 844,
     "metadata": {},
     "output_type": "execute_result"
    }
   ],
   "source": [
    "s1distance[1][1]"
   ]
  },
  {
   "cell_type": "code",
   "execution_count": 845,
   "metadata": {
    "collapsed": false
   },
   "outputs": [],
   "source": [
    "diff = []\n",
    "for i in range(0, 24):\n",
    "    diff.append(s2distance[i][1]-s1distance[i][1])"
   ]
  },
  {
   "cell_type": "code",
   "execution_count": 846,
   "metadata": {
    "collapsed": false
   },
   "outputs": [
    {
     "data": {
      "text/plain": [
       "[0.015759926443010386,\n",
       " 0.075094800192145872,\n",
       " 0.0159016264143923,\n",
       " 0.075138912863741414,\n",
       " 0.024740481200071773,\n",
       " 0.025397260994670656,\n",
       " 0.015901626414400738,\n",
       " 0.07513891286373342,\n",
       " 0.015759926443007277,\n",
       " 0.07509480019214676,\n",
       " 0.0253972609946711,\n",
       " 0.024740481200071773,\n",
       " 0.016070111869740611,\n",
       " -0.045595023815631741,\n",
       " 0.016122916397680154,\n",
       " -0.045440946911988078,\n",
       " 0.017273797904679533,\n",
       " 0.016611914650835669,\n",
       " 0.016122916397685927,\n",
       " -0.045440946911995628,\n",
       " 0.016070111869741055,\n",
       " -0.045595023815629521,\n",
       " 0.016611914650838777,\n",
       " 0.017273797904679533]"
      ]
     },
     "execution_count": 846,
     "metadata": {},
     "output_type": "execute_result"
    }
   ],
   "source": [
    "diff"
   ]
  },
  {
   "cell_type": "code",
   "execution_count": 847,
   "metadata": {
    "collapsed": false
   },
   "outputs": [
    {
     "data": {
      "text/plain": [
       "24"
      ]
     },
     "execution_count": 847,
     "metadata": {},
     "output_type": "execute_result"
    }
   ],
   "source": [
    "len(diff)"
   ]
  },
  {
   "cell_type": "code",
   "execution_count": 848,
   "metadata": {
    "collapsed": false
   },
   "outputs": [],
   "source": [
    "diff2 = []\n",
    "for i in range(0, 24):\n",
    "    if (diff[i] < 0.03 and diff[i] > -0.03):\n",
    "        diff2.append(0)\n",
    "    else:\n",
    "        diff2.append(diff[i])"
   ]
  },
  {
   "cell_type": "code",
   "execution_count": 849,
   "metadata": {
    "collapsed": false
   },
   "outputs": [
    {
     "data": {
      "text/plain": [
       "[0,\n",
       " 0.075094800192145872,\n",
       " 0,\n",
       " 0.075138912863741414,\n",
       " 0,\n",
       " 0,\n",
       " 0,\n",
       " 0.07513891286373342,\n",
       " 0,\n",
       " 0.07509480019214676,\n",
       " 0,\n",
       " 0,\n",
       " 0,\n",
       " -0.045595023815631741,\n",
       " 0,\n",
       " -0.045440946911988078,\n",
       " 0,\n",
       " 0,\n",
       " 0,\n",
       " -0.045440946911995628,\n",
       " 0,\n",
       " -0.045595023815629521,\n",
       " 0,\n",
       " 0]"
      ]
     },
     "execution_count": 849,
     "metadata": {},
     "output_type": "execute_result"
    }
   ],
   "source": [
    "diff2"
   ]
  },
  {
   "cell_type": "markdown",
   "metadata": {},
   "source": [
    "# move the oxygen a little, based on s1"
   ]
  },
  {
   "cell_type": "code",
   "execution_count": 849,
   "metadata": {
    "collapsed": false
   },
   "outputs": [],
   "source": []
  },
  {
   "cell_type": "code",
   "execution_count": 850,
   "metadata": {
    "collapsed": false
   },
   "outputs": [],
   "source": [
    "neig = s1.get_all_neighbors(2.5)\n",
    "    \n",
    "    \n",
    "    "
   ]
  },
  {
   "cell_type": "code",
   "execution_count": 850,
   "metadata": {
    "collapsed": false
   },
   "outputs": [],
   "source": []
  },
  {
   "cell_type": "code",
   "execution_count": 851,
   "metadata": {
    "collapsed": false
   },
   "outputs": [
    {
     "name": "stdout",
     "output_type": "stream",
     "text": [
      "[(PeriodicSite: Nb (-0.0000, 2.9452, 4.1084) [-0.0000, 0.5000, 0.5000], 2.0874398061095794), (PeriodicSite: Nb (2.8618, 5.8906, 4.1077) [0.5000, 1.0000, 0.5000], 2.0791651402021549)]\n",
      "[(PeriodicSite: Nb (-0.0000, 2.9452, 8.2158) [-0.0000, 0.5000, 1.0000], 2.0790344939452452), (PeriodicSite: Nb (2.8618, 0.0001, 8.2164) [0.5000, 0.0000, 1.0000], 2.0873869125677729)]\n",
      "[(PeriodicSite: Nb (5.7236, 2.9452, 4.1084) [1.0000, 0.5000, 0.5000], 2.079141226187569), (PeriodicSite: Nb (2.8618, 5.8906, 4.1077) [0.5000, 1.0000, 0.5000], 2.0874636294168001)]\n",
      "[(PeriodicSite: Nb (5.7236, 2.9452, -0.0003) [1.0000, 0.5000, -0.0000], 2.0874154652953854), (PeriodicSite: Nb (2.8618, 0.0001, 0.0003) [0.5000, 0.0000, 0.0000], 2.0790097131957657)]\n",
      "[(PeriodicSite: Nb (2.8618, 0.0001, 4.1077) [0.5000, 0.0000, 0.5000], 2.0790344939452527), (PeriodicSite: Nb (5.7236, 2.9452, 4.1084) [1.0000, 0.5000, 0.5000], 2.0873869125677795)]\n",
      "[(PeriodicSite: Nb (5.7236, 2.9452, -0.0003) [1.0000, 0.5000, -0.0000], 2.0791651402021567), (PeriodicSite: Nb (2.8618, 5.8906, 0.0003) [0.5000, 1.0000, 0.0000], 2.0874398061095789)]\n",
      "[(PeriodicSite: Nb (-0.0000, 2.9452, 4.1084) [-0.0000, 0.5000, 0.5000], 2.0790097131957581), (PeriodicSite: Nb (2.8618, 0.0001, 4.1077) [0.5000, 0.0000, 0.5000], 2.0874154652953782)]\n",
      "[(PeriodicSite: Nb (-0.0000, 2.9452, 8.2158) [-0.0000, 0.5000, 1.0000], 2.0874636294167996), (PeriodicSite: Nb (2.8618, 5.8906, 8.2164) [0.5000, 1.0000, 1.0000], 2.0791412261875664)]\n"
     ]
    }
   ],
   "source": [
    "for i in range(8,16):\n",
    "    print neig[i]\n",
    "    "
   ]
  },
  {
   "cell_type": "code",
   "execution_count": 851,
   "metadata": {
    "collapsed": false
   },
   "outputs": [],
   "source": [
    "\n",
    "        "
   ]
  },
  {
   "cell_type": "code",
   "execution_count": 851,
   "metadata": {
    "collapsed": false
   },
   "outputs": [],
   "source": [
    "\n"
   ]
  },
  {
   "cell_type": "code",
   "execution_count": 852,
   "metadata": {
    "collapsed": false
   },
   "outputs": [
    {
     "data": {
      "text/plain": [
       "PeriodicSite: Nb (-0.0000, 2.9452, 4.1084) [-0.0000, 0.5000, 0.5000]"
      ]
     },
     "execution_count": 852,
     "metadata": {},
     "output_type": "execute_result"
    }
   ],
   "source": [
    "neig[8][0][0]"
   ]
  },
  {
   "cell_type": "code",
   "execution_count": 853,
   "metadata": {
    "collapsed": false
   },
   "outputs": [
    {
     "data": {
      "text/plain": [
       "array([ -2.35705438e-05,   2.94518464e+00,   4.10838360e+00])"
      ]
     },
     "execution_count": 853,
     "metadata": {},
     "output_type": "execute_result"
    }
   ],
   "source": [
    "neig[8][0][0].coords"
   ]
  },
  {
   "cell_type": "code",
   "execution_count": 854,
   "metadata": {
    "collapsed": false
   },
   "outputs": [],
   "source": [
    "array1 = s2_sites[8].coords"
   ]
  },
  {
   "cell_type": "code",
   "execution_count": 855,
   "metadata": {
    "collapsed": false
   },
   "outputs": [
    {
     "data": {
      "text/plain": [
       "array([ 1.6563898 ,  4.20487786,  4.41538846])"
      ]
     },
     "execution_count": 855,
     "metadata": {},
     "output_type": "execute_result"
    }
   ],
   "source": [
    "array1"
   ]
  },
  {
   "cell_type": "raw",
   "metadata": {},
   "source": [
    "dtype(array1)"
   ]
  },
  {
   "cell_type": "code",
   "execution_count": 856,
   "metadata": {
    "collapsed": false
   },
   "outputs": [],
   "source": [
    "array1 = np.array([ 0 ,  4.20487786,  4.41538846])"
   ]
  },
  {
   "cell_type": "code",
   "execution_count": 857,
   "metadata": {
    "collapsed": false
   },
   "outputs": [
    {
     "data": {
      "text/plain": [
       "array([ 0.        ,  4.20487786,  4.41538846])"
      ]
     },
     "execution_count": 857,
     "metadata": {},
     "output_type": "execute_result"
    }
   ],
   "source": [
    "array1"
   ]
  },
  {
   "cell_type": "code",
   "execution_count": 858,
   "metadata": {
    "collapsed": false
   },
   "outputs": [
    {
     "data": {
      "text/plain": [
       "array([ 1.6563898 ,  4.20487786,  4.41538846])"
      ]
     },
     "execution_count": 858,
     "metadata": {},
     "output_type": "execute_result"
    }
   ],
   "source": [
    "s2_sites[8].coords "
   ]
  },
  {
   "cell_type": "code",
   "execution_count": 859,
   "metadata": {
    "collapsed": false
   },
   "outputs": [
    {
     "data": {
      "text/plain": [
       "Structure Summary\n",
       "Lattice\n",
       "    abc : 5.7235764553842321 5.8904898364380323 8.216099391271543\n",
       " angles : 90.0 90.0 90.0\n",
       " volume : 277.00307094266981\n",
       "      A : 5.7235764553842321 0.0 0.0\n",
       "      B : 0.0 5.8904898364380323 0.0\n",
       "      C : 0.0 0.0 8.216099391271543\n",
       "PeriodicSite: Sr (5.6724, 0.2167, 2.0506) [0.9911, 0.0368, 0.2496]\n",
       "PeriodicSite: Sr (2.9130, 3.1620, 2.0575) [0.5089, 0.5368, 0.2504]\n",
       "PeriodicSite: Sr (2.8106, 2.7285, 6.1586) [0.4911, 0.4632, 0.7496]\n",
       "PeriodicSite: Sr (0.0512, 5.6738, 6.1655) [0.0089, 0.9632, 0.7504]\n",
       "PeriodicSite: Nb (2.8618, 5.8905, 4.1080) [0.5000, 1.0000, 0.5000]\n",
       "PeriodicSite: Nb (5.7236, 2.9452, 8.2161) [1.0000, 0.5000, 1.0000]\n",
       "PeriodicSite: Nb (5.7236, 2.9453, 4.1081) [1.0000, 0.5000, 0.5000]\n",
       "PeriodicSite: Nb (2.8618, 5.8905, 0.0000) [0.5000, 1.0000, 0.0000]\n",
       "PeriodicSite: O (1.6564, 4.2049, 4.4154) [0.2894, 0.7138, 0.5374]\n",
       "PeriodicSite: O (1.2054, 1.2596, 7.9088) [0.2106, 0.2138, 0.9626]\n",
       "PeriodicSite: O (4.5531, 4.5790, 3.7980) [0.7955, 0.7774, 0.4623]\n",
       "PeriodicSite: O (4.0323, 1.6338, 0.3101) [0.7045, 0.2774, 0.0377]\n",
       "PeriodicSite: O (4.0672, 1.6856, 3.8007) [0.7106, 0.2862, 0.4626]\n",
       "PeriodicSite: O (4.5182, 4.6309, 0.3073) [0.7894, 0.7862, 0.0374]\n",
       "PeriodicSite: O (1.1705, 1.3115, 4.4181) [0.2045, 0.2226, 0.5377]\n",
       "PeriodicSite: O (1.6913, 4.2567, 7.9060) [0.2955, 0.7226, 0.9623]\n",
       "PeriodicSite: O (5.3224, 3.0560, 6.1579) [0.9299, 0.5188, 0.7495]\n",
       "PeriodicSite: O (3.2629, 0.1108, 6.1662) [0.5701, 0.0188, 0.7505]\n",
       "PeriodicSite: O (2.4607, 5.7797, 2.0499) [0.4299, 0.9812, 0.2495]\n",
       "PeriodicSite: O (0.4011, 2.8345, 2.0582) [0.0701, 0.4812, 0.2505]"
      ]
     },
     "execution_count": 859,
     "metadata": {},
     "output_type": "execute_result"
    }
   ],
   "source": [
    "s2"
   ]
  },
  {
   "cell_type": "code",
   "execution_count": 883,
   "metadata": {
    "collapsed": false
   },
   "outputs": [],
   "source": []
  },
  {
   "cell_type": "code",
   "execution_count": 861,
   "metadata": {
    "collapsed": false
   },
   "outputs": [],
   "source": [
    "#for i in [13, 12, 9]:\n",
    " #   s2_new.__delitem__(i)"
   ]
  },
  {
   "cell_type": "code",
   "execution_count": 861,
   "metadata": {
    "collapsed": false
   },
   "outputs": [],
   "source": []
  },
  {
   "cell_type": "code",
   "execution_count": 862,
   "metadata": {
    "collapsed": false
   },
   "outputs": [],
   "source": [
    "trans_O_Nb = []\n",
    "for i in range(0,20):   \n",
    "    if (i>=8 and i<=16):\n",
    "        O = s1.sites[i]\n",
    "        for j in [0,1]:\n",
    "            if (abs(neig[i][j][1]-2.087) < 0.005):\n",
    "                Nb = neig[i][j][0]\n",
    "        O_p = O.coords\n",
    "        Nb_p = Nb.coords\n",
    "        trans_O_Nb.append(Nb_p-O_p)\n",
    "    else:\n",
    "        trans_O_Nb.append(Nb_p)"
   ]
  },
  {
   "cell_type": "code",
   "execution_count": 862,
   "metadata": {
    "collapsed": false
   },
   "outputs": [],
   "source": []
  },
  {
   "cell_type": "code",
   "execution_count": 863,
   "metadata": {
    "collapsed": false
   },
   "outputs": [],
   "source": [
    "def my_range(start, end, step):\n",
    "\twhile start <= end:\n",
    "\t\tyield start\n",
    "\t\tstart += step"
   ]
  },
  {
   "cell_type": "code",
   "execution_count": 891,
   "metadata": {
    "collapsed": false
   },
   "outputs": [],
   "source": [
    "for j in my_range(-0.05,0.05,0.005):\n",
    "    s1_new = copy.deepcopy(s1)\n",
    "    for i in range(8,16):\n",
    "        s1_new.translate_sites(i, trans_O_Nb[i]*j, frac_coords=False)\n",
    "    currentFolder = \"SNO_Pbnm_\" + \"{:5.3f}\".format(j)\n",
    "    if os.path.exists(currentFolder) :\n",
    "        shutil.rmtree(currentFolder)\n",
    "    os.mkdir(currentFolder)\n",
    "    write_structure(s1_new,\"POSCAR\")\n",
    "    shutil.copy(\"POSCAR\", currentFolder + \"/POSCAR\")\n",
    "    shutil.copy(\"INCAR\", currentFolder + \"/INCAR\")\n",
    "    shutil.copy(\"KPOINTS\", currentFolder + \"/KPOINTS\")\n",
    "    shutil.copy(\"POTCAR\", currentFolder + \"/POTCAR\")"
   ]
  },
  {
   "cell_type": "code",
   "execution_count": 865,
   "metadata": {
    "collapsed": false
   },
   "outputs": [
    {
     "data": {
      "text/plain": [
       "Structure Summary\n",
       "Lattice\n",
       "    abc : 5.7235764553842321 5.8904898364380323 8.216099391271543\n",
       " angles : 90.0 90.0 90.0\n",
       " volume : 277.00307094266981\n",
       "      A : 5.7235764553842321 0.0 0.0\n",
       "      B : 0.0 5.8904898364380323 0.0\n",
       "      C : 0.0 0.0 8.216099391271543\n",
       "PeriodicSite: Sr (5.7015, 0.1786, 2.0540) [0.9961, 0.0303, 0.2500]\n",
       "PeriodicSite: Sr (2.8839, 3.1238, 2.0540) [0.5039, 0.5303, 0.2500]\n",
       "PeriodicSite: Sr (2.8397, 2.7666, 6.1621) [0.4961, 0.4697, 0.7500]\n",
       "PeriodicSite: Sr (0.0221, 5.7119, 6.1621) [0.0039, 0.9697, 0.7500]\n",
       "PeriodicSite: Nb (2.8618, 0.0001, 4.1077) [0.5000, 0.0000, 0.5000]\n",
       "PeriodicSite: Nb (-0.0000, 2.9452, -0.0003) [-0.0000, 0.5000, -0.0000]\n",
       "PeriodicSite: Nb (-0.0000, 2.9452, 4.1084) [-0.0000, 0.5000, 0.5000]\n",
       "PeriodicSite: Nb (2.8618, 0.0001, 0.0003) [0.5000, 0.0000, 0.0000]\n",
       "PeriodicSite: O (1.5534, 4.1613, 4.3097) [0.2714, 0.7064, 0.5245]\n",
       "PeriodicSite: O (1.3084, 1.2160, 8.0144) [0.2286, 0.2064, 0.9755]\n",
       "PeriodicSite: O (4.4152, 4.6745, 3.9064) [0.7714, 0.7936, 0.4755]\n",
       "PeriodicSite: O (4.1701, 1.7292, 0.2017) [0.7286, 0.2936, 0.0245]\n",
       "PeriodicSite: O (4.1702, 1.7292, 3.9064) [0.7286, 0.2936, 0.4755]\n",
       "PeriodicSite: O (4.4152, 4.6745, 0.2017) [0.7714, 0.7936, 0.0245]\n",
       "PeriodicSite: O (1.3084, 1.2160, 4.3097) [0.2286, 0.2064, 0.5245]\n",
       "PeriodicSite: O (1.5534, 4.1613, 8.0144) [0.2714, 0.7064, 0.9755]\n",
       "PeriodicSite: O (5.4383, 3.0099, 6.1621) [0.9502, 0.5110, 0.7500]\n",
       "PeriodicSite: O (3.1471, 0.0646, 6.1621) [0.5498, 0.0110, 0.7500]\n",
       "PeriodicSite: O (2.5765, 5.8259, 2.0540) [0.4502, 0.9890, 0.2500]\n",
       "PeriodicSite: O (0.2853, 2.8806, 2.0540) [0.0498, 0.4890, 0.2500]"
      ]
     },
     "execution_count": 865,
     "metadata": {},
     "output_type": "execute_result"
    }
   ],
   "source": [
    "s1_new"
   ]
  },
  {
   "cell_type": "code",
   "execution_count": 866,
   "metadata": {
    "collapsed": false
   },
   "outputs": [],
   "source": []
  },
  {
   "cell_type": "code",
   "execution_count": 867,
   "metadata": {
    "collapsed": false
   },
   "outputs": [
    {
     "data": {
      "text/plain": [
       "[array([ -2.19805063e-05,   2.94518393e+00,   8.21576663e+00]),\n",
       " array([ -2.19805063e-05,   2.94518393e+00,   8.21576663e+00]),\n",
       " array([ -2.19805063e-05,   2.94518393e+00,   8.21576663e+00]),\n",
       " array([ -2.19805063e-05,   2.94518393e+00,   8.21576663e+00]),\n",
       " array([ -2.19805063e-05,   2.94518393e+00,   8.21576663e+00]),\n",
       " array([ -2.19805063e-05,   2.94518393e+00,   8.21576663e+00]),\n",
       " array([ -2.19805063e-05,   2.94518393e+00,   8.21576663e+00]),\n",
       " array([ -2.19805063e-05,   2.94518393e+00,   8.21576663e+00]),\n",
       " array([-1.63520477, -1.28007148, -0.21196061]),\n",
       " array([ 1.63514467, -1.27995006,  0.21263556]),\n",
       " array([-1.63522509,  1.28008418,  0.21196178]),\n",
       " array([ 1.6351724 ,  1.27996217, -0.21262971]),\n",
       " array([ 1.63514467,  1.27995006,  0.21263556]),\n",
       " array([-1.63520477,  1.28007148, -0.21196061]),\n",
       " array([ 1.6351724 , -1.27996217, -0.21262971]),\n",
       " array([-1.63522509, -1.28008418,  0.21196178]),\n",
       " array([-5.4383163 , -0.06470056,  2.05369594]),\n",
       " array([ -2.19805063e-05,   2.94518393e+00,   8.21576663e+00]),\n",
       " array([ -2.19805063e-05,   2.94518393e+00,   8.21576663e+00]),\n",
       " array([ -2.19805063e-05,   2.94518393e+00,   8.21576663e+00])]"
      ]
     },
     "execution_count": 867,
     "metadata": {},
     "output_type": "execute_result"
    }
   ],
   "source": [
    "trans_O_Nb"
   ]
  },
  {
   "cell_type": "code",
   "execution_count": 868,
   "metadata": {
    "collapsed": false
   },
   "outputs": [],
   "source": []
  },
  {
   "cell_type": "markdown",
   "metadata": {},
   "source": [
    "## other..."
   ]
  },
  {
   "cell_type": "code",
   "execution_count": 869,
   "metadata": {
    "collapsed": false
   },
   "outputs": [
    {
     "data": {
      "text/plain": [
       "PeriodicSite: O (5.4383, 3.0099, 6.1621) [0.9502, 0.5110, 0.7500]"
      ]
     },
     "execution_count": 869,
     "metadata": {},
     "output_type": "execute_result"
    }
   ],
   "source": [
    "O"
   ]
  },
  {
   "cell_type": "code",
   "execution_count": 870,
   "metadata": {
    "collapsed": false
   },
   "outputs": [
    {
     "data": {
      "text/plain": [
       "PeriodicSite: Nb (-0.0000, 2.9452, 8.2158) [-0.0000, 0.5000, 1.0000]"
      ]
     },
     "execution_count": 870,
     "metadata": {},
     "output_type": "execute_result"
    }
   ],
   "source": [
    "Nb"
   ]
  },
  {
   "cell_type": "code",
   "execution_count": 871,
   "metadata": {
    "collapsed": false
   },
   "outputs": [
    {
     "data": {
      "text/plain": [
       "array([ 5.43829432,  3.00988449,  6.16207069])"
      ]
     },
     "execution_count": 871,
     "metadata": {},
     "output_type": "execute_result"
    }
   ],
   "source": [
    "O_p"
   ]
  },
  {
   "cell_type": "code",
   "execution_count": 872,
   "metadata": {
    "collapsed": false
   },
   "outputs": [
    {
     "data": {
      "text/plain": [
       "array([ -2.19805063e-05,   2.94518393e+00,   8.21576663e+00])"
      ]
     },
     "execution_count": 872,
     "metadata": {},
     "output_type": "execute_result"
    }
   ],
   "source": [
    "Nb_p"
   ]
  },
  {
   "cell_type": "markdown",
   "metadata": {},
   "source": [
    "##### "
   ]
  },
  {
   "cell_type": "code",
   "execution_count": 872,
   "metadata": {
    "collapsed": false
   },
   "outputs": [],
   "source": []
  },
  {
   "cell_type": "code",
   "execution_count": 884,
   "metadata": {
    "collapsed": false
   },
   "outputs": [],
   "source": [
    "sga = SpacegroupAnalyzer(s1, 0.01)"
   ]
  },
  {
   "cell_type": "code",
   "execution_count": 885,
   "metadata": {
    "collapsed": false
   },
   "outputs": [
    {
     "data": {
      "text/plain": [
       "u'Pbnm'"
      ]
     },
     "execution_count": 885,
     "metadata": {},
     "output_type": "execute_result"
    }
   ],
   "source": [
    "sga.get_spacegroup_symbol()"
   ]
  },
  {
   "cell_type": "code",
   "execution_count": 875,
   "metadata": {
    "collapsed": false
   },
   "outputs": [],
   "source": [
    "s2_sym = sga.get_symmetrized_structure()"
   ]
  },
  {
   "cell_type": "code",
   "execution_count": 876,
   "metadata": {
    "collapsed": false
   },
   "outputs": [
    {
     "data": {
      "text/plain": [
       "[[PeriodicSite: Sr (5.6724, 0.2167, 2.0506) [0.9911, 0.0368, 0.2496],\n",
       "  PeriodicSite: Sr (2.9130, 3.1620, 2.0575) [0.5089, 0.5368, 0.2504],\n",
       "  PeriodicSite: Sr (2.8106, 2.7285, 6.1586) [0.4911, 0.4632, 0.7496],\n",
       "  PeriodicSite: Sr (0.0512, 5.6738, 6.1655) [0.0089, 0.9632, 0.7504]],\n",
       " [PeriodicSite: Nb (2.8618, 5.8905, 4.1080) [0.5000, 1.0000, 0.5000],\n",
       "  PeriodicSite: Nb (5.7236, 2.9452, 8.2161) [1.0000, 0.5000, 1.0000]],\n",
       " [PeriodicSite: Nb (5.7236, 2.9453, 4.1081) [1.0000, 0.5000, 0.5000],\n",
       "  PeriodicSite: Nb (2.8618, 5.8905, 0.0000) [0.5000, 1.0000, 0.0000]],\n",
       " [PeriodicSite: O (1.6564, 4.2049, 4.4154) [0.2894, 0.7138, 0.5374],\n",
       "  PeriodicSite: O (1.2054, 1.2596, 7.9088) [0.2106, 0.2138, 0.9626],\n",
       "  PeriodicSite: O (4.0672, 1.6856, 3.8007) [0.7106, 0.2862, 0.4626],\n",
       "  PeriodicSite: O (4.5182, 4.6309, 0.3073) [0.7894, 0.7862, 0.0374]],\n",
       " [PeriodicSite: O (4.5531, 4.5790, 3.7980) [0.7955, 0.7774, 0.4623],\n",
       "  PeriodicSite: O (4.0323, 1.6338, 0.3101) [0.7045, 0.2774, 0.0377],\n",
       "  PeriodicSite: O (1.1705, 1.3115, 4.4181) [0.2045, 0.2226, 0.5377],\n",
       "  PeriodicSite: O (1.6913, 4.2567, 7.9060) [0.2955, 0.7226, 0.9623]],\n",
       " [PeriodicSite: O (5.3224, 3.0560, 6.1579) [0.9299, 0.5188, 0.7495],\n",
       "  PeriodicSite: O (3.2629, 0.1108, 6.1662) [0.5701, 0.0188, 0.7505],\n",
       "  PeriodicSite: O (2.4607, 5.7797, 2.0499) [0.4299, 0.9812, 0.2495],\n",
       "  PeriodicSite: O (0.4011, 2.8345, 2.0582) [0.0701, 0.4812, 0.2505]]]"
      ]
     },
     "execution_count": 876,
     "metadata": {},
     "output_type": "execute_result"
    }
   ],
   "source": [
    "s2_sym.equivalent_sites"
   ]
  },
  {
   "cell_type": "code",
   "execution_count": 877,
   "metadata": {
    "collapsed": false
   },
   "outputs": [],
   "source": [
    "sym_op = sga.get_symmetry_operations()"
   ]
  },
  {
   "cell_type": "code",
   "execution_count": 878,
   "metadata": {
    "collapsed": false
   },
   "outputs": [],
   "source": [
    "sym_op_cart = sga.get_symmetry_operations(cartesian = True)"
   ]
  },
  {
   "cell_type": "code",
   "execution_count": 879,
   "metadata": {
    "collapsed": false
   },
   "outputs": [
    {
     "data": {
      "text/plain": [
       "[Rot:\n",
       " [[ 1.  0.  0.]\n",
       "  [ 0.  1.  0.]\n",
       "  [ 0.  0.  1.]]\n",
       " tau\n",
       " [ 0.  0.  0.], Rot:\n",
       " [[-1.  0.  0.]\n",
       "  [ 0. -1.  0.]\n",
       "  [ 0.  0. -1.]]\n",
       " tau\n",
       " [  1.18698675e-06   0.00000000e+00   1.60980393e-08], Rot:\n",
       " [[-1.  0.  0.]\n",
       "  [ 0.  1.  0.]\n",
       "  [ 0.  0. -1.]]\n",
       " tau\n",
       " [ 2.86178941  2.94524492  4.10804971], Rot:\n",
       " [[ 1.  0.  0.]\n",
       "  [ 0. -1.  0.]\n",
       "  [ 0.  0.  1.]]\n",
       " tau\n",
       " [ 2.86178823  2.94524492  4.1080497 ]]"
      ]
     },
     "execution_count": 879,
     "metadata": {},
     "output_type": "execute_result"
    }
   ],
   "source": [
    "sym_op_cart"
   ]
  },
  {
   "cell_type": "code",
   "execution_count": 880,
   "metadata": {
    "collapsed": false
   },
   "outputs": [],
   "source": [
    "sym_op_cart_all = analyzer.generate_full_symmops(sym_op_cart, 0)"
   ]
  },
  {
   "cell_type": "code",
   "execution_count": 881,
   "metadata": {
    "collapsed": false
   },
   "outputs": [
    {
     "data": {
      "text/plain": [
       "4"
      ]
     },
     "execution_count": 881,
     "metadata": {},
     "output_type": "execute_result"
    }
   ],
   "source": [
    "len(sym_op_cart)"
   ]
  },
  {
   "cell_type": "code",
   "execution_count": 882,
   "metadata": {
    "collapsed": false
   },
   "outputs": [
    {
     "data": {
      "text/plain": [
       "301"
      ]
     },
     "execution_count": 882,
     "metadata": {},
     "output_type": "execute_result"
    }
   ],
   "source": [
    "len(sym_op_cart_all)"
   ]
  },
  {
   "cell_type": "markdown",
   "metadata": {},
   "source": [
    "# write inputs"
   ]
  },
  {
   "cell_type": "code",
   "execution_count": 882,
   "metadata": {
    "collapsed": false
   },
   "outputs": [],
   "source": [
    "vaspio_set.batch_write_vasp_input"
   ]
  },
  {
   "cell_type": "code",
   "execution_count": 882,
   "metadata": {
    "collapsed": false
   },
   "outputs": [],
   "source": []
  },
  {
   "cell_type": "code",
   "execution_count": 882,
   "metadata": {
    "collapsed": false
   },
   "outputs": [],
   "source": []
  },
  {
   "cell_type": "code",
   "execution_count": 882,
   "metadata": {
    "collapsed": false
   },
   "outputs": [],
   "source": []
  },
  {
   "cell_type": "code",
   "execution_count": 882,
   "metadata": {
    "collapsed": false
   },
   "outputs": [],
   "source": [
    "\n"
   ]
  },
  {
   "cell_type": "code",
   "execution_count": 882,
   "metadata": {
    "collapsed": false
   },
   "outputs": [],
   "source": []
  }
 ],
 "metadata": {
  "kernelspec": {
   "display_name": "Python 3",
   "language": "python",
   "name": "python3"
  }
 },
 "nbformat": 4,
 "nbformat_minor": 0
}
