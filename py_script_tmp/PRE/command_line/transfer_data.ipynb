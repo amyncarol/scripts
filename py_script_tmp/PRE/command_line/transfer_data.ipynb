{
 "metadata": {
  "name": "",
  "signature": "sha256:943b352864d034abdd4e8c66679210d2eb7c9c5e27a22384f013a5ff97dd1a49"
 },
 "nbformat": 3,
 "nbformat_minor": 0,
 "worksheets": [
  {
   "cells": [
    {
     "cell_type": "code",
     "collapsed": false,
     "input": [
      "# scp data between remote and local\n",
      "\n",
      "import os\n",
      "import shutil\n",
      "import subprocess"
     ],
     "language": "python",
     "metadata": {},
     "outputs": [],
     "prompt_number": 27
    },
    {
     "cell_type": "code",
     "collapsed": false,
     "input": [
      "from subprocess import Popen, PIPE\n",
      "\n",
      "def listdir_shell(remoteHost, rootFolder):\n",
      "    p = Popen(['ssh', '-p', '8', '%s' %remoteHost, 'ls', '%s' %rootFolder], shell=False, stdout=PIPE, close_fds=True)\n",
      "    return [path.rstrip('\\n') for path in p.stdout.readlines()]\n"
     ],
     "language": "python",
     "metadata": {},
     "outputs": [],
     "prompt_number": 28
    },
    {
     "cell_type": "code",
     "collapsed": false,
     "input": [
      "def run():\n",
      "        remoteHost = \"yaocai@ohio\"\n",
      "        \n",
      "        rootFolder = \"/home/yaocai/Ab/CsPbI3/slab\"\n",
      "        rootFolderLocal = \"/Users/yao/Google Drive/data/CsPbI3/slab\"\n",
      "        \n",
      "        targetFolder = [\"wfn\",\"wfn_idipol\",\"wfn_ldipol\"]\n",
      "        targetFile = \"LOCPOT\"\n",
      "        \n",
      "        for currentFolder in listdir_shell(remoteHost, rootFolder):\n",
      "                if \"slab1\" in currentFolder:\n",
      "                    os.mkdir(os.path.join(rootFolderLocal, currentFolder))\n",
      "                    for subFolder in targetFolder:\n",
      "                        remotePath = os.path.join(rootFolder, currentFolder, subFolder)\n",
      "                        remoteFile = os.path.join(remotePath, targetFile)\n",
      "                        localPath = os.path.join(rootFolderLocal, currentFolder, subFolder)\n",
      "                        localFile = os.path.join(localPath, targetFile)\n",
      "                        os.mkdir(localPath)\n",
      "                        os.system('scp -P 8 \"%s:%s\" \"%s\"' % (remoteHost, remoteFile, localPath))\n",
      "\n",
      "if __name__ == \"__main__\":\n",
      "        run()"
     ],
     "language": "python",
     "metadata": {},
     "outputs": [],
     "prompt_number": 29
    },
    {
     "cell_type": "code",
     "collapsed": false,
     "input": [
      "\n"
     ],
     "language": "python",
     "metadata": {},
     "outputs": [
      {
       "output_type": "stream",
       "stream": "stdout",
       "text": [
        "['INCAR_idipol', 'INCAR_ldipol', 'INCAR_workfunction', 'run.py', 'slab100-1', 'slab100-2', 'slab110-1', 'slab110-2', 'slab111-1', 'slab111-2']\n"
       ]
      }
     ],
     "prompt_number": 21
    },
    {
     "cell_type": "code",
     "collapsed": false,
     "input": [],
     "language": "python",
     "metadata": {},
     "outputs": [],
     "prompt_number": 26
    },
    {
     "cell_type": "code",
     "collapsed": false,
     "input": [],
     "language": "python",
     "metadata": {},
     "outputs": []
    }
   ],
   "metadata": {}
  }
 ]
}