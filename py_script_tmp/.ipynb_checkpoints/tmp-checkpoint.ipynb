{
 "cells": [
  {
   "cell_type": "code",
   "execution_count": 7,
   "metadata": {
    "collapsed": false
   },
   "outputs": [],
   "source": [
    "from pymatgen.io.vasp.outputs import Vasprun\n",
    "import pymatgen.io.vasp.outputs2 as outputs2\n",
    "import matplotlib.pyplot as plt\n",
    "import re"
   ]
  },
  {
   "cell_type": "code",
   "execution_count": 12,
   "metadata": {
    "collapsed": false
   },
   "outputs": [],
   "source": [
    "# for LOPTICS parsing\n",
    "vr_list = {}\n",
    "#vr_list['cshift0.1']= Vasprun('/Users/yao/Google Drive/data/Si-dielectric/pbe-ip/k24/vasprun.xml')\n",
    "#vr_list['cshift0.05']= Vasprun('/Users/yao/Google Drive/data/Si-dielectric/pbe-ip/k24/cshift0.05/vasprun.xml')\n",
    "#vr_list['cshift0.02']= Vasprun('/Users/yao/Google Drive/data/Si-dielectric/pbe-ip/k24/cshift0.02/vasprun.xml')\n",
    "vr_list['chi-nomega300']=outputs2.Vasprun('/Users/yao/Google Drive/data/Si-dielectric/hybrid-chi/k10/nomega300/vasprun.xml')\n",
    "vr_list['chi-nomega1000']=outputs2.Vasprun('/Users/yao/Google Drive/data/Si-dielectric/hybrid-chi/k10/nomega1000/vasprun.xml')\n",
    "for kpoints in vr_list:\n",
    "    energy = vr_list[kpoints].dielectric[0]\n",
    "    real_tensor = vr_list[kpoints].dielectric[1]\n",
    "    imag_tensor = vr_list[kpoints].dielectric[2]\n",
    "    nedos = len(energy)\n",
    "    real_iso = []\n",
    "    imag_iso = []\n",
    "    for i in range(nedos):\n",
    "        real_iso.append(real_tensor[i][0])\n",
    "        imag_iso.append(imag_tensor[i][0])\n",
    "    plt.plot(energy, imag_iso, label=kpoints)\n",
    "plt.legend()\n",
    "plt.show()"
   ]
  },
  {
   "cell_type": "code",
   "execution_count": null,
   "metadata": {
    "collapsed": true
   },
   "outputs": [],
   "source": []
  }
 ],
 "metadata": {
  "kernelspec": {
   "display_name": "Python 2",
   "language": "python",
   "name": "python2"
  },
  "language_info": {
   "codemirror_mode": {
    "name": "ipython",
    "version": 2
   },
   "file_extension": ".py",
   "mimetype": "text/x-python",
   "name": "python",
   "nbconvert_exporter": "python",
   "pygments_lexer": "ipython2",
   "version": "2.7.9"
  }
 },
 "nbformat": 4,
 "nbformat_minor": 1
}
