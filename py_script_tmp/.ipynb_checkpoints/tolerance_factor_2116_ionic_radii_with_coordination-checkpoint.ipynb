{
 "metadata": {
  "name": "",
  "signature": "sha256:61bc18ff598bc8dd1417e1f2b13cce5224354d28abb755bd8320fbf96b090ddc"
 },
 "nbformat": 3,
 "nbformat_minor": 0,
 "worksheets": [
  {
   "cells": [
    {
     "cell_type": "code",
     "collapsed": false,
     "input": [
      "from pymatgen.core.periodic_table import Specie\n",
      "from pymatgen.matproj.rest import MPRester\n",
      "from pymatgen.phasediagram.pdmaker import PhaseDiagram\n",
      "from pymatgen.phasediagram.plotter import PDPlotter\n",
      "from pymatgen.core.periodic_table import Element\n",
      "import pymatgen.core.periodic_table as pt\n",
      "import math\n",
      "import numpy as np"
     ],
     "language": "python",
     "metadata": {},
     "outputs": []
    },
    {
     "cell_type": "code",
     "collapsed": false,
     "input": [
      "listA = ['K','Rb','Cs']\n",
      "listB = ['Ag','Cu','Li','Na','K']\n",
      "listC = ['Bi','Sb','Ce','Pr','Nd','Ta','Mo','Y']\n",
      "listD = ['F','Cl','Br','I']"
     ],
     "language": "python",
     "metadata": {},
     "outputs": []
    }
   ],
   "metadata": {}
  }
 ]
}