{
 "cells": [
  {
   "cell_type": "code",
   "execution_count": 26,
   "metadata": {
    "collapsed": false
   },
   "outputs": [
    {
     "data": {
      "text/html": [
       "-3.79623741918022"
      ],
      "text/latex": [
       "-3.79623741918022"
      ],
      "text/markdown": [
       "-3.79623741918022"
      ],
      "text/plain": [
       "[1] -3.796237"
      ]
     },
     "metadata": {},
     "output_type": "display_data"
    }
   ],
   "source": [
    "x = 1717 \n",
    "y = 2030\n",
    "n = 5146\n",
    "m = 6099\n",
    "a = lbeta(x+1, n-x+1) + lbeta(y+1, m-y+1) - lbeta(x+y+1, m+n-x-y+1)\n",
    "a"
   ]
  },
  {
   "cell_type": "code",
   "execution_count": 27,
   "metadata": {
    "collapsed": false
   },
   "outputs": [
    {
     "data": {
      "text/html": [
       "0.0224551022437359"
      ],
      "text/latex": [
       "0.0224551022437359"
      ],
      "text/markdown": [
       "0.0224551022437359"
      ],
      "text/plain": [
       "[1] 0.0224551"
      ]
     },
     "metadata": {},
     "output_type": "display_data"
    }
   ],
   "source": [
    "b = exp(a)\n",
    "b"
   ]
  },
  {
   "cell_type": "code",
   "execution_count": 28,
   "metadata": {
    "collapsed": false
   },
   "outputs": [
    {
     "data": {
      "text/html": [
       "-3.79623741918022"
      ],
      "text/latex": [
       "-3.79623741918022"
      ],
      "text/markdown": [
       "-3.79623741918022"
      ],
      "text/plain": [
       "[1] -3.796237"
      ]
     },
     "metadata": {},
     "output_type": "display_data"
    }
   ],
   "source": [
    "log(b)"
   ]
  },
  {
   "cell_type": "code",
   "execution_count": 29,
   "metadata": {
    "collapsed": false
   },
   "outputs": [
    {
     "data": {
      "text/html": [
       "0.333657209483094"
      ],
      "text/latex": [
       "0.333657209483094"
      ],
      "text/markdown": [
       "0.333657209483094"
      ],
      "text/plain": [
       "[1] 0.3336572"
      ]
     },
     "metadata": {},
     "output_type": "display_data"
    }
   ],
   "source": [
    "x/n"
   ]
  },
  {
   "cell_type": "code",
   "execution_count": 30,
   "metadata": {
    "collapsed": false
   },
   "outputs": [
    {
     "data": {
      "text/html": [
       "0.332841449417937"
      ],
      "text/latex": [
       "0.332841449417937"
      ],
      "text/markdown": [
       "0.332841449417937"
      ],
      "text/plain": [
       "[1] 0.3328414"
      ]
     },
     "metadata": {},
     "output_type": "display_data"
    }
   ],
   "source": [
    "y/m"
   ]
  },
  {
   "cell_type": "code",
   "execution_count": null,
   "metadata": {
    "collapsed": true
   },
   "outputs": [],
   "source": []
  }
 ],
 "metadata": {
  "anaconda-cloud": {},
  "kernelspec": {
   "display_name": "R",
   "language": "R",
   "name": "ir"
  },
  "language_info": {
   "codemirror_mode": "r",
   "file_extension": ".r",
   "mimetype": "text/x-r-source",
   "name": "R",
   "pygments_lexer": "r",
   "version": "3.4.2"
  }
 },
 "nbformat": 4,
 "nbformat_minor": 2
}
