{
 "cells": [
  {
   "cell_type": "code",
   "execution_count": 21,
   "metadata": {
    "collapsed": false
   },
   "outputs": [
    {
     "name": "stdout",
     "output_type": "stream",
     "text": [
      "['0.000000000 0.000000000 0.000000000', '0.000000000 0.000000000 0.500000000', '0.000000000 0.500000000 0.500000000', '0.000000000 0.000000000 0.250000000', '0.000000000 0.250000000 0.250000000', '0.000000000 0.250000000 0.500000000', '0.000000000 0.250000000 0.750000000', '0.250000000 0.500000000 0.750000000', '0.000000000 0.000000000 0.166666667', '0.000000000 0.000000000 0.333333333', '0.000000000 0.166666667 0.166666667', '0.000000000 0.166666667 0.333333333', '0.000000000 0.166666667 0.500000000', '0.000000000 0.166666667 0.666666667', '0.000000000 0.166666667 0.833333333', '0.000000000 0.333333333 0.333333333', '0.000000000 0.333333333 0.500000000', '0.000000000 0.333333333 0.666666667', '0.166666667 0.333333333 0.500000000', '0.166666667 0.333333333 0.666666667', '0.166666667 0.500000000 0.666666667']\n"
     ]
    }
   ],
   "source": [
    "import re\n",
    "from __future__ import print_function  # Only needed for Python 2\n",
    "\n",
    "klist=[]\n",
    "with open('kpoints_list','r') as f:\n",
    "    next(f)\n",
    "    next(f)\n",
    "    for line in f:\n",
    "        string = line.split()[0] +' '+line.split()[1] +' '+line.split()[2]\n",
    "        klist.append(string)\n",
    "print(klist)\n",
    "    \n",
    "for k in [2, 4, 6]:\n",
    "    klist_small=[]\n",
    "    path_kgrid = 'k'+str(k)+'/kgrid.out'\n",
    "    path_wfnmerge = 'k'+str(k)+'/wfnmerge.inp'\n",
    "    path_vxcmerge = 'k'+str(k)+'/vxcmerge.sh'\n",
    "    index_list = []\n",
    "    with open(path_kgrid,'r') as f:\n",
    "        next(f)\n",
    "        next(f)\n",
    "        for line in f:\n",
    "            string = line.split()[0] +' '+line.split()[1] +' '+line.split()[2]\n",
    "            index = klist.index(string)\n",
    "            index_list.append(index)\n",
    "    number_of_kpoints = len(index_list)        \n",
    "    with open(path_wfnmerge,'w') as f:\n",
    "        print(\"WFN\", file=f)\n",
    "        print(str(k)+' '+str(k)+' '+str(k), file=f)\n",
    "        print(\"0.0 0.0 0.0 ! final k-shift\", file=f)\n",
    "        print(str(number_of_kpoints)+' ! total number of input WFN files', file=f)\n",
    "        print(str(number_of_kpoints)+' ! total number of k-points in all input WFN files', file=f)\n",
    "        for i in range(len(index_list)):\n",
    "            print('wfn_'+str(index_list[i])+'/WFN', file=f)\n",
    "        for i in range(len(index_list)):\n",
    "            print('1.0', file=f) \n",
    "    with open(path_vxcmerge,'w') as f:\n",
    "        print('cat ', file=f, end=\"\"),\n",
    "        for i in range(len(index_list)):\n",
    "            print('wfn_'+str(index_list[i])+'/vxc.dat ', file=f, end=\"\"),\n",
    "        print('> vxc.dat',file=f, end=\"\")\n",
    "            "
   ]
  },
  {
   "cell_type": "code",
   "execution_count": null,
   "metadata": {
    "collapsed": true
   },
   "outputs": [],
   "source": []
  }
 ],
 "metadata": {
  "anaconda-cloud": {},
  "kernelspec": {
   "display_name": "Python 2",
   "language": "python",
   "name": "python2"
  },
  "language_info": {
   "codemirror_mode": {
    "name": "ipython",
    "version": 2
   },
   "file_extension": ".py",
   "mimetype": "text/x-python",
   "name": "python",
   "nbconvert_exporter": "python",
   "pygments_lexer": "ipython2",
   "version": "2.7.13"
  }
 },
 "nbformat": 4,
 "nbformat_minor": 1
}
