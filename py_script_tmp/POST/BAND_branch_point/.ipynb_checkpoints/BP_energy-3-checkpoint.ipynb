{
 "cells": [
  {
   "cell_type": "code",
   "execution_count": 61,
   "metadata": {
    "collapsed": false
   },
   "outputs": [],
   "source": [
    "from pymatgen.io.vasp.outputs import Vasprun\n",
    "import numpy as np\n",
    "import os\n",
    "import glob\n",
    "from pymatgen.electronic_structure.core import Spin"
   ]
  },
  {
   "cell_type": "code",
   "execution_count": 62,
   "metadata": {
    "collapsed": true
   },
   "outputs": [],
   "source": [
    "def BZ_avg(eigenvalues, band_index,kpoints,kpoints_weights):\n",
    "    \"\"\"\n",
    "    :param eigenvalues: eigenvalues of all bands with the format of Vasprun.eigenvalues\n",
    "    :param band_index: the band index for averaging\n",
    "    :param kpoints: sampled k-points\n",
    "    :param kpoints_weights: the weights of sampled k-points\n",
    "    :return: the average of a particular band over k-points in the BZ\n",
    "    \"\"\"\n",
    "    energy_array = [ eigenvalues[Spin.up][k_point_index][band_index][0] for k_point_index in range(len(kpoints))]\n",
    "    return np.average(energy_array, weights=kpoints_weights)"
   ]
  },
  {
   "cell_type": "code",
   "execution_count": 63,
   "metadata": {
    "collapsed": true
   },
   "outputs": [],
   "source": [
    "def Branch_point_energy(vr, vb_sampling_num, cb_sampling_num, scissor):\n",
    "    \"\"\"\n",
    "    Calculate the Branch_point_energy with the formula proposed in:\n",
    "    APPLIED PHYSICS LETTERS 94, 012104 2009 ; doi: 10.1063/1.3059569\n",
    "\n",
    "    :param vr: Vasprun Object\n",
    "    :param cb_sampling_num: the number of cb for sampling. Default vb_sampling_num = 2* cb_sampling_num\n",
    "    :return:\n",
    "    \"\"\"\n",
    "    #vb_sampling_num = 2*cb_sampling_num\n",
    "    vbm_band_index = len(list(filter(lambda u:u[1]!=0, vr.eigenvalues[Spin.up][0])))-1\n",
    "\n",
    "    vb_sampling_indexes = [vbm_band_index-i for i in range(vb_sampling_num)]\n",
    "    cb_sampling_indexes = [vbm_band_index+i+1 for i in range(cb_sampling_num)]\n",
    "    \n",
    "\n",
    "    vb_avg = sum([BZ_avg(vr.eigenvalues,vb_index,vr.actual_kpoints,vr.actual_kpoints_weights)\n",
    "               for vb_index in vb_sampling_indexes])/len(vb_sampling_indexes)\n",
    "    cb_avg = sum([BZ_avg(vr.eigenvalues,cb_index,vr.actual_kpoints,vr.actual_kpoints_weights)\n",
    "               for cb_index in cb_sampling_indexes])/len(cb_sampling_indexes) + scissor\n",
    "    \n",
    "    return np.mean([vb_avg,cb_avg])"
   ]
  },
  {
   "cell_type": "code",
   "execution_count": 64,
   "metadata": {
    "collapsed": false
   },
   "outputs": [
    {
     "data": {
      "text/plain": [
       "64"
      ]
     },
     "execution_count": 64,
     "metadata": {},
     "output_type": "execute_result"
    }
   ],
   "source": [
    "compounds = []\n",
    "import glob\n",
    "l = glob.glob('/Users/yao/Google Drive/data/semiconductor/DOS-BS/*')\n",
    "for i in l:\n",
    "    comp = i.split('/')[7]\n",
    "    compounds.append(comp)\n",
    "len(compounds)"
   ]
  },
  {
   "cell_type": "code",
   "execution_count": 65,
   "metadata": {
    "collapsed": false
   },
   "outputs": [],
   "source": [
    "gap_dict = {}\n",
    "with open('/Users/yao/Desktop/band offset/gap.csv') as f:\n",
    "    for line in f:\n",
    "        gap_dict[line.split(',')[0]] = float(line.split(',')[1])"
   ]
  },
  {
   "cell_type": "code",
   "execution_count": 68,
   "metadata": {
    "collapsed": false
   },
   "outputs": [],
   "source": [
    "folder = '/Users/yao/Google Drive/data/semiconductor/DOS-PBE/'\n",
    "folder_bs = '/Users/yao/Google Drive/data/semiconductor/DOS-BS/'\n",
    "if __name__ == \"__main__\":\n",
    "\n",
    "    for compound in compounds:              \n",
    "        try:\n",
    "            currentfolder_bs = folder_bs + '/' + compound \n",
    "            vr_bs = Vasprun(os.path.join(currentfolder_bs,'vasprun.xml'))\n",
    "            bandgap = vr_bs.eigenvalue_band_properties[0]\n",
    "            scissor = gap_dict[compound] - bandgap\n",
    "            vbm = vr_bs.eigenvalue_band_properties[2]\n",
    "            \n",
    "            \n",
    "            currentfolder = folder + '/' + compound \n",
    "            vr = Vasprun(os.path.join(currentfolder,'vasprun.xml')) \n",
    "            ebp = Branch_point_energy(vr, vb_sampling_num=1, cb_sampling_num=1, scissor = scissor)\n",
    "            #print('[\\''+ compound + '\\',' + str(vbm) + ',' + str(ebp) + ',' + str(cbm) +'],')\n",
    "            ebp_vbm_dict[compound] = ebp-vbm\n",
    "        except:\n",
    "            print(compound, bandgap, scissor)         "
   ]
  },
  {
   "cell_type": "code",
   "execution_count": 69,
   "metadata": {
    "collapsed": false
   },
   "outputs": [],
   "source": [
    "with open('/Users/yao/Desktop/band offset/ebp_vbm_pbebs_exp.csv','w') as f:\n",
    "    for compound in compounds:\n",
    "        f.write(compound)\n",
    "        f.write(',')\n",
    "        try:\n",
    "            f.write(str(ebp_vbm_dict[compound]))\n",
    "        except:\n",
    "            f.write('NaN')\n",
    "        f.write('\\n')\n",
    "    "
   ]
  },
  {
   "cell_type": "code",
   "execution_count": 60,
   "metadata": {
    "collapsed": false
   },
   "outputs": [
    {
     "name": "stdout",
     "output_type": "stream",
     "text": [
      "4.4437\n",
      "3.9105\n",
      "8.3542\n"
     ]
    }
   ],
   "source": [
    "#test\n",
    "folder = '/Users/yao/Google Drive/data/semiconductor/DOS-PBE/'\n",
    "currentfolder = folder + '/' + 'MgO' \n",
    "vr = Vasprun(os.path.join(currentfolder,'vasprun.xml')) \n",
    "bandgap = vr.eigenvalue_band_properties[0]\n",
    "#scissor = gap_dict[compound] - bandgap\n",
    "vbm = vr.eigenvalue_band_properties[2]\n",
    "cbm = vr.eigenvalue_band_properties[1]\n",
    "print(bandgap)\n",
    "print(vbm)\n",
    "print(cbm)"
   ]
  },
  {
   "cell_type": "code",
   "execution_count": null,
   "metadata": {
    "collapsed": false
   },
   "outputs": [],
   "source": [
    "#calculate pair-wise offsets:\n",
    "#with open('/Users/yao/Desktop/band offset/ebp_offset_42.csv','w') as f:\n",
    "#    for i in compounds:\n",
    "#        for j in compounds:\n",
    "#            f.write(i+'/'+j)\n",
    "#            f.write(',')\n",
    "#            offset = ebp_vbm_dict[i]-ebp_vbm_dict[j]\n",
    "#            f.write(str(offset))\n",
    "#            f.write('\\n')\n",
    "            "
   ]
  },
  {
   "cell_type": "code",
   "execution_count": null,
   "metadata": {
    "collapsed": false
   },
   "outputs": [],
   "source": [
    "# find number of atoms in an unit cell\n",
    "#i = 1\n",
    "#folder = '/Users/yao/Google Drive/data/semiconductor/DOS-PBE/'\n",
    "#for compound in compounds:              \n",
    "#    currentfolder = folder + '/' + compound \n",
    "#    vr = Vasprun(os.path.join(currentfolder,'vasprun.xml'))\n",
    "#    struc = vr.final_structure\n",
    "#    print(i, compound, len(struc.sites))\n",
    "#    i += 1\n",
    "              "
   ]
  },
  {
   "cell_type": "code",
   "execution_count": null,
   "metadata": {
    "collapsed": false
   },
   "outputs": [],
   "source": [
    "#find bandgap\n",
    "\n",
    "#folder = '/Users/yao/Google Drive/data/semiconductor/DOS-HSE/'\n",
    "#with open('/Users/yao/Desktop/band offset/hse-gap.csv','w') as f:\n",
    "#    for compound in compounds:        \n",
    "#            f.write(compound)\n",
    "#            f.write(',')\n",
    "#            currentfolder = folder + '/' + compound \n",
    "#            try:\n",
    "#                vr = Vasprun(os.path.join(currentfolder,'vasprun.xml'))\n",
    "#                bandgap = vr.eigenvalue_band_properties[0]\n",
    "#                f.write(str(bandgap))\n",
    "#           except:\n",
    "#                f.write('NaN')\n",
    "#            f.write('\\n')\n",
    "\n"
   ]
  },
  {
   "cell_type": "code",
   "execution_count": null,
   "metadata": {
    "collapsed": true
   },
   "outputs": [],
   "source": [
    "#with open('/Users/yao/Desktop/band offset/exp-gap.csv','w') as f:\n",
    "#    for compound in compounds:        \n",
    "#        f.write(compound)\n",
    "#        f.write(',')\n",
    "#        f.write(str(gap_dict[compound]))\n",
    "#        f.write('\\n')"
   ]
  },
  {
   "cell_type": "code",
   "execution_count": null,
   "metadata": {
    "collapsed": true
   },
   "outputs": [],
   "source": []
  }
 ],
 "metadata": {
  "anaconda-cloud": {},
  "kernelspec": {
   "display_name": "Python [conda root]",
   "language": "python",
   "name": "conda-root-py"
  },
  "language_info": {
   "codemirror_mode": {
    "name": "ipython",
    "version": 3
   },
   "file_extension": ".py",
   "mimetype": "text/x-python",
   "name": "python",
   "nbconvert_exporter": "python",
   "pygments_lexer": "ipython3",
   "version": "3.5.2"
  }
 },
 "nbformat": 4,
 "nbformat_minor": 1
}
