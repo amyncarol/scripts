{
 "metadata": {
  "name": "",
  "signature": "sha256:c50fb3c56f1c3b03a42990e80b479680a0e0920a6a03bf70c7d1e1976a792868"
 },
 "nbformat": 3,
 "nbformat_minor": 0,
 "worksheets": [
  {
   "cells": [
    {
     "cell_type": "code",
     "collapsed": false,
     "input": [
      "import numpy as np\n",
      "import matplotlib.pyplot as plt\n",
      "import re\n",
      "from scipy.ndimage.interpolation import rotate\n",
      "from numpy.linalg import norm\n"
     ],
     "language": "python",
     "metadata": {},
     "outputs": [],
     "prompt_number": 44
    },
    {
     "cell_type": "code",
     "collapsed": false,
     "input": [
      "chg = np.empty((480,80,56))\n",
      "chg_1d  = np.empty(2150400)\n",
      "\n",
      "i = 0\n",
      "with open('/Users/yao/Desktop/CHG.spin', 'r') as f:\n",
      "    for value in re.findall(r'\\s*([\\dE+-.]+)', f.read()):\n",
      "        chg_1d[i] = value\n",
      "        i = i + 1\n",
      "p = 0\n",
      "for i in np.arange(56):\n",
      "    for j in np.arange(80):\n",
      "        for k in np.arange(480):\n",
      "            chg[k][j][i] = chg_1d[p]\n",
      "            p = p + 1\n",
      "            \n",
      "chg_2d = chg.sum(axis = 2)\n",
      "chg_2d.shape\n",
      "chg_1d.sum()/(480*80*56)"
     ],
     "language": "python",
     "metadata": {},
     "outputs": [
      {
       "metadata": {},
       "output_type": "pyout",
       "prompt_number": 155,
       "text": [
        "2.0833339130849122"
       ]
      }
     ],
     "prompt_number": 155
    },
    {
     "cell_type": "code",
     "collapsed": false,
     "input": [
      "b_repeat = 5\n",
      "b_extend = 10\n",
      "a_extend = 2\n",
      "b_axis = np.array([0,1])\n",
      "abc = np.array([480,80])\n",
      "Nb_pos1 = np.array([0.32160,0.52514])\n",
      "Nb_pos1 = np.multiply(Nb_pos1, abc)\n",
      "Nb_pos2 = np.array([0.67840,0.47486]) + b_repeat*b_axis\n",
      "Nb_pos2 = np.multiply(Nb_pos2, abc)\n",
      "angle = np.arctan((Nb_pos2[0]-Nb_pos1[0])/(Nb_pos2[1]-Nb_pos1[1]))/np.pi*180\n",
      "\n",
      "box = chg_2d\n",
      "for i in np.arange(b_extend):\n",
      "    box = np.concatenate((box, chg_2d), axis=1)\n",
      "box_tmp = box\n",
      "for i in np.arange(a_extend):\n",
      "    box = np.concatenate((box, box_tmp), axis=0)\n",
      "box.shape"
     ],
     "language": "python",
     "metadata": {},
     "outputs": [
      {
       "metadata": {},
       "output_type": "pyout",
       "prompt_number": 122,
       "text": [
        "(1440, 880)"
       ]
      }
     ],
     "prompt_number": 122
    },
    {
     "cell_type": "code",
     "collapsed": false,
     "input": [
      "box_rotate = rotate(box, angle+5, axes=(1, 0), reshape=True, output=None, order=3, mode='constant', cval=0.0, prefilter=True)"
     ],
     "language": "python",
     "metadata": {},
     "outputs": [],
     "prompt_number": 144
    },
    {
     "cell_type": "code",
     "collapsed": false,
     "input": [
      "box_rotate.shape"
     ],
     "language": "python",
     "metadata": {},
     "outputs": [
      {
       "metadata": {},
       "output_type": "pyout",
       "prompt_number": 145,
       "text": [
        "(1685, 1459)"
       ]
      }
     ],
     "prompt_number": 145
    },
    {
     "cell_type": "code",
     "collapsed": false,
     "input": [
      "plt.imshow(box_rotate, interpolation='nearest')\n",
      "plt.colorbar()\n",
      "plt.show()"
     ],
     "language": "python",
     "metadata": {},
     "outputs": [],
     "prompt_number": 153
    },
    {
     "cell_type": "code",
     "collapsed": false,
     "input": [
      "band_center = np.array([823,764])\n",
      "band_y_length = norm(Nb_pos1-Nb_pos2)\n",
      "band_x_length = 50 #30\n",
      "x_lower = np.round(band_center[0] - band_x_length/2)\n",
      "x_upper = np.round(band_center[0] + band_x_length/2)\n",
      "y_lower = np.round(band_center[1] - band_y_length/2)\n",
      "y_upper = np.round(band_center[1] + band_y_length/2)\n",
      "x_lower"
     ],
     "language": "python",
     "metadata": {},
     "outputs": [
      {
       "metadata": {},
       "output_type": "pyout",
       "prompt_number": 147,
       "text": [
        "798"
       ]
      }
     ],
     "prompt_number": 147
    },
    {
     "cell_type": "code",
     "collapsed": false,
     "input": [
      "box_small = box_rotate[x_lower:x_upper, :]\n",
      "box_small.shape"
     ],
     "language": "python",
     "metadata": {},
     "outputs": [
      {
       "metadata": {},
       "output_type": "pyout",
       "prompt_number": 148,
       "text": [
        "(50, 1459)"
       ]
      }
     ],
     "prompt_number": 148
    },
    {
     "cell_type": "code",
     "collapsed": false,
     "input": [
      "box_1d = box_small.sum(axis = 0)\n",
      "box_1d.shape[0]"
     ],
     "language": "python",
     "metadata": {},
     "outputs": [
      {
       "metadata": {},
       "output_type": "pyout",
       "prompt_number": 150,
       "text": [
        "1459"
       ]
      }
     ],
     "prompt_number": 150
    },
    {
     "cell_type": "code",
     "collapsed": false,
     "input": [
      "x = np.arange(box_1d.shape[0])\n",
      "plt.plot(x, box_1d)\n",
      "#plt.xlim(668,991)\n",
      "plt.xlim(515,1021)\n",
      "plt.show()"
     ],
     "language": "python",
     "metadata": {},
     "outputs": [],
     "prompt_number": 157
    },
    {
     "cell_type": "code",
     "collapsed": false,
     "input": [],
     "language": "python",
     "metadata": {},
     "outputs": []
    }
   ],
   "metadata": {}
  }
 ]
}