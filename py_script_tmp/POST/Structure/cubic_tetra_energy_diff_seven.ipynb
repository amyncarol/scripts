{
 "cells": [
  {
   "cell_type": "code",
   "execution_count": 2,
   "metadata": {
    "collapsed": false
   },
   "outputs": [],
   "source": [
    "import numpy as np\n",
    "import matplotlib.pyplot as plt\n",
    "import matplotlib.cbook as cbook\n",
    "import re\n",
    "from matplotlib.pyplot import figure, show, axes, sci, savefig\n",
    "from matplotlib import cm, colors\n",
    "from matplotlib.font_manager import FontProperties\n",
    "from numpy import amin, amax, ravel\n",
    "import numpy.ma as ma"
   ]
  },
  {
   "cell_type": "code",
   "execution_count": 3,
   "metadata": {
    "collapsed": false
   },
   "outputs": [],
   "source": [
    "matrix = np.zeros( (3,3,9) )\n",
    "data_tetra = []\n",
    "data_cubic = []\n",
    "ediff = []\n",
    "ratio = []\n",
    "comp = []\n",
    "with open('/Users/yao/Google Drive/data/216/tetra-vasprun-files/energy','r') as f:\n",
    "    for line in f:\n",
    "        data_tetra.append(float(line.split()[3]))\n",
    "        comp.append(line.split()[0]+line.split()[1]+line.split()[2])\n",
    "with open('/Users/yao/Google Drive/data/216/vasprun-files/energy','r') as f:\n",
    "    for line in f:\n",
    "        data_cubic.append(float(line.split()[3]))\n",
    "for i in range(len(data_cubic)):\n",
    "    ediff.append((data_cubic[i]/9-data_tetra[i]/18)*1000)\n",
    "with open('/Users/yao/Google Drive/data/216/ratio_paper_81','r') as f:\n",
    "    for line in f:\n",
    "        ratio.append(float(line.split()[3]))"
   ]
  },
  {
   "cell_type": "code",
   "execution_count": 12,
   "metadata": {
    "collapsed": false
   },
   "outputs": [
    {
     "data": {
      "text/plain": [
       "1.427018333333585"
      ]
     },
     "execution_count": 12,
     "metadata": {},
     "output_type": "execute_result"
    }
   ],
   "source": [
    "ediff[comp.index('CsTeI')]"
   ]
  },
  {
   "cell_type": "code",
   "execution_count": null,
   "metadata": {
    "collapsed": false
   },
   "outputs": [],
   "source": []
  }
 ],
 "metadata": {
  "anaconda-cloud": {},
  "kernelspec": {
   "display_name": "Python [conda root]",
   "language": "python",
   "name": "conda-root-py"
  },
  "language_info": {
   "codemirror_mode": {
    "name": "ipython",
    "version": 3
   },
   "file_extension": ".py",
   "mimetype": "text/x-python",
   "name": "python",
   "nbconvert_exporter": "python",
   "pygments_lexer": "ipython3",
   "version": "3.5.2"
  }
 },
 "nbformat": 4,
 "nbformat_minor": 0
}
