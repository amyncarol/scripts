{
 "cells": [
  {
   "cell_type": "code",
   "execution_count": 41,
   "metadata": {
    "collapsed": false
   },
   "outputs": [],
   "source": [
    "from pymatgen import core\n",
    "from pymatgen.core import sites\n",
    "from pymatgen.core.structure import IStructure\n",
    "from pymatgen.symmetry import analyzer\n",
    "from pymatgen.symmetry.analyzer import SpacegroupAnalyzer\n",
    "from pymatgen.symmetry.bandstructure import HighSymmKpath \n",
    "from pymatgen.io.smartio import read_structure, write_structure\n",
    "from pymatgen.io import vaspio_set\n",
    "from pymatgen.io.vaspio.vasp_input import Kpoints\n",
    "from pymatgen.io.vasp.outputs import Vasprun\n",
    "import os\n",
    "import shutil\n",
    "import copy\n",
    "import numpy as np\n",
    "from math import ceil"
   ]
  },
  {
   "cell_type": "code",
   "execution_count": 42,
   "metadata": {
    "collapsed": false
   },
   "outputs": [],
   "source": [
    "def get_kpoints(pymatgen_kpath, self_defined_path, line_density=20):\n",
    "\n",
    "        list_k_points = []\n",
    "        sym_point_labels = []\n",
    "\n",
    "        for i in range(1, len(self_defined_path)):\n",
    "            start = np.array(pymatgen_kpath.kpath['kpoints'][self_defined_path[i - 1]])\n",
    "            end = np.array(pymatgen_kpath.kpath['kpoints'][self_defined_path[i]])\n",
    "            nb = line_density-1\n",
    "            print start\n",
    "            sym_point_labels.extend([self_defined_path[i - 1]] + [''] * (nb - 1) + [self_defined_path[i]])\n",
    "            list_k_points.extend(\n",
    "                    [start + float(i) / float(nb) * (end - start)\n",
    "                     for i in range(0, nb + 1)])\n",
    "        return list_k_points, sym_point_labels"
   ]
  },
  {
   "cell_type": "code",
   "execution_count": 43,
   "metadata": {
    "collapsed": false
   },
   "outputs": [
    {
     "data": {
      "text/plain": [
       "{u'kpoints': {u'A': array([ 0.5,  0.5,  0.5]),\n",
       "  u'M': array([ 0.5,  0.5,  0. ]),\n",
       "  u'R': array([ 0. ,  0.5,  0.5]),\n",
       "  u'X': array([ 0. ,  0.5,  0. ]),\n",
       "  u'Z': array([ 0. ,  0. ,  0.5]),\n",
       "  u'\\\\Gamma': array([ 0.,  0.,  0.])},\n",
       " u'path': [[u'\\\\Gamma', u'X', u'M', u'\\\\Gamma', u'Z', u'R', u'A', u'Z'],\n",
       "  [u'X', u'R'],\n",
       "  [u'M', u'A']]}"
      ]
     },
     "execution_count": 43,
     "metadata": {},
     "output_type": "execute_result"
    }
   ],
   "source": [
    "vr = Vasprun(\"/Users/yao/vasprun.xml\")\n",
    "s = vr.final_structure\n",
    "kpath = HighSymmKpath(s, symprec=0.01, angle_tolerance=5)\n",
    "#ibz.get_kpath_plot()\n",
    "kpath.kpath"
   ]
  },
  {
   "cell_type": "code",
   "execution_count": 44,
   "metadata": {
    "collapsed": true
   },
   "outputs": [],
   "source": [
    "path = [u'\\\\Gamma', u'X', u'M', u'Z', u'\\\\Gamma']  ##self defined\n",
    "kpoints_line_density = 10\n",
    "grid=[[4,4,4]]"
   ]
  },
  {
   "cell_type": "code",
   "execution_count": 45,
   "metadata": {
    "collapsed": false
   },
   "outputs": [],
   "source": [
    "kpts = []\n",
    "weights = []\n",
    "all_labels = []\n",
    "\n",
    "# include the Uniform mesh w/standard weights\n",
    "\n",
    "ir_kpts = SpacegroupAnalyzer(s, symprec=0.1)\\\n",
    "            .get_ir_reciprocal_mesh(grid[0])\n",
    "for k in ir_kpts:\n",
    "    kpts.append(k[0])\n",
    "    weights.append(int(k[1]))\n",
    "    all_labels.append(None)"
   ]
  },
  {
   "cell_type": "code",
   "execution_count": 46,
   "metadata": {
    "collapsed": false
   },
   "outputs": [
    {
     "name": "stdout",
     "output_type": "stream",
     "text": [
      "[ 0.  0.  0.]\n",
      "[ 0.   0.5  0. ]\n",
      "[ 0.5  0.5  0. ]\n",
      "[ 0.5  0.5  0.5]\n",
      "[ 0.   0.5  0.5]\n",
      "[ 0.   0.   0.5]\n"
     ]
    }
   ],
   "source": [
    "# for line mode only, add the symmetry lines w/zero weight\n",
    "\n",
    "frac_k_points, labels = get_kpoints(kpath, path, line_density=kpoints_line_density)\n",
    "\n",
    "for k in range(len(frac_k_points)):\n",
    "    kpts.append(frac_k_points[k])\n",
    "    weights.append(0.0)\n",
    "    all_labels.append(labels[k])\n",
    "\n",
    "comment = \"HSE run along symmetry lines\"\n",
    "\n",
    "\n",
    "kp = Kpoints(comment=comment,\n",
    "            style=Kpoints.supported_modes.Reciprocal,\n",
    "            num_kpts=len(kpts), kpts=kpts, kpts_weights=weights,\n",
    "            labels=all_labels)\n",
    "kp.write_file('/Users/yao/Desktop/KPOINTS')\n"
   ]
  },
  {
   "cell_type": "code",
   "execution_count": null,
   "metadata": {
    "collapsed": false
   },
   "outputs": [],
   "source": []
  },
  {
   "cell_type": "code",
   "execution_count": null,
   "metadata": {
    "collapsed": false
   },
   "outputs": [],
   "source": []
  },
  {
   "cell_type": "code",
   "execution_count": 47,
   "metadata": {
    "collapsed": false
   },
   "outputs": [
    {
     "data": {
      "text/plain": [
       "0.75"
      ]
     },
     "execution_count": 47,
     "metadata": {},
     "output_type": "execute_result"
    }
   ],
   "source": [
    "0.5**2*3"
   ]
  },
  {
   "cell_type": "code",
   "execution_count": 48,
   "metadata": {
    "collapsed": false
   },
   "outputs": [
    {
     "data": {
      "text/plain": [
       "0.125"
      ]
     },
     "execution_count": 48,
     "metadata": {},
     "output_type": "execute_result"
    }
   ],
   "source": [
    "0.25**2*2"
   ]
  },
  {
   "cell_type": "code",
   "execution_count": null,
   "metadata": {
    "collapsed": true
   },
   "outputs": [],
   "source": []
  }
 ],
 "metadata": {
  "kernelspec": {
   "display_name": "Python 2",
   "language": "python",
   "name": "python2"
  },
  "language_info": {
   "codemirror_mode": {
    "name": "ipython",
    "version": 2
   },
   "file_extension": ".py",
   "mimetype": "text/x-python",
   "name": "python",
   "nbconvert_exporter": "python",
   "pygments_lexer": "ipython2",
   "version": "2.7.9"
  }
 },
 "nbformat": 4,
 "nbformat_minor": 0
}
