{
 "cells": [
  {
   "cell_type": "code",
   "execution_count": 2,
   "metadata": {
    "collapsed": true
   },
   "outputs": [],
   "source": [
    "import numpy as np\n",
    "import matplotlib.pyplot as plt\n",
    "import glob\n",
    "\n",
    "def eigenvalue_parse(filename):\n",
    "    eig = []\n",
    "    transition_matrix = []\n",
    "    with open(filename,'r') as f:\n",
    "        for line in f:\n",
    "            if line.split()[0]!='#':\n",
    "                eig.append(float(line.split()[0]))\n",
    "                transition_matrix.append(float(line.split()[1]))\n",
    "    return eig, transition_matrix\n",
    "\n",
    "\n",
    "def eigenvalue_noeh_parse(filename):\n",
    "    ik = []\n",
    "    ic = []\n",
    "    iv = []\n",
    "    iss = []\n",
    "    ec = []\n",
    "    ev = []\n",
    "    eig = []\n",
    "    transition_matrix = []\n",
    "    with open(filename,'r') as f:\n",
    "        for line in f:\n",
    "            if line.split()[0]!='#':\n",
    "                ik.append(int(line.split()[0]))\n",
    "                ic.append(int(line.split()[1]))\n",
    "                iv.append(int(line.split()[2]))\n",
    "                iss.append(int(line.split()[3]))\n",
    "                ec.append(float(line.split()[4]))\n",
    "                ev.append(float(line.split()[5]))\n",
    "                eig.append(float(line.split()[6]))\n",
    "                transition_matrix.append(float(line.split()[7]))\n",
    "    return eig, transition_matrix"
   ]
  },
  {
   "cell_type": "code",
   "execution_count": 6,
   "metadata": {
    "collapsed": false
   },
   "outputs": [
    {
     "name": "stdout",
     "output_type": "stream",
     "text": [
      "1.616062062\n",
      "[(10, 1.433554), (12, 1.4309804), (14, 1.4295095), (16, 1.4283341)]\n",
      "(10, 12, 14, 16)\n",
      "(1.433554, 1.4309804, 1.4295095, 1.4283341)\n",
      "The errors are in meV:\n",
      "[5.219899999999944, 2.6462999999998793, 1.1753999999999376, 0.0]\n",
      "The exciton binding energyies are in meV:\n",
      "[182.5080619999999, 185.081662, 186.5525619999999, 187.72796199999985]\n"
     ]
    },
    {
     "name": "stderr",
     "output_type": "stream",
     "text": [
      "//anaconda/lib/python3.5/site-packages/matplotlib/axes/_axes.py:531: UserWarning: No labelled objects found. Use label='...' kwarg on individual plots.\n",
      "  warnings.warn(\"No labelled objects found. \"\n"
     ]
    },
    {
     "data": {
      "image/png": "[encoded data removed]",
      "text/plain": [
       "<matplotlib.figure.Figure at 0x10b616438>"
      ]
     },
     "metadata": {},
     "output_type": "display_data"
    }
   ],
   "source": [
    "#QP_gap = 3.253854615 #silicon\n",
    "#QP_gap = 2.545656-1.625454 #CsSnI3\n",
    "QP_gap = 1.183465058-(-0.432597004)#Cs2SnI6\n",
    "print(QP_gap)\n",
    "\n",
    "#directory = '/Users/yao/Google Drive/data/BGW-test/Si/convergence/Bands_fine/'\n",
    "#directory = '/Users/yao/Google Drive/data/BGW-test/Si/convergence/Bands_coarse/'\n",
    "#directory = '/Users/yao/Google Drive/data/BGW-test/Si/convergence/K_fine/'\n",
    "#directory = '/Users/yao/Google Drive/data/BGW-test/Si/convergence/K_coarse/'\n",
    "directory='/Users/yao/Google Drive/data/BGW-test/Cs2SnI6/convergence/K_fine/'\n",
    "filenames = glob.glob(directory+'eigenvalues.*')\n",
    "k_grid = []\n",
    "exciton_1 = []\n",
    "exciton_1_error = [] #in meV\n",
    "exciton_binding = []\n",
    "for filename in filenames:\n",
    "    eig, transition_matrix = eigenvalue_parse(filename)\n",
    "    k_grid.append(int(filename.split('.')[1]))\n",
    "    exciton_1.append(eig[0])\n",
    "    \n",
    "zipped = list(zip(k_grid, exciton_1))\n",
    "print(zipped)\n",
    "zipped.sort(key = lambda t: t[0])\n",
    "k_grid, exciton_1 = zip(*zipped)\n",
    "\n",
    "for i in range(len(exciton_1)):\n",
    "    exciton_1_error.append((exciton_1[i]-exciton_1[-1])*1000)\n",
    "    exciton_binding.append((QP_gap-exciton_1[i])*1000)\n",
    "    \n",
    "print(k_grid)\n",
    "print(exciton_1)\n",
    "print('The errors are in meV:')\n",
    "print(exciton_1_error)\n",
    "print('The exciton binding energyies are in meV:')\n",
    "print(exciton_binding)\n",
    "\n",
    "plt.plot(k_grid,exciton_binding,'o-')\n",
    "plt.ylim([180, 190])\n",
    "plt.legend()\n",
    "plt.xlabel('k-points')\n",
    "plt.ylabel('exciton binding energy(meV)')\n",
    "plt.savefig(directory+'exciton_convergence.eps')\n",
    "plt.show()"
   ]
  },
  {
   "cell_type": "code",
   "execution_count": 10,
   "metadata": {
    "collapsed": false
   },
   "outputs": [
    {
     "data": {
      "text/plain": [
       "2.5736000000000843"
      ]
     },
     "execution_count": 10,
     "metadata": {},
     "output_type": "execute_result"
    }
   ],
   "source": [
    "185.081662 - 182.5080619999999"
   ]
  },
  {
   "cell_type": "code",
   "execution_count": 11,
   "metadata": {
    "collapsed": false
   },
   "outputs": [
    {
     "data": {
      "text/plain": [
       "1.470899999999915"
      ]
     },
     "execution_count": 11,
     "metadata": {},
     "output_type": "execute_result"
    }
   ],
   "source": [
    "186.5525619999999 - 185.081662"
   ]
  },
  {
   "cell_type": "code",
   "execution_count": 12,
   "metadata": {
    "collapsed": false
   },
   "outputs": [
    {
     "data": {
      "text/plain": [
       "1.1753999999999394"
      ]
     },
     "execution_count": 12,
     "metadata": {},
     "output_type": "execute_result"
    }
   ],
   "source": [
    "187.72796199999985 - 186.5525619999999"
   ]
  },
  {
   "cell_type": "code",
   "execution_count": null,
   "metadata": {
    "collapsed": true
   },
   "outputs": [],
   "source": []
  }
 ],
 "metadata": {
  "anaconda-cloud": {},
  "kernelspec": {
   "display_name": "Python [conda root]",
   "language": "python",
   "name": "conda-root-py"
  },
  "language_info": {
   "codemirror_mode": {
    "name": "ipython",
    "version": 3
   },
   "file_extension": ".py",
   "mimetype": "text/x-python",
   "name": "python",
   "nbconvert_exporter": "python",
   "pygments_lexer": "ipython3",
   "version": "3.5.2"
  }
 },
 "nbformat": 4,
 "nbformat_minor": 1
}
