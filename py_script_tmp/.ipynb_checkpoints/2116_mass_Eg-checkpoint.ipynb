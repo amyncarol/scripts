{
 "metadata": {
  "name": "",
  "signature": "sha256:349d7b4748489d74f01949329c155aa05ebe06c3412f7126e001648b62274fb6"
 },
 "nbformat": 3,
 "nbformat_minor": 0,
 "worksheets": [
  {
   "cells": [
    {
     "cell_type": "code",
     "collapsed": false,
     "input": [
      "import numpy as np\n",
      "import matplotlib.pyplot as plt\n",
      "import matplotlib.cbook as cbook\n",
      "import re\n",
      "from matplotlib.pyplot import figure, show, axes, sci\n",
      "from matplotlib import cm, colors\n",
      "from matplotlib.font_manager import FontProperties\n",
      "from numpy import amin, amax, ravel\n",
      "import numpy.ma as ma"
     ],
     "language": "python",
     "metadata": {},
     "outputs": [],
     "prompt_number": 8
    },
    {
     "cell_type": "code",
     "collapsed": false,
     "input": [
      "Eg_file = open('/Users/yao/Google Drive/data/2116/Eg_Ag_-Ce','r')\n",
      "mass_file = open('/Users/yao/Google Drive/data/2116/mass_Ag_-Ce','r')"
     ],
     "language": "python",
     "metadata": {},
     "outputs": [],
     "prompt_number": 21
    },
    {
     "cell_type": "code",
     "collapsed": false,
     "input": [
      "Eg = []\n",
      "B = []\n",
      "lines = Eg_file.readlines()\n",
      "for line in lines:\n",
      "    match = re.match(r\"([a-z]+)([ ]+)([a-z]+)([ ]+)([a-z]+)([ ]+)([a-z]+)([ ]+)([0-9.]+)\", line, re.I)\n",
      "    if match:\n",
      "        items = match.groups()\n",
      "        Eg.append(float(items[8]))\n",
      "        B.append(items[4])"
     ],
     "language": "python",
     "metadata": {},
     "outputs": [],
     "prompt_number": 22
    },
    {
     "cell_type": "code",
     "collapsed": false,
     "input": [
      "B"
     ],
     "language": "python",
     "metadata": {},
     "outputs": [
      {
       "metadata": {},
       "output_type": "pyout",
       "prompt_number": 23,
       "text": [
        "['Bi',\n",
        " 'Bi',\n",
        " 'Bi',\n",
        " 'Bi',\n",
        " 'Sb',\n",
        " 'Sb',\n",
        " 'Sb',\n",
        " 'Sb',\n",
        " 'Pr',\n",
        " 'Pr',\n",
        " 'Pr',\n",
        " 'Pr',\n",
        " 'Nd',\n",
        " 'Nd',\n",
        " 'Nd',\n",
        " 'Nd',\n",
        " 'Ta',\n",
        " 'Ta',\n",
        " 'Ta',\n",
        " 'Ta',\n",
        " 'Mo',\n",
        " 'Mo',\n",
        " 'Mo',\n",
        " 'Mo',\n",
        " 'Y',\n",
        " 'Y',\n",
        " 'Y',\n",
        " 'Y',\n",
        " 'Bi',\n",
        " 'Bi',\n",
        " 'Bi',\n",
        " 'Bi',\n",
        " 'Sb',\n",
        " 'Sb',\n",
        " 'Sb',\n",
        " 'Sb',\n",
        " 'Pr',\n",
        " 'Pr',\n",
        " 'Pr',\n",
        " 'Pr',\n",
        " 'Nd',\n",
        " 'Nd',\n",
        " 'Nd',\n",
        " 'Nd',\n",
        " 'Ta',\n",
        " 'Ta',\n",
        " 'Ta',\n",
        " 'Ta',\n",
        " 'Mo',\n",
        " 'Mo',\n",
        " 'Mo',\n",
        " 'Mo',\n",
        " 'Y',\n",
        " 'Y',\n",
        " 'Y',\n",
        " 'Y',\n",
        " 'Bi',\n",
        " 'Bi',\n",
        " 'Bi',\n",
        " 'Bi',\n",
        " 'Sb',\n",
        " 'Sb',\n",
        " 'Sb',\n",
        " 'Sb',\n",
        " 'Pr',\n",
        " 'Pr',\n",
        " 'Pr',\n",
        " 'Pr',\n",
        " 'Nd',\n",
        " 'Nd',\n",
        " 'Nd',\n",
        " 'Nd',\n",
        " 'Ta',\n",
        " 'Ta',\n",
        " 'Ta',\n",
        " 'Ta',\n",
        " 'Mo',\n",
        " 'Mo',\n",
        " 'Mo',\n",
        " 'Mo',\n",
        " 'Y',\n",
        " 'Y',\n",
        " 'Y',\n",
        " 'Y']"
       ]
      }
     ],
     "prompt_number": 23
    },
    {
     "cell_type": "code",
     "collapsed": false,
     "input": [
      "mass_e = []\n",
      "mass_h = []\n",
      "lines = mass_file.readlines()\n",
      "for line in lines:\n",
      "    match = re.match(r\"([a-z]+)([ ]+)([a-z]+)([ ]+)([a-z]+)([ ]+)([a-z]+)([ ]+)([0-9.]+)([ ]+)([0-9.]+)\", line, re.I)\n",
      "    if match:\n",
      "        items = match.groups()\n",
      "        mass_e.append(float(items[8]))\n",
      "        mass_h.append(float(items[10]))"
     ],
     "language": "python",
     "metadata": {},
     "outputs": [],
     "prompt_number": 24
    },
    {
     "cell_type": "code",
     "collapsed": false,
     "input": [],
     "language": "python",
     "metadata": {},
     "outputs": []
    },
    {
     "cell_type": "code",
     "collapsed": false,
     "input": [
      "masked_Eg = ma.masked_where(mass_e>999, Eg)\n",
      "masked_e = ma.masked_where(mass_e>999, mass_e)\n",
      "masked_h = ma.masked_where(mass_e>999, mass_h)"
     ],
     "language": "python",
     "metadata": {},
     "outputs": [],
     "prompt_number": 30
    },
    {
     "cell_type": "code",
     "collapsed": false,
     "input": [],
     "language": "python",
     "metadata": {},
     "outputs": [
      {
       "metadata": {},
       "output_type": "pyout",
       "prompt_number": 31,
       "text": [
        "masked_array(data = --,\n",
        "             mask = True,\n",
        "       fill_value = 1e+20)"
       ]
      }
     ],
     "prompt_number": 31
    },
    {
     "cell_type": "code",
     "collapsed": false,
     "input": [
      "for i in range(0, len(Eg)):\n",
      "    if B[i] == 'Bi':\n",
      "        plt.plot(Eg[i], mass_h[i],'co',label = 'A2AgBiX6')\n",
      "    elif B[i] == 'Sb':\n",
      "        plt.plot(Eg[i], mass_h[i],'ro',label = 'A2AgSbX6')\n",
      "    elif B[i] == 'Pr':\n",
      "        plt.plot(Eg[i], mass_h[i],'go',label = 'A2AgPrX6')\n",
      "    elif B[i] == 'Nd':\n",
      "        plt.plot(Eg[i], mass_h[i],'mo',label = 'A2AgNdX6')\n",
      "    elif B[i] == 'Ta':\n",
      "        plt.plot(Eg[i], mass_h[i],'yo',label = 'A2AgTaX6')\n",
      "    elif B[i] == 'Mo':\n",
      "        plt.plot(Eg[i], mass_h[i],'ko',label = 'A2AgMoX6')\n",
      "    elif B[i] == 'Y':\n",
      "        plt.plot(Eg[i], mass_h[i],'bo',label = 'A2AgYX6')\n",
      "plt.show()\n"
     ],
     "language": "python",
     "metadata": {},
     "outputs": [],
     "prompt_number": 34
    },
    {
     "cell_type": "code",
     "collapsed": false,
     "input": [],
     "language": "python",
     "metadata": {},
     "outputs": [
      {
       "metadata": {},
       "output_type": "pyout",
       "prompt_number": 14,
       "text": [
        "84"
       ]
      }
     ],
     "prompt_number": 14
    },
    {
     "cell_type": "code",
     "collapsed": false,
     "input": [],
     "language": "python",
     "metadata": {},
     "outputs": []
    }
   ],
   "metadata": {}
  }
 ]
}