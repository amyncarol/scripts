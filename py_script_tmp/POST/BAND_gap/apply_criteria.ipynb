{
 "metadata": {
  "name": "",
  "signature": "sha256:641867875e6a04f95b35375ec96fd6556d75e369bec71415b0e29c23c6120db6"
 },
 "nbformat": 3,
 "nbformat_minor": 0,
 "worksheets": [
  {
   "cells": [
    {
     "cell_type": "code",
     "collapsed": false,
     "input": [
      "import numpy as np\n",
      "import matplotlib.pyplot as plt\n",
      "import matplotlib.cbook as cbook\n",
      "import re\n",
      "from matplotlib.pyplot import figure, show, axes, sci\n",
      "from matplotlib import cm, colors\n",
      "from matplotlib.font_manager import FontProperties\n",
      "from numpy import amin, amax, ravel\n",
      "import numpy.ma as ma"
     ],
     "language": "python",
     "metadata": {},
     "outputs": [],
     "prompt_number": 6
    },
    {
     "cell_type": "code",
     "collapsed": false,
     "input": [
      "with open('/Users/yao/Google Drive/data/216/Hull_paper', 'r') as f:\n",
      "    hull = []\n",
      "    for line in f:\n",
      "        hull.append(float(line.split()[3]))      "
     ],
     "language": "python",
     "metadata": {},
     "outputs": [
      {
       "metadata": {},
       "output_type": "pyout",
       "prompt_number": 12,
       "text": [
        "108"
       ]
      }
     ],
     "prompt_number": 12
    },
    {
     "cell_type": "code",
     "collapsed": false,
     "input": [
      "with open('/Users/yao/Google Drive/data/216/Eg_paper', 'r') as f:\n",
      "    Eg = []\n",
      "    compounds = []\n",
      "    for line in f:\n",
      "        compounds.append([line.split()[0], line.split()[1], line.split()[2]])\n",
      "        Eg.append(float(line.split()[3]))"
     ],
     "language": "python",
     "metadata": {},
     "outputs": [
      {
       "metadata": {},
       "output_type": "pyout",
       "prompt_number": 14,
       "text": [
        "108"
       ]
      }
     ],
     "prompt_number": 14
    },
    {
     "cell_type": "code",
     "collapsed": false,
     "input": [
      "with open('/Users/yao/Google Drive/data/216/mass_paper', 'r') as f:\n",
      "    mass_e = []\n",
      "    mass_h = []\n",
      "    for line in f:\n",
      "        mass_e.append(float(line.split()[3]))\n",
      "        mass_h.append(float(line.split()[4]))"
     ],
     "language": "python",
     "metadata": {},
     "outputs": [],
     "prompt_number": 19
    },
    {
     "cell_type": "code",
     "collapsed": false,
     "input": [
      "for i in np.arange(len(Eg)):\n",
      "    if Eg[i]<1.0 and Eg[i]>0.15 and hull[i]<0.03 and mass_e[i]<1.5 and mass_h[i]<1.5:\n",
      "        print '{0}2{1}{2}6 {3} {4} {5} {6}'.format(compounds[i][0],compounds[i][1], compounds[i][2], Eg[i],hull[i],mass_e[i],mass_h[i])\n",
      "        "
     ],
     "language": "python",
     "metadata": {},
     "outputs": [
      {
       "output_type": "stream",
       "stream": "stdout",
       "text": [
        "K2SeI6 0.7158 0.0262357557118 0.297567603321 1.15098941104\n",
        "K2PtI6 0.4242 0.0127316972222 0.414608805924 1.13738621933\n",
        "K2TcI6 0.5393 0.0151729666667 1.29479532724 1.17513637624\n",
        "Rb2SnI6 0.1534 0.0129753920833 0.397989436645 1.34319327248\n",
        "Rb2SeI6 0.8017 0.0273683423785 0.322454379898 1.22975621238\n",
        "Rb2PtI6 0.5144 0.0 0.455711346321 1.23508118901\n",
        "Rb2TcI6 0.6035 0.0 1.48244331549 1.2665817597\n",
        "Cs2SnI6 0.2883 0.0 0.441913832296 1.49495099942\n",
        "Cs2SeI6 0.9449 0.0206403318229 0.374946167115 1.39486494041\n",
        "Cs2PdI6 0.1536 0.00536918972222 0.490888585129 1.33299006305\n",
        "Cs2PtI6 0.6561 0.0 0.531756577768 1.43364345397\n"
       ]
      }
     ],
     "prompt_number": 23
    },
    {
     "cell_type": "code",
     "collapsed": false,
     "input": [],
     "language": "python",
     "metadata": {},
     "outputs": []
    }
   ],
   "metadata": {}
  }
 ]
}