{
 "metadata": {
  "name": "",
  "signature": "sha256:a126a8625f87336d4c973aa3899de6a043e3959e6ce090d580d13641fcc6df54"
 },
 "nbformat": 3,
 "nbformat_minor": 0,
 "worksheets": [
  {
   "cells": [
    {
     "cell_type": "code",
     "collapsed": false,
     "input": [
      "import numpy as np\n",
      "import matplotlib.pyplot as plt\n",
      "import re"
     ],
     "language": "python",
     "metadata": {},
     "outputs": [],
     "prompt_number": 8
    },
    {
     "cell_type": "code",
     "collapsed": false,
     "input": [
      "metaGGA_Eg = open('metaGGA_Eg', 'r')\n",
      "PBE_Eg = open('PBE_Eg', 'r')"
     ],
     "language": "python",
     "metadata": {},
     "outputs": [],
     "prompt_number": 9
    },
    {
     "cell_type": "code",
     "collapsed": false,
     "input": [
      "metaGGA_line = metaGGA_Eg.readlines()\n",
      "PBE_line = PBE_Eg.readlines()"
     ],
     "language": "python",
     "metadata": {},
     "outputs": [],
     "prompt_number": 10
    },
    {
     "cell_type": "code",
     "collapsed": false,
     "input": [
      "metaGGA_key = []\n",
      "metaGGA_value = []\n",
      "for line in metaGGA_line:\n",
      "    match = re.match(r\"([a-z]+)([ ]+)([a-z]+)([ ]+)([a-z]+)([ ]+)([0-9.]+)\", line, re.I)\n",
      "    if match:\n",
      "        items = match.groups()\n",
      "        metaGGA_key.append(items[0]+'2'+items[2]+'1'+items[4]+'6')\n",
      "        metaGGA_value.append(items[6])"
     ],
     "language": "python",
     "metadata": {},
     "outputs": [],
     "prompt_number": 11
    },
    {
     "cell_type": "code",
     "collapsed": false,
     "input": [
      "PBE_value = []\n",
      "i = 0\n",
      "for line in PBE_line:\n",
      "    match = re.match(r\"([a-z]+)([ ]+)([a-z]+)([ ]+)([a-z]+)([ ]+)([0-9.]+)\", line, re.I)\n",
      "    if match:\n",
      "        items = match.groups()\n",
      "        if i < len(metaGGA_key):\n",
      "            if metaGGA_key[i] == (items[0]+'2'+items[2]+'1'+items[4]+'6'):\n",
      "                PBE_value.append(items[6])\n",
      "                i = i+1"
     ],
     "language": "python",
     "metadata": {},
     "outputs": [],
     "prompt_number": 12
    },
    {
     "cell_type": "code",
     "collapsed": false,
     "input": [
      "x_pos = np.arange(len(metaGGA_key))"
     ],
     "language": "python",
     "metadata": {},
     "outputs": [],
     "prompt_number": 13
    },
    {
     "cell_type": "code",
     "collapsed": false,
     "input": [
      "plt.plot(x_pos, metaGGA_value, label ='metaGGA_MBJ' )\n",
      "plt.plot(x_pos, PBE_value, label = 'PBE')\n",
      "plt.legend()\n",
      "plt.xticks(x_pos, metaGGA_key, rotation=90)\n",
      "plt.show()\n"
     ],
     "language": "python",
     "metadata": {},
     "outputs": [],
     "prompt_number": 14
    },
    {
     "cell_type": "code",
     "collapsed": false,
     "input": [
      "diff = []\n",
      "for i in range(len(metaGGA_key)):\n",
      "    diff.append(float(metaGGA_value[i]) - float(PBE_value[i]))\n",
      "plt.plot(x_pos, diff, label = 'metaGGA-PBE')\n",
      "plt.legend()\n",
      "plt.xticks(x_pos, metaGGA_key, rotation=90)\n",
      "line = []\n",
      "for i in range(len(metaGGA_key)):\n",
      "    line.append(0)\n",
      "plt.plot(x_pos, line)\n",
      "plt.show()"
     ],
     "language": "python",
     "metadata": {},
     "outputs": []
    },
    {
     "cell_type": "code",
     "collapsed": false,
     "input": [],
     "language": "python",
     "metadata": {},
     "outputs": []
    }
   ],
   "metadata": {}
  }
 ]
}