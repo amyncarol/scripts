{
 "cells": [
  {
   "cell_type": "code",
   "execution_count": 8,
   "metadata": {
    "collapsed": false
   },
   "outputs": [],
   "source": [
    "import os\n",
    "import fileinput\n",
    "import sys\n",
    "import re\n",
    "import string\n",
    "import shutil\n",
    "from pymatgen.io.vaspio.vasp_output import Vasprun\n",
    "from pymatgen.io.vaspio.vasp_input import Poscar\n",
    "from pymatgen.core.periodic_table import Element\n",
    "from  pymatgen.io.vaspio_set import MPVaspInputSet\n",
    "from pymatgen.core.surface import Slab\n",
    "from pymatgen.core.surface import SlabGenerator\n",
    "from pymatgen.io.cifio import CifParser\n",
    "from pymatgen.core.surface import generate_all_slabs"
   ]
  },
  {
   "cell_type": "code",
   "execution_count": 9,
   "metadata": {
    "collapsed": false
   },
   "outputs": [],
   "source": [
    "pos = Poscar.from_file('/Users/yao/Google Drive/data/CsSnI3/bulk/POSCAR')\n",
    "structure = pos.structure"
   ]
  },
  {
   "cell_type": "code",
   "execution_count": 14,
   "metadata": {
    "collapsed": false
   },
   "outputs": [],
   "source": [
    "slabG = SlabGenerator(structure, [1,2,0], 25.6, 25.6,center_slab=True, lll_reduce=True, primitive=False)\n",
    "slabList = slabG.get_slabs(bonds={('Sn','I'):5,('I','I'):5}, tol=3.2, max_broken_bonds=100)\n",
    "slab = slabList[0]"
   ]
  },
  {
   "cell_type": "code",
   "execution_count": 15,
   "metadata": {
    "collapsed": false
   },
   "outputs": [],
   "source": [
    "pos = Poscar(slab)\n",
    "pos.write_file('/Users/yao/Google Drive/data/CsSnI3/120_POSCAR.vasp')"
   ]
  },
  {
   "cell_type": "code",
   "execution_count": 132,
   "metadata": {
    "collapsed": false
   },
   "outputs": [],
   "source": []
  },
  {
   "cell_type": "code",
   "execution_count": 132,
   "metadata": {
    "collapsed": false
   },
   "outputs": [],
   "source": []
  },
  {
   "cell_type": "code",
   "execution_count": 132,
   "metadata": {
    "collapsed": false
   },
   "outputs": [],
   "source": []
  }
 ],
 "metadata": {
  "kernelspec": {
   "display_name": "Python [default]",
   "language": "python",
   "name": "python3"
  },
  "language_info": {
   "codemirror_mode": {
    "name": "ipython",
    "version": 3
   },
   "file_extension": ".py",
   "mimetype": "text/x-python",
   "name": "python",
   "nbconvert_exporter": "python",
   "pygments_lexer": "ipython3",
   "version": "3.5.2"
  }
 },
 "nbformat": 4,
 "nbformat_minor": 0
}
