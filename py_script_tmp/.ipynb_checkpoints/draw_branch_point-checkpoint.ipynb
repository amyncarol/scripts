{
 "metadata": {
  "name": "",
  "signature": "sha256:6f03e524849fa2f6d1c421014465411943f265fba3240ce64b0e9156d3ad03a1"
 },
 "nbformat": 3,
 "nbformat_minor": 0,
 "worksheets": [
  {
   "cells": [
    {
     "cell_type": "code",
     "collapsed": false,
     "input": [
      "import numpy as np\n",
      "import matplotlib.pyplot as plt\n",
      "import matplotlib.cbook as cbook\n",
      "import re\n",
      "from matplotlib.pyplot import figure, show, axes, sci\n",
      "from matplotlib import cm, colors\n",
      "from matplotlib.font_manager import FontProperties\n",
      "from numpy import amin, amax, ravel"
     ],
     "language": "python",
     "metadata": {},
     "outputs": [],
     "prompt_number": 55
    },
    {
     "cell_type": "code",
     "collapsed": false,
     "input": [
      "results = open('/Users/yao/Desktop/results','r')"
     ],
     "language": "python",
     "metadata": {},
     "outputs": [],
     "prompt_number": 56
    },
    {
     "cell_type": "code",
     "collapsed": false,
     "input": [
      "data = []\n",
      "vbm = []\n",
      "cbm = []\n",
      "bandgap = []\n",
      "ebp = []\n",
      "ebp_position = []\n",
      "lines = results.readlines()\n",
      "for line in lines:\n",
      "    match = re.match(r\"(mp-[0-9]+)([ ]+)([0-9.\\-]+)([ ]+)([0-9.\\-]+)([ ]+)([0-9.\\-]+)([ ]+)([0-9.\\-]+)([ ]+)([0-9.\\-]+)\", line, re.I)\n",
      "    if match:\n",
      "        items = match.groups()\n",
      "        data.append({items[0]:[items[2],items[4],items[6],items[8],items[10]]})\n",
      "        vbm.append(items[2])\n",
      "        cbm.append(items[4])\n",
      "        bandgap.append(items[6])\n",
      "        ebp.append(items[8])\n",
      "        ebp_position.append(items[10])"
     ],
     "language": "python",
     "metadata": {},
     "outputs": [],
     "prompt_number": 57
    },
    {
     "cell_type": "code",
     "collapsed": false,
     "input": [],
     "language": "python",
     "metadata": {},
     "outputs": [],
     "prompt_number": 57
    },
    {
     "cell_type": "code",
     "collapsed": false,
     "input": [
      "plt.plot(np.arange(len(data)), bandgap, 'o')\n",
      "plt.show()\n",
      "    "
     ],
     "language": "python",
     "metadata": {},
     "outputs": [],
     "prompt_number": 58
    },
    {
     "cell_type": "code",
     "collapsed": false,
     "input": [],
     "language": "python",
     "metadata": {},
     "outputs": [],
     "prompt_number": 58
    }
   ],
   "metadata": {}
  }
 ]
}