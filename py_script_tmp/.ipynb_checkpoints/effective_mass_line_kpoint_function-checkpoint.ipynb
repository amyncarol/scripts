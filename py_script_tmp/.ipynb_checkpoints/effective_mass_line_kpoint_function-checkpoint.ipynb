{
 "cells": [
  {
   "cell_type": "code",
   "execution_count": 225,
   "metadata": {
    "collapsed": false
   },
   "outputs": [],
   "source": [
    "from pymatgen.io.vasp.outputs import Vasprun\n",
    "import numpy as np\n",
    "from scipy.optimize import curve_fit\n",
    "import matplotlib.pyplot as plt\n",
    "from numpy.linalg import norm\n",
    "from pymatgen.electronic_structure.core import Spin\n",
    "from math import pi\n",
    "from pymatgen.core.physical_constants import e,h\n",
    "import pymatgen.core.physical_constants\n",
    "h_bar = h/2/pi\n",
    "e_mass = 9.10938356 * 10**(-31)\n"
   ]
  },
  {
   "cell_type": "code",
   "execution_count": 226,
   "metadata": {
    "collapsed": false
   },
   "outputs": [],
   "source": [
    "def effective_mass(vasprun, line_density, relative_band_index, kpoints_list_requested):\n",
    "    \"\"\"\n",
    "    calculate effective mass from band structure, import include vasprun.xml, line_density of kpoints line, \n",
    "    band index of requested band relative to VBM, list of kpoints index requested\n",
    "    this function is just for testing and far from automatic\n",
    "    \"\"\"\n",
    "    v = vasprun\n",
    "    vbm_band_index = len(filter(lambda u:u[1]!=0, v.eigenvalues[(Spin.up, 0)])) - 1\n",
    "    band_index = vbm_band_index + relative_band_index\n",
    "    a = v.structures[0].lattice.a * 10**(-10)\n",
    "    a_star = 2*pi/a\n",
    "    constant = (h_bar*a_star)**2/e/e_mass\n",
    "    \n",
    "    kgrid = line_density\n",
    "    kpoints = v.actual_kpoints\n",
    "    data = np.zeros((len(kpoints),9))\n",
    "    addup = 0\n",
    "    for j in range(len(kpoints)/kgrid):\n",
    "        kstart = kgrid*j\n",
    "        for i in np.arange(kgrid):\n",
    "            data[kstart+i][0] = kpoints[kstart+i][0] #kx\n",
    "            data[kstart+i][1] = kpoints[kstart+i][1] #ky\n",
    "            data[kstart+i][2] = kpoints[kstart+i][2] #kz\n",
    "            data[kstart+i][3] = norm(data[kstart+i][0:3]-data[kstart][0:3]) #k-norm for calculating\n",
    "            data[kstart+i][4] = v.eigenvalues[(Spin.up,kstart+i)][band_index][0] #energy\n",
    "            data[kstart+i][7] = data[kstart+i][3] + addup #k for drawing\n",
    "        addup = addup + data[kstart+kgrid-1][3]\n",
    "        kpoints_line = data[kstart:kstart+kgrid,3]\n",
    "        energy_line = data[kstart:kstart+kgrid,4]\n",
    "        dedk_line = np.gradient(energy_line, edge_order=2)/np.gradient(kpoints_line)\n",
    "        d2edk2_line = np.gradient(dedk_line, edge_order=2)/np.gradient(kpoints_line)\n",
    "        data[kstart:kstart+kgrid,5] = dedk_line  #first_derivative \n",
    "        data[kstart:kstart+kgrid,6] = d2edk2_line #second_derivative\n",
    "    data[:,8] = constant/data[:,6]  #effective mass\n",
    "    \n",
    "    effective_mass_requested = []\n",
    "    for i in kpoints_list_requested:\n",
    "        effective_mass_requested.append(data[i,8])\n",
    "    return effective_mass_requested"
   ]
  },
  {
   "cell_type": "code",
   "execution_count": 232,
   "metadata": {
    "collapsed": false
   },
   "outputs": [
    {
     "name": "stdout",
     "output_type": "stream",
     "text": [
      "[-0.12209453387142055, -0.086889772527425538]\n",
      "[0.2105106153954571, 0.76778962633332903]\n",
      "[0.2105106153954571, 0.76778962633332903]\n",
      "[0.1209983651814583, 0.053305263125889117]\n"
     ]
    }
   ],
   "source": [
    "if __name__ == '__main__':\n",
    "    v = Vasprun('/Users/yao/Google Drive/data/113/CsSnI3/bulk/vasprun.xml')\n",
    "    print effective_mass(v, 20, 0, [79,119])\n",
    "    print effective_mass(v, 20, 1, [79,119])\n",
    "    print effective_mass(v, 20, 2, [79,119])\n",
    "    print effective_mass(v, 20, 3, [79,119])\n",
    "    v = Vasprun('/Users/yao/Google Drive/data/113/CsSnBr3/vasprun.xml')\n",
    "    print effective_mass(v, 20, 0, [79,119])\n",
    "    print effective_mass(v, 20, 1, [79,119])\n",
    "    print effective_mass(v, 20, 2, [79,119])\n",
    "    print effective_mass(v, 20, 3, [79,119])"
   ]
  },
  {
   "cell_type": "code",
   "execution_count": 228,
   "metadata": {
    "collapsed": false
   },
   "outputs": [],
   "source": [
    "#plotstart=60\n",
    "#plotend=120\n",
    "#plt.plot(data[plotstart:plotend,7], data[plotstart:plotend,4],label='energy')\n",
    "#plt.plot(data[plotstart:plotend,7], data[plotstart:plotend,5], label='dedk')\n",
    "#plt.plot(data[plotstart:plotend,7], data[plotstart:plotend,6], label='d2edk2')\n",
    "#plt.legend()\n",
    "#plt.show()"
   ]
  },
  {
   "cell_type": "code",
   "execution_count": 229,
   "metadata": {
    "collapsed": false
   },
   "outputs": [],
   "source": [
    "#curve fit\n",
    "#def curve(x, a, b):\n",
    "#    return a * x**2 + b\n",
    "#for kstop in range(2,20):\n",
    "#    kpoints = data[:kstop,3]\n",
    "#    energy = data[:kstop,4]\n",
    "#    coefficients, pcov = curve_fit(curve, kpoints, energy)\n",
    "#   print coefficients\n",
    "#    kpoints_dense = np.linspace(0, 0.7, 100)\n",
    "#    plt.plot(kpoints_dense, curve(kpoints_dense, coefficients[0], coefficients[1]), label=str(kstop))\n",
    "#plt.plot(kpoints, energy, label='energy')\n",
    "#plt.legend()\n",
    "#plt.show()"
   ]
  }
 ],
 "metadata": {
  "kernelspec": {
   "display_name": "Python 2",
   "language": "python",
   "name": "python2"
  },
  "language_info": {
   "codemirror_mode": {
    "name": "ipython",
    "version": 2
   },
   "file_extension": ".py",
   "mimetype": "text/x-python",
   "name": "python",
   "nbconvert_exporter": "python",
   "pygments_lexer": "ipython2",
   "version": "2.7.9"
  }
 },
 "nbformat": 4,
 "nbformat_minor": 0
}
