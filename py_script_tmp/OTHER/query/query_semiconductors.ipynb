{
 "cells": [
  {
   "cell_type": "code",
   "execution_count": 2,
   "metadata": {
    "collapsed": false
   },
   "outputs": [],
   "source": [
    "from pymatgen.matproj.rest import MPRester\n",
    "import os\n",
    "from pymatgen.core.periodic_table import Element\n",
    "import json\n",
    "\n",
    "from pandas import DataFrame\n",
    "import pandas as pd\n",
    "def print_full(x):\n",
    "    pd.set_option('display.max_rows', len(x))\n",
    "    print(x)"
   ]
  },
  {
   "cell_type": "code",
   "execution_count": 3,
   "metadata": {
    "collapsed": false
   },
   "outputs": [],
   "source": [
    "with MPRester(os.environ['MAPI_KEY']) as m:\n",
    "    results = []\n",
    "    result = m.query(criteria={\"band_gap\": {\"$lt\": 1.0, \"$gt\": 0.3}}, properties=[\"pretty_formula\", \n",
    "                                                                                         \"spacegroup.symbol\",\n",
    "                                                                                         \"nsites\",\n",
    "                                                                                         \"icsd_id\",\n",
    "                                                                                         \"e_above_hull\",\n",
    "                                                                                         \"band_gap\",\n",
    "                                                                                         \"task_id\",\n",
    "                                                                                        ])\n",
    "    if len(result)!=0:\n",
    "            for i in result:\n",
    "                results.append(i)"
   ]
  },
  {
   "cell_type": "code",
   "execution_count": 4,
   "metadata": {
    "collapsed": false
   },
   "outputs": [
    {
     "data": {
      "text/plain": [
       "6670"
      ]
     },
     "execution_count": 4,
     "metadata": {},
     "output_type": "execute_result"
    }
   ],
   "source": [
    "len(results)"
   ]
  },
  {
   "cell_type": "code",
   "execution_count": 5,
   "metadata": {
    "collapsed": true
   },
   "outputs": [],
   "source": [
    "with open('1.json', 'w') as outfile:\n",
    "    json.dump(results, outfile)"
   ]
  },
  {
   "cell_type": "code",
   "execution_count": null,
   "metadata": {
    "collapsed": false
   },
   "outputs": [
    {
     "name": "stdout",
     "output_type": "stream",
     "text": [
      "mp-7188 Al2Os 1.5669999999999993 3.6638\n",
      "mp-559676 SnS 2.6645999999999996 3.2641999999999998\n",
      "mp-558481 ZnGaNO 1.9394999999999998 4.7539\n",
      "mp-9383 SrHfN2 1.5669 3.216199999999999\n",
      "mp-775528 Na2MnO2 0.36450000000000005 3.3697\n",
      "mp-758070 LiCu2PO4 0.2054999999999998 3.7802\n",
      "mp-571386 CuCl 1.5813999999999995 4.3759\n",
      "mp-676561 Ag3SI 1.0854000000000001 4.033899999999999\n",
      "mp-644497 BaTiO3 1.0311 3.1375\n",
      "mp-2612 GeTe 3.4960000000000004 3.332700000000001\n",
      "mp-550437 GdTe2ClO5 0.6909000000000001 3.2845000000000004\n",
      "mp-4366 Na2PtC2 1.4592999999999998 3.6562\n",
      "mp-3163 BaSnO3 0.9683999999999999 5.890000000000001\n",
      "mp-9146 CdHgO2 1.1443 3.5592999999999995\n"
     ]
    }
   ],
   "source": [
    "Fail_log = open ('Fail.log','w')\n",
    "for material in results:\n",
    "    mpid = material['task_id']\n",
    "    try:\n",
    "        v_index, c_index, v_dispersion, c_dispersion = band_info(mpid)\n",
    "        material['v_index'] = v_index\n",
    "        material['c_index'] = c_index\n",
    "        material['v_dispersion'] = v_dispersion\n",
    "        material['c_dispersion'] = c_dispersion\n",
    "        if v_dispersion>3 or c_dispersion>3:\n",
    "            print(mpid, material['pretty_formula'], v_dispersion, c_dispersion)\n",
    "    except:\n",
    "        Fail_log.write(mpid+' '+material['pretty_formula']+'\\n')"
   ]
  },
  {
   "cell_type": "code",
   "execution_count": null,
   "metadata": {
    "collapsed": true
   },
   "outputs": [],
   "source": [
    "with open('2.json', 'w') as outfile:\n",
    "    json.dump(results, outfile)"
   ]
  },
  {
   "cell_type": "code",
   "execution_count": 11,
   "metadata": {
    "collapsed": false
   },
   "outputs": [],
   "source": [
    "def band_info(mpid):\n",
    "    bs = m.get_bandstructure_by_material_id(mpid)\n",
    "    #print(bs.get_band_gap())\n",
    "    #print(bs.get_vbm())\n",
    "    #print(bs.get_cbm())\n",
    "    v_index = list(bs.get_vbm()['band_index'].values())[-1][-1]\n",
    "    c_index = list(bs.get_cbm()['band_index'].values())[-1][0]\n",
    "    bands_v = bs.as_dict()['bands']['1'][v_index]\n",
    "    bands_c = bs.as_dict()['bands']['1'][c_index]\n",
    "    v_dispersion = max(bands_v)-min(bands_v)\n",
    "    c_dispersion = max(bands_c)-min(bands_c)\n",
    "    #print(v_index, max(bands_v)-min(bands_v))\n",
    "    #print(c_index, max(bands_c)-min(bands_c))\n",
    "    return v_index, c_index, v_dispersion, c_dispersion\n",
    "\n"
   ]
  },
  {
   "cell_type": "code",
   "execution_count": 27,
   "metadata": {
    "collapsed": false
   },
   "outputs": [
    {
     "data": {
      "text/plain": [
       "164"
      ]
     },
     "execution_count": 27,
     "metadata": {},
     "output_type": "execute_result"
    }
   ],
   "source": [
    "len(bs.as_dict()['kpoints'])"
   ]
  },
  {
   "cell_type": "code",
   "execution_count": 71,
   "metadata": {
    "collapsed": false
   },
   "outputs": [
    {
     "ename": "AttributeError",
     "evalue": "'list' object has no attribute 'values'",
     "output_type": "error",
     "traceback": [
      "\u001b[0;31m---------------------------------------------------------------------------\u001b[0m",
      "\u001b[0;31mAttributeError\u001b[0m                            Traceback (most recent call last)",
      "\u001b[0;32m<ipython-input-71-f8771c12bba8>\u001b[0m in \u001b[0;36m<module>\u001b[0;34m()\u001b[0m\n\u001b[1;32m      3\u001b[0m \u001b[0;31m#print(bs.get_vbm())\u001b[0m\u001b[0;34m\u001b[0m\u001b[0;34m\u001b[0m\u001b[0m\n\u001b[1;32m      4\u001b[0m \u001b[0;31m#print(bs.get_cbm())\u001b[0m\u001b[0;34m\u001b[0m\u001b[0;34m\u001b[0m\u001b[0m\n\u001b[0;32m----> 5\u001b[0;31m \u001b[0mv_index\u001b[0m \u001b[0;34m=\u001b[0m \u001b[0mlist\u001b[0m\u001b[0;34m(\u001b[0m\u001b[0mbs\u001b[0m\u001b[0;34m.\u001b[0m\u001b[0mget_vbm\u001b[0m\u001b[0;34m(\u001b[0m\u001b[0;34m)\u001b[0m\u001b[0;34m[\u001b[0m\u001b[0;34m'band_index'\u001b[0m\u001b[0;34m]\u001b[0m\u001b[0;34m.\u001b[0m\u001b[0mvalues\u001b[0m\u001b[0;34m(\u001b[0m\u001b[0;34m)\u001b[0m\u001b[0;34m)\u001b[0m\u001b[0;34m[\u001b[0m\u001b[0;34m-\u001b[0m\u001b[0;36m1\u001b[0m\u001b[0;34m]\u001b[0m\u001b[0;34m[\u001b[0m\u001b[0;34m-\u001b[0m\u001b[0;36m1\u001b[0m\u001b[0;34m]\u001b[0m\u001b[0;34m\u001b[0m\u001b[0m\n\u001b[0m\u001b[1;32m      6\u001b[0m \u001b[0mc_index\u001b[0m \u001b[0;34m=\u001b[0m \u001b[0mlist\u001b[0m\u001b[0;34m(\u001b[0m\u001b[0mbs\u001b[0m\u001b[0;34m.\u001b[0m\u001b[0mget_cbm\u001b[0m\u001b[0;34m(\u001b[0m\u001b[0;34m)\u001b[0m\u001b[0;34m[\u001b[0m\u001b[0;34m'band_index'\u001b[0m\u001b[0;34m]\u001b[0m\u001b[0;34m.\u001b[0m\u001b[0mvalues\u001b[0m\u001b[0;34m(\u001b[0m\u001b[0;34m)\u001b[0m\u001b[0;34m)\u001b[0m\u001b[0;34m[\u001b[0m\u001b[0;34m-\u001b[0m\u001b[0;36m1\u001b[0m\u001b[0;34m]\u001b[0m\u001b[0;34m[\u001b[0m\u001b[0;36m0\u001b[0m\u001b[0;34m]\u001b[0m\u001b[0;34m\u001b[0m\u001b[0m\n\u001b[1;32m      7\u001b[0m \u001b[0mbands_v\u001b[0m \u001b[0;34m=\u001b[0m \u001b[0mbs\u001b[0m\u001b[0;34m.\u001b[0m\u001b[0mas_dict\u001b[0m\u001b[0;34m(\u001b[0m\u001b[0;34m)\u001b[0m\u001b[0;34m[\u001b[0m\u001b[0;34m'bands'\u001b[0m\u001b[0;34m]\u001b[0m\u001b[0;34m[\u001b[0m\u001b[0;34m'1'\u001b[0m\u001b[0;34m]\u001b[0m\u001b[0;34m[\u001b[0m\u001b[0mv_index\u001b[0m\u001b[0;34m]\u001b[0m\u001b[0;34m\u001b[0m\u001b[0m\n",
      "\u001b[0;31mAttributeError\u001b[0m: 'list' object has no attribute 'values'"
     ]
    }
   ],
   "source": []
  },
  {
   "cell_type": "code",
   "execution_count": null,
   "metadata": {
    "collapsed": true
   },
   "outputs": [],
   "source": []
  }
 ],
 "metadata": {
  "anaconda-cloud": {},
  "kernelspec": {
   "display_name": "Python [conda root]",
   "language": "python",
   "name": "conda-root-py"
  },
  "language_info": {
   "codemirror_mode": {
    "name": "ipython",
    "version": 3
   },
   "file_extension": ".py",
   "mimetype": "text/x-python",
   "name": "python",
   "nbconvert_exporter": "python",
   "pygments_lexer": "ipython3",
   "version": "3.5.2"
  }
 },
 "nbformat": 4,
 "nbformat_minor": 1
}
