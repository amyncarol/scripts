{
 "metadata": {
  "name": "",
  "signature": "sha256:6dbbb79eeb3c6662a4727eff63bb5c658a2ad7e7e15b679b5d4511f211ba0bc6"
 },
 "nbformat": 3,
 "nbformat_minor": 0,
 "worksheets": [
  {
   "cells": [
    {
     "cell_type": "code",
     "collapsed": false,
     "input": [
      "from matplotlib.pyplot import figure, show, axes, sci\n",
      "from matplotlib import cm, colors\n",
      "from matplotlib.font_manager import FontProperties\n",
      "from numpy import amin, amax, ravel\n",
      "from numpy.random import rand\n",
      "\n",
      "Nr = 3\n",
      "Nc = 2\n",
      "\n",
      "fig = figure()\n",
      "cmap = cm.cool"
     ],
     "language": "python",
     "metadata": {},
     "outputs": [],
     "prompt_number": 30
    },
    {
     "cell_type": "code",
     "collapsed": false,
     "input": [
      "fig"
     ],
     "language": "python",
     "metadata": {},
     "outputs": [
      {
       "metadata": {},
       "output_type": "pyout",
       "prompt_number": 31,
       "text": [
        "<matplotlib.figure.Figure at 0x11185e190>"
       ]
      }
     ],
     "prompt_number": 31
    },
    {
     "cell_type": "code",
     "collapsed": false,
     "input": [
      "cmap"
     ],
     "language": "python",
     "metadata": {},
     "outputs": [
      {
       "metadata": {},
       "output_type": "pyout",
       "prompt_number": 32,
       "text": [
        "<matplotlib.colors.LinearSegmentedColormap at 0x10c445c50>"
       ]
      }
     ],
     "prompt_number": 32
    },
    {
     "cell_type": "code",
     "collapsed": false,
     "input": [
      "cm"
     ],
     "language": "python",
     "metadata": {},
     "outputs": [
      {
       "metadata": {},
       "output_type": "pyout",
       "prompt_number": 33,
       "text": [
        "<module 'matplotlib.cm' from '/usr/local/lib/python2.7/site-packages/matplotlib/cm.pyc'>"
       ]
      }
     ],
     "prompt_number": 33
    },
    {
     "cell_type": "code",
     "collapsed": false,
     "input": [
      "figtitle = 'Multiple images'\n",
      "t = fig.text(0.5, 0.95, figtitle,\n",
      "               horizontalalignment='center',\n",
      "               fontproperties=FontProperties(size=16))"
     ],
     "language": "python",
     "metadata": {},
     "outputs": [],
     "prompt_number": 34
    },
    {
     "cell_type": "code",
     "collapsed": false,
     "input": [
      "cax = fig.add_axes([0.2, 0.08, 0.6, 0.04])"
     ],
     "language": "python",
     "metadata": {},
     "outputs": [],
     "prompt_number": 35
    },
    {
     "cell_type": "code",
     "collapsed": false,
     "input": [
      "w = 0.4\n",
      "h = 0.22\n",
      "ax = []\n",
      "images = []\n",
      "vmin = 1e40\n",
      "vmax = -1e40"
     ],
     "language": "python",
     "metadata": {},
     "outputs": [],
     "prompt_number": 36
    },
    {
     "cell_type": "code",
     "collapsed": false,
     "input": [
      "for i in range(Nr):\n",
      "    for j in range(Nc):\n",
      "        pos = [0.075 + j*1.1*w, 0.18 + i*1.2*h, w, h]\n",
      "        a = fig.add_axes(pos)\n",
      "        if i > 0:\n",
      "            a.set_xticklabels([])\n",
      "        # Make some fake data with a range that varies\n",
      "        # somewhat from one plot to the next.\n",
      "        data =((1+i+j)/10.0)*rand(10,20)*1e-6\n",
      "        dd = ravel(data)\n",
      "        # Manually find the min and max of all colors for\n",
      "        # use in setting the color scale.\n",
      "        vmin = min(vmin, amin(dd))\n",
      "        vmax = max(vmax, amax(dd))\n",
      "        images.append(a.imshow(data, cmap=cmap))\n",
      "\n",
      "        ax.append(a)"
     ],
     "language": "python",
     "metadata": {},
     "outputs": [],
     "prompt_number": 37
    },
    {
     "cell_type": "code",
     "collapsed": false,
     "input": [
      "# Set the first image as the master, with all the others\n",
      "# observing it for changes in cmap or norm.\n",
      "\n",
      "class ImageFollower:\n",
      "    'update image in response to changes in clim or cmap on another image'\n",
      "    def __init__(self, follower):\n",
      "        self.follower = follower\n",
      "    def __call__(self, leader):\n",
      "        self.follower.set_cmap(leader.get_cmap())\n",
      "        self.follower.set_clim(leader.get_clim())\n",
      "\n"
     ],
     "language": "python",
     "metadata": {},
     "outputs": [],
     "prompt_number": 38
    },
    {
     "cell_type": "code",
     "collapsed": false,
     "input": [],
     "language": "python",
     "metadata": {},
     "outputs": [],
     "prompt_number": 38
    },
    {
     "cell_type": "code",
     "collapsed": false,
     "input": [
      "norm = colors.Normalize(vmin=vmin, vmax=vmax)"
     ],
     "language": "python",
     "metadata": {},
     "outputs": [],
     "prompt_number": 39
    },
    {
     "cell_type": "code",
     "collapsed": false,
     "input": [
      "for i, im in enumerate(images):\n",
      "    im.set_norm(norm)\n",
      "    if i > 0:\n",
      "        images[0].callbacksSM.connect('changed', ImageFollower(im))"
     ],
     "language": "python",
     "metadata": {},
     "outputs": [],
     "prompt_number": 40
    },
    {
     "cell_type": "code",
     "collapsed": false,
     "input": [
      "\n",
      "fig.colorbar(images[0], cax, orientation='horizontal')\n",
      "axes(ax[0])     # Return the current axes to the first one,\n",
      "sci(images[0])  # because the current image must be in current axes.\n",
      "\n",
      "show()"
     ],
     "language": "python",
     "metadata": {},
     "outputs": [],
     "prompt_number": 41
    },
    {
     "cell_type": "code",
     "collapsed": false,
     "input": [],
     "language": "python",
     "metadata": {},
     "outputs": [],
     "prompt_number": 41
    }
   ],
   "metadata": {}
  }
 ]
}