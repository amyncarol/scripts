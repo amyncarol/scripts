{
 "cells": [
  {
   "cell_type": "code",
   "execution_count": 4,
   "metadata": {
    "collapsed": false
   },
   "outputs": [],
   "source": [
    "def scrape(url):\n",
    "    '''given url, return a list of lines in a\n",
    "    script on http://livesinabox.com/friends\n",
    "    '''\n",
    "    from lxml import html\n",
    "    import requests\n",
    "\n",
    "    page = requests.get(url)\n",
    "    tree = html.fromstring(page.content)\n",
    "\n",
    "    lines = tree.xpath('/html/body/*')\n",
    "    nlines = len(lines)\n",
    "\n",
    "    final_lines = []\n",
    "    for i in range(11, nlines):\n",
    "        line = tree.xpath('/html/body/*[%d]/descendant-or-self::node()/text()' %(i+1))\n",
    "        for j in range(len(line)):\n",
    "            if j == 0:\n",
    "                string = line[j]\n",
    "            else:\n",
    "                string = string + line[j]\n",
    "        final_lines.append(string)\n",
    "\n",
    "    return final_lines"
   ]
  },
  {
   "cell_type": "code",
   "execution_count": 5,
   "metadata": {
    "collapsed": false
   },
   "outputs": [],
   "source": [
    "def blank_word(final_lines, index, context_number):\n",
    "    import re\n",
    "    line = final_lines[index]\n",
    "    line = \" \".join(line.split(\"\\n\"))\n",
    "    words = re.findall(r'[a-zA-Z]{3,}', line)\n",
    "    word = words[-1]\n",
    "    new_line = line.replace(word, '[    ]')\n",
    "    new_lines = []\n",
    "    for i in range(context_number):\n",
    "        new_lines.append(final_lines[index-context_number+i])\n",
    "    new_lines.append(new_line)\n",
    "    for i in range(context_number):\n",
    "        new_lines.append(final_lines[index+i+1])\n",
    "    return new_lines"
   ]
  },
  {
   "cell_type": "code",
   "execution_count": 6,
   "metadata": {
    "collapsed": false
   },
   "outputs": [
    {
     "name": "stdout",
     "output_type": "stream",
     "text": [
      "All: Morning. Good morning. \n",
      "\n",
      "Paul: (entering from Monica's room)\n",
      "Morning. \n",
      "\n",
      "Joey: Morning, [    ]. \n",
      "\n",
      "Rachel: Hello, Paul. \n",
      "\n",
      "Chandler: Hi, Paul, is it? \n",
      "\n"
     ]
    }
   ],
   "source": [
    "import random\n",
    "url = 'http://livesinabox.com/friends/season1/101pilot.htm'\n",
    "final_lines = scrape(url)\n",
    "random_list = random.sample(range(len(final_lines)), 10)\n",
    "    \n",
    "for i in random_list:\n",
    "    line = final_lines[i]\n",
    "\n",
    "new_lines = blank_word(final_lines, 200, 2)\n",
    "for line in new_lines:\n",
    "    print(line, '\\n')"
   ]
  },
  {
   "cell_type": "code",
   "execution_count": 7,
   "metadata": {
    "collapsed": false
   },
   "outputs": [],
   "source": [
    "from nltk.corpus import wordnet as wn\n",
    "nouns = {x.name().split('.', 1)[0] for x in wn.all_synsets('n')}"
   ]
  },
  {
   "cell_type": "code",
   "execution_count": null,
   "metadata": {
    "collapsed": false
   },
   "outputs": [],
   "source": []
  },
  {
   "cell_type": "code",
   "execution_count": null,
   "metadata": {
    "collapsed": true
   },
   "outputs": [],
   "source": []
  }
 ],
 "metadata": {
  "anaconda-cloud": {},
  "kernelspec": {
   "display_name": "Python [default]",
   "language": "python",
   "name": "python3"
  },
  "language_info": {
   "codemirror_mode": {
    "name": "ipython",
    "version": 3
   },
   "file_extension": ".py",
   "mimetype": "text/x-python",
   "name": "python",
   "nbconvert_exporter": "python",
   "pygments_lexer": "ipython3",
   "version": "3.5.2"
  }
 },
 "nbformat": 4,
 "nbformat_minor": 1
}
