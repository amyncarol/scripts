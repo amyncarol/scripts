{
 "metadata": {
  "name": "",
  "signature": "sha256:d987446b8cca1be5eceb98788087d694bd07172459f0c86d67343d5740e0d27c"
 },
 "nbformat": 3,
 "nbformat_minor": 0,
 "worksheets": [
  {
   "cells": [
    {
     "cell_type": "code",
     "collapsed": false,
     "input": [
      "import os\n",
      "import fileinput\n",
      "import sys\n",
      "import re\n",
      "import string\n",
      "import shutil\n",
      "from pymatgen.matproj.rest import MPRester\n",
      "from pymatgen.phasediagram.pdmaker import PhaseDiagram\n",
      "from pymatgen.phasediagram.pdanalyzer import PDAnalyzer\n",
      "from pymatgen.phasediagram.plotter import PDPlotter\n",
      "from pymatgen.core.periodic_table import Element\n",
      "from pymatgen.core.composition import Composition\n",
      "import pymatgen.core.periodic_table as pt\n",
      "import numpy as np\n",
      "from pymatgen.io.vaspio.vasp_input import Poscar\n",
      "from pymatgen.io.vaspio.vasp_input import Incar\n",
      "from pymatgen.io.vaspio.vasp_input import Potcar\n",
      "from pymatgen.io.vaspio.vasp_input import Kpoints\n",
      "from pymatgen.io.vaspio.vasp_input import VaspInput \n",
      "from pymatgen.io.vaspio_set import MPVaspInputSet\n",
      "\n",
      "from pymatgen.apps.borg.hive import VaspToComputedEntryDrone\n",
      "from pymatgen.apps.borg.queen import BorgQueen"
     ],
     "language": "python",
     "metadata": {},
     "outputs": [],
     "prompt_number": 66
    },
    {
     "cell_type": "code",
     "collapsed": false,
     "input": [
      "# create input files for vasp\n",
      "mpvis = MPVaspInputSet()\n",
      "with MPRester(\"64JmsIV32c8lUaxu\") as m:\n",
      "    mp_set = m.get_entries_in_chemsys([\"Cs\", \"Ag\", \"Bi\", \"Br\"], compatible_only=True,inc_structure=\"final\",\n",
      "                                    property_data=[\"material_id\", \"pretty_formula\", \"formation_energy_per_atom\", \"e_above_hull\"])\n",
      "    j = 0\n",
      "    for i in range(len(mp_set)):\n",
      "        if mp_set[i].data['e_above_hull'] < 0.03:\n",
      "            j = j+1\n",
      "            print mp_set[i].composition, mp_set[i].data[\"formation_energy_per_atom\"], mp_set[i].data[\"e_above_hull\"]\n",
      "            struc = mp_set[i].structure\n",
      "            poscar = mpvis.get_poscar(struc)\n",
      "            potcar = mpvis.get_potcar(struc)\n",
      "            kpoints = Kpoints.automatic_gamma_density(struc, 2000)\n",
      "            incar = Incar.from_file(\"/Users/yao/INCAR.CsAgBiBr\")\n",
      "            vinput = VaspInput(incar, kpoints, poscar, potcar)\n",
      "            vinput.write_input(output_dir = os.path.join(\"/Users/yao/Cs-Ag-Bi-Br\", mp_set[i].data[\"material_id\"] + \"-\" + mp_set[i].data[\"pretty_formula\"]))\n",
      "            \n",
      "    print j\n",
      "            "
     ],
     "language": "python",
     "metadata": {},
     "outputs": [
      {
       "output_type": "stream",
       "stream": "stdout",
       "text": [
        "Cs1 0.0 0\n",
        "Cs8 0.01579659 0.01579659\n",
        "Cs4 0.0018265375 0.0018265375\n",
        "Cs8 0.025589685 0.025589685\n",
        "Cs8 0.01122419875 0.01122419875\n",
        "Cs2 0.00307964 0.00307964\n",
        "Ag4 0.0054020775 0.0054020775\n",
        "Ag3 0.00306156666667 0.00306156666667\n",
        "Ag2 0.011747485 0.011747485\n",
        "Ag1"
       ]
      },
      {
       "output_type": "stream",
       "stream": "stdout",
       "text": [
        " 0.0 0\n",
        "Bi2 0.0 0\n",
        "Br4 0.0 0\n",
        "Cs3 Bi1 -0.3152037 0\n",
        "Cs2 Bi4 -0.295605225 0\n",
        "Cs6 Bi4 -0.352842822 0\n",
        "Cs1 Br1"
       ]
      },
      {
       "output_type": "stream",
       "stream": "stdout",
       "text": [
        " -1.81053832375 0\n",
        "Cs4 Br12 -0.997586485 0\n",
        "Ag4 Br6 -0.2782117335 0.0196694015\n",
        "Ag1 Br1 -0.37235141875 0\n",
        "Bi2 Br6"
       ]
      },
      {
       "output_type": "stream",
       "stream": "stdout",
       "text": [
        " -0.778058109375 0.002055485\n",
        "Bi4 Br12 -0.780113594375 0\n",
        "Cs8 Ag4 Br12 -1.35593803958 0\n",
        "Cs1 Ag1 Br3"
       ]
      },
      {
       "output_type": "stream",
       "stream": "stdout",
       "text": [
        " -0.9275314225 0\n",
        "Cs2 Br4 Ag2 -1.0976174325 0.012423951875\n",
        "Cs2 Ag2 Br4 -1.1050289475 0.005012436875\n",
        "Cs3 Bi2 Br9"
       ]
      },
      {
       "output_type": "stream",
       "stream": "stdout",
       "text": [
        " -1.27854360196 0\n",
        "Cs6 Bi4 Br18 -1.27754538589 0.000998216071428\n",
        "27\n"
       ]
      }
     ],
     "prompt_number": 61
    },
    {
     "cell_type": "code",
     "collapsed": false,
     "input": [
      "structure = Poscar.from_file('/Users/yao/CONTCAR.CsAgBiBr').structure\n",
      "poscar = mpvis.get_poscar(structure)\n",
      "potcar = mpvis.get_potcar(structure)\n",
      "kpoints = Kpoints.automatic_gamma_density(structure, 2000)\n",
      "incar = Incar.from_file(\"/Users/yao/INCAR.CsAgBiBr\")\n",
      "vinput = VaspInput(incar, kpoints, poscar, potcar)\n",
      "vinput.write_input(output_dir = os.path.join(\"/Users/yao/Cs-Ag-Bi-Br\", \"Cs2AgBiBr6\"))\n"
     ],
     "language": "python",
     "metadata": {},
     "outputs": [
      {
       "output_type": "stream",
       "stream": "stderr",
       "text": [
        "/usr/local/lib/python2.7/site-packages/pymatgen/io/vasp/inputs.py:225: UnicodeWarning: Unicode equal comparison failed to convert both arguments to Unicode - interpreting them as being unequal\n",
        "  if f == \"POTCAR\":\n"
       ]
      }
     ],
     "prompt_number": 13
    },
    {
     "cell_type": "code",
     "collapsed": false,
     "input": [],
     "language": "python",
     "metadata": {},
     "outputs": []
    },
    {
     "cell_type": "code",
     "collapsed": false,
     "input": [
      "# analyze vasp output files\n",
      "\n",
      "drone = VaspToComputedEntryDrone(inc_structure=True)\n",
      "queen = BorgQueen(drone, rootpath=\"/Users/yao/Google Drive/data/2116/Cs-Ag-Bi-Br\", number_of_drones=2)\n",
      "#drone.assimilate(\"/Users/yao/Google Drive/data/2116/Cs-Ag-Bi-Br/mp-672241-Cs\")\n",
      "entries = queen.get_data()"
     ],
     "language": "python",
     "metadata": {},
     "outputs": [],
     "prompt_number": 41
    },
    {
     "cell_type": "code",
     "collapsed": false,
     "input": [
      "pd = PhaseDiagram(entries)\n",
      "#plotter = PDPlotter(pd)\n",
      "#plotter.show()\n",
      "pda = PDAnalyzer(pd)\n",
      "for i in range(len(entries)):\n",
      "    print entries[i].composition, pd.get_form_energy_per_atom(entries[i]), pda.get_e_above_hull(entries[i])"
     ],
     "language": "python",
     "metadata": {},
     "outputs": [
      {
       "output_type": "stream",
       "stream": "stdout",
       "text": [
        "Ag1 0.0 0\n",
        "Cs2 Ag1 Bi1 Br6 -1.1533316885 0.0011140520625\n",
        "Bi2 0.0 0\n",
        "Cs1 0.001303335 0.001303335\n",
        "Ag2 0.002938225 0.002938225\n",
        "Br4 0.0 0\n",
        "Cs2 0.0 0\n",
        "Cs2 Bi4 -0.309181145 0\n",
        "Cs2 Ag2 Br4 -1.105626835 0.0049679490625\n",
        "Cs1 Br1 -1.810362895 0\n",
        "Cs2 Ag2 Br4 -1.09818496375 0.0124098203125\n",
        "Cs8 0.00088190375 0.00088190375\n",
        "Cs3 Bi2 Br9 -1.27857642357 0\n",
        "Cs4 Br12 -0.994175778125 0\n",
        "Cs6 Bi4 -0.356319466 0\n",
        "Cs3 Bi1 -0.3175771375 0\n",
        "Cs4 0.0003036 0.0003036\n",
        "Bi2 Br6 -0.7806989625 0\n",
        "Cs6 Bi4 Br18 -1.27845650643 0.000119917142858\n",
        "Cs8 Ag4 Br12 -1.35638208792 0\n",
        "Cs8 0.001357615 0.001357615\n",
        "Ag1 Br1 -0.3732328725 0\n",
        "Bi4 Br12 -0.78059519375 0.00010376875\n",
        "Cs8 0.00992726 0.00992726\n",
        "Ag4 0.0015242175 0.0015242175\n",
        "Ag4 Br6 -0.27897067 0.019615628\n",
        "Ag3 0.00219358 0.00219358\n",
        "Cs1 Ag1 Br3 -0.931498428 0\n"
       ]
      }
     ],
     "prompt_number": 57
    },
    {
     "cell_type": "code",
     "collapsed": false,
     "input": [
      "#pda.get_chempot_range_map([Element(\"Cs\")], referenced=True, joggle=True, force_use_pyhull=False)\n",
      "pda.get_decomp_and_e_above_hull(entries[1], allow_negative=False)"
     ],
     "language": "python",
     "metadata": {},
     "outputs": [
      {
       "metadata": {},
       "output_type": "pyout",
       "prompt_number": 64,
       "text": [
        "({ComputedStructureEntry Cs3 Bi2 Br9\n",
        "  Energy = -42.8815\n",
        "  Correction = 0.0000\n",
        "  Parameters:\n",
        "  run_type = GGA\n",
        "  potcar_symbols = [u'PAW_PBE Cs_sv 08Apr2002', u'PAW_PBE Bi 08Apr2002', u'PAW_PBE Br 06Sep2000']\n",
        "  hubbards = {}\n",
        "  potcar_spec = [{u'hash': u'096b53a7d80cc0086976bcda50d536e5', u'titel': u'PAW_PBE Cs_sv 08Apr2002'}, {u'hash': u'e29661c79d59abae3b3ba69eae24b1a5', u'titel': u'PAW_PBE Bi 08Apr2002'}, {u'hash': u'40f9594b4506684a69158c8975cfb9d6', u'titel': u'PAW_PBE Br 06Sep2000'}]\n",
        "  is_hubbard = False\n",
        "  history = None\n",
        "  Data:: 0.70000000000000007, ComputedStructureEntry Cs8 Ag4 Br12\n",
        "  Energy = -70.2497\n",
        "  Correction = 0.0000\n",
        "  Parameters:\n",
        "  run_type = GGA\n",
        "  potcar_symbols = [u'PAW_PBE Cs_sv 08Apr2002', u'PAW_PBE Ag 06Sep2000', u'PAW_PBE Br 06Sep2000']\n",
        "  hubbards = {}\n",
        "  potcar_spec = [{u'hash': u'096b53a7d80cc0086976bcda50d536e5', u'titel': u'PAW_PBE Cs_sv 08Apr2002'}, {u'hash': u'e8ffa02fe3f3a51338ac1ac91ae968b9', u'titel': u'PAW_PBE Ag 06Sep2000'}, {u'hash': u'40f9594b4506684a69158c8975cfb9d6', u'titel': u'PAW_PBE Br 06Sep2000'}]\n",
        "  is_hubbard = False\n",
        "  history = None\n",
        "  Data:: 0.15000000000000005, ComputedStructureEntry Ag1 Br1\n",
        "  Energy = -5.2038\n",
        "  Correction = 0.0000\n",
        "  Parameters:\n",
        "  run_type = GGA\n",
        "  potcar_symbols = [u'PAW_PBE Ag 06Sep2000', u'PAW_PBE Br 06Sep2000']\n",
        "  hubbards = {}\n",
        "  potcar_spec = [{u'hash': u'e8ffa02fe3f3a51338ac1ac91ae968b9', u'titel': u'PAW_PBE Ag 06Sep2000'}, {u'hash': u'40f9594b4506684a69158c8975cfb9d6', u'titel': u'PAW_PBE Br 06Sep2000'}]\n",
        "  is_hubbard = False\n",
        "  history = None\n",
        "  Data:: 0.14999999999999977}, 0.0011140520624999262)"
       ]
      }
     ],
     "prompt_number": 64
    },
    {
     "cell_type": "code",
     "collapsed": false,
     "input": [
      "comp = Composition({\"Cs\":1, \"Br\":1 })\n",
      "#comp = Composition({\"Cs\":1})\n",
      "#pda.get_composition_chempots(comp)\n",
      "pda.get_chempot_range_stability_phase(comp, Element(\"Cs\"))\n",
      "#pda.getmu_vertices_stability_phase(comp, Element(\"Br\"), tol_en=0.01)"
     ],
     "language": "python",
     "metadata": {},
     "outputs": [
      {
       "ename": "TypeError",
       "evalue": "'NoneType' object has no attribute '__getitem__'",
       "output_type": "pyerr",
       "traceback": [
        "\u001b[0;31m---------------------------------------------------------------------------\u001b[0m\n\u001b[0;31mTypeError\u001b[0m                                 Traceback (most recent call last)",
        "\u001b[0;32m<ipython-input-82-449127395c2c>\u001b[0m in \u001b[0;36m<module>\u001b[0;34m()\u001b[0m\n\u001b[1;32m      2\u001b[0m \u001b[0;31m#comp = Composition({\"Cs\":1})\u001b[0m\u001b[0;34m\u001b[0m\u001b[0;34m\u001b[0m\u001b[0m\n\u001b[1;32m      3\u001b[0m \u001b[0;31m#pda.get_composition_chempots(comp)\u001b[0m\u001b[0;34m\u001b[0m\u001b[0;34m\u001b[0m\u001b[0m\n\u001b[0;32m----> 4\u001b[0;31m \u001b[0mpda\u001b[0m\u001b[0;34m.\u001b[0m\u001b[0mget_chempot_range_stability_phase\u001b[0m\u001b[0;34m(\u001b[0m\u001b[0mcomp\u001b[0m\u001b[0;34m,\u001b[0m \u001b[0mElement\u001b[0m\u001b[0;34m(\u001b[0m\u001b[0;34m\"Cs\"\u001b[0m\u001b[0;34m)\u001b[0m\u001b[0;34m)\u001b[0m\u001b[0;34m\u001b[0m\u001b[0m\n\u001b[0m\u001b[1;32m      5\u001b[0m \u001b[0;31m#pda.getmu_vertices_stability_phase(comp, Element(\"Br\"), tol_en=0.01)\u001b[0m\u001b[0;34m\u001b[0m\u001b[0;34m\u001b[0m\u001b[0m\n",
        "\u001b[0;32m/usr/local/lib/python2.7/site-packages/pymatgen/phasediagram/pdanalyzer.pyc\u001b[0m in \u001b[0;36mget_chempot_range_stability_phase\u001b[0;34m(self, target_comp, open_elt)\u001b[0m\n\u001b[1;32m    461\u001b[0m         \u001b[0mres\u001b[0m \u001b[0;34m=\u001b[0m \u001b[0;34m{\u001b[0m\u001b[0;34m}\u001b[0m\u001b[0;34m\u001b[0m\u001b[0m\n\u001b[1;32m    462\u001b[0m         \u001b[0;32mfor\u001b[0m \u001b[0mi\u001b[0m \u001b[0;32min\u001b[0m \u001b[0mrange\u001b[0m\u001b[0;34m(\u001b[0m\u001b[0mlen\u001b[0m\u001b[0;34m(\u001b[0m\u001b[0melts\u001b[0m\u001b[0;34m)\u001b[0m\u001b[0;34m)\u001b[0m\u001b[0;34m:\u001b[0m\u001b[0;34m\u001b[0m\u001b[0m\n\u001b[0;32m--> 463\u001b[0;31m             \u001b[0mres\u001b[0m\u001b[0;34m[\u001b[0m\u001b[0melts\u001b[0m\u001b[0;34m[\u001b[0m\u001b[0mi\u001b[0m\u001b[0;34m]\u001b[0m\u001b[0;34m]\u001b[0m \u001b[0;34m=\u001b[0m \u001b[0;34m(\u001b[0m\u001b[0mmin_mus\u001b[0m\u001b[0;34m[\u001b[0m\u001b[0mi\u001b[0m\u001b[0;34m]\u001b[0m \u001b[0;34m+\u001b[0m \u001b[0mmuref\u001b[0m\u001b[0;34m[\u001b[0m\u001b[0mi\u001b[0m\u001b[0;34m]\u001b[0m\u001b[0;34m,\u001b[0m \u001b[0mmax_mus\u001b[0m\u001b[0;34m[\u001b[0m\u001b[0mi\u001b[0m\u001b[0;34m]\u001b[0m \u001b[0;34m+\u001b[0m \u001b[0mmuref\u001b[0m\u001b[0;34m[\u001b[0m\u001b[0mi\u001b[0m\u001b[0;34m]\u001b[0m\u001b[0;34m)\u001b[0m\u001b[0;34m\u001b[0m\u001b[0m\n\u001b[0m\u001b[1;32m    464\u001b[0m         \u001b[0mres\u001b[0m\u001b[0;34m[\u001b[0m\u001b[0mopen_elt\u001b[0m\u001b[0;34m]\u001b[0m \u001b[0;34m=\u001b[0m \u001b[0;34m(\u001b[0m\u001b[0mmin_open\u001b[0m\u001b[0;34m,\u001b[0m \u001b[0mmax_open\u001b[0m\u001b[0;34m)\u001b[0m\u001b[0;34m\u001b[0m\u001b[0m\n\u001b[1;32m    465\u001b[0m         \u001b[0;32mreturn\u001b[0m \u001b[0mres\u001b[0m\u001b[0;34m\u001b[0m\u001b[0m\n",
        "\u001b[0;31mTypeError\u001b[0m: 'NoneType' object has no attribute '__getitem__'"
       ]
      }
     ],
     "prompt_number": 82
    },
    {
     "cell_type": "code",
     "collapsed": false,
     "input": [
      "pda.get_decomposition(comp)"
     ],
     "language": "python",
     "metadata": {},
     "outputs": [
      {
       "metadata": {},
       "output_type": "pyout",
       "prompt_number": 76,
       "text": [
        "{ComputedStructureEntry Cs3 Bi2 Br9\n",
        " Energy = -42.8815\n",
        " Correction = 0.0000\n",
        " Parameters:\n",
        " run_type = GGA\n",
        " potcar_symbols = [u'PAW_PBE Cs_sv 08Apr2002', u'PAW_PBE Bi 08Apr2002', u'PAW_PBE Br 06Sep2000']\n",
        " hubbards = {}\n",
        " potcar_spec = [{u'hash': u'096b53a7d80cc0086976bcda50d536e5', u'titel': u'PAW_PBE Cs_sv 08Apr2002'}, {u'hash': u'e29661c79d59abae3b3ba69eae24b1a5', u'titel': u'PAW_PBE Bi 08Apr2002'}, {u'hash': u'40f9594b4506684a69158c8975cfb9d6', u'titel': u'PAW_PBE Br 06Sep2000'}]\n",
        " is_hubbard = False\n",
        " history = None\n",
        " Data:: 0.70000000000000007, ComputedStructureEntry Cs8 Ag4 Br12\n",
        " Energy = -70.2497\n",
        " Correction = 0.0000\n",
        " Parameters:\n",
        " run_type = GGA\n",
        " potcar_symbols = [u'PAW_PBE Cs_sv 08Apr2002', u'PAW_PBE Ag 06Sep2000', u'PAW_PBE Br 06Sep2000']\n",
        " hubbards = {}\n",
        " potcar_spec = [{u'hash': u'096b53a7d80cc0086976bcda50d536e5', u'titel': u'PAW_PBE Cs_sv 08Apr2002'}, {u'hash': u'e8ffa02fe3f3a51338ac1ac91ae968b9', u'titel': u'PAW_PBE Ag 06Sep2000'}, {u'hash': u'40f9594b4506684a69158c8975cfb9d6', u'titel': u'PAW_PBE Br 06Sep2000'}]\n",
        " is_hubbard = False\n",
        " history = None\n",
        " Data:: 0.15000000000000005, ComputedStructureEntry Ag1 Br1\n",
        " Energy = -5.2038\n",
        " Correction = 0.0000\n",
        " Parameters:\n",
        " run_type = GGA\n",
        " potcar_symbols = [u'PAW_PBE Ag 06Sep2000', u'PAW_PBE Br 06Sep2000']\n",
        " hubbards = {}\n",
        " potcar_spec = [{u'hash': u'e8ffa02fe3f3a51338ac1ac91ae968b9', u'titel': u'PAW_PBE Ag 06Sep2000'}, {u'hash': u'40f9594b4506684a69158c8975cfb9d6', u'titel': u'PAW_PBE Br 06Sep2000'}]\n",
        " is_hubbard = False\n",
        " history = None\n",
        " Data:: 0.14999999999999977}"
       ]
      }
     ],
     "prompt_number": 76
    },
    {
     "cell_type": "code",
     "collapsed": false,
     "input": [
      "pda.get_hull_energy(comp)"
     ],
     "language": "python",
     "metadata": {},
     "outputs": [
      {
       "metadata": {},
       "output_type": "pyout",
       "prompt_number": 77,
       "text": [
        "-29.734208850624995"
       ]
      }
     ],
     "prompt_number": 77
    },
    {
     "cell_type": "code",
     "collapsed": false,
     "input": [],
     "language": "python",
     "metadata": {},
     "outputs": []
    }
   ],
   "metadata": {}
  }
 ]
}