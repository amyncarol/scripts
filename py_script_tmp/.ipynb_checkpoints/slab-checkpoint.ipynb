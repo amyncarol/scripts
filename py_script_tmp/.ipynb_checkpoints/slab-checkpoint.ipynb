{
 "metadata": {
  "name": "",
  "signature": "sha256:53d3fee2c0f39afd2276ef35a1781b12a3c04c27e365d075248844a578f30028"
 },
 "nbformat": 3,
 "nbformat_minor": 0,
 "worksheets": [
  {
   "cells": [
    {
     "cell_type": "code",
     "collapsed": false,
     "input": [
      "import os\n",
      "import fileinput\n",
      "import sys\n",
      "import re\n",
      "import string\n",
      "import shutil\n",
      "from pymatgen.io.vaspio.vasp_output import Vasprun\n",
      "from pymatgen.io.vaspio.vasp_input import Poscar\n",
      "from pymatgen.core.periodic_table import Element\n",
      "from  pymatgen.io.vaspio_set import MPVaspInputSet\n",
      "from pymatgen.core.surface import Slab\n",
      "from pymatgen.core.surface import SlabGenerator\n",
      "from pymatgen.io.cifio import CifParser\n",
      "from pymatgen.core.surface import generate_all_slabs"
     ],
     "language": "python",
     "metadata": {},
     "outputs": [],
     "prompt_number": 8
    },
    {
     "cell_type": "code",
     "collapsed": false,
     "input": [
      "pos = Poscar.from_file('/Users/yao/Google Drive/data/CsSnI3/bulk/POSCAR')\n",
      "structure = pos.structure"
     ],
     "language": "python",
     "metadata": {},
     "outputs": [],
     "prompt_number": 9
    },
    {
     "cell_type": "code",
     "collapsed": false,
     "input": [
      "slabG = SlabGenerator(structure, [1,2,0], 25.6, 25.6,center_slab=True, lll_reduce=True, primitive=False)\n",
      "slabList = slabG.get_slabs(bonds={('Sn','I'):5,('I','I'):5}, tol=3.2, max_broken_bonds=100)\n",
      "slab = slabList[0]"
     ],
     "language": "python",
     "metadata": {},
     "outputs": [],
     "prompt_number": 12
    },
    {
     "cell_type": "code",
     "collapsed": false,
     "input": [
      "pos = Poscar(slab)\n",
      "pos.write_file('/Users/yao/Google Drive/data/CsSnI3/120_POSCAR.vasp')"
     ],
     "language": "python",
     "metadata": {},
     "outputs": [],
     "prompt_number": 13
    },
    {
     "cell_type": "code",
     "collapsed": false,
     "input": [],
     "language": "python",
     "metadata": {},
     "outputs": [],
     "prompt_number": 132
    },
    {
     "cell_type": "code",
     "collapsed": false,
     "input": [],
     "language": "python",
     "metadata": {},
     "outputs": [],
     "prompt_number": 132
    },
    {
     "cell_type": "code",
     "collapsed": false,
     "input": [],
     "language": "python",
     "metadata": {},
     "outputs": [],
     "prompt_number": 132
    }
   ],
   "metadata": {}
  }
 ]
}