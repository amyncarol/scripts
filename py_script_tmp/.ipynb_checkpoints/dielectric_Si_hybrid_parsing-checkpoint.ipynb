{
 "cells": [
  {
   "cell_type": "code",
   "execution_count": 1,
   "metadata": {
    "collapsed": false
   },
   "outputs": [],
   "source": [
    "from pymatgen.io.vasp.outputs import Vasprun\n",
    "import pymatgen.io.vasp.outputs2 as outputs2\n",
    "import matplotlib.pyplot as plt\n",
    "import re"
   ]
  },
  {
   "cell_type": "code",
   "execution_count": 2,
   "metadata": {
    "collapsed": false
   },
   "outputs": [
    {
     "name": "stderr",
     "output_type": "stream",
     "text": [
      "/usr/local/lib/python2.7/site-packages/pymatgen/io/vasp/outputs2.py:813: UserWarning: No POTCAR file with matching TITEL fields was found in /Users/yao/Google Drive/data/Si/Si-dielectric/hybrid-chi/k10\n",
      "  \" was found in {}\".format(os.path.abspath(p)))\n"
     ]
    }
   ],
   "source": [
    "#for CHI parsing\n",
    "vr = outputs2.Vasprun('/Users/yao/Google Drive/data/Si/Si-dielectric/hybrid-chi/k10/vasprun.xml')\n",
    "energy = vr.dielectric[0]\n",
    "real_tensor = vr.dielectric[1]\n",
    "imag_tensor = vr.dielectric[2]\n",
    "nedos = len(energy)\n",
    "real_iso = []\n",
    "imag_iso = []\n",
    "for i in range(nedos):\n",
    "    real_iso.append(real_tensor[i][0])\n",
    "    imag_iso.append(imag_tensor[i][0])"
   ]
  },
  {
   "cell_type": "code",
   "execution_count": 2,
   "metadata": {
    "collapsed": false
   },
   "outputs": [
    {
     "ename": "KeyError",
     "evalue": "u'comment'",
     "output_type": "error",
     "traceback": [
      "\u001b[0;31m---------------------------------------------------------------------------\u001b[0m",
      "\u001b[0;31mKeyError\u001b[0m                                  Traceback (most recent call last)",
      "\u001b[0;32m<ipython-input-2-e9085edec792>\u001b[0m in \u001b[0;36m<module>\u001b[0;34m()\u001b[0m\n\u001b[1;32m      1\u001b[0m \u001b[0;31m# for LOPTICS parsing\u001b[0m\u001b[0;34m\u001b[0m\u001b[0;34m\u001b[0m\u001b[0m\n\u001b[0;32m----> 2\u001b[0;31m \u001b[0mvr\u001b[0m \u001b[0;34m=\u001b[0m \u001b[0mVasprun\u001b[0m\u001b[0;34m(\u001b[0m\u001b[0;34m'/Users/yao/Google Drive/data/Si/Si-dielectric/hybrid-chi/k10/vasprun.xml'\u001b[0m\u001b[0;34m)\u001b[0m\u001b[0;34m\u001b[0m\u001b[0m\n\u001b[0m\u001b[1;32m      3\u001b[0m \u001b[0menergy\u001b[0m \u001b[0;34m=\u001b[0m \u001b[0mvr\u001b[0m\u001b[0;34m.\u001b[0m\u001b[0mdielectric\u001b[0m\u001b[0;34m[\u001b[0m\u001b[0;36m0\u001b[0m\u001b[0;34m]\u001b[0m\u001b[0;34m\u001b[0m\u001b[0m\n\u001b[1;32m      4\u001b[0m \u001b[0mreal_tensor\u001b[0m \u001b[0;34m=\u001b[0m \u001b[0mvr\u001b[0m\u001b[0;34m.\u001b[0m\u001b[0mdielectric\u001b[0m\u001b[0;34m[\u001b[0m\u001b[0;36m1\u001b[0m\u001b[0;34m]\u001b[0m\u001b[0;34m\u001b[0m\u001b[0m\n\u001b[1;32m      5\u001b[0m \u001b[0mimag_tensor\u001b[0m \u001b[0;34m=\u001b[0m \u001b[0mvr\u001b[0m\u001b[0;34m.\u001b[0m\u001b[0mdielectric\u001b[0m\u001b[0;34m[\u001b[0m\u001b[0;36m2\u001b[0m\u001b[0;34m]\u001b[0m\u001b[0;34m\u001b[0m\u001b[0m\n",
      "\u001b[0;32m/usr/local/lib/python2.7/site-packages/pymatgen/io/vasp/outputs.pyc\u001b[0m in \u001b[0;36m__init__\u001b[0;34m(self, filename, ionic_step_skip, ionic_step_offset, parse_dos, parse_eigen, parse_projected_eigen, parse_potcar_file, occu_tol, exception_on_bad_xml)\u001b[0m\n\u001b[1;32m    376\u001b[0m             \u001b[0;32melse\u001b[0m\u001b[0;34m:\u001b[0m\u001b[0;34m\u001b[0m\u001b[0m\n\u001b[1;32m    377\u001b[0m                 self._parse(f, parse_dos=parse_dos, parse_eigen=parse_eigen,\n\u001b[0;32m--> 378\u001b[0;31m                             parse_projected_eigen=parse_projected_eigen)\n\u001b[0m\u001b[1;32m    379\u001b[0m                 \u001b[0mself\u001b[0m\u001b[0;34m.\u001b[0m\u001b[0mnionic_steps\u001b[0m \u001b[0;34m=\u001b[0m \u001b[0mlen\u001b[0m\u001b[0;34m(\u001b[0m\u001b[0mself\u001b[0m\u001b[0;34m.\u001b[0m\u001b[0mionic_steps\u001b[0m\u001b[0;34m)\u001b[0m\u001b[0;34m\u001b[0m\u001b[0m\n\u001b[1;32m    380\u001b[0m \u001b[0;34m\u001b[0m\u001b[0m\n",
      "\u001b[0;32m/usr/local/lib/python2.7/site-packages/pymatgen/io/vasp/outputs.pyc\u001b[0m in \u001b[0;36m_parse\u001b[0;34m(self, stream, parse_dos, parse_eigen, parse_projected_eigen)\u001b[0m\n\u001b[1;32m    440\u001b[0m                     \u001b[0;32melse\u001b[0m\u001b[0;34m:\u001b[0m\u001b[0;34m\u001b[0m\u001b[0m\n\u001b[1;32m    441\u001b[0m                         self.other_dielectric[elem.attrib[\n\u001b[0;32m--> 442\u001b[0;31m                             \"comment\"]] = self._parse_diel(elem)\n\u001b[0m\u001b[1;32m    443\u001b[0m                 \u001b[0;32melif\u001b[0m \u001b[0mtag\u001b[0m \u001b[0;34m==\u001b[0m \u001b[0;34m\"structure\"\u001b[0m \u001b[0;32mand\u001b[0m \u001b[0melem\u001b[0m\u001b[0;34m.\u001b[0m\u001b[0mattrib\u001b[0m\u001b[0;34m.\u001b[0m\u001b[0mget\u001b[0m\u001b[0;34m(\u001b[0m\u001b[0;34m\"name\"\u001b[0m\u001b[0;34m)\u001b[0m \u001b[0;34m==\u001b[0m\u001b[0;31m \u001b[0m\u001b[0;31m\\\u001b[0m\u001b[0;34m\u001b[0m\u001b[0m\n\u001b[1;32m    444\u001b[0m                         \u001b[0;34m\"finalpos\"\u001b[0m\u001b[0;34m:\u001b[0m\u001b[0;34m\u001b[0m\u001b[0m\n",
      "\u001b[0;31mKeyError\u001b[0m: u'comment'"
     ]
    }
   ],
   "source": []
  },
  {
   "cell_type": "code",
   "execution_count": 3,
   "metadata": {
    "collapsed": false
   },
   "outputs": [
    {
     "name": "stderr",
     "output_type": "stream",
     "text": [
      "/usr/local/lib/python2.7/site-packages/pymatgen/io/vasp/outputs.py:812: UserWarning: No POTCAR file with matching TITEL fields was found in /Users/yao/Google Drive/data/Si/Si-dielectric/hybrid-ip/k10\n",
      "  \" was found in {}\".format(os.path.abspath(p)))\n"
     ]
    }
   ],
   "source": [
    "# for LOPTICS parsing\n",
    "vr2 = Vasprun('/Users/yao/Google Drive/data/Si/Si-dielectric/hybrid-ip/k10/vasprun.xml')\n",
    "energy2 = vr2.dielectric[0]\n",
    "real_tensor2 = vr2.dielectric[1]\n",
    "imag_tensor2 = vr2.dielectric[2]\n",
    "nedos2 = len(energy2)\n",
    "real_iso2 = []\n",
    "imag_iso2 = []\n",
    "for i in range(nedos2):\n",
    "    real_iso2.append(real_tensor2[i][0])\n",
    "    imag_iso2.append(imag_tensor2[i][0])"
   ]
  },
  {
   "cell_type": "code",
   "execution_count": 4,
   "metadata": {
    "collapsed": false
   },
   "outputs": [
    {
     "name": "stderr",
     "output_type": "stream",
     "text": [
      "/usr/local/lib/python2.7/site-packages/pymatgen/io/vasp/outputs2.py:813: UserWarning: No POTCAR file with matching TITEL fields was found in /Users/yao/Google Drive/data/Si/Si-dielectric/hybrid-td/k10-nbands12\n",
      "  \" was found in {}\".format(os.path.abspath(p)))\n"
     ]
    }
   ],
   "source": [
    "# for TDHF parsing\n",
    "vr3 = outputs2.Vasprun('/Users/yao/Google Drive/data/Si/Si-dielectric/hybrid-td/k10-nbands12/vasprun.xml')\n",
    "energy3 = vr3.dielectric[0]\n",
    "real_tensor3 = vr3.dielectric[1]\n",
    "imag_tensor3 = vr3.dielectric[2]\n",
    "nedos3 = len(energy3)\n",
    "real_iso3 = []\n",
    "imag_iso3 = []\n",
    "for i in range(nedos3):\n",
    "    real_iso3.append(real_tensor3[i][0])\n",
    "    imag_iso3.append(imag_tensor3[i][0])"
   ]
  },
  {
   "cell_type": "code",
   "execution_count": null,
   "metadata": {
    "collapsed": false
   },
   "outputs": [],
   "source": [
    "\n"
   ]
  },
  {
   "cell_type": "code",
   "execution_count": 5,
   "metadata": {
    "collapsed": false
   },
   "outputs": [],
   "source": [
    "#plt.plot(energy, imag_iso, label='hybrid-ip-k6(loptics)')\n",
    "plt.plot(energy, imag_iso, label='hybrid-rpa-k10(chi)')\n",
    "plt.plot(energy2, imag_iso2, label='hybrid-ip-k10(loptics)')\n",
    "#plt.plot(energy, real_iso, label='real')\n",
    "plt.legend()\n",
    "plt.show()\n",
    "    "
   ]
  },
  {
   "cell_type": "code",
   "execution_count": null,
   "metadata": {
    "collapsed": false
   },
   "outputs": [],
   "source": []
  },
  {
   "cell_type": "code",
   "execution_count": null,
   "metadata": {
    "collapsed": true
   },
   "outputs": [],
   "source": []
  }
 ],
 "metadata": {
  "kernelspec": {
   "display_name": "Python 2",
   "language": "python",
   "name": "python2"
  },
  "language_info": {
   "codemirror_mode": {
    "name": "ipython",
    "version": 2
   },
   "file_extension": ".py",
   "mimetype": "text/x-python",
   "name": "python",
   "nbconvert_exporter": "python",
   "pygments_lexer": "ipython2",
   "version": "2.7.9"
  }
 },
 "nbformat": 4,
 "nbformat_minor": 1
}
