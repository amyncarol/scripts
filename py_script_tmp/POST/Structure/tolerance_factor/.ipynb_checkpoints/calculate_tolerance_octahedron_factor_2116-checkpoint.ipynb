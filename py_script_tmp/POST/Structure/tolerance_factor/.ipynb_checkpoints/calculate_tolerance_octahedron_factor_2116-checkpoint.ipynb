{
 "cells": [
  {
   "cell_type": "code",
   "execution_count": 4,
   "metadata": {
    "collapsed": false
   },
   "outputs": [
    {
     "name": "stdout",
     "output_type": "stream",
     "text": [
      "{'K', 'Rb', 'Cs', 'Li', 'Na'}\n",
      "{'Cs', 'Li', 'Au', 'Tl', 'Cu', 'Ag', 'Rb', 'Hg', 'K', 'Na'}\n",
      "{'Nb', 'Tl', 'Fe', 'Bi', 'Au', 'Rh', 'Co', 'Ta', 'Y', 'Mn', 'Mo', 'Cr', 'Ti', 'Ru', 'Ni', 'Ir', 'As', 'Pd', 'Sc', 'Sb', 'Al', 'In', 'Ga', 'V'}\n",
      "{'I', 'F', 'Br', 'Cl'}\n"
     ]
    }
   ],
   "source": [
    "import numpy as np\n",
    "import matplotlib.pyplot as plt\n",
    "import matplotlib.cbook as cbook\n",
    "import re\n",
    "from matplotlib.pyplot import figure, show, axes, sci\n",
    "from matplotlib import cm, colors\n",
    "from matplotlib.font_manager import FontProperties\n",
    "from numpy import amin, amax, ravel\n",
    "import numpy.ma as ma\n",
    "\n",
    "A_set = set()\n",
    "B1_set = set()\n",
    "B2_set = set()\n",
    "X_set = set()\n",
    "value_eg = {}\n",
    "\n",
    "import re\n",
    "filename = '/Users/yao/Google Drive/data/2116/data/Eg_result'\n",
    "with open(filename,'r') as f:\n",
    "    for line in f:\n",
    "        compound = line.split()[0]\n",
    "        eg = line.split()[1]\n",
    "        value_eg[compound] = eg\n",
    "        A_set.add(re.split('1|2|6', compound)[0])\n",
    "        B1_set.add(re.split('1|2|6', compound)[1])\n",
    "        B2_set.add(re.split('1|2|6', compound)[2])\n",
    "        X_set.add(re.split('1|2|6', compound)[3])  \n",
    "print(A_set)\n",
    "print(B1_set)\n",
    "print(B2_set)\n",
    "print(X_set)\n",
    "\n",
    "A_list = ['Li','Na','K','Rb','Cs']\n",
    "B1_list = ['Li','Na','K','Rb','Cs','Cu','Ag','Au','Hg','In','Tl']\n",
    "#B2_list = ['Sc', 'Y', 'Ti','V','Nb','Ta','Cr','Mo','Mn','Fe','Ru','Co','Rh','Ir',\\\n",
    "#           'Ni','Pd','Au','Al','Ga','In','Tl','As','Sb','Bi']  ###including transition metals\n",
    "B2_list = ['Sc', 'Y', 'Al','Ga','In','Tl','As','Sb','Bi'] ##not including transition metals\n",
    "X_list = ['F','Cl','Br','I']\n",
    "\n",
    "if set(A_list)==A_set and set(B1_list)==B1_set and set(B2_list)==B2_set and set(X_list)==X_set:\n",
    "    print('True')"
   ]
  },
  {
   "cell_type": "code",
   "execution_count": 5,
   "metadata": {
    "collapsed": true
   },
   "outputs": [],
   "source": [
    "def get_tolerance_factor(A, B1, B2, X):\n",
    "    import math\n",
    "    #Shannon ionic radii with oxidation state and coordination  (and some with Zachariasen's relationship)\n",
    "    A_radius = {'Li':1.13, 'Na':1.39, 'K':1.64, 'Rb':1.72, 'Cs':1.88, 'Tl':1.7}   #12 coodination\n",
    "\n",
    "    B1_radius = {'Li':0.76, 'Na':1.02, 'K':1.38, 'Rb':1.52, 'Cs':1.67, \\\n",
    "             'Cu':0.77,'Ag':1.15,'Au':1.37, 'Tl':1.5, 'Hg': 1.19, 'In':1.4}  #6 coodination\n",
    "           ####the 1+ radius for In was guessed based on In3+, Tl1+, Tl3+\n",
    "\n",
    "    B2_radius = {'Bi':1.03,'Sb':0.76,'In':0.8,'Au':0.85,'Ta':0.72,'Mo':0.69,'Sc':0.745,'Y':0.9,'La':1.032,\\\n",
    "                 'Ce':1.01,'Pr':0.99,'Nd':0.983,'Sm':0.958,'Eu':0.947,'Gd':0.938,'Tb':0.923,'Dy':0.912,\\\n",
    "                 'Er':0.89,'Tm':0.88,'Lu':0.861, 'Cr':0.615, 'Fe':0.645, 'Ga':0.62, 'Ho':0.901, 'Yb':0.868,\\\n",
    "                 'Al':0.535, 'Tl':0.885, 'Rh':0.665, 'As':0.58, 'Ni':0.6, 'Co':0.61, 'Ir':0.68, 'Ru':0.68,\\\n",
    "                 'Mn':0.645, 'Nb':0.72, 'V':0.64, 'Ti':0.67, 'Pd':0.76 }   \n",
    "            #6 coodination #Fe:high spin Ni:high spin Co: high spin Mn: high spin\n",
    "\n",
    "    X_radius = {'F':1.33,'Cl':1.81,'Br':1.96,'I':2.2}   #2+4=6 coodination\n",
    "    try:\n",
    "        return (A_radius[A]+X_radius[X])/((B1_radius[B1]+B2_radius[B2])/2+X_radius[X])/math.sqrt(2)\n",
    "    except:\n",
    "        return \"Failed\"\n",
    "    \n",
    "def get_oct_factor(A, B1, B2, X):\n",
    "    #Shannon ionic radii with oxidation state and coordination  (and some with Zachariasen's relationship)\n",
    "    A_radius = {'Li':1.13, 'Na':1.39, 'K':1.64, 'Rb':1.72, 'Cs':1.88, 'Tl':1.7}   #12 coodination\n",
    "\n",
    "    B1_radius = {'Li':0.76, 'Na':1.02, 'K':1.38, 'Rb':1.52, 'Cs':1.67, \\\n",
    "             'Cu':0.77,'Ag':1.15,'Au':1.37, 'Tl':1.5, 'Hg': 1.19, 'In':1.4}  #6 coodination\n",
    "           ####the 1+ radius for In was guessed based on In3+, Tl1+, Tl3+\n",
    "\n",
    "    B2_radius = {'Bi':1.03,'Sb':0.76,'In':0.8,'Au':0.85,'Ta':0.72,'Mo':0.69,'Sc':0.745,'Y':0.9,'La':1.032,\\\n",
    "                 'Ce':1.01,'Pr':0.99,'Nd':0.983,'Sm':0.958,'Eu':0.947,'Gd':0.938,'Tb':0.923,'Dy':0.912,\\\n",
    "                 'Er':0.89,'Tm':0.88,'Lu':0.861, 'Cr':0.615, 'Fe':0.645, 'Ga':0.62, 'Ho':0.901, 'Yb':0.868,\\\n",
    "                 'Al':0.535, 'Tl':0.885, 'Rh':0.665, 'As':0.58, 'Ni':0.6, 'Co':0.61, 'Ir':0.68, 'Ru':0.68,\\\n",
    "                 'Mn':0.645, 'Nb':0.72, 'V':0.64, 'Ti':0.67, 'Pd':0.76 }   \n",
    "            #6 coodination #Fe:high spin Ni:high spin Co: high spin Mn: high spin\n",
    "\n",
    "    X_radius = {'F':1.33,'Cl':1.81,'Br':1.96,'I':2.2}   #2+4=6 coodination\n",
    "\n",
    "    try:\n",
    "        return (B1_radius[B1]+B2_radius[B2])/2/X_radius[X]\n",
    "    except:\n",
    "        return 'Failed'"
   ]
  },
  {
   "cell_type": "code",
   "execution_count": 6,
   "metadata": {
    "collapsed": false
   },
   "outputs": [
    {
     "ename": "TypeError",
     "evalue": "unorderable types: str() > float()",
     "output_type": "error",
     "traceback": [
      "\u001b[0;31m---------------------------------------------------------------------------\u001b[0m",
      "\u001b[0;31mTypeError\u001b[0m                                 Traceback (most recent call last)",
      "\u001b[0;32m<ipython-input-6-86435761245f>\u001b[0m in \u001b[0;36m<module>\u001b[0;34m()\u001b[0m\n\u001b[1;32m     12\u001b[0m                     \u001b[0mf\u001b[0m\u001b[0;34m.\u001b[0m\u001b[0mwrite\u001b[0m\u001b[0;34m(\u001b[0m\u001b[0mstr\u001b[0m\u001b[0;34m(\u001b[0m\u001b[0mof\u001b[0m\u001b[0;34m)\u001b[0m\u001b[0;34m)\u001b[0m\u001b[0;34m\u001b[0m\u001b[0m\n\u001b[1;32m     13\u001b[0m                     \u001b[0mf\u001b[0m\u001b[0;34m.\u001b[0m\u001b[0mwrite\u001b[0m\u001b[0;34m(\u001b[0m\u001b[0;34m' '\u001b[0m\u001b[0;34m)\u001b[0m\u001b[0;34m\u001b[0m\u001b[0m\n\u001b[0;32m---> 14\u001b[0;31m                     \u001b[0;32mif\u001b[0m \u001b[0mtf\u001b[0m\u001b[0;34m>\u001b[0m\u001b[0;36m0.82\u001b[0m \u001b[0;32mand\u001b[0m \u001b[0mtf\u001b[0m\u001b[0;34m<\u001b[0m\u001b[0;36m1.08\u001b[0m \u001b[0;32mand\u001b[0m \u001b[0mof\u001b[0m\u001b[0;34m>\u001b[0m\u001b[0;36m0.4\u001b[0m \u001b[0;32mand\u001b[0m \u001b[0mof\u001b[0m\u001b[0;34m<\u001b[0m\u001b[0;36m1.0\u001b[0m\u001b[0;34m:\u001b[0m\u001b[0;34m\u001b[0m\u001b[0m\n\u001b[0m\u001b[1;32m     15\u001b[0m                         \u001b[0mf\u001b[0m\u001b[0;34m.\u001b[0m\u001b[0mwrite\u001b[0m\u001b[0;34m(\u001b[0m\u001b[0;34m'1'\u001b[0m\u001b[0;34m)\u001b[0m\u001b[0;34m\u001b[0m\u001b[0m\n\u001b[1;32m     16\u001b[0m                     \u001b[0;32melse\u001b[0m\u001b[0;34m:\u001b[0m\u001b[0;34m\u001b[0m\u001b[0m\n",
      "\u001b[0;31mTypeError\u001b[0m: unorderable types: str() > float()"
     ]
    }
   ],
   "source": [
    "with open('/Users/yao/Google Drive/data/2116/data/tolerance_octahedron_wo_transition_metal', 'w') as f:\n",
    "    for A in A_list:\n",
    "        for B1 in B1_list:\n",
    "            for B2 in B2_list:\n",
    "                for X in X_list:\n",
    "                    f.write(A+'2'+B1+'1'+B2+'1'+X+'6')\n",
    "                    f.write(' ')\n",
    "                    tf = get_tolerance_factor(A, B1, B2, X)\n",
    "                    f.write(str(tf))\n",
    "                    f.write(' ')\n",
    "                    of = get_oct_factor(A, B1, B2, X)\n",
    "                    f.write(str(of))\n",
    "                    f.write(' ')                    \n",
    "                    if tf>0.82 and tf<1.08 and of>0.4 and of<1.0:\n",
    "                        f.write('1')\n",
    "                    else:\n",
    "                        f.write('0')\n",
    "                    f.write('\\n')\n",
    "                    \n",
    "                "
   ]
  },
  {
   "cell_type": "code",
   "execution_count": null,
   "metadata": {
    "collapsed": true
   },
   "outputs": [],
   "source": []
  }
 ],
 "metadata": {
  "anaconda-cloud": {},
  "kernelspec": {
   "display_name": "Python [conda root]",
   "language": "python",
   "name": "conda-root-py"
  },
  "language_info": {
   "codemirror_mode": {
    "name": "ipython",
    "version": 3
   },
   "file_extension": ".py",
   "mimetype": "text/x-python",
   "name": "python",
   "nbconvert_exporter": "python",
   "pygments_lexer": "ipython3",
   "version": "3.5.2"
  }
 },
 "nbformat": 4,
 "nbformat_minor": 1
}
