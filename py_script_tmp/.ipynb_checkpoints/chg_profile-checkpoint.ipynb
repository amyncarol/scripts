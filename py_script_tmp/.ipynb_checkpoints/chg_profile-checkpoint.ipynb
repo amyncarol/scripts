{
 "metadata": {
  "name": "",
  "signature": "sha256:c716c0334fdf1b7089daec5b32ca54668d82ca24507139efb5f98a32be9716bd"
 },
 "nbformat": 3,
 "nbformat_minor": 0,
 "worksheets": [
  {
   "cells": [
    {
     "cell_type": "code",
     "collapsed": false,
     "input": [
      "import numpy as np\n",
      "import matplotlib.pyplot as plt\n",
      "import re\n",
      "from scipy.ndimage.interpolation import rotate\n",
      "from numpy.linalg import norm\n"
     ],
     "language": "python",
     "metadata": {},
     "outputs": [],
     "prompt_number": 59
    },
    {
     "cell_type": "code",
     "collapsed": false,
     "input": [
      "# FFT mesh\n",
      "x = 80 \n",
      "y = 84 \n",
      "z = 120 "
     ],
     "language": "python",
     "metadata": {},
     "outputs": [],
     "prompt_number": 60
    },
    {
     "cell_type": "code",
     "collapsed": false,
     "input": [
      "chg = np.empty((x,y,z))\n",
      "chg_1d  = np.empty(x*y*z)\n",
      "\n",
      "i = 0\n",
      "with open('/Users/yao/Desktop/CHG.spin', 'r') as f:\n",
      "    for value in re.findall(r'\\s*([\\dE+-.]+)', f.read()):\n",
      "        chg_1d[i] = value\n",
      "        i = i + 1\n",
      "p = 0\n",
      "for i in np.arange(z):\n",
      "    for j in np.arange(y):\n",
      "        for k in np.arange(x):\n",
      "            chg[k][j][i] = chg_1d[p]\n",
      "            p = p + 1\n",
      "            \n",
      "chg_2d = chg.sum(axis = 2)\n",
      "chg_2d.shape\n",
      "chg_1d.sum()/(x*y*z)"
     ],
     "language": "python",
     "metadata": {},
     "outputs": [
      {
       "metadata": {},
       "output_type": "pyout",
       "prompt_number": 61,
       "text": [
        "4.1093750209788071"
       ]
      }
     ],
     "prompt_number": 61
    },
    {
     "cell_type": "code",
     "collapsed": false,
     "input": [
      "b_repeat = 5\n",
      "b_extend = 7\n",
      "a_extend = 7\n",
      "b_axis = np.array([0,1])\n",
      "abc = np.array([x,y])\n",
      "#\n",
      "Nb_pos1 = np.array([0.32160,0.52514])\n",
      "Nb_pos1 = np.multiply(Nb_pos1, abc)\n",
      "#\n",
      "Nb_pos2 = np.array([0.67840,0.47486]) + b_repeat*b_axis\n",
      "Nb_pos2 = np.multiply(Nb_pos2, abc)\n",
      "angle = np.arctan((Nb_pos2[0]-Nb_pos1[0])/(Nb_pos2[1]-Nb_pos1[1]))/np.pi*180\n",
      "\n",
      "box = chg_2d\n",
      "for i in np.arange(b_extend):\n",
      "    box = np.concatenate((box, chg_2d), axis=1)\n",
      "box_tmp = box\n",
      "for i in np.arange(a_extend):\n",
      "    box = np.concatenate((box, box_tmp), axis=0)\n",
      "box.shape"
     ],
     "language": "python",
     "metadata": {},
     "outputs": [
      {
       "metadata": {},
       "output_type": "pyout",
       "prompt_number": 62,
       "text": [
        "(640, 672)"
       ]
      }
     ],
     "prompt_number": 62
    },
    {
     "cell_type": "code",
     "collapsed": false,
     "input": [
      "box_rotate = rotate(box, 62.5, axes=(1, 0), reshape=True, output=None, order=3, mode='constant', cval=0.0, prefilter=True)"
     ],
     "language": "python",
     "metadata": {},
     "outputs": [],
     "prompt_number": 73
    },
    {
     "cell_type": "code",
     "collapsed": false,
     "input": [
      "box_rotate.shape"
     ],
     "language": "python",
     "metadata": {},
     "outputs": [
      {
       "metadata": {},
       "output_type": "pyout",
       "prompt_number": 53,
       "text": [
        "(927, 928)"
       ]
      }
     ],
     "prompt_number": 53
    },
    {
     "cell_type": "code",
     "collapsed": false,
     "input": [
      "plt.imshow(box_small, interpolation='nearest')\n",
      "plt.colorbar()\n",
      "plt.show()"
     ],
     "language": "python",
     "metadata": {},
     "outputs": [],
     "prompt_number": 77
    },
    {
     "cell_type": "code",
     "collapsed": false,
     "input": [
      "#\n",
      "#band_center = np.array([433,436])\n",
      "band_center = np.array([445,438])\n",
      "band_y_length = norm(Nb_pos1-Nb_pos2)\n",
      "#\n",
      "band_x_length = 40 #30\n",
      "x_lower = np.round(band_center[0] - band_x_length/2)\n",
      "x_upper = np.round(band_center[0] + band_x_length/2)\n",
      "y_lower = np.round(band_center[1] - band_y_length/2)\n",
      "y_upper = np.round(band_center[1] + band_y_length/2)\n",
      "x_lower"
     ],
     "language": "python",
     "metadata": {},
     "outputs": [
      {
       "metadata": {},
       "output_type": "pyout",
       "prompt_number": 75,
       "text": [
        "425"
       ]
      }
     ],
     "prompt_number": 75
    },
    {
     "cell_type": "code",
     "collapsed": false,
     "input": [
      "box_small = box_rotate[x_lower:x_upper, :]\n",
      "box_small.shape"
     ],
     "language": "python",
     "metadata": {},
     "outputs": [
      {
       "metadata": {},
       "output_type": "pyout",
       "prompt_number": 76,
       "text": [
        "(40, 878)"
       ]
      }
     ],
     "prompt_number": 76
    },
    {
     "cell_type": "code",
     "collapsed": false,
     "input": [
      "box_1d = box_small.sum(axis = 0)\n",
      "box_1d = box_1d/(x*y*z)\n",
      "box_1d.shape[0]"
     ],
     "language": "python",
     "metadata": {},
     "outputs": [
      {
       "metadata": {},
       "output_type": "pyout",
       "prompt_number": 78,
       "text": [
        "878"
       ]
      }
     ],
     "prompt_number": 78
    },
    {
     "cell_type": "code",
     "collapsed": false,
     "input": [
      "x = np.arange(box_1d.shape[0])\n",
      "plt.plot(x, box_1d)\n",
      "#plt.xlim(668,991)\n",
      "#\n",
      "#plt.xlim(515,1021)\n",
      "#plt.xlim(124,632)\n",
      "plt.xlim(146,552)\n",
      "plt.show()"
     ],
     "language": "python",
     "metadata": {},
     "outputs": [],
     "prompt_number": 82
    },
    {
     "cell_type": "code",
     "collapsed": false,
     "input": [],
     "language": "python",
     "metadata": {},
     "outputs": [],
     "prompt_number": 58
    }
   ],
   "metadata": {}
  }
 ]
}