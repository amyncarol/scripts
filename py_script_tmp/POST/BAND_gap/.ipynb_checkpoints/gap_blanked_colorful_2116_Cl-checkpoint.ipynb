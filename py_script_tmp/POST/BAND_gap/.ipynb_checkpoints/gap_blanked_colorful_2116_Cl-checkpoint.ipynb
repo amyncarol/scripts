{
 "cells": [
  {
   "cell_type": "code",
   "execution_count": 1,
   "metadata": {
    "collapsed": true
   },
   "outputs": [],
   "source": [
    "import numpy as np\n",
    "import matplotlib.pyplot as plt\n",
    "import matplotlib.cbook as cbook\n",
    "import re\n",
    "from matplotlib.pyplot import figure, show, axes, sci\n",
    "from matplotlib import cm, colors\n",
    "from matplotlib.font_manager import FontProperties\n",
    "from numpy import amin, amax, ravel\n",
    "import numpy.ma as ma"
   ]
  },
  {
   "cell_type": "code",
   "execution_count": 2,
   "metadata": {
    "collapsed": true
   },
   "outputs": [],
   "source": [
    "A = ['Li', 'Na', 'K', 'Rb', 'Cs']\n",
    "B1 = ['Li', 'Na', 'K', 'Rb', 'Cs', 'Cu','Ag','Au']\n",
    "#B2 = ['Bi','Sb','In','Au','Ta','Mo','Sc','Y','La','Ce','Pr','Nd','Sm','Eu','Gd','Tb','Dy','Er','Tm','Lu']\n",
    "#### not _3: Ce, Eu, Gd\n",
    "B2 = ['Bi','Sb','In','Au','Ta','Mo','Sc','Y','La','Pr','Nd','Sm','Tb','Dy','Er','Tm','Lu']\n",
    "X = ['Cl']"
   ]
  },
  {
   "cell_type": "code",
   "execution_count": 3,
   "metadata": {
    "collapsed": true
   },
   "outputs": [],
   "source": [
    "size_left = len(A)\n",
    "size_right = len(B1)\n",
    "size_bottom = len(B2)\n",
    "eg = np.zeros( (size_right,size_left,size_bottom) )\n",
    "data_eg = open('/Users/yao/Google Drive/data/2116/dos-Cl/Eg_direct_indirect_hull_LT30meV_all','r')"
   ]
  },
  {
   "cell_type": "code",
   "execution_count": 4,
   "metadata": {
    "collapsed": true
   },
   "outputs": [],
   "source": [
    "value_eg = {}\n",
    "value_eg_direct = {}\n",
    "lines = data_eg.readlines()\n",
    "for line in lines:\n",
    "    match = re.match(r\"([a-z]+)([ ]+)([a-z]+)([ ]+)([a-z]+)([ ]+)([a-z]+)([ ]+)([0-9.]+)([ ]+)([0-9.]+)\", line, re.I)\n",
    "    if match:\n",
    "        items = match.groups()\n",
    "        value_eg[items[0]+items[2]+items[4]+items[6]]=float(items[8])\n",
    "        value_eg_direct[items[0]+items[2]+items[4]+items[6]]=float(items[10])"
   ]
  },
  {
   "cell_type": "code",
   "execution_count": 5,
   "metadata": {
    "collapsed": true
   },
   "outputs": [],
   "source": [
    "#for i in range(len(value_eg)):\n",
    "#    if value_eg[i] >= 1.5:\n",
    "#        value_eg[i] = 1.5"
   ]
  },
  {
   "cell_type": "code",
   "execution_count": 6,
   "metadata": {
    "collapsed": false
   },
   "outputs": [],
   "source": [
    "for a in range(size_left):\n",
    "    for b in range(size_bottom):\n",
    "        for c in range(size_right):\n",
    "            compound = A[a]+B1[c]+B2[b]+X[0]\n",
    "            if compound in value_eg:\n",
    "                eg[c][a][b] = value_eg[compound]\n",
    "            else:\n",
    "                eg[c][a][b] = 1000"
   ]
  },
  {
   "cell_type": "code",
   "execution_count": 7,
   "metadata": {
    "collapsed": true
   },
   "outputs": [],
   "source": [
    "masked_eg = ma.masked_where(eg>999, eg)"
   ]
  },
  {
   "cell_type": "code",
   "execution_count": 8,
   "metadata": {
    "collapsed": false
   },
   "outputs": [],
   "source": [
    "fig = figure()\n",
    "#cmap = cm.cool\n",
    "w = 0.75\n",
    "h = 0.15\n",
    "ax = []\n",
    "images = []\n",
    "vmin = 1e40\n",
    "vmax = -1e40\n",
    "cax = fig.add_axes([0.9, 0.2, 0.02, 0.6])"
   ]
  },
  {
   "cell_type": "code",
   "execution_count": 9,
   "metadata": {
    "collapsed": false
   },
   "outputs": [],
   "source": [
    "for i in range(size_right):\n",
    "    pos = [0.1, 0.7 - i*0.65*h, w, h]\n",
    "    a = fig.add_axes(pos)\n",
    "    #plt.yticks(np.arange(size_left), A, size='x-small')\n",
    "    #plt.xticks(np.arange(size_bottom),[]) \n",
    "    a.set_yticks(np.arange(size_left))\n",
    "    a.set_yticklabels(A, size='x-small')\n",
    "    a.set_xticks(np.arange(size_bottom))\n",
    "    if i == size_right-1:\n",
    "        a.set_xticklabels(B2, size='x-small')\n",
    "    else:\n",
    "        a.set_xticklabels([])\n",
    "                \n",
    "    dd = ravel(masked_eg[i])\n",
    "    # Manually find the min and max of all colors for\n",
    "    # use in setting the color scale.\n",
    "    vmin = min(vmin, amin(dd))\n",
    "    vmax = max(vmax, amax(dd))\n",
    "    images.append(a.imshow(masked_eg[i],interpolation = 'nearest',aspect=0.3))\n",
    "    ax.append(a)\n",
    "    \n",
    "    #a2 = a.twinx()\n",
    "    #a2.set_ylim(a.get_ylim())\n",
    "    #a2.set_yticks(np.arange(1))\n",
    "    #a2.set_yticklabels([B1[i]], size='x-small') ####\n",
    "    #ax.append(a2)\n"
   ]
  },
  {
   "cell_type": "code",
   "execution_count": 10,
   "metadata": {
    "collapsed": false
   },
   "outputs": [
    {
     "ename": "AttributeError",
     "evalue": "'Figure' object has no attribute 'ylabel'",
     "output_type": "error",
     "traceback": [
      "\u001b[0;31m---------------------------------------------------------------------------\u001b[0m",
      "\u001b[0;31mAttributeError\u001b[0m                            Traceback (most recent call last)",
      "\u001b[0;32m<ipython-input-10-6c3a968137ae>\u001b[0m in \u001b[0;36m<module>\u001b[0;34m()\u001b[0m\n\u001b[1;32m     18\u001b[0m \u001b[0msci\u001b[0m\u001b[0;34m(\u001b[0m\u001b[0mimages\u001b[0m\u001b[0;34m[\u001b[0m\u001b[0;36m0\u001b[0m\u001b[0;34m]\u001b[0m\u001b[0;34m)\u001b[0m  \u001b[0;31m# because the current image must be in current axes.\u001b[0m\u001b[0;34m\u001b[0m\u001b[0m\n\u001b[1;32m     19\u001b[0m \u001b[0mcax\u001b[0m\u001b[0;34m.\u001b[0m\u001b[0mset_ylabel\u001b[0m\u001b[0;34m(\u001b[0m\u001b[0;34m'PBE-Eg(eV)'\u001b[0m\u001b[0;34m,\u001b[0m \u001b[0mrotation\u001b[0m\u001b[0;34m=\u001b[0m\u001b[0;36m270\u001b[0m\u001b[0;34m,\u001b[0m \u001b[0mva\u001b[0m\u001b[0;34m=\u001b[0m\u001b[0;34m'baseline'\u001b[0m\u001b[0;34m)\u001b[0m\u001b[0;34m\u001b[0m\u001b[0m\n\u001b[0;32m---> 20\u001b[0;31m \u001b[0mfig\u001b[0m\u001b[0;34m.\u001b[0m\u001b[0mylabel\u001b[0m\u001b[0;34m(\u001b[0m\u001b[0;34m'A site cations'\u001b[0m\u001b[0;34m)\u001b[0m\u001b[0;34m\u001b[0m\u001b[0m\n\u001b[0m\u001b[1;32m     21\u001b[0m \u001b[0mfig\u001b[0m\u001b[0;34m.\u001b[0m\u001b[0mxlabel\u001b[0m\u001b[0;34m(\u001b[0m\u001b[0;34m'X site cations'\u001b[0m\u001b[0;34m)\u001b[0m\u001b[0;34m\u001b[0m\u001b[0m\n\u001b[1;32m     22\u001b[0m \u001b[0mshow\u001b[0m\u001b[0;34m(\u001b[0m\u001b[0;34m)\u001b[0m\u001b[0;34m\u001b[0m\u001b[0m\n",
      "\u001b[0;31mAttributeError\u001b[0m: 'Figure' object has no attribute 'ylabel'"
     ]
    }
   ],
   "source": [
    "# Set the first image as the master, with all the others\n",
    "# observing it for changes in cmap or norm.\n",
    "\n",
    "class ImageFollower:\n",
    "    'update image in response to changes in clim or cmap on another image'\n",
    "    def __init__(self, follower):\n",
    "        self.follower = follower\n",
    "    def __call__(self, leader):\n",
    "        self.follower.set_cmap(leader.get_cmap())\n",
    "        self.follower.set_clim(leader.get_clim())\n",
    "norm = colors.Normalize(vmin=vmin, vmax=vmax)\n",
    "for i, im in enumerate(images):\n",
    "    im.set_norm(norm)\n",
    "    if i > 0:\n",
    "        images[0].callbacksSM.connect('changed', ImageFollower(im))\n",
    "fig.colorbar(images[0], cax)\n",
    "axes(ax[0])     # Return the current axes to the first one,\n",
    "sci(images[0])  # because the current image must be in current axes.\n",
    "cax.set_ylabel('PBE-Eg(eV)', rotation=270, va='baseline')\n",
    "show()"
   ]
  },
  {
   "cell_type": "code",
   "execution_count": null,
   "metadata": {
    "collapsed": false
   },
   "outputs": [],
   "source": []
  }
 ],
 "metadata": {
  "anaconda-cloud": {},
  "kernelspec": {
   "display_name": "Python 2",
   "language": "python",
   "name": "python2"
  },
  "language_info": {
   "codemirror_mode": {
    "name": "ipython",
    "version": 2
   },
   "file_extension": ".py",
   "mimetype": "text/x-python",
   "name": "python",
   "nbconvert_exporter": "python",
   "pygments_lexer": "ipython2",
   "version": "2.7.13"
  }
 },
 "nbformat": 4,
 "nbformat_minor": 1
}
