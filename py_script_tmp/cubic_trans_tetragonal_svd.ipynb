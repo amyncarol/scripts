{
 "cells": [
  {
   "cell_type": "code",
   "execution_count": 135,
   "metadata": {
    "collapsed": false
   },
   "outputs": [],
   "source": [
    "import numpy as np\n",
    "pcell = np.array([[8.5315969999999997,    0.0000000000000000,    0.0000000000000000],\n",
    "     [4.2657990000000003,    7.3885800000000001,    0.0000000000000000],\n",
    "     [4.2657990000000003,   2.4628600000000000,    6.9660200000000003]])"
   ]
  },
  {
   "cell_type": "code",
   "execution_count": 136,
   "metadata": {
    "collapsed": false
   },
   "outputs": [],
   "source": [
    "tetra = np.array([[8.5315969999999997, 0, 0],\n",
    "                 [0, 8.5315969999999997, 0],\n",
    "                 [0, 0, 12.06550018]])"
   ]
  },
  {
   "cell_type": "code",
   "execution_count": 137,
   "metadata": {
    "collapsed": true
   },
   "outputs": [],
   "source": [
    "trans = np.array([[1, 0, 0],\n",
    "                  [0, -1, 1],\n",
    "                  [-1, 1, 1]])"
   ]
  },
  {
   "cell_type": "code",
   "execution_count": 138,
   "metadata": {
    "collapsed": false
   },
   "outputs": [],
   "source": [
    "u, s, v = np.linalg.svd(trans.dot(pcell))"
   ]
  },
  {
   "cell_type": "code",
   "execution_count": 139,
   "metadata": {
    "collapsed": false
   },
   "outputs": [],
   "source": [
    "trans_new = np.linalg.inv(u).dot(trans)"
   ]
  },
  {
   "cell_type": "code",
   "execution_count": 140,
   "metadata": {
    "collapsed": false
   },
   "outputs": [],
   "source": [
    "atoms = np.array([[0.2500000000000000,  0.2500000000000000,  0.2500000000000000],\n",
    "  [0.7500000000000000,  0.7500000000000000,  0.7500000000000000],\n",
    "  [0.0000000000000000,  0.0000000000000000,  0.0000000000000000],\n",
    "  [0.7587570000000028,  0.7587570000000028,  0.2412429999999972],\n",
    "  [0.2412429999999972,  0.7587570000000028,  0.7587570000000028],\n",
    "  [0.7587570000000028,  0.2412429999999972,  0.2412429999999972],\n",
    "  [0.2412429999999972,  0.2412429999999972,  0.7587570000000028],\n",
    "  [0.7587570000000028,  0.2412429999999972,  0.7587570000000028],\n",
    "  [0.2412429999999972,  0.7587570000000028,  0.2412429999999972]])"
   ]
  },
  {
   "cell_type": "code",
   "execution_count": 141,
   "metadata": {
    "collapsed": false
   },
   "outputs": [],
   "source": [
    "atoms_tetra = atoms.dot(np.linalg.inv(trans_new))"
   ]
  },
  {
   "cell_type": "code",
   "execution_count": 142,
   "metadata": {
    "collapsed": false
   },
   "outputs": [],
   "source": [
    "float_formatter = lambda x: \"%.6f\" % x\n",
    "np.set_printoptions(formatter={'float_kind':float_formatter})"
   ]
  },
  {
   "cell_type": "code",
   "execution_count": 143,
   "metadata": {
    "collapsed": false
   },
   "outputs": [
    {
     "data": {
      "text/plain": [
       "array([[-0.500000, 0.000000, 0.250000],\n",
       "       [-1.500000, 0.000000, 0.750000],\n",
       "       [0.000000, 0.000000, 0.000000],\n",
       "       [-1.258757, -0.258757, 0.500000],\n",
       "       [-1.000000, 0.000000, 0.758757],\n",
       "       [-1.000000, 0.000000, 0.241243],\n",
       "       [-0.741243, 0.258757, 0.500000],\n",
       "       [-1.258757, 0.258757, 0.500000],\n",
       "       [-0.741243, -0.258757, 0.500000]])"
      ]
     },
     "execution_count": 143,
     "metadata": {},
     "output_type": "execute_result"
    }
   ],
   "source": [
    "atoms_tetra[:,[0, 1, 2]] = atoms_tetra[:,[2, 1, 0]]\n",
    "atoms_tetra"
   ]
  },
  {
   "cell_type": "code",
   "execution_count": 144,
   "metadata": {
    "collapsed": false
   },
   "outputs": [],
   "source": [
    "superatoms = np.zeros((9*125, 3))\n",
    "for i in range(-2,3):\n",
    "    for j in range(-2,3):\n",
    "        for k in range(-2,3):\n",
    "            superatoms[9*(25*(i+2)+5*(j+2)+(k+2)):9*(25*(i+2)+5*(j+2)+(k+2))+9,:] = atoms+np.array([i, j, k])"
   ]
  },
  {
   "cell_type": "code",
   "execution_count": 145,
   "metadata": {
    "collapsed": false
   },
   "outputs": [
    {
     "name": "stdout",
     "output_type": "stream",
     "text": [
      "[0.741243 0.741243 0.500000]\n",
      "[0.500000 -0.000000 0.750000]\n",
      "[0.741243 0.258757 0.500000]\n",
      "[0.500000 0.500000 0.741243]\n",
      "[0.000000 0.500000 0.250000]\n",
      "[0.241243 0.241243 -0.000000]\n",
      "[0.500000 0.500000 0.258757]\n",
      "[0.758757 0.758757 -0.000000]\n",
      "[0.241243 0.758757 -0.000000]\n",
      "[0.758757 0.241243 -0.000000]\n",
      "[0.258757 0.741243 0.500000]\n",
      "[0.500000 -0.000000 0.250000]\n",
      "[0.000000 0.000000 0.758757]\n",
      "[0.000000 0.000000 0.241243]\n",
      "[0.258757 0.258757 0.500000]\n",
      "[0.000000 0.500000 0.750000]\n",
      "[0.500000 0.500000 0.500000]\n",
      "[0.000000 0.000000 0.000000]\n"
     ]
    }
   ],
   "source": [
    "superatoms_tetra = superatoms.dot(np.linalg.inv(trans_new))\n",
    "superatoms_tetra[:,[0, 1, 2]] = superatoms_tetra[:,[2, 1, 0]]\n",
    "for i in range(9*81):\n",
    "    if superatoms_tetra[i,0]>-0.01 and superatoms_tetra[i,0]<0.99 \\\n",
    "    and superatoms_tetra[i,1]>-0.01 and superatoms_tetra[i,1]<0.99\\\n",
    "    and superatoms_tetra[i,2]>-0.01 and superatoms_tetra[i,2]<0.99:\n",
    "        print(superatoms_tetra[i,:])"
   ]
  },
  {
   "cell_type": "code",
   "execution_count": null,
   "metadata": {
    "collapsed": true
   },
   "outputs": [],
   "source": []
  }
 ],
 "metadata": {
  "anaconda-cloud": {},
  "kernelspec": {
   "display_name": "Python [conda root]",
   "language": "python",
   "name": "conda-root-py"
  },
  "language_info": {
   "codemirror_mode": {
    "name": "ipython",
    "version": 3
   },
   "file_extension": ".py",
   "mimetype": "text/x-python",
   "name": "python",
   "nbconvert_exporter": "python",
   "pygments_lexer": "ipython3",
   "version": "3.5.2"
  }
 },
 "nbformat": 4,
 "nbformat_minor": 1
}
