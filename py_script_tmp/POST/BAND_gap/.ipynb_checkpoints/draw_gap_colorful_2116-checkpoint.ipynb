{
 "cells": [
  {
   "cell_type": "code",
   "execution_count": 1,
   "metadata": {
    "collapsed": false
   },
   "outputs": [],
   "source": [
    "import numpy as np\n",
    "import matplotlib.pyplot as plt\n",
    "import matplotlib.cbook as cbook\n",
    "import re\n",
    "from matplotlib.pyplot import figure, show, axes, sci\n",
    "from matplotlib import cm, colors\n",
    "from matplotlib.font_manager import FontProperties\n",
    "from numpy import amin, amax, ravel\n",
    "import numpy.ma as ma"
   ]
  },
  {
   "cell_type": "code",
   "execution_count": 2,
   "metadata": {
    "collapsed": false
   },
   "outputs": [],
   "source": [
    "eg = np.zeros( (4,3,40) )\n",
    "data_eg = open('/Users/yao/Google Drive/data/2116/Eg_direct_indirect','r')"
   ]
  },
  {
   "cell_type": "code",
   "execution_count": 3,
   "metadata": {
    "collapsed": false
   },
   "outputs": [
    {
     "data": {
      "text/plain": [
       "['AgBi',\n",
       " 'AgSb',\n",
       " 'AgCe',\n",
       " 'AgPr',\n",
       " 'AgNd',\n",
       " 'AgTa',\n",
       " 'AgMo',\n",
       " 'AgY',\n",
       " 'CuBi',\n",
       " 'CuSb',\n",
       " 'CuCe',\n",
       " 'CuPr',\n",
       " 'CuNd',\n",
       " 'CuTa',\n",
       " 'CuMo',\n",
       " 'CuY',\n",
       " 'KBi',\n",
       " 'KSb',\n",
       " 'KCe',\n",
       " 'KPr',\n",
       " 'KNd',\n",
       " 'KTa',\n",
       " 'KMo',\n",
       " 'KY',\n",
       " 'NaBi',\n",
       " 'NaSb',\n",
       " 'NaCe',\n",
       " 'NaPr',\n",
       " 'NaNd',\n",
       " 'NaTa',\n",
       " 'NaMo',\n",
       " 'NaY',\n",
       " 'LiBi',\n",
       " 'LiSb',\n",
       " 'LiCe',\n",
       " 'LiPr',\n",
       " 'LiNd',\n",
       " 'LiTa',\n",
       " 'LiMo',\n",
       " 'LiY']"
      ]
     },
     "execution_count": 3,
     "metadata": {},
     "output_type": "execute_result"
    }
   ],
   "source": [
    "B_combined_list = []\n",
    "for B1 in ['Ag','Cu','K','Na','Li']:\n",
    "    for B2 in ['Bi','Sb','Ce','Pr','Nd','Ta','Mo','Y']:\n",
    "        B1B2 = B1+B2\n",
    "        B_combined_list.append(B1B2)\n",
    "B_combined_list"
   ]
  },
  {
   "cell_type": "code",
   "execution_count": 4,
   "metadata": {
    "collapsed": false
   },
   "outputs": [],
   "source": [
    "value_eg = []\n",
    "value_eg_direct = []\n",
    "lines = data_eg.readlines()\n",
    "for line in lines:\n",
    "    match = re.match(r\"([a-z]+)([ ]+)([a-z]+)([ ]+)([a-z]+)([ ]+)([a-z]+)([ ]+)([0-9.]+)([ ]+)([0-9.]+)\", line, re.I)\n",
    "    if match:\n",
    "        items = match.groups()\n",
    "        value_eg.append(float(items[8]))\n",
    "        value_eg_direct.append(float(items[10]))"
   ]
  },
  {
   "cell_type": "code",
   "execution_count": 5,
   "metadata": {
    "collapsed": false
   },
   "outputs": [],
   "source": [
    "for i in range(len(value_eg)):\n",
    "    if value_eg[i] >= 1.5:\n",
    "        value_eg[i] = 1.5"
   ]
  },
  {
   "cell_type": "code",
   "execution_count": 6,
   "metadata": {
    "collapsed": false
   },
   "outputs": [],
   "source": [
    "index = 0\n",
    "for a in range(3):\n",
    "    for b in range(40):\n",
    "        for c in range(4):\n",
    "            eg[c][a][b] = value_eg[index]\n",
    "            index = index + 1"
   ]
  },
  {
   "cell_type": "code",
   "execution_count": 7,
   "metadata": {
    "collapsed": false
   },
   "outputs": [],
   "source": [
    "fig = figure()\n",
    "#cmap = cm.cool\n",
    "w = 0.75\n",
    "h = 0.15\n",
    "ax = []\n",
    "images = []\n",
    "vmin = 1e40\n",
    "vmax = -1e40\n",
    "cax = fig.add_axes([0.9, 0.2, 0.02, 0.6])"
   ]
  },
  {
   "cell_type": "code",
   "execution_count": 8,
   "metadata": {
    "collapsed": false
   },
   "outputs": [],
   "source": [
    "for i in range(4):\n",
    "    pos = [0.1, 0.66 - i*1.2*h, w, h]\n",
    "    a = fig.add_axes(pos)\n",
    "    plt.yticks(np.arange(3),['K','Rb','Cs'], size='x-small')\n",
    "    plt.xticks(np.arange(40),[])\n",
    "        \n",
    "    if i == 3:\n",
    "        plt.xticks(np.arange(40),B_combined_list, size='x-small', rotation=90)\n",
    "        \n",
    "    ax2 = plt.twinx(ax=None)\n",
    "    if i == 0:\n",
    "        plt.yticks(np.arange(3),['','F',''], size='x-small')\n",
    "    if i == 1:\n",
    "        plt.yticks(np.arange(3),['','Cl',''], size='x-small')\n",
    "    if i == 2:\n",
    "        plt.yticks(np.arange(3),['','Br',''], size='x-small')\n",
    "    if i == 3:\n",
    "        plt.yticks(np.arange(3),['','I',''], size='x-small')\n",
    "        \n",
    "    dd = ravel(eg[i])\n",
    "    # Manually find the min and max of all colors for\n",
    "    # use in setting the color scale.\n",
    "    vmin = min(vmin, amin(dd))\n",
    "    vmax = max(vmax, amax(dd))\n",
    "    images.append(a.imshow(eg[i],interpolation = 'nearest',aspect=2))\n",
    "\n",
    "    ax.append(a)"
   ]
  },
  {
   "cell_type": "code",
   "execution_count": 9,
   "metadata": {
    "collapsed": false
   },
   "outputs": [
    {
     "name": "stderr",
     "output_type": "stream",
     "text": [
      "/usr/local/lib/python2.7/site-packages/matplotlib/collections.py:590: FutureWarning: elementwise comparison failed; returning scalar instead, but in the future will perform elementwise comparison\n",
      "  if self._edgecolors == str('face'):\n"
     ]
    }
   ],
   "source": [
    "# Set the first image as the master, with all the others\n",
    "# observing it for changes in cmap or norm.\n",
    "\n",
    "class ImageFollower:\n",
    "    'update image in response to changes in clim or cmap on another image'\n",
    "    def __init__(self, follower):\n",
    "        self.follower = follower\n",
    "    def __call__(self, leader):\n",
    "        self.follower.set_cmap(leader.get_cmap())\n",
    "        self.follower.set_clim(leader.get_clim())\n",
    "norm = colors.Normalize(vmin=vmin, vmax=vmax)\n",
    "for i, im in enumerate(images):\n",
    "    im.set_norm(norm)\n",
    "    if i > 0:\n",
    "        images[0].callbacksSM.connect('changed', ImageFollower(im))\n",
    "fig.colorbar(images[0], cax)\n",
    "axes(ax[0])     # Return the current axes to the first one,\n",
    "sci(images[0])  # because the current image must be in current axes.\n",
    "show()"
   ]
  },
  {
   "cell_type": "code",
   "execution_count": null,
   "metadata": {
    "collapsed": false
   },
   "outputs": [],
   "source": []
  }
 ],
 "metadata": {
  "anaconda-cloud": {},
  "kernelspec": {
   "display_name": "Python 2",
   "language": "python",
   "name": "python2"
  },
  "language_info": {
   "codemirror_mode": {
    "name": "ipython",
    "version": 2
   },
   "file_extension": ".py",
   "mimetype": "text/x-python",
   "name": "python",
   "nbconvert_exporter": "python",
   "pygments_lexer": "ipython2",
   "version": "2.7.13"
  }
 },
 "nbformat": 4,
 "nbformat_minor": 0
}
