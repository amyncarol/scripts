{
 "cells": [
  {
   "cell_type": "code",
   "execution_count": 1,
   "metadata": {
    "collapsed": false
   },
   "outputs": [],
   "source": [
    "from pymatgen.symmetry.analyzer import SpacegroupAnalyzer\n",
    "from pymatgen.io.vasp.inputs import Poscar\n",
    "from pymatgen.core.structure import IStructure\n",
    "from pymatgen.core.periodic_table import Specie\n",
    "from pymatgen.core.periodic_table import Element"
   ]
  },
  {
   "cell_type": "code",
   "execution_count": 2,
   "metadata": {
    "collapsed": false
   },
   "outputs": [
    {
     "name": "stderr",
     "output_type": "stream",
     "text": [
      "/usr/local/lib/python2.7/site-packages/pymatgen/io/vasp/inputs.py:225: UnicodeWarning: Unicode equal comparison failed to convert both arguments to Unicode - interpreting them as being unequal\n",
      "  if f == \"POTCAR\":\n"
     ]
    }
   ],
   "source": [
    "poscar = Poscar.from_file(\"/Users/yao/Cs2SnI6_std.vasp\")"
   ]
  },
  {
   "cell_type": "code",
   "execution_count": 3,
   "metadata": {
    "collapsed": true
   },
   "outputs": [],
   "source": [
    "struct = poscar.structure"
   ]
  },
  {
   "cell_type": "code",
   "execution_count": 4,
   "metadata": {
    "collapsed": false
   },
   "outputs": [],
   "source": [
    "sa = SpacegroupAnalyzer(structure=struct)"
   ]
  },
  {
   "cell_type": "code",
   "execution_count": 5,
   "metadata": {
    "collapsed": false
   },
   "outputs": [
    {
     "data": {
      "text/plain": [
       "u'Fm-3m'"
      ]
     },
     "execution_count": 5,
     "metadata": {},
     "output_type": "execute_result"
    }
   ],
   "source": [
    "sa.get_spacegroup_symbol()"
   ]
  },
  {
   "cell_type": "code",
   "execution_count": 6,
   "metadata": {
    "collapsed": false
   },
   "outputs": [
    {
     "name": "stdout",
     "output_type": "stream",
     "text": [
      "I-I bond:\n",
      "(PeriodicSite: I (2.9107, 6.0328, -6.0328) [0.2412, 0.2412, 0.7588], 4.4152209900877342)\n",
      "(PeriodicSite: I (8.9435, 6.0328, -12.0655) [0.2412, 1.2412, 0.7588], 4.1163762035876754)\n",
      "(PeriodicSite: I (3.1220, 6.0328, -12.0655) [-0.2412, 0.7588, 1.2412], 4.1163762035876728)\n",
      "(PeriodicSite: I (9.1548, 6.0328, -6.0328) [0.7588, 0.7588, 0.2412], 4.4152209900877342)\n",
      "(PeriodicSite: I (6.0328, 2.9107, -6.0328) [0.2412, 0.7588, 0.2412], 4.4152209900877351)\n",
      "(PeriodicSite: I (6.0328, 8.9435, -12.0655) [0.2412, 0.7588, 1.2412], 4.1163762035876719)\n",
      "(PeriodicSite: I (6.0328, 3.1220, -12.0655) [-0.2412, 1.2412, 0.7588], 4.1163762035876736)\n",
      "(PeriodicSite: I (6.0328, 9.1548, -6.0328) [0.7588, 0.2412, 0.7588], 4.4152209900877359)\n",
      "Sn-I bond:\n",
      "(PeriodicSite: I (0.0000, 0.0000, 2.9107) [0.2412, -0.2412, -0.2412], 2.9107175274717814)\n",
      "(PeriodicSite: I (-0.0000, -0.0000, -2.9107) [-0.2412, 0.2412, 0.2412], 2.9107175274717774)\n",
      "(PeriodicSite: I (2.9107, 0.0000, -0.0000) [0.2412, 0.2412, -0.2412], 2.91071752747178)\n",
      "(PeriodicSite: I (-2.9107, 0.0000, 0.0000) [-0.2412, -0.2412, 0.2412], 2.9107175274717791)\n",
      "(PeriodicSite: I (0.0000, 2.9107, 0.0000) [0.2412, -0.2412, 0.2412], 2.9107175274717809)\n",
      "(PeriodicSite: I (0.0000, -2.9107, 0.0000) [-0.2412, 0.2412, -0.2412], 2.91071752747178)\n"
     ]
    }
   ],
   "source": [
    "a = 12.06550046\n",
    "b = 0.741243\n",
    "struct_std_conv = IStructure.from_spacegroup(sg='Fm-3m',lattice=[[ a,   0.        ,   0.        ],\n",
    "                                               [  0.        ,  a,   0.        ], \n",
    "                                               [  0.        ,   0.        ,  a]],\n",
    "                          species=['Cs','Sn','I'], coords = [[ 0.75    ,  0.75    ,  0.75    ], \n",
    "                                                       [ 0.      ,  0.      ,  0.      ],\n",
    "                                                       [ 0.5     ,  0.      ,  b]])                         \n",
    "struct_std_prim = struct_std_conv.get_primitive_structure() \n",
    "print \"I-I bond:\"\n",
    "for (site, dist) in struct_std_prim.get_neighbors(struct_std_prim.sites[2], r=4.5):\n",
    "    if site.specie == Element(\"I\"):\n",
    "        print (site, dist)\n",
    "print \"Sn-I bond:\"      \n",
    "for (site, dist) in struct_std_prim.get_neighbors(struct_std_prim.sites[8], r=3):\n",
    "    if site.specie == Element(\"I\"):\n",
    "        print (site, dist)\n",
    "                       "
   ]
  },
  {
   "cell_type": "code",
   "execution_count": null,
   "metadata": {
    "collapsed": false
   },
   "outputs": [],
   "source": []
  },
  {
   "cell_type": "code",
   "execution_count": 7,
   "metadata": {
    "collapsed": false
   },
   "outputs": [
    {
     "name": "stdout",
     "output_type": "stream",
     "text": [
      "I-I bond:\n",
      "(PeriodicSite: I (2.8107, 5.9328, -5.9328) [0.2369, 0.2369, 0.7631], 4.4151957916384026)\n",
      "(PeriodicSite: I (8.7435, 5.9328, -11.8655) [0.2369, 1.2369, 0.7631], 3.9749800457996982)\n",
      "(PeriodicSite: I (3.1220, 5.9328, -11.8655) [-0.2369, 0.7631, 1.2369], 3.9749800457996964)\n",
      "(PeriodicSite: I (9.0548, 5.9328, -5.9328) [0.7631, 0.7631, 0.2369], 4.4151957916384035)\n",
      "(PeriodicSite: I (5.9328, 2.8107, -5.9328) [0.2369, 0.7631, 0.2369], 4.4151957916384026)\n",
      "(PeriodicSite: I (5.9328, 8.7435, -11.8655) [0.2369, 0.7631, 1.2369], 3.9749800457996982)\n",
      "(PeriodicSite: I (5.9328, 3.1220, -11.8655) [-0.2369, 1.2369, 0.7631], 3.9749800457996964)\n",
      "(PeriodicSite: I (5.9328, 9.0548, -5.9328) [0.7631, 0.2369, 0.7631], 4.4151957916384035)\n",
      "Sn-I bond:\n",
      "(PeriodicSite: I (-0.0000, -0.0000, 2.8107) [0.2369, -0.2369, -0.2369], 2.8107353454661785)\n",
      "(PeriodicSite: I (-0.0000, -0.0000, -2.8107) [-0.2369, 0.2369, 0.2369], 2.810735345466179)\n",
      "(PeriodicSite: I (2.8107, -0.0000, -0.0000) [0.2369, 0.2369, -0.2369], 2.8107353454661794)\n",
      "(PeriodicSite: I (-2.8107, -0.0000, 0.0000) [-0.2369, -0.2369, 0.2369], 2.8107353454661799)\n",
      "(PeriodicSite: I (-0.0000, 2.8107, -0.0000) [0.2369, -0.2369, 0.2369], 2.8107353454661794)\n",
      "(PeriodicSite: I (-0.0000, -2.8107, 0.0000) [-0.2369, 0.2369, -0.2369], 2.8107353454661799)\n"
     ]
    }
   ],
   "source": [
    "a = 12.06550046 - 0.2\n",
    "b = 0.741243 - 0.00436\n",
    "struct_new_conv = IStructure.from_spacegroup(sg='Fm-3m',lattice=[[ a,   0.        ,   0.        ],\n",
    "                                               [  0.        ,  a,   0.        ], \n",
    "                                               [  0.        ,   0.        ,  a]],\n",
    "                          species=['Cs','Sn','I'], coords = [[ 0.75    ,  0.75    ,  0.75    ], \n",
    "                                                       [ 0.      ,  0.      ,  0.      ],\n",
    "                                                       [ 0.5     ,  0.      ,  b]])                         \n",
    "struct_new_prim = struct_new_conv.get_primitive_structure() \n",
    "\n",
    "print \"I-I bond:\"\n",
    "for (site, dist) in struct_new_prim.get_neighbors(struct_new_prim.sites[2], r=4.5):\n",
    "    if site.specie == Element(\"I\"):\n",
    "        print (site, dist)\n",
    "print \"Sn-I bond:\"      \n",
    "for (site, dist) in struct_new_prim.get_neighbors(struct_new_prim.sites[8], r=3):\n",
    "    if site.specie == Element(\"I\"):\n",
    "        print (site, dist)"
   ]
  },
  {
   "cell_type": "code",
   "execution_count": 8,
   "metadata": {
    "collapsed": false
   },
   "outputs": [],
   "source": [
    "poscar = Poscar(struct_new_prim)\n",
    "poscar.write_file(\"/Users/yao/SnI2_81.vasp\")"
   ]
  },
  {
   "cell_type": "code",
   "execution_count": null,
   "metadata": {
    "collapsed": true
   },
   "outputs": [],
   "source": []
  }
 ],
 "metadata": {
  "kernelspec": {
   "display_name": "Python 2",
   "language": "python",
   "name": "python2"
  },
  "language_info": {
   "codemirror_mode": {
    "name": "ipython",
    "version": 2
   },
   "file_extension": ".py",
   "mimetype": "text/x-python",
   "name": "python",
   "nbconvert_exporter": "python",
   "pygments_lexer": "ipython2",
   "version": "2.7.13"
  }
 },
 "nbformat": 4,
 "nbformat_minor": 1
}
