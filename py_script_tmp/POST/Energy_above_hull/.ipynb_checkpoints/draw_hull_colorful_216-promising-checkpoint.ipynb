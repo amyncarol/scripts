{
 "cells": [
  {
   "cell_type": "code",
   "execution_count": 75,
   "metadata": {
    "collapsed": false
   },
   "outputs": [],
   "source": [
    "import numpy as np\n",
    "import matplotlib.pyplot as plt\n",
    "import matplotlib.cbook as cbook\n",
    "import re\n",
    "from matplotlib.pyplot import figure, show, axes, sci\n",
    "from matplotlib import cm, colors\n",
    "from matplotlib.font_manager import FontProperties\n",
    "from numpy import amin, amax, ravel\n",
    "import numpy.ma as ma"
   ]
  },
  {
   "cell_type": "code",
   "execution_count": 76,
   "metadata": {
    "collapsed": false
   },
   "outputs": [],
   "source": [
    "eg = np.zeros( (3,3,9) )\n",
    "data_eg = open('/Users/yao/Google Drive/data/216/vasprun-files/hull','r')"
   ]
  },
  {
   "cell_type": "code",
   "execution_count": 77,
   "metadata": {
    "collapsed": false
   },
   "outputs": [],
   "source": [
    "value_eg = []\n",
    "lines = data_eg.readlines()\n",
    "for line in lines:\n",
    "    match = re.match(r\"([a-z]+)([ ]+)([a-z]+)([ ]+)([a-z]+)([ ]+)([0-9.]+)\", line, re.I)\n",
    "    if match:\n",
    "        items = match.groups()\n",
    "        value_eg.append(float(items[6]))"
   ]
  },
  {
   "cell_type": "code",
   "execution_count": 78,
   "metadata": {
    "collapsed": false
   },
   "outputs": [],
   "source": [
    "#for i in range(len(value_eg)):\n",
    "#    if value_eg[i] >= 1:\n",
    "#        value_eg[i] = 1"
   ]
  },
  {
   "cell_type": "code",
   "execution_count": 79,
   "metadata": {
    "collapsed": false
   },
   "outputs": [],
   "source": [
    "index = 0\n",
    "for a in range(3):\n",
    "    for b in range(9):\n",
    "        for c in range(3):\n",
    "            eg[c][a][b] = value_eg[index]\n",
    "            index = index + 1"
   ]
  },
  {
   "cell_type": "code",
   "execution_count": 80,
   "metadata": {
    "collapsed": true
   },
   "outputs": [],
   "source": [
    "masked_eg = ma.masked_where(eg>1000, eg)"
   ]
  },
  {
   "cell_type": "code",
   "execution_count": 81,
   "metadata": {
    "collapsed": false
   },
   "outputs": [],
   "source": [
    "fig = figure()\n",
    "#cmap = cm.cool\n",
    "w = 1.2\n",
    "h = 0.15\n",
    "ax = []\n",
    "images = []\n",
    "vmin = 1e40\n",
    "vmax = -1e40\n",
    "cax = fig.add_axes([0.8, 0.2, 0.02, 0.5])"
   ]
  },
  {
   "cell_type": "code",
   "execution_count": 82,
   "metadata": {
    "collapsed": false
   },
   "outputs": [],
   "source": [
    "for i in range(3):\n",
    "    pos = [0, 0.56 - i*1.2*h, w, h]\n",
    "    a = fig.add_axes(pos)\n",
    "    plt.yticks(np.arange(3),['K','Rb','Cs'], size='small')\n",
    "    plt.xticks(np.arange(9),[])\n",
    "    if i == 2: \n",
    "        plt.xticks(np.arange(9),['Si','Ge','Sn','Pb','Ni','Pd','Pt','Se','Te'],size='small')\n",
    "    dd = ravel(masked_eg[i])\n",
    "    # Manually find the min and max of all colors for\n",
    "    # use in setting the color scale.\n",
    "    vmin = min(vmin, amin(dd))\n",
    "    vmax = max(vmax, amax(dd))\n",
    "    images.append(a.imshow(masked_eg[i],interpolation = 'nearest',aspect=1))\n",
    "\n",
    "    ax.append(a)"
   ]
  },
  {
   "cell_type": "code",
   "execution_count": 83,
   "metadata": {
    "collapsed": false
   },
   "outputs": [
    {
     "data": {
      "text/plain": [
       "<matplotlib.text.Text at 0x117ae7f98>"
      ]
     },
     "execution_count": 83,
     "metadata": {},
     "output_type": "execute_result"
    }
   ],
   "source": [
    "# Set the first image as the master, with all the others\n",
    "# observing it for changes in cmap or norm.\n",
    "\n",
    "class ImageFollower:\n",
    "    'update image in response to changes in clim or cmap on another image'\n",
    "    def __init__(self, follower):\n",
    "        self.follower = follower\n",
    "    def __call__(self, leader):\n",
    "        self.follower.set_cmap(leader.get_cmap())\n",
    "        self.follower.set_clim(leader.get_clim())\n",
    "norm = colors.Normalize(vmin=vmin, vmax=vmax)\n",
    "for i, im in enumerate(images):\n",
    "    im.set_norm(norm)\n",
    "    if i > 0:\n",
    "        images[0].callbacksSM.connect('changed', ImageFollower(im))\n",
    "fig.colorbar(images[0], cax)\n",
    "axes(ax[0])     # Return the current axes to the first one,\n",
    "sci(images[0])  # because the current image must be in current axes.\n",
    "\n",
    "#rect = fig.patch\n",
    "#rect.set_facecolor('white')\n",
    "\n",
    "ax[0].text(1.02, 0.45, \"Cl\",size='small',transform=ax[0].transAxes)\n",
    "ax[1].text(1.02, 0.45, \"Br\",size='small',transform=ax[1].transAxes)\n",
    "ax[2].text(1.02, 0.45, \"I\",size='small',transform=ax[2].transAxes)\n",
    "\n",
    "ax[0].text(1.2, 1.1, \"meV\",size=10,transform=ax[0].transAxes)\n",
    "ax[0].text(-0.16, 1.1, \"a\", size=13,transform=ax[0].transAxes)\n"
   ]
  },
  {
   "cell_type": "code",
   "execution_count": 84,
   "metadata": {
    "collapsed": true
   },
   "outputs": [],
   "source": [
    "import pandas as pd\n",
    "with open('/Users/yao/Google Drive/data/216/exp_structure.csv','r') as f:\n",
    "    df = pd.read_csv(f)"
   ]
  },
  {
   "cell_type": "code",
   "execution_count": 85,
   "metadata": {
    "collapsed": true
   },
   "outputs": [],
   "source": [
    "def draw_symbol(spacegroup, ax, x, y):\n",
    "    if spacegroup == 'Fm-3m':\n",
    "        ax.plot([x], [y], 'o', mfc='none', mec = 'w', mew = 1, ms=6)\n",
    "    elif spacegroup == 'P4/mnc':\n",
    "        ax.plot([x], [y], 's', mfc='none', mec = 'w', mew = 1, ms=8)\n",
    "    elif spacegroup == 'P2_1/c':\n",
    "        ax.plot([x], [y], 'x', mfc='none', mec = 'w', mew = 1)\n",
    "    elif spacegroup == 'Pnma':\n",
    "        ax.plot([x], [y], '+', mfc='none', mec = 'w', mew = 1)\n",
    "    elif spacegroup == 'I4/m':\n",
    "        ax.plot([x], [y], '+', mfc='none', mec = 'w', mew = 1)\n",
    "    elif spacegroup == 'I4/mmm':\n",
    "        ax.plot([x], [y], '+', mfc='none', mec = 'w', mew = 1)"
   ]
  },
  {
   "cell_type": "code",
   "execution_count": 86,
   "metadata": {
    "collapsed": false
   },
   "outputs": [
    {
     "name": "stdout",
     "output_type": "stream",
     "text": [
      "0\n"
     ]
    },
    {
     "data": {
      "image/png": "[encoded data removed]",
      "text/plain": [
       "<matplotlib.figure.Figure at 0x117686ef0>"
      ]
     },
     "metadata": {},
     "output_type": "display_data"
    }
   ],
   "source": [
    "X_list = ['Cl','Br','I']\n",
    "A_list = ['K','Rb','Cs']\n",
    "B_list = ['Si','Ge','Sn','Pb','Ni','Pd','Pt','Se','Te']\n",
    "print(X_list.index('Cl'))\n",
    "for i, comp in enumerate(df.Compound):\n",
    "    m = re.match('([A-Z][a-z]*)(\\d)([A-Z][a-z]*)([A-Z][a-z]*)(\\d)', comp)\n",
    "    if m: \n",
    "        A = m.group(1)\n",
    "        B = m.group(3)\n",
    "        X = m.group(4)\n",
    "        draw_symbol(df.iloc[i,1], ax[X_list.index(X)], B_list.index(B), A_list.index(A))\n",
    "plt.savefig('/Users/yao/Desktop/216-figure/hull_cubic_81.pdf', dpi=300)\n",
    "show()"
   ]
  }
 ],
 "metadata": {
  "anaconda-cloud": {},
  "kernelspec": {
   "display_name": "Python [conda env:216paper]",
   "language": "python",
   "name": "conda-env-216paper-py"
  },
  "language_info": {
   "codemirror_mode": {
    "name": "ipython",
    "version": 3
   },
   "file_extension": ".py",
   "mimetype": "text/x-python",
   "name": "python",
   "nbconvert_exporter": "python",
   "pygments_lexer": "ipython3",
   "version": "3.5.2"
  }
 },
 "nbformat": 4,
 "nbformat_minor": 0
}
