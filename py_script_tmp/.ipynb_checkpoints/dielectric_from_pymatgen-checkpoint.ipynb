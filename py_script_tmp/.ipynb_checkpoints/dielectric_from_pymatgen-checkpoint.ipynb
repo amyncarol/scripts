{
 "cells": [
  {
   "cell_type": "code",
   "execution_count": 1,
   "metadata": {
    "collapsed": true
   },
   "outputs": [],
   "source": [
    "from pymatgen.io.vasp.outputs import Vasprun\n",
    "import matplotlib.pyplot as plt\n",
    "import re"
   ]
  },
  {
   "cell_type": "code",
   "execution_count": 2,
   "metadata": {
    "collapsed": false
   },
   "outputs": [
    {
     "name": "stderr",
     "output_type": "stream",
     "text": [
      "/usr/local/lib/python2.7/site-packages/pymatgen/io/vasp/outputs.py:809: UserWarning: No POTCAR file with matching TITEL fields was found in /Users/yao/Google Drive/data/216/216-freq-dielectric/Cs2SnI6/ip/NBANDS-96\n",
      "  \" was found in {}\".format(os.path.abspath(p)))\n"
     ]
    }
   ],
   "source": [
    "# for LOPTICS parsing\n",
    "vr = Vasprun('/Users/yao/Google Drive/data/216/216-freq-dielectric/Cs2SnI6/ip/NBANDS-96/vasprun.xml')\n",
    "energy = vr.dielectric[0]\n",
    "real_tensor = vr.dielectric[1]\n",
    "imag_tensor = vr.dielectric[2]\n",
    "nedos = len(energy)\n",
    "real_iso = []\n",
    "imag_iso = []\n",
    "for i in range(nedos):\n",
    "    real_iso.append(real_tensor[i][0])\n",
    "    imag_iso.append(imag_tensor[i][0])"
   ]
  },
  {
   "cell_type": "code",
   "execution_count": null,
   "metadata": {
    "collapsed": false
   },
   "outputs": [],
   "source": []
  },
  {
   "cell_type": "code",
   "execution_count": 3,
   "metadata": {
    "collapsed": false
   },
   "outputs": [],
   "source": [
    "#for CHI parsing\n",
    "energy_ip = []\n",
    "real_ip = []\n",
    "imag_ip = []\n",
    "energy_rpa = []\n",
    "real_rpa = []\n",
    "imag_rpa = []\n",
    "with open(\"/Users/yao/Google Drive/data/216/216-freq-dielectric/Cs2SnI6/lfe-rpa/NBANDS-96/chi0.dat\",'r') as f:\n",
    "    for line in f:\n",
    "        energy_ip.append(float(line.split()[0]))\n",
    "        real_ip.append(float(line.split()[1]))\n",
    "        imag_ip.append(float(line.split()[2]))\n",
    "with open(\"/Users/yao/Google Drive/data/216/216-freq-dielectric/Cs2SnI6/lfe-rpa/NBANDS-96/chi.dat\",'r') as f:\n",
    "    for line in f:\n",
    "        energy_rpa.append(float(line.split()[0]))\n",
    "        real_rpa.append(float(line.split()[1]))\n",
    "        imag_rpa.append(float(line.split()[2]))"
   ]
  },
  {
   "cell_type": "code",
   "execution_count": null,
   "metadata": {
    "collapsed": true
   },
   "outputs": [],
   "source": []
  },
  {
   "cell_type": "code",
   "execution_count": 4,
   "metadata": {
    "collapsed": false
   },
   "outputs": [],
   "source": [
    "plt.plot(energy, imag_iso, label='imaginery-ip(loptics)')\n",
    "plt.plot(energy_ip, imag_ip, label='imaginery-ip(chi)')\n",
    "plt.plot(energy_rpa, imag_rpa, label='imaginery-lfe/rpa(chi)')\n",
    "#plt.plot(energy, real_iso, label='real')\n",
    "plt.legend()\n",
    "plt.show()\n",
    "    "
   ]
  },
  {
   "cell_type": "code",
   "execution_count": null,
   "metadata": {
    "collapsed": false
   },
   "outputs": [],
   "source": []
  },
  {
   "cell_type": "code",
   "execution_count": null,
   "metadata": {
    "collapsed": true
   },
   "outputs": [],
   "source": []
  }
 ],
 "metadata": {
  "kernelspec": {
   "display_name": "Python 2",
   "language": "python",
   "name": "python2"
  },
  "language_info": {
   "codemirror_mode": {
    "name": "ipython",
    "version": 2
   },
   "file_extension": ".py",
   "mimetype": "text/x-python",
   "name": "python",
   "nbconvert_exporter": "python",
   "pygments_lexer": "ipython2",
   "version": "2.7.9"
  }
 },
 "nbformat": 4,
 "nbformat_minor": 1
}
