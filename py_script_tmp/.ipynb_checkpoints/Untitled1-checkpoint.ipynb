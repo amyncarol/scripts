{
 "metadata": {
  "name": "",
  "signature": "sha256:e963c9d30481232076bd9c0ad9e9fdfdc0f8a0c53063d7196ac6d9b50f962f9b"
 },
 "nbformat": 3,
 "nbformat_minor": 0,
 "worksheets": [
  {
   "cells": [
    {
     "cell_type": "code",
     "collapsed": false,
     "input": [
      "from os import listdir\n",
      "import os"
     ],
     "language": "python",
     "metadata": {},
     "outputs": [],
     "prompt_number": 6
    },
    {
     "cell_type": "code",
     "collapsed": false,
     "input": [
      "for i in listdir('.'):\n",
      "    print i"
     ],
     "language": "python",
     "metadata": {},
     "outputs": [
      {
       "output_type": "stream",
       "stream": "stdout",
       "text": [
        ".DS_Store\n",
        ".ipynb_checkpoints\n",
        "216_relax.ipynb\n",
        "analyse.py\n",
        "bandgap trend.ipynb\n",
        "bands_kpoints.ipynb\n",
        "bsPlot.ipynb\n",
        "chg_profile.ipynb\n",
        "compress.py\n",
        "draw_colorful.ipynb\n",
        "draw_locpot.ipynb\n",
        "example.ipynb\n",
        "ez_setup.py\n",
        "figure1.ipynb\n",
        "image_charge.ipynb\n",
        "MAPI.ipynb\n",
        "mk_supercell.ipynb\n",
        "modify_structure.ipynb\n",
        "POSCAR_221.vasp\n",
        "POSCAR_222\n",
        "POSCAR_222.vasp\n",
        "POSCAR_U4.vasp\n",
        "proj_chg.ipynb\n",
        "rmWave.py\n",
        "rotate_structure.ipynb\n",
        "run all the folder in this dir.ipynb\n",
        "run.py\n",
        "slab.ipynb\n",
        "space_group.ipynb\n",
        "strain.ipynb\n",
        "strain_sno_113.ipynb\n",
        "strainCaccordingly.ipynb\n",
        "test.ipynb\n",
        "uncompress.py\n",
        "Untitled0.ipynb\n",
        "Untitled0.py\n",
        "Untitled1.ipynb\n",
        "uRamp.py\n"
       ]
      }
     ],
     "prompt_number": 10
    },
    {
     "cell_type": "code",
     "collapsed": false,
     "input": [
      "os.mkdir(\".\" + \"/wfn\")"
     ],
     "language": "python",
     "metadata": {},
     "outputs": []
    }
   ],
   "metadata": {}
  }
 ]
}