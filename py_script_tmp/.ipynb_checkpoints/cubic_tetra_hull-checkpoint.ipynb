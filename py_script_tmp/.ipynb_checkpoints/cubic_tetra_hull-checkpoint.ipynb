{
 "metadata": {
  "name": "",
  "signature": "sha256:e14cd332bf86f4884e2e515669dbe349ec61b31bf5cb6669ba6bdff9fcd91775"
 },
 "nbformat": 3,
 "nbformat_minor": 0,
 "worksheets": [
  {
   "cells": [
    {
     "cell_type": "code",
     "collapsed": false,
     "input": [
      "import numpy as np\n",
      "import matplotlib.pyplot as plt\n",
      "import matplotlib.cbook as cbook\n",
      "import re\n",
      "from matplotlib.pyplot import figure, show, axes, sci\n",
      "from matplotlib import cm, colors\n",
      "from matplotlib.font_manager import FontProperties\n",
      "from numpy import amin, amax, ravel"
     ],
     "language": "python",
     "metadata": {},
     "outputs": [],
     "prompt_number": 10
    },
    {
     "cell_type": "code",
     "collapsed": false,
     "input": [
      "data_cubic = open('/Users/yao/Hull_SnNiMn_cubic','r')\n",
      "data_tet = open('/Users/yao/Hull_SnNiMn_tet','r')"
     ],
     "language": "python",
     "metadata": {},
     "outputs": [],
     "prompt_number": 24
    },
    {
     "cell_type": "code",
     "collapsed": false,
     "input": [
      "value_cubic = []\n",
      "compounds = []\n",
      "lines = data_cubic.readlines()\n",
      "for line in lines:\n",
      "    match = re.match(r\"([a-z0-9]+)([ ]+)([0-9.]+)\", line, re.I)\n",
      "    if match:\n",
      "        items = match.groups()\n",
      "        compounds.append(items[0])\n",
      "        value_cubic.append(float(items[2]))\n",
      "print value_cubic\n",
      "print compounds"
     ],
     "language": "python",
     "metadata": {},
     "outputs": [
      {
       "output_type": "stream",
       "stream": "stdout",
       "text": [
        "[2.4873, 1.2309, 0.0673, 0.5232, 0.0532, 0.0024, 1.1649, 0.4518, 0.0, 2.5649, 1.3267, 0.1534, 0.6428, 0.1525, 0.0, 1.2536, 0.5542, 0.0, 2.691, 1.4799, 0.2883, 0.7755, 0.314, 1.3985, 0.7113, 0.0316]\n",
        "['K2Sn1Cl6', 'K2Sn1Br6', 'K2Sn1I6', 'K2Ni1Cl6', 'K2Ni1Br6', 'K2Ni1I6', 'K2Mn1Cl6', 'K2Mn1Br6', 'K2Mn1I6', 'Rb2Sn1Cl6', 'Rb2Sn1Br6', 'Rb2Sn1I6', 'Rb2Ni1Cl6', 'Rb2Ni1Br6', 'Rb2Ni1I6', 'Rb2Mn1Cl6', 'Rb2Mn1Br6', 'Rb2Mn1I6', 'Cs2Sn1Cl6', 'Cs2Sn1Br6', 'Cs2Sn1I6', 'Cs2Ni1Cl6', 'Cs2Ni1Br6', 'Cs2Mn1Cl6', 'Cs2Mn1Br6', 'Cs2Mn1I6']\n"
       ]
      }
     ],
     "prompt_number": 25
    },
    {
     "cell_type": "code",
     "collapsed": false,
     "input": [
      "value_tet = []\n",
      "lines = data_tet.readlines()\n",
      "for line in lines:\n",
      "    match = re.match(r\"([a-z0-9]+)([ ]+)([0-9.]+)\", line, re.I)\n",
      "    if match:\n",
      "        items = match.groups()\n",
      "        value_tet.append(float(items[2]))\n",
      "print value_tet"
     ],
     "language": "python",
     "metadata": {},
     "outputs": [
      {
       "output_type": "stream",
       "stream": "stdout",
       "text": [
        "[2.7105, 1.567, 0.6576, 0.5098, 0.2259, 0.1296, 1.185, 0.6077, 0.2152, 2.5896, 1.5453, 0.6711, 0.617, 0.1391, 0.0286, 1.2358, 0.5378, 0.099, 2.6891, 1.4697, 0.3674, 0.7682, 0.2843, 1.3765, 0.6838, 0.0129]\n"
       ]
      }
     ],
     "prompt_number": 26
    },
    {
     "cell_type": "code",
     "collapsed": false,
     "input": [
      "fig, ax = plt.subplots()\n",
      "ax.plot(value_cubic, '-o', label = 'cubic', linewidth = 2, markersize = 10)\n",
      "ax.plot(value_tet, '-o', label = 'tetra', linewidth = 2, markersize = 10)\n",
      "for x, y, z in zip(np.arange(26), value_tet, compounds):\n",
      "    ax.text(x, y,'%s' % z, rotation=90)\n",
      "show()"
     ],
     "language": "python",
     "metadata": {},
     "outputs": []
    },
    {
     "cell_type": "code",
     "collapsed": false,
     "input": [],
     "language": "python",
     "metadata": {},
     "outputs": []
    }
   ],
   "metadata": {}
  }
 ]
}