{
 "metadata": {
  "name": "",
  "signature": "sha256:1fea63cb289cbe038d0c961b97854c8813fa7430596c9a00fa12d880ebb0ce65"
 },
 "nbformat": 3,
 "nbformat_minor": 0,
 "worksheets": [
  {
   "cells": [
    {
     "cell_type": "code",
     "collapsed": false,
     "input": [
      "import numpy as np\n",
      "import matplotlib.pyplot as plt\n",
      "import re"
     ],
     "language": "python",
     "metadata": {},
     "outputs": [],
     "prompt_number": 10
    },
    {
     "cell_type": "code",
     "collapsed": false,
     "input": [],
     "language": "python",
     "metadata": {},
     "outputs": [],
     "prompt_number": 77
    },
    {
     "cell_type": "code",
     "collapsed": false,
     "input": [
      "#AECCAR0\n",
      "#chg_0 = np.empty((336,60,48))\n",
      "#chg_1d_0  = np.empty(967680)\n",
      "#chg_a_0 = np.empty(336)\n",
      "chg = np.empty((480,80,56))\n",
      "chg_1d  = np.empty(2150400)\n",
      "chg_a = np.empty(480)\n",
      "i = 0\n",
      "with open('/Users/yao/Desktop/CHG.spin', 'r') as f:\n",
      "    for value in re.findall(r'\\s*([\\dE+-.]+)', f.read()):\n",
      "        chg_1d[i] = value\n",
      "        i = i + 1\n",
      "p = 0\n",
      "for i in np.arange(56):\n",
      "    for j in np.arange(80):\n",
      "        for k in np.arange(480):\n",
      "            chg[k][j][i] = chg_1d[p]\n",
      "            p = p + 1\n",
      "            \n",
      "a = chg.sum(axis = 2)\n",
      "b = a.sum(axis = 1)\n",
      "\n",
      "chg_1d.sum()/(480*80*56)"
     ],
     "language": "python",
     "metadata": {},
     "outputs": [
      {
       "metadata": {},
       "output_type": "pyout",
       "prompt_number": 11,
       "text": [
        "0.75000000285985158"
       ]
      }
     ],
     "prompt_number": 11
    },
    {
     "cell_type": "code",
     "collapsed": false,
     "input": [
      "#AECCAR2\n",
      "chg_2 = np.empty((336,60,48))\n",
      "chg_1d_2  = np.empty(967680)\n",
      "chg_a_2 = np.empty(336)\n",
      "i = 0\n",
      "with open('../AECCAR2', 'r') as f:\n",
      "    for value in re.findall(r'\\s*([\\dE+-.]+)', f.read()):\n",
      "        chg_1d_2[i] = value\n",
      "        i = i + 1\n",
      "p = 0\n",
      "for i in np.arange(48):\n",
      "    for j in np.arange(60):\n",
      "        for k in np.arange(336):\n",
      "            chg_2[k][j][i] = chg_1d_2[p]\n",
      "            p = p + 1\n",
      "            \n",
      "a = chg_2.sum(axis = 2)\n",
      "b_2 = a.sum(axis = 1)"
     ],
     "language": "python",
     "metadata": {},
     "outputs": [],
     "prompt_number": 79
    },
    {
     "cell_type": "code",
     "collapsed": false,
     "input": [],
     "language": "python",
     "metadata": {},
     "outputs": [],
     "prompt_number": 79
    },
    {
     "cell_type": "code",
     "collapsed": false,
     "input": [],
     "language": "python",
     "metadata": {},
     "outputs": [],
     "prompt_number": 79
    },
    {
     "cell_type": "code",
     "collapsed": false,
     "input": [
      "x = np.arange(480)*32.45600/480\n",
      "y = b/(480*80*56)\n",
      "plt.plot(x,y)\n",
      "plt.xlim(0,32.45600)\n",
      "plt.ylim(0,0.03)\n",
      "plt.show()"
     ],
     "language": "python",
     "metadata": {},
     "outputs": [
      {
       "metadata": {},
       "output_type": "pyout",
       "prompt_number": 13,
       "text": [
        "0.75000000285985247"
       ]
      }
     ],
     "prompt_number": 13
    },
    {
     "cell_type": "code",
     "collapsed": false,
     "input": [],
     "language": "python",
     "metadata": {},
     "outputs": [],
     "prompt_number": 80
    },
    {
     "cell_type": "code",
     "collapsed": false,
     "input": [],
     "language": "python",
     "metadata": {},
     "outputs": [],
     "prompt_number": 80
    }
   ],
   "metadata": {}
  }
 ]
}