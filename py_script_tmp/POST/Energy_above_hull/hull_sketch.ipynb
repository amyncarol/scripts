{
 "metadata": {
  "name": "",
  "signature": "sha256:d51b843413e20d8895534f94c38fced747b34f1763c3d657aafeeb9b97279d88"
 },
 "nbformat": 3,
 "nbformat_minor": 0,
 "worksheets": [
  {
   "cells": [
    {
     "cell_type": "code",
     "collapsed": false,
     "input": [
      "import numpy as np\n",
      "import matplotlib.pyplot as plt\n",
      "import re\n",
      "from matplotlib import rc"
     ],
     "language": "python",
     "metadata": {},
     "outputs": [],
     "prompt_number": 26
    },
    {
     "cell_type": "code",
     "collapsed": false,
     "input": [
      "compounds = np.array(['CsI3','Cs2SnI6','CsSnI3','Sn'])\n",
      "composition = np.array([0, 1.0/3.0, 1.0/2.0, 1])    #(CsI3)(1-x)Snx\n",
      "Ef = np.array([-0.843, -0.925, -0.964, 0])\n"
     ],
     "language": "python",
     "metadata": {},
     "outputs": [],
     "prompt_number": 27
    },
    {
     "cell_type": "code",
     "collapsed": false,
     "input": [
      "fig, ax = plt.subplots()\n",
      "ax.plot(composition, Ef ,'-o', markersize = 10, linewidth = 2)\n",
      "\n",
      "\n",
      "plt.xticks(fontsize = 20)\n",
      "plt.yticks(fontsize = 20)\n",
      "ax.set_ylabel('Ef (eV/atom)', fontsize = 20)\n",
      "ax.set_xlabel('x in Snx(CsI3)(1-x)', fontsize = 20)\n",
      "\n",
      "plt.show()"
     ],
     "language": "python",
     "metadata": {},
     "outputs": [],
     "prompt_number": 28
    },
    {
     "cell_type": "code",
     "collapsed": false,
     "input": [],
     "language": "python",
     "metadata": {},
     "outputs": [],
     "prompt_number": 28
    }
   ],
   "metadata": {}
  }
 ]
}