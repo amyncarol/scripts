{
 "metadata": {
  "name": "",
  "signature": "sha256:ecd30ab766f8bde14ce195a326d4ad707d372975e76599c0f5dd6b2e0b04e5d2"
 },
 "nbformat": 3,
 "nbformat_minor": 0,
 "worksheets": [
  {
   "cells": [
    {
     "cell_type": "code",
     "collapsed": false,
     "input": [
      "import numpy as np\n",
      "import matplotlib.pyplot as plt\n",
      "import re"
     ],
     "language": "python",
     "metadata": {},
     "outputs": [],
     "prompt_number": 1
    },
    {
     "cell_type": "code",
     "collapsed": false,
     "input": [
      "fig, ax = plt.subplots()\n",
      "data = []\n",
      "downlimit = -7\n",
      "uplimit = -2\n",
      "n_of_compounds = 27\n",
      "universal_bp = -4.5\n",
      "\n",
      "data = [['K1Pb1Cl3', 0.74, 1.38, 2.90],\n",
      "        ['Rb1Pb1Cl3', 0.77, 1.47, 2.95],\n",
      "        ['Cs1Pb1Cl3', 1.04, 1.83, 3.23],\n",
      "['K1Pb1Br3', 0.36, 0.99, 2.09],\n",
      "['Rb1Pb1Br3', 0.39, 1.07, 2.14],\n",
      "['Cs1Pb1Br3', 0.62, 1.38, 2.39],\n",
      "['K1Pb1I3', 1.11, 1.83, 2.54],\n",
      "['Rb1Pb1I3', 1.15, 1.91, 2.59],\n",
      "[\"CsPbI3\", -5.2, -4.37, -3.72],\n",
      "['K1Sn1Cl3', 2.12, 1.75, 3.02],\n",
      "['Rb1Sn1Cl3', 2.14, 1.84, 3.07],\n",
      "['Cs1Sn1Cl3', 2.38, 2.19, 3.36],\n",
      "['K1Sn1Br3', 1.69, 1.33, 2.22],\n",
      "['Rb1Sn1Br3', 1.69, 1.40, 2.26],\n",
      "['Cs1Sn1Br3', 1.89, 1.70, 2.52],\n",
      "['K1Sn1I3', 2.40, 2.21, 2.75],\n",
      "['Rb1Sn1I3', 2.41, 2.27, 2.79],\n",
      "['Cs1Sn1I3', 2.55, 2.50, 2.99],\n",
      "['K1Ge1Cl3', 1.68, 1.51, 2.54],\n",
      "['Rb1Ge1Cl3', 1.65, 1.57, 2.58],\n",
      "['Cs1Ge1Cl3', 1.77, 1.86, 2.83],\n",
      "['K1Ge1Br3', 1.16, 1.09, 1.74],\n",
      "['Rb1Ge1Br3', 1.13, 1.14, 1.77],\n",
      "['Cs1Ge1Br3', 1.30, 1.43, 2.03],\n",
      "['K1Ge1I3', 2.05, 2.23, 2.54],\n",
      "['Rb1Ge1I3', 1.99, 2.25, 2.54],\n",
      "['Cs1Ge1I3', 2.12, 2.47, 2.74]]\n",
      "\n",
      "\n",
      "for i in np.arange(len(data)):\n",
      "    offset = data[i][2]-universal_bp\n",
      "    ax.broken_barh([(i, 1)] , (downlimit, data[i][1]-offset-downlimit), facecolors='#95c4de')\n",
      "    ax.broken_barh([(i, 1)] , (data[i][3]-offset, uplimit-data[i][3]+offset), facecolors='#95c4de')\n",
      "    ax.text(i+0.3, data[i][1]-offset-0.6, data[i][0], fontdict=None, withdash=False, rotation='vertical')\n",
      "    \n",
      "line = plt.axhline(y=universal_bp, xmin=0, xmax=1, linewidth=2, color = 'k')\n",
      "line.set_dashes([6, 2])\n",
      "\n",
      "ax.set_ylim(downlimit,uplimit)\n",
      "ax.set_xlim(0, n_of_compounds)\n",
      "ax.set_ylabel('Energy(eV)')\n",
      "ax.set_xticks([])\n",
      "ax.set_yticks(np.arange(uplimit-downlimit+1)+downlimit)\n",
      "\n",
      "plt.show()"
     ],
     "language": "python",
     "metadata": {},
     "outputs": [],
     "prompt_number": 2
    },
    {
     "cell_type": "code",
     "collapsed": false,
     "input": [],
     "language": "python",
     "metadata": {},
     "outputs": [],
     "prompt_number": 2
    }
   ],
   "metadata": {}
  }
 ]
}