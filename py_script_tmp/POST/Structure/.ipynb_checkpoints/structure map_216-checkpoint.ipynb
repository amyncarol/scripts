{
 "cells": [
  {
   "cell_type": "code",
   "execution_count": 7,
   "metadata": {
    "collapsed": false
   },
   "outputs": [],
   "source": [
    "import re\n",
    "import matplotlib.pyplot as plt\n",
    "from pymatgen.matproj.rest import MPRester\n",
    "import os\n",
    "from pymatgen.core.periodic_table import Element\n",
    "\n",
    "from pandas import DataFrame\n",
    "import pandas as pd\n",
    "def print_full(x):\n",
    "    pd.set_option('display.max_rows', len(x))\n",
    "    print(x)"
   ]
  },
  {
   "cell_type": "code",
   "execution_count": 8,
   "metadata": {
    "collapsed": false
   },
   "outputs": [],
   "source": [
    "compounds = []\n",
    "radius_ratio = []\n",
    "octahedron_factor = []\n",
    "with open(\"/Users/yao/Google Drive/data/216/ratio_paper_81\",'r') as f:\n",
    "    string = f.readlines()\n",
    "    for line in string:\n",
    "        entry = re.split(\" \", line)\n",
    "        compounds.append(entry[0]+'2'+entry[1]+entry[2]+'6')\n",
    "        radius_ratio.append(float(entry[3]))\n",
    "        octahedron_factor.append(float(entry[4]))"
   ]
  },
  {
   "cell_type": "code",
   "execution_count": 9,
   "metadata": {
    "collapsed": false
   },
   "outputs": [
    {
     "name": "stdout",
     "output_type": "stream",
     "text": [
      "K2SiCl6\n",
      "K2SiBr6\n",
      "K2SiI6\n",
      "K2GeCl6\n",
      "K2GeBr6\n",
      "K2GeI6\n",
      "K2SnCl6\n",
      "K2SnBr6\n",
      "K2SnI6\n",
      "K2PbCl6\n",
      "K2PbBr6\n",
      "K2PbI6\n",
      "K2NiCl6\n",
      "K2NiBr6\n",
      "K2NiI6\n",
      "K2PdCl6\n",
      "K2PdBr6\n",
      "K2PdI6\n",
      "K2PtCl6\n",
      "K2PtBr6\n",
      "K2PtI6\n",
      "K2SeCl6\n",
      "K2SeBr6\n",
      "K2SeI6\n",
      "K2TeCl6\n",
      "K2TeBr6\n",
      "K2TeI6\n",
      "Rb2SiCl6\n",
      "Rb2SiBr6\n",
      "Rb2SiI6\n",
      "Rb2GeCl6\n",
      "Rb2GeBr6\n",
      "Rb2GeI6\n",
      "Rb2SnCl6\n",
      "Rb2SnBr6\n",
      "Rb2SnI6\n",
      "Rb2PbCl6\n",
      "Rb2PbBr6\n",
      "Rb2PbI6\n",
      "Rb2NiCl6\n",
      "Rb2NiBr6\n",
      "Rb2NiI6\n",
      "Rb2PdCl6\n",
      "Rb2PdBr6\n",
      "Rb2PdI6\n",
      "Rb2PtCl6\n",
      "Rb2PtBr6\n",
      "Rb2PtI6\n",
      "Rb2SeCl6\n",
      "Rb2SeBr6\n",
      "Rb2SeI6\n",
      "Rb2TeCl6\n",
      "Rb2TeBr6\n",
      "Rb2TeI6\n",
      "Cs2SiCl6\n",
      "Cs2SiBr6\n",
      "Cs2SiI6\n",
      "Cs2GeCl6\n",
      "Cs2GeBr6\n",
      "Cs2GeI6\n",
      "Cs2SnCl6\n",
      "Cs2SnBr6\n",
      "Cs2SnI6\n",
      "Cs2PbCl6\n",
      "Cs2PbBr6\n",
      "Cs2PbI6\n",
      "Cs2NiCl6\n",
      "Cs2NiBr6\n",
      "Cs2NiI6\n",
      "Cs2PdCl6\n",
      "Cs2PdBr6\n",
      "Cs2PdI6\n",
      "Cs2PtCl6\n",
      "Cs2PtBr6\n",
      "Cs2PtI6\n",
      "Cs2SeCl6\n",
      "Cs2SeBr6\n",
      "Cs2SeI6\n",
      "Cs2TeCl6\n",
      "Cs2TeBr6\n",
      "Cs2TeI6\n"
     ]
    }
   ],
   "source": [
    "B_list = ['Si','Ge','Sn','Pb','Ni','Pd','Pt','Se','Te']\n",
    "#B_list = ['Pb']\n",
    "with MPRester(os.environ['MAPI_KEY']) as m:\n",
    "    results = []\n",
    "    for A in [\"K\",\"Rb\",\"Cs\"]:\n",
    "        for B in B_list:\n",
    "            for X in [\"Cl\",\"Br\",\"I\"]:\n",
    "                print(A+\"2\"+B+X+\"6\")\n",
    "                result = m.query(criteria={\"pretty_formula\": A+\"2\"+B+X+\"6\"}, properties=[\"pretty_formula\", \n",
    "                                                                                         \"spacegroup.symbol\",\n",
    "                                                                                         \"nsites\",\n",
    "                                                                                         \"icsd_id\",\n",
    "                                                                                         \"e_above_hull\",\n",
    "                                                                                         \"band_gap\",\n",
    "                                                                                         \"task_id\"\n",
    "                                                                                        ])\n",
    "                if len(result)!=0:\n",
    "                    for i in result:\n",
    "                        results.append(i)"
   ]
  },
  {
   "cell_type": "code",
   "execution_count": 10,
   "metadata": {
    "collapsed": false
   },
   "outputs": [
    {
     "data": {
      "text/plain": [
       "45"
      ]
     },
     "execution_count": 10,
     "metadata": {},
     "output_type": "execute_result"
    }
   ],
   "source": [
    "len(results)"
   ]
  },
  {
   "cell_type": "code",
   "execution_count": 11,
   "metadata": {
    "collapsed": false
   },
   "outputs": [
    {
     "name": "stdout",
     "output_type": "stream",
     "text": [
      "   Materials ID Icsd ID   Formula Spacegroup  Nsites     Ehull  Bandgap\n",
      "0     mp-570173    None   K2SnCl6     P4/mnc      18  0.006596   2.4614\n",
      "1     mp-571453    None   K2SnCl6     P2_1/c      18  0.000000   2.6688\n",
      "2      mp-23499    6058   K2SnCl6      Fm-3m       9  0.007380   2.4635\n",
      "3     mp-707190   30212   K2SnBr6     P4/mnc      18  0.004630   1.5757\n",
      "4     mp-574040   35557   K2SnBr6     P2_1/c      18  0.000000   1.6057\n",
      "5     mp-568333  158955   K2SnBr6      Fm-3m       9  0.014178   1.1709\n",
      "6      mp-23067   33709   K2PdCl6      Fm-3m       9  0.000000   1.2027\n",
      "7      mp-23513   31114   K2PtCl6      Fm-3m       9  0.000000   1.8478\n",
      "8      mp-27691   23771   K2PtBr6      Fm-3m       9  0.000000   1.1688\n",
      "9      mp-28247   37190    K2PtI6     P4/mnc      18  0.000000   0.8660\n",
      "10     mp-23036   36228   K2SeBr6      Fm-3m       9  0.000000   1.6880\n",
      "11    mp-569149    None   K2TeCl6      Fm-3m       9  0.000000   2.5562\n",
      "12     mp-23411   37270   K2TeBr6     P4/mnc      18  0.012528   2.1407\n",
      "13     mp-22963   65115   K2TeBr6     P2_1/c      18  0.000000   2.3386\n",
      "14     mp-23505   38346   K2TeBr6      Fm-3m       9  0.023133   1.9579\n",
      "15     mp-27688   23649    K2TeI6     P2_1/c      18  0.000000   1.7435\n",
      "16     mp-23059   29026  Rb2SnCl6      Fm-3m       9  0.000000   2.5354\n",
      "17    mp-569028  158956  Rb2SnBr6      Fm-3m       9  0.000000   1.3126\n",
      "18     mp-27635   22104   Rb2SnI6      Fm-3m       9  0.011618   0.1243\n",
      "19     mp-23475   29029  Rb2PbCl6      Fm-3m       9  0.000000   1.2540\n",
      "20     mp-28145   33710  Rb2PdCl6      Fm-3m       9  0.000000   1.2868\n",
      "21     mp-28084   36305  Rb2PdBr6      Fm-3m       9  0.000000   0.6190\n",
      "22    mp-628606   92478   Rb2PdI6      Fm-3m       9  0.016994   0.0000\n",
      "23     mp-29936   92477   Rb2PdI6       Pnma      36  0.004336   1.1296\n",
      "24     mp-23350   29028  Rb2PtCl6      Fm-3m       9  0.000000   1.9363\n",
      "25     mp-28110   37191   Rb2PtI6      Fm-3m       9  0.000000   0.5131\n",
      "26     mp-27829   26692  Rb2SeCl6      Fm-3m       9  0.000000   2.6051\n",
      "27     mp-22975   29027  Rb2TeCl6      Fm-3m       9  0.000000   2.6400\n",
      "28     mp-23383   49521  Rb2TeBr6      Fm-3m       9  0.001058   2.0549\n",
      "29    mp-570324   49520  Rb2TeBr6       I4/m       9  0.000000   2.1010\n",
      "30     mp-28070   36009   Rb2TeI6     P4/mnc      18  0.000000   1.6225\n",
      "31     mp-27882   28892  Cs2GeCl6      Fm-3m       9  0.000000   2.2150\n",
      "32    mp-608555    9023  Cs2SnCl6      Fm-3m       9  0.000000   2.5900\n",
      "33    mp-641923  158957  Cs2SnBr6      Fm-3m       9  0.000000   1.4389\n",
      "34     mp-27636    None   Cs2SnI6      Fm-3m       9  0.000000   0.2884\n",
      "35     mp-23425   26713  Cs2PbCl6      Fm-3m       9  0.000000   1.4904\n",
      "36     mp-29806  280189   Cs2PdI6     I4/mmm       9  0.008327   0.5815\n",
      "37    mp-569066  280190   Cs2PdI6      Fm-3m       9  0.005466   0.1928\n",
      "38     mp-23406   29032  Cs2PtCl6      Fm-3m       9  0.000000   2.1024\n",
      "39     mp-30062   77381  Cs2PtBr6      Fm-3m       9  0.000000   1.4330\n",
      "40     mp-23060   37193   Cs2PtI6      Fm-3m       9  0.000000   0.6484\n",
      "41     mp-27830   26693  Cs2SeCl6      Fm-3m       9  0.000000   2.7535\n",
      "42     mp-23465   26704  Cs2TeCl6      Fm-3m       9  0.000000   2.7815\n",
      "43     mp-23405   27695  Cs2TeBr6      Fm-3m       9  0.000000   2.1121\n",
      "44    mp-540957   38105   Cs2TeI6      Fm-3m       9  0.000000   1.3877\n"
     ]
    }
   ],
   "source": [
    "import collections\n",
    "\n",
    "data = collections.defaultdict(list)\n",
    "for e in results:\n",
    "    data[\"Materials ID\"].append(e[\"task_id\"])\n",
    "    data[\"Icsd ID\"].append(str(e[\"icsd_id\"]))\n",
    "    data[\"Formula\"].append(str(e[\"pretty_formula\"]))\n",
    "    data[\"Spacegroup\"].append(str(e[\"spacegroup.symbol\"])) \n",
    "    data[\"Nsites\"].append(e[\"nsites\"]) \n",
    "    data[\"Ehull\"].append(e[\"e_above_hull\"]) \n",
    "    data[\"Bandgap\"].append(e[\"band_gap\"]) \n",
    "\n",
    "from pandas import DataFrame\n",
    "import pandas as pd\n",
    "def print_full(x):\n",
    "    pd.set_option('display.max_rows', len(x))\n",
    "    print(x)\n",
    "    \n",
    "df = DataFrame(data, columns=[\n",
    "        \"Materials ID\", \"Icsd ID\", \"Formula\", \"Spacegroup\", \"Nsites\", \"Ehull\", \"Bandgap\"])\n",
    "\n",
    "print_full(df)"
   ]
  },
  {
   "cell_type": "code",
   "execution_count": 12,
   "metadata": {
    "collapsed": false
   },
   "outputs": [
    {
     "ename": "SyntaxError",
     "evalue": "Missing parentheses in call to 'print' (<ipython-input-12-8f1a440e4790>, line 14)",
     "output_type": "error",
     "traceback": [
      "\u001b[0;36m  File \u001b[0;32m\"<ipython-input-12-8f1a440e4790>\"\u001b[0;36m, line \u001b[0;32m14\u001b[0m\n\u001b[0;31m    print cubic, tetra, mono, other\u001b[0m\n\u001b[0m              ^\u001b[0m\n\u001b[0;31mSyntaxError\u001b[0m\u001b[0;31m:\u001b[0m Missing parentheses in call to 'print'\n"
     ]
    }
   ],
   "source": [
    "cubic = []\n",
    "tetra = []\n",
    "mono = []\n",
    "other = [] #Rb2PdI6 non-isolation\n",
    "for i in range(len(data[\"Formula\"])):\n",
    "    if data[\"Spacegroup\"][i]=='Fm-3m':\n",
    "        cubic.append(data[\"Formula\"][i])\n",
    "    elif data[\"Spacegroup\"][i]=='P4/mnc':\n",
    "        tetra.append(data[\"Formula\"][i])\n",
    "    elif data[\"Spacegroup\"][i]=='P2_1/c':\n",
    "        mono.append(data[\"Formula\"][i])\n",
    "    else:\n",
    "        other.append(data[\"Formula\"][i])\n",
    "print cubic, tetra, mono, other"
   ]
  },
  {
   "cell_type": "code",
   "execution_count": null,
   "metadata": {
    "collapsed": false
   },
   "outputs": [],
   "source": [
    "\n",
    "for i in range(len(compounds)):\n",
    "    if compounds[i] in mono:\n",
    "        plt.plot(radius_ratio[i],octahedron_factor[i],'D',color = 'b', ms = 10, mew = 0)\n",
    "    elif compounds[i] in tetra:\n",
    "        plt.plot(radius_ratio[i],octahedron_factor[i],'D',color = 'b', ms = 10, mew = 0)\n",
    "    elif compounds[i] in other:\n",
    "        plt.plot(radius_ratio[i],octahedron_factor[i],'D',color = 'b', ms = 10, mew = 0)\n",
    "    elif compounds[i] in cubic:\n",
    "        plt.plot(radius_ratio[i],octahedron_factor[i],'o',color = 'r', ms = 10, mew = 0)\n",
    "    #else: \n",
    "        #plt.plot(radius_ratio[i],octahedron_factor[i],'^',color = 'k', ms = 10, mew = 0)\n",
    "plt.xticks(fontsize = 20)\n",
    "plt.yticks(fontsize = 20)\n",
    "plt.xlabel('radius ratio', fontsize = 20)\n",
    "plt.ylabel('octahedron factor', fontsize = 20)\n",
    "plt.xlim(0.8,1.0)\n",
    "plt.axhline(y=0.29, xmin=0.4, xmax=1, ls = '--', linewidth=2, color = 'k', hold=None)\n",
    "plt.axvline(x=0.88, ymin=0.15, ymax=1, ls = '--', linewidth=2, color = 'k', hold=None)\n",
    "#plt.legend(loc='upper right', fontsize = 15)\n",
    "plt.show()"
   ]
  },
  {
   "cell_type": "code",
   "execution_count": null,
   "metadata": {
    "collapsed": false
   },
   "outputs": [],
   "source": []
  },
  {
   "cell_type": "code",
   "execution_count": null,
   "metadata": {
    "collapsed": true
   },
   "outputs": [],
   "source": []
  }
 ],
 "metadata": {
  "anaconda-cloud": {},
  "kernelspec": {
   "display_name": "Python [conda root]",
   "language": "python",
   "name": "conda-root-py"
  },
  "language_info": {
   "codemirror_mode": {
    "name": "ipython",
    "version": 3
   },
   "file_extension": ".py",
   "mimetype": "text/x-python",
   "name": "python",
   "nbconvert_exporter": "python",
   "pygments_lexer": "ipython3",
   "version": "3.5.2"
  }
 },
 "nbformat": 4,
 "nbformat_minor": 1
}
