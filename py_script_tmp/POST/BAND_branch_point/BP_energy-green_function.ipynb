{
 "cells": [
  {
   "cell_type": "code",
   "execution_count": 12,
   "metadata": {
    "collapsed": false
   },
   "outputs": [],
   "source": [
    "from pymatgen.io.vasp.outputs import Vasprun\n",
    "import numpy as np\n",
    "import os\n",
    "import glob\n",
    "from pymatgen.electronic_structure.core import Spin\n",
    "import cmath\n",
    "import matplotlib.pyplot as plt\n",
    "import math"
   ]
  },
  {
   "cell_type": "code",
   "execution_count": 13,
   "metadata": {
    "collapsed": true
   },
   "outputs": [],
   "source": [
    "def Green_func(vr, E, R):\n",
    "    '''vr: the vasprun.xml file\n",
    "       E: energy\n",
    "       R: vector normal to the surface\n",
    "    '''\n",
    "    kpoints = vr.actual_kpoints\n",
    "    nbands = len(vr.eigenvalues[Spin.up][0])\n",
    "    real = np.zeros((len(kpoints), nbands))\n",
    "    imag = np.zeros((len(kpoints), nbands))\n",
    "    \n",
    "    for i in range(len(kpoints)):\n",
    "            k = kpoints[i]\n",
    "            scaler = R[0]*k[0] + R[1]*k[1] + R[2]*k[2]\n",
    "            exp = cmath.exp(2*math.pi*scaler*1j)      \n",
    "            for n in range(nbands):\n",
    "                energy_diff = E - vr.eigenvalues[Spin.up][i][n][0]\n",
    "                real[i][n] =  exp.real/energy_diff \n",
    "                imag[i][n] =  exp.imag/energy_diff\n",
    "                \n",
    "    green_real = sum(real.flatten())\n",
    "    green_imag = sum(imag.flatten())\n",
    "    return green_real, green_imag"
   ]
  },
  {
   "cell_type": "code",
   "execution_count": 14,
   "metadata": {
    "collapsed": true
   },
   "outputs": [],
   "source": [
    "def Ebp_from_green_func(vr, r, scaling, e_no_step):\n",
    "    '''vr: vasprun.xml\n",
    "       r: the direction of surface vector\n",
    "       scaling: R = r*scaling\n",
    "       e_no_step: number of E points\n",
    "    '''\n",
    "    x = []\n",
    "    y_real = []\n",
    "    y_imag = []\n",
    "    vbm = vr.eigenvalue_band_properties[2]\n",
    "    cbm = vr.eigenvalue_band_properties[1]\n",
    "    bandgap = vr.eigenvalue_band_properties[0]\n",
    "    R=[0, 0, 0]\n",
    "    R[0]=r[0]*scaling\n",
    "    R[1]=r[1]*scaling\n",
    "    R[2]=r[2]*scaling\n",
    "    \n",
    "    step = bandgap/e_no_step\n",
    "    for j in range(e_no_step):\n",
    "        E = vbm+step*j                \n",
    "        x.append(E)\n",
    "        green_real, green_imag = Green_func(vr, E, R)\n",
    "        y_real.append(green_real)\n",
    "        y_imag.append(green_imag)\n",
    "\n",
    "    smallest = 10\n",
    "    smallest_i = 0\n",
    "    for i in range(len(x)):\n",
    "        if abs(y_real[i]) < smallest:\n",
    "            smallest = abs(y_real[i])\n",
    "            smallest_i = i\n",
    "    ebp = x[smallest_i]\n",
    "    return ebp, x, y_real, y_imag, vbm, cbm"
   ]
  },
  {
   "cell_type": "code",
   "execution_count": 15,
   "metadata": {
    "collapsed": false
   },
   "outputs": [],
   "source": [
    "compounds = ['C', 'Si', 'Ge', 'SiC', \n",
    "             'Si3N4', 'AlN', 'GaN', 'InN', \n",
    "             'AlP', 'GaP', 'InP',\n",
    "             'AlAs', 'GaAs', 'InAs', \n",
    "             'AlSb', 'GaSb', 'InSb', \n",
    "             'MgO', 'ZnO', \n",
    "             'ZnS', 'CdS', 'SnS', 'InCuS2', 'ZnCu2SnS4', \n",
    "             'ZnSe', 'CdSe', 'GaCuSe2', 'ZnTe', 'CdTe', 'HgTe', \n",
    "             'SiO2','GeO2','SnO2', \n",
    "             'Ga2O3', 'In2O3', 'In2S3', \n",
    "             'Cu2O', 'TiO2', \n",
    "             'SrTiO3', 'BaTiO3',\n",
    "             'CaF2', 'CdF2', 'Te']"
   ]
  },
  {
   "cell_type": "code",
   "execution_count": 16,
   "metadata": {
    "collapsed": false
   },
   "outputs": [
    {
     "name": "stderr",
     "output_type": "stream",
     "text": [
      "//anaconda/lib/python3.5/site-packages/ipykernel/__main__.py:17: RuntimeWarning: divide by zero encountered in double_scalars\n",
      "//anaconda/lib/python3.5/site-packages/ipykernel/__main__.py:18: RuntimeWarning: invalid value encountered in double_scalars\n"
     ]
    },
    {
     "name": "stdout",
     "output_type": "stream",
     "text": [
      "['C',9.6647,9.80222,13.7903],\n"
     ]
    },
    {
     "name": "stderr",
     "output_type": "stream",
     "text": [
      "//anaconda/lib/python3.5/site-packages/ipykernel/__main__.py:18: RuntimeWarning: divide by zero encountered in double_scalars\n"
     ]
    },
    {
     "name": "stdout",
     "output_type": "stream",
     "text": [
      "['Si',5.5336,5.576255,6.3867],\n",
      "['Ge',2.4574,2.59306666667,2.6202],\n",
      "['SiC',7.9989,9.84056166667,10.0838],\n",
      "['Si3N4',6.5621,9.03794166667,10.8064],\n",
      "['AlN',5.9739,8.27275333333,10.0307],\n",
      "['GaN',3.4074,4.68164,5.145],\n",
      "['InN',6.0803,6.0803,6.0804],\n",
      "['AlP',4.3069,4.42848,6.1306],\n",
      "['GaP',3.3712,3.48345333333,5.055],\n",
      "['InP',4.6325,4.73629,5.6704],\n",
      "['AlAs',3.5303,3.61468,5.2179],\n",
      "['GaAs',2.6104,2.691325,3.5815],\n",
      "['InAs',3.8289,3.90705,4.3499],\n",
      "['AlSb',4.3246,4.36806333333,5.6285],\n",
      "['GaSb',3.6883,3.72986,4.1039],\n",
      "['InSb',4.3497,4.39576,4.8103],\n",
      "['MgO',3.9105,5.16954833333,8.3542],\n",
      "['ZnO',0.8239,1.34735333333,1.5543],\n",
      "['ZnS',1.8359,2.46240666667,4.1853],\n",
      "['CdS',0.8352,1.32086,2.2228],\n",
      "['SnS',5.3909,5.822905,6.6252],\n",
      "['InCuS2',5.0049,5.0159,5.0181],\n",
      "['ZnCu2SnS4',4.6949,4.6949,4.6949],\n",
      "['ZnSe',1.2538,1.71104333333,2.8676],\n",
      "['CdSe',0.4348,0.79318,1.4122],\n",
      "['GaCuSe2',3.1892,3.22343333333,3.2287],\n",
      "['ZnTe',2.7718,2.97288,4.2799],\n",
      "['CdTe',1.7273,1.93342,2.7579],\n",
      "['HgTe',2.1613,2.26426,2.4421],\n",
      "['SiO2',0.6331,2.42999333333,6.3075],\n",
      "['GeO2',3.7066,4.89598666667,4.937],\n",
      "['SnO2',5.5168,5.88439666667,6.1655],\n",
      "['Ga2O3',2.0582,3.23023333333,4.0674],\n",
      "['In2O3',4.9114,4.9114,6.2852],\n",
      "['In2S3',3.7945,5.10498833333,5.1272],\n",
      "['Cu2O',4.127,4.127,4.737],\n",
      "['TiO2',1.8939,2.82348333333,4.1249],\n",
      "['SrTiO3',3.1838,3.870605,5.1461],\n",
      "['BaTiO3',2.957,2.98778666667,4.8042],\n",
      "['CaF2',-1.1515,1.02275,6.096],\n",
      "['CdF2',-1.7455,1.11964666667,1.3243],\n",
      "['Te',5.538,5.73758333333,6.017],\n"
     ]
    }
   ],
   "source": [
    "for compound in compounds:\n",
    "    folder = '/Users/yao/Google Drive/data/semiconductor/DOS-PBE/' + compound + '/'\n",
    "    vr = Vasprun(folder+'vasprun.xml')\n",
    "    r = [0, 0, 1.0]\n",
    "    scaling = 1.0\n",
    "    e_no_step = 60\n",
    "    ebp, x , y_real, y_imag, vbm, cbm = Ebp_from_green_func(vr, r, scaling, e_no_step)\n",
    "\n",
    "    print('[\\''+ compound + '\\',' + str(vbm) + ',' + str(ebp) + ',' + str(cbm) +'],')\n"
   ]
  },
  {
   "cell_type": "code",
   "execution_count": null,
   "metadata": {
    "collapsed": true
   },
   "outputs": [],
   "source": []
  }
 ],
 "metadata": {
  "anaconda-cloud": {},
  "kernelspec": {
   "display_name": "Python [conda root]",
   "language": "python",
   "name": "conda-root-py"
  },
  "language_info": {
   "codemirror_mode": {
    "name": "ipython",
    "version": 3
   },
   "file_extension": ".py",
   "mimetype": "text/x-python",
   "name": "python",
   "nbconvert_exporter": "python",
   "pygments_lexer": "ipython3",
   "version": "3.5.2"
  }
 },
 "nbformat": 4,
 "nbformat_minor": 1
}
