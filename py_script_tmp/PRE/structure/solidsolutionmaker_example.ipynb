{
 "cells": [
  {
   "cell_type": "code",
   "execution_count": 1,
   "metadata": {
    "collapsed": false
   },
   "outputs": [],
   "source": [
    "import sys\n",
    "import os\n",
    "sys.path.append(\"/Users/yao/Google Drive/py_script/modules\")\n",
    "from SolidSolutionMaker import SolidSolutionMaker, SolidSolutionFileWriter\n",
    "import numpy as np\n",
    "from pymatgen.io.vasp.inputs import Poscar"
   ]
  },
  {
   "cell_type": "code",
   "execution_count": 2,
   "metadata": {
    "collapsed": false
   },
   "outputs": [
    {
     "name": "stdout",
     "output_type": "stream",
     "text": [
      "Your supercell has 40 atoms in total\n",
      "\n",
      "Now you will replace 22 Br atoms with Cl atoms, the actual mixing percent for Br is 0.08333333333333337\n",
      "\n",
      "Your supercell has 40 atoms in total\n",
      "\n",
      "Now you will replace 17 Br atoms with Cl atoms, the actual mixing percent for Br is 0.29166666666666663\n",
      "\n",
      "Your supercell has 40 atoms in total\n",
      "\n",
      "Now you will replace 12 Br atoms with Cl atoms, the actual mixing percent for Br is 0.5\n",
      "\n",
      "Your supercell has 40 atoms in total\n",
      "\n",
      "Now you will replace 6 Br atoms with Cl atoms, the actual mixing percent for Br is 0.75\n",
      "\n",
      "Your supercell has 40 atoms in total\n",
      "\n",
      "Now you will replace 1 Br atoms with Cl atoms, the actual mixing percent for Br is 0.9583333333333334\n",
      "\n",
      "Your supercell has 40 atoms in total\n",
      "\n",
      "Now you will replace 22 Br atoms with Cl atoms, the actual mixing percent for Br is 0.08333333333333337\n",
      "\n",
      "Your supercell has 40 atoms in total\n",
      "\n",
      "Now you will replace 17 Br atoms with Cl atoms, the actual mixing percent for Br is 0.29166666666666663\n",
      "\n",
      "Your supercell has 40 atoms in total\n",
      "\n",
      "Now you will replace 12 Br atoms with Cl atoms, the actual mixing percent for Br is 0.5\n",
      "\n",
      "Your supercell has 40 atoms in total\n",
      "\n",
      "Now you will replace 6 Br atoms with Cl atoms, the actual mixing percent for Br is 0.75\n",
      "\n",
      "Your supercell has 40 atoms in total\n",
      "\n",
      "Now you will replace 1 Br atoms with Cl atoms, the actual mixing percent for Br is 0.9583333333333334\n",
      "\n",
      "[0.08333333333333337, 0.29166666666666663, 0.5, 0.75, 0.9583333333333334]\n"
     ]
    }
   ],
   "source": [
    "wd = '/Users/yao/Google Drive/data/2116/solidsolution/'\n",
    "struc1 = Poscar.from_file(wd+\"POSCAR_Br\").structure\n",
    "struc2 = Poscar.from_file(wd+\"POSCAR_Cl\").structure\n",
    "\n",
    "ssw = SolidSolutionFileWriter(struc1, struc2, wd)\n",
    "ssw.write_vasp_files()\n",
    "percent = ssw.get_true_percent()\n",
    "print(percent)"
   ]
  },
  {
   "cell_type": "code",
   "execution_count": 3,
   "metadata": {
    "collapsed": false
   },
   "outputs": [
    {
     "name": "stdout",
     "output_type": "stream",
     "text": [
      "Your supercell has 40 atoms in total\n",
      "\n",
      "Now you will replace 22 Br atoms with I atoms, the actual mixing percent for Br is 0.08333333333333337\n",
      "\n",
      "Your supercell has 40 atoms in total\n",
      "\n",
      "Now you will replace 17 Br atoms with I atoms, the actual mixing percent for Br is 0.29166666666666663\n",
      "\n",
      "Your supercell has 40 atoms in total\n",
      "\n",
      "Now you will replace 12 Br atoms with I atoms, the actual mixing percent for Br is 0.5\n",
      "\n",
      "Your supercell has 40 atoms in total\n",
      "\n",
      "Now you will replace 6 Br atoms with I atoms, the actual mixing percent for Br is 0.75\n",
      "\n",
      "Your supercell has 40 atoms in total\n",
      "\n",
      "Now you will replace 1 Br atoms with I atoms, the actual mixing percent for Br is 0.9583333333333334\n",
      "\n",
      "Your supercell has 40 atoms in total\n",
      "\n",
      "Now you will replace 22 Br atoms with I atoms, the actual mixing percent for Br is 0.08333333333333337\n",
      "\n",
      "Your supercell has 40 atoms in total\n",
      "\n",
      "Now you will replace 17 Br atoms with I atoms, the actual mixing percent for Br is 0.29166666666666663\n",
      "\n",
      "Your supercell has 40 atoms in total\n",
      "\n",
      "Now you will replace 12 Br atoms with I atoms, the actual mixing percent for Br is 0.5\n",
      "\n",
      "Your supercell has 40 atoms in total\n",
      "\n",
      "Now you will replace 6 Br atoms with I atoms, the actual mixing percent for Br is 0.75\n",
      "\n",
      "Your supercell has 40 atoms in total\n",
      "\n",
      "Now you will replace 1 Br atoms with I atoms, the actual mixing percent for Br is 0.9583333333333334\n",
      "\n",
      "[0.08333333333333337, 0.29166666666666663, 0.5, 0.75, 0.9583333333333334]\n"
     ]
    }
   ],
   "source": [
    "wd = '/Users/yao/Google Drive/data/2116/solidsolution/'\n",
    "struc1 = Poscar.from_file(wd+\"POSCAR_Br\").structure\n",
    "struc2 = Poscar.from_file(wd+\"POSCAR_I\").structure\n",
    "\n",
    "ssw = SolidSolutionFileWriter(struc1, struc2, wd)\n",
    "ssw.write_vasp_files()\n",
    "percent = ssw.get_true_percent()\n",
    "print(percent)"
   ]
  },
  {
   "cell_type": "code",
   "execution_count": null,
   "metadata": {
    "collapsed": true
   },
   "outputs": [],
   "source": []
  }
 ],
 "metadata": {
  "anaconda-cloud": {},
  "kernelspec": {
   "display_name": "Python [default]",
   "language": "python",
   "name": "python3"
  },
  "language_info": {
   "codemirror_mode": {
    "name": "ipython",
    "version": 3
   },
   "file_extension": ".py",
   "mimetype": "text/x-python",
   "name": "python",
   "nbconvert_exporter": "python",
   "pygments_lexer": "ipython3",
   "version": "3.5.2"
  }
 },
 "nbformat": 4,
 "nbformat_minor": 2
}
