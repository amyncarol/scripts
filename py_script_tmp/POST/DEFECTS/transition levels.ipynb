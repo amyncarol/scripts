{
 "cells": [
  {
   "cell_type": "code",
   "execution_count": 4,
   "metadata": {
    "collapsed": false
   },
   "outputs": [],
   "source": [
    "import numpy as np\n",
    "import matplotlib.pyplot as plt\n",
    "import matplotlib.cbook as cbook\n",
    "import re\n",
    "from matplotlib.pyplot import figure, show, axes, sci\n",
    "from matplotlib import cm, colors\n",
    "from matplotlib.font_manager import FontProperties\n",
    "from numpy import amin, amax, ravel\n",
    "import numpy.ma as ma"
   ]
  },
  {
   "cell_type": "code",
   "execution_count": null,
   "metadata": {
    "collapsed": false
   },
   "outputs": [],
   "source": []
  },
  {
   "cell_type": "code",
   "execution_count": 19,
   "metadata": {
    "collapsed": false
   },
   "outputs": [],
   "source": [
    "\n",
    "\n",
    "\n",
    "data = {'V_Ag': \n",
    "        \n",
    "{'(0, -1)': 0.0497608},\n",
    "\n",
    "'Cs_Ag' :\n",
    "\n",
    "{'(0, -1)': },\n",
    "\n",
    "'Br_Bi' :\n",
    "\n",
    "{'(-2, -3)': 0.5814692,\n",
    "\n",
    "'(-1, -2)': 0.4034634,\n",
    "\n",
    "'(0, -1)': 0.0642448},\n",
    "\n",
    "'V_Cs':\n",
    "\n",
    "{'(0, -1)': 0.0642448},\n",
    "\n",
    "'V_Bi':\n",
    "\n",
    "{'(0, -2)': 0.1112652},\n",
    "\n",
    "'Ag_Cs':\n",
    "\n",
    "{'(0, -1)': 1.3270784},\n",
    "\n",
    "'Br_Ag':\n",
    "\n",
    "{'(0, -1)': 0.0776792},\n",
    "\n",
    "'Cs_Bi':\n",
    "\n",
    "{'(-2, -3)': 1.531953},\n",
    "\n",
    "'Br_Cs':\n",
    "\n",
    "{'(0, -1)': 0.0575276},\n",
    "\n",
    "'Ag_Bi':\n",
    "\n",
    "{'(-2, -3)': 1.5218772}}\n",
    "\n",
    "\n",
    "data2 = {\n",
    "\n",
    "'Bi_Br':\n",
    "\n",
    "{'(0, 1)': 0.4168978},\n",
    "\n",
    "'Bi_Cs':\n",
    "\n",
    "{'(0, 1)': 1.5521046},\n",
    "\n",
    "'Bi_Ag':\n",
    "\n",
    "{'(0, 1)': 1.313644,\n",
    "\n",
    "'(1, 2)': 1.229679},\n",
    "\n",
    "'Cs_Br':\n",
    "\n",
    "{'(0, 1)': 1.2834166},\n",
    "\n",
    "'Ag_Br':\n",
    "\n",
    "{'(0, 1)': 0.4706354},\n",
    "\n",
    "'V_Br':\n",
    "\n",
    "{'(0, 1)': 1.2867752}}"
   ]
  },
  {
   "cell_type": "code",
   "execution_count": 41,
   "metadata": {
    "collapsed": false
   },
   "outputs": [],
   "source": [
    "i = 0.0\n",
    "n = 10.0\n",
    "axes = plt.gca()\n",
    "axes.set_xlim([0,1])\n",
    "axes.set_ylim([-0.2,1.6])\n",
    "for key, value in data.iteritems():\n",
    "    for key_1, value_1 in value.iteritems():\n",
    "        plt.axhline(y=value_1, xmin=i/n, xmax=(i+1)/n, hold=None, linewidth = 2)\n",
    "        plt.text(i/n, value_1-0.05, key_1)\n",
    "    plt.text(i/n, -0.27, key)\n",
    "    plt.axvline(x=i/n, color = 'k')\n",
    "    i = i+1\n",
    "plt.xticks([]) \n",
    "plt.ylabel('Transition Energy Level(eV)')\n",
    "plt.show()    "
   ]
  },
  {
   "cell_type": "code",
   "execution_count": 42,
   "metadata": {
    "collapsed": false
   },
   "outputs": [],
   "source": [
    "i = 0.0\n",
    "n = 6.0\n",
    "axes = plt.gca()\n",
    "axes.set_xlim([0,1])\n",
    "axes.set_ylim([-0.2,1.6])\n",
    "for key, value in data2.iteritems():\n",
    "    for key_1, value_1 in value.iteritems():\n",
    "        plt.axhline(y=value_1, xmin=i/n, xmax=(i+1)/n, hold=None, linewidth = 2)\n",
    "        plt.text(i/n, value_1-0.05, key_1)\n",
    "    plt.text(i/n, -0.27, key)\n",
    "    plt.axvline(x=i/n, color = 'k')\n",
    "    i = i+1\n",
    "plt.xticks([]) \n",
    "plt.ylabel('Transition Energy Level(eV)')\n",
    "plt.show()"
   ]
  },
  {
   "cell_type": "code",
   "execution_count": 5,
   "metadata": {
    "collapsed": false
   },
   "outputs": [],
   "source": [
    "data3 = {'V_Ag': \n",
    "        \n",
    "{'(0, -1)': 0.0575276},\n",
    "\n",
    "'V_Br':\n",
    "\n",
    "{'(0, 1)': 1.2867752},\n",
    "\n",
    "'Bi_Ag':\n",
    "\n",
    "{'(0, 1)': 1.313644,\n",
    "\n",
    "'(1, 2)': 1.229679}}"
   ]
  },
  {
   "cell_type": "code",
   "execution_count": 7,
   "metadata": {
    "collapsed": false
   },
   "outputs": [],
   "source": [
    "i = 0.0\n",
    "n = 3.0\n",
    "axes = plt.gca()\n",
    "axes.set_xlim([0,1])\n",
    "axes.set_ylim([-0.2,1.6])\n",
    "for key, value in data3.iteritems():\n",
    "    for key_1, value_1 in value.iteritems():\n",
    "        plt.axhline(y=value_1, xmin=i/n, xmax=(i+1)/n, hold=None, linewidth = 2)\n",
    "        plt.text(i/n, value_1-0.05, key_1)\n",
    "    plt.text(i/n, -0.27, key)\n",
    "    plt.axvline(x=i/n, color = 'k')\n",
    "    i = i+1\n",
    "plt.xticks([]) \n",
    "plt.ylabel('Transition Energy Level(eV)')\n",
    "plt.show()"
   ]
  },
  {
   "cell_type": "code",
   "execution_count": null,
   "metadata": {
    "collapsed": false
   },
   "outputs": [],
   "source": []
  }
 ],
 "metadata": {
  "kernelspec": {
   "display_name": "Python 2",
   "language": "python",
   "name": "python2"
  },
  "language_info": {
   "codemirror_mode": {
    "name": "ipython",
    "version": 2
   },
   "file_extension": ".py",
   "mimetype": "text/x-python",
   "name": "python",
   "nbconvert_exporter": "python",
   "pygments_lexer": "ipython2",
   "version": "2.7.9"
  }
 },
 "nbformat": 4,
 "nbformat_minor": 0
}
