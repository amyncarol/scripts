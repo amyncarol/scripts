{
 "cells": [
  {
   "cell_type": "code",
   "execution_count": 92,
   "metadata": {
    "collapsed": false
   },
   "outputs": [],
   "source": [
    "from pymatgen.symmetry.analyzer import SpacegroupAnalyzer\n",
    "from pymatgen.io.vasp.inputs import Poscar\n",
    "from pymatgen.io.vasp.outputs import Vasprun\n",
    "from pymatgen.core.structure import IStructure\n",
    "from pymatgen.core.periodic_table import Specie\n",
    "from pymatgen.core.periodic_table import Element\n",
    "from math import sqrt\n",
    "from math import atan\n",
    "from math import pi\n"
   ]
  },
  {
   "cell_type": "code",
   "execution_count": 93,
   "metadata": {
    "collapsed": false
   },
   "outputs": [
    {
     "name": "stderr",
     "output_type": "stream",
     "text": [
      "//anaconda/lib/python3.5/site-packages/pymatgen/io/vasp/outputs.py:814: UserWarning: No POTCAR file with matching TITEL fields was found in /Users/yao/Google Drive/data/216/tetra-hse/Cs2Te1I6\n",
      "  \" was found in {}\".format(os.path.abspath(p)))\n"
     ]
    }
   ],
   "source": [
    "vr = Vasprun(\"/Users/yao/Google Drive/data/216/tetra-hse/Cs2Te1I6/vasprun.xml\")"
   ]
  },
  {
   "cell_type": "code",
   "execution_count": 94,
   "metadata": {
    "collapsed": false
   },
   "outputs": [],
   "source": [
    "struct = vr.final_structure\n"
   ]
  },
  {
   "cell_type": "code",
   "execution_count": 95,
   "metadata": {
    "collapsed": false
   },
   "outputs": [],
   "source": [
    "sa = SpacegroupAnalyzer(structure=struct)"
   ]
  },
  {
   "cell_type": "code",
   "execution_count": 96,
   "metadata": {
    "collapsed": false
   },
   "outputs": [],
   "source": [
    "#sa.get_spacegroup_symbol()"
   ]
  },
  {
   "cell_type": "code",
   "execution_count": 97,
   "metadata": {
    "collapsed": false
   },
   "outputs": [
    {
     "data": {
      "text/plain": [
       "4.888305956731184"
      ]
     },
     "execution_count": 97,
     "metadata": {},
     "output_type": "execute_result"
    }
   ],
   "source": [
    "a = struct.lattice.a\n",
    "radius = a/sqrt(3)\n",
    "radius"
   ]
  },
  {
   "cell_type": "code",
   "execution_count": 98,
   "metadata": {
    "collapsed": false
   },
   "outputs": [
    {
     "data": {
      "text/plain": [
       "[(PeriodicSite: I (2.0472, 6.1963, 6.0133) [0.2418, 0.7318, 0.5000],\n",
       "  2.9380688813937139),\n",
       " (PeriodicSite: I (6.1963, 6.4196, 6.0133) [0.7318, 0.7582, 0.5000],\n",
       "  2.9380688813937135),\n",
       " (PeriodicSite: I (6.4196, 2.2705, 6.0133) [0.7582, 0.2682, 0.5000],\n",
       "  2.9380688813937139),\n",
       " (PeriodicSite: I (4.2334, 4.2334, 3.0734) [0.5000, 0.5000, 0.2556],\n",
       "  2.9398541666017288),\n",
       " (PeriodicSite: I (2.2705, 2.0472, 6.0133) [0.2682, 0.2418, 0.5000],\n",
       "  2.9380688813937139),\n",
       " (PeriodicSite: I (4.2334, 4.2334, 8.9531) [0.5000, 0.5000, 0.7444],\n",
       "  2.9398541666017275)]"
      ]
     },
     "execution_count": 98,
     "metadata": {},
     "output_type": "execute_result"
    }
   ],
   "source": [
    "struct.sites[5]\n",
    "struct.get_neighbors(struct.sites[5], r=radius)"
   ]
  },
  {
   "cell_type": "code",
   "execution_count": 99,
   "metadata": {
    "collapsed": false
   },
   "outputs": [
    {
     "name": "stdout",
     "output_type": "stream",
     "text": [
      "[ 2.0472176   6.19626947  6.01327471] I 2.93806888139\n",
      "\n",
      "\n",
      "[ 4.23339714  4.23339714  8.95312888] I 2.9398541666\n",
      "\n",
      "\n",
      "2.93806888139\n",
      "2.9398541666\n"
     ]
    }
   ],
   "source": [
    "(site1, dist1) = struct.get_neighbors(struct.sites[5], r=radius)[0] #Sn-I \n",
    "print (site1, dist1)\n",
    "print (\"\\n\")\n",
    "(site2, dist2) = struct.get_neighbors(struct.sites[5], r=radius)[5]  #Sn-I\n",
    "print (site2, dist2)\n",
    "print (\"\\n\")\n",
    "\n",
    "B_X_1 = dist1\n",
    "B_X_2 = dist2\n",
    "\n",
    "print(B_X_1)\n",
    "print(B_X_2)"
   ]
  },
  {
   "cell_type": "code",
   "execution_count": 100,
   "metadata": {
    "collapsed": false
   },
   "outputs": [
    {
     "data": {
      "text/plain": [
       "[PeriodicSite: Cs (4.2334, 0.0000, 3.0066) [0.5000, 0.0000, 0.2500],\n",
       " PeriodicSite: Cs (0.0000, 4.2334, 3.0066) [0.0000, 0.5000, 0.2500],\n",
       " PeriodicSite: Cs (0.0000, 4.2334, 9.0199) [0.0000, 0.5000, 0.7500],\n",
       " PeriodicSite: Cs (4.2334, 0.0000, 9.0199) [0.5000, 0.0000, 0.7500],\n",
       " PeriodicSite: Te (0.0000, 0.0000, 0.0000) [0.0000, 0.0000, -0.0000],\n",
       " PeriodicSite: Te (4.2334, 4.2334, 6.0133) [0.5000, 0.5000, 0.5000],\n",
       " PeriodicSite: I (0.0000, 0.0000, 2.9399) [0.0000, 0.0000, 0.2444],\n",
       " PeriodicSite: I (2.0472, 6.1963, 6.0133) [0.2418, 0.7318, 0.5000],\n",
       " PeriodicSite: I (6.1963, 6.4196, 6.0133) [0.7318, 0.7582, 0.5000],\n",
       " PeriodicSite: I (6.4196, 2.2705, 6.0133) [0.7582, 0.2682, 0.5000],\n",
       " PeriodicSite: I (6.2806, 6.5039, 0.0000) [0.7418, 0.7682, -0.0000],\n",
       " PeriodicSite: I (0.0000, 0.0000, 9.0867) [0.0000, 0.0000, 0.7556],\n",
       " PeriodicSite: I (4.2334, 4.2334, 3.0734) [0.5000, 0.5000, 0.2556],\n",
       " PeriodicSite: I (1.9629, 6.2806, 0.0000) [0.2318, 0.7418, 0.0000],\n",
       " PeriodicSite: I (2.2705, 2.0472, 6.0133) [0.2682, 0.2418, 0.5000],\n",
       " PeriodicSite: I (2.1862, 1.9629, 0.0000) [0.2582, 0.2318, -0.0000],\n",
       " PeriodicSite: I (4.2334, 4.2334, 8.9531) [0.5000, 0.5000, 0.7444],\n",
       " PeriodicSite: I (6.5039, 2.1862, 0.0000) [0.7682, 0.2582, 0.0000]]"
      ]
     },
     "execution_count": 100,
     "metadata": {},
     "output_type": "execute_result"
    }
   ],
   "source": [
    "struct.sites"
   ]
  },
  {
   "cell_type": "code",
   "execution_count": null,
   "metadata": {
    "collapsed": false
   },
   "outputs": [],
   "source": []
  },
  {
   "cell_type": "code",
   "execution_count": 101,
   "metadata": {
    "collapsed": false
   },
   "outputs": [
    {
     "data": {
      "text/plain": [
       "3.080758805398382"
      ]
     },
     "execution_count": 101,
     "metadata": {},
     "output_type": "execute_result"
    }
   ],
   "source": [
    "atan(struct.sites[-3].coords[0]/struct.sites[-3].coords[1])/pi*180-45"
   ]
  },
  {
   "cell_type": "code",
   "execution_count": null,
   "metadata": {
    "collapsed": false
   },
   "outputs": [],
   "source": []
  },
  {
   "cell_type": "code",
   "execution_count": null,
   "metadata": {
    "collapsed": false
   },
   "outputs": [],
   "source": []
  },
  {
   "cell_type": "code",
   "execution_count": null,
   "metadata": {
    "collapsed": true
   },
   "outputs": [],
   "source": []
  }
 ],
 "metadata": {
  "anaconda-cloud": {},
  "kernelspec": {
   "display_name": "Python [conda root]",
   "language": "python",
   "name": "conda-root-py"
  },
  "language_info": {
   "codemirror_mode": {
    "name": "ipython",
    "version": 3
   },
   "file_extension": ".py",
   "mimetype": "text/x-python",
   "name": "python",
   "nbconvert_exporter": "python",
   "pygments_lexer": "ipython3",
   "version": "3.5.2"
  }
 },
 "nbformat": 4,
 "nbformat_minor": 1
}
