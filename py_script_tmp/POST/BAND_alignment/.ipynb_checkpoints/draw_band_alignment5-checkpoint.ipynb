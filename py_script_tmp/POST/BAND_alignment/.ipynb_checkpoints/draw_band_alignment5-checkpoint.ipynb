{
 "cells": [
  {
   "cell_type": "code",
   "execution_count": 19,
   "metadata": {
    "collapsed": false
   },
   "outputs": [],
   "source": [
    "import numpy as np\n",
    "import matplotlib.pyplot as plt\n",
    "import re"
   ]
  },
  {
   "cell_type": "code",
   "execution_count": 20,
   "metadata": {
    "collapsed": false
   },
   "outputs": [],
   "source": [
    "fig, ax = plt.subplots()\n",
    "data = []\n",
    "downlimit = -5.5\n",
    "uplimit = -3.5\n",
    "n_of_compounds = 11\n",
    "universal_bp = -4.5\n",
    "\n",
    "data = [['Rb2Sn1I6', 1.10, 1.48, 1.25],\n",
    "        ['Cs2Sn1I6', 1.10, 1.51, 1.39],\n",
    "        ['Cs2Pd1I6', 1.41, 1.56, 1.56],\n",
    "        ['Rb2Ni1Br6', -0.20, -0.08, -0.05],\n",
    "        ['Cs2Ni1Br6', -0.28, -0.09, 0.03],\n",
    "        ['K2Pt1I6', 1.59, 1.91, 2.01],\n",
    "        ['Rb2Pt1I6', 1.45, 1.80, 1.96],\n",
    "        ['Cs2Pt1I6', 1.40, 1.81, 2.05],\n",
    "        ['K2Se1I6', 1.37, 1.85, 2.09],\n",
    "        ['Rb2Se1I6', 1.25, 1.76, 2.05],\n",
    "        ['Cs2Se1I6', 1.20, 1.77, 2.14]]\n",
    "\n",
    "for i in np.arange(len(data)):\n",
    "    offset = data[i][2]-universal_bp\n",
    "    ax.broken_barh([(i, 1)] , (downlimit, data[i][1]-offset-downlimit), facecolors='#95c4de')\n",
    "    ax.broken_barh([(i, 1)] , (data[i][3]-offset, uplimit-data[i][3]+offset), facecolors='#95c4de')\n",
    "    #ax.text(i+0.3, data[i][1]-offset-0.6, data[i][0], fontdict=None, withdash=False, rotation='vertical')\n",
    "    ax.text(i+0.3, -3.8, data[i][0], fontdict=None, withdash=False, rotation='vertical')\n",
    "    \n",
    "line = plt.axhline(y=universal_bp, xmin=0, xmax=1, linewidth=2, color = 'k')\n",
    "line.set_dashes([6, 2])\n",
    "\n",
    "ax.set_ylim(downlimit,uplimit)\n",
    "ax.set_xlim(0, n_of_compounds)\n",
    "ax.set_ylabel('Energy(eV)')\n",
    "ax.set_xticks([])\n",
    "ax.set_yticks(np.arange(uplimit-downlimit+1)+downlimit)\n",
    "\n",
    "plt.show()"
   ]
  }
 ],
 "metadata": {
  "anaconda-cloud": {},
  "kernelspec": {
   "display_name": "Python [default]",
   "language": "python",
   "name": "python3"
  },
  "language_info": {
   "codemirror_mode": {
    "name": "ipython",
    "version": 3
   },
   "file_extension": ".py",
   "mimetype": "text/x-python",
   "name": "python",
   "nbconvert_exporter": "python",
   "pygments_lexer": "ipython3",
   "version": "3.5.2"
  }
 },
 "nbformat": 4,
 "nbformat_minor": 0
}
