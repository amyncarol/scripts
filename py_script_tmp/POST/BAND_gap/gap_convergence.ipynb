{
 "cells": [
  {
   "cell_type": "code",
   "execution_count": 23,
   "metadata": {
    "collapsed": false
   },
   "outputs": [
    {
     "name": "stdout",
     "output_type": "stream",
     "text": [
      "/Users/yao/Google Drive/data/216/convergence-test/relaxation/Rb2Te1I6/k-test/k5\n",
      "/Users/yao/Google Drive/data/216/convergence-test/relaxation/Rb2Te1I6/k-test/k7\n"
     ]
    },
    {
     "name": "stderr",
     "output_type": "stream",
     "text": [
      "//anaconda/lib/python3.5/site-packages/pymatgen/io/vasp/outputs.py:814: UserWarning: No POTCAR file with matching TITEL fields was found in /Users/yao/Google Drive/data/216/convergence-test/relaxation/Rb2Te1I6/k-test/k5\n",
      "  \" was found in {}\".format(os.path.abspath(p)))\n",
      "//anaconda/lib/python3.5/site-packages/pymatgen/io/vasp/outputs.py:814: UserWarning: No POTCAR file with matching TITEL fields was found in /Users/yao/Google Drive/data/216/convergence-test/relaxation/Rb2Te1I6/k-test/k7\n",
      "  \" was found in {}\".format(os.path.abspath(p)))\n"
     ]
    },
    {
     "name": "stdout",
     "output_type": "stream",
     "text": [
      "/Users/yao/Google Drive/data/216/convergence-test/relaxation/Rb2Te1I6/k-test/k9\n",
      "(5, 7, 9)\n",
      "(1.3693000000000002, 1.3466000000000002, 1.3357999999999999)\n",
      "errors in meV\n",
      "[33.500000000000306, 10.800000000000365, 0.0]\n",
      "(8.4104746899999991, 8.41915601, 8.4221854399999998)\n",
      "[-0.011710750000000658, -0.0030294299999997776, 0.0]\n"
     ]
    },
    {
     "name": "stderr",
     "output_type": "stream",
     "text": [
      "//anaconda/lib/python3.5/site-packages/pymatgen/io/vasp/outputs.py:814: UserWarning: No POTCAR file with matching TITEL fields was found in /Users/yao/Google Drive/data/216/convergence-test/relaxation/Rb2Te1I6/k-test/k9\n",
      "  \" was found in {}\".format(os.path.abspath(p)))\n"
     ]
    }
   ],
   "source": [
    "import glob\n",
    "from pymatgen.io.vasp.outputs import Vasprun\n",
    "\n",
    "directory = '/Users/yao/Google Drive/data/216/convergence-test/relaxation/Rb2Te1I6/k-test/'\n",
    "folders = glob.glob(directory+'*')\n",
    "number = []\n",
    "gaps = []\n",
    "aes = []\n",
    "for folder in folders:\n",
    "    print(folder)\n",
    "    v = Vasprun(folder+'/vasprun.xml')\n",
    "    number.append(int(folder.split('/k')[2]))\n",
    "    gap = v.eigenvalue_band_properties[0]\n",
    "    a = v.final_structure.lattice.abc[0]\n",
    "    gaps.append(gap)\n",
    "    aes.append(a)\n",
    "zipped = list(zip(number, gaps, aes))\n",
    "zipped.sort(key = lambda t: t[0])\n",
    "number, gaps, aes = zip(*zipped)\n",
    "\n",
    "gap_error = []\n",
    "for i in range(len(gaps)):\n",
    "    gap_error.append((gaps[i]-gaps[-1])*1000)\n",
    "a_error = []\n",
    "for i in range(len(aes)):\n",
    "    a_error.append(aes[i]-aes[-1])\n",
    "print(number)\n",
    "print(gaps)\n",
    "print('errors in meV')\n",
    "print(gap_error)\n",
    "print(aes)\n",
    "print(a_error)"
   ]
  },
  {
   "cell_type": "code",
   "execution_count": null,
   "metadata": {
    "collapsed": true
   },
   "outputs": [],
   "source": []
  }
 ],
 "metadata": {
  "anaconda-cloud": {},
  "kernelspec": {
   "display_name": "Python [conda root]",
   "language": "python",
   "name": "conda-root-py"
  },
  "language_info": {
   "codemirror_mode": {
    "name": "ipython",
    "version": 3
   },
   "file_extension": ".py",
   "mimetype": "text/x-python",
   "name": "python",
   "nbconvert_exporter": "python",
   "pygments_lexer": "ipython3",
   "version": "3.5.2"
  }
 },
 "nbformat": 4,
 "nbformat_minor": 1
}
