{
 "cells": [
  {
   "cell_type": "code",
   "execution_count": 1,
   "metadata": {
    "collapsed": false
   },
   "outputs": [],
   "source": [
    "import numpy as np\n",
    "import matplotlib.pyplot as plt\n",
    "import re\n",
    "from matplotlib import rc\n"
   ]
  },
  {
   "cell_type": "code",
   "execution_count": 2,
   "metadata": {
    "collapsed": false
   },
   "outputs": [],
   "source": [
    "compounds = np.array(['K2MnBr6','Rb2NiBr6','Rb2SnI6','Cs2SnI6', 'Cs2PtI6','Cs2PdBr6','Cs2TcI6','K2SeI6','Cs2ReBr6'])\n",
    "Eg_PBE_cubic = np.array([0.4518, 0.1525, 0.1534, 0.2883, 0.6561, 0.7615, 0.6994, 0.7158, 1.1292])\n",
    "Eg_PBE_tetra = np.array([0.6774, 0.1518, 0.6714, 0.3762, 0.6352, 0.741, 0.694, 1.2496, 1.1079])\n",
    "Eg_HSE_cubic = np.array([0.8858, 1.1245, 1.0215, 1.172, 1.472, 1.7867, 1.8847, 1.4861, 2.8295])\n",
    "Eg_HSE_tetra = np.array([1.1104, 1.1201, 1.51, 1.2167, 1.4634, 1.771, 1.8779, 1.9401, 2.83])\n",
    "Eg_exp = np.array([1000, 1000, 1.33, 1.24, 1000, 1000, 1000, 1000, 1000])\n",
    "\n",
    "comp = np.arange(len(compounds))"
   ]
  },
  {
   "cell_type": "code",
   "execution_count": 3,
   "metadata": {
    "collapsed": false
   },
   "outputs": [],
   "source": [
    "Eg_exp_masked = np.ma.masked_array(Eg_exp, Eg_exp == 1000)"
   ]
  },
  {
   "cell_type": "code",
   "execution_count": 4,
   "metadata": {
    "collapsed": false
   },
   "outputs": [],
   "source": [
    "#compounds = np.array(['Rb2PtI6','Cs2PtI6','Rb2WBr6','Cs2WBr6','K2WCl6','K2MnBr6','K2MnCl6',\n",
    "#                      'Cs2NiBr6','Rb2NiBr6','K2NiCl6','Ag3SI','Ag3SBr','KMnBr3','KMnCl3'])\n",
    "#Eg_PBE = np.array([0.51,0.66,0,0,0,0.45,1.16,0.31,0.15,0.52,0.62,1.38,1.79,1.37])\n",
    "#Eg_HSE_025 = np.array([1.36,1.51,0.27,0.40,0.30,0.96,1.95,1.32,1.14,1.74,1.71,1.98,4.52,4.00])\n",
    "#Eg_HSE_034 = np.array([1.65,1.81,0.50,100,0.55,1.14,2.24,100,0.64,2.19,2.12,2.41,5.28,4.67])\n",
    "\n",
    "#Eg_HSE_025_ = np.ma.masked_array(Eg_HSE_025, Eg_HSE_025 == 100)\n",
    "#Eg_HSE_034_ = np.ma.masked_array(Eg_HSE_034, Eg_HSE_034 == 100)\n",
    "\n",
    "#comp = np.arange(len(compounds))\n",
    "\n"
   ]
  },
  {
   "cell_type": "code",
   "execution_count": 5,
   "metadata": {
    "collapsed": false
   },
   "outputs": [],
   "source": [
    "fig, ax = plt.subplots()\n",
    "ax.plot(comp, Eg_PBE_cubic,'-o', label ='Eg_PBE_cubic')\n",
    "ax.plot(comp, Eg_PBE_tetra,'-o', label ='Eg_PBE_tetragonal')\n",
    "ax.plot(comp, Eg_HSE_cubic,'-o', label ='Eg_HSE_cubic')\n",
    "ax.plot(comp, Eg_HSE_tetra,'-o', label ='Eg_HSE_tetragonal')\n",
    "ax.plot(comp, Eg_exp_masked,'o', label ='Eg_exp')\n",
    "#ax.plot(comp, Eg_HSE_034_,'-o', label ='Eg_HSE_alpha0.34')\n",
    "ax.set_xticks([])\n",
    "ax.set_ylabel('bandgap (eV)')\n",
    "ax.legend(loc='upper left')\n",
    "for x, z in zip(comp, compounds):\n",
    "    #ax.text(x-0.1, -0.18, '%s' % z, rotation='vertical')\n",
    "    ax.text(x-0.2, -0.18, '%s' % z)\n",
    "plt.show()"
   ]
  },
  {
   "cell_type": "code",
   "execution_count": 6,
   "metadata": {
    "collapsed": false
   },
   "outputs": [
    {
     "data": {
      "text/plain": [
       "[0, 1, 2]"
      ]
     },
     "execution_count": 6,
     "metadata": {},
     "output_type": "execute_result"
    }
   ],
   "source": [
    "range(3)"
   ]
  },
  {
   "cell_type": "code",
   "execution_count": null,
   "metadata": {
    "collapsed": true
   },
   "outputs": [],
   "source": []
  }
 ],
 "metadata": {
  "kernelspec": {
   "display_name": "Python 2",
   "language": "python",
   "name": "python2"
  },
  "language_info": {
   "codemirror_mode": {
    "name": "ipython",
    "version": 2
   },
   "file_extension": ".py",
   "mimetype": "text/x-python",
   "name": "python",
   "nbconvert_exporter": "python",
   "pygments_lexer": "ipython2",
   "version": "2.7.9"
  }
 },
 "nbformat": 4,
 "nbformat_minor": 0
}
