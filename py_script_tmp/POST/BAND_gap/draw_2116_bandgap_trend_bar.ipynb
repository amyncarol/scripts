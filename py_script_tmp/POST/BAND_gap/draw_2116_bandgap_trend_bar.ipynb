{
 "cells": [
  {
   "cell_type": "code",
   "execution_count": 27,
   "metadata": {
    "collapsed": false
   },
   "outputs": [],
   "source": [
    "import numpy as np\n",
    "import matplotlib.pyplot as plt\n",
    "import matplotlib.cbook as cbook\n",
    "import re\n",
    "from matplotlib.pyplot import figure, show, axes, sci\n",
    "from matplotlib import cm, colors\n",
    "from matplotlib.font_manager import FontProperties\n",
    "from numpy import amin, amax, ravel\n",
    "import numpy.ma as ma\n",
    "\n",
    "def get_eg_matrix(filename):\n",
    "    A_set = set()\n",
    "    B1_set = set()\n",
    "    B2_set = set()\n",
    "    X_set = set()\n",
    "    value_eg = {}\n",
    "\n",
    "    import re\n",
    "    with open(filename,'r') as f:\n",
    "        for line in f:\n",
    "            compound = line.split()[0]\n",
    "            if compound != 'None':\n",
    "                eg = line.split()[1]  ##change here for 1->tolerance or 2->octahedron\n",
    "                value_eg[compound] = eg\n",
    "                A_set.add(re.split('1|2|6', compound)[0])\n",
    "                B1_set.add(re.split('1|2|6', compound)[1])\n",
    "                B2_set.add(re.split('1|2|6', compound)[2])\n",
    "                X_set.add(re.split('1|2|6', compound)[3])  \n",
    "    \n",
    "    B1_list = ['Cu','Ag','Au','In','Tl']\n",
    "    B2_list = ['Sc', 'Y', 'Al','Ga','In','Tl','As','Sb','Bi']\n",
    "\n",
    "    import numpy as np\n",
    "    eg = np.zeros( (len(B1_list), len(B2_list)) )\n",
    "    number = 0\n",
    "    for a in range(len(B1_list)):\n",
    "        for b in range(len(B2_list)):\n",
    "            compound = 'Cs'+'2'+B1_list[a]+'1'+B2_list[b]+'1'+'Cl'+'6'\n",
    "            if compound in value_eg:\n",
    "                eg[a][b] = value_eg[compound]\n",
    "                number +=1\n",
    "            else:\n",
    "                eg[a][b] = 1000\n",
    "    return eg"
   ]
  },
  {
   "cell_type": "code",
   "execution_count": 80,
   "metadata": {
    "collapsed": false
   },
   "outputs": [
    {
     "data": {
      "text/plain": [
       "masked_array(data =\n",
       " [[-- -- 0.0 0.0]\n",
       " [2.2332 1.0008 1.0749 0.0]\n",
       " [0.4189 0.0 0.0 0.0]],\n",
       "             mask =\n",
       " [[ True  True False False]\n",
       " [False False False False]\n",
       " [False False False False]],\n",
       "       fill_value = 1e+20)"
      ]
     },
     "execution_count": 80,
     "metadata": {},
     "output_type": "execute_result"
    }
   ],
   "source": [
    "filename_eg = '/Users/yao/Google Drive/data/2116/data/Eg_result_SOC'\n",
    "eg = get_eg_matrix(filename_eg)\n",
    "\n",
    "import numpy.ma as ma\n",
    "masked_eg = ma.masked_where(eg==1000, eg)\n",
    "\n",
    "masked_eg[0:3, 2:6]"
   ]
  },
  {
   "cell_type": "code",
   "execution_count": 92,
   "metadata": {
    "collapsed": false
   },
   "outputs": [
    {
     "data": {
      "image/png": "[encoded data removed]",
      "text/plain": [
       "<matplotlib.figure.Figure at 0x10da96f60>"
      ]
     },
     "metadata": {},
     "output_type": "display_data"
    }
   ],
   "source": [
    "B1_list = ['Cu','Ag','Au', 'In','Tl']\n",
    "B2_list = ['Sc', 'Y', 'Al','Ga','In','Tl', 'As','Sb','Bi']\n",
    "\n",
    "B1 = B1_list[3:5]\n",
    "B2 = B2_list[6:9]\n",
    "dz = masked_eg[3:5, 6:9].flatten()\n",
    "\n",
    "from mpl_toolkits.mplot3d import Axes3D\n",
    "import matplotlib.pyplot as plt\n",
    "import numpy as np\n",
    "\n",
    "\n",
    "fig = plt.figure()\n",
    "ax = fig.add_subplot(111, projection='3d')\n",
    "\n",
    "\n",
    "xedges = np.arange(0, len(B1), 1)\n",
    "yedges = np.arange(0, len(B2), 1)\n",
    "xpos, ypos = np.meshgrid(xedges + 0.25, yedges + 0.25)\n",
    "xpos = xpos.flatten('F')\n",
    "ypos = ypos.flatten('F')\n",
    "zpos = np.zeros_like(xpos)\n",
    "\n",
    "dx = 0.5 * np.ones_like(zpos)\n",
    "dy = dx.copy()\n",
    "\n",
    "ax.bar3d(xpos, ypos, zpos, dx, dy, dz, color='g', zsort='average')\n",
    "plt.xticks(xedges+0.5, B1)\n",
    "plt.yticks(yedges+0.5, B2)\n",
    "ax.set_zlabel('Band gap(eV)')\n",
    "ax.view_init(elev=5,azim=-75)\n",
    "\n",
    "plt.savefig(\"/Users/yao/Google Drive/data/2116/2116 figure/full_data/trend6.pdf\", dpi=300, bbox_inches=\"tight\")\n",
    "plt.show()"
   ]
  },
  {
   "cell_type": "code",
   "execution_count": 46,
   "metadata": {
    "collapsed": false
   },
   "outputs": [
    {
     "name": "stdout",
     "output_type": "stream",
     "text": [
      "[ 0.25  0.25  1.25  1.25  2.25  2.25]\n"
     ]
    }
   ],
   "source": [
    "print(xpos)"
   ]
  },
  {
   "cell_type": "code",
   "execution_count": null,
   "metadata": {
    "collapsed": true
   },
   "outputs": [],
   "source": [
    "\n",
    "\n",
    "\n"
   ]
  }
 ],
 "metadata": {
  "anaconda-cloud": {},
  "kernelspec": {
   "display_name": "Python [conda env:216paper]",
   "language": "python",
   "name": "conda-env-216paper-py"
  },
  "language_info": {
   "codemirror_mode": {
    "name": "ipython",
    "version": 3
   },
   "file_extension": ".py",
   "mimetype": "text/x-python",
   "name": "python",
   "nbconvert_exporter": "python",
   "pygments_lexer": "ipython3",
   "version": "3.5.2"
  }
 },
 "nbformat": 4,
 "nbformat_minor": 1
}
