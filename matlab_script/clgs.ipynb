{
 "cells": [
  {
   "cell_type": "code",
   "execution_count": null,
   "metadata": {
    "collapsed": true
   },
   "outputs": [],
   "source": [
    "function [Q,R] = clgs(A)\n",
    "%CLGS Classical Gram-Schmidt\n",
    "%   [Q,R]=CLSG(A) computes the reduced QR factorization of A\n",
    "%   using the classical Gram-Schmidt algorithm.\n",
    "\n",
    "% UC Berkeley Math 221, Per-Olof Persson <persson@berkeley.edu>\n",
    "\n",
    "[m,n] = size(A);\n",
    "Q = zeros(m,n);\n",
    "R = zeros(n,n);\n",
    "for j = 1:n\n",
    "    v = A(:,j);\n",
    "    for i = 1:j-1\n",
    "        R(i,j) = Q(:,i)' * A(:,j);\n",
    "        v = v - R(i,j) * Q(:,i);\n",
    "    end\n",
    "    R(j,j) = norm(v);\n",
    "    Q(:,j) = v / R(j,j);\n",
    "end"
   ]
  }
 ],
 "metadata": {
  "kernelspec": {
   "display_name": "Matlab",
   "language": "matlab",
   "name": "matlab"
  },
  "language_info": {
   "codemirror_mode": "octave",
   "file_extension": ".m",
   "help_links": [
    {
     "text": "MetaKernel Magics",
     "url": "https://github.com/calysto/metakernel/blob/master/metakernel/magics/README.md"
    }
   ],
   "mimetype": "text/x-octave",
   "name": "matlab",
   "version": "0.11.0"
  }
 },
 "nbformat": 4,
 "nbformat_minor": 1
}
