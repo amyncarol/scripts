{
 "cells": [
  {
   "cell_type": "code",
   "execution_count": 1,
   "metadata": {
    "collapsed": false
   },
   "outputs": [],
   "source": [
    "import numpy as np\n",
    "import matplotlib.pyplot as plt\n",
    "import matplotlib.cbook as cbook\n",
    "import re\n",
    "from matplotlib.pyplot import figure, show, axes, sci\n",
    "from matplotlib import cm, colors\n",
    "from matplotlib.font_manager import FontProperties\n",
    "from numpy import amin, amax, ravel\n",
    "import numpy.ma as ma"
   ]
  },
  {
   "cell_type": "code",
   "execution_count": 2,
   "metadata": {
    "collapsed": false
   },
   "outputs": [],
   "source": [
    "Eg_file = open('/Users/yao/Google Drive/data/2116/Eg_Ag_-Ce','r')\n",
    "mass_file = open('/Users/yao/Google Drive/data/2116/mass_Ag_-Ce','r')"
   ]
  },
  {
   "cell_type": "code",
   "execution_count": 3,
   "metadata": {
    "collapsed": false
   },
   "outputs": [],
   "source": [
    "Eg = []\n",
    "B = []\n",
    "lines = Eg_file.readlines()\n",
    "for line in lines:\n",
    "    match = re.match(r\"([a-z]+)([ ]+)([a-z]+)([ ]+)([a-z]+)([ ]+)([a-z]+)([ ]+)([0-9.]+)\", line, re.I)\n",
    "    if match:\n",
    "        items = match.groups()\n",
    "        Eg.append(float(items[8]))\n",
    "        B.append(items[4])"
   ]
  },
  {
   "cell_type": "code",
   "execution_count": 4,
   "metadata": {
    "collapsed": false
   },
   "outputs": [
    {
     "data": {
      "text/plain": [
       "['Bi',\n",
       " 'Bi',\n",
       " 'Bi',\n",
       " 'Bi',\n",
       " 'Sb',\n",
       " 'Sb',\n",
       " 'Sb',\n",
       " 'Sb',\n",
       " 'Pr',\n",
       " 'Pr',\n",
       " 'Pr',\n",
       " 'Pr',\n",
       " 'Nd',\n",
       " 'Nd',\n",
       " 'Nd',\n",
       " 'Nd',\n",
       " 'Ta',\n",
       " 'Ta',\n",
       " 'Ta',\n",
       " 'Ta',\n",
       " 'Mo',\n",
       " 'Mo',\n",
       " 'Mo',\n",
       " 'Mo',\n",
       " 'Y',\n",
       " 'Y',\n",
       " 'Y',\n",
       " 'Y',\n",
       " 'Bi',\n",
       " 'Bi',\n",
       " 'Bi',\n",
       " 'Bi',\n",
       " 'Sb',\n",
       " 'Sb',\n",
       " 'Sb',\n",
       " 'Sb',\n",
       " 'Pr',\n",
       " 'Pr',\n",
       " 'Pr',\n",
       " 'Pr',\n",
       " 'Nd',\n",
       " 'Nd',\n",
       " 'Nd',\n",
       " 'Nd',\n",
       " 'Ta',\n",
       " 'Ta',\n",
       " 'Ta',\n",
       " 'Ta',\n",
       " 'Mo',\n",
       " 'Mo',\n",
       " 'Mo',\n",
       " 'Mo',\n",
       " 'Y',\n",
       " 'Y',\n",
       " 'Y',\n",
       " 'Y',\n",
       " 'Bi',\n",
       " 'Bi',\n",
       " 'Bi',\n",
       " 'Bi',\n",
       " 'Sb',\n",
       " 'Sb',\n",
       " 'Sb',\n",
       " 'Sb',\n",
       " 'Pr',\n",
       " 'Pr',\n",
       " 'Pr',\n",
       " 'Pr',\n",
       " 'Nd',\n",
       " 'Nd',\n",
       " 'Nd',\n",
       " 'Nd',\n",
       " 'Ta',\n",
       " 'Ta',\n",
       " 'Ta',\n",
       " 'Ta',\n",
       " 'Mo',\n",
       " 'Mo',\n",
       " 'Mo',\n",
       " 'Mo',\n",
       " 'Y',\n",
       " 'Y',\n",
       " 'Y',\n",
       " 'Y']"
      ]
     },
     "execution_count": 4,
     "metadata": {},
     "output_type": "execute_result"
    }
   ],
   "source": [
    "B"
   ]
  },
  {
   "cell_type": "code",
   "execution_count": 5,
   "metadata": {
    "collapsed": false
   },
   "outputs": [],
   "source": [
    "mass_e = []\n",
    "mass_h = []\n",
    "lines = mass_file.readlines()\n",
    "for line in lines:\n",
    "    match = re.match(r\"([a-z]+)([ ]+)([a-z]+)([ ]+)([a-z]+)([ ]+)([a-z]+)([ ]+)([0-9.]+)([ ]+)([0-9.]+)\", line, re.I)\n",
    "    if match:\n",
    "        items = match.groups()\n",
    "        mass_e.append(float(items[8]))\n",
    "        mass_h.append(float(items[10]))"
   ]
  },
  {
   "cell_type": "code",
   "execution_count": null,
   "metadata": {
    "collapsed": false
   },
   "outputs": [],
   "source": []
  },
  {
   "cell_type": "code",
   "execution_count": 6,
   "metadata": {
    "collapsed": false
   },
   "outputs": [],
   "source": [
    "masked_Eg = ma.masked_where(mass_e>999, Eg)\n",
    "masked_e = ma.masked_where(mass_e>999, mass_e)\n",
    "masked_h = ma.masked_where(mass_e>999, mass_h)"
   ]
  },
  {
   "cell_type": "code",
   "execution_count": null,
   "metadata": {
    "collapsed": false
   },
   "outputs": [],
   "source": []
  },
  {
   "cell_type": "code",
   "execution_count": 7,
   "metadata": {
    "collapsed": false
   },
   "outputs": [],
   "source": [
    "for i in range(0, len(Eg)):\n",
    "    if B[i] == 'Bi':\n",
    "        plt.plot(Eg[i], mass_h[i],'co',label = 'A2AgBiX6')\n",
    "    elif B[i] == 'Sb':\n",
    "        plt.plot(Eg[i], mass_h[i],'ro',label = 'A2AgSbX6')\n",
    "    elif B[i] == 'Pr':\n",
    "        plt.plot(Eg[i], mass_h[i],'go',label = 'A2AgPrX6')\n",
    "    elif B[i] == 'Nd':\n",
    "        plt.plot(Eg[i], mass_h[i],'mo',label = 'A2AgNdX6')\n",
    "    elif B[i] == 'Ta':\n",
    "        plt.plot(Eg[i], mass_h[i],'yo',label = 'A2AgTaX6')\n",
    "    elif B[i] == 'Mo':\n",
    "        plt.plot(Eg[i], mass_h[i],'ko',label = 'A2AgMoX6')\n",
    "    elif B[i] == 'Y':\n",
    "        plt.plot(Eg[i], mass_h[i],'bo',label = 'A2AgYX6')\n",
    "plt.show()\n"
   ]
  },
  {
   "cell_type": "code",
   "execution_count": null,
   "metadata": {
    "collapsed": false
   },
   "outputs": [],
   "source": []
  },
  {
   "cell_type": "code",
   "execution_count": null,
   "metadata": {
    "collapsed": false
   },
   "outputs": [],
   "source": []
  }
 ],
 "metadata": {
  "kernelspec": {
   "display_name": "Python 2",
   "language": "python",
   "name": "python2"
  },
  "language_info": {
   "codemirror_mode": {
    "name": "ipython",
    "version": 2
   },
   "file_extension": ".py",
   "mimetype": "text/x-python",
   "name": "python",
   "nbconvert_exporter": "python",
   "pygments_lexer": "ipython2",
   "version": "2.7.9"
  }
 },
 "nbformat": 4,
 "nbformat_minor": 0
}
