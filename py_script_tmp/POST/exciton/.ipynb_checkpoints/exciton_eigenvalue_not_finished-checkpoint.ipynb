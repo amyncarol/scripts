{
 "cells": [
  {
   "cell_type": "code",
   "execution_count": 8,
   "metadata": {
    "collapsed": true
   },
   "outputs": [],
   "source": [
    "import numpy as np\n",
    "import matplotlib.pyplot as plt\n",
    "\n",
    "def eigenvalue_parse(filename):\n",
    "    eig = []\n",
    "    transition_matrix = []\n",
    "    with open(filename,'r') as f:\n",
    "        for line in f:\n",
    "            if line.split()[0]!='#':\n",
    "                eig.append(float(line.split()[0]))\n",
    "                transition_matrix.append(float(line.split()[1]))\n",
    "    return eig, transition_matrix\n",
    "\n",
    "\n",
    "def eigenvalue_noeh_parse(filename):\n",
    "    ik = []\n",
    "    ic = []\n",
    "    iv = []\n",
    "    iss = []\n",
    "    ec = []\n",
    "    ev = []\n",
    "    eig = []\n",
    "    transition_matrix = []\n",
    "    with open(filename,'r') as f:\n",
    "        for line in f:\n",
    "            if line.split()[0]!='#':\n",
    "                ik.append(int(line.split()[0]))\n",
    "                ic.append(int(line.split()[1]))\n",
    "                iv.append(int(line.split()[2]))\n",
    "                iss.append(int(line.split()[3]))\n",
    "                ec.append(float(line.split()[4]))\n",
    "                ev.append(float(line.split()[5]))\n",
    "                eig.append(float(line.split()[6]))\n",
    "                transition_matrix.append(float(line.split()[7]))\n",
    "    return eig, transition_matrix"
   ]
  },
  {
   "cell_type": "code",
   "execution_count": 44,
   "metadata": {
    "collapsed": false
   },
   "outputs": [],
   "source": [
    "eig, transition_matrix = eigenvalue_parse('/Users/yao/Google Drive/data/BGW-test/Si/eigenvalues.dat')\n",
    "for i in range(len(eig)):\n",
    "    if transition_matrix[i]>50:\n",
    "        plt.plot([0,1], [eig[i],eig[i]],color='r')\n",
    "    #else:\n",
    "     #   plt.plot([0,1], [eig[i],eig[i]],color='b')\n",
    "\n",
    "plt.show()\n",
    "\n"
   ]
  },
  {
   "cell_type": "code",
   "execution_count": 46,
   "metadata": {
    "collapsed": false
   },
   "outputs": [
    {
     "data": {
      "image/png": "[encoded data removed]",
      "text/plain": [
       "<matplotlib.figure.Figure at 0x112924b38>"
      ]
     },
     "metadata": {},
     "output_type": "display_data"
    }
   ],
   "source": []
  },
  {
   "cell_type": "code",
   "execution_count": 38,
   "metadata": {
    "collapsed": false
   },
   "outputs": [
    {
     "data": {
      "image/png": "[encoded data removed]",
      "text/plain": [
       "<matplotlib.figure.Figure at 0x10d2ff978>"
      ]
     },
     "metadata": {},
     "output_type": "display_data"
    }
   ],
   "source": [
    "eig_noeh, transition_matrix_noeh = eigenvalue_noeh_parse('/Users/yao/Google Drive/data/BGW-test/Si/eigenvalues_noeh.dat')\n",
    "for i in range(len(eig_noeh)):\n",
    "    if transition_matrix_noeh[i]>20:\n",
    "        plt.plot([0,1], [eig_noeh[i],eig_noeh[i]],color='r')\n",
    "plt.show()\n"
   ]
  },
  {
   "cell_type": "code",
   "execution_count": null,
   "metadata": {
    "collapsed": true
   },
   "outputs": [],
   "source": []
  },
  {
   "cell_type": "code",
   "execution_count": null,
   "metadata": {
    "collapsed": true
   },
   "outputs": [],
   "source": []
  }
 ],
 "metadata": {
  "anaconda-cloud": {},
  "kernelspec": {
   "display_name": "Python [conda root]",
   "language": "python",
   "name": "conda-root-py"
  },
  "language_info": {
   "codemirror_mode": {
    "name": "ipython",
    "version": 3
   },
   "file_extension": ".py",
   "mimetype": "text/x-python",
   "name": "python",
   "nbconvert_exporter": "python",
   "pygments_lexer": "ipython3",
   "version": "3.5.2"
  }
 },
 "nbformat": 4,
 "nbformat_minor": 1
}
