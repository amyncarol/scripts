{
 "cells": [
  {
   "cell_type": "code",
   "execution_count": 21,
   "metadata": {
    "collapsed": false
   },
   "outputs": [],
   "source": [
    "offset_list = []\n",
    "with open('/Users/yao/Desktop/band offset/offset_list.csv', 'r') as f:\n",
    "    for line in f:\n",
    "        offset_list.append([line.split(',')[0], line.split(',')[1], float(line.split(',')[2])])\n",
    "offset_dict = {}\n",
    "for i in offset_list:\n",
    "    offset_dict[i[0]+'/'+i[1]] = i[2]"
   ]
  },
  {
   "cell_type": "code",
   "execution_count": 2,
   "metadata": {
    "collapsed": true
   },
   "outputs": [],
   "source": [
    "def get_all_compounds(csvlist):\n",
    "    \"\"\"return a set of all compounds\"\"\"\n",
    "    comp_list = []\n",
    "    for i in range(1, len(csvlist)):\n",
    "        csvlist[i][0] = csvlist[i][0].replace(\" \", \"\")\n",
    "        compoundA = csvlist[i][0].split('/')[0]\n",
    "        compoundB = csvlist[i][0].split('/')[1]\n",
    "        comp_list.append(compoundA)\n",
    "        comp_list.append(compoundB)\n",
    "    return set(comp_list)"
   ]
  },
  {
   "cell_type": "code",
   "execution_count": 3,
   "metadata": {
    "collapsed": false
   },
   "outputs": [],
   "source": [
    "import csv\n",
    "import numpy as np\n",
    "import re\n",
    "import os\n",
    "with open('/Users/yao/Desktop/band offset/band_offset_collect.csv', 'r') as f:\n",
    "    reader = csv.reader(f)\n",
    "    csvlist = list(reader)\n",
    "    comp_set = get_all_compounds(csvlist)\n",
    "    del_set = set(['CH3NH3PbBr3', 'CH3NH3PbCl3', 'CH3NH3PbI3', 'CH3NH3PbIBr2', 'HC(NH2)2PbI3',\n",
    "               'Er2O3', 'Fe2O3', 'Gd2O3', 'HfO2', 'InGaZnO4', 'CuInGaSe2', 'InSnO', 'Lu2O3',\n",
    "               'NiO', 'NiOx', 'Pr2O3', 'Tm2O3'])\n",
    "    desired_set = comp_set-del_set\n",
    "    desired_list = [i for i in desired_set]"
   ]
  },
  {
   "cell_type": "code",
   "execution_count": 4,
   "metadata": {
    "collapsed": false
   },
   "outputs": [],
   "source": [
    "graph = {}\n",
    "for i in offset_list:\n",
    "    compA = i[0]\n",
    "    compB = i[1]\n",
    "    if (compA in desired_list) and (compB in desired_list):\n",
    "        if compA not in graph:\n",
    "            graph[compA] = set([compB])\n",
    "        else:\n",
    "            graph[compA].add(compB)"
   ]
  },
  {
   "cell_type": "code",
   "execution_count": 5,
   "metadata": {
    "collapsed": false
   },
   "outputs": [],
   "source": [
    "def dfs_paths(graph, start, goal):\n",
    "    stack = [(start, [start])]\n",
    "    while stack:\n",
    "        (vertex, path) = stack.pop()\n",
    "        for next in graph[vertex] - set(path):\n",
    "            if next == goal:\n",
    "                yield path + [next]\n",
    "            else:\n",
    "                stack.append((next, path + [next]))"
   ]
  },
  {
   "cell_type": "code",
   "execution_count": 6,
   "metadata": {
    "collapsed": false
   },
   "outputs": [],
   "source": [
    "def bfs_paths(graph, start, goal):\n",
    "    queue = [(start, [start])]\n",
    "    while queue:\n",
    "        (vertex, path) = queue.pop(0)\n",
    "        for next in graph[vertex] - set(path):\n",
    "            if next == goal:\n",
    "                yield path + [next]\n",
    "            else:\n",
    "                queue.append((next, path + [next]))\n",
    "def shortest_path(graph, start, goal):\n",
    "    try:\n",
    "        return next(bfs_paths(graph, start, goal))\n",
    "    except StopIteration:\n",
    "        return None"
   ]
  },
  {
   "cell_type": "code",
   "execution_count": 22,
   "metadata": {
    "collapsed": false
   },
   "outputs": [],
   "source": [
    "graph_comp = [i for i in graph]\n",
    "path_list = []\n",
    "for i in range(len(graph_comp)):\n",
    "    for j in range(i+1, len(graph_comp)):\n",
    "        compA = graph_comp[i]\n",
    "        compB = graph_comp[j]\n",
    "        path = shortest_path(graph, compA , compB)\n",
    "        path_list.append(path)"
   ]
  },
  {
   "cell_type": "code",
   "execution_count": 25,
   "metadata": {
    "collapsed": true
   },
   "outputs": [],
   "source": [
    "expanded_offset_dict = {}\n",
    "for path in path_list:\n",
    "    compA = path[0]\n",
    "    compB = path[-1]\n",
    "    offset = 0\n",
    "    for i in range(len(path)-1):\n",
    "        comp1 = path[i]\n",
    "        comp2 = path[i+1]\n",
    "        key = comp1+'/'+comp2\n",
    "        offset += offset_dict[key]\n",
    "    expanded_offset_dict[compA + '/' + compB] = offset"
   ]
  },
  {
   "cell_type": "code",
   "execution_count": 28,
   "metadata": {
    "collapsed": false
   },
   "outputs": [],
   "source": [
    "with open('/Users/yao/Desktop/band offset/expanded_offset.csv','w') as f:\n",
    "    for i in expanded_offset_dict:\n",
    "        f.write(i)\n",
    "        f.write(',')\n",
    "        f.write(str(expanded_offset_dict[i]))\n",
    "        f.write('\\n')"
   ]
  },
  {
   "cell_type": "code",
   "execution_count": null,
   "metadata": {
    "collapsed": true
   },
   "outputs": [],
   "source": []
  }
 ],
 "metadata": {
  "anaconda-cloud": {},
  "kernelspec": {
   "display_name": "Python [default]",
   "language": "python",
   "name": "python3"
  },
  "language_info": {
   "codemirror_mode": {
    "name": "ipython",
    "version": 3
   },
   "file_extension": ".py",
   "mimetype": "text/x-python",
   "name": "python",
   "nbconvert_exporter": "python",
   "pygments_lexer": "ipython3",
   "version": "3.5.2"
  }
 },
 "nbformat": 4,
 "nbformat_minor": 1
}
