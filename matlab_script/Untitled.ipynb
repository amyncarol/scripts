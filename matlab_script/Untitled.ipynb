{
 "cells": [
  {
   "cell_type": "code",
   "execution_count": 24,
   "metadata": {
    "collapsed": false
   },
   "outputs": [
    {
     "name": "stdout",
     "output_type": "stream",
     "text": [
      "K1 =\n",
      "\n",
      "         0    0.5000    0.7500\n",
      "\n",
      "\n",
      "K3 =\n",
      "\n",
      "    1.0000    0.5000    0.7500\n",
      "\n",
      "\n",
      "I2 =\n",
      "\n",
      "    0.7212    0.7645    0.5000\n",
      "\n",
      "\n",
      "I3 =\n",
      "\n",
      "    0.2355    0.7212    0.5000\n"
     ]
    }
   ],
   "source": [
    "K1=[0.00000  0.50000  0.75000 ]\n",
    "        K3= [1.00000  0.50000  0.75000 ]\n",
    "           I2=  [0.72119  0.76453  0.50000 ]\n",
    "           I3 = [0.23547  0.72119  0.50000]"
   ]
  },
  {
   "cell_type": "code",
   "execution_count": 25,
   "metadata": {
    "collapsed": false
   },
   "outputs": [
    {
     "name": "stdout",
     "output_type": "stream",
     "text": [
      "a =\n",
      "\n",
      "    -1     0     0\n",
      "\n",
      "\n",
      "b =\n",
      "\n",
      "   -0.4857   -0.0433         0\n"
     ]
    }
   ],
   "source": [
    "a =K1-K3\n",
    "b =I3-I2"
   ]
  },
  {
   "cell_type": "code",
   "execution_count": 26,
   "metadata": {
    "collapsed": false
   },
   "outputs": [
    {
     "name": "stdout",
     "output_type": "stream",
     "text": [
      "ans =\n",
      "\n",
      "    5.0989\n"
     ]
    }
   ],
   "source": [
    "acosd(dot(a,b)/norm(a)/norm(b))"
   ]
  },
  {
   "cell_type": "code",
   "execution_count": null,
   "metadata": {
    "collapsed": false
   },
   "outputs": [],
   "source": []
  },
  {
   "cell_type": "code",
   "execution_count": null,
   "metadata": {
    "collapsed": true
   },
   "outputs": [],
   "source": []
  }
 ],
 "metadata": {
  "kernelspec": {
   "display_name": "Matlab",
   "language": "matlab",
   "name": "matlab"
  },
  "language_info": {
   "codemirror_mode": "octave",
   "file_extension": ".m",
   "help_links": [
    {
     "text": "MetaKernel Magics",
     "url": "https://github.com/calysto/metakernel/blob/master/metakernel/magics/README.md"
    }
   ],
   "mimetype": "text/x-octave",
   "name": "matlab",
   "version": "0.11.0"
  }
 },
 "nbformat": 4,
 "nbformat_minor": 1
}
