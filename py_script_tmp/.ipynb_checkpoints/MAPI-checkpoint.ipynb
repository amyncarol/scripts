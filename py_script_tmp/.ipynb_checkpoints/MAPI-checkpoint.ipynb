{
 "metadata": {
  "name": "",
  "signature": "sha256:514998c90c83933eb79e5b63e1a41b7b2c13e863b118367eb8392474b938a184"
 },
 "nbformat": 3,
 "nbformat_minor": 0,
 "worksheets": [
  {
   "cells": [
    {
     "cell_type": "code",
     "collapsed": false,
     "input": [
      "from pymatgen.matproj.rest import MPRester\n",
      "from pymatgen.phasediagram.pdmaker import PhaseDiagram\n",
      "from pymatgen.phasediagram.plotter import PDPlotter\n",
      "from pymatgen.core.periodic_table import Element\n",
      "import pymatgen.core.periodic_table as pt"
     ],
     "language": "python",
     "metadata": {},
     "outputs": [],
     "prompt_number": 49
    },
    {
     "cell_type": "code",
     "collapsed": false,
     "input": [
      "\n",
      "#This initializes the REST adaptor. Put your own API key in.\n",
      "with MPRester(\"64JmsIV32c8lUaxu\") as m:\n",
      "    data = m.get_data(\"*O2\", prop=\"pretty_formula\")\n",
      "    print data\n",
      " "
     ],
     "language": "python",
     "metadata": {},
     "outputs": [
      {
       "output_type": "stream",
       "stream": "stdout",
       "text": [
        "[{u'pretty_formula': u'AsO2', u'material_id': u'mp-27356'}, {u'pretty_formula': u'BaO2', u'material_id': u'mp-1105'}, {u'pretty_formula': u'BiO2', u'material_id': u'mp-557993'}, {u'pretty_formula': u'BiO2', u'material_id': u'mp-32548'}, {u'pretty_formula': u'BiO2', u'material_id': u'mp-25208'}, {u'pretty_formula': u'BiO2', u'material_id': u'mp-25333'}, {u'pretty_formula': u'BiO2', u'material_id': u'mp-755137'}, {u'pretty_formula': u'CO2', u'material_id': u'mp-20066'}, {u'pretty_formula': u'CO2', u'material_id': u'mp-556034'}, {u'pretty_formula': u'CO2', u'material_id': u'mp-11725'}, {u'pretty_formula': u'CO2', u'material_id': u'mp-644607'}, {u'pretty_formula': u'CaO2', u'material_id': u'mp-634859'}, {u'pretty_formula': u'CdO2', u'material_id': u'mp-2310'}, {u'pretty_formula': u'CeO2', u'material_id': u'mp-20194'}, {u'pretty_formula': u'ClO2', u'material_id': u'mp-23207'}, {u'pretty_formula': u'CoO2', u'material_id': u'mp-32686'}, {u'pretty_formula': u'CoO2', u'material_id': u'mp-25476'}, {u'pretty_formula': u'CoO2', u'material_id': u'mp-554635'}, {u'pretty_formula': u'CoO2', u'material_id': u'mp-556750'}, {u'pretty_formula': u'CoO2', u'material_id': u'mp-540000'}, {u'pretty_formula': u'CoO2', u'material_id': u'mp-714976'}, {u'pretty_formula': u'CoO2', u'material_id': u'mp-715478'}, {u'pretty_formula': u'CoO2', u'material_id': u'mp-770908'}, {u'pretty_formula': u'CoO2', u'material_id': u'mp-769849'}, {u'pretty_formula': u'CoO2', u'material_id': u'mp-782689'}, {u'pretty_formula': u'CoO2', u'material_id': u'mp-849598'}, {u'pretty_formula': u'CoO2', u'material_id': u'mp-715480'}, {u'pretty_formula': u'CrO2', u'material_id': u'mp-25499'}, {u'pretty_formula': u'CrO2', u'material_id': u'mp-714929'}, {u'pretty_formula': u'CrO2', u'material_id': u'mp-19177'}, {u'pretty_formula': u'CrO2', u'material_id': u'mp-715488'}, {u'pretty_formula': u'CsO2', u'material_id': u'mp-1441'}, {u'pretty_formula': u'CsO2', u'material_id': u'mp-684583'}, {u'pretty_formula': u'CuO2', u'material_id': u'mp-600604'}, {u'pretty_formula': u'CuO2', u'material_id': u'mp-25378'}, {u'pretty_formula': u'CuO2', u'material_id': u'mp-705439'}, {u'pretty_formula': u'CuO2', u'material_id': u'mp-601195'}, {u'pretty_formula': u'CuO2', u'material_id': u'mp-703914'}, {u'pretty_formula': u'CuO2', u'material_id': u'mp-704690'}, {u'pretty_formula': u'CuO2', u'material_id': u'mp-504100'}, {u'pretty_formula': u'CuO2', u'material_id': u'mp-704672'}, {u'pretty_formula': u'CuO2', u'material_id': u'mp-614565'}, {u'pretty_formula': u'FeO2', u'material_id': u'mp-25519'}, {u'pretty_formula': u'FeO2', u'material_id': u'mp-632573'}, {u'pretty_formula': u'FeO2', u'material_id': u'mp-715160'}, {u'pretty_formula': u'FeO2', u'material_id': u'mp-850222'}, {u'pretty_formula': u'FeO2', u'material_id': u'mp-25517'}, {u'pretty_formula': u'FeO2', u'material_id': u'mp-714904'}, {u'pretty_formula': u'GdO2', u'material_id': u'mp-21149'}, {u'pretty_formula': u'GeO2', u'material_id': u'mp-470'}, {u'pretty_formula': u'GeO2', u'material_id': u'mp-733'}, {u'pretty_formula': u'GeO2', u'material_id': u'mp-2633'}, {u'pretty_formula': u'GeO2', u'material_id': u'mp-10913'}, {u'pretty_formula': u'GeO2', u'material_id': u'mp-7812'}, {u'pretty_formula': u'GeO2', u'material_id': u'mp-223'}, {u'pretty_formula': u'GeO2', u'material_id': u'mp-20893'}, {u'pretty_formula': u'HfO2', u'material_id': u'mp-352'}, {u'pretty_formula': u'HfO2', u'material_id': u'mp-1858'}, {u'pretty_formula': u'HfO2', u'material_id': u'mp-741'}, {u'pretty_formula': u'HfO2', u'material_id': u'mp-550893'}, {u'pretty_formula': u'HfO2', u'material_id': u'mp-685097'}, {u'pretty_formula': u'HfO2', u'material_id': u'mp-776532'}, {u'pretty_formula': u'HfO2', u'material_id': u'mp-775757'}, {u'pretty_formula': u'HfO2', u'material_id': u'mp-776097'}, {u'pretty_formula': u'HgO2', u'material_id': u'mp-557266'}, {u'pretty_formula': u'HgO2', u'material_id': u'mp-755333'}, {u'pretty_formula': u'HgO2', u'material_id': u'mp-2278'}, {u'pretty_formula': u'IO2', u'material_id': u'mp-23170'}, {u'pretty_formula': u'IrO2', u'material_id': u'mp-2723'}, {u'pretty_formula': u'KO2', u'material_id': u'mp-1866'}, {u'pretty_formula': u'KO2', u'material_id': u'mp-21325'}, {u'pretty_formula': u'MgO2', u'material_id': u'mp-2589'}, {u'pretty_formula': u'MnO2', u'material_id': u'mp-19326'}, {u'pretty_formula': u'MnO2', u'material_id': u'mp-19395'}, {u'pretty_formula': u'MnO2', u'material_id': u'mp-33009'}, {u'pretty_formula': u'MnO2', u'material_id': u'mp-705430'}, {u'pretty_formula': u'MnO2', u'material_id': u'mp-34134'}, {u'pretty_formula': u'MnO2', u'material_id': u'mp-25545'}, {u'pretty_formula': u'MnO2', u'material_id': u'mp-25558'}, {u'pretty_formula': u'MnO2', u'material_id': u'mp-25547'}, {u'pretty_formula': u'MnO2', u'material_id': u'mp-644514'}, {u'pretty_formula': u'MnO2', u'material_id': u'mp-714873'}, {u'pretty_formula': u'MnO2', u'material_id': u'mp-714874'}, {u'pretty_formula': u'MnO2', u'material_id': u'mp-772598'}, {u'pretty_formula': u'MnO2', u'material_id': u'mp-773240'}, {u'pretty_formula': u'MnO2', u'material_id': u'mp-510408'}, {u'pretty_formula': u'MnO2', u'material_id': u'mp-543057'}, {u'pretty_formula': u'MnO2', u'material_id': u'mp-715581'}, {u'pretty_formula': u'MoO2', u'material_id': u'mp-510536'}, {u'pretty_formula': u'MoO2', u'material_id': u'mp-25578'}, {u'pretty_formula': u'MoO2', u'material_id': u'mp-25571'}, {u'pretty_formula': u'MoO2', u'material_id': u'mp-635966'}, {u'pretty_formula': u'MoO2', u'material_id': u'mp-714883'}, {u'pretty_formula': u'MoO2', u'material_id': u'mp-714969'}, {u'pretty_formula': u'MoO2', u'material_id': u'mp-715482'}, {u'pretty_formula': u'MoO2', u'material_id': u'mp-715550'}, {u'pretty_formula': u'NO2', u'material_id': u'mp-1771'}, {u'pretty_formula': u'NO2', u'material_id': u'mp-608071'}, {u'pretty_formula': u'NO2', u'material_id': u'mp-2789'}, {u'pretty_formula': u'NO2', u'material_id': u'mp-557865'}, {u'pretty_formula': u'NaO2', u'material_id': u'mp-614'}, {u'pretty_formula': u'NaO2', u'material_id': u'mp-1901'}, {u'pretty_formula': u'NbO2', u'material_id': u'mp-557057'}, {u'pretty_formula': u'NbO2', u'material_id': u'mp-821'}, {u'pretty_formula': u'NbO2', u'material_id': u'mp-755690'}, {u'pretty_formula': u'NbO2', u'material_id': u'mp-2533'}, {u'pretty_formula': u'NbO2', u'material_id': u'mp-25214'}, {u'pretty_formula': u'NbO2', u'material_id': u'mp-649729'}, {u'pretty_formula': u'NbO2', u'material_id': u'mp-754698'}, {u'pretty_formula': u'NbO2', u'material_id': u'mp-776975'}, {u'pretty_formula': u'NdO2', u'material_id': u'mp-754125'}, {u'pretty_formula': u'NdO2', u'material_id': u'mp-31049'}, {u'pretty_formula': u'NdO2', u'material_id': u'mp-755820'}, {u'pretty_formula': u'NdO2', u'material_id': u'mp-754317'}, {u'pretty_formula': u'NiO2', u'material_id': u'mp-25593'}, {u'pretty_formula': u'NiO2', u'material_id': u'mp-35925'}, {u'pretty_formula': u'NiO2', u'material_id': u'mp-25595'}, {u'pretty_formula': u'NiO2', u'material_id': u'mp-25599'}, {u'pretty_formula': u'NiO2', u'material_id': u'mp-543096'}, {u'pretty_formula': u'NiO2', u'material_id': u'mp-634706'}, {u'pretty_formula': u'NiO2', u'material_id': u'mp-715324'}, {u'pretty_formula': u'NiO2', u'material_id': u'mp-715436'}, {u'pretty_formula': u'NiO2', u'material_id': u'mp-714876'}, {u'pretty_formula': u'NpO2', u'material_id': u'mp-2616'}, {u'pretty_formula': u'O2', u'material_id': u'mp-12957'}, {u'pretty_formula': u'O2', u'material_id': u'mp-610917'}, {u'pretty_formula': u'O2', u'material_id': u'mp-611836'}, {u'pretty_formula': u'O2', u'material_id': u'mp-560602'}, {u'pretty_formula': u'O2', u'material_id': u'mp-607540'}, {u'pretty_formula': u'OsO2', u'material_id': u'mp-996'}, {u'pretty_formula': u'PO2', u'material_id': u'mp-562065'}, {u'pretty_formula': u'PaO2', u'material_id': u'mp-2364'}, {u'pretty_formula': u'PaO2', u'material_id': u'mp-862855'}, {u'pretty_formula': u'PbO2', u'material_id': u'mp-20725'}, {u'pretty_formula': u'PbO2', u'material_id': u'mp-20158'}, {u'pretty_formula': u'PbO2', u'material_id': u'mp-20633'}, {u'pretty_formula': u'PdO2', u'material_id': u'mp-752735'}, {u'pretty_formula': u'PrO2', u'material_id': u'mp-1302'}, {u'pretty_formula': u'PtO2', u'material_id': u'mp-1285'}, {u'pretty_formula': u'PtO2', u'material_id': u'mp-617'}, {u'pretty_formula': u'PtO2', u'material_id': u'mp-20119'}, {u'pretty_formula': u'PtO2', u'material_id': u'mp-7868'}, {u'pretty_formula': u'PuO2', u'material_id': u'mp-1959'}, {u'pretty_formula': u'PuO2', u'material_id': u'mp-867166'}, {u'pretty_formula': u'RbO2', u'material_id': u'mp-12105'}, {u'pretty_formula': u'RbO2', u'material_id': u'mp-33234'}, {u'pretty_formula': u'ReO2', u'material_id': u'mp-7228'}, {u'pretty_formula': u'ReO2', u'material_id': u'mp-12875'}, {u'pretty_formula': u'RhO2', u'material_id': u'mp-725'}, {u'pretty_formula': u'RuO2', u'material_id': u'mp-8909'}, {u'pretty_formula': u'RuO2', u'material_id': u'mp-825'}, {u'pretty_formula': u'SO2', u'material_id': u'mp-27726'}, {u'pretty_formula': u'SbO2', u'material_id': u'mp-560098'}, {u'pretty_formula': u'SbO2', u'material_id': u'mp-1819'}, {u'pretty_formula': u'SbO2', u'material_id': u'mp-230'}, {u'pretty_formula': u'SbO2', u'material_id': u'mp-13866'}, {u'pretty_formula': u'SbO2', u'material_id': u'mp-22071'}, {u'pretty_formula': u'SeO2', u'material_id': u'mp-726'}, {u'pretty_formula': u'SeO2', u'material_id': u'mp-560882'}, {u'pretty_formula': u'SeO2', u'material_id': u'mp-559545'}, {u'pretty_formula': u'SeO2', u'material_id': u'mp-638005'}, {u'pretty_formula': u'SiO2', u'material_id': u'mp-10948'}, {u'pretty_formula': u'SiO2', u'material_id': u'mp-546794'}, {u'pretty_formula': u'SiO2', u'material_id': u'mp-8059'}, {u'pretty_formula': u'SiO2', u'material_id': u'mp-6922'}, {u'pretty_formula': u'SiO2', u'material_id': u'mp-8352'}, {u'pretty_formula': u'SiO2', u'material_id': u'mp-7648'}, {u'pretty_formula': u'SiO2', u'material_id': u'mp-7087'}, {u'pretty_formula': u'SiO2', u'material_id': u'mp-9258'}, {u'pretty_formula': u'SiO2', u'material_id': u'mp-12787'}, {u'pretty_formula': u'SiO2', u'material_id': u'mp-554267'}, {u'pretty_formula': u'SiO2', u'material_id': u'mp-7000'}, {u'pretty_formula': u'SiO2', u'material_id': u'mp-6930'}, {u'pretty_formula': u'SiO2', u'material_id': u'mp-6945'}, {u'pretty_formula': u'SiO2', u'material_id': u'mp-6947'}, {u'pretty_formula': u'SiO2', u'material_id': u'mp-560998'}, {u'pretty_formula': u'SiO2', u'material_id': u'mp-556469'}, {u'pretty_formula': u'SiO2', u'material_id': u'mp-554755'}, {u'pretty_formula': u'SiO2', u'material_id': u'mp-559091'}, {u'pretty_formula': u'SiO2', u'material_id': u'mp-8602'}, {u'pretty_formula': u'SiO2', u'material_id': u'mp-615993'}, {u'pretty_formula': u'SiO2', u'material_id': u'mp-558733'}, {u'pretty_formula': u'SiO2', u'material_id': u'mp-16964'}, {u'pretty_formula': u'SiO2', u'material_id': u'mp-557118'}, {u'pretty_formula': u'SiO2', u'material_id': u'mp-7029'}, {u'pretty_formula': u'SiO2', u'material_id': u'mp-555251'}, {u'pretty_formula': u'SiO2', u'material_id': u'mp-554151'}, {u'pretty_formula': u'SiO2', u'material_id': u'mp-553881'}, {u'pretty_formula': u'SiO2', u'material_id': u'mp-554089'}, {u'pretty_formula': u'SiO2', u'material_id': u'mp-555235'}, {u'pretty_formula': u'SiO2', u'material_id': u'mp-553945'}, {u'pretty_formula': u'SiO2', u'material_id': u'mp-11684'}, {u'pretty_formula': u'SiO2', u'material_id': u'mp-556454'}, {u'pretty_formula': u'SiO2', u'material_id': u'mp-17279'}, {u'pretty_formula': u'SiO2', u'material_id': u'mp-556961'}, {u'pretty_formula': u'SiO2', u'material_id': u'mp-10851'}, {u'pretty_formula': u'SiO2', u'material_id': u'mp-559741'}, {u'pretty_formula': u'SiO2', u'material_id': u'mp-638038'}, {u'pretty_formula': u'SiO2', u'material_id': u'mp-555497'}, {u'pretty_formula': u'SiO2', u'material_id': u'mp-553993'}, {u'pretty_formula': u'SiO2', u'material_id': u'mp-638049'}, {u'pretty_formula': u'SiO2', u'material_id': u'mp-556068'}, {u'pretty_formula': u'SiO2', u'material_id': u'mp-556044'}, {u'pretty_formula': u'SiO2', u'material_id': u'mp-560527'}, {u'pretty_formula': u'SiO2', u'material_id': u'mp-559928'}, {u'pretty_formula': u'SiO2', u'material_id': u'mp-557024'}, {u'pretty_formula': u'SiO2', u'material_id': u'mp-554665'}, {u'pretty_formula': u'SiO2', u'material_id': u'mp-559740'}, {u'pretty_formula': u'SiO2', u'material_id': u'mp-560754'}, {u'pretty_formula': u'SiO2', u'material_id': u'mp-560836'}, {u'pretty_formula': u'SiO2', u'material_id': u'mp-557591'}, {u'pretty_formula': u'SiO2', u'material_id': u'mp-12350'}, {u'pretty_formula': u'SiO2', u'material_id': u'mp-554258'}, {u'pretty_formula': u'SiO2', u'material_id': u'mp-556537'}, {u'pretty_formula': u'SiO2', u'material_id': u'mp-560954'}, {u'pretty_formula': u'SiO2', u'material_id': u'mp-555700'}, {u'pretty_formula': u'SiO2', u'material_id': u'mp-555556'}, {u'pretty_formula': u'SiO2', u'material_id': u'mp-555544'}, {u'pretty_formula': u'SiO2', u'material_id': u'mp-554543'}, {u'pretty_formula': u'SiO2', u'material_id': u'mp-546546'}, {u'pretty_formula': u'SiO2', u'material_id': u'mp-558374'}, {u'pretty_formula': u'SiO2', u'material_id': u'mp-556963'}, {u'pretty_formula': u'SiO2', u'material_id': u'mp-557723'}, {u'pretty_formula': u'SiO2', u'material_id': u'mp-556564'}, {u'pretty_formula': u'SiO2', u'material_id': u'mp-558200'}, {u'pretty_formula': u'SiO2', u'material_id': u'mp-558366'}, {u'pretty_formula': u'SiO2', u'material_id': u'mp-561291'}, {u'pretty_formula': u'SiO2', u'material_id': u'mp-557211'}, {u'pretty_formula': u'SiO2', u'material_id': u'mp-545719'}, {u'pretty_formula': u'SiO2', u'material_id': u'mp-554498'}, {u'pretty_formula': u'SiO2', u'material_id': u'mp-555483'}, {u'pretty_formula': u'SiO2', u'material_id': u'mp-556027'}, {u'pretty_formula': u'SiO2', u'material_id': u'mp-555355'}, {u'pretty_formula': u'SiO2', u'material_id': u'mp-555823'}, {u'pretty_formula': u'SiO2', u'material_id': u'mp-557930'}, {u'pretty_formula': u'SiO2', u'material_id': u'mp-545488'}, {u'pretty_formula': u'SiO2', u'material_id': u'mp-556132'}, {u'pretty_formula': u'SiO2', u'material_id': u'mp-557465'}, {u'pretty_formula': u'SiO2', u'material_id': u'mp-557194'}, {u'pretty_formula': u'SiO2', u'material_id': u'mp-555676'}, {u'pretty_formula': u'SiO2', u'material_id': u'mp-558598'}, {u'pretty_formula': u'SiO2', u'material_id': u'mp-555740'}, {u'pretty_formula': u'SiO2', u'material_id': u'mp-554397'}, {u'pretty_formula': u'SiO2', u'material_id': u'mp-554243'}, {u'pretty_formula': u'SiO2', u'material_id': u'mp-561488'}, {u'pretty_formula': u'SiO2', u'material_id': u'mp-556464'}, {u'pretty_formula': u'SiO2', u'material_id': u'mp-559389'}, {u'pretty_formula': u'SiO2', u'material_id': u'mp-559605'}, {u'pretty_formula': u'SiO2', u'material_id': u'mp-557771'}, {u'pretty_formula': u'SiO2', u'material_id': u'mp-557004'}, {u'pretty_formula': u'SiO2', u'material_id': u'mp-559550'}, {u'pretty_formula': u'SiO2', u'material_id': u'mp-560973'}, {u'pretty_formula': u'SiO2', u'material_id': u'mp-560155'}, {u'pretty_formula': u'SiO2', u'material_id': u'mp-600054'}, {u'pretty_formula': u'SiO2', u'material_id': u'mp-542814'}, {u'pretty_formula': u'SiO2', u'material_id': u'mp-560064'}, {u'pretty_formula': u'SiO2', u'material_id': u'mp-640556'}, {u'pretty_formula': u'SiO2', u'material_id': u'mp-549166'}, {u'pretty_formula': u'SiO2', u'material_id': u'mp-561351'}, {u'pretty_formula': u'SiO2', u'material_id': u'mp-555211'}, {u'pretty_formula': u'SiO2', u'material_id': u'mp-644923'}, {u'pretty_formula': u'SiO2', u'material_id': u'mp-555891'}, {u'pretty_formula': u'SiO2', u'material_id': u'mp-554946'}, {u'pretty_formula': u'SiO2', u'material_id': u'mp-558326'}, {u'pretty_formula': u'SiO2', u'material_id': u'mp-555521'}, {u'pretty_formula': u'SiO2', u'material_id': u'mp-646895'}, {u'pretty_formula': u'SiO2', u'material_id': u'mp-32895'}, {u'pretty_formula': u'SiO2', u'material_id': u'mp-559872'}, {u'pretty_formula': u'SiO2', u'material_id': u'mp-554573'}, {u'pretty_formula': u'SiO2', u'material_id': u'mp-638033'}, {u'pretty_formula': u'SiO2', u'material_id': u'mp-638035'}, {u'pretty_formula': u'SiO2', u'material_id': u'mp-561090'}, {u'pretty_formula': u'SiO2', u'material_id': u'mp-560826'}, {u'pretty_formula': u'SiO2', u'material_id': u'mp-557933'}, {u'pretty_formula': u'SiO2', u'material_id': u'mp-651707'}, {u'pretty_formula': u'SiO2', u'material_id': u'mp-560809'}, {u'pretty_formula': u'SiO2', u'material_id': u'mp-653763'}, {u'pretty_formula': u'SiO2', u'material_id': u'mp-15078'}, {u'pretty_formula': u'SiO2', u'material_id': u'mp-557837'}, {u'pretty_formula': u'SiO2', u'material_id': u'mp-556985'}, {u'pretty_formula': u'SiO2', u'material_id': u'mp-556880'}, {u'pretty_formula': u'SiO2', u'material_id': u'mp-562490'}, {u'pretty_formula': u'SiO2', u'material_id': u'mp-556662'}, {u'pretty_formula': u'SiO2', u'material_id': u'mp-556553'}, {u'pretty_formula': u'SiO2', u'material_id': u'mp-557134'}, {u'pretty_formula': u'SiO2', u'material_id': u'mp-557653'}, {u'pretty_formula': u'SiO2', u'material_id': u'mp-556994'}, {u'pretty_formula': u'SiO2', u'material_id': u'mp-557244'}, {u'pretty_formula': u'SiO2', u'material_id': u'mp-556588'}, {u'pretty_formula': u'SiO2', u'material_id': u'mp-556319'}, {u'pretty_formula': u'SiO2', u'material_id': u'mp-555147'}, {u'pretty_formula': u'SiO2', u'material_id': u'mp-558025'}, {u'pretty_formula': u'SiO2', u'material_id': u'mp-667368'}, {u'pretty_formula': u'SiO2', u'material_id': u'mp-560920'}, {u'pretty_formula': u'SiO2', u'material_id': u'mp-600037'}, {u'pretty_formula': u'SiO2', u'material_id': u'mp-560708'}, {u'pretty_formula': u'SiO2', u'material_id': u'mp-662706'}, {u'pretty_formula': u'SiO2', u'material_id': u'mp-667371'}, {u'pretty_formula': u'SiO2', u'material_id': u'mp-667373'}, {u'pretty_formula': u'SiO2', u'material_id': u'mp-667376'}, {u'pretty_formula': u'SiO2', u'material_id': u'mp-667377'}, {u'pretty_formula': u'SiO2', u'material_id': u'mp-667383'}, {u'pretty_formula': u'SiO2', u'material_id': u'mp-554682'}, {u'pretty_formula': u'SiO2', u'material_id': u'mp-667448'}, {u'pretty_formula': u'SiO2', u'material_id': u'mp-17909'}, {u'pretty_formula': u'SiO2', u'material_id': u'mp-18280'}, {u'pretty_formula': u'SiO2', u'material_id': u'mp-559360'}, {u'pretty_formula': u'SiO2', u'material_id': u'mp-558947'}, {u'pretty_formula': u'SiO2', u'material_id': u'mp-560941'}, {u'pretty_formula': u'SiO2', u'material_id': u'mp-557894'}, {u'pretty_formula': u'SiO2', u'material_id': u'mp-556262'}, {u'pretty_formula': u'SiO2', u'material_id': u'mp-600080'}, {u'pretty_formula': u'SiO2', u'material_id': u'mp-10064'}, {u'pretty_formula': u'SiO2', u'material_id': u'mp-680204'}, {u'pretty_formula': u'SiO2', u'material_id': u'mp-680222'}, {u'pretty_formula': u'SiO2', u'material_id': u'mp-669426'}, {u'pretty_formula': u'SiO2', u'material_id': u'mp-560203'}, {u'pretty_formula': u'SiO2', u'material_id': u'mp-560336'}, {u'pretty_formula': u'SiO2', u'material_id': u'mp-556591'}, {u'pretty_formula': u'SiO2', u'material_id': u'mp-556654'}, {u'pretty_formula': u'SiO2', u'material_id': u'mp-559860'}, {u'pretty_formula': u'SiO2', u'material_id': u'mp-559962'}, {u'pretty_formula': u'SiO2', u'material_id': u'mp-557264'}, {u'pretty_formula': u'SiO2', u'material_id': u'mp-561301'}, {u'pretty_formula': u'SiO2', u'material_id': u'mp-683953'}, {u'pretty_formula': u'SiO2', u'material_id': u'mp-555791'}, {u'pretty_formula': u'SiO2', u'material_id': u'mp-558891'}, {u'pretty_formula': u'SiO2', u'material_id': u'mp-559313'}, {u'pretty_formula': u'SiO2', u'material_id': u'mp-572283'}, {u'pretty_formula': u'SiO2', u'material_id': u'mp-559829'}, {u'pretty_formula': u'SiO2', u'material_id': u'mp-559347'}, {u'pretty_formula': u'SiO2', u'material_id': u'mp-683952'}, {u'pretty_formula': u'SiO2', u'material_id': u'mp-555165'}, {u'pretty_formula': u'SiO2', u'material_id': u'mp-558351'}, {u'pretty_formula': u'SiO2', u'material_id': u'mp-556257'}, {u'pretty_formula': u'SiO2', u'material_id': u'mp-557017'}, {u'pretty_formula': u'SiO2', u'material_id': u'mp-556882'}, {u'pretty_formula': u'SiO2', u'material_id': u'mp-557814'}, {u'pretty_formula': u'SiO2', u'material_id': u'mp-558931'}, {u'pretty_formula': u'SiO2', u'material_id': u'mp-557076'}, {u'pretty_formula': u'SiO2', u'material_id': u'mp-557881'}, {u'pretty_formula': u'SiO2', u'material_id': u'mp-558569'}, {u'pretty_formula': u'SiO2', u'material_id': u'mp-561181'}, {u'pretty_formula': u'SiO2', u'material_id': u'mp-560131'}, {u'pretty_formula': u'SiO2', u'material_id': u'mp-559273'}, {u'pretty_formula': u'SiO2', u'material_id': u'mp-554175'}, {u'pretty_formula': u'SiO2', u'material_id': u'mp-555960'}, {u'pretty_formula': u'SiO2', u'material_id': u'mp-558203'}, {u'pretty_formula': u'SiO2', u'material_id': u'mp-560152'}, {u'pretty_formula': u'SiO2', u'material_id': u'mp-558301'}, {u'pretty_formula': u'SiO2', u'material_id': u'mp-683970'}, {u'pretty_formula': u'SiO2', u'material_id': u'mp-558115'}, {u'pretty_formula': u'SiO2', u'material_id': u'mp-685184'}, {u'pretty_formula': u'SiO2', u'material_id': u'mp-7905'}, {u'pretty_formula': u'SiO2', u'material_id': u'mp-34150'}, {u'pretty_formula': u'SiO2', u'material_id': u'mp-673168'}, {u'pretty_formula': u'SiO2', u'material_id': u'mp-556218'}, {u'pretty_formula': u'SiO2', u'material_id': u'mp-555394'}, {u'pretty_formula': u'SiO2', u'material_id': u'mp-556088'}, {u'pretty_formula': u'SiO2', u'material_id': u'mp-555411'}, {u'pretty_formula': u'SiO2', u'material_id': u'mp-556788'}, {u'pretty_formula': u'SiO2', u'material_id': u'mp-604717'}, {u'pretty_formula': u'SiO2', u'material_id': u'mp-556812'}, {u'pretty_formula': u'SiO2', u'material_id': u'mp-530546'}, {u'pretty_formula': u'SiO2', u'material_id': u'mp-532105'}, {u'pretty_formula': u'SiO2', u'material_id': u'mp-556376'}, {u'pretty_formula': u'SiO2', u'material_id': u'mp-557873'}, {u'pretty_formula': u'SiO2', u'material_id': u'mp-558564'}, {u'pretty_formula': u'SiO2', u'material_id': u'mp-32667'}, {u'pretty_formula': u'SiO2', u'material_id': u'mp-600039'}, {u'pretty_formula': u'SiO2', u'material_id': u'mp-600006'}, {u'pretty_formula': u'SiO2', u'material_id': u'mp-600041'}, {u'pretty_formula': u'SiO2', u'material_id': u'mp-600032'}, {u'pretty_formula': u'SiO2', u'material_id': u'mp-600023'}, {u'pretty_formula': u'SiO2', u'material_id': u'mp-600007'}, {u'pretty_formula': u'SiO2', u'material_id': u'mp-600003'}, {u'pretty_formula': u'SiO2', u'material_id': u'mp-600022'}, {u'pretty_formula': u'SiO2', u'material_id': u'mp-600065'}, {u'pretty_formula': u'SiO2', u'material_id': u'mp-600005'}, {u'pretty_formula': u'SiO2', u'material_id': u'mp-600000'}, {u'pretty_formula': u'SiO2', u'material_id': u'mp-600052'}, {u'pretty_formula': u'SiO2', u'material_id': u'mp-600018'}, {u'pretty_formula': u'SiO2', u'material_id': u'mp-600028'}, {u'pretty_formula': u'SiO2', u'material_id': u'mp-600031'}, {u'pretty_formula': u'SiO2', u'material_id': u'mp-600045'}, {u'pretty_formula': u'SiO2', u'material_id': u'mp-600027'}, {u'pretty_formula': u'SiO2', u'material_id': u'mp-600029'}, {u'pretty_formula': u'SiO2', u'material_id': u'mp-600051'}, {u'pretty_formula': u'SiO2', u'material_id': u'mp-600015'}, {u'pretty_formula': u'SiO2', u'material_id': u'mp-600004'}, {u'pretty_formula': u'SiO2', u'material_id': u'mp-600024'}, {u'pretty_formula': u'SiO2', u'material_id': u'mp-600002'}, {u'pretty_formula': u'SiO2', u'material_id': u'mp-600014'}, {u'pretty_formula': u'SiO2', u'material_id': u'mp-600001'}, {u'pretty_formula': u'SiO2', u'material_id': u'mp-600060'}, {u'pretty_formula': u'SiO2', u'material_id': u'mp-600057'}, {u'pretty_formula': u'SiO2', u'material_id': u'mp-639506'}, {u'pretty_formula': u'SiO2', u'material_id': u'mp-600055'}, {u'pretty_formula': u'SiO2', u'material_id': u'mp-600049'}, {u'pretty_formula': u'SiO2', u'material_id': u'mp-600083'}, {u'pretty_formula': u'SiO2', u'material_id': u'mp-600016'}, {u'pretty_formula': u'SiO2', u'material_id': u'mp-639480'}, {u'pretty_formula': u'SiO2', u'material_id': u'mp-639478'}, {u'pretty_formula': u'SiO2', u'material_id': u'mp-639463'}, {u'pretty_formula': u'SiO2', u'material_id': u'mp-639512'}, {u'pretty_formula': u'SiO2', u'material_id': u'mp-639558'}, {u'pretty_formula': u'SiO2', u'material_id': u'mp-600063'}, {u'pretty_formula': u'SiO2', u'material_id': u'mp-639511'}, {u'pretty_formula': u'SiO2', u'material_id': u'mp-600091'}, {u'pretty_formula': u'SiO2', u'material_id': u'mp-600026'}, {u'pretty_formula': u'SiO2', u'material_id': u'mp-600096'}, {u'pretty_formula': u'SiO2', u'material_id': u'mp-600053'}, {u'pretty_formula': u'SiO2', u'material_id': u'mp-600078'}, {u'pretty_formula': u'SiO2', u'material_id': u'mp-600068'}, {u'pretty_formula': u'SiO2', u'material_id': u'mp-600084'}, {u'pretty_formula': u'SiO2', u'material_id': u'mp-600033'}, {u'pretty_formula': u'SiO2', u'material_id': u'mp-600076'}, {u'pretty_formula': u'SiO2', u'material_id': u'mp-600067'}, {u'pretty_formula': u'SiO2', u'material_id': u'mp-600050'}, {u'pretty_formula': u'SiO2', u'material_id': u'mp-600098'}, {u'pretty_formula': u'SiO2', u'material_id': u'mp-600072'}, {u'pretty_formula': u'SiO2', u'material_id': u'mp-600061'}, {u'pretty_formula': u'SiO2', u'material_id': u'mp-600038'}, {u'pretty_formula': u'SiO2', u'material_id': u'mp-600071'}, {u'pretty_formula': u'SiO2', u'material_id': u'mp-600059'}, {u'pretty_formula': u'SiO2', u'material_id': u'mp-600111'}, {u'pretty_formula': u'SiO2', u'material_id': u'mp-600070'}, {u'pretty_formula': u'SiO2', u'material_id': u'mp-600109'}, {u'pretty_formula': u'SiO2', u'material_id': u'mp-600085'}, {u'pretty_formula': u'SiO2', u'material_id': u'mp-733790'}, {u'pretty_formula': u'SiO2', u'material_id': u'mp-639734'}, {u'pretty_formula': u'SiO2', u'material_id': u'mp-639695'}, {u'pretty_formula': u'SiO2', u'material_id': u'mp-639705'}, {u'pretty_formula': u'SiO2', u'material_id': u'mp-639741'}, {u'pretty_formula': u'SiO2', u'material_id': u'mp-639748'}, {u'pretty_formula': u'SiO2', u'material_id': u'mp-639682'}, {u'pretty_formula': u'SiO2', u'material_id': u'mp-639733'}, {u'pretty_formula': u'SiO2', u'material_id': u'mp-639724'}, {u'pretty_formula': u'SiO2', u'material_id': u'mp-640917'}, {u'pretty_formula': u'SiO2', u'material_id': u'mp-683947'}, {u'pretty_formula': u'SnO2', u'material_id': u'mp-562610'}, {u'pretty_formula': u'SnO2', u'material_id': u'mp-12978'}, {u'pretty_formula': u'SnO2', u'material_id': u'mp-697'}, {u'pretty_formula': u'SnO2', u'material_id': u'mp-856'}, {u'pretty_formula': u'SnO2', u'material_id': u'mp-555487'}, {u'pretty_formula': u'SnO2', u'material_id': u'mp-550172'}, {u'pretty_formula': u'SnO2', u'material_id': u'mp-560417'}, {u'pretty_formula': u'SnO2', u'material_id': u'mp-755071'}, {u'pretty_formula': u'SnO2', u'material_id': u'mp-12979'}, {u'pretty_formula': u'SrO2', u'material_id': u'mp-2697'}, {u'pretty_formula': u'TaO2', u'material_id': u'mp-683983'}, {u'pretty_formula': u'TaO2', u'material_id': u'mp-20994'}, {u'pretty_formula': u'TaO2', u'material_id': u'mp-510'}, {u'pretty_formula': u'TbO2', u'material_id': u'mp-2458'}, {u'pretty_formula': u'TcO2', u'material_id': u'mp-33137'}, {u'pretty_formula': u'TeO2', u'material_id': u'mp-557'}, {u'pretty_formula': u'TeO2', u'material_id': u'mp-2125'}, {u'pretty_formula': u'TeO2', u'material_id': u'mp-561224'}, {u'pretty_formula': u'TeO2', u'material_id': u'mp-2739'}, {u'pretty_formula': u'TeO2', u'material_id': u'mp-8377'}, {u'pretty_formula': u'TeO2', u'material_id': u'mp-2237'}, {u'pretty_formula': u'ThO2', u'material_id': u'mp-643'}, {u'pretty_formula': u'TiO2', u'material_id': u'mp-1439'}, {u'pretty_formula': u'TiO2', u'material_id': u'mp-430'}, {u'pretty_formula': u'TiO2', u'material_id': u'mp-390'}, {u'pretty_formula': u'TiO2', u'material_id': u'mp-2657'}, {u'pretty_formula': u'TiO2', u'material_id': u'mp-1840'}, {u'pretty_formula': u'TiO2', u'material_id': u'mp-9173'}, {u'pretty_formula': u'TiO2', u'material_id': u'mp-554278'}, {u'pretty_formula': u'TiO2', u'material_id': u'mp-553432'}, {u'pretty_formula': u'TiO2', u'material_id': u'mp-636827'}, {u'pretty_formula': u'TiO2', u'material_id': u'mp-572822'}, {u'pretty_formula': u'TiO2', u'material_id': u'mp-34688'}, {u'pretty_formula': u'TiO2', u'material_id': u'mp-25433'}, {u'pretty_formula': u'TiO2', u'material_id': u'mp-25262'}, {u'pretty_formula': u'TiO2', u'material_id': u'mp-655656'}, {u'pretty_formula': u'TiO2', u'material_id': u'mp-754672'}, {u'pretty_formula': u'TiO2', u'material_id': u'mp-754769'}, {u'pretty_formula': u'TiO2', u'material_id': u'mp-756587'}, {u'pretty_formula': u'TiO2', u'material_id': u'mp-756655'}, {u'pretty_formula': u'TiO2', u'material_id': u'mp-766454'}, {u'pretty_formula': u'TiO2', u'material_id': u'mp-777129'}, {u'pretty_formula': u'TiO2', u'material_id': u'mp-775938'}, {u'pretty_formula': u'TiO2', u'material_id': u'mp-849533'}, {u'pretty_formula': u'UO2', u'material_id': u'mp-1597'}, {u'pretty_formula': u'UO2', u'material_id': u'mp-865305'}, {u'pretty_formula': u'VO2', u'material_id': u'mp-561637'}, {u'pretty_formula': u'VO2', u'material_id': u'mp-714880'}, {u'pretty_formula': u'VO2', u'material_id': u'mp-19094'}, {u'pretty_formula': u'VO2', u'material_id': u'mp-25145'}, {u'pretty_formula': u'VO2', u'material_id': u'mp-714931'}, {u'pretty_formula': u'VO2', u'material_id': u'mp-636921'}, {u'pretty_formula': u'VO2', u'material_id': u'mp-25615'}, {u'pretty_formula': u'VO2', u'material_id': u'mp-25622'}, {u'pretty_formula': u'VO2', u'material_id': u'mp-634430'}, {u'pretty_formula': u'VO2', u'material_id': u'mp-636976'}, {u'pretty_formula': u'VO2', u'material_id': u'mp-714944'}, {u'pretty_formula': u'VO2', u'material_id': u'mp-714960'}, {u'pretty_formula': u'VO2', u'material_id': u'mp-715035'}, {u'pretty_formula': u'VO2', u'material_id': u'mp-715517'}, {u'pretty_formula': u'VO2', u'material_id': u'mp-776137'}, {u'pretty_formula': u'VO2', u'material_id': u'mp-777858'}, {u'pretty_formula': u'VO2', u'material_id': u'mp-777479'}, {u'pretty_formula': u'VO2', u'material_id': u'mp-777469'}, {u'pretty_formula': u'VO2', u'material_id': u'mp-849511'}, {u'pretty_formula': u'VO2', u'material_id': u'mp-566801'}, {u'pretty_formula': u'VO2', u'material_id': u'mp-25792'}, {u'pretty_formula': u'VO2', u'material_id': u'mp-715553'}, {u'pretty_formula': u'WO2', u'material_id': u'mp-617257'}, {u'pretty_formula': u'WO2', u'material_id': u'mp-540010'}, {u'pretty_formula': u'WO2', u'material_id': u'mp-19372'}, {u'pretty_formula': u'WO2', u'material_id': u'mp-25648'}, {u'pretty_formula': u'YbO2', u'material_id': u'mp-864801'}, {u'pretty_formula': u'ZnO2', u'material_id': u'mp-8484'}, {u'pretty_formula': u'ZrO2', u'material_id': u'mp-2574'}, {u'pretty_formula': u'ZrO2', u'material_id': u'mp-2858'}, {u'pretty_formula': u'ZrO2', u'material_id': u'mp-556605'}, {u'pretty_formula': u'ZrO2', u'material_id': u'mp-963'}, {u'pretty_formula': u'ZrO2', u'material_id': u'mp-1565'}, {u'pretty_formula': u'ZrO2', u'material_id': u'mp-754403'}, {u'pretty_formula': u'ZrO2', u'material_id': u'mp-754741'}, {u'pretty_formula': u'ZrO2', u'material_id': u'mp-755089'}, {u'pretty_formula': u'ZrO2', u'material_id': u'mp-755769'}, {u'pretty_formula': u'ZrO2', u'material_id': u'mp-755759'}, {u'pretty_formula': u'ZrO2', u'material_id': u'mp-776404'}, {u'pretty_formula': u'ZrO2', u'material_id': u'mp-775910'}, {u'pretty_formula': u'ZrO2', u'material_id': u'mp-776386'}, {u'pretty_formula': u'ZrO2', u'material_id': u'mp-775909'}, {u'pretty_formula': u'ZrO2', u'material_id': u'mp-775980'}, {u'pretty_formula': u'ZrO2', u'material_id': u'mp-776427'}, {u'pretty_formula': u'ZrO2', u'material_id': u'mp-775935'}]\n"
       ]
      }
     ],
     "prompt_number": 5
    },
    {
     "cell_type": "code",
     "collapsed": false,
     "input": [
      "data[0][u'pretty_formula']"
     ],
     "language": "python",
     "metadata": {},
     "outputs": [
      {
       "metadata": {},
       "output_type": "pyout",
       "prompt_number": 23,
       "text": [
        "u'AsO2'"
       ]
      }
     ],
     "prompt_number": 23
    },
    {
     "cell_type": "code",
     "collapsed": false,
     "input": [
      "formula_set = set([])\n",
      "for item in data:\n",
      "    formula_set.add(item[u'pretty_formula'])"
     ],
     "language": "python",
     "metadata": {},
     "outputs": [],
     "prompt_number": 26
    },
    {
     "cell_type": "code",
     "collapsed": false,
     "input": [
      "len(formula_set)"
     ],
     "language": "python",
     "metadata": {},
     "outputs": [
      {
       "metadata": {},
       "output_type": "pyout",
       "prompt_number": 29,
       "text": [
        "60"
       ]
      }
     ],
     "prompt_number": 29
    },
    {
     "cell_type": "code",
     "collapsed": false,
     "input": [
      "formula_set"
     ],
     "language": "python",
     "metadata": {},
     "outputs": [
      {
       "metadata": {},
       "output_type": "pyout",
       "prompt_number": 30,
       "text": [
        "{u'AsO2',\n",
        " u'BaO2',\n",
        " u'BiO2',\n",
        " u'CO2',\n",
        " u'CaO2',\n",
        " u'CdO2',\n",
        " u'CeO2',\n",
        " u'ClO2',\n",
        " u'CoO2',\n",
        " u'CrO2',\n",
        " u'CsO2',\n",
        " u'CuO2',\n",
        " u'FeO2',\n",
        " u'GdO2',\n",
        " u'GeO2',\n",
        " u'HfO2',\n",
        " u'HgO2',\n",
        " u'IO2',\n",
        " u'IrO2',\n",
        " u'KO2',\n",
        " u'MgO2',\n",
        " u'MnO2',\n",
        " u'MoO2',\n",
        " u'NO2',\n",
        " u'NaO2',\n",
        " u'NbO2',\n",
        " u'NdO2',\n",
        " u'NiO2',\n",
        " u'NpO2',\n",
        " u'O2',\n",
        " u'OsO2',\n",
        " u'PO2',\n",
        " u'PaO2',\n",
        " u'PbO2',\n",
        " u'PdO2',\n",
        " u'PrO2',\n",
        " u'PtO2',\n",
        " u'PuO2',\n",
        " u'RbO2',\n",
        " u'ReO2',\n",
        " u'RhO2',\n",
        " u'RuO2',\n",
        " u'SO2',\n",
        " u'SbO2',\n",
        " u'SeO2',\n",
        " u'SiO2',\n",
        " u'SnO2',\n",
        " u'SrO2',\n",
        " u'TaO2',\n",
        " u'TbO2',\n",
        " u'TcO2',\n",
        " u'TeO2',\n",
        " u'ThO2',\n",
        " u'TiO2',\n",
        " u'UO2',\n",
        " u'VO2',\n",
        " u'WO2',\n",
        " u'YbO2',\n",
        " u'ZnO2',\n",
        " u'ZrO2'}"
       ]
      }
     ],
     "prompt_number": 30
    },
    {
     "cell_type": "code",
     "collapsed": false,
     "input": [
      "all_elements = pt.all_symbols()"
     ],
     "language": "python",
     "metadata": {},
     "outputs": [],
     "prompt_number": 51
    },
    {
     "cell_type": "code",
     "collapsed": false,
     "input": [
      "e_set = set([])\n",
      "e_set_common = set([])\n",
      "list_radiation = ['Tc', 'Pm', 'Po', 'At', 'Rn', 'Fr', 'Ra', 'Ac', 'Th', 'Pa', 'U', 'Np', 'Pu', 'Am', 'Cm', 'Bk', 'Cf', 'Es', 'Fm', 'Md', 'No', 'Lr', 'Rf', 'Db', 'Sg', 'Bh', 'Hs', 'Mt', 'Ds', 'Rg', 'Cn', 'Uut', 'Fl', 'Uup', 'Lv', 'Uuo']\n",
      "for item in all_elements:\n",
      "    e = Element(item)\n",
      "    if (4 in e.oxidation_states) & (e.symbol not in list_radiation):\n",
      "        e_set.add(e)\n",
      "        print \"%s: %s\" %(e.symbol, e.oxidation_states) \n",
      "    if (4 in e.common_oxidation_states) & (e.symbol not in list_radiation):\n",
      "        e_set_common.add(e)"
     ],
     "language": "python",
     "metadata": {},
     "outputs": [
      {
       "output_type": "stream",
       "stream": "stdout",
       "text": [
        "C: (-4, -3, -2, -1, 1, 2, 3, 4)\n",
        "N: (-3, -2, -1, 1, 2, 3, 4, 5)\n",
        "Si: (-4, -3, -2, -1, 1, 2, 3, 4)\n",
        "P: (-3, -2, -1, 1, 2, 3, 4, 5)\n",
        "S: (-2, -1, 1, 2, 3, 4, 5, 6)\n",
        "Cl: (-1, 1, 2, 3, 4, 5, 6, 7)\n",
        "Ti: (-1, 2, 3, 4)\n",
        "V: (-1, 1, 2, 3, 4, 5)\n",
        "Cr: (-2, -1, 1, 2, 3, 4, 5, 6)\n",
        "Mn: (-3, -2, -1, 1, 2, 3, 4, 5, 6, 7)\n",
        "Fe: (-2, -1, 1, 2, 3, 4, 5, 6)\n",
        "Co: (-1, 1, 2, 3, 4, 5)\n",
        "Ni: (-1, 1, 2, 3, 4)\n",
        "Cu: (1, 2, 3, 4)\n",
        "Ge: (-4, 1, 2, 3, 4)\n",
        "Se: (-2, 2, 4, 6)\n",
        "Br: (-1, 1, 3, 4, 5, 7)\n",
        "Zr: (1, 2, 3, 4)\n",
        "Nb: (-1, 2, 3, 4, 5)\n",
        "Mo: (-2, -1, 1, 2, 3, 4, 5, 6)\n",
        "Ru: (-2, 1, 2, 3, 4, 5, 6, 7, 8)\n",
        "Rh: (-1, 1, 2, 3, 4, 5, 6)\n",
        "Pd: (2, 4)\n",
        "Sn: (-4, 2, 4)\n",
        "Te: (-2, 2, 4, 5, 6)\n",
        "Ce: (2, 3, 4)\n",
        "Pr: (2, 3, 4)\n",
        "Tb: (1, 3, 4)\n",
        "Hf: (2, 3, 4)\n",
        "Ta: (-1, 2, 3, 4, 5)\n",
        "W: (-2, -1, 1, 2, 3, 4, 5, 6)\n",
        "Re: (-3, -1, 1, 2, 3, 4, 5, 6, 7)\n",
        "Os: (-2, -1, 1, 2, 3, 4, 5, 6, 7, 8)\n",
        "Ir: (-3, -1, 1, 2, 3, 4, 5, 6)\n",
        "Pt: (-2, 2, 4, 5, 6)\n",
        "Hg: (1, 2, 4)\n",
        "Pb: (-4, 2, 4)\n"
       ]
      }
     ],
     "prompt_number": 95
    },
    {
     "cell_type": "code",
     "collapsed": false,
     "input": [
      "list = []\n",
      "for item in e_set:\n",
      "    list.append(item.symbol)"
     ],
     "language": "python",
     "metadata": {},
     "outputs": [],
     "prompt_number": 102
    },
    {
     "cell_type": "code",
     "collapsed": false,
     "input": [
      "len(e_set_common)"
     ],
     "language": "python",
     "metadata": {},
     "outputs": [
      {
       "metadata": {},
       "output_type": "pyout",
       "prompt_number": 98,
       "text": [
        "21"
       ]
      }
     ],
     "prompt_number": 98
    },
    {
     "cell_type": "code",
     "collapsed": false,
     "input": [
      "list"
     ],
     "language": "python",
     "metadata": {},
     "outputs": [
      {
       "metadata": {},
       "output_type": "pyout",
       "prompt_number": 103,
       "text": [
        "[u'C',\n",
        " u'N',\n",
        " u'Si',\n",
        " u'P',\n",
        " u'S',\n",
        " u'Cl',\n",
        " u'Ti',\n",
        " u'V',\n",
        " u'Cr',\n",
        " u'Mn',\n",
        " u'Fe',\n",
        " u'Co',\n",
        " u'Ni',\n",
        " u'Cu',\n",
        " u'Ge',\n",
        " u'Se',\n",
        " u'Br',\n",
        " u'Zr',\n",
        " u'Nb',\n",
        " u'Mo',\n",
        " u'Ru',\n",
        " u'Rh',\n",
        " u'Pd',\n",
        " u'Sn',\n",
        " u'Te',\n",
        " u'Ce',\n",
        " u'Pr',\n",
        " u'Tb',\n",
        " u'Hf',\n",
        " u'Ta',\n",
        " u'W',\n",
        " u'Re',\n",
        " u'Os',\n",
        " u'Ir',\n",
        " u'Pt',\n",
        " u'Hg',\n",
        " u'Pb']"
       ]
      }
     ],
     "prompt_number": 103
    },
    {
     "cell_type": "code",
     "collapsed": false,
     "input": [
      "computed_list = Bele_Screen=['Si','Ti','V','Cr','Mn','Fe','Co','Ni','Cu','Se','Zr','Nb','Mo','Tc','Ru','Rh','Pb','Ag','Sn','Te','Hf','Ta','W','Re','Os','Ir','Pt','Hg']"
     ],
     "language": "python",
     "metadata": {},
     "outputs": []
    }
   ],
   "metadata": {}
  }
 ]
}