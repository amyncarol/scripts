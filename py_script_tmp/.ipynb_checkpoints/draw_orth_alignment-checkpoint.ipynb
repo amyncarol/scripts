{
 "metadata": {
  "name": "",
  "signature": "sha256:0fb97a29b69cf36c16295024870ac35cbd61730e1253a6be3c4785bee15cb7fb"
 },
 "nbformat": 3,
 "nbformat_minor": 0,
 "worksheets": [
  {
   "cells": [
    {
     "cell_type": "code",
     "collapsed": false,
     "input": [
      "import numpy as np\n",
      "import matplotlib.pyplot as plt\n",
      "import re"
     ],
     "language": "python",
     "metadata": {},
     "outputs": [],
     "prompt_number": 4
    },
    {
     "cell_type": "code",
     "collapsed": false,
     "input": [
      "fig, ax = plt.subplots()\n",
      "data = []\n",
      "downlimit = -7\n",
      "uplimit = -2\n",
      "n_of_compounds = 3\n",
      "universal_bp = -4.5\n",
      "\n",
      "data = [['Cs1Pb1I3', 1.22, 2.11, 3.03],\n",
      "['Cs1Sn1I3', 2.25, 2.34, 3.07],\n",
      "['Cs1Ge1I3', 1.98, 2.28, 2.75]]\n",
      "\n",
      "for i in np.arange(len(data)):\n",
      "    offset = data[i][2]-universal_bp\n",
      "    ax.broken_barh([(i, 1)] , (downlimit, data[i][1]-offset-downlimit), facecolors='#95c4de')\n",
      "    ax.broken_barh([(i, 1)] , (data[i][3]-offset, uplimit-data[i][3]+offset), facecolors='#95c4de')\n",
      "    ax.text(i+0.3, data[i][1]-offset-0.6, data[i][0], fontdict=None, withdash=False, rotation='vertical')\n",
      "    \n",
      "line = plt.axhline(y=universal_bp, xmin=0, xmax=1, linewidth=2, color = 'k')\n",
      "line.set_dashes([6, 2])\n",
      "\n",
      "ax.set_ylim(downlimit,uplimit)\n",
      "ax.set_xlim(0, n_of_compounds)\n",
      "ax.set_ylabel('Energy(eV)')\n",
      "ax.set_xticks([])\n",
      "ax.set_yticks(np.arange(uplimit-downlimit+1)+downlimit)\n",
      "\n",
      "plt.show()"
     ],
     "language": "python",
     "metadata": {},
     "outputs": [],
     "prompt_number": 5
    },
    {
     "cell_type": "code",
     "collapsed": false,
     "input": [],
     "language": "python",
     "metadata": {},
     "outputs": []
    }
   ],
   "metadata": {}
  }
 ]
}