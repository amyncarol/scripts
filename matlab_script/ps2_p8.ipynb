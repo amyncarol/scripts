{
 "cells": [
  {
   "cell_type": "markdown",
   "metadata": {},
   "source": [
    "# Problem 8"
   ]
  },
  {
   "cell_type": "code",
   "execution_count": 64,
   "metadata": {
    "collapsed": false
   },
   "outputs": [
    {
     "name": "stdout",
     "output_type": "stream",
     "text": [
      "A =\n",
      "\n",
      "     1     0     2\n",
      "     1    -2     4\n",
      "     2     1     3\n",
      "\n",
      "\n",
      "ans =\n",
      "\n",
      "     2\n"
     ]
    }
   ],
   "source": [
    "A = [1 0 2; 1 -2 4; 2 1 3]\n",
    "rank(A)"
   ]
  },
  {
   "cell_type": "code",
   "execution_count": 65,
   "metadata": {
    "collapsed": false
   },
   "outputs": [
    {
     "name": "stdout",
     "output_type": "stream",
     "text": [
      "Q =\n",
      "\n",
      "   0.408248290463863                   0  -0.408248290463863\n",
      "   0.408248290463863  -0.894427190999916  -0.408248290463863\n",
      "   0.816496580927726   0.447213595499958  -0.816496580927726\n",
      "\n",
      "\n",
      "R =\n",
      "\n",
      "   2.449489742783178                   0   4.898979485566357\n",
      "                   0   2.236067977499790  -2.236067977499790\n",
      "                   0                   0   0.000000000000001\n"
     ]
    }
   ],
   "source": [
    "[Q, R] = mgs(A)"
   ]
  },
  {
   "cell_type": "code",
   "execution_count": 66,
   "metadata": {
    "collapsed": false
   },
   "outputs": [
    {
     "name": "stdout",
     "output_type": "stream",
     "text": [
      "ans =\n",
      "\n",
      "     4.440892098500626e-16\n"
     ]
    }
   ],
   "source": [
    "norm(A-Q*R)"
   ]
  },
  {
   "cell_type": "code",
   "execution_count": 67,
   "metadata": {
    "collapsed": false
   },
   "outputs": [
    {
     "name": "stdout",
     "output_type": "stream",
     "text": [
      "ans =\n",
      "\n",
      "     1\n",
      "\n",
      "\n",
      "ans =\n",
      "\n",
      "     1\n",
      "\n",
      "\n",
      "ans =\n",
      "\n",
      "     1\n",
      "\n",
      "\n",
      "ans =\n",
      "\n",
      "     0\n",
      "\n",
      "\n",
      "ans =\n",
      "\n",
      "     0\n",
      "\n",
      "\n",
      "ans =\n",
      "\n",
      "  -1.000000000000000\n"
     ]
    }
   ],
   "source": [
    "for i=1:1:3\n",
    "    norm(Q(:,1))\n",
    "end\n",
    "Q(:,1)'*Q(:,2)\n",
    "Q(:,2)'*Q(:,3)\n",
    "Q(:,1)'*Q(:,3)"
   ]
  },
  {
   "cell_type": "markdown",
   "metadata": {},
   "source": [
    " ##### Clearly, Q is not orthogonal, this is because A is rank-deficiant, and $R_{33}$ should be zero, and $q_3$ can never be computed by MGS in theory. But the code didn't break, this is because of machine epsilon, $v_3$ and $R_{33}$ have values close to machine epsilon. But the thus computed $q_3$ is obviously not correct."
   ]
  },
  {
   "cell_type": "code",
   "execution_count": 40,
   "metadata": {
    "collapsed": false
   },
   "outputs": [
    {
     "name": "stdout",
     "output_type": "stream",
     "text": [
      "W =\n",
      "\n",
      "   0.839121055171381                   0                   0\n",
      "   0.243259472484863  -0.973248989467730                   0\n",
      "   0.486518944969726   0.229752920547361                 NaN\n",
      "\n",
      "\n",
      "R =\n",
      "\n",
      "  -2.449489742783178                   0  -4.898979485566356\n",
      "                   0   2.236067977499790  -2.236067977499790\n",
      "                   0                   0                 NaN\n",
      "\n",
      "\n",
      "Q =\n",
      "\n",
      "   NaN   NaN   NaN\n",
      "   NaN   NaN   NaN\n",
      "   NaN   NaN   NaN\n"
     ]
    }
   ],
   "source": [
    "[W, R] = house(A)\n",
    "Q = formQ(W)"
   ]
  },
  {
   "cell_type": "markdown",
   "metadata": {},
   "source": [
    "##### After two unitary operations $Q_1$ and $Q_2$, A has been transformed to a triangular matrix with $A_{33} = 0$ (since the rank of A is 2, $A_{33}$ must be $0$) and then $A_{33}$ is assigned to $v$. Now the normalization of $v$ is meaningless, so $v = NaN$, then when the third reflection is applied to the submatrix of A, they are also NaN.  Then analysis of formQ will tell us that since it starts from the 3rd column, a NaN value for $W_{33}$ will bring every element in Q to be NaN. So neither MGS and householder work for rank-deficient matrix."
   ]
  },
  {
   "cell_type": "code",
   "execution_count": null,
   "metadata": {
    "collapsed": true
   },
   "outputs": [],
   "source": []
  }
 ],
 "metadata": {
  "kernelspec": {
   "display_name": "Matlab",
   "language": "matlab",
   "name": "matlab"
  },
  "language_info": {
   "codemirror_mode": "octave",
   "file_extension": ".m",
   "help_links": [
    {
     "text": "MetaKernel Magics",
     "url": "https://github.com/calysto/metakernel/blob/master/metakernel/magics/README.md"
    }
   ],
   "mimetype": "text/x-octave",
   "name": "matlab",
   "version": "0.11.0"
  }
 },
 "nbformat": 4,
 "nbformat_minor": 1
}
