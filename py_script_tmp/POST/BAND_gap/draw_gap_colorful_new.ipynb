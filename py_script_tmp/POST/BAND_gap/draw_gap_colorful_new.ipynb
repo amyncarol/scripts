{
 "cells": [
  {
   "cell_type": "code",
   "execution_count": 33,
   "metadata": {
    "collapsed": false
   },
   "outputs": [],
   "source": [
    "import numpy as np\n",
    "import matplotlib.pyplot as plt\n",
    "import matplotlib.cbook as cbook\n",
    "import re\n",
    "from matplotlib.pyplot import figure, show, axes, sci\n",
    "from matplotlib import cm, colors\n",
    "from matplotlib.font_manager import FontProperties\n",
    "from numpy import amin, amax, ravel\n",
    "import numpy.ma as ma"
   ]
  },
  {
   "cell_type": "code",
   "execution_count": 34,
   "metadata": {
    "collapsed": false
   },
   "outputs": [],
   "source": [
    "eg = np.zeros( (3,4,8) )\n",
    "data_eg = open('/Users/yao/Google Drive/data/2116/Eg_Ag','r')"
   ]
  },
  {
   "cell_type": "code",
   "execution_count": 35,
   "metadata": {
    "collapsed": false
   },
   "outputs": [],
   "source": [
    "value_eg = []\n",
    "lines = data_eg.readlines()\n",
    "for line in lines:\n",
    "    match = re.match(r\"([a-z]+)([ ]+)([a-z]+)([ ]+)([a-z]+)([ ]+)([a-z]+)([ ]+)([0-9.]+)\", line, re.I)\n",
    "    if match:\n",
    "        items = match.groups()\n",
    "        value_eg.append(float(items[8]))"
   ]
  },
  {
   "cell_type": "code",
   "execution_count": 36,
   "metadata": {
    "collapsed": false
   },
   "outputs": [],
   "source": [
    "for i in range(len(value_eg)):\n",
    "    if value_eg[i] >= 1:\n",
    "        value_eg[i] = 1"
   ]
  },
  {
   "cell_type": "code",
   "execution_count": 37,
   "metadata": {
    "collapsed": false
   },
   "outputs": [],
   "source": [
    "index = 0\n",
    "for a in range(4):\n",
    "    for b in range(8):\n",
    "        for c in range(3):\n",
    "            eg[c][a][b] = value_eg[index]\n",
    "            index = index + 1"
   ]
  },
  {
   "cell_type": "code",
   "execution_count": 38,
   "metadata": {
    "collapsed": false
   },
   "outputs": [],
   "source": [
    "fig = figure()\n",
    "#cmap = cm.cool\n",
    "w = 1.2\n",
    "h = 0.15\n",
    "ax = []\n",
    "images = []\n",
    "vmin = 1e40\n",
    "vmax = -1e40\n",
    "cax = fig.add_axes([0.8, 0.2, 0.02, 0.5])"
   ]
  },
  {
   "cell_type": "code",
   "execution_count": 39,
   "metadata": {
    "collapsed": false
   },
   "outputs": [
    {
     "ename": "IndexError",
     "evalue": "index 3 is out of bounds for axis 0 with size 3",
     "output_type": "error",
     "traceback": [
      "\u001b[0;31m---------------------------------------------------------------------------\u001b[0m\n\u001b[0;31mIndexError\u001b[0m                                Traceback (most recent call last)",
      "\u001b[0;32m<ipython-input-39-0d2b2a318469>\u001b[0m in \u001b[0;36m<module>\u001b[0;34m()\u001b[0m\n\u001b[1;32m      7\u001b[0m         \u001b[0mplt\u001b[0m\u001b[0;34m.\u001b[0m\u001b[0mxticks\u001b[0m\u001b[0;34m(\u001b[0m\u001b[0mnp\u001b[0m\u001b[0;34m.\u001b[0m\u001b[0marange\u001b[0m\u001b[0;34m(\u001b[0m\u001b[0;36m8\u001b[0m\u001b[0;34m)\u001b[0m\u001b[0;34m,\u001b[0m\u001b[0;34m[\u001b[0m\u001b[0;34m'Bi'\u001b[0m\u001b[0;34m,\u001b[0m\u001b[0;34m'Sb'\u001b[0m\u001b[0;34m,\u001b[0m\u001b[0;34m'Ce'\u001b[0m\u001b[0;34m,\u001b[0m\u001b[0;34m'Pr'\u001b[0m\u001b[0;34m,\u001b[0m\u001b[0;34m'Nd'\u001b[0m\u001b[0;34m,\u001b[0m\u001b[0;34m'Ta'\u001b[0m\u001b[0;34m,\u001b[0m\u001b[0;34m'Mo'\u001b[0m\u001b[0;34m,\u001b[0m\u001b[0;34m'Y'\u001b[0m\u001b[0;34m]\u001b[0m\u001b[0;34m,\u001b[0m\u001b[0msize\u001b[0m\u001b[0;34m=\u001b[0m\u001b[0;34m'x-small'\u001b[0m\u001b[0;34m)\u001b[0m\u001b[0;34m\u001b[0m\u001b[0m\n\u001b[1;32m      8\u001b[0m         \u001b[0;31m#plt.xticks(np.arange(33),['Ge', 'Pd', 'Ce', 'Pr', 'Tb','Si','Ti','V','Cr','Mn','Fe','Co','Ni','Cu','Se','Zr','Nb','Mo','Tc','Ru','Rh','Pb','Ag','Sn','Te','Hf','Ta','W','Re','Os','Ir','Pt','Hg'],size='x-small')\u001b[0m\u001b[0;34m\u001b[0m\u001b[0;34m\u001b[0m\u001b[0m\n\u001b[0;32m----> 9\u001b[0;31m     \u001b[0mdd\u001b[0m \u001b[0;34m=\u001b[0m \u001b[0mravel\u001b[0m\u001b[0;34m(\u001b[0m\u001b[0meg\u001b[0m\u001b[0;34m[\u001b[0m\u001b[0mi\u001b[0m\u001b[0;34m]\u001b[0m\u001b[0;34m)\u001b[0m\u001b[0;34m\u001b[0m\u001b[0m\n\u001b[0m\u001b[1;32m     10\u001b[0m     \u001b[0;31m# Manually find the min and max of all colors for\u001b[0m\u001b[0;34m\u001b[0m\u001b[0;34m\u001b[0m\u001b[0m\n\u001b[1;32m     11\u001b[0m     \u001b[0;31m# use in setting the color scale.\u001b[0m\u001b[0;34m\u001b[0m\u001b[0;34m\u001b[0m\u001b[0m\n",
      "\u001b[0;31mIndexError\u001b[0m: index 3 is out of bounds for axis 0 with size 3"
     ]
    }
   ],
   "source": [
    "for i in range(4):\n",
    "    pos = [0, 0.56 - i*1.2*h, w, h]\n",
    "    a = fig.add_axes(pos)\n",
    "    plt.yticks(np.arange(3),['K','Rb','Cs'], size='x-small')\n",
    "    plt.xticks(np.arange(8),[])\n",
    "    if i == 3:\n",
    "        plt.xticks(np.arange(8),['Bi','Sb','Ce','Pr','Nd','Ta','Mo','Y'],size='x-small')  \n",
    "        #plt.xticks(np.arange(33),['Ge', 'Pd', 'Ce', 'Pr', 'Tb','Si','Ti','V','Cr','Mn','Fe','Co','Ni','Cu','Se','Zr','Nb','Mo','Tc','Ru','Rh','Pb','Ag','Sn','Te','Hf','Ta','W','Re','Os','Ir','Pt','Hg'],size='x-small')\n",
    "    dd = ravel(eg[i])\n",
    "    # Manually find the min and max of all colors for\n",
    "    # use in setting the color scale.\n",
    "    vmin = min(vmin, amin(dd))\n",
    "    vmax = max(vmax, amax(dd))\n",
    "    images.append(a.imshow(eg[i],interpolation = 'nearest',aspect=2))\n",
    "\n",
    "    ax.append(a)"
   ]
  },
  {
   "cell_type": "code",
   "execution_count": null,
   "metadata": {
    "collapsed": false
   },
   "outputs": [],
   "source": [
    "# Set the first image as the master, with all the others\n",
    "# observing it for changes in cmap or norm.\n",
    "\n",
    "class ImageFollower:\n",
    "    'update image in response to changes in clim or cmap on another image'\n",
    "    def __init__(self, follower):\n",
    "        self.follower = follower\n",
    "    def __call__(self, leader):\n",
    "        self.follower.set_cmap(leader.get_cmap())\n",
    "        self.follower.set_clim(leader.get_clim())\n",
    "norm = colors.Normalize(vmin=vmin, vmax=vmax)\n",
    "for i, im in enumerate(images):\n",
    "    im.set_norm(norm)\n",
    "    if i > 0:\n",
    "        images[0].callbacksSM.connect('changed', ImageFollower(im))\n",
    "fig.colorbar(images[0], cax)\n",
    "axes(ax[0])     # Return the current axes to the first one,\n",
    "sci(images[0])  # because the current image must be in current axes.\n",
    "show()"
   ]
  },
  {
   "cell_type": "code",
   "execution_count": null,
   "metadata": {
    "collapsed": false
   },
   "outputs": [],
   "source": []
  }
 ],
 "metadata": {
  "kernelspec": {
   "display_name": "Python 2",
   "language": "python",
   "name": "python2"
  },
  "language_info": {
   "codemirror_mode": {
    "name": "ipython",
    "version": 2
   },
   "file_extension": ".py",
   "mimetype": "text/x-python",
   "name": "python",
   "nbconvert_exporter": "python",
   "pygments_lexer": "ipython2",
   "version": "2.7.9"
  }
 },
 "nbformat": 4,
 "nbformat_minor": 0
}
