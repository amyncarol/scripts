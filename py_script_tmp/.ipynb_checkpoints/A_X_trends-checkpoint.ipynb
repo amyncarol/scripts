{
 "cells": [
  {
   "cell_type": "code",
   "execution_count": 1,
   "metadata": {
    "collapsed": false
   },
   "outputs": [],
   "source": [
    "import numpy as np\n",
    "import matplotlib.pyplot as plt\n",
    "import re\n",
    "from matplotlib import rc"
   ]
  },
  {
   "cell_type": "code",
   "execution_count": 2,
   "metadata": {
    "collapsed": false
   },
   "outputs": [],
   "source": [
    "compounds = np.array(['K','Rb','Cs'])\n",
    "Eg_A2SnI6_cubic = np.array([0.0673, 0.1534, 0.2883])\n",
    "Eg_A2PtI6_cubic = np.array([0.4242, 0.5144, 0.6561])\n",
    "Eg_A2TeI6_cubic = np.array([1.2709, 1.3406, 1.5068])\n",
    "\n",
    "Eg_A2SnI6_tetra = np.array([0.6576, 0.6714, 0.3674])\n",
    "Eg_A2PtI6_tetra = np.array([0.9131, 0.7456,  0.6174])\n",
    "Eg_A2TeI6_tetra = np.array([1.7005, 1.6936, 1.4475])"
   ]
  },
  {
   "cell_type": "code",
   "execution_count": 22,
   "metadata": {
    "collapsed": true
   },
   "outputs": [],
   "source": [
    "comp = np.arange(len(compounds))\n",
    "\n",
    "fig, ax = plt.subplots()\n",
    "ax.plot(comp, Eg_A2SnI6_cubic,'-o', color='r', ms = 10, mew = 0, lw=2, label ='A2SnI6 cubic')\n",
    "ax.plot(comp, Eg_A2PtI6_cubic,'-o', color='b', ms = 10, mew = 0, lw=2, label ='A2PtI6 cubic')\n",
    "ax.plot(comp, Eg_A2TeI6_cubic,'-o', color='g', ms = 10, mew = 0, lw=2, label ='A2TeI6 cubic')\n",
    "\n",
    "ax.plot(comp, Eg_A2SnI6_tetra,'-s', color='r', ms = 10, mew = 0, lw=2, label ='A2SnI6 tetra')\n",
    "ax.plot(comp, Eg_A2PtI6_tetra,'-s', color='b', ms = 10, mew = 0, lw=2, label ='A2PtI6 tetra')\n",
    "ax.plot(comp, Eg_A2TeI6_tetra,'-s', color='g', ms = 10, mew = 0, lw=2, label ='A2TeI6 tetra')\n",
    "\n",
    "\n",
    "plt.xticks(np.arange(3),compounds, fontsize = 20)\n",
    "plt.yticks(np.arange(0, 2.1, 0.5), fontsize = 20)\n",
    "ax.set_ylabel('band gap (eV)', fontsize = 20)\n",
    "ax.legend(loc='upper left', fontsize = 18)\n",
    "\n",
    "plt.show()"
   ]
  },
  {
   "cell_type": "code",
   "execution_count": 28,
   "metadata": {
    "collapsed": false
   },
   "outputs": [],
   "source": [
    "compounds = np.array(['Cl','Br','I'])\n",
    "Eg_Cs2SnX6_cubic = np.array([2.691, 1.4799, 0.2883])\n",
    "Eg_Cs2PtX6_cubic = np.array([2.0043, 1.4145, 0.6561])\n",
    "Eg_Cs2TeX6_cubic = np.array([2.7936, 2.2077, 1.5068])\n",
    "\n",
    "Eg_Cs2SnX6_tetra = np.array([2.6889, 1.4698, 0.3674])\n",
    "Eg_Cs2PtX6_tetra = np.array([1.9791, 1.3777, 0.6174])\n",
    "Eg_Cs2TeX6_tetra = np.array([2.8284, 2.2214, 1.4475])"
   ]
  },
  {
   "cell_type": "code",
   "execution_count": 29,
   "metadata": {
    "collapsed": false
   },
   "outputs": [],
   "source": [
    "comp = np.arange(len(compounds))\n",
    "\n",
    "fig, ax = plt.subplots()\n",
    "ax.plot(comp, Eg_Cs2SnX6_cubic,'-o', color='r', ms = 10, mew = 0, lw=2, label ='Cs2SnX6 cubic')\n",
    "ax.plot(comp, Eg_Cs2PtX6_cubic,'-o', color='b', ms = 10, mew = 0, lw=2, label ='Cs2PtX6 cubic')\n",
    "ax.plot(comp, Eg_Cs2TeX6_cubic,'-o', color='g', ms = 10, mew = 0, lw=2, label ='Cs2TeX6 cubic')\n",
    "\n",
    "ax.plot(comp, Eg_Cs2SnX6_tetra,'-s', color='r', ms = 10, mew = 0, lw=2, label ='Cs2SnX6 tetra')\n",
    "ax.plot(comp, Eg_Cs2PtX6_tetra,'-s', color='b', ms = 10, mew = 0, lw=2, label ='Cs2PtX6 tetra')\n",
    "ax.plot(comp, Eg_Cs2TeX6_tetra,'-s', color='g', ms = 10, mew = 0, lw=2, label ='Cs2TeX6 tetra')\n",
    "\n",
    "\n",
    "plt.xticks(np.arange(3),compounds, fontsize = 20)\n",
    "plt.yticks(np.arange(0, 3.1, 0.5), fontsize = 20)\n",
    "ax.set_ylabel('band gap (eV)', fontsize = 20)\n",
    "ax.legend(loc='lower left', fontsize = 18)\n",
    "\n",
    "plt.show()"
   ]
  },
  {
   "cell_type": "code",
   "execution_count": 12,
   "metadata": {
    "collapsed": false
   },
   "outputs": [],
   "source": []
  },
  {
   "cell_type": "code",
   "execution_count": 26,
   "metadata": {
    "collapsed": false
   },
   "outputs": [],
   "source": [
    "compounds = np.array(['Cl','Br','I'])\n",
    "Eg_Rb2SnX6_cubic = np.array([2.5649, 1.3267, 0.1534])\n",
    "Eg_Rb2PtX6_cubic = np.array([1.8845, 1.2524, 0.5144])\n",
    "Eg_Rb2TeX6_cubic = np.array([2.6833, 2.0808, 1.3406])\n",
    "\n",
    "Eg_Rb2SnX6_tetra = np.array([2.5897, 1.545, 0.6714])\n",
    "Eg_Rb2PtX6_tetra = np.array([1.8499, 1.2272, 0.7456])\n",
    "Eg_Rb2TeX6_tetra = np.array([2.8375, 2.2754, 1.6936])"
   ]
  },
  {
   "cell_type": "code",
   "execution_count": 27,
   "metadata": {
    "collapsed": false
   },
   "outputs": [],
   "source": [
    "comp = np.arange(len(compounds))\n",
    "\n",
    "fig, ax = plt.subplots()\n",
    "ax.plot(comp, Eg_Rb2SnX6_cubic,'-o', color='r', ms = 10, mew = 0, lw=2, label ='Rb2SnX6 cubic')\n",
    "ax.plot(comp, Eg_Rb2PtX6_cubic,'-o', color='b', ms = 10, mew = 0, lw=2, label ='Rb2PtX6 cubic')\n",
    "ax.plot(comp, Eg_Rb2TeX6_cubic,'-o', color='g', ms = 10, mew = 0, lw=2, label ='Rb2TeX6 cubic')\n",
    "\n",
    "ax.plot(comp, Eg_Rb2SnX6_tetra,'-s', color='r', ms = 10, mew = 0, lw=2, label ='Rb2SnX6 tetra')\n",
    "ax.plot(comp, Eg_Rb2PtX6_tetra,'-s', color='b', ms = 10, mew = 0, lw=2, label ='Rb2PtX6 tetra')\n",
    "ax.plot(comp, Eg_Rb2TeX6_tetra,'-s', color='g', ms = 10, mew = 0, lw=2, label ='Rb2TeX6 tetra')\n",
    "\n",
    "\n",
    "plt.xticks(np.arange(3),compounds, fontsize = 20)\n",
    "plt.yticks(np.arange(0, 3.1, 0.5), fontsize = 20)\n",
    "ax.set_ylabel('band gap (eV)', fontsize = 20)\n",
    "ax.legend(loc='lower left', fontsize = 18)\n",
    "\n",
    "plt.show()"
   ]
  },
  {
   "cell_type": "code",
   "execution_count": null,
   "metadata": {
    "collapsed": false
   },
   "outputs": [],
   "source": [
    "compounds = np.array(['Cl','Br','I'])\n",
    "Eg_K2SnX6_cubic = np.array([2.4873, 1.2309, 0.0673])\n",
    "Eg_K2PtX6_cubic = np.array([1.7925, 1.1499, 0.4242])\n",
    "Eg_K2TeX6_cubic = np.array([2.6046, 2.0112, 1.2709])\n",
    "\n",
    "Eg_K2SnX6_tetra = np.array([2.7104, 1.5671, 0.6576])\n",
    "Eg_K2PtX6_tetra = np.array([1.805, 1.3595, 0.9131])\n",
    "Eg_K2TeX6_tetra = np.array([10, 2.2972, 1.7005])"
   ]
  },
  {
   "cell_type": "code",
   "execution_count": null,
   "metadata": {
    "collapsed": true
   },
   "outputs": [],
   "source": [
    "comp = np.arange(len(compounds))\n",
    "\n",
    "fig, ax = plt.subplots()\n",
    "ax.plot(comp, Eg_K2SnX6_cubic,'-o', color='r', ms = 10, mew = 0, lw=2, label ='K2SnX6 cubic')\n",
    "ax.plot(comp, Eg_K2PtX6_cubic,'-o', color='b', ms = 10, mew = 0, lw=2, label ='K2PtX6 cubic')\n",
    "ax.plot(comp, Eg_K2TeX6_cubic,'-o', color='g', ms = 10, mew = 0, lw=2, label ='K2TeX6 cubic')\n",
    "\n",
    "ax.plot(comp, Eg_K2SnX6_tetra,'-s', color='r', ms = 10, mew = 0, lw=2, label ='K2SnX6 tetra')\n",
    "ax.plot(comp, Eg_K2PtX6_tetra,'-s', color='b', ms = 10, mew = 0, lw=2, label ='K2PtX6 tetra')\n",
    "ax.plot(comp, Eg_K2TeX6_tetra,'-s', color='g', ms = 10, mew = 0, lw=2, label ='K2TeX6 tetra')\n",
    "\n",
    "\n",
    "plt.xticks(np.arange(3),compounds, fontsize = 20)\n",
    "plt.yticks(np.arange(0, 3.1, 0.5), fontsize = 20)\n",
    "ax.set_ylabel('band gap (eV)', fontsize = 20)\n",
    "ax.legend(loc='lower left', fontsize = 18)\n",
    "\n",
    "plt.show()"
   ]
  }
 ],
 "metadata": {
  "kernelspec": {
   "display_name": "Python 2",
   "language": "python",
   "name": "python2"
  },
  "language_info": {
   "codemirror_mode": {
    "name": "ipython",
    "version": 2
   },
   "file_extension": ".py",
   "mimetype": "text/x-python",
   "name": "python",
   "nbconvert_exporter": "python",
   "pygments_lexer": "ipython2",
   "version": "2.7.9"
  }
 },
 "nbformat": 4,
 "nbformat_minor": 0
}
