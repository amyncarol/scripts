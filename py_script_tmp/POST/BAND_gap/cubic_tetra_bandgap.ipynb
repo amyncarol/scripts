{
 "metadata": {
  "name": "",
  "signature": "sha256:68c203fdbce4123f528bbdd0ec4e3ade89bdff90bb725c3c5df3adb3e2af8bb4"
 },
 "nbformat": 3,
 "nbformat_minor": 0,
 "worksheets": [
  {
   "cells": [
    {
     "cell_type": "code",
     "collapsed": false,
     "input": [
      "import numpy as np\n",
      "import matplotlib.pyplot as plt\n",
      "import matplotlib.cbook as cbook\n",
      "import re\n",
      "from matplotlib.pyplot import figure, show, axes, sci\n",
      "from matplotlib import cm, colors\n",
      "from matplotlib.font_manager import FontProperties\n",
      "from numpy import amin, amax, ravel"
     ],
     "language": "python",
     "metadata": {},
     "outputs": [],
     "prompt_number": 10
    },
    {
     "cell_type": "code",
     "collapsed": false,
     "input": [
      "data_cubic = open('/Users/yao/Eg_SnNiMn26_cubic','r')\n",
      "data_tet = open('/Users/yao/Eg_SnNiMn_tet','r')"
     ],
     "language": "python",
     "metadata": {},
     "outputs": [],
     "prompt_number": 24
    },
    {
     "cell_type": "code",
     "collapsed": false,
     "input": [
      "value_cubic = []\n",
      "compounds = []\n",
      "lines = data_cubic.readlines()\n",
      "for line in lines:\n",
      "    match = re.match(r\"([a-z0-9]+)([ ]+)([0-9.]+)\", line, re.I)\n",
      "    if match:\n",
      "        items = match.groups()\n",
      "        compounds.append(items[0])\n",
      "        value_cubic.append(float(items[2]))\n",
      "print value_cubic\n",
      "print compounds"
     ],
     "language": "python",
     "metadata": {},
     "outputs": [
      {
       "output_type": "stream",
       "stream": "stdout",
       "text": [
        "[2.4873, 1.2309, 0.0673, 0.5232, 0.0532, 0.0024, 1.1649, 0.4518, 0.0, 2.5649, 1.3267, 0.1534, 0.6428, 0.1525, 0.0, 1.2536, 0.5542, 0.0, 2.691, 1.4799, 0.2883, 0.7755, 0.314, 1.3985, 0.7113, 0.0316]\n",
        "['K2Sn1Cl6', 'K2Sn1Br6', 'K2Sn1I6', 'K2Ni1Cl6', 'K2Ni1Br6', 'K2Ni1I6', 'K2Mn1Cl6', 'K2Mn1Br6', 'K2Mn1I6', 'Rb2Sn1Cl6', 'Rb2Sn1Br6', 'Rb2Sn1I6', 'Rb2Ni1Cl6', 'Rb2Ni1Br6', 'Rb2Ni1I6', 'Rb2Mn1Cl6', 'Rb2Mn1Br6', 'Rb2Mn1I6', 'Cs2Sn1Cl6', 'Cs2Sn1Br6', 'Cs2Sn1I6', 'Cs2Ni1Cl6', 'Cs2Ni1Br6', 'Cs2Mn1Cl6', 'Cs2Mn1Br6', 'Cs2Mn1I6']\n"
       ]
      }
     ],
     "prompt_number": 25
    },
    {
     "cell_type": "code",
     "collapsed": false,
     "input": [
      "value_tet = []\n",
      "lines = data_tet.readlines()\n",
      "for line in lines:\n",
      "    match = re.match(r\"([a-z0-9]+)([ ]+)([0-9.]+)\", line, re.I)\n",
      "    if match:\n",
      "        items = match.groups()\n",
      "        value_tet.append(float(items[2]))\n",
      "print value_tet"
     ],
     "language": "python",
     "metadata": {},
     "outputs": [
      {
       "output_type": "stream",
       "stream": "stdout",
       "text": [
        "[2.7105, 1.567, 0.6576, 0.5098, 0.2259, 0.1296, 1.185, 0.6077, 0.2152, 2.5896, 1.5453, 0.6711, 0.617, 0.1391, 0.0286, 1.2358, 0.5378, 0.099, 2.6891, 1.4697, 0.3674, 0.7682, 0.2843, 1.3765, 0.6838, 0.0129]\n"
       ]
      }
     ],
     "prompt_number": 26
    },
    {
     "cell_type": "code",
     "collapsed": false,
     "input": [
      "all_data = np.zeros((4,26))\n",
      "all_data[0] = value_cubic\n",
      "all_data[1] = value_tet\n",
      "all_data[2] = all_data[1]-all_data[0]\n",
      "all_data[3] = [0.9022682527940346, 0.8912213770426674, 0.8759315836151694, 0.9850090096004744, 0.9679248562143724, 0.9445680136745671, 0.9639618085406353, 0.9484886141217141, 0.9272682332043369, 0.9418662325404813, 0.9285779617091264, 0.9101858913543103, 1.0282382451315297, 1.0084965567742563, 0.9815064276171478, 1.006267342457779, 0.988245621899271, 0.9635301194190315, 0.984292639411674, 0.9686028738517612, 0.9468869353605325, 1.0745552832005176, 1.0519662359455604, 1.0515947002261476, 1.0308424159466536, 1.0023821403633475]\n",
      "print all_data"
     ],
     "language": "python",
     "metadata": {},
     "outputs": [
      {
       "output_type": "stream",
       "stream": "stdout",
       "text": [
        "[[  2.48730000e+00   1.23090000e+00   6.73000000e-02   5.23200000e-01\n",
        "    5.32000000e-02   2.40000000e-03   1.16490000e+00   4.51800000e-01\n",
        "    0.00000000e+00   2.56490000e+00   1.32670000e+00   1.53400000e-01\n",
        "    6.42800000e-01   1.52500000e-01   0.00000000e+00   1.25360000e+00\n",
        "    5.54200000e-01   0.00000000e+00   2.69100000e+00   1.47990000e+00\n",
        "    2.88300000e-01   7.75500000e-01   3.14000000e-01   1.39850000e+00\n",
        "    7.11300000e-01   3.16000000e-02]\n",
        " [  2.71050000e+00   1.56700000e+00   6.57600000e-01   5.09800000e-01\n",
        "    2.25900000e-01   1.29600000e-01   1.18500000e+00   6.07700000e-01\n",
        "    2.15200000e-01   2.58960000e+00   1.54530000e+00   6.71100000e-01\n",
        "    6.17000000e-01   1.39100000e-01   2.86000000e-02   1.23580000e+00\n",
        "    5.37800000e-01   9.90000000e-02   2.68910000e+00   1.46970000e+00\n",
        "    3.67400000e-01   7.68200000e-01   2.84300000e-01   1.37650000e+00\n",
        "    6.83800000e-01   1.29000000e-02]\n",
        " [  2.23200000e-01   3.36100000e-01   5.90300000e-01  -1.34000000e-02\n",
        "    1.72700000e-01   1.27200000e-01   2.01000000e-02   1.55900000e-01\n",
        "    2.15200000e-01   2.47000000e-02   2.18600000e-01   5.17700000e-01\n",
        "   -2.58000000e-02  -1.34000000e-02   2.86000000e-02  -1.78000000e-02\n",
        "   -1.64000000e-02   9.90000000e-02  -1.90000000e-03  -1.02000000e-02\n",
        "    7.91000000e-02  -7.30000000e-03  -2.97000000e-02  -2.20000000e-02\n",
        "   -2.75000000e-02  -1.87000000e-02]\n",
        " [  9.02268253e-01   8.91221377e-01   8.75931584e-01   9.85009010e-01\n",
        "    9.67924856e-01   9.44568014e-01   9.63961809e-01   9.48488614e-01\n",
        "    9.27268233e-01   9.41866233e-01   9.28577962e-01   9.10185891e-01\n",
        "    1.02823825e+00   1.00849656e+00   9.81506428e-01   1.00626734e+00\n",
        "    9.88245622e-01   9.63530119e-01   9.84292639e-01   9.68602874e-01\n",
        "    9.46886935e-01   1.07455528e+00   1.05196624e+00   1.05159470e+00\n",
        "    1.03084242e+00   1.00238214e+00]]\n"
       ]
      }
     ],
     "prompt_number": 45
    },
    {
     "cell_type": "code",
     "collapsed": false,
     "input": [
      "fig, ax = plt.subplots()\n",
      "ax.plot(value_cubic, '-o', label = 'cubic', linewidth = 2, markersize = 10)\n",
      "ax.plot(value_tet, '-o', label = 'tetra', linewidth = 2, markersize = 10)\n",
      "for x, y, z in zip(np.arange(26), value_tet, compounds):\n",
      "    ax.text(x, y,'%s' % z, rotation=90)\n",
      "show()"
     ],
     "language": "python",
     "metadata": {},
     "outputs": [],
     "prompt_number": 30
    },
    {
     "cell_type": "code",
     "collapsed": false,
     "input": [
      "fig, ax = plt.subplots()\n",
      "ax.plot(all_data[2], '-o', label = 'diff', linewidth = 2, markersize = 10)\n",
      "for x, y, z in zip(np.arange(26), all_data[2], compounds):\n",
      "    ax.text(x, y,'%s' % z, rotation=90)\n",
      "show()"
     ],
     "language": "python",
     "metadata": {},
     "outputs": [],
     "prompt_number": 42
    },
    {
     "cell_type": "code",
     "collapsed": false,
     "input": [
      "fig, ax = plt.subplots()\n",
      "ax.plot(all_data[3], all_data[2], 'o', label = 'diff', linewidth = 2, markersize = 10)\n",
      "for x, y, z in zip(all_data[3], all_data[2], compounds):\n",
      "    ax.text(x, y,'%s' % z, rotation=90)\n",
      "show()"
     ],
     "language": "python",
     "metadata": {},
     "outputs": [],
     "prompt_number": 49
    },
    {
     "cell_type": "code",
     "collapsed": false,
     "input": [],
     "language": "python",
     "metadata": {},
     "outputs": []
    }
   ],
   "metadata": {}
  }
 ]
}