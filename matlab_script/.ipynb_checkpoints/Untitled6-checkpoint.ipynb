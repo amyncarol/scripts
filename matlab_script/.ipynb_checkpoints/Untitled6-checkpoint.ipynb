{
 "cells": [
  {
   "cell_type": "markdown",
   "metadata": {},
   "source": [
    "## 9-(a)"
   ]
  },
  {
   "cell_type": "code",
   "execution_count": 7,
   "metadata": {
    "collapsed": false
   },
   "outputs": [
    {
     "name": "stdout",
     "output_type": "stream",
     "text": [
      "errors =\n",
      "\n",
      "  Columns 1 through 3\n",
      "\n",
      "     2.000000000000002e+00     2.000000000000001e+00     3.219646771412954e-15\n",
      "     2.000000000000001e+00     2.000000000000001e+00     1.887379141862766e-15\n",
      "     2.000000000000001e+00     2.000000000000001e+00     1.887379141862766e-15\n",
      "     2.000000000000001e+00     2.000000000000001e+00     1.776356839400250e-15\n",
      "     2.000000000000001e+00     2.000000000000001e+00     3.219646771412954e-15\n",
      "\n",
      "  Column 4\n",
      "\n",
      "     3.176561391080484e-15\n",
      "     3.669432766049311e-15\n",
      "     3.602048654484356e-15\n",
      "     7.125974616847334e-15\n",
      "     5.963427459477524e-15\n",
      "\n",
      "\n",
      "ans =\n",
      "\n",
      "     5.627199105561947e-15\n"
     ]
    }
   ],
   "source": [
    "errors = zeros(5, 4);\n",
    "for n = 1:5\n",
    "    m = 50;\n",
    "    U = orth(randn(m, m));\n",
    "    V = orth(randn(m, m));\n",
    "    s = sort(rand(m,1), 'descend');\n",
    "    S = zeros(m);\n",
    "    for i = 1:m\n",
    "        S(i,i) = s(i);\n",
    "    end\n",
    "    A = U*S*V';\n",
    "    [U2, S2, V2] = svd(A);\n",
    "    errors(n, 1) = norm(U-U2);\n",
    "    errors(n, 2) = norm(V-V2);\n",
    "    errors(n, 3) = norm(S-S2);\n",
    "    errors(n, 4) = norm(A-U2*S2*V2');\n",
    "end\n",
    "format longE\n",
    "errors\n",
    "diag(U2'*U);\n",
    "diag(V2'*V);\n",
    "norm(diag(U2'*U)-diag(V2'*V))"
   ]
  },
  {
   "cell_type": "markdown",
   "metadata": {},
   "source": [
    "### It seems that the signs of U2 and V2 are chosen arbitrarily, so that $norm(U-U2)$ and $norm(V-V2)$ are very large, but after checking $diag(U2'*U)$ and $diag(V2'*V)$ we found that the signs of U2 and V2 are correlated. For S2, we don't have the sign ambigularity, since singular values are nonzero, so $norm(S-S2)$ is small. Since the signs of U2 and V2 are correlated, they cancelled each other such that we have small $norm(A-U2*S2*V2')$\n",
    "\n",
    "### Let's fix the signs of U2 and V2"
   ]
  },
  {
   "cell_type": "code",
   "execution_count": 8,
   "metadata": {
    "collapsed": false
   },
   "outputs": [
    {
     "name": "stdout",
     "output_type": "stream",
     "text": [
      "errors =\n",
      "\n",
      "  Columns 1 through 3\n",
      "\n",
      "     3.692892468969601e-13     3.695910477862575e-13     1.776356839400250e-15\n",
      "     9.893890677692390e-13     9.893743315207849e-13     1.554312234475219e-15\n",
      "     5.100538848546220e-13     5.102902146794227e-13     2.109423746787797e-15\n",
      "     3.011507915424475e-13     3.015858328373344e-13     2.886579864025407e-15\n",
      "     4.128257088807124e-13     4.122430169954713e-13     1.887379141862766e-15\n",
      "\n",
      "  Column 4\n",
      "\n",
      "     2.949382944837577e-15\n",
      "     3.786068167171523e-15\n",
      "     2.474365195636145e-15\n",
      "     2.897775730564780e-15\n",
      "     6.220825598305047e-15\n",
      "\n",
      "\n",
      "cond_numbers =\n",
      "\n",
      "     1.737379296400738e+01\n",
      "     3.331050459069287e+01\n",
      "     3.407564405731858e+01\n",
      "     3.923534426393613e+01\n",
      "     4.214093634521305e+01\n"
     ]
    }
   ],
   "source": [
    "errors = zeros(5, 4);\n",
    "cond_numbers = zeros(5, 1);\n",
    "for n = 1:5\n",
    "    m = 50;\n",
    "    U = orth(randn(m, m));\n",
    "    V = orth(randn(m, m));\n",
    "    s = sort(rand(m,1), 'descend');\n",
    "    S = zeros(m);\n",
    "    for i = 1:m\n",
    "        S(i,i) = s(i);\n",
    "    end\n",
    "    A = U*S*V';\n",
    "    cond_numbers(n) = cond(A);\n",
    "    [U2, S2, V2] = svd(A);\n",
    "    signs = diag(U2'*U);\n",
    "    for i = 1:m\n",
    "        if signs(i) < 0\n",
    "            U2(:,i) = 0 - U2(:,i);\n",
    "            V2(:,i) = 0 - V2(:,i);\n",
    "        end\n",
    "    end\n",
    "    errors(n, 1) = norm(U-U2);\n",
    "    errors(n, 2) = norm(V-V2);\n",
    "    errors(n, 3) = norm(S-S2);\n",
    "    errors(n, 4) = norm(A-U2*S2*V2');\n",
    "end\n",
    "format longE\n",
    "errors\n",
    "cond_numbers"
   ]
  },
  {
   "cell_type": "markdown",
   "metadata": {},
   "source": [
    "### It seems that $norm(U-U2)$ and $norm(V-V2)$ depend on the condition number of A, the larger $cond(A)$ is, the larger $norm(U-U2)$ and $norm(V-V2)$ are. But $norm(V-V2)$ and $norm(A-U2*S2*V2')$ don't depend on $cond(A)$"
   ]
  },
  {
   "cell_type": "code",
   "execution_count": 13,
   "metadata": {
    "collapsed": false
   },
   "outputs": [
    {
     "name": "stdout",
     "output_type": "stream",
     "text": [
      "ans =\n",
      "\n",
      "     9.717515598644967e-01\n",
      "\n",
      "\n",
      "ans =\n",
      "\n",
      "     8.959271001985273e-01\n",
      "\n",
      "\n",
      "ans =\n",
      "\n",
      "     9.494413834106964e-01\n",
      "\n",
      "\n",
      "ans =\n",
      "\n",
      "     9.087548342648933e-01\n",
      "\n",
      "\n",
      "ans =\n",
      "\n",
      "     9.048660929258521e-01\n",
      "\n",
      "\n",
      "errors =\n",
      "\n",
      "  Columns 1 through 3\n",
      "\n",
      "     3.999062291220652e-07     5.265832891956787e-07     1.554312234475219e-15\n",
      "     3.449928122407724e-05     6.140507539628421e-05     1.554312234475219e-15\n",
      "     5.420289658487123e-07     1.819845576668379e-07     1.443289932012704e-15\n",
      "     1.098944328136682e-08     1.171840110684880e-08     1.887379141862766e-15\n",
      "     9.151086249519454e-10     8.827889600075945e-10     1.776356839400250e-15\n",
      "\n",
      "  Column 4\n",
      "\n",
      "     3.029160294968753e-15\n",
      "     1.831218247335280e-15\n",
      "     9.404494269441365e-15\n",
      "     1.535888541761685e-15\n",
      "     2.205487017765277e-15\n",
      "\n",
      "\n",
      "cond_numbers =\n",
      "\n",
      "     5.346230123487951e+15\n",
      "     1.615002420685592e+15\n",
      "     1.481147457051440e+11\n",
      "     1.519190288766375e+13\n",
      "     2.227039757497920e+08\n"
     ]
    }
   ],
   "source": [
    "errors = zeros(5, 4);\n",
    "cond_numbers = zeros(5, 1);\n",
    "for n = 1:5\n",
    "    m = 50;\n",
    "    U = orth(randn(m, m));\n",
    "    V = orth(randn(m, m));\n",
    "    s = sort(rand(m,1), 'descend');\n",
    "    S = zeros(m);\n",
    "    for i = 1:m\n",
    "        S(i,i) = s(i)^6;\n",
    "    end\n",
    "    A = U*S*V';\n",
    "    cond_numbers(n) = cond(A);\n",
    "    [U2, S2, V2] = svd(A);\n",
    "    signs = diag(U2'*U);\n",
    "    for i = 1:m\n",
    "        if signs(i) < 0\n",
    "            U2(:,i) = 0 - U2(:,i);\n",
    "            V2(:,i) = 0 - V2(:,i);\n",
    "        end\n",
    "    end\n",
    "    errors(n, 1) = norm(U-U2);\n",
    "    errors(n, 2) = norm(V-V2);\n",
    "    errors(n, 3) = norm(S-S2);\n",
    "    errors(n, 4) = norm(A-U2*S2*V2');\n",
    "end\n",
    "format longE\n",
    "errors\n",
    "cond_numbers"
   ]
  },
  {
   "cell_type": "code",
   "execution_count": null,
   "metadata": {
    "collapsed": false
   },
   "outputs": [],
   "source": [
    "### If we increase the condition number of A, the accuracy of U2 and V2 decreases, but "
   ]
  },
  {
   "cell_type": "code",
   "execution_count": null,
   "metadata": {
    "collapsed": true
   },
   "outputs": [],
   "source": []
  }
 ],
 "metadata": {
  "kernelspec": {
   "display_name": "Matlab",
   "language": "matlab",
   "name": "matlab"
  },
  "language_info": {
   "codemirror_mode": "octave",
   "file_extension": ".m",
   "help_links": [
    {
     "text": "MetaKernel Magics",
     "url": "https://github.com/calysto/metakernel/blob/master/metakernel/magics/README.md"
    }
   ],
   "mimetype": "text/x-octave",
   "name": "matlab",
   "version": "0.11.0"
  }
 },
 "nbformat": 4,
 "nbformat_minor": 1
}
