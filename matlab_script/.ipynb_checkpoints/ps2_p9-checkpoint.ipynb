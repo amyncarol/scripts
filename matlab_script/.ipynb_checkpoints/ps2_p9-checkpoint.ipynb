{
 "cells": [
  {
   "cell_type": "markdown",
   "metadata": {},
   "source": [
    "# Problem 9"
   ]
  },
  {
   "cell_type": "code",
   "execution_count": 1,
   "metadata": {
    "collapsed": false
   },
   "outputs": [],
   "source": [
    "m = 50;\n",
    "n = 12;\n",
    "t = linspace(0, 1, m);\n",
    "A = fliplr(vander(t));\n",
    "A = A(:,1:n);\n",
    "b  = cos(4*t)';\n",
    "format long;"
   ]
  },
  {
   "cell_type": "code",
   "execution_count": 2,
   "metadata": {
    "collapsed": false
   },
   "outputs": [
    {
     "name": "stdout",
     "output_type": "stream",
     "text": [
      "x1 =\n",
      "\n",
      "   0.999999990614842\n",
      "   0.000002452799650\n",
      "  -8.000086290222040\n",
      "   0.001196064273402\n",
      "  10.658041828075412\n",
      "   0.036784661286231\n",
      "  -5.788630034313583\n",
      "   0.180862660210075\n",
      "   1.394084334682739\n",
      "   0.224454595637383\n",
      "  -0.464571783079653\n",
      "   0.104217905167871\n"
     ]
    }
   ],
   "source": [
    "x1 = (A'*A) \\ (A'*b) %via normal equations\n"
   ]
  },
  {
   "cell_type": "code",
   "execution_count": 3,
   "metadata": {
    "collapsed": false
   },
   "outputs": [
    {
     "name": "stdout",
     "output_type": "stream",
     "text": [
      "x2 =\n",
      "\n",
      "   0.999999998015051\n",
      "   0.000000469488510\n",
      "  -8.000014958545339\n",
      "   0.000180490884696\n",
      "  10.665594073595351\n",
      "   0.003549254721040\n",
      "  -5.696455740821943\n",
      "   0.015326533370465\n",
      "   1.586291350737795\n",
      "   0.085168775293474\n",
      "  -0.407298167572026\n",
      "   0.094014303430907\n"
     ]
    }
   ],
   "source": [
    "[Q, R] = mgs(A); %QR by GS\n",
    "x2 = R \\ (Q'*b)"
   ]
  },
  {
   "cell_type": "code",
   "execution_count": 4,
   "metadata": {
    "collapsed": false
   },
   "outputs": [
    {
     "name": "stdout",
     "output_type": "stream",
     "text": [
      "x3 =\n",
      "\n",
      "   1.000000000996588\n",
      "  -0.000000422742266\n",
      "  -7.999981235698454\n",
      "  -0.000318763118336\n",
      "  10.669430795282686\n",
      "  -0.013820285825107\n",
      "  -5.647075632435818\n",
      "  -0.075316016284615\n",
      "   1.693606955061810\n",
      "   0.006032114362371\n",
      "  -0.374241705589680\n",
      "   0.088040576429058\n"
     ]
    }
   ],
   "source": [
    "[W, R] = house(A); %QR by house and formQ\n",
    "Q = formQ(W);\n",
    "R = R(1:n,:);\n",
    "Q = Q(:,1:n);\n",
    "x3 = R \\ (Q'*b)"
   ]
  },
  {
   "cell_type": "code",
   "execution_count": 5,
   "metadata": {
    "collapsed": false
   },
   "outputs": [
    {
     "name": "stdout",
     "output_type": "stream",
     "text": [
      "x4 =\n",
      "\n",
      "   1.000000000996610\n",
      "  -0.000000422743121\n",
      "  -7.999981235683856\n",
      "  -0.000318763251387\n",
      "  10.669430796013009\n",
      "  -0.013820288399245\n",
      "  -5.647075626416855\n",
      "  -0.075316025716648\n",
      "   1.693606964851733\n",
      "   0.006032107906986\n",
      "  -0.374241703141415\n",
      "   0.088040576022426\n"
     ]
    }
   ],
   "source": [
    "[Q, R] = qr(A); %QR by matlab qr\n",
    "R = R(1:n,:);\n",
    "Q = Q(:,1:n);\n",
    "x4 = R \\ (Q'*b)"
   ]
  },
  {
   "cell_type": "code",
   "execution_count": 6,
   "metadata": {
    "collapsed": false
   },
   "outputs": [
    {
     "name": "stdout",
     "output_type": "stream",
     "text": [
      "x5 =\n",
      "\n",
      "   1.000000000996607\n",
      "  -0.000000422743317\n",
      "  -7.999981235677461\n",
      "  -0.000318763331109\n",
      "  10.669430796544781\n",
      "  -0.013820290543073\n",
      "  -5.647075620881788\n",
      "  -0.075316035084123\n",
      "   1.693606975197815\n",
      "   0.006032100723193\n",
      "  -0.374241700294705\n",
      "   0.088040575531418\n"
     ]
    }
   ],
   "source": [
    "x5 = A \\ b  %matlab \\"
   ]
  },
  {
   "cell_type": "code",
   "execution_count": 7,
   "metadata": {
    "collapsed": false
   },
   "outputs": [
    {
     "name": "stdout",
     "output_type": "stream",
     "text": [
      "x6 =\n",
      "\n",
      "   1.000000000996609\n",
      "  -0.000000422743096\n",
      "  -7.999981235684206\n",
      "  -0.000318763248673\n",
      "  10.669430796001851\n",
      "  -0.013820288374727\n",
      "  -5.647075626439904\n",
      "  -0.075316025730186\n",
      "   1.693606964911086\n",
      "   0.006032107842733\n",
      "  -0.374241703109375\n",
      "   0.088040576016124\n"
     ]
    }
   ],
   "source": [
    "[U, S, V] = svd(A);\n",
    "U = U(:,1:n);\n",
    "S = S(1:n,:);\n",
    "w = S \\ (U'*b);\n",
    "x6 = V*w"
   ]
  },
  {
   "cell_type": "markdown",
   "metadata": {},
   "source": [
    "##### Let's compare how close these x's are......"
   ]
  },
  {
   "cell_type": "code",
   "execution_count": 8,
   "metadata": {
    "collapsed": false
   },
   "outputs": [
    {
     "name": "stdout",
     "output_type": "stream",
     "text": [
      "norm(x1-x2)=0.311110000007273\n",
      "norm(x1-x3)=0.483943640607072\n",
      "norm(x1-x4)=0.483943657090636\n",
      "norm(x1-x5)=0.483943674098817\n",
      "norm(x1-x6)=0.483943657160152\n",
      "norm(x2-x3)=0.172854863410640\n",
      "norm(x2-x4)=0.172854879867049\n",
      "norm(x2-x5)=0.172854896861448\n",
      "norm(x2-x6)=0.172854879937455\n",
      "norm(x3-x4)=0.000000016614529\n",
      "norm(x3-x5)=0.000000033632474\n",
      "norm(x3-x6)=0.000000016674565\n",
      "norm(x4-x5)=0.000000017037162\n",
      "norm(x4-x6)=0.000000000100822\n",
      "norm(x5-x6)=0.000000016972156\n"
     ]
    }
   ],
   "source": [
    "X = [x1 x2 x3 x4 x5 x6];\n",
    "for i = 1:6\n",
    "    for j = (i+1):6\n",
    "        distance = norm(X(:,i)-X(:,j));\n",
    "        fprintf('norm(x%i-x%i)=%16.15f\\n', i, j, distance)\n",
    "    end\n",
    "end"
   ]
  },
  {
   "cell_type": "markdown",
   "metadata": {},
   "source": [
    "#####  It seems #4 (matlab qr) and #6 (matlab svd) are the best. Then #3 (house.m) and #5 (matlab \\\\) follows. #1 (normal equations) and #2 (mgs.m) are not good....\n",
    "#### Then let's see how the errors accumulate:"
   ]
  },
  {
   "cell_type": "code",
   "execution_count": null,
   "metadata": {
    "collapsed": false
   },
   "outputs": [],
   "source": [
    "err = zeros(12, 6) %entry-wise error from x6(svd)\n",
    "for l = 1:n\n",
    "    for i = 1:6\n",
    "        distance = norm(X(l,i)-X(l,6));\n",
    "        err(l, i) = distance;\n",
    "    end\n",
    "end\n",
    "err\n"
   ]
  },
  {
   "cell_type": "code",
   "execution_count": null,
   "metadata": {
    "collapsed": true
   },
   "outputs": [],
   "source": []
  }
 ],
 "metadata": {
  "kernelspec": {
   "display_name": "Matlab",
   "language": "matlab",
   "name": "matlab"
  },
  "language_info": {
   "codemirror_mode": "octave",
   "file_extension": ".m",
   "help_links": [
    {
     "text": "MetaKernel Magics",
     "url": "https://github.com/calysto/metakernel/blob/master/metakernel/magics/README.md"
    }
   ],
   "mimetype": "text/x-octave",
   "name": "matlab",
   "version": "0.11.0"
  }
 },
 "nbformat": 4,
 "nbformat_minor": 1
}
