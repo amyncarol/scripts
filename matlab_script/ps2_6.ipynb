{
 "cells": [
  {
   "cell_type": "code",
   "execution_count": null,
   "metadata": {
    "collapsed": true
   },
   "outputs": [],
   "source": [
    "function [Q,R] = clgs_mm(A)\n",
    "%CLGS Classical Gram-Schmidt\n",
    "%   [Q,R]=CLSG(A) computes the reduced QR factorization of A\n",
    "%   using the classical Gram-Schmidt algorithm.\n",
    "\n",
    "% UC Berkeley Math 221, Per-Olof Persson <persson@berkeley.edu>\n",
    "\n",
    "% inner loop replaced by matrix multification\n",
    "\n",
    "[m,n] = size(A);\n",
    "Q = zeros(m,n);\n",
    "R = zeros(n,n);\n",
    "for j = 1:n\n",
    "    v = A(:,j);\n",
    "    R(1:j-1,j) = Q(:,1:j-1)' * v; %calculate Rij's\n",
    "    v = v - Q(:,1:j-1) * R(1:j-1,j);  %substract all the components of a in previous q\n",
    "    R(j,j) = norm(v);\n",
    "    Q(:,j) = v / R(j,j);\n",
    "end"
   ]
  },
  {
   "cell_type": "code",
   "execution_count": 1,
   "metadata": {
    "collapsed": false
   },
   "outputs": [
    {
     "name": "stderr",
     "output_type": "stream",
     "text": [
      "\u001b[0;31mError: Function definitions are not permitted in this context.\n",
      "\u001b[0m"
     ]
    }
   ],
   "source": [
    "function [Q,R] = mgs_mm(A)\n",
    "%MGS Modified Gram-Schmidt\n",
    "%   [Q,R]=MGS(A) computes the reduced QR factorization of A\n",
    "%   using the modified Gram-Schmidt algorithm.\n",
    "\n",
    "% UC Berkeley Math 221, Per-Olof Persson <persson@berkeley.edu>\n",
    "\n",
    "% inner loop replaced by matrix multification\n",
    "\n",
    "[m,n] = size(A);\n",
    "V = A;\n",
    "Q = zeros(m,n);\n",
    "R = zeros(n,n);\n",
    "for i = 1:n\n",
    "    R(i,i) = norm(V(:,i));\n",
    "    Q(:,i) = V(:,i) / R(i,i);\n",
    "    R(i,i+1:n) = Q(:,i)' * V(:,i+1:n); %calculate all rij(j>i) for this qi\n",
    "    V(:,i+1:n) = V(:,i+1:n) - Q(:,i) * R(i,i+1:n); %substract components of all future a's in the direction of this qi   \n",
    "end"
   ]
  },
  {
   "cell_type": "code",
   "execution_count": 1,
   "metadata": {
    "collapsed": false
   },
   "outputs": [
    {
     "name": "stdout",
     "output_type": "stream",
     "text": [
      "ans =\n",
      "\n",
      "   1.3229e-15\n",
      "\n",
      "\n",
      "ans =\n",
      "\n",
      "   2.9130e-16\n"
     ]
    }
   ],
   "source": [
    "%test clgs_mm, showing the equivalence of for loop and matrix multification\n",
    "A = randn(5);\n",
    "[Q1, R1] = clgs(A);\n",
    "[Q2, R2] = clgs_mm(A);\n",
    "norm(Q1-Q2)\n",
    "norm(R1-R2)"
   ]
  },
  {
   "cell_type": "code",
   "execution_count": 2,
   "metadata": {
    "collapsed": false
   },
   "outputs": [
    {
     "name": "stdout",
     "output_type": "stream",
     "text": [
      "ans =\n",
      "\n",
      "   5.4489e-16\n",
      "\n",
      "\n",
      "ans =\n",
      "\n",
      "   5.7812e-16\n"
     ]
    }
   ],
   "source": [
    "%test mgs_mm, showing the equivalence of for loop and matrix multification\n",
    "A = randn(5);\n",
    "[Q1, R1] = mgs(A);\n",
    "[Q2, R2] = mgs_mm(A);\n",
    "norm(Q1-Q2)\n",
    "norm(R1-R2)"
   ]
  },
  {
   "cell_type": "markdown",
   "metadata": {},
   "source": [
    "##### If we just replace $a_j$ in classical GS with $v_j$, there is no way the inner loop can be replaced by matrix multification. Since $v_j$ is updated in every step in the inner loop, the calculation of $r_{ij}$ needs the $v_j$ in the previous step, there is no way to get $r_{2j}$ without getting $r_{1j}$ first, so this inner loop is not parallelizable and cannot be written as matrix multification."
   ]
  },
  {
   "cell_type": "code",
   "execution_count": null,
   "metadata": {
    "collapsed": true
   },
   "outputs": [],
   "source": []
  }
 ],
 "metadata": {
  "kernelspec": {
   "display_name": "Matlab",
   "language": "matlab",
   "name": "matlab"
  },
  "language_info": {
   "codemirror_mode": "octave",
   "file_extension": ".m",
   "help_links": [
    {
     "text": "MetaKernel Magics",
     "url": "https://github.com/calysto/metakernel/blob/master/metakernel/magics/README.md"
    }
   ],
   "mimetype": "text/x-octave",
   "name": "matlab",
   "version": "0.11.0"
  }
 },
 "nbformat": 4,
 "nbformat_minor": 1
}
