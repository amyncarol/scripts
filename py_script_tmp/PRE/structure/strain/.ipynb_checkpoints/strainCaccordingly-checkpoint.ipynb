{
 "cells": [
  {
   "cell_type": "code",
   "execution_count": 1,
   "metadata": {
    "collapsed": false
   },
   "outputs": [],
   "source": [
    "from pymatgen import core\n",
    "from pymatgen.core import sites\n",
    "from pymatgen.symmetry import analyzer\n",
    "from pymatgen.symmetry.analyzer import SpacegroupAnalyzer\n",
    "from pymatgen.io.smartio import read_structure, write_structure\n",
    "from pymatgen.io import vaspio_set\n",
    "import os\n",
    "import shutil\n",
    "import copy\n",
    "import numpy as np\n",
    "from pymatgen.transformations import standard_transformations"
   ]
  },
  {
   "cell_type": "code",
   "execution_count": 2,
   "metadata": {
    "collapsed": false
   },
   "outputs": [
    {
     "name": "stderr",
     "output_type": "stream",
     "text": [
      "-c:1: DeprecationWarning: read_structure is deprecated; use from_file in pymatgen.core.structure instead.\n"
     ]
    }
   ],
   "source": [
    "s1 = read_structure(\"POSCAR-1.vasp\")"
   ]
  },
  {
   "cell_type": "code",
   "execution_count": 3,
   "metadata": {
    "collapsed": false
   },
   "outputs": [],
   "source": [
    "neig = s1.get_all_neighbors(2.5)"
   ]
  },
  {
   "cell_type": "code",
   "execution_count": 4,
   "metadata": {
    "collapsed": false
   },
   "outputs": [],
   "source": [
    "def my_range(start, end, step):\n",
    "\twhile start <= end:\n",
    "\t\tyield start\n",
    "\t\tstart += step"
   ]
  },
  {
   "cell_type": "code",
   "execution_count": 6,
   "metadata": {
    "collapsed": false
   },
   "outputs": [],
   "source": [
    "trans_O_Nb = []\n",
    "for i in range(0,20):   \n",
    "    if (i>=8 and i<=16):\n",
    "        O = s1.sites[i]\n",
    "        for j in [0,1]:\n",
    "            if (abs(neig[i][j][1]-2.087) < 0.005):\n",
    "                Nb = neig[i][j][0]\n",
    "        O_p = O.coords\n",
    "        Nb_p = Nb.coords\n",
    "        trans_O_Nb.append(Nb_p-O_p)\n",
    "    else:\n",
    "        trans_O_Nb.append(0)"
   ]
  },
  {
   "cell_type": "code",
   "execution_count": 11,
   "metadata": {
    "collapsed": false
   },
   "outputs": [],
   "source": [
    "for j in my_range(0,0.05,0.01):\n",
    "    s1_new = copy.deepcopy(s1)\n",
    "    for i in range(8,16):\n",
    "        s1_new.translate_sites(i, trans_O_Nb[i]*j, frac_coords=False)\n",
    "    strain = [0,0,j]\n",
    "    s1_new.apply_strain(strain)\n",
    "    currentFolder = \"strainC_distortBond_\" + \"{:5.3f}\".format(j)\n",
    "    if os.path.exists(currentFolder) :\n",
    "        shutil.rmtree(currentFolder)\n",
    "    os.mkdir(currentFolder)\n",
    "    write_structure(s1_new,\"POSCAR\")\n",
    "    shutil.copy(\"POSCAR\", currentFolder + \"/POSCAR\")\n",
    "    shutil.copy(\"INCAR\", currentFolder + \"/INCAR\")\n",
    "    shutil.copy(\"KPOINTS\", currentFolder + \"/KPOINTS\")\n",
    "    shutil.copy(\"POTCAR\", currentFolder + \"/POTCAR\")"
   ]
  },
  {
   "cell_type": "code",
   "execution_count": 8,
   "metadata": {
    "collapsed": false
   },
   "outputs": [
    {
     "data": {
      "text/plain": [
       "0.048309178743961345"
      ]
     },
     "execution_count": 8,
     "metadata": {},
     "output_type": "execute_result"
    }
   ],
   "source": [
    "2.17/2.07-1"
   ]
  },
  {
   "cell_type": "code",
   "execution_count": null,
   "metadata": {
    "collapsed": false
   },
   "outputs": [],
   "source": []
  }
 ],
 "metadata": {
  "anaconda-cloud": {},
  "kernelspec": {
   "display_name": "Python [default]",
   "language": "python",
   "name": "python3"
  },
  "language_info": {
   "codemirror_mode": {
    "name": "ipython",
    "version": 3
   },
   "file_extension": ".py",
   "mimetype": "text/x-python",
   "name": "python",
   "nbconvert_exporter": "python",
   "pygments_lexer": "ipython3",
   "version": "3.5.2"
  }
 },
 "nbformat": 4,
 "nbformat_minor": 0
}
