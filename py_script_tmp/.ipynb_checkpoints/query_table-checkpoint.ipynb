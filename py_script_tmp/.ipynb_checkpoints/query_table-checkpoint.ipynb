{
 "cells": [
  {
   "cell_type": "code",
   "execution_count": 27,
   "metadata": {
    "collapsed": true
   },
   "outputs": [],
   "source": [
    "from pymatgen.matproj.rest import MPRester\n",
    "import os\n",
    "from pymatgen.core.periodic_table import Element\n",
    "\n",
    "from pandas import DataFrame\n",
    "import pandas as pd\n",
    "def print_full(x):\n",
    "    pd.set_option('display.max_rows', len(x))\n",
    "    print(x)"
   ]
  },
  {
   "cell_type": "code",
   "execution_count": 28,
   "metadata": {
    "collapsed": false
   },
   "outputs": [
    {
     "name": "stdout",
     "output_type": "stream",
     "text": [
      "[u'C', u'Si', u'S', u'Ti', u'Mn', u'Ge', u'Se', u'Zr', u'Mo', u'Ru', u'Pd', u'Sn', u'Te', u'Ce', u'Hf', u'W', u'Re', u'Os', u'Ir', u'Pt', u'Pb', u'Ni']\n"
     ]
    }
   ],
   "source": [
    "B_list = []\n",
    "list_radiation = ['Tc', 'Pm', 'Po', 'At', 'Rn', 'Fr', 'Ra', 'Ac', 'Th', 'Pa', 'U', 'Np', 'Pu', 'Am', 'Cm', 'Bk', 'Cf', 'Es', 'Fm', 'Md', 'No', 'Lr', 'Rf', 'Db', 'Sg', 'Bh', 'Hs', 'Mt', 'Ds', 'Rg', 'Cn', 'Uut', 'Fl', 'Uup', 'Lv', 'Uuo']\n",
    "for z in range(1, 104):\n",
    "    B = Element.from_Z(z)\n",
    "    if 4 in B.common_oxidation_states and B.symbol not in list_radiation:\n",
    "        B_list.append(B.symbol)\n",
    "B_list.append(u'Ni') \n",
    "#B_list = [u'Pt']\n",
    "print B_list"
   ]
  },
  {
   "cell_type": "code",
   "execution_count": 29,
   "metadata": {
    "collapsed": false
   },
   "outputs": [
    {
     "ename": "SyntaxError",
     "evalue": "invalid syntax (<ipython-input-29-6e2999fbf599>, line 5)",
     "output_type": "error",
     "traceback": [
      "\u001b[0;36m  File \u001b[0;32m\"<ipython-input-29-6e2999fbf599>\"\u001b[0;36m, line \u001b[0;32m5\u001b[0m\n\u001b[0;31m    for X in [Cl\",\"Br\",\"I\"]:\u001b[0m\n\u001b[0m                  ^\u001b[0m\n\u001b[0;31mSyntaxError\u001b[0m\u001b[0;31m:\u001b[0m invalid syntax\n"
     ]
    }
   ],
   "source": [
    "with MPRester(os.environ['MAPI_KEY']) as m:\n",
    "    results = []\n",
    "    for A in [\"K\",\"Rb\",\"Cs\"]:\n",
    "        for B in B_list:\n",
    "            for X in [\"Cl\",\"Br\",\"I\"]:\n",
    "                print A+\"2\"+B+X+\"6\"\n",
    "                result = m.query(criteria={\"pretty_formula\": A+\"2\"+B+X+\"6\"}, properties=[\"pretty_formula\", \n",
    "                                                                                         \"spacegroup.symbol\",\n",
    "                                                                                         \"nsites\",\n",
    "                                                                                         \"icsd_id\",\n",
    "                                                                                         \"e_above_hull\",\n",
    "                                                                                         \"band_gap\",\n",
    "                                                                                         \"task_id\"\n",
    "                                                                                        ])\n",
    "                if len(result)!=0:\n",
    "                    for i in result:\n",
    "                        results.append(i)"
   ]
  },
  {
   "cell_type": "code",
   "execution_count": null,
   "metadata": {
    "collapsed": false
   },
   "outputs": [],
   "source": [
    "len(results)"
   ]
  },
  {
   "cell_type": "code",
   "execution_count": null,
   "metadata": {
    "collapsed": false,
    "scrolled": true
   },
   "outputs": [],
   "source": [
    "import collections\n",
    "\n",
    "data = collections.defaultdict(list)\n",
    "for e in results:\n",
    "    data[\"Materials ID\"].append(e[\"task_id\"])\n",
    "    data[\"Icsd ID\"].append(str(e[\"icsd_id\"]))\n",
    "    data[\"Formula\"].append(e[\"pretty_formula\"]) \n",
    "    data[\"Spacegroup\"].append(e[\"spacegroup.symbol\"]) \n",
    "    data[\"Nsites\"].append(e[\"nsites\"]) \n",
    "    data[\"Ehull\"].append(e[\"e_above_hull\"]) \n",
    "    data[\"Bandgap\"].append(e[\"band_gap\"]) \n",
    "\n",
    "from pandas import DataFrame\n",
    "import pandas as pd\n",
    "def print_full(x):\n",
    "    pd.set_option('display.max_rows', len(x))\n",
    "    print(x)\n",
    "    \n",
    "df = DataFrame(data, columns=[\n",
    "        \"Materials ID\", \"Icsd ID\", \"Formula\", \"Spacegroup\", \"Nsites\", \"Ehull\", \"Bandgap\"])\n",
    "\n",
    "df\n"
   ]
  },
  {
   "cell_type": "code",
   "execution_count": null,
   "metadata": {
    "collapsed": false
   },
   "outputs": [],
   "source": [
    "import collections\n",
    "\n",
    "data = collections.defaultdict(list)\n",
    "for e in results:\n",
    "    if e[\"band_gap\"] > 0.15 and e[\"band_gap\"] < 1.5:\n",
    "        data[\"Materials ID\"].append(e[\"task_id\"])\n",
    "        data[\"Icsd ID\"].append(str(e[\"icsd_id\"]))\n",
    "        data[\"Formula\"].append(e[\"pretty_formula\"]) \n",
    "        data[\"Spacegroup\"].append(e[\"spacegroup.symbol\"]) \n",
    "        data[\"Nsites\"].append(e[\"nsites\"]) \n",
    "        data[\"Ehull\"].append(e[\"e_above_hull\"]) \n",
    "        data[\"Bandgap\"].append(e[\"band_gap\"]) \n",
    "\n",
    "from pandas import DataFrame\n",
    "df = DataFrame(data, columns=[\n",
    "        \"Materials ID\", \"Icsd ID\", \"Formula\", \"Spacegroup\", \"Nsites\", \"Ehull\", \"Bandgap\"])\n",
    "\n",
    "df"
   ]
  },
  {
   "cell_type": "code",
   "execution_count": null,
   "metadata": {
    "collapsed": true
   },
   "outputs": [],
   "source": []
  }
 ],
 "metadata": {
  "kernelspec": {
   "display_name": "Python 2",
   "language": "python",
   "name": "python2"
  },
  "language_info": {
   "codemirror_mode": {
    "name": "ipython",
    "version": 2
   },
   "file_extension": ".py",
   "mimetype": "text/x-python",
   "name": "python",
   "nbconvert_exporter": "python",
   "pygments_lexer": "ipython2",
   "version": "2.7.9"
  }
 },
 "nbformat": 4,
 "nbformat_minor": 1
}
