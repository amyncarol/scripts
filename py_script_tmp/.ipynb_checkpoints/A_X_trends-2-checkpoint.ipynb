{
 "cells": [
  {
   "cell_type": "code",
   "execution_count": 1,
   "metadata": {
    "collapsed": false
   },
   "outputs": [
    {
     "data": {
      "text/plain": [
       "u'/Users/yao/Google Drive/py_script/matplotlibrc'"
      ]
     },
     "execution_count": 1,
     "metadata": {},
     "output_type": "execute_result"
    }
   ],
   "source": [
    "import numpy as np\n",
    "import matplotlib.pyplot as plt\n",
    "import re\n",
    "from matplotlib import rc\n",
    "import matplotlib\n",
    "matplotlib.matplotlib_fname()"
   ]
  },
  {
   "cell_type": "code",
   "execution_count": 18,
   "metadata": {
    "collapsed": false
   },
   "outputs": [],
   "source": [
    "compounds = np.array(['K','Rb','Cs'])\n",
    "Eg_A2SnI6_cubic = np.array([0.0673, 0.1534, 0.2883])\n",
    "Eg_A2PtI6_cubic = np.array([0.4242, 0.5144, 0.6561])\n",
    "Eg_A2TeI6_cubic = np.array([1.2709, 1.3406, 1.5068])\n",
    "\n",
    "Eg_A2SnI6_tetra = np.array([0.6576, 0.6714, 0.3674])\n",
    "Eg_A2PtI6_tetra = np.array([0.9131, 0.7456,  0.6174])\n",
    "Eg_A2TeI6_tetra = np.array([1.7005, 1.6936, 1.4475])\n",
    "\n",
    "Eg_A2SnI6_diff = Eg_A2SnI6_tetra-Eg_A2SnI6_cubic\n",
    "Eg_A2PtI6_diff = Eg_A2PtI6_tetra-Eg_A2PtI6_cubic\n",
    "Eg_A2TeI6_diff = Eg_A2TeI6_tetra-Eg_A2TeI6_cubic"
   ]
  },
  {
   "cell_type": "code",
   "execution_count": null,
   "metadata": {
    "collapsed": false
   },
   "outputs": [],
   "source": [
    "comp = np.arange(len(compounds))\n",
    "comp2 = comp+4\n",
    "comp3 = comp+8\n",
    "\n",
    "comp_tetra = comp+0.3\n",
    "comp_tetra2 = comp2+0.3\n",
    "comp_tetra3 = comp3+0.3\n",
    "\n",
    "fig, ax = plt.subplots()\n",
    "\n",
    "plt.bar(comp, Eg_A2SnI6_cubic, width=0.3, align='center', label = 'cubic')\n",
    "plt.bar(comp2, Eg_A2PtI6_cubic, width=0.3, align='center')\n",
    "plt.bar(comp3, Eg_A2TeI6_cubic, width=0.3, align='center')\n",
    "plt.bar(comp_tetra, Eg_A2SnI6_tetra, width=0.3,  align='center', color='r', label = 'tetragonal')\n",
    "plt.bar(comp_tetra2, Eg_A2PtI6_tetra, width=0.3, align='center', color='r')\n",
    "plt.bar(comp_tetra3, Eg_A2TeI6_tetra,  width=0.3, align='center', color='r')\n",
    "compounds_list = np.array([r'$K_2SnI_6$',r'$Rb_2SnI_6$',r'$Cs_2SnI_6$',\n",
    "                           r'$K_2PtI_6$',r'$Rb_2PtI_6$',r'$Cs_2PtI_6$', \n",
    "                           r'$K_2TeI_6$',r'$Rb_2TeI_6$',r'$Cs_2TeI_6$'])\n",
    "\n",
    "plt.xticks(np.concatenate((comp+0.3,comp2+0.3,comp3+0.3)), compounds_list, rotation=45, fontsize = 14)\n",
    "plt.legend(loc='upper left', fontsize = 14)\n",
    "plt.yticks(fontsize = 20)\n",
    "ax.set_ylabel('band gap (eV)', fontsize = 20)\n",
    "plt.show()"
   ]
  },
  {
   "cell_type": "code",
   "execution_count": null,
   "metadata": {
    "collapsed": true
   },
   "outputs": [],
   "source": []
  },
  {
   "cell_type": "code",
   "execution_count": 2,
   "metadata": {
    "collapsed": false
   },
   "outputs": [],
   "source": [
    "compounds = np.array(['Cl','Br','I'])\n",
    "Eg_Cs2SnX6_cubic = np.array([2.691, 1.4799, 0.2883])\n",
    "Eg_Cs2PtX6_cubic = np.array([2.0043, 1.4145, 0.6561])\n",
    "Eg_Cs2TeX6_cubic = np.array([2.7936, 2.2077, 1.5068])\n",
    "\n",
    "Eg_Cs2SnX6_tetra = np.array([2.6889, 1.4698, 0.3674])\n",
    "Eg_Cs2PtX6_tetra = np.array([1.9791, 1.3777, 0.6174])\n",
    "Eg_Cs2TeX6_tetra = np.array([2.8284, 2.2214, 1.4475])"
   ]
  },
  {
   "cell_type": "code",
   "execution_count": null,
   "metadata": {
    "collapsed": false
   },
   "outputs": [],
   "source": [
    "comp = np.arange(len(compounds))\n",
    "comp2 = comp+4\n",
    "comp3 = comp+8\n",
    "\n",
    "comp_tetra = comp+0.3\n",
    "comp_tetra2 = comp2+0.3\n",
    "comp_tetra3 = comp3+0.3\n",
    "\n",
    "fig, ax = plt.subplots()\n",
    "\n",
    "plt.bar(comp, Eg_Cs2SnX6_cubic, width=0.3, align='center', label = 'cubic')\n",
    "plt.bar(comp2, Eg_Cs2PtX6_cubic, width=0.3, align='center')\n",
    "plt.bar(comp3, Eg_Cs2TeX6_cubic, width=0.3, align='center')\n",
    "plt.bar(comp_tetra, Eg_Cs2SnX6_tetra, width=0.3,  align='center', color='r', label = 'tetragonal')\n",
    "plt.bar(comp_tetra2, Eg_Cs2PtX6_tetra, width=0.3, align='center', color='r')\n",
    "plt.bar(comp_tetra3, Eg_Cs2TeX6_tetra,  width=0.3, align='center', color='r')\n",
    "compounds_list = np.array([r'$Cs_2SnCl_6$',r'$Cs_2SnBr_6$',r'$Cs_2SnI_6$',\n",
    "                           r'$Cs_2PtCl_6$',r'$Cs_2PtBr_6$',r'$Cs_2PtI_6$', \n",
    "                           r'$Cs_2TeCl_6$',r'$Cs_2TeBr_6$',r'$Cs_2TeI_6$'])\n",
    "\n",
    "plt.xticks(np.concatenate((comp+0.3,comp2+0.3,comp3+0.3)), compounds_list, rotation=45, fontsize = 14)\n",
    "plt.legend(loc='upper center', fontsize = 14)\n",
    "plt.yticks(fontsize = 20)\n",
    "ax.set_ylabel('band gap (eV)', fontsize = 20)\n",
    "plt.show()"
   ]
  },
  {
   "cell_type": "code",
   "execution_count": null,
   "metadata": {
    "collapsed": false
   },
   "outputs": [],
   "source": []
  },
  {
   "cell_type": "code",
   "execution_count": null,
   "metadata": {
    "collapsed": false
   },
   "outputs": [],
   "source": [
    "compounds = np.array(['Cl','Br','I'])\n",
    "Eg_Rb2SnX6_cubic = np.array([2.5649, 1.3267, 0.1534])\n",
    "Eg_Rb2PtX6_cubic = np.array([1.8845, 1.2524, 0.5144])\n",
    "Eg_Rb2TeX6_cubic = np.array([2.6833, 2.0808, 1.3406])\n",
    "\n",
    "Eg_Rb2SnX6_tetra = np.array([2.5897, 1.545, 0.6714])\n",
    "Eg_Rb2PtX6_tetra = np.array([1.8499, 1.2272, 0.7456])\n",
    "Eg_Rb2TeX6_tetra = np.array([2.8375, 2.2754, 1.6936])"
   ]
  },
  {
   "cell_type": "code",
   "execution_count": null,
   "metadata": {
    "collapsed": false
   },
   "outputs": [],
   "source": []
  },
  {
   "cell_type": "code",
   "execution_count": null,
   "metadata": {
    "collapsed": false
   },
   "outputs": [],
   "source": [
    "compounds = np.array(['Cl','Br','I'])\n",
    "Eg_K2SnX6_cubic = np.array([2.4873, 1.2309, 0.0673])\n",
    "Eg_K2PtX6_cubic = np.array([1.7925, 1.1499, 0.4242])\n",
    "Eg_K2TeX6_cubic = np.array([2.6046, 2.0112, 1.2709])\n",
    "\n",
    "Eg_K2SnX6_tetra = np.array([2.7104, 1.5671, 0.6576])\n",
    "Eg_K2PtX6_tetra = np.array([1.805, 1.3595, 0.9131])\n",
    "Eg_K2TeX6_tetra = np.array([2.8346, 2.2972, 1.7005])"
   ]
  },
  {
   "cell_type": "code",
   "execution_count": null,
   "metadata": {
    "collapsed": true
   },
   "outputs": [],
   "source": []
  },
  {
   "cell_type": "code",
   "execution_count": null,
   "metadata": {
    "collapsed": true
   },
   "outputs": [],
   "source": []
  }
 ],
 "metadata": {
  "kernelspec": {
   "display_name": "Python 2",
   "language": "python",
   "name": "python2"
  },
  "language_info": {
   "codemirror_mode": {
    "name": "ipython",
    "version": 2
   },
   "file_extension": ".py",
   "mimetype": "text/x-python",
   "name": "python",
   "nbconvert_exporter": "python",
   "pygments_lexer": "ipython2",
   "version": "2.7.9"
  }
 },
 "nbformat": 4,
 "nbformat_minor": 0
}
