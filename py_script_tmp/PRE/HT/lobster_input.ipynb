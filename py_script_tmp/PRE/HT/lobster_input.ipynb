{
 "cells": [
  {
   "cell_type": "code",
   "execution_count": 22,
   "metadata": {
    "collapsed": false
   },
   "outputs": [],
   "source": [
    "import re\n",
    "import numpy as np\n",
    "import shutil\n",
    "import os\n",
    "econfig = {'K_sv':'3s 3p 4s','Rb_sv':'4s 4p 5s','Cs_sv': '5s 5p 6s',\\\n",
    "           'Cu_pv':'3p 3d 4s','Ag': '4d 5s','Au':'5d 6s',\\\n",
    "           'Sc_sv': '3s 3p 3d 4s','Y_sv':'4s 4p 4d 5s',\\\n",
    "           'Al':'3s sp','Ga_d':'3d 4s 4p','In_d':'4d 5s 5p','Tl_d':'5d 6s 6p',\\\n",
    "           'As':'4s 4p','Sb':'5s 5p','Bi':'6s 6p',\\\n",
    "           'Cl':'3s 3p','Br':'4s 4p','I':'5s 5p'}\n",
    "def get_pot(potcar):\n",
    "    pot_list = []\n",
    "    with open(potcar,'r') as f:\n",
    "        lines = f.readlines()\n",
    "    for l in lines:\n",
    "        m = re.match(r'[ ]*PAW_PBE ',l)\n",
    "        if m:\n",
    "            pot_list.append(l.split()[1])\n",
    "    return pot_list\n",
    "\n",
    "def get_formula(poscar):\n",
    "    e_dict = {}\n",
    "    with open(poscar,'r') as f:\n",
    "        lines = f.readlines()\n",
    "    elements = lines[5].split()\n",
    "    counts = lines[6].split()\n",
    "    for i in range(len(elements)):\n",
    "        e_dict[elements[i]] = int(counts[i])\n",
    "    return e_dict\n",
    "\n",
    "def get_nbands_helper(econfig):\n",
    "    orbital = econfig.split()\n",
    "    nbands = []\n",
    "    for o in orbital:\n",
    "        if re.match('\\ds', o):\n",
    "            nbands.append(1)\n",
    "        if re.match('\\dp', o):\n",
    "            nbands.append(3)\n",
    "        if re.match('\\dd', o):\n",
    "            nbands.append(5)\n",
    "    return sum(nbands)\n",
    "\n",
    "def get_nbands(potcar, poscar):\n",
    "    pot_list = get_pot(potcar)\n",
    "    e_dict = get_formula(poscar)\n",
    "    elements = []\n",
    "    counts = []\n",
    "    for pot in pot_list:\n",
    "        elements.append(pot.split('_')[0])\n",
    "        counts.append(e_dict[pot.split('_')[0]])\n",
    "    \n",
    "    nbands = []\n",
    "    for i in range(len(pot_list)):\n",
    "        nbands.append(get_nbands_helper(econfig[pot_list[i]]))\n",
    "    return sum(np.array(nbands)*np.array(counts))\n",
    "        \n",
    "def get_outcar_nbands(outcar):\n",
    "    with open(outcar,'r') as f:\n",
    "        lines = f.readlines()\n",
    "    for l in lines:\n",
    "        m = re.search(r\"NBANDS=[ ]+([\\d]+)\", l)\n",
    "        if m:\n",
    "            return int((m.group(1)))\n",
    "\n",
    "def write_lobsterin(directory, template, potcar):\n",
    "    shutil.copyfile(template, os.path.join(directory, 'lobsterin')) \n",
    "    pots = get_pot(potcar)\n",
    "    with open(os.path.join(directory, 'lobsterin'),'a') as f:\n",
    "        for pot in pots:\n",
    "            l = 'basisfunctions '+pot.split('_')[0]+' '+econfig[pot] +'\\n'\n",
    "            f.write(l)\n",
    "            \n",
    "def write_incar(directory, template, potcar, poscar):\n",
    "    nbands_min = get_nbands(potcar, poscar)   \n",
    "    shutil.copyfile(template, os.path.join(directory, 'INCAR'))\n",
    "    with open(os.path.join(directory, 'INCAR'),'a') as f:\n",
    "        f.write('NBANDS = ' + str(nbands_min+5) + '\\n')\n",
    "\n",
    "      "
   ]
  },
  {
   "cell_type": "code",
   "execution_count": 21,
   "metadata": {
    "collapsed": false
   },
   "outputs": [
    {
     "name": "stdout",
     "output_type": "stream",
     "text": [
      "Good: 51 >= 49\n"
     ]
    }
   ],
   "source": [
    "potcar = '/Users/yao/Google Drive/data/2116/lobster/test/Cs2Ag1In1Br6-orbitalwise/POTCAR'\n",
    "poscar = '/Users/yao/Google Drive/data/2116/lobster/test/Cs2Ag1In1Br6-orbitalwise/POSCAR'\n",
    "outcar = '/Users/yao/Google Drive/data/2116/lobster/test/Cs2Ag1In1Br6-orbitalwise/OUTCAR'\n",
    "template = '/Users/yao/Google Drive/data/2116/lobster/test/lobsterin_temp'\n",
    "template_incar = '/Users/yao/Google Drive/data/2116/lobster/test/INCAR_temp'\n",
    "directory = '/Users/yao/Google Drive/data/2116/lobster/test/'\n",
    "write_lobsterin(directory, template, potcar)\n",
    "write_incar(directory, template_incar, potcar, poscar)"
   ]
  },
  {
   "cell_type": "code",
   "execution_count": 4,
   "metadata": {
    "collapsed": false
   },
   "outputs": [
    {
     "data": {
      "text/plain": [
       "False"
      ]
     },
     "execution_count": 4,
     "metadata": {},
     "output_type": "execute_result"
    }
   ],
   "source": []
  },
  {
   "cell_type": "code",
   "execution_count": null,
   "metadata": {
    "collapsed": true
   },
   "outputs": [],
   "source": []
  }
 ],
 "metadata": {
  "anaconda-cloud": {},
  "kernelspec": {
   "display_name": "Python [default]",
   "language": "python",
   "name": "python3"
  },
  "language_info": {
   "codemirror_mode": {
    "name": "ipython",
    "version": 3
   },
   "file_extension": ".py",
   "mimetype": "text/x-python",
   "name": "python",
   "nbconvert_exporter": "python",
   "pygments_lexer": "ipython3",
   "version": "3.5.2"
  }
 },
 "nbformat": 4,
 "nbformat_minor": 2
}
