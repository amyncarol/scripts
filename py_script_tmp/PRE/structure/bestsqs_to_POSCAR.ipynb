{
 "metadata": {
  "name": "",
  "signature": "sha256:42b0c541f099117bb9b1c1a22099e93e1e49c918bb7e368ee4f1e2f72c23541b"
 },
 "nbformat": 3,
 "nbformat_minor": 0,
 "worksheets": [
  {
   "cells": [
    {
     "cell_type": "code",
     "collapsed": false,
     "input": [
      "import numpy as np\n",
      "import matplotlib.pyplot as plt\n",
      "import matplotlib.cbook as cbook\n",
      "import re\n",
      "from matplotlib.pyplot import figure, show, axes, sci\n",
      "from matplotlib import cm, colors\n",
      "from matplotlib.font_manager import FontProperties\n",
      "from numpy import amin, amax, ravel\n",
      "import numpy.ma as ma\n",
      "from monty.io import zopen, reverse_readfile"
     ],
     "language": "python",
     "metadata": {},
     "outputs": [],
     "prompt_number": 58
    },
    {
     "cell_type": "code",
     "collapsed": false,
     "input": [
      "sqs_dir = '/Users/yao/Google Drive/data/2116/sqs-Cs2AgSbCl6/range3_nscc/'\n",
      "sqs_file = sqs_dir + 'bestsqs.out'\n",
      "with open(sqs_file, 'r') as f:\n",
      "    latt = []\n",
      "    Cs = []\n",
      "    Ag = []\n",
      "    Sb = []\n",
      "    Cl = []\n",
      "    i = 0\n",
      "    for line in f:\n",
      "        if i >= 3 and i < 6:\n",
      "            latt.append([float(line.split()[0]),float(line.split()[1]),float(line.split()[2])])\n",
      "        if i >= 6:\n",
      "            if line.split()[3] == 'b_A':\n",
      "                Cs.append([float(line.split()[0]),float(line.split()[1]),float(line.split()[2])])\n",
      "            if line.split()[3] == 'a_A':\n",
      "                Ag.append([float(line.split()[0]),float(line.split()[1]),float(line.split()[2])])   \n",
      "            if line.split()[3] == 'a_B':\n",
      "                Sb.append([float(line.split()[0]),float(line.split()[1]),float(line.split()[2])]) \n",
      "            if line.split()[3] == 'd_A':\n",
      "                Cl.append([float(line.split()[0]),float(line.split()[1]),float(line.split()[2])])\n",
      "        i = i + 1"
     ],
     "language": "python",
     "metadata": {},
     "outputs": [],
     "prompt_number": 59
    },
    {
     "cell_type": "code",
     "collapsed": false,
     "input": [
      "latt[0]"
     ],
     "language": "python",
     "metadata": {},
     "outputs": [
      {
       "metadata": {},
       "output_type": "pyout",
       "prompt_number": 12,
       "text": [
        "[-1.0, 1.0, -1.0]"
       ]
      }
     ],
     "prompt_number": 12
    },
    {
     "cell_type": "code",
     "collapsed": false,
     "input": [
      "with open(sqs_dir + 'POSCAR.vasp', \"w\") as f:\n",
      "    lines = sqs_file + \"\\n\"\n",
      "    lines += \"5.425800000\\n\"\n",
      "    lines += '{:f} {:f} {:f}\\n'.format(latt[0][0],latt[0][1],latt[0][2])\n",
      "    lines += '{:f} {:f} {:f}\\n'.format(latt[1][0],latt[1][1],latt[1][2])\n",
      "    lines += '{:f} {:f} {:f}\\n'.format(latt[2][0],latt[2][1],latt[2][2])\n",
      "    lines += \" Cs Ag Sb Cl \\n\"\n",
      "    lines += \" %6d%6d%6d%6d \\n\" % (len(Cs), len(Ag), len(Sb), len(Cl))\n",
      "    lines += \"Cartesian \\n\"\n",
      "    for i in np.arange(len(Cs)):\n",
      "        lines += '{:f} {:f} {:f} Cs\\n'.format(Cs[i][0],Cs[i][1],Cs[i][2])\n",
      "    for i in np.arange(len(Ag)):\n",
      "        lines += '{:f} {:f} {:f} Ag\\n'.format(Ag[i][0],Ag[i][1],Ag[i][2])\n",
      "    for i in np.arange(len(Sb)):\n",
      "        lines += '{:f} {:f} {:f} Sb\\n'.format(Sb[i][0],Sb[i][1],Sb[i][2])\n",
      "    for i in np.arange(len(Cl)):\n",
      "        lines += '{:f} {:f} {:f} Cl\\n'.format(Cl[i][0],Cl[i][1],Cl[i][2])\n",
      "    f.write(lines)"
     ],
     "language": "python",
     "metadata": {},
     "outputs": [],
     "prompt_number": 60
    },
    {
     "cell_type": "code",
     "collapsed": false,
     "input": [
      "lines"
     ],
     "language": "python",
     "metadata": {},
     "outputs": [
      {
       "metadata": {},
       "output_type": "pyout",
       "prompt_number": 36,
       "text": [
        "'/Users/yao/Google Drive/data/2116/sqs-Cs2AgSbCl6/range1/bestsqs.out\\n   5.425800000\\n-1.000000 1.000000 -1.000000\\n1.000000 -1.000000 -1.000000\\n-2.000000 -2.000000 0.000000\\n Cs Ag Sb Cl \\n      8     4     4    24 \\nCartesian \\n-1.500000 -0.500000 -1.500000 Cs\\n-0.500000 -1.500000 -1.500000 Cs\\n-0.500000 -0.500000 -0.500000 Cs\\n-2.500000 -1.500000 -1.500000 Cs\\n-1.500000 -2.500000 -1.500000 Cs\\n-1.500000 -1.500000 -0.500000 Cs\\n-0.500000 -0.500000 -1.500000 Cs\\n-1.500000 -1.500000 -1.500000 Cs\\n'"
       ]
      }
     ],
     "prompt_number": 36
    },
    {
     "cell_type": "code",
     "collapsed": false,
     "input": [],
     "language": "python",
     "metadata": {},
     "outputs": []
    }
   ],
   "metadata": {}
  }
 ]
}