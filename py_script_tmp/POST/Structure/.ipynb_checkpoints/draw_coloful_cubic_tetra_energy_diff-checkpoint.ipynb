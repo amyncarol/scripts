{
 "cells": [
  {
   "cell_type": "code",
   "execution_count": 2,
   "metadata": {
    "collapsed": false
   },
   "outputs": [],
   "source": [
    "import numpy as np\n",
    "import matplotlib.pyplot as plt\n",
    "import matplotlib.cbook as cbook\n",
    "import re\n",
    "from matplotlib.pyplot import figure, show, axes, sci, savefig\n",
    "from matplotlib import cm, colors\n",
    "from matplotlib.font_manager import FontProperties\n",
    "from numpy import amin, amax, ravel\n",
    "import numpy.ma as ma"
   ]
  },
  {
   "cell_type": "code",
   "execution_count": 3,
   "metadata": {
    "collapsed": false
   },
   "outputs": [
    {
     "name": "stdout",
     "output_type": "stream",
     "text": [
      "[-1.13705888888882, 1.639059444444424, 12.42773555555532, 2.3101216666665536, 4.9860744444441, 19.111067222222555, 6.324532777777669, 9.590416111111555, 20.233234999999627, 9.56495722222206, 15.35048388888871, 41.17057388888901, 6.06892499999967, 5.9011261111105995, 10.864088333333743, 2.128652222221916, 2.954612777777754, 15.157656666666686, 2.4151400000000933, 4.337954444444403, 16.01742777777737, 1.6897866666667483, 5.004684444444241, 14.75100722222189, 11.270578333332892, 12.788005555555593, 18.664931666666718, 1.0556544444444427, 0.11084055555610206, 2.423063888889132, 0.9254755555554439, -0.2615850000000641, 7.208273888888783, -0.048329999999818796, 1.243181666666704, 8.20254944444443, 2.4891344444442076, 3.6963483333329883, 19.55555388888852, -0.9041799999995881, 7.212282222222033, -0.8282900000002869, -0.9532033333337075, 0.454994444444079, 2.299266111111198, 1.266301666666969, -0.25955555555512433, 1.7269600000000551, -0.8396211111110219, -0.3218894444443343, 3.6588316666668064, 2.175218888888608, 2.254416666666259, 6.655201111111175, 1.0665188888894228, -0.152673333333464, -0.27962833333283754, 1.0011494444444047, -0.14153000000005633, -0.11450277777758089, 1.0478816666665836, 0.24684500000038412, -0.47330333333350794, 1.1144861111116455, -0.6294655555554307, 3.9128094444444983, 5.787594999999701, 30.215384444444826, 0.7575205555556686, -0.9486444444442022, 3.1503511111110605, 2.3804672222218493, 1.2566505555557939, 0.24911722222231703, -0.22392444444419013, 5.832621111111269, -0.07775277777799516, 1.1147955555554923, 0.8518905555554568, 0.2219183333336261, 1.427018333333585]\n"
     ]
    }
   ],
   "source": [
    "matrix = np.zeros( (3,3,9) )\n",
    "data_tetra = []\n",
    "data_cubic = []\n",
    "ediff = []\n",
    "ratio = []\n",
    "with open('/Users/yao/Google Drive/data/216/tetra-vasprun-files/energy','r') as f:\n",
    "    for line in f:\n",
    "        data_tetra.append(float(line.split()[3]))\n",
    "with open('/Users/yao/Google Drive/data/216/vasprun-files/energy','r') as f:\n",
    "    for line in f:\n",
    "        data_cubic.append(float(line.split()[3]))\n",
    "for i in range(len(data_cubic)):\n",
    "    ediff.append((data_cubic[i]/9-data_tetra[i]/18)*1000)\n",
    "with open('/Users/yao/Google Drive/data/216/ratio_paper_81','r') as f:\n",
    "    for line in f:\n",
    "        ratio.append(float(line.split()[3]))\n",
    "\n",
    "i = 0 \n",
    "for A in ['K','Rb','Cs']:\n",
    "    for B in ['Si','Ge','Sn','Pb','Ni','Pd','Pt','Se','Te']:\n",
    "        for X in ['Cl','Br','I']:\n",
    "            print(A+' '+B+' '+X+' '+str(ediff[i]))\n",
    "            i +=1\n",
    "            \n",
    "    "
   ]
  },
  {
   "cell_type": "code",
   "execution_count": 43,
   "metadata": {
    "collapsed": false
   },
   "outputs": [
    {
     "data": {
      "image/png": "[encoded data removed]",
      "text/plain": [
       "<matplotlib.figure.Figure at 0x117d879e8>"
      ]
     },
     "metadata": {},
     "output_type": "display_data"
    }
   ],
   "source": [
    "plt.plot(ratio, ediff, 'o')\n",
    "plt.ylim([-10,50])\n",
    "plt.show()"
   ]
  },
  {
   "cell_type": "code",
   "execution_count": 44,
   "metadata": {
    "collapsed": false
   },
   "outputs": [],
   "source": [
    "index = 0\n",
    "for a in range(3):\n",
    "    for b in range(9):\n",
    "        for c in range(3):\n",
    "            matrix[c][a][b] = ediff[index]\n",
    "            index = index + 1"
   ]
  },
  {
   "cell_type": "code",
   "execution_count": null,
   "metadata": {
    "collapsed": true
   },
   "outputs": [],
   "source": []
  },
  {
   "cell_type": "code",
   "execution_count": 45,
   "metadata": {
    "collapsed": true
   },
   "outputs": [],
   "source": [
    "masked_matrix = ma.masked_where(matrix<-10000, matrix)"
   ]
  },
  {
   "cell_type": "code",
   "execution_count": 46,
   "metadata": {
    "collapsed": false
   },
   "outputs": [],
   "source": [
    "fig = figure(figsize=(6,4))\n",
    "#cmap = cm.cool\n",
    "w = 1.2\n",
    "h = 0.15\n",
    "ax = []\n",
    "images = []\n",
    "vmin = 1e40\n",
    "vmax = -1e40\n",
    "cax = fig.add_axes([0.8, 0.2, 0.02, 0.5])"
   ]
  },
  {
   "cell_type": "code",
   "execution_count": 47,
   "metadata": {
    "collapsed": false
   },
   "outputs": [],
   "source": [
    "for i in range(3):\n",
    "    pos = [0, 0.56 - i*1.2*h, w, h]\n",
    "    a = fig.add_axes(pos)\n",
    "    plt.yticks(np.arange(3),['K','Rb','Cs'], size='small')\n",
    "    plt.xticks(np.arange(9),[])\n",
    "    if i == 2: \n",
    "        plt.xticks(np.arange(9),['Si','Ge','Sn','Pb','Ni','Pd','Pt','Se','Te'],size='small')\n",
    "    dd = ravel(masked_matrix[i])\n",
    "    # Manually find the min and max of all colors for\n",
    "    # use in setting the color scale.\n",
    "    vmin = min(vmin, amin(dd))\n",
    "    vmax = max(vmax, amax(dd))\n",
    "    images.append(a.imshow(masked_matrix[i],interpolation = 'nearest',aspect=1))\n",
    "\n",
    "    ax.append(a)\n"
   ]
  },
  {
   "cell_type": "code",
   "execution_count": 48,
   "metadata": {
    "collapsed": false
   },
   "outputs": [
    {
     "data": {
      "text/plain": [
       "<matplotlib.text.Text at 0x1184cc908>"
      ]
     },
     "execution_count": 48,
     "metadata": {},
     "output_type": "execute_result"
    }
   ],
   "source": [
    "# Set the first image as the master, with all the others\n",
    "# observing it for changes in cmap or norm.\n",
    "\n",
    "class ImageFollower:\n",
    "    'update image in response to changes in clim or cmap on another image'\n",
    "    def __init__(self, follower):\n",
    "        self.follower = follower\n",
    "    def __call__(self, leader):\n",
    "        self.follower.set_cmap(leader.get_cmap())\n",
    "        self.follower.set_clim(leader.get_clim())\n",
    "norm = colors.Normalize(vmin=vmin, vmax=vmax)\n",
    "\n",
    "for i, im in enumerate(images):\n",
    "    im.set_norm(norm)\n",
    "    if i > 0:\n",
    "        images[0].callbacksSM.connect('changed', ImageFollower(im))\n",
    "fig.colorbar(images[0], cax)\n",
    "axes(ax[0])     # Return the current axes to the first one,\n",
    "sci(images[0])  # because the current image must be in current axes.\n",
    "\n",
    "ax[0].text(1.02, 0.45, \"Cl\",size='small',transform=ax[0].transAxes)\n",
    "ax[1].text(1.02, 0.45, \"Br\",size='small',transform=ax[1].transAxes)\n",
    "ax[2].text(1.02, 0.45, \"I\",size='small',transform=ax[2].transAxes)\n",
    "\n",
    "ax[0].text(1.2, 1.1, \"meV\",size=10,transform=ax[0].transAxes)\n",
    "ax[0].text(-0.16, 1.1, \"b\", size=13,transform=ax[0].transAxes)\n",
    "\n",
    "#savefig('/Users/yao/Desktop/216-figure/energy_new.pdf', dpi=300)\n",
    "#show()"
   ]
  },
  {
   "cell_type": "code",
   "execution_count": 49,
   "metadata": {
    "collapsed": false
   },
   "outputs": [],
   "source": [
    "import pandas as pd\n",
    "with open('/Users/yao/Google Drive/data/216/exp_structure.csv','r') as f:\n",
    "    df = pd.read_csv(f)"
   ]
  },
  {
   "cell_type": "code",
   "execution_count": 50,
   "metadata": {
    "collapsed": true
   },
   "outputs": [],
   "source": [
    "def draw_symbol(spacegroup, ax, x, y):\n",
    "    if spacegroup == 'Fm-3m':\n",
    "        ax.plot([x], [y], 'o', mfc='none', mec = 'w', mew = 1, ms=6)\n",
    "    elif spacegroup == 'P4/mnc':\n",
    "        ax.plot([x], [y], 's', mfc='none', mec = 'w', mew = 1, ms=8)\n",
    "    elif spacegroup == 'P2_1/c':\n",
    "        ax.plot([x], [y], 'x', mfc='none', mec = 'w', mew = 1)\n",
    "    elif spacegroup == 'Pnma':\n",
    "        ax.plot([x], [y], '+', mfc='none', mec = 'w', mew = 1)\n",
    "    elif spacegroup == 'I4/m':\n",
    "        ax.plot([x], [y], '+', mfc='none', mec = 'w', mew = 1)\n",
    "    elif spacegroup == 'I4/mmm':\n",
    "        ax.plot([x], [y], '+', mfc='none', mec = 'w', mew = 1)"
   ]
  },
  {
   "cell_type": "code",
   "execution_count": 51,
   "metadata": {
    "collapsed": false
   },
   "outputs": [
    {
     "name": "stdout",
     "output_type": "stream",
     "text": [
      "0\n"
     ]
    },
    {
     "data": {
      "image/png": "[encoded data removed]",
      "text/plain": [
       "<matplotlib.figure.Figure at 0x117df3f98>"
      ]
     },
     "metadata": {},
     "output_type": "display_data"
    }
   ],
   "source": [
    "X_list = ['Cl','Br','I']\n",
    "A_list = ['K','Rb','Cs']\n",
    "B_list = ['Si','Ge','Sn','Pb','Ni','Pd','Pt','Se','Te']\n",
    "print(X_list.index('Cl'))\n",
    "for i, comp in enumerate(df.Compound):\n",
    "    m = re.match('([A-Z][a-z]*)(\\d)([A-Z][a-z]*)([A-Z][a-z]*)(\\d)', comp)\n",
    "    if m: \n",
    "        A = m.group(1)\n",
    "        B = m.group(3)\n",
    "        X = m.group(4)\n",
    "        draw_symbol(df.iloc[i,1], ax[X_list.index(X)], B_list.index(B), A_list.index(A))\n",
    "savefig('/Users/yao/Desktop/216-figure/energy_new.pdf', dpi=300, bbox_inches=\"tight\")\n",
    "show()"
   ]
  },
  {
   "cell_type": "code",
   "execution_count": null,
   "metadata": {
    "collapsed": false
   },
   "outputs": [],
   "source": []
  },
  {
   "cell_type": "code",
   "execution_count": null,
   "metadata": {
    "collapsed": true
   },
   "outputs": [],
   "source": []
  }
 ],
 "metadata": {
  "anaconda-cloud": {},
  "kernelspec": {
   "display_name": "Python [conda env:216paper]",
   "language": "python",
   "name": "conda-env-216paper-py"
  },
  "language_info": {
   "codemirror_mode": {
    "name": "ipython",
    "version": 3
   },
   "file_extension": ".py",
   "mimetype": "text/x-python",
   "name": "python",
   "nbconvert_exporter": "python",
   "pygments_lexer": "ipython3",
   "version": "3.5.2"
  }
 },
 "nbformat": 4,
 "nbformat_minor": 0
}
