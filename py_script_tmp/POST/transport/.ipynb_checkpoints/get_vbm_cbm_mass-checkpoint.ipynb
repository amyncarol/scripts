{
 "cells": [
  {
   "cell_type": "code",
   "execution_count": 4,
   "metadata": {
    "collapsed": false
   },
   "outputs": [],
   "source": [
    "from pymatgen.electronic_structure.boltztrap2 import BoltztrapAnalyzer, BoltztrapRunner\n",
    "import matplotlib.pyplot as plt"
   ]
  },
  {
   "cell_type": "code",
   "execution_count": 6,
   "metadata": {
    "collapsed": false
   },
   "outputs": [
    {
     "name": "stdout",
     "output_type": "stream",
     "text": [
      "Cs2Sn1I6 0.33179589161 1.49988697501\n",
      "Rb2Sn1I6 0.290822861448 1.34291812258\n",
      "Cs2Pt1I6 0.51119450191 1.44704558454\n",
      "Rb2Pt1I6 0.45297666954 1.24521252259\n",
      "K2Pt1I6 0.403228756153 1.15084691493\n",
      "Cs2Te1I6 0.400705186904 1.50883575533\n"
     ]
    }
   ],
   "source": [
    "#define doping\n",
    "doping = [1e16, 1e17, 1e18, 1e19, 1e20]\n",
    "pn_doping = []\n",
    "pn_doping.extend([i for i in doping])\n",
    "pn_doping.extend([0-i for i in doping])\n",
    "#define Temp\n",
    "T=300\n",
    "#define path\n",
    "base_dir = '/Users/yao/Google Drive/data/216/DOS-k20'\n",
    "compounds = ['Cs2Sn1I6','Rb2Sn1I6','Cs2Pt1I6','Rb2Pt1I6','K2Pt1I6','Cs2Te1I6']\n",
    "for compound in compounds:\n",
    "    path_dir = base_dir+'/'+compound+'/'+'boltztrap'\n",
    "    b_ana = BoltztrapAnalyzer.from_files(path_dir = path_dir, doping_levels=pn_doping)\n",
    "    mass = b_ana.get_average_eff_mass_vbm_cbm(output='average')\n",
    "    print(compound, mass['n'][300], mass['p'][300])"
   ]
  },
  {
   "cell_type": "code",
   "execution_count": null,
   "metadata": {
    "collapsed": true
   },
   "outputs": [],
   "source": [
    "#k-mesh convergence test\n",
    "#define doping\n",
    "doping = [1e16, 1e17, 1e18, 1e19, 1e20]\n",
    "pn_doping = []\n",
    "pn_doping.extend([i for i in doping])\n",
    "pn_doping.extend([0-i for i in doping])\n",
    "#define Temp\n",
    "T=300\n",
    "#define path\n",
    "base_dir = '/Users/yao/Google Drive/data/216/Cs2Sn1I6/BoltzTrap-k-test/k'\n",
    "ks = [5,6,9,13,15,17,19,20,23,27,30]\n",
    "for k in ks:\n",
    "    path_dir = base_dir+str(k)+'/boltztrap'\n",
    "    b_ana = BoltztrapAnalyzer.from_files(path_dir = path_dir, doping_levels=pn_doping)\n",
    "    mass = b_ana.get_average_eff_mass_vbm_cbm(output='average')\n",
    "    print(compound, mass['n'][300], mass['p'][300])"
   ]
  }
 ],
 "metadata": {
  "kernelspec": {
   "display_name": "Python [conda root]",
   "language": "python",
   "name": "conda-root-py"
  },
  "language_info": {
   "codemirror_mode": {
    "name": "ipython",
    "version": 3
   },
   "file_extension": ".py",
   "mimetype": "text/x-python",
   "name": "python",
   "nbconvert_exporter": "python",
   "pygments_lexer": "ipython3",
   "version": "3.5.2"
  }
 },
 "nbformat": 4,
 "nbformat_minor": 1
}
