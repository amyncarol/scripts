{
 "cells": [
  {
   "cell_type": "code",
   "execution_count": 16,
   "metadata": {
    "collapsed": false
   },
   "outputs": [],
   "source": [
    "from pymatgen import core\n",
    "from pymatgen.core import sites\n",
    "from pymatgen.core.structure import IStructure\n",
    "from pymatgen.symmetry import analyzer\n",
    "from pymatgen.symmetry.analyzer import SpacegroupAnalyzer\n",
    "from pymatgen.symmetry.bandstructure import HighSymmKpath \n",
    "from pymatgen.io.smartio import read_structure, write_structure\n",
    "from pymatgen.io import vaspio_set\n",
    "from pymatgen.io.vaspio.vasp_input import Kpoints\n",
    "from pymatgen.io.vasp.outputs import Vasprun\n",
    "import os\n",
    "import shutil\n",
    "import copy\n",
    "import numpy as np\n"
   ]
  },
  {
   "cell_type": "code",
   "execution_count": 17,
   "metadata": {
    "collapsed": false
   },
   "outputs": [
    {
     "data": {
      "text/plain": [
       "{u'kpoints': {u'K': array([ 0.375,  0.375,  0.75 ]),\n",
       "  u'L': array([ 0.5,  0.5,  0.5]),\n",
       "  u'U': array([ 0.625,  0.25 ,  0.625]),\n",
       "  u'W': array([ 0.5 ,  0.25,  0.75]),\n",
       "  u'X': array([ 0.5,  0. ,  0.5]),\n",
       "  u'\\\\Gamma': array([ 0.,  0.,  0.])},\n",
       " u'path': [[u'\\\\Gamma',\n",
       "   u'X',\n",
       "   u'W',\n",
       "   u'K',\n",
       "   u'\\\\Gamma',\n",
       "   u'L',\n",
       "   u'U',\n",
       "   u'W',\n",
       "   u'L',\n",
       "   u'K'],\n",
       "  [u'U', u'X']]}"
      ]
     },
     "execution_count": 17,
     "metadata": {},
     "output_type": "execute_result"
    }
   ],
   "source": [
    "vr = Vasprun(\"/Users/yao/Google Drive/data/216/Cs2Sn1I6/vasprun.xml\")\n",
    "s = vr.final_structure\n",
    "ibz = HighSymmKpath(s, symprec=0.01, angle_tolerance=5)\n",
    "#ibz.get_kpath_plot()\n",
    "ibz.kpath"
   ]
  },
  {
   "cell_type": "code",
   "execution_count": 18,
   "metadata": {
    "collapsed": true
   },
   "outputs": [],
   "source": [
    "path = [u'\\\\Gamma', u'L', u'W', u'X', u'\\\\Gamma', u'K']  ##self defined\n",
    "divisions = 15"
   ]
  },
  {
   "cell_type": "code",
   "execution_count": 19,
   "metadata": {
    "collapsed": false
   },
   "outputs": [],
   "source": [
    "kpoints = list()\n",
    "labels = list()\n",
    "\n",
    "kpoints.append(ibz.kpath[\"kpoints\"][path[0]])\n",
    "labels.append(path[0])\n",
    "for i in range(1, len(path) - 1):\n",
    "    kpoints.append(ibz.kpath[\"kpoints\"][path[i]])\n",
    "    labels.append(path[i])\n",
    "    kpoints.append(ibz.kpath[\"kpoints\"][path[i]])\n",
    "    labels.append(path[i])\n",
    "kpoints.append(ibz.kpath[\"kpoints\"][path[-1]])\n",
    "labels.append(path[-1])"
   ]
  },
  {
   "cell_type": "code",
   "execution_count": 20,
   "metadata": {
    "collapsed": false
   },
   "outputs": [],
   "source": [
    "kp = Kpoints(\"Line_mode KPOINTS file\",\n",
    "                       style=Kpoints.supported_modes.Line_mode,\n",
    "                       coord_type=\"Reciprocal\",\n",
    "                       kpts=kpoints,\n",
    "                       labels=labels,\n",
    "                       num_kpts=int(divisions))\n",
    "kp.write_file('/Users/yao/Desktop/KPOINTS')"
   ]
  },
  {
   "cell_type": "code",
   "execution_count": 10,
   "metadata": {
    "collapsed": false
   },
   "outputs": [],
   "source": []
  },
  {
   "cell_type": "code",
   "execution_count": 10,
   "metadata": {
    "collapsed": false
   },
   "outputs": [],
   "source": []
  }
 ],
 "metadata": {
  "anaconda-cloud": {},
  "kernelspec": {
   "display_name": "Python [conda root]",
   "language": "python",
   "name": "conda-root-py"
  },
  "language_info": {
   "codemirror_mode": {
    "name": "ipython",
    "version": 3
   },
   "file_extension": ".py",
   "mimetype": "text/x-python",
   "name": "python",
   "nbconvert_exporter": "python",
   "pygments_lexer": "ipython3",
   "version": "3.5.2"
  }
 },
 "nbformat": 4,
 "nbformat_minor": 0
}
