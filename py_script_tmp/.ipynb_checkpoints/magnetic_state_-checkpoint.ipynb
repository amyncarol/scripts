{
 "cells": [
  {
   "cell_type": "code",
   "execution_count": null,
   "metadata": {
    "collapsed": true
   },
   "outputs": [],
   "source": [
    "from pymatgen.io.vasp.outputs import Oszicar\n",
    "import os\n",
    "import re\n",
    "import matplotlib.pyplot as plt\n",
    "import numpy as np"
   ]
  },
  {
   "cell_type": "code",
   "execution_count": null,
   "metadata": {
    "collapsed": true
   },
   "outputs": [],
   "source": [
    "basedir = \"/Users/yao/Google Drive/data/216/oszicar-files\"\n",
    "element_list = {'Ti':0, 'Zr':1, 'Hf':2, \"V\":3, \"Nb\":4, \"Ta\":5, \"Cr\":6, \"Mo\":7, \"W\":8, \"Mn\":9, \"Tc\":10, \"Re\":11, \"Fe\":12,\n",
    "               \"Ru\":13, \"Os\":14, \"Co\":15, \"Rh\":16, \"Ir\":17, \"Ni\":18, \"Pd\":19, \"Pt\":20, \"Cu\":21, \"Ag\":22, \"Hg\":23, \n",
    "               \"Si\":24, \"Ge\":25, \"Sn\":26, \"Pb\":27, \"Se\":28, \"Te\":29, \"Ce\":30, \"Pr\":31, \"Tb\":32}\n",
    "high_spin={'Ti':0, 'Zr':0, 'Hf':0, \"V\":1, \"Nb\":1, \"Ta\":1, \"Cr\":2, \"Mo\":2, \"W\":2, \"Mn\":3, \"Tc\":3, \"Re\":3, \"Fe\":4,\n",
    "               \"Ru\":4, \"Os\":4, \"Co\":5, \"Rh\":5, \"Ir\":5, \"Ni\":4, \"Pd\":4, \"Pt\":4, \"Cu\":3, \"Ag\":3, \"Hg\":2}              \n",
    "low_spin={\"Fe\":2, \"Ru\":2, \"Os\":2, \"Co\":1, \"Rh\":1, \"Ir\":1, \"Ni\":0, \"Pd\":0, \"Pt\":0, \"Cu\":1, \"Ag\":1, \"Hg\":2}\n",
    "\n",
    "i = 0\n",
    "j = 0\n",
    "items = os.listdir(basedir)\n",
    "data = np.zeros((len(items), 2))\n",
    "for item in items:\n",
    "    oszi = Oszicar(os.path.join(basedir, item, \"OSZICAR\"))\n",
    "    elements = re.split(\"[0-9]+\", item)\n",
    "    ionic_list = oszi.ionic_steps\n",
    "    \n",
    "    mag = ionic_list[len(ionic_list)-1][u'mag']\n",
    "    data[j][0] = element_list[elements[1]]\n",
    "    data[j][1] = mag  \n",
    "    j = j+1\n",
    "print element_list\n",
    "#plt.plot(data[:][0], data[:][1])\n",
    "#plt.show()\n",
    "\n",
    "\n",
    "plt.plot(data[:, 0], data[:, 1], 'o')\n",
    "\n",
    "list_number = []\n",
    "list_element = []\n",
    "for i in element_list:\n",
    "    #print i, element_list[i]\n",
    "    list_number.append(element_list[i]) \n",
    "    list_element.append(i)\n",
    "plt.xticks(list_number, list_element)\n",
    "\n",
    "plt.xlim(0, len(element_list)-1)\n",
    "plt.ylim(0, 5)\n",
    "\n",
    "for i in range(0, len(list_number)):\n",
    "    plt.axvline(x=i, ymin=0, ymax = 4, linewidth=1, linestyle='--', color='k')\n",
    "for element in high_spin:\n",
    "    spin = high_spin[element] \n",
    "    posi = element_list[element]\n",
    "    scale = len(element_list)-1\n",
    "    plt.axhline(y = spin, xmin = (posi-0.5)/scale, xmax = (posi+0.5)/scale, linewidth = 2, color='r')\n",
    "for element in low_spin:\n",
    "    spin = low_spin[element] \n",
    "    posi = element_list[element]\n",
    "    scale = len(element_list)-1\n",
    "    plt.axhline(y = spin, xmin = (posi-0.5)/scale, xmax = (posi+0.5)/scale, linewidth = 2, color='g')\n",
    "\n",
    "plt.show()\n"
   ]
  }
 ],
 "metadata": {
  "kernelspec": {
   "display_name": "Python 2",
   "language": "python",
   "name": "python2"
  },
  "language_info": {
   "codemirror_mode": {
    "name": "ipython",
    "version": 2
   },
   "file_extension": ".py",
   "mimetype": "text/x-python",
   "name": "python",
   "nbconvert_exporter": "python",
   "pygments_lexer": "ipython2",
   "version": "2.7.9"
  }
 },
 "nbformat": 4,
 "nbformat_minor": 1
}
