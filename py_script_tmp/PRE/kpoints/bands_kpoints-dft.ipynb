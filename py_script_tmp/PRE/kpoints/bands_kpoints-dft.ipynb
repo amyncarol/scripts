{
 "cells": [
  {
   "cell_type": "code",
   "execution_count": 7,
   "metadata": {
    "collapsed": false
   },
   "outputs": [],
   "source": [
    "from pymatgen.symmetry.bandstructure import HighSymmKpath \n",
    "from pymatgen.io.vasp.outputs import Vasprun\n",
    "from pymatgen.io.vasp.inputs import Kpoints\n",
    "import os\n",
    "import shutil\n",
    "import copy\n",
    "import numpy as np\n"
   ]
  },
  {
   "cell_type": "code",
   "execution_count": 3,
   "metadata": {
    "collapsed": false
   },
   "outputs": [
    {
     "name": "stderr",
     "output_type": "stream",
     "text": [
      "//anaconda/lib/python3.5/site-packages/pymatgen/io/vasp/outputs.py:814: UserWarning: No POTCAR file with matching TITEL fields was found in /Users/yao/Downloads\n",
      "  \" was found in {}\".format(os.path.abspath(p)))\n"
     ]
    },
    {
     "data": {
      "text/plain": [
       "{'kpoints': {'K': array([ 0.375,  0.375,  0.75 ]),\n",
       "  'L': array([ 0.5,  0.5,  0.5]),\n",
       "  'U': array([ 0.625,  0.25 ,  0.625]),\n",
       "  'W': array([ 0.5 ,  0.25,  0.75]),\n",
       "  'X': array([ 0.5,  0. ,  0.5]),\n",
       "  '\\\\Gamma': array([ 0.,  0.,  0.])},\n",
       " 'path': [['\\\\Gamma', 'X', 'W', 'K', '\\\\Gamma', 'L', 'U', 'W', 'L', 'K'],\n",
       "  ['U', 'X']]}"
      ]
     },
     "execution_count": 3,
     "metadata": {},
     "output_type": "execute_result"
    }
   ],
   "source": [
    "vr = Vasprun(\"/Users/yao/Downloads/vasprun.xml\")\n",
    "s = vr.final_structure\n",
    "ibz = HighSymmKpath(s, symprec=0.01, angle_tolerance=5)\n",
    "#ibz.get_kpath_plot()\n",
    "ibz.kpath"
   ]
  },
  {
   "cell_type": "code",
   "execution_count": 4,
   "metadata": {
    "collapsed": true
   },
   "outputs": [],
   "source": [
    "path = [u'X', u'\\\\Gamma', u'W', u'\\\\Gamma', u'L']  ##self defined\n",
    "divisions = 15"
   ]
  },
  {
   "cell_type": "code",
   "execution_count": 5,
   "metadata": {
    "collapsed": false
   },
   "outputs": [],
   "source": [
    "kpoints = list()\n",
    "labels = list()\n",
    "\n",
    "kpoints.append(ibz.kpath[\"kpoints\"][path[0]])\n",
    "labels.append(path[0])\n",
    "for i in range(1, len(path) - 1):\n",
    "    kpoints.append(ibz.kpath[\"kpoints\"][path[i]])\n",
    "    labels.append(path[i])\n",
    "    kpoints.append(ibz.kpath[\"kpoints\"][path[i]])\n",
    "    labels.append(path[i])\n",
    "kpoints.append(ibz.kpath[\"kpoints\"][path[-1]])\n",
    "labels.append(path[-1])"
   ]
  },
  {
   "cell_type": "code",
   "execution_count": 8,
   "metadata": {
    "collapsed": false
   },
   "outputs": [],
   "source": [
    "kp = Kpoints(\"Line_mode KPOINTS file\",\n",
    "                       style=Kpoints.supported_modes.Line_mode,\n",
    "                       coord_type=\"Reciprocal\",\n",
    "                       kpts=kpoints,\n",
    "                       labels=labels,\n",
    "                       num_kpts=int(divisions))\n",
    "kp.write_file('/Users/yao/Desktop/KPOINTS')"
   ]
  },
  {
   "cell_type": "code",
   "execution_count": 10,
   "metadata": {
    "collapsed": false
   },
   "outputs": [],
   "source": []
  },
  {
   "cell_type": "code",
   "execution_count": 10,
   "metadata": {
    "collapsed": false
   },
   "outputs": [],
   "source": []
  }
 ],
 "metadata": {
  "anaconda-cloud": {},
  "kernelspec": {
   "display_name": "Python [conda root]",
   "language": "python",
   "name": "conda-root-py"
  },
  "language_info": {
   "codemirror_mode": {
    "name": "ipython",
    "version": 3
   },
   "file_extension": ".py",
   "mimetype": "text/x-python",
   "name": "python",
   "nbconvert_exporter": "python",
   "pygments_lexer": "ipython3",
   "version": "3.5.2"
  }
 },
 "nbformat": 4,
 "nbformat_minor": 0
}
