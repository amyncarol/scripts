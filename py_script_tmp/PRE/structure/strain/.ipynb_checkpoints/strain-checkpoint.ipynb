{
 "cells": [
  {
   "cell_type": "code",
   "execution_count": 16,
   "metadata": {
    "collapsed": false
   },
   "outputs": [],
   "source": [
    "from pymatgen import core\n",
    "from pymatgen.core import sites\n",
    "from pymatgen.symmetry import analyzer\n",
    "from pymatgen.symmetry.analyzer import SpacegroupAnalyzer\n",
    "from pymatgen.io.smartio import read_structure, write_structure\n",
    "from pymatgen.io import vaspio_set\n",
    "import os\n",
    "import shutil\n",
    "import copy\n",
    "import numpy as np\n",
    "from pymatgen.transformations import standard_transformations\n"
   ]
  },
  {
   "cell_type": "code",
   "execution_count": 3,
   "metadata": {
    "collapsed": false
   },
   "outputs": [
    {
     "name": "stderr",
     "output_type": "stream",
     "text": [
      "-c:1: DeprecationWarning: read_structure is deprecated; use from_file in pymatgen.core.structure instead.\n"
     ]
    }
   ],
   "source": [
    "s1 = read_structure(\"POSCAR-1998.vasp\")"
   ]
  },
  {
   "cell_type": "code",
   "execution_count": 4,
   "metadata": {
    "collapsed": false
   },
   "outputs": [
    {
     "data": {
      "text/plain": [
       "Structure Summary\n",
       "Lattice\n",
       "    abc : 32.456001281699997 5.6739997863999996 3.9949998856\n",
       " angles : 90.0 90.0 90.0\n",
       " volume : 735.70057956998539\n",
       "      A : 32.456001281699997 0.0 0.0\n",
       "      B : 0.0 5.6739997863999996 0.0\n",
       "      C : 0.0 0.0 3.9949998856\n",
       "PeriodicSite: Sr (6.9764, 3.1901, 1.9975) [0.2149, 0.5622, 0.5000]\n",
       "PeriodicSite: Sr (25.4796, 2.4839, 1.9975) [0.7851, 0.4378, 0.5000]\n",
       "PeriodicSite: Sr (9.2516, 0.3531, 0.0000) [0.2851, 0.0622, 0.0000]\n",
       "PeriodicSite: Sr (23.2044, 5.3209, 0.0000) [0.7149, 0.9378, 0.0000]\n",
       "PeriodicSite: Sr (16.2280, 0.0000, 0.0000) [0.5000, 0.0000, 0.0000]\n",
       "PeriodicSite: Sr (0.0000, 2.8370, 1.9975) [0.0000, 0.5000, 0.5000]\n",
       "PeriodicSite: Sr (13.2649, 2.7446, 0.0000) [0.4087, 0.4837, 0.0000]\n",
       "PeriodicSite: Sr (19.1911, 2.9294, 0.0000) [0.5913, 0.5163, 0.0000]\n",
       "PeriodicSite: Sr (2.9631, 5.5816, 1.9975) [0.0913, 0.9837, 0.5000]\n",
       "PeriodicSite: Sr (29.4929, 0.0924, 1.9975) [0.9087, 0.0163, 0.5000]\n",
       "PeriodicSite: Nb (16.2280, 2.8370, 1.9975) [0.5000, 0.5000, 0.5000]\n",
       "PeriodicSite: Nb (0.0000, 0.0000, 0.0000) [0.0000, 0.0000, 0.0000]\n",
       "PeriodicSite: Nb (10.4380, 2.9797, 1.9975) [0.3216, 0.5251, 0.5000]\n",
       "PeriodicSite: Nb (22.0180, 2.6943, 1.9975) [0.6784, 0.4749, 0.5000]\n",
       "PeriodicSite: Nb (5.7900, 0.1427, 0.0000) [0.1784, 0.0251, 0.0000]\n",
       "PeriodicSite: Nb (26.6660, 5.5313, 0.0000) [0.8216, 0.9749, 0.0000]\n",
       "PeriodicSite: Nb (13.2844, 5.6641, 1.9975) [0.4093, 0.9983, 0.5000]\n",
       "PeriodicSite: Nb (19.1716, 0.0099, 1.9975) [0.5907, 0.0017, 0.5000]\n",
       "PeriodicSite: Nb (2.9436, 2.8271, 0.0000) [0.0907, 0.4983, 0.0000]\n",
       "PeriodicSite: Nb (29.5124, 2.8469, 0.0000) [0.9093, 0.5017, 0.0000]\n",
       "PeriodicSite: O (17.3762, 1.1284, 1.9975) [0.5354, 0.1989, 0.5000]\n",
       "PeriodicSite: O (15.0798, 4.5456, 1.9975) [0.4646, 0.8011, 0.5000]\n",
       "PeriodicSite: O (31.3078, 3.9654, 0.0000) [0.9646, 0.6989, 0.0000]\n",
       "PeriodicSite: O (1.1482, 1.7086, 0.0000) [0.0354, 0.3011, 0.0000]\n",
       "PeriodicSite: O (14.5593, 1.6390, 1.9975) [0.4486, 0.2889, 0.5000]\n",
       "PeriodicSite: O (17.8967, 4.0350, 1.9975) [0.5514, 0.7111, 0.5000]\n",
       "PeriodicSite: O (1.6687, 4.4760, 0.0000) [0.0514, 0.7889, 0.0000]\n",
       "PeriodicSite: O (30.7873, 1.1980, 0.0000) [0.9486, 0.2111, 0.0000]\n",
       "PeriodicSite: O (16.2280, 2.8370, 0.0000) [0.5000, 0.5000, 0.0000]\n",
       "PeriodicSite: O (0.0000, 0.0000, 1.9975) [0.0000, 0.0000, 0.5000]\n",
       "PeriodicSite: O (6.8070, 1.7295, 0.0000) [0.2097, 0.3048, 0.0000]\n",
       "PeriodicSite: O (25.6490, 3.9445, 0.0000) [0.7903, 0.6952, 0.0000]\n",
       "PeriodicSite: O (9.4210, 4.5665, 1.9975) [0.2903, 0.8048, 0.5000]\n",
       "PeriodicSite: O (23.0350, 1.1075, 1.9975) [0.7097, 0.1952, 0.5000]\n",
       "PeriodicSite: O (3.8817, 1.0808, 0.0000) [0.1196, 0.1905, 0.0000]\n",
       "PeriodicSite: O (28.5743, 4.5932, 0.0000) [0.8804, 0.8095, 0.0000]\n",
       "PeriodicSite: O (12.3463, 3.9178, 1.9975) [0.3804, 0.6905, 0.5000]\n",
       "PeriodicSite: O (20.1097, 1.7562, 1.9975) [0.6196, 0.3095, 0.5000]\n",
       "PeriodicSite: O (4.4402, 4.0504, 0.0000) [0.1368, 0.7139, 0.0000]\n",
       "PeriodicSite: O (28.0158, 1.6236, 0.0000) [0.8632, 0.2861, 0.0000]\n",
       "PeriodicSite: O (11.7878, 1.2134, 1.9975) [0.3632, 0.2139, 0.5000]\n",
       "PeriodicSite: O (20.6682, 4.4606, 1.9975) [0.6368, 0.7861, 0.5000]\n",
       "PeriodicSite: O (8.9579, 1.7686, 1.9975) [0.2760, 0.3117, 0.5000]\n",
       "PeriodicSite: O (23.4981, 3.9054, 1.9975) [0.7240, 0.6883, 0.5000]\n",
       "PeriodicSite: O (7.2701, 4.6056, 0.0000) [0.2240, 0.8117, 0.0000]\n",
       "PeriodicSite: O (25.1859, 1.0684, 0.0000) [0.7760, 0.1883, 0.0000]\n",
       "PeriodicSite: O (10.7391, 2.8228, 0.0000) [0.3309, 0.4975, 0.0000]\n",
       "PeriodicSite: O (21.7169, 2.8512, 0.0000) [0.6691, 0.5025, 0.0000]\n",
       "PeriodicSite: O (5.4889, 5.6598, 1.9975) [0.1691, 0.9975, 0.5000]\n",
       "PeriodicSite: O (26.9671, 0.0142, 1.9975) [0.8309, 0.0025, 0.5000]\n",
       "PeriodicSite: O (13.5147, 5.6308, 0.0000) [0.4164, 0.9924, 0.0000]\n",
       "PeriodicSite: O (18.9413, 0.0432, 0.0000) [0.5836, 0.0076, 0.0000]\n",
       "PeriodicSite: O (2.7133, 2.7938, 1.9975) [0.0836, 0.4924, 0.5000]\n",
       "PeriodicSite: O (29.7427, 2.8802, 1.9975) [0.9164, 0.5076, 0.5000]"
      ]
     },
     "execution_count": 4,
     "metadata": {},
     "output_type": "execute_result"
    }
   ],
   "source": [
    "s1"
   ]
  },
  {
   "cell_type": "code",
   "execution_count": 18,
   "metadata": {
    "collapsed": false
   },
   "outputs": [],
   "source": [
    "rotateTrans = standard_transformations.RotationTransformation([0, 0, 1], 45, angle_in_radians=False)"
   ]
  },
  {
   "cell_type": "code",
   "execution_count": 23,
   "metadata": {
    "collapsed": false
   },
   "outputs": [],
   "source": [
    "s1_rotate = rotateTrans.apply_transformation(s1)"
   ]
  },
  {
   "cell_type": "code",
   "execution_count": 24,
   "metadata": {
    "collapsed": false
   },
   "outputs": [
    {
     "data": {
      "text/plain": [
       "Structure Summary\n",
       "Lattice\n",
       "    abc : 32.456001281699997 5.6739997864000005 3.9949998856\n",
       " angles : 90.0 90.0 90.0\n",
       " volume : 735.70057956998539\n",
       "      A : 22.949858596489346 22.949858596489342 0.0\n",
       "      B : -4.0121237254144617 4.0121237254144626 0.0\n",
       "      C : 0.0 0.0 3.9949998856\n",
       "PeriodicSite: Sr (2.6773, 7.1888, 1.9975) [0.2149, 0.5622, 0.5000]\n",
       "PeriodicSite: Sr (16.2604, 19.7732, 1.9975) [0.7851, 0.4378, 0.5000]\n",
       "PeriodicSite: Sr (6.2922, 6.7916, 0.0000) [0.2851, 0.0622, 0.0000]\n",
       "PeriodicSite: Sr (12.6455, 20.1704, 0.0000) [0.7149, 0.9378, 0.0000]\n",
       "PeriodicSite: Sr (11.4749, 11.4749, 0.0000) [0.5000, 0.0000, 0.0000]\n",
       "PeriodicSite: Sr (-2.0061, 2.0061, 1.9975) [-0.0000, 0.5000, 0.5000]\n",
       "PeriodicSite: Sr (7.4390, 11.3204, 0.0000) [0.4087, 0.4837, 0.0000]\n",
       "PeriodicSite: Sr (11.4987, 15.6416, 0.0000) [0.5913, 0.5163, 0.0000]\n",
       "PeriodicSite: Sr (-1.8515, 6.0420, 1.9975) [0.0913, 0.9837, 0.5000]\n",
       "PeriodicSite: Sr (20.7893, 20.9200, 1.9975) [0.9087, 0.0163, 0.5000]\n",
       "PeriodicSite: Nb (9.4689, 13.4810, 1.9975) [0.5000, 0.5000, 0.5000]\n",
       "PeriodicSite: Nb (0.0000, 0.0000, 0.0000) [0.0000, 0.0000, 0.0000]\n",
       "PeriodicSite: Nb (5.2738, 9.4877, 1.9975) [0.3216, 0.5251, 0.5000]\n",
       "PeriodicSite: Nb (13.6639, 17.4743, 1.9975) [0.6784, 0.4749, 0.5000]\n",
       "PeriodicSite: Nb (3.9933, 4.1950, 0.0000) [0.1784, 0.0251, 0.0000]\n",
       "PeriodicSite: Nb (14.9445, 22.7670, 0.0000) [0.8216, 0.9749, 0.0000]\n",
       "PeriodicSite: Nb (5.3883, 13.3986, 1.9975) [0.4093, 0.9983, 0.5000]\n",
       "PeriodicSite: Nb (13.5494, 13.5634, 1.9975) [0.5907, 0.0017, 0.5000]\n",
       "PeriodicSite: Nb (0.0824, 4.0805, 0.0000) [0.0907, 0.4983, 0.0000]\n",
       "PeriodicSite: Nb (18.8553, 22.8815, 0.0000) [0.9093, 0.5017, 0.0000]\n",
       "PeriodicSite: O (11.4889, 13.0847, 1.9975) [0.5354, 0.1989, 0.5000]\n",
       "PeriodicSite: O (7.4488, 13.8773, 1.9975) [0.4646, 0.8011, 0.5000]\n",
       "PeriodicSite: O (19.3341, 24.9419, 0.0000) [0.9646, 0.6989, 0.0000]\n",
       "PeriodicSite: O (-0.3963, 2.0201, 0.0000) [0.0354, 0.3011, 0.0000]\n",
       "PeriodicSite: O (9.1360, 11.4539, 1.9975) [0.4486, 0.2889, 0.5000]\n",
       "PeriodicSite: O (9.8017, 15.5081, 1.9975) [0.5514, 0.7111, 0.5000]\n",
       "PeriodicSite: O (-1.9850, 4.3449, 0.0000) [0.0514, 0.7889, 0.0000]\n",
       "PeriodicSite: O (20.9228, 22.6170, 0.0000) [0.9486, 0.2111, 0.0000]\n",
       "PeriodicSite: O (9.4689, 13.4810, 0.0000) [0.5000, 0.5000, 0.0000]\n",
       "PeriodicSite: O (0.0000, 0.0000, 1.9975) [0.0000, 0.0000, 0.5000]\n",
       "PeriodicSite: O (3.5904, 6.0362, 0.0000) [0.2097, 0.3048, 0.0000]\n",
       "PeriodicSite: O (15.3474, 20.9258, 0.0000) [0.7903, 0.6952, 0.0000]\n",
       "PeriodicSite: O (3.4327, 9.8906, 1.9975) [0.2903, 0.8048, 0.5000]\n",
       "PeriodicSite: O (15.5051, 17.0714, 1.9975) [0.7097, 0.1952, 0.5000]\n",
       "PeriodicSite: O (1.9806, 3.5090, 0.0000) [0.1196, 0.1905, 0.0000]\n",
       "PeriodicSite: O (16.9572, 23.4530, 0.0000) [0.8804, 0.8095, 0.0000]\n",
       "PeriodicSite: O (5.9599, 11.5004, 1.9975) [0.3804, 0.6905, 0.5000]\n",
       "PeriodicSite: O (12.9779, 15.4616, 1.9975) [0.6196, 0.3095, 0.5000]\n",
       "PeriodicSite: O (0.2756, 6.0038, 0.0000) [0.1368, 0.7139, 0.0000]\n",
       "PeriodicSite: O (18.6621, 20.9582, 0.0000) [0.8632, 0.2861, 0.0000]\n",
       "PeriodicSite: O (7.4772, 9.1932, 1.9975) [0.3632, 0.2139, 0.5000]\n",
       "PeriodicSite: O (11.4605, 17.7687, 1.9975) [0.6368, 0.7861, 0.5000]\n",
       "PeriodicSite: O (5.0836, 7.5848, 1.9975) [0.2760, 0.3117, 0.5000]\n",
       "PeriodicSite: O (13.8541, 19.3772, 1.9975) [0.7240, 0.6883, 0.5000]\n",
       "PeriodicSite: O (1.8841, 8.3974, 0.0000) [0.2240, 0.8117, 0.0000]\n",
       "PeriodicSite: O (17.0536, 18.5646, 0.0000) [0.7760, 0.1883, 0.0000]\n",
       "PeriodicSite: O (5.5976, 9.5897, 0.0000) [0.3309, 0.4975, 0.0000]\n",
       "PeriodicSite: O (13.3401, 17.3723, 0.0000) [0.6691, 0.5025, 0.0000]\n",
       "PeriodicSite: O (-0.1208, 7.8833, 1.9975) [0.1691, 0.9975, 0.5000]\n",
       "PeriodicSite: O (19.0585, 19.0786, 1.9975) [0.8309, 0.0025, 0.5000]\n",
       "PeriodicSite: O (5.5748, 13.5379, 0.0000) [0.4164, 0.9924, 0.0000]\n",
       "PeriodicSite: O (13.3630, 13.4241, 0.0000) [0.5836, 0.0076, 0.0000]\n",
       "PeriodicSite: O (-0.0569, 3.8941, 1.9975) [0.0836, 0.4924, 0.5000]\n",
       "PeriodicSite: O (18.9946, 23.0679, 1.9975) [0.9164, 0.5076, 0.5000]"
      ]
     },
     "execution_count": 24,
     "metadata": {},
     "output_type": "execute_result"
    }
   ],
   "source": [
    "s1_rotate"
   ]
  },
  {
   "cell_type": "code",
   "execution_count": 25,
   "metadata": {
    "collapsed": false
   },
   "outputs": [
    {
     "name": "stderr",
     "output_type": "stream",
     "text": [
      "-c:1: DeprecationWarning: write_structure is deprecated; use to in pymatgen.core.structure instead.\n"
     ]
    }
   ],
   "source": [
    "write_structure(s1_rotate,\"POSCAR\")"
   ]
  },
  {
   "cell_type": "raw",
   "metadata": {},
   "source": []
  },
  {
   "cell_type": "markdown",
   "metadata": {},
   "source": [
    "# "
   ]
  },
  {
   "cell_type": "markdown",
   "metadata": {},
   "source": [
    "# strain s1"
   ]
  },
  {
   "cell_type": "code",
   "execution_count": 30,
   "metadata": {
    "collapsed": false
   },
   "outputs": [],
   "source": [
    "for i in my_range(-0.03,0.03,0.03):\n",
    "    for j in my_range(-0.03,0.03,0.03):\n",
    "        for k in my_range(-0.03,0.03,0.03):\n",
    "            s1_new = copy.deepcopy(s1)\n",
    "            strain = [i,j,k]\n",
    "            s1_new.apply_strain(strain)\n",
    "            currentFolder = \"strain_\" + \"{:4.2f}\".format(i) + \"_\" + \"{:4.2f}\".format(j) + \"_\" + \"{:4.2f}\".format(k)\n",
    "            if os.path.exists(currentFolder):\n",
    "                shutil.rmtree(currentFolder)\n",
    "            os.mkdir(currentFolder)\n",
    "            write_structure(s1_new,\"POSCAR\")\n",
    "            shutil.copy(\"POSCAR\", currentFolder + \"/POSCAR\")\n",
    "            shutil.copy(\"INCAR\", currentFolder + \"/INCAR\")\n",
    "            shutil.copy(\"KPOINTS\", currentFolder + \"/KPOINTS\")\n",
    "            shutil.copy(\"POTCAR\", currentFolder + \"/POTCAR\")"
   ]
  },
  {
   "cell_type": "code",
   "execution_count": 850,
   "metadata": {
    "collapsed": false
   },
   "outputs": [],
   "source": []
  },
  {
   "cell_type": "code",
   "execution_count": 851,
   "metadata": {
    "collapsed": false
   },
   "outputs": [],
   "source": [
    "\n",
    "        "
   ]
  },
  {
   "cell_type": "code",
   "execution_count": 851,
   "metadata": {
    "collapsed": false
   },
   "outputs": [],
   "source": [
    "\n"
   ]
  },
  {
   "cell_type": "code",
   "execution_count": 883,
   "metadata": {
    "collapsed": false
   },
   "outputs": [],
   "source": []
  },
  {
   "cell_type": "code",
   "execution_count": 861,
   "metadata": {
    "collapsed": false
   },
   "outputs": [],
   "source": []
  },
  {
   "cell_type": "code",
   "execution_count": 862,
   "metadata": {
    "collapsed": false
   },
   "outputs": [],
   "source": []
  },
  {
   "cell_type": "code",
   "execution_count": 28,
   "metadata": {
    "collapsed": false
   },
   "outputs": [],
   "source": [
    "def my_range(start, end, step):\n",
    "\twhile start <= end:\n",
    "\t\tyield start\n",
    "\t\tstart += step"
   ]
  },
  {
   "cell_type": "code",
   "execution_count": 865,
   "metadata": {
    "collapsed": false
   },
   "outputs": [
    {
     "data": {
      "text/plain": [
       "Structure Summary\n",
       "Lattice\n",
       "    abc : 5.7235764553842321 5.8904898364380323 8.216099391271543\n",
       " angles : 90.0 90.0 90.0\n",
       " volume : 277.00307094266981\n",
       "      A : 5.7235764553842321 0.0 0.0\n",
       "      B : 0.0 5.8904898364380323 0.0\n",
       "      C : 0.0 0.0 8.216099391271543\n",
       "PeriodicSite: Sr (5.7015, 0.1786, 2.0540) [0.9961, 0.0303, 0.2500]\n",
       "PeriodicSite: Sr (2.8839, 3.1238, 2.0540) [0.5039, 0.5303, 0.2500]\n",
       "PeriodicSite: Sr (2.8397, 2.7666, 6.1621) [0.4961, 0.4697, 0.7500]\n",
       "PeriodicSite: Sr (0.0221, 5.7119, 6.1621) [0.0039, 0.9697, 0.7500]\n",
       "PeriodicSite: Nb (2.8618, 0.0001, 4.1077) [0.5000, 0.0000, 0.5000]\n",
       "PeriodicSite: Nb (-0.0000, 2.9452, -0.0003) [-0.0000, 0.5000, -0.0000]\n",
       "PeriodicSite: Nb (-0.0000, 2.9452, 4.1084) [-0.0000, 0.5000, 0.5000]\n",
       "PeriodicSite: Nb (2.8618, 0.0001, 0.0003) [0.5000, 0.0000, 0.0000]\n",
       "PeriodicSite: O (1.5534, 4.1613, 4.3097) [0.2714, 0.7064, 0.5245]\n",
       "PeriodicSite: O (1.3084, 1.2160, 8.0144) [0.2286, 0.2064, 0.9755]\n",
       "PeriodicSite: O (4.4152, 4.6745, 3.9064) [0.7714, 0.7936, 0.4755]\n",
       "PeriodicSite: O (4.1701, 1.7292, 0.2017) [0.7286, 0.2936, 0.0245]\n",
       "PeriodicSite: O (4.1702, 1.7292, 3.9064) [0.7286, 0.2936, 0.4755]\n",
       "PeriodicSite: O (4.4152, 4.6745, 0.2017) [0.7714, 0.7936, 0.0245]\n",
       "PeriodicSite: O (1.3084, 1.2160, 4.3097) [0.2286, 0.2064, 0.5245]\n",
       "PeriodicSite: O (1.5534, 4.1613, 8.0144) [0.2714, 0.7064, 0.9755]\n",
       "PeriodicSite: O (5.4383, 3.0099, 6.1621) [0.9502, 0.5110, 0.7500]\n",
       "PeriodicSite: O (3.1471, 0.0646, 6.1621) [0.5498, 0.0110, 0.7500]\n",
       "PeriodicSite: O (2.5765, 5.8259, 2.0540) [0.4502, 0.9890, 0.2500]\n",
       "PeriodicSite: O (0.2853, 2.8806, 2.0540) [0.0498, 0.4890, 0.2500]"
      ]
     },
     "execution_count": 865,
     "metadata": {},
     "output_type": "execute_result"
    }
   ],
   "source": [
    "s1_new"
   ]
  },
  {
   "cell_type": "code",
   "execution_count": 866,
   "metadata": {
    "collapsed": false
   },
   "outputs": [],
   "source": []
  },
  {
   "cell_type": "code",
   "execution_count": 867,
   "metadata": {
    "collapsed": false
   },
   "outputs": [
    {
     "data": {
      "text/plain": [
       "[array([ -2.19805063e-05,   2.94518393e+00,   8.21576663e+00]),\n",
       " array([ -2.19805063e-05,   2.94518393e+00,   8.21576663e+00]),\n",
       " array([ -2.19805063e-05,   2.94518393e+00,   8.21576663e+00]),\n",
       " array([ -2.19805063e-05,   2.94518393e+00,   8.21576663e+00]),\n",
       " array([ -2.19805063e-05,   2.94518393e+00,   8.21576663e+00]),\n",
       " array([ -2.19805063e-05,   2.94518393e+00,   8.21576663e+00]),\n",
       " array([ -2.19805063e-05,   2.94518393e+00,   8.21576663e+00]),\n",
       " array([ -2.19805063e-05,   2.94518393e+00,   8.21576663e+00]),\n",
       " array([-1.63520477, -1.28007148, -0.21196061]),\n",
       " array([ 1.63514467, -1.27995006,  0.21263556]),\n",
       " array([-1.63522509,  1.28008418,  0.21196178]),\n",
       " array([ 1.6351724 ,  1.27996217, -0.21262971]),\n",
       " array([ 1.63514467,  1.27995006,  0.21263556]),\n",
       " array([-1.63520477,  1.28007148, -0.21196061]),\n",
       " array([ 1.6351724 , -1.27996217, -0.21262971]),\n",
       " array([-1.63522509, -1.28008418,  0.21196178]),\n",
       " array([-5.4383163 , -0.06470056,  2.05369594]),\n",
       " array([ -2.19805063e-05,   2.94518393e+00,   8.21576663e+00]),\n",
       " array([ -2.19805063e-05,   2.94518393e+00,   8.21576663e+00]),\n",
       " array([ -2.19805063e-05,   2.94518393e+00,   8.21576663e+00])]"
      ]
     },
     "execution_count": 867,
     "metadata": {},
     "output_type": "execute_result"
    }
   ],
   "source": [
    "trans_O_Nb"
   ]
  },
  {
   "cell_type": "code",
   "execution_count": 868,
   "metadata": {
    "collapsed": false
   },
   "outputs": [],
   "source": []
  },
  {
   "cell_type": "markdown",
   "metadata": {},
   "source": [
    "## other..."
   ]
  },
  {
   "cell_type": "code",
   "execution_count": 869,
   "metadata": {
    "collapsed": false
   },
   "outputs": [
    {
     "data": {
      "text/plain": [
       "PeriodicSite: O (5.4383, 3.0099, 6.1621) [0.9502, 0.5110, 0.7500]"
      ]
     },
     "execution_count": 869,
     "metadata": {},
     "output_type": "execute_result"
    }
   ],
   "source": [
    "O"
   ]
  },
  {
   "cell_type": "code",
   "execution_count": 870,
   "metadata": {
    "collapsed": false
   },
   "outputs": [
    {
     "data": {
      "text/plain": [
       "PeriodicSite: Nb (-0.0000, 2.9452, 8.2158) [-0.0000, 0.5000, 1.0000]"
      ]
     },
     "execution_count": 870,
     "metadata": {},
     "output_type": "execute_result"
    }
   ],
   "source": [
    "Nb"
   ]
  },
  {
   "cell_type": "code",
   "execution_count": 871,
   "metadata": {
    "collapsed": false
   },
   "outputs": [
    {
     "data": {
      "text/plain": [
       "array([ 5.43829432,  3.00988449,  6.16207069])"
      ]
     },
     "execution_count": 871,
     "metadata": {},
     "output_type": "execute_result"
    }
   ],
   "source": [
    "O_p"
   ]
  },
  {
   "cell_type": "code",
   "execution_count": 872,
   "metadata": {
    "collapsed": false
   },
   "outputs": [
    {
     "data": {
      "text/plain": [
       "array([ -2.19805063e-05,   2.94518393e+00,   8.21576663e+00])"
      ]
     },
     "execution_count": 872,
     "metadata": {},
     "output_type": "execute_result"
    }
   ],
   "source": [
    "Nb_p"
   ]
  },
  {
   "cell_type": "markdown",
   "metadata": {},
   "source": [
    "##### "
   ]
  },
  {
   "cell_type": "code",
   "execution_count": 872,
   "metadata": {
    "collapsed": false
   },
   "outputs": [],
   "source": []
  },
  {
   "cell_type": "code",
   "execution_count": 884,
   "metadata": {
    "collapsed": false
   },
   "outputs": [],
   "source": [
    "sga = SpacegroupAnalyzer(s1, 0.01)"
   ]
  },
  {
   "cell_type": "code",
   "execution_count": 885,
   "metadata": {
    "collapsed": false
   },
   "outputs": [
    {
     "data": {
      "text/plain": [
       "u'Pbnm'"
      ]
     },
     "execution_count": 885,
     "metadata": {},
     "output_type": "execute_result"
    }
   ],
   "source": [
    "sga.get_spacegroup_symbol()"
   ]
  },
  {
   "cell_type": "code",
   "execution_count": 875,
   "metadata": {
    "collapsed": false
   },
   "outputs": [],
   "source": [
    "s2_sym = sga.get_symmetrized_structure()"
   ]
  },
  {
   "cell_type": "code",
   "execution_count": 876,
   "metadata": {
    "collapsed": false
   },
   "outputs": [
    {
     "data": {
      "text/plain": [
       "[[PeriodicSite: Sr (5.6724, 0.2167, 2.0506) [0.9911, 0.0368, 0.2496],\n",
       "  PeriodicSite: Sr (2.9130, 3.1620, 2.0575) [0.5089, 0.5368, 0.2504],\n",
       "  PeriodicSite: Sr (2.8106, 2.7285, 6.1586) [0.4911, 0.4632, 0.7496],\n",
       "  PeriodicSite: Sr (0.0512, 5.6738, 6.1655) [0.0089, 0.9632, 0.7504]],\n",
       " [PeriodicSite: Nb (2.8618, 5.8905, 4.1080) [0.5000, 1.0000, 0.5000],\n",
       "  PeriodicSite: Nb (5.7236, 2.9452, 8.2161) [1.0000, 0.5000, 1.0000]],\n",
       " [PeriodicSite: Nb (5.7236, 2.9453, 4.1081) [1.0000, 0.5000, 0.5000],\n",
       "  PeriodicSite: Nb (2.8618, 5.8905, 0.0000) [0.5000, 1.0000, 0.0000]],\n",
       " [PeriodicSite: O (1.6564, 4.2049, 4.4154) [0.2894, 0.7138, 0.5374],\n",
       "  PeriodicSite: O (1.2054, 1.2596, 7.9088) [0.2106, 0.2138, 0.9626],\n",
       "  PeriodicSite: O (4.0672, 1.6856, 3.8007) [0.7106, 0.2862, 0.4626],\n",
       "  PeriodicSite: O (4.5182, 4.6309, 0.3073) [0.7894, 0.7862, 0.0374]],\n",
       " [PeriodicSite: O (4.5531, 4.5790, 3.7980) [0.7955, 0.7774, 0.4623],\n",
       "  PeriodicSite: O (4.0323, 1.6338, 0.3101) [0.7045, 0.2774, 0.0377],\n",
       "  PeriodicSite: O (1.1705, 1.3115, 4.4181) [0.2045, 0.2226, 0.5377],\n",
       "  PeriodicSite: O (1.6913, 4.2567, 7.9060) [0.2955, 0.7226, 0.9623]],\n",
       " [PeriodicSite: O (5.3224, 3.0560, 6.1579) [0.9299, 0.5188, 0.7495],\n",
       "  PeriodicSite: O (3.2629, 0.1108, 6.1662) [0.5701, 0.0188, 0.7505],\n",
       "  PeriodicSite: O (2.4607, 5.7797, 2.0499) [0.4299, 0.9812, 0.2495],\n",
       "  PeriodicSite: O (0.4011, 2.8345, 2.0582) [0.0701, 0.4812, 0.2505]]]"
      ]
     },
     "execution_count": 876,
     "metadata": {},
     "output_type": "execute_result"
    }
   ],
   "source": [
    "s2_sym.equivalent_sites"
   ]
  },
  {
   "cell_type": "code",
   "execution_count": 877,
   "metadata": {
    "collapsed": false
   },
   "outputs": [],
   "source": [
    "sym_op = sga.get_symmetry_operations()"
   ]
  },
  {
   "cell_type": "code",
   "execution_count": 878,
   "metadata": {
    "collapsed": false
   },
   "outputs": [],
   "source": [
    "sym_op_cart = sga.get_symmetry_operations(cartesian = True)"
   ]
  },
  {
   "cell_type": "code",
   "execution_count": 879,
   "metadata": {
    "collapsed": false
   },
   "outputs": [
    {
     "data": {
      "text/plain": [
       "[Rot:\n",
       " [[ 1.  0.  0.]\n",
       "  [ 0.  1.  0.]\n",
       "  [ 0.  0.  1.]]\n",
       " tau\n",
       " [ 0.  0.  0.], Rot:\n",
       " [[-1.  0.  0.]\n",
       "  [ 0. -1.  0.]\n",
       "  [ 0.  0. -1.]]\n",
       " tau\n",
       " [  1.18698675e-06   0.00000000e+00   1.60980393e-08], Rot:\n",
       " [[-1.  0.  0.]\n",
       "  [ 0.  1.  0.]\n",
       "  [ 0.  0. -1.]]\n",
       " tau\n",
       " [ 2.86178941  2.94524492  4.10804971], Rot:\n",
       " [[ 1.  0.  0.]\n",
       "  [ 0. -1.  0.]\n",
       "  [ 0.  0.  1.]]\n",
       " tau\n",
       " [ 2.86178823  2.94524492  4.1080497 ]]"
      ]
     },
     "execution_count": 879,
     "metadata": {},
     "output_type": "execute_result"
    }
   ],
   "source": [
    "sym_op_cart"
   ]
  },
  {
   "cell_type": "code",
   "execution_count": 880,
   "metadata": {
    "collapsed": false
   },
   "outputs": [],
   "source": [
    "sym_op_cart_all = analyzer.generate_full_symmops(sym_op_cart, 0)"
   ]
  },
  {
   "cell_type": "code",
   "execution_count": 881,
   "metadata": {
    "collapsed": false
   },
   "outputs": [
    {
     "data": {
      "text/plain": [
       "4"
      ]
     },
     "execution_count": 881,
     "metadata": {},
     "output_type": "execute_result"
    }
   ],
   "source": [
    "len(sym_op_cart)"
   ]
  },
  {
   "cell_type": "code",
   "execution_count": 882,
   "metadata": {
    "collapsed": false
   },
   "outputs": [
    {
     "data": {
      "text/plain": [
       "301"
      ]
     },
     "execution_count": 882,
     "metadata": {},
     "output_type": "execute_result"
    }
   ],
   "source": [
    "len(sym_op_cart_all)"
   ]
  },
  {
   "cell_type": "markdown",
   "metadata": {},
   "source": [
    "# write inputs"
   ]
  },
  {
   "cell_type": "code",
   "execution_count": 882,
   "metadata": {
    "collapsed": false
   },
   "outputs": [],
   "source": [
    "vaspio_set.batch_write_vasp_input"
   ]
  },
  {
   "cell_type": "code",
   "execution_count": 882,
   "metadata": {
    "collapsed": false
   },
   "outputs": [],
   "source": []
  },
  {
   "cell_type": "code",
   "execution_count": 882,
   "metadata": {
    "collapsed": false
   },
   "outputs": [],
   "source": []
  },
  {
   "cell_type": "code",
   "execution_count": 882,
   "metadata": {
    "collapsed": false
   },
   "outputs": [],
   "source": []
  },
  {
   "cell_type": "code",
   "execution_count": 882,
   "metadata": {
    "collapsed": false
   },
   "outputs": [],
   "source": [
    "\n"
   ]
  },
  {
   "cell_type": "code",
   "execution_count": 882,
   "metadata": {
    "collapsed": false
   },
   "outputs": [],
   "source": []
  }
 ],
 "metadata": {
  "anaconda-cloud": {},
  "kernelspec": {
   "display_name": "Python [default]",
   "language": "python",
   "name": "python3"
  },
  "language_info": {
   "codemirror_mode": {
    "name": "ipython",
    "version": 3
   },
   "file_extension": ".py",
   "mimetype": "text/x-python",
   "name": "python",
   "nbconvert_exporter": "python",
   "pygments_lexer": "ipython3",
   "version": "3.5.2"
  }
 },
 "nbformat": 4,
 "nbformat_minor": 0
}
