{
 "cells": [
  {
   "cell_type": "code",
   "execution_count": 135,
   "metadata": {
    "collapsed": false
   },
   "outputs": [],
   "source": [
    "import numpy as np\n",
    "import matplotlib.pyplot as plt\n",
    "import matplotlib.cbook as cbook\n",
    "import re\n",
    "from matplotlib.pyplot import figure, show, axes, sci\n",
    "from matplotlib import cm, colors\n",
    "from matplotlib.font_manager import FontProperties\n",
    "from numpy import amin, amax, ravel\n",
    "import numpy.ma as ma\n",
    "\n",
    "def get_eg_matrix(filename):\n",
    "    A_set = set()\n",
    "    B1_set = set()\n",
    "    B2_set = set()\n",
    "    X_set = set()\n",
    "    value_eg = {}\n",
    "\n",
    "    import re\n",
    "    with open(filename,'r') as f:\n",
    "        for line in f:\n",
    "            compound = line.split()[0]\n",
    "            if compound != 'None':\n",
    "                eg = line.split()[1]  ##change here for 1->tolerance or 2->octahedron\n",
    "                value_eg[compound] = eg\n",
    "                A_set.add(re.split('1|2|6', compound)[0])\n",
    "                B1_set.add(re.split('1|2|6', compound)[1])\n",
    "                B2_set.add(re.split('1|2|6', compound)[2])\n",
    "                X_set.add(re.split('1|2|6', compound)[3])  \n",
    "    print(A_set)\n",
    "    print(B1_set)\n",
    "    print(B2_set)\n",
    "    print(X_set)\n",
    "    print(value_eg)\n",
    "    \n",
    "    B1_list = ['Cu','Ag','Au','In','Tl']\n",
    "    B2_list = ['Sc', 'Y', 'Al','Ga','In','Tl','As','Sb','Bi']\n",
    "\n",
    "    import numpy as np\n",
    "    eg = np.zeros( (len(B1_list), len(B2_list)) )\n",
    "    number = 0\n",
    "    for a in range(len(B1_list)):\n",
    "        for b in range(len(B2_list)):\n",
    "            compound = 'Cs'+'2'+B1_list[a]+'1'+B2_list[b]+'1'+'Cl'+'6'\n",
    "            if compound in value_eg:\n",
    "                eg[a][b] = value_eg[compound]\n",
    "                number +=1\n",
    "            else:\n",
    "                eg[a][b] = 1000\n",
    "    return eg"
   ]
  },
  {
   "cell_type": "code",
   "execution_count": 134,
   "metadata": {
    "collapsed": false
   },
   "outputs": [
    {
     "name": "stdout",
     "output_type": "stream",
     "text": [
      "{'Rb', 'Cs', 'K'}\n",
      "{'Tl', 'Cu', 'In', 'Au', 'Ag'}\n",
      "{'Sb', 'Sc', 'Bi', 'Ga', 'Tl', 'Y', 'In', 'As', 'Al'}\n",
      "{'Cl', 'I', 'Br'}\n",
      "{'Cs2Au1In1Cl6': '0', 'Rb2Tl1Sb1I6': '0', 'Cs2Au1Al1Cl6': '0.4189', 'Cs2In1As1Cl6': '0.6008', 'Rb2Tl1Sb1Br6': '0.6163', 'Cs2Au1Bi1Cl6': '0.4838', 'Cs2In1Ga1Cl6': '1.7992', 'Rb2Tl1Tl1Br6': '0.3445', 'Cs2Tl1Ga1Cl6': '2.4169', 'Cs2Tl1As1I6': '0.4953', 'Rb2Ag1In1Br6': '0.208', 'Cs2In1Bi1Br6': '0.0105', 'K2Au1Sc1I6': '0.8706', 'Cs2In1Tl1Cl6': '2.4674', 'Cs2In1Ga1I6': '0.2638', 'Cs2In1As1Br6': '0.1305', 'Cs2In1In1Br6': '0.7825', 'Cs2Tl1In1Cl6': '2.4576', 'Rb2In1Bi1Cl6': '0.3675', 'Cs2Cu1In1Cl6': '0', 'Rb2In1Ga1I6': '0.2143', 'Cs2Cu1Bi1Cl6': '0.8221', 'Cs2In1Sc1Cl6': '2.7324', 'Rb2In1In1Br6': '0.6834', 'Cs2In1In1Cl6': '1.5929', 'Cs2Au1Ga1Cl6': '0', 'Cs2Tl1Al1Cl6': '3.6649', 'Cs2Ag1Tl1Cl6': '0', 'Cs2Ag1Bi1Cl6': '1.6277', 'Cs2Ag1As1Cl6': '1.3025', 'Rb2In1As1Cl6': '0', 'Cs2In1Bi1Cl6': '0.4828', 'Rb2In1Sb1Cl6': '0.387', 'Cs2Ag1Ga1Cl6': '1.0008', 'Cs2Cu1Sc1Cl6': '1.8605', 'Cs2Ag1Sb1Cl6': '1.3676', 'Cs2Tl1Y1Cl6': '3.9896', 'K2Tl1Sb1Br6': '0.5585', 'Cs2Tl1Tl1Cl6': '1.0455', 'Cs2Ag1Sc1Cl6': '3.2877', 'Cs2Tl1As1Cl6': '1.2511', 'Cs2Tl1Tl1Br6': '0.408', 'Cs2Ag1Sb1I6': '0.3655', 'Cs2Ag1In1Cl6': '1.0749', 'Cs2Tl1In1I6': '0.7949', 'Cs2Tl1As1Br6': '0.8156', 'Cs2Cu1Bi1Br6': '0.5888', 'Cs2Cu1Tl1Cl6': '0', 'Cs2Tl1Sb1I6': '0.3466', 'Cs2In1Tl1I6': '0.7916', 'Cs2In1Sb1Br6': '0.0739', 'Cs2Ag1Al1Cl6': '2.2332', 'Rb2Tl1Tl1Cl6': '0.9319', 'Rb2Ag1Sb1I6': '0.3378', 'Cs2Cu1Y1Cl6': '2.3786', 'Cs2In1Al1Cl6': '2.9689', 'Cs2In1Y1Cl6': '3.3707', 'Cs2Tl1Sc1Cl6': '3.4695', 'Cs2Tl1Sb1Cl6': '1.1039', 'Rb2Au1Sb1Cl6': '0.1653', 'Rb2Cu1Bi1Br6': '0.5819', 'K2Ag1In1Cl6': '0.9968', 'Cs2Au1Y1Cl6': '1.8508', 'Rb2Tl1As1I6': '0.4095', 'Rb2In1Sb1Br6': '0.0376', 'Rb2Ag1In1Cl6': '1.0155', 'Cs2Au1Tl1Cl6': '0', 'Cs2Tl1Bi1Cl6': '1.1572', 'Cs2Tl1Bi1I6': '0.3262', 'Cs2Ag1Y1Cl6': '3.675', 'Cs2In1Sb1Cl6': '0.528', 'Cs2Au1Sc1Cl6': '1.6891', 'Cs2Tl1Sb1Br6': '0.6862', 'Cs2Ag1In1Br6': '0.2365', 'Cs2Au1Sb1Cl6': '0.1938', 'Cs2Cu1Sb1Cl6': '0.6564', 'Rb2Au1Sc1I6': '0.855', 'Cs2Au1Sc1I6': '0.8293', 'Rb2Tl1As1Br6': '0.7188', 'Cs2Au1As1Cl6': '0.0967'}\n"
     ]
    },
    {
     "data": {
      "text/plain": [
       "array([[  1.86050000e+00,   2.37860000e+00,   1.00000000e+03,\n",
       "          1.00000000e+03,   0.00000000e+00,   0.00000000e+00,\n",
       "          1.00000000e+03,   6.56400000e-01,   8.22100000e-01],\n",
       "       [  3.28770000e+00,   3.67500000e+00,   2.23320000e+00,\n",
       "          1.00080000e+00,   1.07490000e+00,   0.00000000e+00,\n",
       "          1.30250000e+00,   1.36760000e+00,   1.62770000e+00],\n",
       "       [  1.68910000e+00,   1.85080000e+00,   4.18900000e-01,\n",
       "          0.00000000e+00,   0.00000000e+00,   0.00000000e+00,\n",
       "          9.67000000e-02,   1.93800000e-01,   4.83800000e-01],\n",
       "       [  2.73240000e+00,   3.37070000e+00,   2.96890000e+00,\n",
       "          1.79920000e+00,   1.59290000e+00,   2.46740000e+00,\n",
       "          6.00800000e-01,   5.28000000e-01,   4.82800000e-01],\n",
       "       [  3.46950000e+00,   3.98960000e+00,   3.66490000e+00,\n",
       "          2.41690000e+00,   2.45760000e+00,   1.04550000e+00,\n",
       "          1.25110000e+00,   1.10390000e+00,   1.15720000e+00]])"
      ]
     },
     "execution_count": 134,
     "metadata": {},
     "output_type": "execute_result"
    }
   ],
   "source": [
    "filename_eg = '/Users/yao/Google Drive/data/2116/data/Eg_result_SOC'\n",
    "eg = get_eg_matrix(filename_eg)\n",
    "\n",
    "import numpy.ma as ma\n",
    "masked_eg = ma.masked_where(eg<-1, eg)\n",
    "eg"
   ]
  },
  {
   "cell_type": "code",
   "execution_count": 131,
   "metadata": {
    "collapsed": false
   },
   "outputs": [
    {
     "name": "stdout",
     "output_type": "stream",
     "text": [
      "posy=0, B1_list=['Cu', 'Ag', 'Au']\n",
      "posx=0, B2_list=['Sc', 'Y']\n",
      "[[ 1.8605  2.3786]\n",
      " [ 3.2877  3.675 ]\n",
      " [ 1.6891  1.8508]]\n",
      "posy=0, B1_list=['Cu', 'Ag', 'Au']\n",
      "posx=2, B2_list=['Al', 'Ga', 'In', 'Tl']\n",
      "[[  1.00000000e+03   1.00000000e+03   0.00000000e+00   0.00000000e+00]\n",
      " [  2.23320000e+00   1.00080000e+00   1.07490000e+00   0.00000000e+00]\n",
      " [  4.18900000e-01   0.00000000e+00   0.00000000e+00   0.00000000e+00]]\n",
      "posy=0, B1_list=['Cu', 'Ag', 'Au']\n",
      "posx=6, B2_list=['As', 'Sb', 'Bi']\n",
      "[[  1.00000000e+03   6.56400000e-01   8.22100000e-01]\n",
      " [  1.30250000e+00   1.36760000e+00   1.62770000e+00]\n",
      " [  9.67000000e-02   1.93800000e-01   4.83800000e-01]]\n",
      "posy=3, B1_list=['In', 'Tl']\n",
      "posx=0, B2_list=['Sc', 'Y']\n",
      "[[ 2.7324  3.3707]\n",
      " [ 3.4695  3.9896]]\n",
      "posy=3, B1_list=['In', 'Tl']\n",
      "posx=2, B2_list=['Al', 'Ga', 'In', 'Tl']\n",
      "[[ 2.9689  1.7992  1.5929  2.4674]\n",
      " [ 3.6649  2.4169  2.4576  1.0455]]\n",
      "posy=3, B1_list=['In', 'Tl']\n",
      "posx=6, B2_list=['As', 'Sb', 'Bi']\n",
      "[[ 0.6008  0.528   0.4828]\n",
      " [ 1.2511  1.1039  1.1572]]\n"
     ]
    },
    {
     "data": {
      "image/png": "[encoded data removed]",
      "text/plain": [
       "<matplotlib.figure.Figure at 0x111501240>"
      ]
     },
     "metadata": {},
     "output_type": "display_data"
    }
   ],
   "source": [
    "B1_list = [['Cu','Ag','Au'],['In','Tl']]\n",
    "B2_list = [['Sc', 'Y'], ['Al','Ga','In','Tl'],['As','Sb','Bi']]\n",
    "\n",
    "fig = figure(figsize=(6,4))\n",
    "#cmap = cm.cool\n",
    "ax = []\n",
    "images = []\n",
    "vmin = 1e40\n",
    "vmax = -1e40\n",
    "cax = fig.add_axes([1, 1, 0.02, 0.9])\n",
    "\n",
    "pos_matrix = [[0, 3],[0, 2, 6]]\n",
    "wh_matrix = [[3, 2],[2, 4, 3]]\n",
    "for i in [0, 1]:\n",
    "    for j in [0, 1, 2]:     \n",
    "        h = 0.1*wh_matrix[0][i]\n",
    "        w = 0.1*wh_matrix[1][j]\n",
    "        posy = 0.1*pos_matrix[0][i] + 0.1*i\n",
    "        posx = 0.1*pos_matrix[1][j] \n",
    "        pos = [posx,posy,w,h]\n",
    "        posyy = pos_matrix[0][i]\n",
    "        posxx = pos_matrix[1][j]\n",
    "        dd = ravel(masked_eg[posyy:posyy+len(B1_list[i]), posxx:posxx+len(B2_list[j])])\n",
    "\n",
    "\n",
    "        a = fig.add_axes(pos)\n",
    "        \n",
    "        plt.yticks(np.arange(len(B1_list[i])), B1_list[i], size='small')\n",
    "        plt.xticks(np.arange(len(B2_list[j])), B2_list[j], size='small')\n",
    "        print('posy={}, B1_list={}'.format(posyy, B1_list[i]))\n",
    "        print('posx={}, B2_list={}'.format(posxx, B2_list[j]))\n",
    "        print(masked_eg[posyy:posyy+len(B1_list[i]), posxx:posxx+len(B2_list[j])])\n",
    "        vmin = min(vmin, amin(dd))\n",
    "        vmax = max(vmax, amax(dd))\n",
    "        images.append(a.imshow(masked_eg[posyy:posyy+len(B1_list[i]), posxx:posxx+len(B2_list[j])],\\\n",
    "                               interpolation = 'nearest',aspect=1))\n",
    "\n",
    "        ax.append(a)\n",
    "    \n",
    "class ImageFollower:\n",
    "    'update image in response to changes in clim or cmap on another image'\n",
    "    def __init__(self, follower):\n",
    "        self.follower = follower\n",
    "    def __call__(self, leader):\n",
    "        self.follower.set_cmap(leader.get_cmap())\n",
    "        self.follower.set_clim(leader.get_clim())\n",
    "norm = colors.Normalize(vmin=vmin, vmax=vmax)\n",
    "for i, im in enumerate(images):\n",
    "    im.set_norm(norm)\n",
    "    if i > 0:\n",
    "        images[0].callbacksSM.connect('changed', ImageFollower(im))\n",
    "fig.colorbar(images[0], cax)\n",
    "axes(ax[0])     # Return the current axes to the first one,\n",
    "sci(images[0])  # because the current image must be in current axes.\n",
    "\n",
    "#rect = fig.patch\n",
    "#rect.set_facecolor('white')\n",
    "\n",
    "cax.text(0.4, 1.02, \"eV\",size=10,transform=cax.transAxes)\n",
    "#ax[0].text(-0.16, 1.1, \"a\", size=13,transform=ax[0].transAxes)\n",
    "plt.savefig('/Users/yao/Google Drive/data/2116/2116 figure/full_data/Eg_trend.pdf', dpi=300, bbox_inches=\"tight\")\n",
    "plt.show()"
   ]
  },
  {
   "cell_type": "code",
   "execution_count": null,
   "metadata": {
    "collapsed": true
   },
   "outputs": [],
   "source": []
  },
  {
   "cell_type": "code",
   "execution_count": null,
   "metadata": {
    "collapsed": true
   },
   "outputs": [],
   "source": []
  }
 ],
 "metadata": {
  "anaconda-cloud": {},
  "kernelspec": {
   "display_name": "Python [conda env:216paper]",
   "language": "python",
   "name": "conda-env-216paper-py"
  },
  "language_info": {
   "codemirror_mode": {
    "name": "ipython",
    "version": 3
   },
   "file_extension": ".py",
   "mimetype": "text/x-python",
   "name": "python",
   "nbconvert_exporter": "python",
   "pygments_lexer": "ipython3",
   "version": "3.5.2"
  }
 },
 "nbformat": 4,
 "nbformat_minor": 1
}
