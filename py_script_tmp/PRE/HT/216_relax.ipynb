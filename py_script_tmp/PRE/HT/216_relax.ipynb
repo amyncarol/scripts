{
 "metadata": {
  "name": "",
  "signature": "sha256:d94dcbdd39d0bed6aa0688858526e86967d40e0bc15c1b5060d01a130303dd10"
 },
 "nbformat": 3,
 "nbformat_minor": 0,
 "worksheets": [
  {
   "cells": [
    {
     "cell_type": "code",
     "collapsed": false,
     "input": [
      "#!/usr/bin/python\n",
      "# -*- coding: iso-8859-1 -*- \n",
      "\n",
      "import os\n",
      "import fileinput\n",
      "import sys\n",
      "import re\n",
      "import string\n",
      "import shutil\n",
      "from pymatgen.io.vaspio.vasp_output import Vasprun\n",
      "from pymatgen.io.vaspio.vasp_input import Poscar\n",
      "from pymatgen.core.periodic_table import Element\n",
      "from  pymatgen.io.vaspio_set import MPVaspInputSet\n",
      "\n",
      "Aele_Screen=['K','Rb','Cs']\n",
      "Bele_Screen=['Si','Ti','V','Cr','Mn','Fe','Co','Ni','Cu','Ge','Zr','Nb','Mo','Ru','Rh','Pd','Sn','Ce','Pr','Tb','Hf','Ta','W','Re','Os','Ir','Pt','Hg','Pb']\n",
      "Cele_Screen=['Cl','Br','I']\n",
      "\n",
      "Fail_log = open ('Fail.log','w')\n",
      "\n",
      "mpvis = MPVaspInputSet()\n",
      "for i in range(len(Aele_Screen)):\n",
      "\tfor j in range(len(Bele_Screen)):\n",
      "\t\tfor k in range(len(Cele_Screen)):\n",
      "\t\t\tcurrentfolder=Aele_Screen[i]+'2'+Bele_Screen[j]+'1'+Cele_Screen[k]+'6'\n",
      "            try:    \n",
      "                str_imported = Vasprun('temp_vasprun.xml').final_structure\n",
      "                str = str_imported\n",
      "                str.replace_species({Element('Cs'):Element(Aele_Screen[i]),Element('Sn'):Element(Bele_Screen[i]),Element('I'):Element(Cele_Screen[i])})\n",
      "\t\t\t\tif not os.path.exists(currentfolder):\n",
      "                    os.mkdir(currentfolder)\n",
      "                    \n",
      "                Poscar(str).write_file(os.path.join(currentfolder,'POSCAR'))\n",
      "                potcar = mpvis.get_potcar(str)\n",
      "                potcar.write_file(os.path.join(currentfolder,'POTCAR'))\n",
      "                shutil.copyfile(os.path.join('INCAR_relax'),os.path.join(currentfolder,'INCAR'))\n",
      "                shutil.copyfile(os.path.join('KPOINTS_relax'),os.path.join(currentfolder,'KPOINTS'))\n",
      "            except:\n",
      "                print >> Fail_log, currentfolder"
     ],
     "language": "python",
     "metadata": {},
     "outputs": []
    }
   ],
   "metadata": {}
  }
 ]
}