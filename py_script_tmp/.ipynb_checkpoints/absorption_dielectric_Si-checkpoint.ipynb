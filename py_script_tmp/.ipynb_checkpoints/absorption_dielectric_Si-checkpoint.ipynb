{
 "cells": [
  {
   "cell_type": "code",
   "execution_count": 1,
   "metadata": {
    "collapsed": false
   },
   "outputs": [],
   "source": [
    "from pymatgen.io.vasp.outputs import Vasprun\n",
    "from pymatgen.core.physical_constants import c,h,e\n",
    "import pymatgen.io.vasp.outputs2 as outputs2\n",
    "import matplotlib.pyplot as plt\n",
    "from math import sqrt,pi\n",
    "import re\n",
    "import numpy as np"
   ]
  },
  {
   "cell_type": "code",
   "execution_count": 3,
   "metadata": {
    "collapsed": false
   },
   "outputs": [
    {
     "name": "stderr",
     "output_type": "stream",
     "text": [
      "/usr/local/lib/python2.7/site-packages/pymatgen/io/vasp/outputs2.py:813: UserWarning: No POTCAR file with matching TITEL fields was found in /Users/yao/Google Drive/data/Si-dielectric/hybrid-chi/k10\n",
      "  \" was found in {}\".format(os.path.abspath(p)))\n"
     ]
    }
   ],
   "source": [
    "# absorption\n",
    "\n",
    "vr_list = {}\n",
    "vr_list['cshift0.1']= Vasprun('/Users/yao/Google Drive/data/Si-dielectric/pbe-ip/k24/vasprun.xml')\n",
    "vr_list['cshift0.05']= Vasprun('/Users/yao/Google Drive/data/Si-dielectric/pbe-ip/k24/cshift0.05/vasprun.xml')\n",
    "vr_list['cshift0.02']= Vasprun('/Users/yao/Google Drive/data/Si-dielectric/pbe-ip/k24/cshift0.02/vasprun.xml')\n",
    "vr_list['chi']=outputs2.Vasprun('/Users/yao/Google Drive/data/Si-dielectric/hybrid-chi/k10/nomega300/vasprun.xml')\n",
    "for kpoints in vr_list:\n",
    "    energy = vr_list[kpoints].dielectric[0]\n",
    "    real_tensor = vr_list[kpoints].dielectric[1]\n",
    "    imag_tensor = vr_list[kpoints].dielectric[2]\n",
    "    nedos = len(energy)\n",
    "    real_iso = []\n",
    "    imag_iso = []\n",
    "    for i in range(nedos):\n",
    "        real_iso.append(real_tensor[i][0])\n",
    "        imag_iso.append(imag_tensor[i][0])\n",
    "    \n",
    "# isotropic\n",
    "    constant = 4*pi*e/(h*c)*0.01 \n",
    "    norm_iso = np.zeros(nedos)\n",
    "    k_iso = np.zeros(nedos)\n",
    "    absorb_iso = np.zeros(nedos)\n",
    "    for i in range(nedos):\n",
    "        norm_iso[i] = sqrt(imag_iso[i]**2+real_iso[i]**2)\n",
    "        k_iso[i] = sqrt(2)/2*sqrt(norm_iso[i]-real_iso[i])\n",
    "        absorb_iso[i] = energy[i]*k_iso[i]*constant\n",
    "    plt.semilogy(energy, absorb_iso, label=kpoints)\n",
    "\n",
    "plt.legend(loc = 'upper left')\n",
    "plt.show()"
   ]
  },
  {
   "cell_type": "code",
   "execution_count": null,
   "metadata": {
    "collapsed": false
   },
   "outputs": [],
   "source": []
  },
  {
   "cell_type": "code",
   "execution_count": null,
   "metadata": {
    "collapsed": false
   },
   "outputs": [],
   "source": []
  },
  {
   "cell_type": "code",
   "execution_count": null,
   "metadata": {
    "collapsed": false
   },
   "outputs": [],
   "source": [
    "\n",
    "\n",
    "\n",
    "    "
   ]
  },
  {
   "cell_type": "code",
   "execution_count": null,
   "metadata": {
    "collapsed": false
   },
   "outputs": [],
   "source": []
  },
  {
   "cell_type": "code",
   "execution_count": null,
   "metadata": {
    "collapsed": true
   },
   "outputs": [],
   "source": []
  }
 ],
 "metadata": {
  "kernelspec": {
   "display_name": "Python 2",
   "language": "python",
   "name": "python2"
  },
  "language_info": {
   "codemirror_mode": {
    "name": "ipython",
    "version": 2
   },
   "file_extension": ".py",
   "mimetype": "text/x-python",
   "name": "python",
   "nbconvert_exporter": "python",
   "pygments_lexer": "ipython2",
   "version": "2.7.9"
  }
 },
 "nbformat": 4,
 "nbformat_minor": 1
}
