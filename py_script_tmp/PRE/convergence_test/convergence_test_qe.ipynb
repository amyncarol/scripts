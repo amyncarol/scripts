{
 "cells": [
  {
   "cell_type": "code",
   "execution_count": 23,
   "metadata": {
    "collapsed": false
   },
   "outputs": [
    {
     "name": "stdout",
     "output_type": "stream",
     "text": [
      "[-1050185.258344, -1050246.5746240001, -1050255.6276, -1050257.45136, -1050257.906552]\n",
      "[-210037.0516688, -210049.3149248, -210051.12552, -210051.49027200002, -210051.58131039998]\n"
     ]
    }
   ],
   "source": [
    "natom = 5\n",
    "encut = []\n",
    "energy_in_eV = []\n",
    "energy_per_atom = []\n",
    "with open('/Users/yao/kpoints','r') as f:\n",
    "    for line in f:\n",
    "        encut.append(line.split()[0])\n",
    "        energy_in_eV.append(float(line.split()[1])*13.6*1000)\n",
    "        energy_per_atom.append(float(line.split()[1])*13.6*1000/natom)\n",
    "print(energy_in_eV)\n",
    "print(energy_per_atom)"
   ]
  },
  {
   "cell_type": "code",
   "execution_count": 24,
   "metadata": {
    "collapsed": false
   },
   "outputs": [
    {
     "name": "stdout",
     "output_type": "stream",
     "text": [
      "4 14.529641599976458\n",
      "6 2.2663855999708176\n",
      "8 0.45579039998119697\n",
      "10 0.09103839995805174\n",
      "12 0.0\n"
     ]
    }
   ],
   "source": [
    "for i in range(len(energy_per_atom)):\n",
    "    print(encut[i], energy_per_atom[i]-energy_per_atom[-1])"
   ]
  },
  {
   "cell_type": "code",
   "execution_count": null,
   "metadata": {
    "collapsed": true
   },
   "outputs": [],
   "source": []
  }
 ],
 "metadata": {
  "anaconda-cloud": {},
  "kernelspec": {
   "display_name": "Python [conda root]",
   "language": "python",
   "name": "conda-root-py"
  },
  "language_info": {
   "codemirror_mode": {
    "name": "ipython",
    "version": 3
   },
   "file_extension": ".py",
   "mimetype": "text/x-python",
   "name": "python",
   "nbconvert_exporter": "python",
   "pygments_lexer": "ipython3",
   "version": "3.5.2"
  }
 },
 "nbformat": 4,
 "nbformat_minor": 1
}
