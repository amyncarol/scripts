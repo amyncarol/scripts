{
 "cells": [
  {
   "cell_type": "code",
   "execution_count": 12,
   "metadata": {
    "collapsed": false
   },
   "outputs": [],
   "source": [
    "import json\n",
    "materials = []\n",
    "with open('/Users/yao/Desktop/band offset/gap3.csv', 'r') as f:\n",
    "    for line in f:\n",
    "        mid = line.split(',')[2].rstrip()\n",
    "        if mid != 'NA':\n",
    "            materials.append(mid)"
   ]
  },
  {
   "cell_type": "code",
   "execution_count": 13,
   "metadata": {
    "collapsed": false,
    "scrolled": true
   },
   "outputs": [],
   "source": [
    "from pymatgen.matproj.rest import MPRester\n",
    "import os\n",
    "from pymatgen.core.periodic_table import Element\n",
    "from pymatgen.io.vasp.inputs import Poscar\n",
    "from pymatgen.io.vasp.sets import MPStaticSet\n",
    "\n",
    "os.makedirs('DOS-2',exist_ok=True)\n",
    "with MPRester(os.environ['MAPI_KEY']) as m:\n",
    "    for mid in materials:\n",
    "        try:\n",
    "            formula = m.get_data(mid, data_type=\"vasp\", prop=\"pretty_formula\")[0]['pretty_formula']\n",
    "            structure = m.get_structure_by_material_id(mid)\n",
    "            usetting = {'EDIFF': 1e-5}\n",
    "            sset = MPStaticSet(structure, reciprocal_density=100, user_incar_settings=usetting)\n",
    "            sset.write_input('DOS-2/'+formula)\n",
    "        except:\n",
    "            print(mid)\n",
    "        "
   ]
  },
  {
   "cell_type": "code",
   "execution_count": 2,
   "metadata": {
    "collapsed": false
   },
   "outputs": [],
   "source": [
    "from pymatgen.matproj.rest import MPRester\n",
    "import os\n",
    "from pymatgen.io.vasp.sets import MPHSERelaxSet\n",
    "os.makedirs('DOS-HSE',exist_ok=True)\n",
    "with MPRester(os.environ['MAPI_KEY']) as m:\n",
    "    for mid in materials:\n",
    "        formula = m.get_data(mid, data_type=\"vasp\", prop=\"pretty_formula\")[0]['pretty_formula']\n",
    "        structure = m.get_structure_by_material_id(mid)\n",
    "        usetting = {'EDIFF': 1e-5, 'ISMEAR': -5, 'IBRION': -1, 'NSW': 0,\n",
    "                   'AMIX': 0.1, 'TIME': 0.4, 'NKRED': 1, 'LASPH': '.TRUE.', 'LMAXMIX': 4}\n",
    "        sset = MPHSERelaxSet(structure, user_incar_settings=usetting)\n",
    "        sset.write_input('DOS-HSE/'+formula)"
   ]
  },
  {
   "cell_type": "code",
   "execution_count": null,
   "metadata": {
    "collapsed": true
   },
   "outputs": [],
   "source": []
  },
  {
   "cell_type": "code",
   "execution_count": 21,
   "metadata": {
    "collapsed": false
   },
   "outputs": [],
   "source": [
    "## k-test\n",
    "materials = ['mp-2534', 'mp-2133']\n",
    "\n",
    "from pymatgen.matproj.rest import MPRester\n",
    "import os\n",
    "from pymatgen.core.periodic_table import Element\n",
    "from pymatgen.io.vasp.inputs import Poscar\n",
    "from pymatgen.io.vasp.sets import MPStaticSet\n",
    "\n",
    "os.makedirs('DOS-ktest',exist_ok=True)\n",
    "with MPRester(os.environ['MAPI_KEY']) as m:\n",
    "    for mid in materials:\n",
    "        formula = m.get_data(mid, data_type=\"vasp\", prop=\"pretty_formula\")[0]['pretty_formula']\n",
    "        structure = m.get_structure_by_material_id(mid)\n",
    "        usetting = {'EDIFF': 1e-5}\n",
    "        for density in [10, 30, 100, 300, 1000]:\n",
    "            sset = MPStaticSet(structure, reciprocal_density=density, \n",
    "                               user_incar_settings=usetting, force_gamma = False)\n",
    "            sset.write_input('DOS-ktest/'+formula+'-k'+str(density))\n"
   ]
  },
  {
   "cell_type": "code",
   "execution_count": 1,
   "metadata": {
    "collapsed": true
   },
   "outputs": [],
   "source": [
    "## BS calculation\n",
    "materials = ['mp-2534'] #, 'mp-2133']\n",
    "\n",
    "from pymatgen.matproj.rest import MPRester\n",
    "import os\n",
    "from pymatgen.core.periodic_table import Element\n",
    "from pymatgen.io.vasp.inputs import Poscar\n",
    "from pymatgen.io.vasp.sets import MPStaticSet, MPNonSCFSet\n",
    "\n",
    "os.makedirs('DOS-BS',exist_ok=True)\n",
    "with MPRester(os.environ['MAPI_KEY']) as m:\n",
    "    for mid in materials:\n",
    "        formula = m.get_data(mid, data_type=\"vasp\", prop=\"pretty_formula\")[0]['pretty_formula']\n",
    "        #structure = m.get_structure_by_material_id(mid)\n",
    "        #usetting = {'EDIFF': 1e-5}\n",
    "        prev_dir = '/Users/yao/Google Drive/data/semiconductor/DOS-PBE/'+formula\n",
    "        sset = MPNonSCFSet.from_prev_calc(prev_dir)                         \n",
    "        sset.write_input('DOS-BS/'+formula)\n"
   ]
  },
  {
   "cell_type": "code",
   "execution_count": 9,
   "metadata": {
    "collapsed": false
   },
   "outputs": [
    {
     "data": {
      "text/plain": [
       "'ZnTe'"
      ]
     },
     "execution_count": 9,
     "metadata": {},
     "output_type": "execute_result"
    }
   ],
   "source": [
    "import glob\n",
    "\n",
    "dir_list = glob.glob('/Users/yao/Google Drive/data/semiconductor/DOS-PBE/*')\n",
    "for d in dir_list:\n",
    "    formula = d.split('/')[7]\n",
    "\n"
   ]
  },
  {
   "cell_type": "code",
   "execution_count": null,
   "metadata": {
    "collapsed": true
   },
   "outputs": [],
   "source": []
  }
 ],
 "metadata": {
  "anaconda-cloud": {},
  "kernelspec": {
   "display_name": "Python [default]",
   "language": "python",
   "name": "python3"
  },
  "language_info": {
   "codemirror_mode": {
    "name": "ipython",
    "version": 3
   },
   "file_extension": ".py",
   "mimetype": "text/x-python",
   "name": "python",
   "nbconvert_exporter": "python",
   "pygments_lexer": "ipython3",
   "version": "3.5.2"
  }
 },
 "nbformat": 4,
 "nbformat_minor": 1
}
