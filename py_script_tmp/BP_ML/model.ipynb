{
 "cells": [
  {
   "cell_type": "code",
   "execution_count": 11,
   "metadata": {
    "collapsed": false
   },
   "outputs": [
    {
     "name": "stdout",
     "output_type": "stream",
     "text": [
      "Automatically created module for IPython interactive environment\n"
     ]
    }
   ],
   "source": [
    "print(__doc__)\n",
    "\n",
    "import matplotlib.pyplot as plt\n",
    "import numpy as np\n",
    "from sklearn import datasets, linear_model\n",
    "\n",
    "import json \n",
    "# Load the diabetes dataset\n",
    "\n",
    "with open('/Users/yao/Desktop/band offset/data.json', 'r') as f:\n",
    "    data = json.load(f)\n",
    "    \n",
    "offset = {'data': np.array(data['data']), 'target': np.array(data['target'])}\n",
    "\n",
    "offset_X = offset['data']\n",
    "offset_y = offset['target']\n",
    "\n",
    "offset_X_train = offset_X[:-10]\n",
    "offset_X_test = offset_X[-10:]\n",
    "\n",
    "offset_y_train = offset_y[:-10]\n",
    "offset_y_test = offset_y[-10:]"
   ]
  },
  {
   "cell_type": "code",
   "execution_count": 12,
   "metadata": {
    "collapsed": false
   },
   "outputs": [
    {
     "data": {
      "text/plain": [
       "LinearRegression(copy_X=True, fit_intercept=True, n_jobs=1, normalize=False)"
      ]
     },
     "execution_count": 12,
     "metadata": {},
     "output_type": "execute_result"
    }
   ],
   "source": [
    "# Create linear regression object\n",
    "regr = linear_model.LinearRegression()\n",
    "\n",
    "# Train the model using the training sets\n",
    "regr.fit(offset_X, offset_y)"
   ]
  },
  {
   "cell_type": "code",
   "execution_count": 13,
   "metadata": {
    "collapsed": false
   },
   "outputs": [
    {
     "name": "stdout",
     "output_type": "stream",
     "text": [
      "Coefficients: \n",
      " [ -1.64389608e+00   9.28386355e-01   4.90738732e-01  -1.61310529e-01\n",
      "  -1.67966008e+01   1.64739798e+01   1.58798546e+01  -2.94304461e+01\n",
      "   1.43104553e+01   1.64268249e-01   6.87505771e+01  -6.84220406e+01\n",
      "  -8.54553363e-01   9.39494366e-01   4.24705012e-02   1.50552638e-01\n",
      "   1.50552638e-01   1.50552638e-01   3.04351925e+00  -2.97441989e+00\n",
      "   3.45496822e-02   2.22052454e-01   2.22052454e-01   2.22052454e-01]\n",
      "Mean squared error: 0.32\n",
      "Variance score: 0.64\n"
     ]
    }
   ],
   "source": [
    "# The coefficients\n",
    "print('Coefficients: \\n', regr.coef_)\n",
    "# The mean squared error\n",
    "print(\"Mean squared error: %.2f\"\n",
    "      % np.mean((regr.predict(offset_X_test) - offset_y_test) ** 2))\n",
    "# Explained variance score: 1 is perfect prediction\n",
    "print('Variance score: %.2f' % regr.score(offset_X_test, offset_y_test))\n"
   ]
  },
  {
   "cell_type": "code",
   "execution_count": 14,
   "metadata": {
    "collapsed": false
   },
   "outputs": [
    {
     "data": {
      "image/png": "[encoded data removed]",
      "text/plain": [
       "<matplotlib.figure.Figure at 0x1106ca438>"
      ]
     },
     "metadata": {},
     "output_type": "display_data"
    }
   ],
   "source": [
    "plt.plot(regr.predict(offset_X), offset_y, 'o')\n",
    "plt.show()"
   ]
  },
  {
   "cell_type": "code",
   "execution_count": 15,
   "metadata": {
    "collapsed": false
   },
   "outputs": [
    {
     "name": "stdout",
     "output_type": "stream",
     "text": [
      "[False False False False False False False False False False False False\n",
      " False False False False False False False False False False False False\n",
      " False False False False False False False False False False False False\n",
      " False False False False False False False False False False False  True\n",
      " False False False False False False False False False False False False\n",
      " False False False False False False False False False False False False\n",
      " False False False False False False False False False False False False\n",
      " False False]\n",
      "[ 0.5         0.8         0.4         0.39666667 -0.385       0.87666667\n",
      " -0.52       -0.31        0.19        1.405      -0.64        0.96        0.47\n",
      "  0.87        0.85        0.44        2.22        1.435       1.36        2.3\n",
      "  2.825       1.655       3.166       1.1         0.58        2.286\n",
      "  2.98333333  1.1         1.52        0.49        1.5         3.5         1.505\n",
      "  0.8         0.39        0.3         1.85        0.43        4.2         0.5\n",
      "  4.46916667  2.035       1.64        2.86        0.6         0.17        1.2\n",
      "  8.7         1.13        2.1         1.2         2.37666667  1.21        0.87\n",
      "  0.135       0.82        0.48        0.8         0.05        1.24        4.59\n",
      "  1.59        3.1         2.5         2.2         2.8         0.5         0.78\n",
      "  0.1         2.37        1.13        2.          2.1         0.6         0.95\n",
      "  1.2         0.1         3.1         2.39        0.95        2.6         1.43\n",
      "  2.505       0.38        1.43        1.4       ]\n"
     ]
    }
   ],
   "source": [
    "print(offset_y > 5)\n",
    "print(offset_y)"
   ]
  },
  {
   "cell_type": "code",
   "execution_count": null,
   "metadata": {
    "collapsed": true
   },
   "outputs": [],
   "source": []
  }
 ],
 "metadata": {
  "anaconda-cloud": {},
  "kernelspec": {
   "display_name": "Python [default]",
   "language": "python",
   "name": "python3"
  },
  "language_info": {
   "codemirror_mode": {
    "name": "ipython",
    "version": 3
   },
   "file_extension": ".py",
   "mimetype": "text/x-python",
   "name": "python",
   "nbconvert_exporter": "python",
   "pygments_lexer": "ipython3",
   "version": "3.5.2"
  }
 },
 "nbformat": 4,
 "nbformat_minor": 1
}
