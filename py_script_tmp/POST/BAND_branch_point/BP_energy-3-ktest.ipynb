{
 "cells": [
  {
   "cell_type": "code",
   "execution_count": 1,
   "metadata": {
    "collapsed": false
   },
   "outputs": [],
   "source": [
    "from pymatgen.io.vasp.outputs import Vasprun\n",
    "import numpy as np\n",
    "import os\n",
    "import glob\n",
    "from pymatgen.electronic_structure.core import Spin"
   ]
  },
  {
   "cell_type": "code",
   "execution_count": 2,
   "metadata": {
    "collapsed": true
   },
   "outputs": [],
   "source": [
    "def BZ_avg(eigenvalues, band_index,kpoints,kpoints_weights):\n",
    "    \"\"\"\n",
    "    :param eigenvalues: eigenvalues of all bands with the format of Vasprun.eigenvalues\n",
    "    :param band_index: the band index for averaging\n",
    "    :param kpoints: sampled k-points\n",
    "    :param kpoints_weights: the weights of sampled k-points\n",
    "    :return: the average of a particular band over k-points in the BZ\n",
    "    \"\"\"\n",
    "    energy_array = [ eigenvalues[Spin.up][k_point_index][band_index][0] for k_point_index in range(len(kpoints))]\n",
    "    return np.average(energy_array, weights=kpoints_weights)"
   ]
  },
  {
   "cell_type": "code",
   "execution_count": 3,
   "metadata": {
    "collapsed": true
   },
   "outputs": [],
   "source": [
    "def Branch_point_energy(vr, vb_sampling_num, cb_sampling_num, scissor):\n",
    "    \"\"\"\n",
    "    Calculate the Branch_point_energy with the formula proposed in:\n",
    "    APPLIED PHYSICS LETTERS 94, 012104 2009 ; doi: 10.1063/1.3059569\n",
    "\n",
    "    :param vr: Vasprun Object\n",
    "    :param cb_sampling_num: the number of cb for sampling. Default vb_sampling_num = 2* cb_sampling_num\n",
    "    :return:\n",
    "    \"\"\"\n",
    "    #vb_sampling_num = 2*cb_sampling_num\n",
    "    vbm_band_index = len(list(filter(lambda u:u[1]!=0, vr.eigenvalues[Spin.up][0])))-1\n",
    "\n",
    "    vb_sampling_indexes = [vbm_band_index-i for i in range(vb_sampling_num)]\n",
    "    cb_sampling_indexes = [vbm_band_index+i+1 for i in range(cb_sampling_num)]\n",
    "    \n",
    "\n",
    "    vb_avg = sum([BZ_avg(vr.eigenvalues,vb_index,vr.actual_kpoints,vr.actual_kpoints_weights)\n",
    "               for vb_index in vb_sampling_indexes])/len(vb_sampling_indexes)\n",
    "    cb_avg = sum([BZ_avg(vr.eigenvalues,cb_index,vr.actual_kpoints,vr.actual_kpoints_weights)\n",
    "               for cb_index in cb_sampling_indexes])/len(cb_sampling_indexes) + scissor\n",
    "    \n",
    "    return np.mean([vb_avg,cb_avg])"
   ]
  },
  {
   "cell_type": "code",
   "execution_count": 4,
   "metadata": {
    "collapsed": false
   },
   "outputs": [],
   "source": [
    "gap_dict = {}\n",
    "with open('/Users/yao/Desktop/band offset/gap.csv') as f:\n",
    "    for line in f:\n",
    "        gap_dict[line.split(',')[0]] = float(line.split(',')[1])"
   ]
  },
  {
   "cell_type": "code",
   "execution_count": 68,
   "metadata": {
    "collapsed": false
   },
   "outputs": [],
   "source": [
    "kpoints = [30, 100, 300, 1000]\n",
    "ebp_list = []\n",
    "vbm_list = []\n",
    "cbm_list = []\n",
    "bandgap_list = []\n",
    "kppa_list = []\n",
    "folder = '/Users/yao/Google Drive/data/semiconductor/DOS-ktest/'\n",
    "compound = 'ZnO'\n",
    "\n",
    "for k in kpoints:             \n",
    "    currentfolder = folder + '/' + compound + '-k' + str(k)\n",
    "    vr = Vasprun(os.path.join(currentfolder,'vasprun.xml'))\n",
    "    bandgap = vr.eigenvalue_band_properties[0]\n",
    "    #scissor = gap_dict[compound] - bandgap\n",
    "    vbm = vr.eigenvalue_band_properties[2]\n",
    "    cbm = vr.eigenvalue_band_properties[1] #+ scissor\n",
    "    ebp = Branch_point_energy(vr, vb_sampling_num=1, cb_sampling_num=1, scissor = 0)\n",
    "    #ebp_vbm = ebp-vbm\n",
    "    ebp_list.append(ebp)\n",
    "    vbm_list.append(vbm)\n",
    "    cbm_list.append(cbm)\n",
    "    bandgap_list.append(bandgap)\n",
    "    x = vr.kpoints.kpts[0][0]\n",
    "    y = vr.kpoints.kpts[0][1]\n",
    "    z = vr.kpoints.kpts[0][2]\n",
    "    no_sites = vr.final_structure.num_sites\n",
    "    kppa = x*y*z*no_sites\n",
    "    kppa_list.append(kppa)\n",
    "    \n",
    "folder_BS = '/Users/yao/Google Drive/data/semiconductor/DOS-BS/ZnO/vasprun.xml'\n",
    "vr = Vasprun(folder_BS)  \n",
    "bandgap = vr.eigenvalue_band_properties[0]\n",
    "vbm = vr.eigenvalue_band_properties[2]\n",
    "cbm = vr.eigenvalue_band_properties[1]\n",
    "#ebp = ebp - vbm"
   ]
  },
  {
   "cell_type": "markdown",
   "metadata": {
    "collapsed": true
   },
   "source": []
  },
  {
   "cell_type": "code",
   "execution_count": 73,
   "metadata": {
    "collapsed": false
   },
   "outputs": [
    {
     "data": {
      "image/png": "[encoded data removed]",
      "text/plain": [
       "<matplotlib.figure.Figure at 0x10d2be208>"
      ]
     },
     "metadata": {},
     "output_type": "display_data"
    }
   ],
   "source": [
    "import matplotlib.pyplot as plt\n",
    "plt.plot(kppa_list, ebp_list, label = 'DOS calculation')\n",
    "plt.xlabel('number of kpoints * number of atoms')\n",
    "plt.ylabel('Branch point energy (eV)')\n",
    "#plt.axhline(y=bandgap, xmin=0, xmax=1, color = 'r', label = 'Band calculation')\n",
    "plt.legend()\n",
    "plt.savefig('/Users/yao/Desktop/band offset/ebp2.pdf', dpi=300, format='pdf')\n",
    "plt.show()"
   ]
  },
  {
   "cell_type": "code",
   "execution_count": null,
   "metadata": {
    "collapsed": true
   },
   "outputs": [],
   "source": []
  }
 ],
 "metadata": {
  "anaconda-cloud": {},
  "kernelspec": {
   "display_name": "Python [conda root]",
   "language": "python",
   "name": "conda-root-py"
  },
  "language_info": {
   "codemirror_mode": {
    "name": "ipython",
    "version": 3
   },
   "file_extension": ".py",
   "mimetype": "text/x-python",
   "name": "python",
   "nbconvert_exporter": "python",
   "pygments_lexer": "ipython3",
   "version": "3.5.2"
  }
 },
 "nbformat": 4,
 "nbformat_minor": 1
}
