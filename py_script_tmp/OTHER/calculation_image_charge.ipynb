{
 "metadata": {
  "name": "",
  "signature": "sha256:1d72d4be6f380c236f78119a82644f86085ccbcfd50c13b25acfd977fde63dcb"
 },
 "nbformat": 3,
 "nbformat_minor": 0,
 "worksheets": [
  {
   "cells": [
    {
     "cell_type": "code",
     "collapsed": false,
     "input": [
      "electric_constant = 8.854e-12\n",
      "elementary_charge = 1.602e-19\n",
      "\n",
      "madelung_constant = 2.837\n",
      "#madelung_constant_cubic = 2.837\n",
      "#madelung_constant_bcc = 3.639\n",
      "#madelung_constant_fcc = 4.584\n",
      "\n",
      "N_star = 68.0\n",
      "#N_star_sp = 68.0\n",
      "#N_star_spd = 72.0\n",
      "\n",
      "valence_electron = 32.0\n",
      "#CsSnI3 cubic valence electron 26.0\n",
      "#Si primitive cell 8.0\n",
      "\n",
      "epsilon_0 = 11.9\n",
      "#epsilon_0_CsSnI3 = 48.2\n",
      "#epsilon_0_CsSnBr3 = 32.4\n",
      "#interpolation----CsSnI2Br 42.9\n",
      "#-----------------CsSnIBr2 37.7\n",
      "# Si 11.9 \n",
      "L = 5.43e-10\n",
      "#from CsSnI3 to CsSnBr3 6.28, 6.16, 6.03, 5.89\n",
      "#diamond Si 5.43"
     ],
     "language": "python",
     "metadata": {},
     "outputs": [],
     "prompt_number": 75
    },
    {
     "cell_type": "code",
     "collapsed": false,
     "input": [
      "48.2*1.0/3+32.4*2.0/3"
     ],
     "language": "python",
     "metadata": {},
     "outputs": [
      {
       "metadata": {},
       "output_type": "pyout",
       "prompt_number": 76,
       "text": [
        "37.666666666666664"
       ]
      }
     ],
     "prompt_number": 76
    },
    {
     "cell_type": "code",
     "collapsed": false,
     "input": [
      "(5.89**3/4)**(1.0/3)"
     ],
     "language": "python",
     "metadata": {},
     "outputs": [
      {
       "metadata": {},
       "output_type": "pyout",
       "prompt_number": 77,
       "text": [
        "3.710467491940401"
       ]
      }
     ],
     "prompt_number": 77
    },
    {
     "cell_type": "code",
     "collapsed": false,
     "input": [
      "48.2*2.0/3+32.4*1.0/3"
     ],
     "language": "python",
     "metadata": {},
     "outputs": [
      {
       "metadata": {},
       "output_type": "pyout",
       "prompt_number": 78,
       "text": [
        "42.93333333333333"
       ]
      }
     ],
     "prompt_number": 78
    },
    {
     "cell_type": "code",
     "collapsed": false,
     "input": [
      "n = valence_electron / N_star"
     ],
     "language": "python",
     "metadata": {},
     "outputs": [],
     "prompt_number": 79
    },
    {
     "cell_type": "code",
     "collapsed": false,
     "input": [
      "epsilon = epsilon_0 * electric_constant\n",
      "epsilon"
     ],
     "language": "python",
     "metadata": {},
     "outputs": [
      {
       "metadata": {},
       "output_type": "pyout",
       "prompt_number": 80,
       "text": [
        "1.053626e-10"
       ]
      }
     ],
     "prompt_number": 80
    },
    {
     "cell_type": "code",
     "collapsed": false,
     "input": [
      "image_charge_corr = 1.0/2 * madelung_constant * ((n*elementary_charge)**2)/ epsilon / L / elementary_charge\n",
      "image_charge_corr"
     ],
     "language": "python",
     "metadata": {},
     "outputs": [
      {
       "metadata": {},
       "output_type": "pyout",
       "prompt_number": 81,
       "text": [
        "0.8796049698161106"
       ]
      }
     ],
     "prompt_number": 81
    },
    {
     "cell_type": "code",
     "collapsed": false,
     "input": [
      "bandgap_corr = 2*image_charge_corr/n\n",
      "bandgap_corr"
     ],
     "language": "python",
     "metadata": {},
     "outputs": [
      {
       "metadata": {},
       "output_type": "pyout",
       "prompt_number": 82,
       "text": [
        "3.73832112171847"
       ]
      }
     ],
     "prompt_number": 82
    },
    {
     "cell_type": "code",
     "collapsed": false,
     "input": [],
     "language": "python",
     "metadata": {},
     "outputs": [
      {
       "metadata": {},
       "output_type": "pyout",
       "prompt_number": 83,
       "text": [
        "2.722627737226277"
       ]
      }
     ],
     "prompt_number": 83
    },
    {
     "cell_type": "code",
     "collapsed": false,
     "input": [],
     "language": "python",
     "metadata": {},
     "outputs": [],
     "prompt_number": 82
    },
    {
     "cell_type": "code",
     "collapsed": false,
     "input": [],
     "language": "python",
     "metadata": {},
     "outputs": [],
     "prompt_number": 82
    },
    {
     "cell_type": "code",
     "collapsed": false,
     "input": [],
     "language": "python",
     "metadata": {},
     "outputs": [],
     "prompt_number": 82
    }
   ],
   "metadata": {}
  }
 ]
}