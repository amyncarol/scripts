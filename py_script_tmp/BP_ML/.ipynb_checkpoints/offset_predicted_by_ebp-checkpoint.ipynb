{
 "cells": [
  {
   "cell_type": "code",
   "execution_count": 65,
   "metadata": {
    "collapsed": false
   },
   "outputs": [],
   "source": [
    "# the original offset list\n",
    "#offset_list = []\n",
    "#with open('/Users/yao/Desktop/band offset/offset_list.csv', 'r') as f:\n",
    "#    for line in f:\n",
    "#        offset_list.append([line.split(',')[0], line.split(',')[1], float(line.split(',')[2])])"
   ]
  },
  {
   "cell_type": "code",
   "execution_count": null,
   "metadata": {
    "collapsed": true
   },
   "outputs": [],
   "source": [
    "# the expanded offset list\n",
    "offset_list = []\n",
    "with open('/Users/yao/Desktop/band offset/expanded_offset.csv', 'r') as f:\n",
    "    for line in f:\n",
    "        offset_list.append([line.split(',')[0], line.split(',')[1], float(line.split(',')[2])])"
   ]
  },
  {
   "cell_type": "code",
   "execution_count": 66,
   "metadata": {
    "collapsed": false
   },
   "outputs": [],
   "source": [
    "ebp_vbm_dict = {}\n",
    "with open('/Users/yao/Desktop/band offset/ebp_vbm_pbebs_exp.csv', 'r') as f:\n",
    "    for line in f:\n",
    "        ebp_vbm_dict[line.split(',')[0]] = float(line.split(',')[1])"
   ]
  },
  {
   "cell_type": "code",
   "execution_count": 67,
   "metadata": {
    "collapsed": false
   },
   "outputs": [
    {
     "name": "stdout",
     "output_type": "stream",
     "text": [
      "SiO2/HfO2\n",
      "MgO/ZnO\n",
      "Si/Tm2O3\n",
      "InSb/Al2O3\n",
      "InGaZnO4/SiO2\n",
      "MgO/GaAs\n",
      "CdS/Cu2Se\n",
      "NiO/ZnO\n",
      "Cu2Se/CdS\n",
      "CH3NH3PbI3/CdS\n",
      "TiO2/CH3NH3PbBr3\n",
      "InGaZnO4/HfO2\n",
      "Si/Lu2O3\n",
      "InN/C\n",
      "Tm2O3/Si\n",
      "MoO3/CH3NH3PbIBr2\n",
      "HfO2/GaAs\n",
      "ZnO/HC(NH2)2PbI3\n",
      "Gd2O3/Si\n",
      "MgO/GaN\n",
      "Al2O3/Ge\n",
      "GaN/C\n",
      "HC(NH2)2PbI3/ZnO\n",
      "MgO/GaSb\n",
      "Si/Gd2O3\n",
      "ZnO/Al2O3\n",
      "Lu2O3/Si\n",
      "GaSb/MgO\n",
      "Al2O3/InP\n",
      "HgSe/CdSe\n",
      "GaAs/HfO2\n",
      "HfO2/Si\n",
      "Si/Pr2O3\n",
      "CH3NH3PbIBr2/MoO3\n",
      "Al2O3/GaSb\n",
      "CH3NH3PbI3/NiOx\n",
      "Al2O3/GaCuO2\n",
      "CdSe/HgSe\n",
      "NiOx/CH3NH3PbI3\n",
      "HfO2/InGaZnO4\n",
      "HfO2/SiO2\n",
      "CH3NH3PbCl3/TiO2\n",
      "ZnS/CuInGaSe2\n",
      "ZnO/NiO\n",
      "Al2O3/InGaZnO4\n",
      "TiO2/CH3NH3PbI3\n",
      "GaCuO2/Al2O3\n",
      "CdS/CH3NH3PbI3\n",
      "GaN/MgO\n",
      "InGaZnO4/Al2O3\n",
      "Al2O3/InSb\n",
      "MgO/AlN\n",
      "ZnO/MgO\n",
      "Al2O3/InN\n",
      "SnO2/InSnO\n",
      "CH3NH3PbI3/ZnO\n",
      "MgO/InN\n",
      "CuInGaSe2/ZnS\n",
      "C/AlN\n",
      "Si/Al2O3\n",
      "GaN/Al2O3\n",
      "Ge/Al2O3\n",
      "C/InN\n",
      "Si/Er2O3\n",
      "Fe2O3/Cr2O3\n",
      "GaSb/Al2O3\n",
      "C/GaN\n",
      "Pr2O3/Si\n",
      "AlN/MgO\n",
      "InN/MgO\n",
      "AlN/C\n",
      "TiO2/CH3NH3PbCl3\n",
      "InSnO/SnO2\n",
      "InN/Al2O3\n",
      "Si/HfO2\n",
      "ZnO/CH3NH3PbI3\n",
      "Al2O3/GaN\n",
      "Cr2O3/Fe2O3\n",
      "ZnO/CuInGaSe2\n",
      "InP/Al2O3\n",
      "CH3NH3PbI3/TiO2\n",
      "Al2O3/ZnO\n",
      "GaAs/Al2O3\n",
      "SiO2/InGaZnO4\n",
      "Al2O3/Si\n",
      "Al2O3/GaAs\n",
      "CuInGaSe2/ZnO\n",
      "Er2O3/Si\n",
      "GaAs/MgO\n",
      "CH3NH3PbBr3/TiO2\n"
     ]
    }
   ],
   "source": [
    "f = open('/Users/yao/Desktop/band offset/offset_pbebs_exp.csv', 'w')\n",
    "for i in range(len(offset_list)):\n",
    "    cpdA = offset_list[i][0]\n",
    "    cpdB = offset_list[i][1]\n",
    "    offset_exp = offset_list[i][2]\n",
    "    try:\n",
    "        offset_ebp = ebp_vbm_dict[cpdB] - ebp_vbm_dict[cpdA]\n",
    "        f.write(cpdA+'/'+cpdB)\n",
    "        f.write(',')\n",
    "        f.write(str(offset_ebp))  \n",
    "        f.write(',')\n",
    "        f.write(str(offset_exp))\n",
    "        f.write('\\n')\n",
    "    except:\n",
    "        print(cpdA+'/'+cpdB)\n",
    "f.close()"
   ]
  },
  {
   "cell_type": "code",
   "execution_count": null,
   "metadata": {
    "collapsed": false
   },
   "outputs": [],
   "source": []
  },
  {
   "cell_type": "code",
   "execution_count": null,
   "metadata": {
    "collapsed": true
   },
   "outputs": [],
   "source": []
  }
 ],
 "metadata": {
  "anaconda-cloud": {},
  "kernelspec": {
   "display_name": "Python [default]",
   "language": "python",
   "name": "python3"
  },
  "language_info": {
   "codemirror_mode": {
    "name": "ipython",
    "version": 3
   },
   "file_extension": ".py",
   "mimetype": "text/x-python",
   "name": "python",
   "nbconvert_exporter": "python",
   "pygments_lexer": "ipython3",
   "version": "3.5.2"
  }
 },
 "nbformat": 4,
 "nbformat_minor": 1
}
