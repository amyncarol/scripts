{
 "cells": [
  {
   "cell_type": "code",
   "execution_count": 57,
   "metadata": {
    "collapsed": false
   },
   "outputs": [
    {
     "name": "stdout",
     "output_type": "stream",
     "text": [
      "[1] 177.4\n"
     ]
    }
   ],
   "source": [
    "cloud <- read.table(file=\"/Users/yao/Desktop/stat201b/HW/HW1/clouds.dat\",header=TRUE)\n",
    "x <- cloud$Unseeded\n",
    "y <- cloud$Seeded\n",
    "theta_hat <- median(y) - median(x)\n",
    "print(theta_hat)"
   ]
  },
  {
   "cell_type": "code",
   "execution_count": 70,
   "metadata": {
    "collapsed": false
   },
   "outputs": [
    {
     "name": "stdout",
     "output_type": "stream",
     "text": [
      "[1] 63.53767\n",
      "[1]  52.86845 301.93155\n"
     ]
    }
   ],
   "source": [
    "samples <- lapply(1:100, function(i) sample(x, replace=TRUE))\n",
    "medians <- sapply(samples, FUN=function(x) median(x))\n",
    "varx <- var(medians)\n",
    "\n",
    "samples <- lapply(1:100, function(i) sample(y, replace=TRUE))\n",
    "medians <- sapply(samples, FUN=function(x) median(x))\n",
    "vary <- var(medians)\n",
    "    \n",
    "se_hat <- sqrt(varx+vary)\n",
    "\n",
    "ci <- c(theta_hat-1.959964*se_hat, theta_hat+1.959964*se_hat)\n",
    "\n",
    "print(se_hat)\n",
    "print(ci)"
   ]
  },
  {
   "cell_type": "code",
   "execution_count": null,
   "metadata": {
    "collapsed": true
   },
   "outputs": [],
   "source": []
  }
 ],
 "metadata": {
  "anaconda-cloud": {},
  "kernelspec": {
   "display_name": "R",
   "language": "R",
   "name": "ir"
  },
  "language_info": {
   "codemirror_mode": "r",
   "file_extension": ".r",
   "mimetype": "text/x-r-source",
   "name": "R",
   "pygments_lexer": "r",
   "version": "3.4.2"
  }
 },
 "nbformat": 4,
 "nbformat_minor": 2
}
