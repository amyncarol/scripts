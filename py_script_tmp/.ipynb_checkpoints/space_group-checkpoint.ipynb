{
 "metadata": {
  "name": "",
  "signature": "sha256:315760600e7289ff9c9656b351f10e039b1035d83c328db6b27ac2452017e260"
 },
 "nbformat": 3,
 "nbformat_minor": 0,
 "worksheets": [
  {
   "cells": [
    {
     "cell_type": "code",
     "collapsed": false,
     "input": [
      "from pymatgen import core\n",
      "from pymatgen.core import sites\n",
      "from pymatgen.symmetry import analyzer\n",
      "from pymatgen.symmetry.analyzer import SpacegroupAnalyzer\n",
      "from pymatgen.io.smartio import read_structure, write_structure\n",
      "from pymatgen.io import vaspio_set\n",
      "import os\n",
      "import shutil\n",
      "import copy\n",
      "import numpy as np"
     ],
     "language": "python",
     "metadata": {},
     "outputs": [],
     "prompt_number": 22
    },
    {
     "cell_type": "code",
     "collapsed": false,
     "input": [
      "s = read_structure(\"/Users/yao/POSCAR\")\n",
      "sga = SpacegroupAnalyzer(s, 0.01)\n",
      "sga.get_spacegroup_symbol()"
     ],
     "language": "python",
     "metadata": {},
     "outputs": [
      {
       "metadata": {},
       "output_type": "pyout",
       "prompt_number": 26,
       "text": [
        "u'Cmc2_1'"
       ]
      }
     ],
     "prompt_number": 26
    },
    {
     "cell_type": "code",
     "collapsed": false,
     "input": [
      "x = np.array([[13.348828441,         2.834730255,         0.000000000], [13.284566308   ,      0.029901979   ,      1.997499943],[    15.014145958   ,      4.386569340   ,      1.997499943],[\n",
      "    14.676603634    ,     1.526873401      ,   1.997499943],[  13.517924603    ,     5.614990204    ,     0.000000000]])"
     ],
     "language": "python",
     "metadata": {},
     "outputs": [],
     "prompt_number": 10
    },
    {
     "cell_type": "code",
     "collapsed": false,
     "input": [
      "x"
     ],
     "language": "python",
     "metadata": {},
     "outputs": [
      {
       "metadata": {},
       "output_type": "pyout",
       "prompt_number": 11,
       "text": [
        "array([[ 13.34882844,   2.83473026,   0.        ],\n",
        "       [ 13.28456631,   0.02990198,   1.99749994],\n",
        "       [ 15.01414596,   4.38656934,   1.99749994],\n",
        "       [ 14.67660363,   1.5268734 ,   1.99749994],\n",
        "       [ 13.5179246 ,   5.6149902 ,   0.        ]])"
       ]
      }
     ],
     "prompt_number": 11
    },
    {
     "cell_type": "code",
     "collapsed": false,
     "input": [
      "y = np.array([23.014550769    ,     1.148984876   ,      1.997499943])-np.array([11.917844222    ,    1.267004040   ,      1.997499943])"
     ],
     "language": "python",
     "metadata": {},
     "outputs": [],
     "prompt_number": 13
    },
    {
     "cell_type": "code",
     "collapsed": false,
     "input": [
      "y"
     ],
     "language": "python",
     "metadata": {},
     "outputs": [
      {
       "metadata": {},
       "output_type": "pyout",
       "prompt_number": 14,
       "text": [
        "array([ 11.09670655,  -0.11801916,   0.        ])"
       ]
      }
     ],
     "prompt_number": 14
    },
    {
     "cell_type": "code",
     "collapsed": false,
     "input": [
      "x[4]+y"
     ],
     "language": "python",
     "metadata": {},
     "outputs": [
      {
       "metadata": {},
       "output_type": "pyout",
       "prompt_number": 21,
       "text": [
        "array([ 24.61463115,   5.49697104,   0.        ])"
       ]
      }
     ],
     "prompt_number": 21
    },
    {
     "cell_type": "code",
     "collapsed": false,
     "input": [],
     "language": "python",
     "metadata": {},
     "outputs": []
    }
   ],
   "metadata": {}
  }
 ]
}