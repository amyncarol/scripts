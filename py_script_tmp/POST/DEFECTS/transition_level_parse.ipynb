{
 "cells": [
  {
   "cell_type": "code",
   "execution_count": 56,
   "metadata": {
    "collapsed": true
   },
   "outputs": [],
   "source": [
    "import json\n",
    "import re\n",
    "import numpy as np\n",
    "import matplotlib.pyplot as plt\n",
    "import matplotlib.cbook as cbook\n",
    "import re\n",
    "from matplotlib.pyplot import figure, show, axes, sci\n",
    "from matplotlib import cm, colors\n",
    "from matplotlib.font_manager import FontProperties\n",
    "from numpy import amin, amax, ravel\n",
    "import numpy.ma as ma\n"
   ]
  },
  {
   "cell_type": "code",
   "execution_count": 57,
   "metadata": {
    "collapsed": false
   },
   "outputs": [],
   "source": [
    "oxidation = {\"Ag\": 1, \"Cs\": 1, \"Br\": -1, \"Bi\": 3}"
   ]
  },
  {
   "cell_type": "code",
   "execution_count": 58,
   "metadata": {
    "collapsed": false
   },
   "outputs": [],
   "source": [
    "data = {}\n",
    "with open(\"/Users/yao/Desktop/transition_levels\", 'r') as f:\n",
    "    string = f.read()\n",
    "    entries = re.split(\"(vac|as)\", string)\n",
    "        \n",
    "           "
   ]
  },
  {
   "cell_type": "code",
   "execution_count": 59,
   "metadata": {
    "collapsed": false
   },
   "outputs": [
    {
     "data": {
      "text/plain": [
       "['vac_2_Ag\\n\\n(0, -1): 0.0497608\\n\\n',\n",
       " 'as_2_Cs_on_Ag\\n\\n(0, 1): -0.000522199999996\\n\\n(0, -1): 1.3470622\\n\\n(1, -1): 0.67327\\n\\n',\n",
       " 'as_3_Br_on_Bi\\n\\n(-4, -1): 0.6162826\\n\\n(-4, -3): 0.8676976\\n\\n(-4, -2): 0.723553\\n\\n(-2, -1): 0.3983896\\n\\n(-2, -3): 0.5760562\\n\\n(-1, -3): 0.488899\\n\\n(0, -1): 0.0598174\\n\\n(0, -2): 0.2274274\\n\\n(0, -4): 0.4754902\\n\\n(0, -3): 0.3447544\\n\\n',\n",
       " 'as_4_Bi_on_Br\\n\\n(0, 1): 0.4117984\\n\\n(0, 4): 0.4486726\\n\\n(0, -1): 1.3370056\\n\\n(0, 3): 0.6296914\\n\\n(0, 2): 0.9649114\\n\\n(1, 2): 1.5180244\\n\\n(1, 3): 0.740314\\n\\n(1, 4): 0.4620814\\n\\n(1, -1): 0.874402\\n\\n(2, -1): 1.0889428\\n\\n(2, 4): -0.0675662\\n\\n(2, 3): -0.0373964\\n\\n(3, 4): -0.097736\\n\\n(3, -1): 0.807358\\n\\n(4, -1): 0.6263392\\n\\n',\n",
       " 'as_1_Bi_on_Cs\\n\\n(0, 1): 1.5481942\\n\\n(0, -1): 1.997389\\n\\n(1, -1): 1.7727916\\n\\n',\n",
       " 'vac_1_Cs\\n\\n(0, -1): 0.0598174\\n\\n',\n",
       " 'vac_3_Bi\\n\\n(-2, -3): 0.2609494\\n\\n(-2, -1): 0.153679\\n\\n(-1, -3): 0.2073142\\n\\n(0, -1): 0.0564652\\n\\n(0, -2): 0.103396\\n\\n(0, -3): 0.1570312\\n\\n',\n",
       " 'as_1_Ag_on_Cs\\n\\n(0, 1): -0.0172832\\n\\n(0, -1): 1.3235968\\n\\n(1, -1): 0.6531568\\n\\n',\n",
       " 'as_2_Br_on_Ag\\n\\n(-2, -1): 0.4654336\\n\\n(0, 1): -0.013931\\n\\n(0, -1): 0.0732262\\n\\n(0, -2): 0.2676538\\n\\n(0, 2): -0.1111448\\n\\n(1, 2): -0.2050064\\n\\n(1, -1): 0.0296476\\n\\n(1, -2): 0.1737922\\n\\n(2, -1): -0.0508052\\n\\n(2, -2): 0.0799306\\n\\n',\n",
       " 'as_2_Bi_on_Ag\\n\\n(0, 1): 1.3068358\\n\\n(0, -1): 1.3738798\\n\\n(0, 2): 1.2666094\\n\\n(1, 2): 1.226383\\n\\n(1, -1): 1.3403578\\n\\n(2, -1): 1.3034836\\n\\n',\n",
       " 'as_4_Cs_on_Br\\n\\n(0, 1): 1.276666\\n\\n(0, -1): 1.3805842\\n\\n(0, 2): 1.2129742\\n\\n(1, 2): 1.1492824\\n\\n(1, -1): 1.3303012\\n\\n(2, -1): 1.2699616\\n\\n',\n",
       " 'as_3_Cs_on_Bi\\n\\n(-2, -3): 1.528081\\n\\n(-2, -1): 0.17044\\n\\n(-1, -3): 0.8475844\\n\\n(0, -1): 0.069874\\n\\n(0, -2): 0.120157\\n\\n(0, -3): 0.589465\\n\\n',\n",
       " 'as_1_Br_on_Cs\\n\\n(-2, -1): 0.7805404\\n\\n(0, 1): -0.047453\\n\\n(0, -1): 0.053113\\n\\n(0, -2): 0.4185028\\n\\n(0, 2): -0.097736\\n\\n(1, 2): -0.148019\\n\\n(1, -1): 0.00283\\n\\n(1, -2): 0.2609494\\n\\n(2, -1): -0.047453\\n\\n(2, -2): 0.1603834\\n\\n',\n",
       " 'as_3_Ag_on_Bi\\n\\n(-2, -3): 1.5180244\\n\\n(-2, -1): 0.2575972\\n\\n(-1, -3): 0.8878108\\n\\n(0, -1): 0.1101004\\n\\n(0, -2): 0.1838488\\n\\n(0, -3): 0.6263392\\n\\n',\n",
       " 'as_4_Ag_on_Br\\n\\n(0, 1): 0.4654336\\n\\n(0, -1): 1.393993\\n\\n(0, 2): 0.4855468\\n\\n(1, 2): 0.50566\\n\\n(1, -1): 0.9280372\\n\\n(2, -1): 0.7872448\\n\\n',\n",
       " 'vac_4_Br\\n\\n(0, 1): 1.2800182\\n\\n']"
      ]
     },
     "execution_count": 59,
     "metadata": {},
     "output_type": "execute_result"
    }
   ],
   "source": [
    "new_entries = []\n",
    "for i in range(1, len(entries), 2):\n",
    "    entry = entries[i]+entries[i+1]\n",
    "    new_entries.append(entry)\n",
    "new_entries  "
   ]
  },
  {
   "cell_type": "code",
   "execution_count": 60,
   "metadata": {
    "collapsed": false
   },
   "outputs": [
    {
     "name": "stdout",
     "output_type": "stream",
     "text": [
      "V_Ag\n",
      "Cs_Ag\n",
      "Cs_Ag\n",
      "Br_Bi\n",
      "Br_Bi\n",
      "Br_Bi\n",
      "Br_Bi\n",
      "Bi_Br\n",
      "Bi_Br\n",
      "Bi_Br\n",
      "Bi_Br\n",
      "Bi_Br\n",
      "Bi_Cs\n",
      "Bi_Cs\n",
      "V_Cs\n",
      "V_Bi\n",
      "V_Bi\n",
      "V_Bi\n",
      "Ag_Cs\n",
      "Ag_Cs\n",
      "Br_Ag\n",
      "Br_Ag\n",
      "Br_Ag\n",
      "Br_Ag\n",
      "Bi_Ag\n",
      "Bi_Ag\n",
      "Bi_Ag\n",
      "Cs_Br\n",
      "Cs_Br\n",
      "Cs_Br\n",
      "Cs_Bi\n",
      "Cs_Bi\n",
      "Cs_Bi\n",
      "Br_Cs\n",
      "Br_Cs\n",
      "Br_Cs\n",
      "Br_Cs\n",
      "Ag_Bi\n",
      "Ag_Bi\n",
      "Ag_Bi\n",
      "Ag_Br\n",
      "Ag_Br\n",
      "Ag_Br\n",
      "V_Br\n"
     ]
    }
   ],
   "source": [
    "data1 = {}\n",
    "data2 = {}\n",
    "new_entries\n",
    "for entry in new_entries:\n",
    "    sub_entry = re.split(\"\\n\\n\", entry)\n",
    "    for entry in sub_entry:\n",
    "        if entry != '':\n",
    "            sub_sub_entry = re.split(\": \", entry)\n",
    "            if len(sub_sub_entry) == 1:\n",
    "                if re.match(\"^vac\", sub_sub_entry[0]):\n",
    "                    elements = re.findall(\"[A-Z][a-z]\", sub_sub_entry[0])\n",
    "                    key = \"V_\" + elements[0]\n",
    "                if re.match(\"^as\", sub_sub_entry[0]):\n",
    "                    elements = re.findall(\"[A-Z][a-z]\", sub_sub_entry[0])\n",
    "                    key = elements[0] + \"_\" + elements[1]\n",
    "                value = {}\n",
    "            if len(sub_sub_entry) == 2:\n",
    "                match = re.match(\"\\((-?\\d), (-?\\d)\\)\", sub_sub_entry[0])\n",
    "                state1 = int(match.group(1))\n",
    "                state2 = int(match.group(2)) \n",
    "                x = state1 - state2 \n",
    "                if len(elements) == 1:\n",
    "                    y = 0 - oxidation[elements[0]]\n",
    "                if len(elements) == 2:\n",
    "                    y = oxidation[elements[0]]-oxidation[elements[1]]\n",
    "                if abs(x) == 1:\n",
    "                    if y < 0 and y <= state1 <= 0 and y <= state2 <= 0:\n",
    "                        value[sub_sub_entry[0]] = float(sub_sub_entry[1])\n",
    "                        data1[key] = value\n",
    "                    if y > 0 and 0 <= state1 <= y and 0 <= state2 <= y:\n",
    "                        value[sub_sub_entry[0]] = float(sub_sub_entry[1])\n",
    "                        data2[key] = value\n",
    "                    print key"
   ]
  },
  {
   "cell_type": "code",
   "execution_count": 61,
   "metadata": {
    "collapsed": false
   },
   "outputs": [],
   "source": [
    "data = data2\n",
    "gap = 1.3586\n",
    "i = 0.0\n",
    "n = len(data)\n",
    "axes = plt.gca()\n",
    "axes.set_xlim([0,1])\n",
    "axes.set_ylim([-0.2,1.6])\n",
    "for key, value in data.iteritems():\n",
    "    for key_1, value_1 in value.iteritems():\n",
    "        plt.axhline(y=value_1, xmin=i/n, xmax=(i+1)/n, hold=None, linewidth = 2)\n",
    "        plt.text(i/n, value_1-0.05, key_1)\n",
    "    plt.text(i/n, -0.27, key)\n",
    "    plt.axvline(x=i/n, color = 'k')\n",
    "    i = i+1\n",
    "plt.xticks([]) \n",
    "plt.ylabel('Transition Energy Level(eV)')\n",
    "plt.bar(left=0, height=0.2, width=1, bottom=-0.2, facecolor = 'yellow')\n",
    "plt.bar(left=0, height=1.6-gap, width=1, bottom=gap, facecolor = 'yellow')\n",
    "plt.show() "
   ]
  },
  {
   "cell_type": "code",
   "execution_count": null,
   "metadata": {
    "collapsed": true
   },
   "outputs": [],
   "source": []
  },
  {
   "cell_type": "code",
   "execution_count": null,
   "metadata": {
    "collapsed": true
   },
   "outputs": [],
   "source": []
  }
 ],
 "metadata": {
  "kernelspec": {
   "display_name": "Python 2",
   "language": "python",
   "name": "python2"
  },
  "language_info": {
   "codemirror_mode": {
    "name": "ipython",
    "version": 2
   },
   "file_extension": ".py",
   "mimetype": "text/x-python",
   "name": "python",
   "nbconvert_exporter": "python",
   "pygments_lexer": "ipython2",
   "version": "2.7.9"
  }
 },
 "nbformat": 4,
 "nbformat_minor": 1
}
