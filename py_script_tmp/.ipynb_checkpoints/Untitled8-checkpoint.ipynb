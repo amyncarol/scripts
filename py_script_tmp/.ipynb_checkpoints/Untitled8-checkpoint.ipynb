{
 "cells": [
  {
   "cell_type": "code",
   "execution_count": 2,
   "metadata": {
    "collapsed": false
   },
   "outputs": [
    {
     "name": "stdout",
     "output_type": "stream",
     "text": [
      "['83.296', '0.6867E+02', '0.6867E+02', '0.6867E+02', '0.0000E+00', '0.0000E+00', '0.0000E+00']\n"
     ]
    }
   ],
   "source": [
    "import re\n",
    "energy = []\n",
    "absorb = []\n",
    "with open('/Users/yao/tmp/ABSORB.dat','r') as f:\n",
    "    for line in f:\n",
    "        data = line.split()\n",
    "        energy.append(float(data[0]))\n",
    "        absorb.append(float(data[1]))\n",
    "print data"
   ]
  },
  {
   "cell_type": "code",
   "execution_count": null,
   "metadata": {
    "collapsed": true
   },
   "outputs": [],
   "source": []
  }
 ],
 "metadata": {
  "kernelspec": {
   "display_name": "Python 2",
   "language": "python",
   "name": "python2"
  },
  "language_info": {
   "codemirror_mode": {
    "name": "ipython",
    "version": 2
   },
   "file_extension": ".py",
   "mimetype": "text/x-python",
   "name": "python",
   "nbconvert_exporter": "python",
   "pygments_lexer": "ipython2",
   "version": "2.7.9"
  }
 },
 "nbformat": 4,
 "nbformat_minor": 1
}
