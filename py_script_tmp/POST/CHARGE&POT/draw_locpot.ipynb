{
 "metadata": {
  "name": "",
  "signature": "sha256:75c32774e801e8cae5655ae0b821951bb3531ee015b8d99937f68fd75ebf6ca6"
 },
 "nbformat": 3,
 "nbformat_minor": 0,
 "worksheets": [
  {
   "cells": [
    {
     "cell_type": "code",
     "collapsed": false,
     "input": [
      "import numpy as np\n",
      "import matplotlib.pyplot as plt\n",
      "import re"
     ],
     "language": "python",
     "metadata": {},
     "outputs": [],
     "prompt_number": 3
    },
    {
     "cell_type": "code",
     "collapsed": false,
     "input": [
      "data = open('/Users/yao/Google Drive/data/CsPbI3/slab/slab120-2/vplanar.txt','r')"
     ],
     "language": "python",
     "metadata": {},
     "outputs": [],
     "prompt_number": 12
    },
    {
     "cell_type": "code",
     "collapsed": false,
     "input": [
      "key0 = []\n",
      "value0 = []\n",
      "lines = data.readlines()\n",
      "for line in lines:\n",
      "    match = re.match(r\"([ ]+)([0-9]+)([ ]+)([0-9E.+-]+)\", line, re.I)\n",
      "    if match:\n",
      "        items = match.groups()\n",
      "        key0.append(items[1])\n",
      "        value0.append(float(items[3]))\n",
      "key = key0[1:]\n",
      "value = value0[1:]"
     ],
     "language": "python",
     "metadata": {},
     "outputs": [],
     "prompt_number": 13
    },
    {
     "cell_type": "code",
     "collapsed": false,
     "input": [
      "plt.plot(key,value)\n",
      "plt.show()\n"
     ],
     "language": "python",
     "metadata": {},
     "outputs": [],
     "prompt_number": 14
    },
    {
     "cell_type": "code",
     "collapsed": false,
     "input": [],
     "language": "python",
     "metadata": {},
     "outputs": [],
     "prompt_number": 69
    },
    {
     "cell_type": "code",
     "collapsed": false,
     "input": [],
     "language": "python",
     "metadata": {},
     "outputs": []
    },
    {
     "cell_type": "code",
     "collapsed": false,
     "input": [
      "sum(value)/float(len(value))"
     ],
     "language": "python",
     "metadata": {},
     "outputs": [
      {
       "metadata": {},
       "output_type": "pyout",
       "prompt_number": 71,
       "text": [
        "-1.0932349911557934e-06"
       ]
      }
     ],
     "prompt_number": 71
    },
    {
     "cell_type": "code",
     "collapsed": false,
     "input": [
      "np.average(value)"
     ],
     "language": "python",
     "metadata": {},
     "outputs": [
      {
       "metadata": {},
       "output_type": "pyout",
       "prompt_number": 73,
       "text": [
        "-1.0932349903485027e-06"
       ]
      }
     ],
     "prompt_number": 73
    },
    {
     "cell_type": "code",
     "collapsed": false,
     "input": [
      "len(value)"
     ],
     "language": "python",
     "metadata": {},
     "outputs": [
      {
       "metadata": {},
       "output_type": "pyout",
       "prompt_number": 74,
       "text": [
        "840"
       ]
      }
     ],
     "prompt_number": 74
    },
    {
     "cell_type": "code",
     "collapsed": false,
     "input": [
      "len(value)\n",
      "\n",
      "      "
     ],
     "language": "python",
     "metadata": {},
     "outputs": [
      {
       "metadata": {},
       "output_type": "pyout",
       "prompt_number": 77,
       "text": [
        "840"
       ]
      }
     ],
     "prompt_number": 77
    },
    {
     "cell_type": "code",
     "collapsed": false,
     "input": [
      "for j in range(200):\n",
      "    ave_value = []\n",
      "    last_index = len(value)\n",
      "    length = len(value)/100\n",
      "    radius = length/2\n",
      "    for i in range(len(value)):\n",
      "        min_index = i-radius\n",
      "        max_index = i+radius+1\n",
      "        if min_index<0:\n",
      "            v = (np.average(value[:max_index])+np.average(value[min_index+last_index:last_index]))/2.0\n",
      "            #print i+1\n",
      "            #print key[:max_index]\n",
      "            #print key[min_index+last_index:last_index]\n",
      "        elif max_index>len(value):\n",
      "            v = (np.average(value[min_index:last_index])+np.average(value[:max_index-last_index]))/2.0\n",
      "            #print i+1\n",
      "            #print key[min_index:last_index]\n",
      "            #print key[:max_index-last_index]\n",
      "        else:   \n",
      "            v = np.average(value[min_index:max_index])\n",
      "            #print i+1\n",
      "            #print key[min_index:max_index]\n",
      "        ave_value.append(v)\n",
      "    value = ave_value"
     ],
     "language": "python",
     "metadata": {},
     "outputs": []
    },
    {
     "cell_type": "code",
     "collapsed": false,
     "input": [
      "plt.plot(key,value)\n",
      "plt.show()"
     ],
     "language": "python",
     "metadata": {},
     "outputs": []
    },
    {
     "cell_type": "code",
     "collapsed": false,
     "input": [],
     "language": "python",
     "metadata": {},
     "outputs": []
    },
    {
     "cell_type": "code",
     "collapsed": false,
     "input": [],
     "language": "python",
     "metadata": {},
     "outputs": []
    }
   ],
   "metadata": {}
  }
 ]
}