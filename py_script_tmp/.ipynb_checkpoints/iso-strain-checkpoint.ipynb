{
 "metadata": {
  "name": "",
  "signature": "sha256:a8299631f3468d76dcfa6b376240b1a190e969de500c85288b55f401d51670f4"
 },
 "nbformat": 3,
 "nbformat_minor": 0,
 "worksheets": [
  {
   "cells": [
    {
     "cell_type": "code",
     "collapsed": false,
     "input": [
      "import numpy as np\n",
      "import matplotlib.pyplot as plt\n",
      "import re\n",
      "from matplotlib import rc\n",
      "import matplotlib\n",
      "\n",
      "#rc('font', **{'family':'serif','serif':['Helvetica']})\n",
      "rc('text', usetex=True)\n",
      "matplotlib.rcParams.update({'font.size': 15})"
     ],
     "language": "python",
     "metadata": {},
     "outputs": [],
     "prompt_number": 1
    },
    {
     "cell_type": "code",
     "collapsed": false,
     "input": [
      "strain = np.array([-0.01,-0.005,0,0.005,0.01,0.015,0.02])\n",
      "Eg_tetra = np.array([1.6695,1.7105,1.7497,1.7692,1.7898,1.8094,1.8331])"
     ],
     "language": "python",
     "metadata": {},
     "outputs": [],
     "prompt_number": 2
    },
    {
     "cell_type": "code",
     "collapsed": false,
     "input": [
      "fig, ax = plt.subplots()\n",
      "ax.plot(strain, Eg_tetra,'-o', label = r'tetragonal')\n",
      "ax.set_ylabel(r'bandgap (eV)', fontsize = 20)\n",
      "ax.set_xlabel(r'$\\epsilon$', fontsize = 20)\n",
      "plt.xticks(np.arange(min(strain), max(strain)+0.01, 0.005))\n",
      "ax.legend(loc='upper left')\n",
      "plt.show()"
     ],
     "language": "python",
     "metadata": {},
     "outputs": [],
     "prompt_number": 6
    },
    {
     "cell_type": "code",
     "collapsed": false,
     "input": [],
     "language": "python",
     "metadata": {},
     "outputs": []
    }
   ],
   "metadata": {}
  }
 ]
}