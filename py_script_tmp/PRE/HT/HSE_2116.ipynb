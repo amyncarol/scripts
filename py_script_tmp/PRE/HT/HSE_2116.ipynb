{
 "cells": [
  {
   "cell_type": "code",
   "execution_count": 37,
   "metadata": {
    "collapsed": false
   },
   "outputs": [
    {
     "data": {
      "text/plain": [
       "38"
      ]
     },
     "execution_count": 37,
     "metadata": {},
     "output_type": "execute_result"
    }
   ],
   "source": [
    "gap = '/Users/yao/Google Drive/data/2116/data/Eg_result'\n",
    "hull = '/Users/yao/Google Drive/data/2116/data/Hull_result'\n",
    "\n",
    "gap_dict = {}\n",
    "gap_2_dict = {}\n",
    "gap_direct = {}\n",
    "with open(gap, 'r') as f:\n",
    "    for line in f:\n",
    "        comp = line.split()[0]\n",
    "        gap_dict[comp] = float(line.split()[1])    ##fundamental gap 1\n",
    "        gap_2_dict[comp] = float(line.split()[2])   ##fundamental gap 2\n",
    "        gap_direct[comp] = float(line.split()[3])  ##direct gap\n",
    "\n",
    "hull_dict = {}\n",
    "with open(hull, 'r') as f:\n",
    "    for line in f:\n",
    "        comp = line.split()[0]\n",
    "        Ehull = float(line.split()[1])\n",
    "        hull_dict[comp] = Ehull\n",
    "\n",
    "comp_list = []\n",
    "for comp in gap_direct:\n",
    "    if comp in hull_dict:\n",
    "        if hull_dict[comp] < 0.05 and gap_direct[comp] < 1.5 and gap_dict[comp] > 0:\n",
    "            comp_list.append(comp)\n",
    "        \n",
    "len(comp_list)\n",
    "        \n",
    "        "
   ]
  },
  {
   "cell_type": "code",
   "execution_count": 35,
   "metadata": {
    "collapsed": false
   },
   "outputs": [
    {
     "name": "stdout",
     "output_type": "stream",
     "text": [
      "Rb2Cu1Ga1F6 0.3517 0.3543\n",
      "Rb2Tl1Sb1Br6 1.1629 1.1629\n",
      "Rb2Cu1Bi1Br6 0.6343 1.4765\n",
      "Cs2Tl1Tl1Br6 0.4264 1.0114\n",
      "Rb2Ag1Sb1I6 0.4095 1.4055\n",
      "Rb2Ag1In1Cl6 1.0328 1.0328\n",
      "Rb2Tl1Tl1Br6 0.3615 0.9629\n",
      "Cs2In1In1I6 0.0565 0.7364\n",
      "Rb2Tl1Sb1I6 0.874 0.874\n",
      "Cs2K1Tl1Br6 1.3749 1.3749\n",
      "Cs2Cu1Bi1F6 1.1672 1.4956\n",
      "Rb2Li1Tl1Br6 0.5529 0.5529\n",
      "Rb2Na1Tl1Br6 0.8407 0.8407\n",
      "Rb2K1Tl1Br6 1.399 1.399\n",
      "K2Ag1In1Cl6 1.0131 1.0131\n",
      "Cs2Ag1Sb1I6 0.4387 1.395\n",
      "Rb2Tl1Tl1Cl6 0.9527 1.4997\n",
      "K2Cu1Sb1Br6 0.3128 1.414\n",
      "Cs2Ag1In1Br6 0.2659 0.2659\n",
      "Cs2Cu1In1F6 0.0917 0.0947\n",
      "K2Ag1Tl1F6 0.4234 0.4247\n",
      "Rb2Tl1As1Br6 1.1396 1.1396\n",
      "Rb2Ag1Al1Br6 1.214 1.214\n",
      "Cs2Ag1In1Cl6 1.0928 1.0928\n",
      "Cs2Ag1Tl1F6 0.8037 0.8048\n",
      "Rb2Ag1In1Br6 0.2334 0.2334\n",
      "Cs2In1In1Br6 0.7901 1.407\n",
      "Rb2Ag1Tl1F6 0.5541 0.5553\n",
      "Rb2Tl1As1I6 0.9148 0.9148\n",
      "Cs2Cu1Sb1Br6 0.3494 1.3622\n",
      "Rb2Au1Sc1I6 1.0542 1.3916\n",
      "Rb2Cu1Sb1Br6 0.3221 1.3996\n",
      "Cs2Cu1Bi1Br6 0.6407 1.4259\n",
      "Rb2Au1Ga1F6 0.7836 0.787\n",
      "Cs2Tl1Bi1I6 1.3773 1.3773\n",
      "Cs2Na1Tl1Br6 0.831 0.831\n",
      "Rb2In1In1Br6 0.6897 1.3251\n",
      "Cs2In1Tl1I6 0.8885 1.4071\n"
     ]
    }
   ],
   "source": [
    "for comp in comp_list:\n",
    "    print(comp, gap_dict[comp], gap_direct[comp])\n",
    "\n",
    "with open('/Users/yao/Google Drive/data/2116/screen_list_hse_50meV_1.5direct')"
   ]
  },
  {
   "cell_type": "code",
   "execution_count": 33,
   "metadata": {
    "collapsed": false
   },
   "outputs": [
    {
     "data": {
      "text/plain": [
       "['Rb2Cu1Ga1F6',\n",
       " 'Rb2Tl1Sb1Br6',\n",
       " 'Rb2Cu1Bi1Br6',\n",
       " 'Cs2Tl1Tl1Br6',\n",
       " 'Rb2Ag1Sb1I6',\n",
       " 'Rb2Ag1In1Cl6',\n",
       " 'Rb2Tl1Tl1Br6',\n",
       " 'Cs2In1In1I6',\n",
       " 'Rb2Tl1Sb1I6',\n",
       " 'Cs2K1Tl1Br6',\n",
       " 'Cs2Cu1Bi1F6',\n",
       " 'Rb2Li1Tl1Br6',\n",
       " 'Rb2Na1Tl1Br6',\n",
       " 'Rb2K1Tl1Br6',\n",
       " 'K2Ag1In1Cl6',\n",
       " 'Cs2Ag1Sb1I6',\n",
       " 'Rb2Tl1Tl1Cl6',\n",
       " 'K2Cu1Sb1Br6',\n",
       " 'Cs2Ag1In1Br6',\n",
       " 'Cs2Cu1In1F6',\n",
       " 'K2Ag1Tl1F6',\n",
       " 'Rb2Tl1As1Br6',\n",
       " 'Rb2Ag1Al1Br6',\n",
       " 'Cs2Ag1In1Cl6',\n",
       " 'Cs2Ag1Tl1F6',\n",
       " 'Rb2Ag1In1Br6',\n",
       " 'Cs2In1In1Br6',\n",
       " 'Rb2Ag1Tl1F6',\n",
       " 'Rb2Tl1As1I6',\n",
       " 'Cs2Cu1Sb1Br6',\n",
       " 'Rb2Au1Sc1I6',\n",
       " 'Rb2Cu1Sb1Br6',\n",
       " 'Cs2Cu1Bi1Br6',\n",
       " 'Rb2Au1Ga1F6',\n",
       " 'Cs2Tl1Bi1I6',\n",
       " 'Cs2Na1Tl1Br6',\n",
       " 'Rb2In1In1Br6',\n",
       " 'Cs2In1Tl1I6']"
      ]
     },
     "execution_count": 33,
     "metadata": {},
     "output_type": "execute_result"
    }
   ],
   "source": [
    "comp_list"
   ]
  },
  {
   "cell_type": "code",
   "execution_count": null,
   "metadata": {
    "collapsed": true
   },
   "outputs": [],
   "source": []
  }
 ],
 "metadata": {
  "anaconda-cloud": {},
  "kernelspec": {
   "display_name": "Python [conda root]",
   "language": "python",
   "name": "conda-root-py"
  },
  "language_info": {
   "codemirror_mode": {
    "name": "ipython",
    "version": 3
   },
   "file_extension": ".py",
   "mimetype": "text/x-python",
   "name": "python",
   "nbconvert_exporter": "python",
   "pygments_lexer": "ipython3",
   "version": "3.5.2"
  }
 },
 "nbformat": 4,
 "nbformat_minor": 1
}
