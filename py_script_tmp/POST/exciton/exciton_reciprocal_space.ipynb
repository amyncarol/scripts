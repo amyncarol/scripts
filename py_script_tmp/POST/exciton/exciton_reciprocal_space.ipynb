{
 "cells": [
  {
   "cell_type": "code",
   "execution_count": 1,
   "metadata": {
    "collapsed": true
   },
   "outputs": [],
   "source": [
    "from math import sqrt\n",
    "import numpy as np\n",
    "import matplotlib.pyplot as plt\n",
    "from math import ceil\n",
    "from matplotlib import cm, colors\n",
    "from numpy import amin, amax, ravel"
   ]
  },
  {
   "cell_type": "code",
   "execution_count": 3,
   "metadata": {
    "collapsed": false
   },
   "outputs": [
    {
     "data": {
      "image/png": "[encoded data removed]",
      "text/plain": [
       "<matplotlib.figure.Figure at 0x10cf5a128>"
      ]
     },
     "metadata": {},
     "output_type": "display_data"
    }
   ],
   "source": [
    "n_k = 16*16*16\n",
    "\n",
    "k0 = np.zeros((n_k, 3))\n",
    "p = sqrt(2)/2\n",
    "b = np.array([[-p, p, p],[p, -p, p],[p, p, -p]])\n",
    "A2 = np.zeros(n_k)\n",
    "with open(\"/Users/yao/Google Drive/data/BGW-test/Cs2SnI6/exciton/exciton_01\",'r') as f:\n",
    "    i = 0\n",
    "    for line in f:\n",
    "        if line.split()[0] != '#':\n",
    "            k0[i]=[line.split()[0], line.split()[1], line.split()[2]]\n",
    "            A2[i]=float(line.split()[3])\n",
    "            i = i+1\n",
    "k = np.dot(k0, b)\n",
    "k_ = np.zeros((n_k, 3))\n",
    "scaling = 8\n",
    "size = 16\n",
    "for i in range(n_k):\n",
    "    k_[i,0] = int(ceil(scaling*k[i,0]))+scaling\n",
    "    k_[i,1] = int(ceil(scaling*k[i,1]))+scaling\n",
    "    k_[i,2] = int(ceil(scaling*k[i,2]))+scaling\n",
    "x = k_[:,0]\n",
    "y = k_[:,1]\n",
    "z = k_[:,2]\n",
    "image = np.zeros((size, size))\n",
    "for i in range(len(x)):\n",
    "    image[int(x[i])][int(y[i])] = A2[i]+image[int(x[i])][int(y[i])]\n",
    "dd = ravel(image)\n",
    "vmax = amax(dd)\n",
    "\n",
    "for i in range(size):\n",
    "    for j in range(size):\n",
    "        image[i][j] = image[i][j]/vmax\n",
    "plt.imshow(image, interpolation = 'nearest',aspect=1)\n",
    "plt.show()"
   ]
  },
  {
   "cell_type": "code",
   "execution_count": 30,
   "metadata": {
    "collapsed": false
   },
   "outputs": [
    {
     "name": "stdout",
     "output_type": "stream",
     "text": [
      "0 [ 0.01856155  0.03623922  0.04684582]\n",
      "511 [-0.06982679 -0.05214913 -0.04154252]\n"
     ]
    }
   ],
   "source": [
    "from numpy import linalg as LA\n",
    "for i in range(n_k):\n",
    "    if LA.norm(k[i,:],2)<0.1:\n",
    "        print(i, k[i,:])"
   ]
  },
  {
   "cell_type": "code",
   "execution_count": null,
   "metadata": {
    "collapsed": true
   },
   "outputs": [],
   "source": []
  }
 ],
 "metadata": {
  "anaconda-cloud": {},
  "kernelspec": {
   "display_name": "Python [conda root]",
   "language": "python",
   "name": "conda-root-py"
  },
  "language_info": {
   "codemirror_mode": {
    "name": "ipython",
    "version": 3
   },
   "file_extension": ".py",
   "mimetype": "text/x-python",
   "name": "python",
   "nbconvert_exporter": "python",
   "pygments_lexer": "ipython3",
   "version": "3.5.2"
  }
 },
 "nbformat": 4,
 "nbformat_minor": 1
}
