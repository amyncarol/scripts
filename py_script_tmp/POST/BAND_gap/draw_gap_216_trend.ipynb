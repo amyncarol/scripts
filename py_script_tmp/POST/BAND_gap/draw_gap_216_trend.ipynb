{
 "cells": [
  {
   "cell_type": "code",
   "execution_count": 1,
   "metadata": {
    "collapsed": false
   },
   "outputs": [],
   "source": [
    "import numpy as np\n",
    "import matplotlib.pyplot as plt\n",
    "import matplotlib.cbook as cbook\n",
    "import re\n",
    "from matplotlib.pyplot import figure, show, axes, sci\n",
    "from matplotlib import cm, colors\n",
    "from matplotlib.font_manager import FontProperties\n",
    "from numpy import amin, amax, ravel\n",
    "import numpy.ma as ma"
   ]
  },
  {
   "cell_type": "code",
   "execution_count": 2,
   "metadata": {
    "collapsed": false
   },
   "outputs": [],
   "source": [
    "data_eg = open('/Users/yao/Google Drive/data/216/Eg2','r')"
   ]
  },
  {
   "cell_type": "code",
   "execution_count": 3,
   "metadata": {
    "collapsed": false
   },
   "outputs": [],
   "source": [
    "value_eg = []\n",
    "lines = data_eg.readlines()\n",
    "label = []\n",
    "for line in lines:\n",
    "    match = re.match(r\"([a-z]+)([ ]+)([a-z]+)([ ]+)([a-z]+)([ ]+)([0-9.]+)\", line, re.I)\n",
    "    if match:\n",
    "        items = match.groups()\n",
    "        value_eg.append(float(items[6]))\n",
    "        label.append([str(items[0]), str(items[2]), str(items[4])])    "
   ]
  },
  {
   "cell_type": "code",
   "execution_count": 4,
   "metadata": {
    "collapsed": false
   },
   "outputs": [],
   "source": [
    "X_trend = np.zeros((90, 3))\n",
    "X_label = []\n",
    "A_trend = np.zeros((90, 3))\n",
    "A_label = []"
   ]
  },
  {
   "cell_type": "code",
   "execution_count": 5,
   "metadata": {
    "collapsed": false
   },
   "outputs": [],
   "source": [
    "index = 0\n",
    "for a in range(90):\n",
    "    X_label.append(label[index][0]+'2'+label[index][1]+'X6')\n",
    "    for b in range(3):\n",
    "        X_trend[a][b] = value_eg[index]\n",
    "        index = index + 1"
   ]
  },
  {
   "cell_type": "code",
   "execution_count": 6,
   "metadata": {
    "collapsed": false
   },
   "outputs": [
    {
     "data": {
      "text/plain": [
       "['A2GeCl6',\n",
       " 'A2GeBr6',\n",
       " 'A2GeI6',\n",
       " 'A2PdCl6',\n",
       " 'A2PdBr6',\n",
       " 'A2PdI6',\n",
       " 'A2SiCl6',\n",
       " 'A2SiBr6',\n",
       " 'A2SiI6',\n",
       " 'A2TiCl6',\n",
       " 'A2TiBr6',\n",
       " 'A2TiI6',\n",
       " 'A2VCl6',\n",
       " 'A2VBr6',\n",
       " 'A2VI6',\n",
       " 'A2CrCl6',\n",
       " 'A2CrBr6',\n",
       " 'A2CrI6',\n",
       " 'A2MnCl6',\n",
       " 'A2MnBr6',\n",
       " 'A2MnI6',\n",
       " 'A2FeCl6',\n",
       " 'A2FeBr6',\n",
       " 'A2FeI6',\n",
       " 'A2CoCl6',\n",
       " 'A2CoBr6',\n",
       " 'A2CoI6',\n",
       " 'A2NiCl6',\n",
       " 'A2NiBr6',\n",
       " 'A2NiI6',\n",
       " 'A2CuCl6',\n",
       " 'A2CuBr6',\n",
       " 'A2CuI6',\n",
       " 'A2SeCl6',\n",
       " 'A2SeBr6',\n",
       " 'A2SeI6',\n",
       " 'A2ZrCl6',\n",
       " 'A2ZrBr6',\n",
       " 'A2ZrI6',\n",
       " 'A2NbCl6',\n",
       " 'A2NbBr6',\n",
       " 'A2NbI6',\n",
       " 'A2MoCl6',\n",
       " 'A2MoBr6',\n",
       " 'A2MoI6',\n",
       " 'A2TcCl6',\n",
       " 'A2TcBr6',\n",
       " 'A2TcI6',\n",
       " 'A2RuCl6',\n",
       " 'A2RuBr6',\n",
       " 'A2RuI6',\n",
       " 'A2RhCl6',\n",
       " 'A2RhBr6',\n",
       " 'A2RhI6',\n",
       " 'A2PbCl6',\n",
       " 'A2PbBr6',\n",
       " 'A2PbI6',\n",
       " 'A2AgCl6',\n",
       " 'A2AgBr6',\n",
       " 'A2AgI6',\n",
       " 'A2SnCl6',\n",
       " 'A2SnBr6',\n",
       " 'A2SnI6',\n",
       " 'A2TeCl6',\n",
       " 'A2TeBr6',\n",
       " 'A2TeI6',\n",
       " 'A2HfCl6',\n",
       " 'A2HfBr6',\n",
       " 'A2HfI6',\n",
       " 'A2TaCl6',\n",
       " 'A2TaBr6',\n",
       " 'A2TaI6',\n",
       " 'A2WCl6',\n",
       " 'A2WBr6',\n",
       " 'A2WI6',\n",
       " 'A2ReCl6',\n",
       " 'A2ReBr6',\n",
       " 'A2ReI6',\n",
       " 'A2OsCl6',\n",
       " 'A2OsBr6',\n",
       " 'A2OsI6',\n",
       " 'A2IrCl6',\n",
       " 'A2IrBr6',\n",
       " 'A2IrI6',\n",
       " 'A2PtCl6',\n",
       " 'A2PtBr6',\n",
       " 'A2PtI6',\n",
       " 'A2HgCl6',\n",
       " 'A2HgBr6',\n",
       " 'A2HgI6']"
      ]
     },
     "execution_count": 6,
     "metadata": {},
     "output_type": "execute_result"
    }
   ],
   "source": [
    "index = 0\n",
    "for a in range(90):\n",
    "    A_label.append('A2'+label[index][1]+label[index][2]+'6')\n",
    "    for b in range(3):\n",
    "        A_trend[a][b] = value_eg[index+90*b]\n",
    "    index = index + 1\n",
    "A_label"
   ]
  },
  {
   "cell_type": "code",
   "execution_count": 7,
   "metadata": {
    "collapsed": false
   },
   "outputs": [],
   "source": [
    "for i in range(60,90):\n",
    "    if X_label[i] in ['Cs2SnX6', 'Cs2TeX6', 'Cs2PtX6']:\n",
    "        plt.plot(X_trend[i], '-o',label=X_label[i])\n",
    "plt.legend()\n",
    "plt.show()"
   ]
  },
  {
   "cell_type": "code",
   "execution_count": 9,
   "metadata": {
    "collapsed": false
   },
   "outputs": [],
   "source": [
    "for i in range(0,30):\n",
    "    j = (i+1)*3-1\n",
    "    if A_label[j] in ['A2SnI6', 'A2TeI6', 'A2PtI6']:\n",
    "        plt.plot(A_trend[j], '-o',label=A_label[j])\n",
    "plt.legend()\n",
    "plt.show()"
   ]
  },
  {
   "cell_type": "code",
   "execution_count": null,
   "metadata": {
    "collapsed": false
   },
   "outputs": [],
   "source": []
  },
  {
   "cell_type": "code",
   "execution_count": null,
   "metadata": {
    "collapsed": false
   },
   "outputs": [],
   "source": []
  }
 ],
 "metadata": {
  "kernelspec": {
   "display_name": "Python 2",
   "language": "python",
   "name": "python2"
  },
  "language_info": {
   "codemirror_mode": {
    "name": "ipython",
    "version": 2
   },
   "file_extension": ".py",
   "mimetype": "text/x-python",
   "name": "python",
   "nbconvert_exporter": "python",
   "pygments_lexer": "ipython2",
   "version": "2.7.9"
  }
 },
 "nbformat": 4,
 "nbformat_minor": 0
}
