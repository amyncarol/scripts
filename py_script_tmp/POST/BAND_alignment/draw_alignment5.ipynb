{
 "metadata": {
  "name": "",
  "signature": "sha256:bd542cfe6a1e7d6c6b984660baef14e8c61d75e86cb0f32d61e5644fb33dd72d"
 },
 "nbformat": 3,
 "nbformat_minor": 0,
 "worksheets": [
  {
   "cells": [
    {
     "cell_type": "code",
     "collapsed": false,
     "input": [
      "import numpy as np\n",
      "import matplotlib.pyplot as plt\n",
      "import re"
     ],
     "language": "python",
     "metadata": {},
     "outputs": [],
     "prompt_number": 4
    },
    {
     "cell_type": "code",
     "collapsed": false,
     "input": [
      "fig, ax = plt.subplots()\n",
      "data = []\n",
      "downlimit = -8\n",
      "uplimit = -3\n",
      "n_of_compounds = 26\n",
      "universal_bp = -4.5\n",
      "\n",
      "data = [['K2Pb1Cl6', -0.77, 0.11, 0.44],\n",
      "        ['Rb2Pb1Cl6', -0.92, -0.03, 0.39],\n",
      "        ['Cs2Pb1Cl6', -0.90, -0.02, 0.49],\n",
      "['K2Pb1Br6', -0.64, -0.18, -0.41],\n",
      "['Rb2Pb1Br6', -0.70, -0.24, -0.38],\n",
      "['Cs2Pb1Br6', -0.69, -0.20, -0.21],\n",
      "['K2Pb1I6', 1.04, 1.10, 1.05],\n",
      "['Rb2Pb1I6', 0.98, 1.04, 0.98],\n",
      "['Cs2Pb1I6', 1.12, 1.18, 1.12],\n",
      "['K2Sn1Cl6', -0.55, 0.96, 1.94],\n",
      "['Rb2Sn1Cl6', -0.72, 0.81, 1.84],\n",
      "['Cs2Sn1Cl6', -0.73, 0.82, 1.96],\n",
      "['K2Sn1Br6', -0.44, 0.50, 0.79],\n",
      "['Rb2Sn1Br6', -0.55, 0.40, 0.78],\n",
      "['Cs2Sn1Br6', -0.52, 0.46, 0.96],\n",
      "['K2Sn1I6', 1.19, 1.56, 1.26],\n",
      "['Rb2Sn1I6', 1.10, 1.48, 1.25],\n",
      "['Cs2Sn1I6', 1.10, 1.51, 1.39],\n",
      "['Rb2Ge1Cl6', -0.83, 0.43, 1.23],\n",
      "['Cs2Ge1Cl6', -0.88, 0.42, 1.34],\n",
      "['K2Ge1Br6', -0.53, 0.10, 0.14],\n",
      "['Rb2Ge1Br6', -0.65, 0.00, 0.13],\n",
      "['Cs2Ge1Br6', -0.63, 0.06, 0.31],\n",
      "['K2Ge1I6', 1.32, 1.38, 1.32],\n",
      "['Rb2Ge1I6', 1.13, 3.03, 1.13],\n",
      "['Cs2Ge1I6', 1.13, 3.07, 1.12]]\n",
      "\n",
      "for i in np.arange(len(data)):\n",
      "    offset = data[i][2]-universal_bp\n",
      "    ax.broken_barh([(i, 1)] , (downlimit, data[i][1]-offset-downlimit), facecolors='#95c4de')\n",
      "    ax.broken_barh([(i, 1)] , (data[i][3]-offset, uplimit-data[i][3]+offset), facecolors='#95c4de')\n",
      "    ax.text(i+0.3, data[i][1]-offset-0.6, data[i][0], fontdict=None, withdash=False, rotation='vertical')\n",
      "    \n",
      "line = plt.axhline(y=universal_bp, xmin=0, xmax=1, linewidth=2, color = 'k')\n",
      "line.set_dashes([6, 2])\n",
      "\n",
      "ax.set_ylim(downlimit,uplimit)\n",
      "ax.set_xlim(0, n_of_compounds)\n",
      "ax.set_ylabel('Energy(eV)')\n",
      "ax.set_xticks([])\n",
      "ax.set_yticks(np.arange(uplimit-downlimit+1)+downlimit)\n",
      "\n",
      "plt.show()"
     ],
     "language": "python",
     "metadata": {},
     "outputs": [],
     "prompt_number": 6
    },
    {
     "cell_type": "code",
     "collapsed": false,
     "input": [],
     "language": "python",
     "metadata": {},
     "outputs": []
    }
   ],
   "metadata": {}
  }
 ]
}